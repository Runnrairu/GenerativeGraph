{
 "cells": [
  {
   "cell_type": "code",
   "execution_count": 1,
   "metadata": {},
   "outputs": [
    {
     "name": "stderr",
     "output_type": "stream",
     "text": [
      "/root/miniconda3/lib/python3.6/site-packages/h5py/__init__.py:36: FutureWarning: Conversion of the second argument of issubdtype from `float` to `np.floating` is deprecated. In future, it will be treated as `np.float64 == np.dtype(float).type`.\n",
      "  from ._conv import register_converters as _register_converters\n"
     ]
    },
    {
     "data": {
      "text/html": [
       "\n",
       "    <div class=\"bk-root\">\n",
       "        <a href=\"https://bokeh.pydata.org\" target=\"_blank\" class=\"bk-logo bk-logo-small bk-logo-notebook\"></a>\n",
       "        <span id=\"cb976ee9-712a-41e2-a5ab-bb6a49e490ce\">Loading BokehJS ...</span>\n",
       "    </div>"
      ]
     },
     "metadata": {},
     "output_type": "display_data"
    },
    {
     "data": {
      "application/javascript": [
       "\n",
       "(function(root) {\n",
       "  function now() {\n",
       "    return new Date();\n",
       "  }\n",
       "\n",
       "  var force = true;\n",
       "\n",
       "  if (typeof (root._bokeh_onload_callbacks) === \"undefined\" || force === true) {\n",
       "    root._bokeh_onload_callbacks = [];\n",
       "    root._bokeh_is_loading = undefined;\n",
       "  }\n",
       "\n",
       "  var JS_MIME_TYPE = 'application/javascript';\n",
       "  var HTML_MIME_TYPE = 'text/html';\n",
       "  var EXEC_MIME_TYPE = 'application/vnd.bokehjs_exec.v0+json';\n",
       "  var CLASS_NAME = 'output_bokeh rendered_html';\n",
       "\n",
       "  /**\n",
       "   * Render data to the DOM node\n",
       "   */\n",
       "  function render(props, node) {\n",
       "    var script = document.createElement(\"script\");\n",
       "    node.appendChild(script);\n",
       "  }\n",
       "\n",
       "  /**\n",
       "   * Handle when an output is cleared or removed\n",
       "   */\n",
       "  function handleClearOutput(event, handle) {\n",
       "    var cell = handle.cell;\n",
       "\n",
       "    var id = cell.output_area._bokeh_element_id;\n",
       "    var server_id = cell.output_area._bokeh_server_id;\n",
       "    // Clean up Bokeh references\n",
       "    if (id !== undefined) {\n",
       "      Bokeh.index[id].model.document.clear();\n",
       "      delete Bokeh.index[id];\n",
       "    }\n",
       "\n",
       "    if (server_id !== undefined) {\n",
       "      // Clean up Bokeh references\n",
       "      var cmd = \"from bokeh.io.state import curstate; print(curstate().uuid_to_server['\" + server_id + \"'].get_sessions()[0].document.roots[0]._id)\";\n",
       "      cell.notebook.kernel.execute(cmd, {\n",
       "        iopub: {\n",
       "          output: function(msg) {\n",
       "            var element_id = msg.content.text.trim();\n",
       "            Bokeh.index[element_id].model.document.clear();\n",
       "            delete Bokeh.index[element_id];\n",
       "          }\n",
       "        }\n",
       "      });\n",
       "      // Destroy server and session\n",
       "      var cmd = \"import bokeh.io.notebook as ion; ion.destroy_server('\" + server_id + \"')\";\n",
       "      cell.notebook.kernel.execute(cmd);\n",
       "    }\n",
       "  }\n",
       "\n",
       "  /**\n",
       "   * Handle when a new output is added\n",
       "   */\n",
       "  function handleAddOutput(event, handle) {\n",
       "    var output_area = handle.output_area;\n",
       "    var output = handle.output;\n",
       "\n",
       "    // limit handleAddOutput to display_data with EXEC_MIME_TYPE content only\n",
       "    if ((output.output_type != \"display_data\") || (!output.data.hasOwnProperty(EXEC_MIME_TYPE))) {\n",
       "      return\n",
       "    }\n",
       "\n",
       "    var toinsert = output_area.element.find(\".\" + CLASS_NAME.split(' ')[0]);\n",
       "\n",
       "    if (output.metadata[EXEC_MIME_TYPE][\"id\"] !== undefined) {\n",
       "      toinsert[toinsert.length - 1].firstChild.textContent = output.data[JS_MIME_TYPE];\n",
       "      // store reference to embed id on output_area\n",
       "      output_area._bokeh_element_id = output.metadata[EXEC_MIME_TYPE][\"id\"];\n",
       "    }\n",
       "    if (output.metadata[EXEC_MIME_TYPE][\"server_id\"] !== undefined) {\n",
       "      var bk_div = document.createElement(\"div\");\n",
       "      bk_div.innerHTML = output.data[HTML_MIME_TYPE];\n",
       "      var script_attrs = bk_div.children[0].attributes;\n",
       "      for (var i = 0; i < script_attrs.length; i++) {\n",
       "        toinsert[toinsert.length - 1].firstChild.setAttribute(script_attrs[i].name, script_attrs[i].value);\n",
       "      }\n",
       "      // store reference to server id on output_area\n",
       "      output_area._bokeh_server_id = output.metadata[EXEC_MIME_TYPE][\"server_id\"];\n",
       "    }\n",
       "  }\n",
       "\n",
       "  function register_renderer(events, OutputArea) {\n",
       "\n",
       "    function append_mime(data, metadata, element) {\n",
       "      // create a DOM node to render to\n",
       "      var toinsert = this.create_output_subarea(\n",
       "        metadata,\n",
       "        CLASS_NAME,\n",
       "        EXEC_MIME_TYPE\n",
       "      );\n",
       "      this.keyboard_manager.register_events(toinsert);\n",
       "      // Render to node\n",
       "      var props = {data: data, metadata: metadata[EXEC_MIME_TYPE]};\n",
       "      render(props, toinsert[toinsert.length - 1]);\n",
       "      element.append(toinsert);\n",
       "      return toinsert\n",
       "    }\n",
       "\n",
       "    /* Handle when an output is cleared or removed */\n",
       "    events.on('clear_output.CodeCell', handleClearOutput);\n",
       "    events.on('delete.Cell', handleClearOutput);\n",
       "\n",
       "    /* Handle when a new output is added */\n",
       "    events.on('output_added.OutputArea', handleAddOutput);\n",
       "\n",
       "    /**\n",
       "     * Register the mime type and append_mime function with output_area\n",
       "     */\n",
       "    OutputArea.prototype.register_mime_type(EXEC_MIME_TYPE, append_mime, {\n",
       "      /* Is output safe? */\n",
       "      safe: true,\n",
       "      /* Index of renderer in `output_area.display_order` */\n",
       "      index: 0\n",
       "    });\n",
       "  }\n",
       "\n",
       "  // register the mime type if in Jupyter Notebook environment and previously unregistered\n",
       "  if (root.Jupyter !== undefined) {\n",
       "    var events = require('base/js/events');\n",
       "    var OutputArea = require('notebook/js/outputarea').OutputArea;\n",
       "\n",
       "    if (OutputArea.prototype.mime_types().indexOf(EXEC_MIME_TYPE) == -1) {\n",
       "      register_renderer(events, OutputArea);\n",
       "    }\n",
       "  }\n",
       "\n",
       "  \n",
       "  if (typeof (root._bokeh_timeout) === \"undefined\" || force === true) {\n",
       "    root._bokeh_timeout = Date.now() + 5000;\n",
       "    root._bokeh_failed_load = false;\n",
       "  }\n",
       "\n",
       "  var NB_LOAD_WARNING = {'data': {'text/html':\n",
       "     \"<div style='background-color: #fdd'>\\n\"+\n",
       "     \"<p>\\n\"+\n",
       "     \"BokehJS does not appear to have successfully loaded. If loading BokehJS from CDN, this \\n\"+\n",
       "     \"may be due to a slow or bad network connection. Possible fixes:\\n\"+\n",
       "     \"</p>\\n\"+\n",
       "     \"<ul>\\n\"+\n",
       "     \"<li>re-rerun `output_notebook()` to attempt to load from CDN again, or</li>\\n\"+\n",
       "     \"<li>use INLINE resources instead, as so:</li>\\n\"+\n",
       "     \"</ul>\\n\"+\n",
       "     \"<code>\\n\"+\n",
       "     \"from bokeh.resources import INLINE\\n\"+\n",
       "     \"output_notebook(resources=INLINE)\\n\"+\n",
       "     \"</code>\\n\"+\n",
       "     \"</div>\"}};\n",
       "\n",
       "  function display_loaded() {\n",
       "    var el = document.getElementById(\"cb976ee9-712a-41e2-a5ab-bb6a49e490ce\");\n",
       "    if (el != null) {\n",
       "      el.textContent = \"BokehJS is loading...\";\n",
       "    }\n",
       "    if (root.Bokeh !== undefined) {\n",
       "      if (el != null) {\n",
       "        el.textContent = \"BokehJS \" + root.Bokeh.version + \" successfully loaded.\";\n",
       "      }\n",
       "    } else if (Date.now() < root._bokeh_timeout) {\n",
       "      setTimeout(display_loaded, 100)\n",
       "    }\n",
       "  }\n",
       "\n",
       "\n",
       "  function run_callbacks() {\n",
       "    try {\n",
       "      root._bokeh_onload_callbacks.forEach(function(callback) { callback() });\n",
       "    }\n",
       "    finally {\n",
       "      delete root._bokeh_onload_callbacks\n",
       "    }\n",
       "    console.info(\"Bokeh: all callbacks have finished\");\n",
       "  }\n",
       "\n",
       "  function load_libs(js_urls, callback) {\n",
       "    root._bokeh_onload_callbacks.push(callback);\n",
       "    if (root._bokeh_is_loading > 0) {\n",
       "      console.log(\"Bokeh: BokehJS is being loaded, scheduling callback at\", now());\n",
       "      return null;\n",
       "    }\n",
       "    if (js_urls == null || js_urls.length === 0) {\n",
       "      run_callbacks();\n",
       "      return null;\n",
       "    }\n",
       "    console.log(\"Bokeh: BokehJS not loaded, scheduling load and callback at\", now());\n",
       "    root._bokeh_is_loading = js_urls.length;\n",
       "    for (var i = 0; i < js_urls.length; i++) {\n",
       "      var url = js_urls[i];\n",
       "      var s = document.createElement('script');\n",
       "      s.src = url;\n",
       "      s.async = false;\n",
       "      s.onreadystatechange = s.onload = function() {\n",
       "        root._bokeh_is_loading--;\n",
       "        if (root._bokeh_is_loading === 0) {\n",
       "          console.log(\"Bokeh: all BokehJS libraries loaded\");\n",
       "          run_callbacks()\n",
       "        }\n",
       "      };\n",
       "      s.onerror = function() {\n",
       "        console.warn(\"failed to load library \" + url);\n",
       "      };\n",
       "      console.log(\"Bokeh: injecting script tag for BokehJS library: \", url);\n",
       "      document.getElementsByTagName(\"head\")[0].appendChild(s);\n",
       "    }\n",
       "  };var element = document.getElementById(\"cb976ee9-712a-41e2-a5ab-bb6a49e490ce\");\n",
       "  if (element == null) {\n",
       "    console.log(\"Bokeh: ERROR: autoload.js configured with elementid 'cb976ee9-712a-41e2-a5ab-bb6a49e490ce' but no matching script tag was found. \")\n",
       "    return false;\n",
       "  }\n",
       "\n",
       "  var js_urls = [\"https://cdn.pydata.org/bokeh/release/bokeh-0.12.15.min.js\", \"https://cdn.pydata.org/bokeh/release/bokeh-widgets-0.12.15.min.js\", \"https://cdn.pydata.org/bokeh/release/bokeh-tables-0.12.15.min.js\", \"https://cdn.pydata.org/bokeh/release/bokeh-gl-0.12.15.min.js\"];\n",
       "\n",
       "  var inline_js = [\n",
       "    function(Bokeh) {\n",
       "      Bokeh.set_log_level(\"info\");\n",
       "    },\n",
       "    \n",
       "    function(Bokeh) {\n",
       "      \n",
       "    },\n",
       "    function(Bokeh) {\n",
       "      console.log(\"Bokeh: injecting CSS: https://cdn.pydata.org/bokeh/release/bokeh-0.12.15.min.css\");\n",
       "      Bokeh.embed.inject_css(\"https://cdn.pydata.org/bokeh/release/bokeh-0.12.15.min.css\");\n",
       "      console.log(\"Bokeh: injecting CSS: https://cdn.pydata.org/bokeh/release/bokeh-widgets-0.12.15.min.css\");\n",
       "      Bokeh.embed.inject_css(\"https://cdn.pydata.org/bokeh/release/bokeh-widgets-0.12.15.min.css\");\n",
       "      console.log(\"Bokeh: injecting CSS: https://cdn.pydata.org/bokeh/release/bokeh-tables-0.12.15.min.css\");\n",
       "      Bokeh.embed.inject_css(\"https://cdn.pydata.org/bokeh/release/bokeh-tables-0.12.15.min.css\");\n",
       "    }\n",
       "  ];\n",
       "\n",
       "  function run_inline_js() {\n",
       "    \n",
       "    if ((root.Bokeh !== undefined) || (force === true)) {\n",
       "      for (var i = 0; i < inline_js.length; i++) {\n",
       "        inline_js[i].call(root, root.Bokeh);\n",
       "      }if (force === true) {\n",
       "        display_loaded();\n",
       "      }} else if (Date.now() < root._bokeh_timeout) {\n",
       "      setTimeout(run_inline_js, 100);\n",
       "    } else if (!root._bokeh_failed_load) {\n",
       "      console.log(\"Bokeh: BokehJS failed to load within specified timeout.\");\n",
       "      root._bokeh_failed_load = true;\n",
       "    } else if (force !== true) {\n",
       "      var cell = $(document.getElementById(\"cb976ee9-712a-41e2-a5ab-bb6a49e490ce\")).parents('.cell').data().cell;\n",
       "      cell.output_area.append_execute_result(NB_LOAD_WARNING)\n",
       "    }\n",
       "\n",
       "  }\n",
       "\n",
       "  if (root._bokeh_is_loading === 0) {\n",
       "    console.log(\"Bokeh: BokehJS loaded, going straight to plotting\");\n",
       "    run_inline_js();\n",
       "  } else {\n",
       "    load_libs(js_urls, function() {\n",
       "      console.log(\"Bokeh: BokehJS plotting callback run at\", now());\n",
       "      run_inline_js();\n",
       "    });\n",
       "  }\n",
       "}(window));"
      ],
      "application/vnd.bokehjs_load.v0+json": "\n(function(root) {\n  function now() {\n    return new Date();\n  }\n\n  var force = true;\n\n  if (typeof (root._bokeh_onload_callbacks) === \"undefined\" || force === true) {\n    root._bokeh_onload_callbacks = [];\n    root._bokeh_is_loading = undefined;\n  }\n\n  \n\n  \n  if (typeof (root._bokeh_timeout) === \"undefined\" || force === true) {\n    root._bokeh_timeout = Date.now() + 5000;\n    root._bokeh_failed_load = false;\n  }\n\n  var NB_LOAD_WARNING = {'data': {'text/html':\n     \"<div style='background-color: #fdd'>\\n\"+\n     \"<p>\\n\"+\n     \"BokehJS does not appear to have successfully loaded. If loading BokehJS from CDN, this \\n\"+\n     \"may be due to a slow or bad network connection. Possible fixes:\\n\"+\n     \"</p>\\n\"+\n     \"<ul>\\n\"+\n     \"<li>re-rerun `output_notebook()` to attempt to load from CDN again, or</li>\\n\"+\n     \"<li>use INLINE resources instead, as so:</li>\\n\"+\n     \"</ul>\\n\"+\n     \"<code>\\n\"+\n     \"from bokeh.resources import INLINE\\n\"+\n     \"output_notebook(resources=INLINE)\\n\"+\n     \"</code>\\n\"+\n     \"</div>\"}};\n\n  function display_loaded() {\n    var el = document.getElementById(\"cb976ee9-712a-41e2-a5ab-bb6a49e490ce\");\n    if (el != null) {\n      el.textContent = \"BokehJS is loading...\";\n    }\n    if (root.Bokeh !== undefined) {\n      if (el != null) {\n        el.textContent = \"BokehJS \" + root.Bokeh.version + \" successfully loaded.\";\n      }\n    } else if (Date.now() < root._bokeh_timeout) {\n      setTimeout(display_loaded, 100)\n    }\n  }\n\n\n  function run_callbacks() {\n    try {\n      root._bokeh_onload_callbacks.forEach(function(callback) { callback() });\n    }\n    finally {\n      delete root._bokeh_onload_callbacks\n    }\n    console.info(\"Bokeh: all callbacks have finished\");\n  }\n\n  function load_libs(js_urls, callback) {\n    root._bokeh_onload_callbacks.push(callback);\n    if (root._bokeh_is_loading > 0) {\n      console.log(\"Bokeh: BokehJS is being loaded, scheduling callback at\", now());\n      return null;\n    }\n    if (js_urls == null || js_urls.length === 0) {\n      run_callbacks();\n      return null;\n    }\n    console.log(\"Bokeh: BokehJS not loaded, scheduling load and callback at\", now());\n    root._bokeh_is_loading = js_urls.length;\n    for (var i = 0; i < js_urls.length; i++) {\n      var url = js_urls[i];\n      var s = document.createElement('script');\n      s.src = url;\n      s.async = false;\n      s.onreadystatechange = s.onload = function() {\n        root._bokeh_is_loading--;\n        if (root._bokeh_is_loading === 0) {\n          console.log(\"Bokeh: all BokehJS libraries loaded\");\n          run_callbacks()\n        }\n      };\n      s.onerror = function() {\n        console.warn(\"failed to load library \" + url);\n      };\n      console.log(\"Bokeh: injecting script tag for BokehJS library: \", url);\n      document.getElementsByTagName(\"head\")[0].appendChild(s);\n    }\n  };var element = document.getElementById(\"cb976ee9-712a-41e2-a5ab-bb6a49e490ce\");\n  if (element == null) {\n    console.log(\"Bokeh: ERROR: autoload.js configured with elementid 'cb976ee9-712a-41e2-a5ab-bb6a49e490ce' but no matching script tag was found. \")\n    return false;\n  }\n\n  var js_urls = [\"https://cdn.pydata.org/bokeh/release/bokeh-0.12.15.min.js\", \"https://cdn.pydata.org/bokeh/release/bokeh-widgets-0.12.15.min.js\", \"https://cdn.pydata.org/bokeh/release/bokeh-tables-0.12.15.min.js\", \"https://cdn.pydata.org/bokeh/release/bokeh-gl-0.12.15.min.js\"];\n\n  var inline_js = [\n    function(Bokeh) {\n      Bokeh.set_log_level(\"info\");\n    },\n    \n    function(Bokeh) {\n      \n    },\n    function(Bokeh) {\n      console.log(\"Bokeh: injecting CSS: https://cdn.pydata.org/bokeh/release/bokeh-0.12.15.min.css\");\n      Bokeh.embed.inject_css(\"https://cdn.pydata.org/bokeh/release/bokeh-0.12.15.min.css\");\n      console.log(\"Bokeh: injecting CSS: https://cdn.pydata.org/bokeh/release/bokeh-widgets-0.12.15.min.css\");\n      Bokeh.embed.inject_css(\"https://cdn.pydata.org/bokeh/release/bokeh-widgets-0.12.15.min.css\");\n      console.log(\"Bokeh: injecting CSS: https://cdn.pydata.org/bokeh/release/bokeh-tables-0.12.15.min.css\");\n      Bokeh.embed.inject_css(\"https://cdn.pydata.org/bokeh/release/bokeh-tables-0.12.15.min.css\");\n    }\n  ];\n\n  function run_inline_js() {\n    \n    if ((root.Bokeh !== undefined) || (force === true)) {\n      for (var i = 0; i < inline_js.length; i++) {\n        inline_js[i].call(root, root.Bokeh);\n      }if (force === true) {\n        display_loaded();\n      }} else if (Date.now() < root._bokeh_timeout) {\n      setTimeout(run_inline_js, 100);\n    } else if (!root._bokeh_failed_load) {\n      console.log(\"Bokeh: BokehJS failed to load within specified timeout.\");\n      root._bokeh_failed_load = true;\n    } else if (force !== true) {\n      var cell = $(document.getElementById(\"cb976ee9-712a-41e2-a5ab-bb6a49e490ce\")).parents('.cell').data().cell;\n      cell.output_area.append_execute_result(NB_LOAD_WARNING)\n    }\n\n  }\n\n  if (root._bokeh_is_loading === 0) {\n    console.log(\"Bokeh: BokehJS loaded, going straight to plotting\");\n    run_inline_js();\n  } else {\n    load_libs(js_urls, function() {\n      console.log(\"Bokeh: BokehJS plotting callback run at\", now());\n      run_inline_js();\n    });\n  }\n}(window));"
     },
     "metadata": {},
     "output_type": "display_data"
    }
   ],
   "source": [
    "from __future__ import print_function\n",
    "from __future__ import division\n",
    "from __future__ import unicode_literals\n",
    "\n",
    "import math\n",
    "\n",
    "import torch\n",
    "from torch import tensor\n",
    "import torch.optim as optim\n",
    "from torch import autograd\n",
    "import torch.utils.data as D\n",
    "from torch.autograd import Variable\n",
    "import torch.nn as nn\n",
    "import torch.nn.functional as F\n",
    "from torch.distributions import Categorical\n",
    "from torch.distributions import Bernoulli\n",
    "\n",
    "import numpy as np\n",
    "import pandas as pd\n",
    "\n",
    "from sklearn.model_selection import train_test_split\n",
    "from sklearn.metrics import classification_report, roc_auc_score, precision_recall_curve, auc, roc_curve\n",
    "import rdkit\n",
    "from rdkit import Chem\n",
    "\n",
    "import math\n",
    "from tqdm import tqdm_notebook as tqdm\n",
    "from itertools import chain\n",
    "\n",
    "from IPython.display import clear_output\n",
    "from ipywidgets import interact\n",
    "from bokeh.models import ColumnDataSource\n",
    "from bokeh.layouts import column, row\n",
    "from bokeh.io import push_notebook, show, output_notebook\n",
    "from bokeh.plotting import figure\n",
    "\n",
    "import deepchem as dc\n",
    "from deepchem.molnet import load_tox21\n",
    "\n",
    "import h5py\n",
    "import os\n",
    "\n",
    "output_notebook()\n",
    "\n",
    "use_cuda = torch.cuda.is_available()\n",
    "if use_cuda:\n",
    "    torch.set_default_tensor_type('torch.cuda.FloatTensor')\n",
    "torch.manual_seed(123)\n",
    "torch.cuda.manual_seed_all(123)\n",
    "np.random.seed(123)"
   ]
  },
  {
   "cell_type": "code",
   "execution_count": 17,
   "metadata": {
    "scrolled": false
   },
   "outputs": [],
   "source": [
    "class Model(nn.Module):\n",
    "    def __init__(self, feat_size, N_Max_atom, parts, T):\n",
    "        super(Model, self).__init__()\n",
    "        self.N_Max_atom = N_Max_atom\n",
    "        self.parts = parts\n",
    "        self.T = T\n",
    "        self.feat_size = feat_size\n",
    "        self.E_atom = nn.Embedding(1 + len(self.parts[0]), feat_size, padding_idx=0)\n",
    "        self.E_bond = nn.Embedding(1 + len(self.parts[1]), feat_size, padding_idx=0)\n",
    "        self.E_pair = nn.Embedding(1 + len(self.parts[2]), feat_size, padding_idx=0)\n",
    "        \n",
    "        #f_an\n",
    "        \n",
    "        self.f_e_an = nn.ModuleList([nn.Linear(3*feat_size, 3*feat_size*2) for _ in range(self.T)])\n",
    "        self.f_n_an = nn.ModuleList([nn.GRUCell(3*feat_size*2, feat_size) for _ in range(self.T)])\n",
    "        \n",
    "        self.f_m_an = nn.Linear(feat_size, feat_size*2)\n",
    "        self.g_m_an = nn.Linear(feat_size, 1)\n",
    "        \n",
    "        self.f_an = nn.Linear(feat_size*2, 1+len(self.parts[0]))\n",
    "        \n",
    "        #hv initialize\n",
    "        self.f_m_init = nn.Linear(feat_size, feat_size*2)\n",
    "        self.g_m_init = nn.Linear(feat_size, 1)\n",
    "        \n",
    "        self.f_init = nn.Linear(feat_size + feat_size*2, feat_size)\n",
    "        \n",
    "        #f_ae\n",
    "        \n",
    "        self.f_e_ae = nn.ModuleList([nn.Linear(3*feat_size, 3*feat_size*2) for _ in range(self.T)])\n",
    "        self.f_n_ae = nn.ModuleList([nn.GRUCell(3*feat_size*2, feat_size) for _ in range(self.T)])\n",
    "        \n",
    "        self.f_m_ae = nn.Linear(feat_size, feat_size*2)\n",
    "        self.g_m_ae = nn.Linear(feat_size, 1)\n",
    "        \n",
    "        self.f_ae = nn.Linear(feat_size*2, 1)\n",
    "        \n",
    "        #f_s\n",
    "        \n",
    "        self.f_e_s = nn.ModuleList([nn.Linear(3*feat_size, 3*feat_size*2) for _ in range(self.T)])\n",
    "        self.f_n_s = nn.ModuleList([nn.GRUCell(3*feat_size*2, feat_size) for _ in range(self.T)])\n",
    "        \n",
    "        self.f_s = nn.Linear(feat_size*2, 1+len(self.parts[1]))\n",
    "        \n",
    "        \n",
    "    def forward(self, hdf, start, end):\n",
    "        #adj_mat = torch.from_numpy(hdf['adjacent'][start:end])[:,0,:]\n",
    "        node_index = torch.from_numpy(hdf['initmol'][start:end])[:,0].view(-1,1).long()\n",
    "        #edge_index = torch.from_numpy(hdf['bond'][start:end])[:,0,:].long()\n",
    "        \n",
    "        if use_cuda:\n",
    "            #adj_mat = adj_mat.cuda()\n",
    "            node_index = node_index.cuda()\n",
    "            #edge_index = edge_index.cuda()\n",
    "            \n",
    "            \n",
    "        emb_node = self.E_atom(node_index)\n",
    "        edge_index = torch.zeros(len(emb_node), 1, self.N_Max_atom)\n",
    "        emb_edge = torch.zeros(len(emb_node), 1, self.N_Max_atom, self.feat_size)\n",
    "        adj_mat = torch.zeros(len(emb_node), 1, self.N_Max_atom)\n",
    "        h_v = torch.randn(emb_node.size())\n",
    "        \n",
    "        h_v = self.h_v_init(h_v, emb_node, self.f_m_init, self.g_m_init, self.f_init)\n",
    "\n",
    "        h_G = self.propagation(h_v, emb_edge, adj_mat, \n",
    "                               self.f_e_an, self.f_n_an, self.f_m_an, self.g_m_an)\n",
    "        p_addnode = F.softmax(self.f_an(h_G),dim=-1)\n",
    "        \n",
    "        DC = Categorical(p_addnode)\n",
    "        v_new_index = DC.sample()\n",
    "        node_index = torch.log(node_index.float())\n",
    "        node_index = torch.cat((node_index,DC.log_prob(v_new_index).view(-1,1)),1)\n",
    "        check_node = (v_new_index.view(-1,1) != 0).float()\n",
    "        \n",
    "        position = 1\n",
    "        while torch.sum(check_node) != 0 and position < self.N_Max_atom -1:\n",
    "            #print('atom position')\n",
    "            #print(position)\n",
    "            emb_new_node = self.E_atom(v_new_index.view(-1,1))\n",
    "            v_new = self.h_v_init(h_v,emb_new_node,self.f_m_init,self.g_m_init,self.f_init)\n",
    "            \n",
    "            h_v = torch.cat((h_v,v_new),1)\n",
    "            \n",
    "            emb_edge = torch.cat((emb_edge, torch.zeros(emb_edge.size(0),1,emb_edge.size(2),emb_edge.size(3))),1)\n",
    "            edge_index = torch.cat((edge_index, torch.zeros(len(h_v), 1, self.N_Max_atom)), 1)\n",
    "            adj_mat = torch.cat((adj_mat, torch.zeros(adj_mat.size(0), 1, adj_mat.size(2))), 1)\n",
    "            \n",
    "            h_G = self.propagation(h_v,emb_edge,adj_mat,self.f_e_ae,self.f_n_ae,self.f_m_ae,self.g_m_ae)\n",
    "            \n",
    "            p_addedge = F.softmax(self.f_ae(h_G),dim=-1)\n",
    "            DB = Bernoulli(p_addedge)\n",
    "            z_t = DB.sample().view(-1,1)\n",
    "            check_edge = torch.mul(z_t, check_node)            \n",
    "            check_edge_s = torch.ones(h_v.size(0),h_v.size(1),1)\n",
    "            limit = 15\n",
    "            count = 0\n",
    "            while torch.sum(check_edge) != 0 and torch.sum(check_edge_s) != 0 and count<limit:\n",
    "                h_u_T = self.prop_only(h_v,emb_edge,adj_mat,self.f_e_s,self.f_n_s)\n",
    "                h_v_T = torch.cat([h_u_T[:,-1,:].view(len(h_u_T),1,-1)for _ in range(h_u_T.size(1))],1)\n",
    "                \n",
    "                p_nodes = F.softmax(self.f_s(torch.cat((h_u_T,h_v_T),2).view(-1,h_u_T.size(2)*2)),dim=1).view(h_u_T.size(0), h_u_T.size(1), -1)\n",
    "                DC_edge = Categorical(p_nodes)\n",
    "                edge_new_index = DC_edge.sample().view(h_u_T.size(0), h_u_T.size(1), -1).float()\n",
    "                check_edge_s_cdt = (edge_new_index == 0).float().view(h_u_T.size(0), h_u_T.size(1), -1)\n",
    "                edge_new_index =  torch.mul(edge_new_index, check_edge.view(-1, 1, 1))\n",
    "                edge_new_index =  torch.mul(edge_new_index, check_edge_s)\n",
    "                \n",
    "                edge_index = edge_index.clone()\n",
    "                \n",
    "                edge_index[:,:,position] = edge_new_index.view(-1,edge_new_index.size(1))\n",
    "                edge_index[:,position,:position+1] = edge_new_index.view(-1,edge_new_index.size(1))\n",
    "                emb_edge = self.E_bond(edge_index.long())\n",
    "\n",
    "                adj_mat = adj_mat.clone()\n",
    "                adj_sub = edge_new_index != 0\n",
    "                adj_mat[:,:,position] = adj_sub.long().view(-1,adj_sub.size(1))\n",
    "                adj_mat[:,position,:position+1] = adj_sub.long().view(-1,adj_sub.size(1))\n",
    "                \n",
    "\n",
    "                h_G = self.propagation(h_v,emb_edge,adj_mat,self.f_e_ae,self.f_n_ae,self.f_m_ae,self.g_m_ae)\n",
    "\n",
    "                p_addedge = F.softmax(self.f_ae(h_G),dim=-1)\n",
    "                z_t = Bernoulli(p_addedge).sample().view(-1,1)\n",
    "                check_edge = torch.mul(z_t, check_edge)\n",
    "                check_edge_s = torch.mul(check_edge_s, check_edge_s_cdt)\n",
    "                #print('check_edge')\n",
    "                #print(torch.sum(check_edge))\n",
    "                #print('check_edge_s')\n",
    "                #print(torch.sum(check_edge_s))\n",
    "                count +=1\n",
    "            position += 1\n",
    "            h_G = self.propagation(h_v,emb_edge,adj_mat,self.f_e_ae,self.f_n_ae,self.f_m_ae,self.g_m_ae)\n",
    "            p_addnode = F.softmax(self.f_an(h_G),dim=-1)\n",
    "            DC = Categorical(p_addnode)\n",
    "            v_new_index = DC.sample()\n",
    "            node_index = torch.cat((node_index,DC.log_prob(v_new_index).view(-1,1)),1)\n",
    "            check_node = (v_new_index.view(-1,1) != 0).float()\n",
    "            #print('sum of check_node')\n",
    "            #print(torch.sum(check_node))\n",
    "        if node_index.size(1) < self.N_Max_atom:\n",
    "            adjust =torch.zeros(node_index.size(0),self.N_Max_atom - node_index.size(1))\n",
    "            node_index = torch.cat((node_index.float(),adjust),1)\n",
    "        else:\n",
    "            pass\n",
    "        return node_index.float(), edge_index\n",
    "    \n",
    "    def propagation(self, h_v, edge, adj, f_e, f_n, f_m, g_m):\n",
    "        for T in range(self.T):\n",
    "            for t in range(len(h_v[0])):\n",
    "                if t==0:\n",
    "                    neighbor = torch.mul(h_v, adj[:,t,:h_v.size(1)].view(-1, h_v.size(1), 1))\n",
    "                    watch = torch.mul(h_v[:,t,:].view(-1,1,h_v.size(2)), adj[:,t,:h_v.size(1)].view(-1, h_v.size(1), 1))\n",
    "                    m_u_v = f_e[T](torch.cat((neighbor,watch,edge[:,t,:h_v.size(1)]),2).view(neighbor.size(0)*neighbor.size(1), -1))\n",
    "                    m_u_v = torch.sum(m_u_v.view(neighbor.size(0), neighbor.size(1),-1),1,keepdim=True)\n",
    "                    m_v_u = f_e[T](torch.cat((watch,neighbor,edge[:,t,:h_v.size(1)]),2).view(neighbor.size(0)*neighbor.size(1), -1))\n",
    "                    m_v_u = torch.sum(m_v_u.view(neighbor.size(0), neighbor.size(1), -1),1,keepdim=True)\n",
    "                    a_v = m_u_v + m_v_u\n",
    "                    \n",
    "                else:\n",
    "                    neighbor = torch.mul(h_v, adj[:,t,:h_v.size(1)].view(-1, h_v.size(1), 1))\n",
    "                    watch = torch.mul(h_v[:,t,:].view(-1,1,h_v.size(2)), adj[:,t,:h_v.size(1)].view(-1, h_v.size(1), 1))\n",
    "                    m_u_v = f_e[T](torch.cat((neighbor,watch,edge[:,t,:h_v.size(1)]),2).view(neighbor.size(0)*neighbor.size(1), -1))\n",
    "                    m_u_v = torch.sum(m_u_v.view(neighbor.size(0), neighbor.size(1),-1),1,keepdim=True)\n",
    "                    m_v_u = f_e[T](torch.cat((watch,neighbor,edge[:,t,:h_v.size(1)]),2).view(neighbor.size(0)*neighbor.size(1), -1))\n",
    "                    m_v_u = torch.sum(m_v_u.view(neighbor.size(0), neighbor.size(1), -1),1,keepdim=True)\n",
    "                    a_t = m_u_v + m_v_u\n",
    "                    a_v = torch.cat((a_v,a_t),1) \n",
    "            \n",
    "            h_v = f_n[T](a_v.view(-1,a_v.size(2)), h_v.view(-1, h_v.size(2))).view(h_v.size(0), h_v.size(1), -1)\n",
    "        \n",
    "        h_v_g = f_m(h_v.view(h_v.size(0)* h_v.size(1), -1))\n",
    "        g_v = F.sigmoid(g_m(h_v)).view(-1,1)\n",
    "        h_G = torch.sum(torch.mul(g_v,h_v_g).view(h_v.size(0),h_v.size(1),-1),1,keepdim=False)\n",
    "        \n",
    "        return h_G\n",
    "    \n",
    "    def prop_only(self, h_v, edge, adj, f_e, f_n):\n",
    "        for T in range(self.T):\n",
    "            for t in range(len(h_v[0])):\n",
    "                if t==0:\n",
    "                    neighbor = torch.mul(h_v, adj[:,t,:h_v.size(1)].view(-1, h_v.size(1), 1))\n",
    "                    watch = torch.mul(h_v[:,t,:].view(-1,1,h_v.size(2)), adj[:,t,:h_v.size(1)].view(-1, h_v.size(1), 1))\n",
    "                    m_u_v = f_e[T](torch.cat((neighbor,watch,edge[:,t,:h_v.size(1)]),2).view(neighbor.size(0)*neighbor.size(1), -1))\n",
    "                    m_u_v = torch.sum(m_u_v.view(neighbor.size(0), neighbor.size(1),-1),1,keepdim=True)\n",
    "                    m_v_u = f_e[T](torch.cat((watch,neighbor,edge[:,t,:h_v.size(1)]),2).view(neighbor.size(0)*neighbor.size(1), -1))\n",
    "                    m_v_u = torch.sum(m_v_u.view(neighbor.size(0), neighbor.size(1), -1),1,keepdim=True)\n",
    "                    a_v = m_u_v + m_v_u\n",
    "                    \n",
    "                else:\n",
    "                    neighbor = torch.mul(h_v, adj[:,t,:h_v.size(1)].view(-1, h_v.size(1), 1))\n",
    "                    watch = torch.mul(h_v[:,t,:].view(-1,1,h_v.size(2)), adj[:,t,:h_v.size(1)].view(-1, h_v.size(1), 1))\n",
    "                    m_u_v = f_e[T](torch.cat((neighbor,watch,edge[:,t,:h_v.size(1)]),2).view(neighbor.size(0)*neighbor.size(1), -1))\n",
    "                    m_u_v = torch.sum(m_u_v.view(neighbor.size(0), neighbor.size(1),-1),1,keepdim=True)\n",
    "                    m_v_u = f_e[T](torch.cat((watch,neighbor,edge[:,t,:h_v.size(1)]),2).view(neighbor.size(0)*neighbor.size(1), -1))\n",
    "                    m_v_u = torch.sum(m_v_u.view(neighbor.size(0), neighbor.size(1), -1),1,keepdim=True)\n",
    "                    a_t = m_u_v + m_v_u\n",
    "                    a_v = torch.cat((a_v,a_t),1) \n",
    "            \n",
    "            h_v = f_n[T](a_v.view(-1,a_v.size(2)), h_v.view(-1, h_v.size(2))).view(h_v.size(0), h_v.size(1), -1)\n",
    "            \n",
    "        return h_v\n",
    "    \n",
    "    def h_v_init(self, h_v,e, f_m, g_m, f_init):\n",
    "        h_v_g_init = f_m(h_v.view(-1 , h_v.size(2)))\n",
    "        g_v_init = F.sigmoid(g_m(h_v)).view(-1, 1)\n",
    "        h_G_init = torch.sum(torch.mul(g_v_init, h_v_g_init).view(h_v.size(0), h_v.size(1), -1) ,1, keepdim=True)\n",
    "        \n",
    "        h_v_new = f_init(torch.cat((e, h_G_init), 2).view(-1, e.size(2) + h_G_init.size(2))).view(h_v.size(0), 1, -1)\n",
    "        \n",
    "        return h_v_new\n",
    "    def he_init(self, m):\n",
    "        if type(m) == nn.Linear:\n",
    "            out_features = m.weight.size(0)\n",
    "            in_features = m.weight.size(1)\n",
    "            m.weight.data = torch.randn(out_features, in_features)* (2 * torch.rsqrt(tensor([out_features]).float() ))"
   ]
  },
  {
   "cell_type": "code",
   "execution_count": 3,
   "metadata": {},
   "outputs": [],
   "source": [
    "class Featurizer(object):\n",
    "    def __init__(self, N_Max_atom, parts):\n",
    "        super(Featurizer, self).__init__()\n",
    "        self.N_Max_atom = N_Max_atom\n",
    "        self.parts = parts\n",
    "    \n",
    "    def __call__(self, mols, filepass):\n",
    "        \n",
    "        self.size = mol_num(mols)\n",
    "        \n",
    "        self.f =  h5py.File(filepass, \"w\")\n",
    "        \n",
    "        self.f.create_dataset('adjacent',shape=(self.size, self.N_Max_atom, self.N_Max_atom))\n",
    "        self.f.create_dataset('atom_pair',shape=(self.size, self.N_Max_atom, self.N_Max_atom))\n",
    "        self.f.create_dataset('bond',shape=(self.size, self.N_Max_atom, self.N_Max_atom))\n",
    "        self.f.create_dataset('initmol',shape=(self.size, self.N_Max_atom))\n",
    "        \n",
    "        print('...Featurizing init_mol')\n",
    "        self.init_mol(mols)\n",
    "        print('...Featurizing adjlist')\n",
    "        self.adjlist(mols)\n",
    "        print('...Featurizing atom_pair')\n",
    "        self.atom_pair(mols)\n",
    "        print('...Featurizing bond_type')\n",
    "        self.bond_type(mols)\n",
    "        \n",
    "        self.f.flush()\n",
    "        self.f.close()\n",
    "        \n",
    "        print('Done')\n",
    "        \n",
    "    def init_mol(self, input_mols):\n",
    "        ids = self.f['initmol']\n",
    "        for index_mol, mol in enumerate(input_mols):\n",
    "            if mol.GetNumAtoms() <= self.N_Max_atom:\n",
    "                for index_atom , atom in enumerate(mol.GetAtoms()):\n",
    "                    ids[index_mol, index_atom] = (self.parts[0])[atom.GetSymbol()]\n",
    "            else:\n",
    "                pass\n",
    "\n",
    "    def adjlist(self, input_mols):\n",
    "        adj = self.f['adjacent']\n",
    "        for index_mol, mol in enumerate(input_mols):\n",
    "            if mol.GetNumAtoms() <= self.N_Max_atom:\n",
    "                for index_atom , atom in enumerate(mol.GetAtoms()):\n",
    "                    for atom_neighbor in atom.GetNeighbors():\n",
    "                        adj[index_mol, index_atom, int(atom_neighbor.GetIdx())] = 1\n",
    "            else:\n",
    "                pass\n",
    "    \n",
    "    def atom_pair(self, mols):\n",
    "        ids = self.f['atom_pair']\n",
    "        for index_mol, mol in enumerate(mols):\n",
    "            if mol.GetNumAtoms() <= self.N_Max_atom:\n",
    "                for index_atom, atom in enumerate(mol.GetAtoms()):\n",
    "                    watch_atom = atom.GetSymbol()\n",
    "                    for index_n, n in enumerate(atom.GetNeighbors()):\n",
    "                        neighbor = n.GetSymbol()\n",
    "                        pair = sorted([watch_atom, neighbor])\n",
    "                        pair = '-'.join(pair)\n",
    "                        ids[index_mol, index_atom, int(n.GetIdx())] = (self.parts[2])[pair]\n",
    "        else:\n",
    "            pass\n",
    "        \n",
    "    def bond_type(self, mols):\n",
    "        ids = self.f['bond']\n",
    "        for index_mol, mol in enumerate(mols):\n",
    "            if mol.GetNumAtoms() <= self.N_Max_atom:\n",
    "                for index_bond, bond in enumerate(mol.GetBonds()):\n",
    "                        ids[index_mol, bond.GetBeginAtomIdx(), bond.GetEndAtomIdx()] = (self.parts[1])[str(bond.GetBondType())]\n",
    "        else:\n",
    "            pass\n",
    "        \n",
    "        "
   ]
  },
  {
   "cell_type": "code",
   "execution_count": 4,
   "metadata": {
    "scrolled": false
   },
   "outputs": [],
   "source": [
    "def roc_score(label, prob):\n",
    "    y_true = label.tolist()\n",
    "    y_scores = prob.tolist()\n",
    "    auc = roc_auc_score(y_true, y_scores)\n",
    "    return auc\n",
    "def isnan(tensor):\n",
    "    return tensor != tensor\n",
    "def mol_num(mols):\n",
    "    num = sum([int(mol.GetNumAtoms()) <= N_Max_atom for mol in mols if mol is not None])\n",
    "    return num\n",
    "def isnan(tensor):\n",
    "    return tensor != tensor\n",
    "def nv(arr):\n",
    "    v = Variable(torch.from_numpy(arr).float())\n",
    "    if use_cuda:\n",
    "        v = v.cuda()\n",
    "    return v\n",
    "def calc_lr(epoch_num):\n",
    "    return 0.000000001 * 1.3 ** epoch_num"
   ]
  },
  {
   "cell_type": "code",
   "execution_count": 5,
   "metadata": {},
   "outputs": [],
   "source": [
    "def evaluate(classifier, hdf, target):\n",
    "    num = len(hdf['initmol']) // batch_size\n",
    "    for i in range(0, num):\n",
    "        start = i*batch_size\n",
    "        end = i*batch_size + batch_size\n",
    "        if i == 0:\n",
    "            valid_all_hat ,_ = classifier(hdf, start, end)\n",
    "            valid_all_hat = valid_all_hat.data\n",
    "        else:\n",
    "            valid_y_hat ,_ = classifier(hdf, start, end)\n",
    "            valid_all_hat = torch.cat((valid_all_hat, valid_y_hat.data), 0) \n",
    "    valid_y_hat ,_  = classifier(hdf, end, len(hdf['initmol']))\n",
    "    valid_all_hat = torch.cat((valid_all_hat, valid_y_hat.data),0)\n",
    "    \n",
    "    loss = criterion(valid_all_hat, target)\n",
    "    if use_cuda:\n",
    "        loss = loss.cpu()\n",
    "    \n",
    "    return loss"
   ]
  },
  {
   "cell_type": "code",
   "execution_count": 6,
   "metadata": {},
   "outputs": [],
   "source": [
    "def atom_set(mols):\n",
    "    all_set = set()\n",
    "    for mol in mols:\n",
    "        for atom in mol.GetAtoms():\n",
    "            watch_atom = atom.GetSymbol()\n",
    "            all_set.add(watch_atom)\n",
    "    \n",
    "    alllist = sorted(list(all_set))\n",
    "    index = [i for i in range(1, len(alllist) + 1)]\n",
    "    pair_dic = dict(zip(alllist, index))\n",
    "    return pair_dic\n",
    "\n",
    "def pair_set(mols):\n",
    "    all_set = set()\n",
    "    for mol in mols:\n",
    "        for atom in mol.GetAtoms():\n",
    "            watch_atom = atom.GetSymbol()\n",
    "            all_set.add(watch_atom)\n",
    "            for n in atom.GetNeighbors():\n",
    "                neighbor = n.GetSymbol()\n",
    "                pair = sorted([watch_atom, neighbor])\n",
    "                pair = '-'.join(pair)\n",
    "                all_set.add(pair)\n",
    "    \n",
    "    alllist = sorted(list(all_set))\n",
    "    index = [i for i in range(1, len(alllist) + 1)]\n",
    "    pair_dic = dict(zip(alllist, index))\n",
    "    return pair_dic\n",
    "\n",
    "def bond_set(mols):\n",
    "    all_set = set()\n",
    "    for mol in mols:\n",
    "        for bond in mol.GetBonds():\n",
    "            all_set.add(str(bond.GetBondType()))\n",
    "            \n",
    "    alllist = sorted(list(all_set))\n",
    "    index = [i for i in range(1, len(alllist) + 1)]\n",
    "    pair_dic = dict(zip(alllist, index))\n",
    "    return pair_dic\n",
    "def make_neighborlist(input_mols):\n",
    "    adj_list = []\n",
    "    \n",
    "    for index_mol, mol in enumerate(input_mols):\n",
    "        mol_adj_list = []\n",
    "        for index_atom , atom in enumerate(mol.GetAtoms()):            \n",
    "            atom_adj_list = []\n",
    "            for atom_neighbor in atom.GetNeighbors():\n",
    "                atom_adj_list.append(int(atom_neighbor.GetIdx()))\n",
    "            mol_adj_list.append(atom_adj_list)\n",
    "        adj_list.append(mol_adj_list)\n",
    "        \n",
    "    adj_list = np.array(adj_list)\n",
    "    \n",
    "    return adj_list"
   ]
  },
  {
   "cell_type": "code",
   "execution_count": 7,
   "metadata": {},
   "outputs": [
    {
     "name": "stdout",
     "output_type": "stream",
     "text": [
      "Loading dataset from disk.\n",
      "Loading dataset from disk.\n",
      "Loading dataset from disk.\n"
     ]
    }
   ],
   "source": [
    "N_Max_atom = 15\n",
    "\n",
    "tox21_tasks, tox21_datasets, transformers = load_tox21(featurizer='Raw', split='random')\n",
    "(train_dataset, valid_dataset, test_dataset) = tox21_datasets\n",
    "\n",
    "train_x = list(train_dataset.X)\n",
    "train_x = [Chem.AddHs(mol) for mol in train_x if mol is not None]\n",
    "train_x = [mol for mol in train_x if mol is not None and mol.GetNumAtoms() <= N_Max_atom]\n",
    "\n",
    "train_label = nv(train_dataset.y)\n",
    "\n",
    "valid_x = list(valid_dataset.X)\n",
    "valid_x = [Chem.AddHs(mol) for mol in valid_x if mol is not None]\n",
    "valid_x = [mol for mol in valid_x if mol is not None and mol.GetNumAtoms() <= N_Max_atom]\n",
    "\n",
    "valid_label = nv(valid_dataset.y)\n",
    "\n",
    "test_x = list(test_dataset.X)\n",
    "test_x = [Chem.AddHs(mol) for mol in test_x if mol is not None]\n",
    "test_x = [mol for mol in test_x if mol is not None and mol.GetNumAtoms() <= N_Max_atom]\n",
    "\n",
    "test_label = nv(test_dataset.y)"
   ]
  },
  {
   "cell_type": "code",
   "execution_count": 8,
   "metadata": {},
   "outputs": [],
   "source": [
    "all_mols = train_x + valid_x + test_x\n",
    "\n",
    "atom = atom_set(all_mols)\n",
    "bond = bond_set(all_mols)\n",
    "pair = pair_set(all_mols)\n",
    "parts = (atom, bond, pair)\n",
    "\n",
    "neighborlist = make_neighborlist(all_mols)\n",
    "atom_degree = [[len(l) for l in l] for l in neighborlist]\n",
    "atom_degree_flatten = list(chain.from_iterable(atom_degree))\n",
    "max_degree = max(atom_degree_flatten)\n",
    "min_degree = min(atom_degree_flatten)"
   ]
  },
  {
   "cell_type": "code",
   "execution_count": 9,
   "metadata": {},
   "outputs": [],
   "source": [
    "featurizer= Featurizer(N_Max_atom, parts)\n",
    "if not os.path.exists('./train.hdf5'):\n",
    "    print('Train set')\n",
    "    featurizer(train_x,'./train.hdf5')\n",
    "if not os.path.exists('./valid.hdf5'):\n",
    "    print('Valid set')\n",
    "    featurizer(valid_x,'./valid.hdf5')\n",
    "if not os.path.exists('./test.hdf5'):\n",
    "    print('Test set')\n",
    "    featurizer(test_x,'./test.hdf5')"
   ]
  },
  {
   "cell_type": "code",
   "execution_count": 18,
   "metadata": {},
   "outputs": [],
   "source": [
    "#Settings\n",
    "\n",
    "batch_size = 8\n",
    "\n",
    "#Model\n",
    "\n",
    "classifier = Model(128, N_Max_atom, parts, 2)\n",
    "torch.save(classifier.state_dict(), './init.pth') \n",
    "finder = Model(128, N_Max_atom, parts, 2)\n",
    "finder.load_state_dict(torch.load('./init.pth'))\n",
    "\n",
    "#Loss function\n",
    "criterion = nn.KLDivLoss()"
   ]
  },
  {
   "cell_type": "code",
   "execution_count": 19,
   "metadata": {
    "scrolled": true
   },
   "outputs": [
    {
     "data": {
      "text/plain": [
       "tensor([[ 1,  1,  1,  1,  1,  1,  1,  1,  1,  1,  1,  1,  1,  1,\n",
       "          1,  1,  1,  1,  1,  1,  1,  1,  1,  1,  1,  1,  1,  1,\n",
       "          1,  1,  1,  1,  1,  1,  1,  1,  1,  1,  1,  1,  1,  1,\n",
       "          1,  1,  1,  1,  1,  1,  1,  1,  1,  1,  1,  1,  1,  1,\n",
       "          1,  1,  1,  1,  1,  1,  1,  1,  1,  1,  1,  1,  1,  1,\n",
       "          1,  1,  1,  1,  1,  1,  1,  1,  1,  1,  1,  1,  1,  1,\n",
       "          1,  1,  1,  1,  1,  1,  1,  1,  1,  1,  1,  1,  1,  1,\n",
       "          1,  1,  1,  1,  1,  1,  1,  1,  1,  1,  1,  1,  1,  1,\n",
       "          1,  1,  1,  1,  1,  1,  1,  1,  1,  1,  1,  1,  1,  1,\n",
       "          1,  1,  1,  1,  1,  1,  1,  1,  1,  1,  1,  1,  1,  1,\n",
       "          1,  1,  1,  1,  1,  1,  1,  1,  1,  1,  1,  1,  1,  1,\n",
       "          1,  1,  1,  1,  1,  1,  1,  1,  1,  1,  1,  1,  1,  1,\n",
       "          1,  1,  1,  1,  1,  1,  1,  1,  1,  1,  1,  1,  1,  1,\n",
       "          1,  1,  1,  1,  1,  1,  1,  1,  1,  1,  1,  1,  1,  1,\n",
       "          1,  1,  1,  1,  1,  1,  1,  1,  1,  1,  1,  1,  1,  1,\n",
       "          1,  1,  1,  1,  1,  1,  1,  1,  1,  1,  1,  1,  1,  1,\n",
       "          1,  1,  1,  1,  1,  1,  1,  1,  1,  1,  1,  1,  1,  1,\n",
       "          1,  1,  1,  1,  1,  1,  1,  1,  1,  1,  1,  1,  1,  1,\n",
       "          1,  1,  1,  1]], dtype=torch.uint8)"
      ]
     },
     "execution_count": 19,
     "metadata": {},
     "output_type": "execute_result"
    }
   ],
   "source": [
    "#Verify finder's weight is the same as classifier's weight\n",
    "classifier.f_ae.weight == finder.f_ae.weight"
   ]
  },
  {
   "cell_type": "markdown",
   "metadata": {},
   "source": [
    "Find Learning rate(below cell)"
   ]
  },
  {
   "cell_type": "code",
   "execution_count": 20,
   "metadata": {
    "scrolled": false
   },
   "outputs": [
    {
     "data": {
      "text/html": [
       "\n",
       "<div class=\"bk-root\">\n",
       "    <div class=\"bk-plotdiv\" id=\"a32ac500-0a2c-4a08-8de4-1758d06ac516\"></div>\n",
       "</div>"
      ]
     },
     "metadata": {},
     "output_type": "display_data"
    },
    {
     "data": {
      "application/javascript": [
       "(function(root) {\n",
       "  function embed_document(root) {\n",
       "    \n",
       "  var docs_json = {\"52adf46c-1a8f-4ab0-963c-3bef630c080a\":{\"roots\":{\"references\":[{\"attributes\":{\"line_color\":\"orange\",\"x\":{\"field\":\"epoch\"},\"y\":{\"field\":\"lr\"}},\"id\":\"fe629d29-3790-4598-af65-b63040bfd54f\",\"type\":\"Line\"},{\"attributes\":{},\"id\":\"6d16e556-8dc2-4db2-86f3-29eed5831966\",\"type\":\"LinearScale\"},{\"attributes\":{},\"id\":\"37ca91bf-c6a5-476b-8211-685f12fe1dc2\",\"type\":\"LinearScale\"},{\"attributes\":{\"plot\":{\"id\":\"97676c41-e219-4056-8a70-6f7d6a4c23d4\",\"subtype\":\"Figure\",\"type\":\"Plot\"},\"ticker\":{\"id\":\"8ae4d9f0-2ed2-4f20-9f1e-ab5056750dfa\",\"type\":\"BasicTicker\"}},\"id\":\"d4c73316-c780-435d-8613-258cc3530775\",\"type\":\"Grid\"},{\"attributes\":{\"callback\":null,\"column_names\":[\"epoch\",\"loss\",\"lr\"],\"data\":{\"epoch\":[50,51,52,53,54,55,56,57,58,59,60,61,62,63,64,65,66,67,68,69,70,71,72,73,74,75,76,77,78,79],\"loss\":[{\"__ndarray__\":\"00/sQA==\",\"dtype\":\"float32\",\"shape\":[]},{\"__ndarray__\":\"rQnjQA==\",\"dtype\":\"float32\",\"shape\":[]},{\"__ndarray__\":\"vBfSQA==\",\"dtype\":\"float32\",\"shape\":[]},{\"__ndarray__\":\"Tb/QQA==\",\"dtype\":\"float32\",\"shape\":[]},{\"__ndarray__\":\"xmnRQA==\",\"dtype\":\"float32\",\"shape\":[]},{\"__ndarray__\":\"iifUQA==\",\"dtype\":\"float32\",\"shape\":[]},{\"__ndarray__\":\"dlG5QA==\",\"dtype\":\"float32\",\"shape\":[]},{\"__ndarray__\":\"NsmoQA==\",\"dtype\":\"float32\",\"shape\":[]},{\"__ndarray__\":\"XKuHQA==\",\"dtype\":\"float32\",\"shape\":[]},{\"__ndarray__\":\"kiVdQA==\",\"dtype\":\"float32\",\"shape\":[]},{\"__ndarray__\":\"WyA+QA==\",\"dtype\":\"float32\",\"shape\":[]},{\"__ndarray__\":\"hesTQA==\",\"dtype\":\"float32\",\"shape\":[]},{\"__ndarray__\":\"on0KQA==\",\"dtype\":\"float32\",\"shape\":[]},{\"__ndarray__\":\"z8cuQA==\",\"dtype\":\"float32\",\"shape\":[]},{\"__ndarray__\":\"e9b6Pw==\",\"dtype\":\"float32\",\"shape\":[]},{\"__ndarray__\":\"KwIEQA==\",\"dtype\":\"float32\",\"shape\":[]},{\"__ndarray__\":\"s+fvPw==\",\"dtype\":\"float32\",\"shape\":[]},{\"__ndarray__\":\"4FQIQA==\",\"dtype\":\"float32\",\"shape\":[]},{\"__ndarray__\":\"DXBLQA==\",\"dtype\":\"float32\",\"shape\":[]},{\"__ndarray__\":\"pKU2QA==\",\"dtype\":\"float32\",\"shape\":[]},{\"__ndarray__\":\"y4BxQA==\",\"dtype\":\"float32\",\"shape\":[]},{\"__ndarray__\":\"lXueQA==\",\"dtype\":\"float32\",\"shape\":[]},{\"__ndarray__\":\"QmXQQA==\",\"dtype\":\"float32\",\"shape\":[]},{\"__ndarray__\":\"q4m8QA==\",\"dtype\":\"float32\",\"shape\":[]},{\"__ndarray__\":\"ABLdQA==\",\"dtype\":\"float32\",\"shape\":[]},{\"__ndarray__\":\"+g5AQA==\",\"dtype\":\"float32\",\"shape\":[]},{\"__ndarray__\":\"B/QFQA==\",\"dtype\":\"float32\",\"shape\":[]},{\"__ndarray__\":\"bgMcQA==\",\"dtype\":\"float32\",\"shape\":[]},{\"__ndarray__\":\"bL8zQA==\",\"dtype\":\"float32\",\"shape\":[]},{\"__ndarray__\":\"7P4KQA==\",\"dtype\":\"float32\",\"shape\":[]}],\"lr\":[0.000497929222979128,0.0006473079898728664,0.0008415003868347263,0.0010939505028851443,0.0014221356537506874,0.0018487763498758938,0.0024034092548386623,0.0031244320312902607,0.004061761640677339,0.005280290132880541,0.006864377172744704,0.008923690324568115,0.011600797421938551,0.015081036648520117,0.019605347643076153,0.025486951935998998,0.0331330375167987,0.04307294877183831,0.0559948334033898,0.07279328342440675,0.09463126845172878,0.12302064898724742,0.15992684368342164,0.20790489678844815,0.2702763658249826,0.35135927557247737,0.4567670582442206,0.5937971757174868,0.7719363284327329,1.0035172269625527]},\"selected\":null,\"selection_policy\":null},\"id\":\"b4b04988-0306-49db-a01d-f24da2599361\",\"type\":\"ColumnDataSource\"},{\"attributes\":{\"axis_label\":\"epoch\",\"formatter\":{\"id\":\"953f6d19-4592-4b7f-b890-596f30d4c9e6\",\"type\":\"BasicTickFormatter\"},\"plot\":{\"id\":\"97676c41-e219-4056-8a70-6f7d6a4c23d4\",\"subtype\":\"Figure\",\"type\":\"Plot\"},\"ticker\":{\"id\":\"8ae4d9f0-2ed2-4f20-9f1e-ab5056750dfa\",\"type\":\"BasicTicker\"}},\"id\":\"d2853c14-a485-4197-81d4-9c59dfc4f675\",\"type\":\"LinearAxis\"},{\"attributes\":{\"callback\":null},\"id\":\"47c7fbd0-9911-4914-a354-01d162bbf78a\",\"type\":\"DataRange1d\"},{\"attributes\":{},\"id\":\"8ae4d9f0-2ed2-4f20-9f1e-ab5056750dfa\",\"type\":\"BasicTicker\"},{\"attributes\":{\"below\":[{\"id\":\"d8f38e58-da59-45a3-8e77-7be7fac43f68\",\"type\":\"LinearAxis\"}],\"left\":[{\"id\":\"7fef0426-6c4d-47e7-819e-e0e77775cd7b\",\"type\":\"LinearAxis\"}],\"min_border\":0,\"plot_height\":430,\"plot_width\":480,\"renderers\":[{\"id\":\"d8f38e58-da59-45a3-8e77-7be7fac43f68\",\"type\":\"LinearAxis\"},{\"id\":\"6b4cfc14-46c4-44ab-8a6b-350d0ee5e77d\",\"type\":\"Grid\"},{\"id\":\"7fef0426-6c4d-47e7-819e-e0e77775cd7b\",\"type\":\"LinearAxis\"},{\"id\":\"301b2b5b-cafe-4dd6-ac68-8f5d8b52fbba\",\"type\":\"Grid\"},{\"id\":\"f0f62ebb-c3ec-4ac4-b37a-7ccbbf43eacd\",\"type\":\"BoxAnnotation\"},{\"id\":\"2c925662-b40a-45a0-9f96-f0a26d85c57d\",\"type\":\"GlyphRenderer\"}],\"title\":{\"id\":\"c16bdb3e-16bc-480f-b984-879a311a03c9\",\"type\":\"Title\"},\"toolbar\":{\"id\":\"30a9629e-ab80-44e8-a7ab-739d8e411694\",\"type\":\"Toolbar\"},\"x_range\":{\"id\":\"54ddb7a9-d390-4938-bee4-4453ab80a3ae\",\"type\":\"DataRange1d\"},\"x_scale\":{\"id\":\"e3fc1577-6420-482e-9c96-922609c5cf57\",\"type\":\"LinearScale\"},\"y_range\":{\"id\":\"7123555d-5a89-4629-9639-9ae9a3a85aa5\",\"type\":\"DataRange1d\"},\"y_scale\":{\"id\":\"4af62e32-cae7-4514-b4b2-7a64d33aff8c\",\"type\":\"LinearScale\"}},\"id\":\"def8da8e-b8e9-4d75-b99e-739493d5f293\",\"subtype\":\"Figure\",\"type\":\"Plot\"},{\"attributes\":{\"children\":[{\"id\":\"def8da8e-b8e9-4d75-b99e-739493d5f293\",\"subtype\":\"Figure\",\"type\":\"Plot\"},{\"id\":\"97676c41-e219-4056-8a70-6f7d6a4c23d4\",\"subtype\":\"Figure\",\"type\":\"Plot\"}]},\"id\":\"02102eb5-9f22-45db-9e42-7e7e9f8576eb\",\"type\":\"Column\"},{\"attributes\":{\"axis_label\":\"Learning rate\",\"formatter\":{\"id\":\"5f2f3e15-b810-4a83-b84a-c3366abbb917\",\"type\":\"BasicTickFormatter\"},\"plot\":{\"id\":\"97676c41-e219-4056-8a70-6f7d6a4c23d4\",\"subtype\":\"Figure\",\"type\":\"Plot\"},\"ticker\":{\"id\":\"08fec632-f571-4333-9fa3-0d27be1d8d07\",\"type\":\"BasicTicker\"}},\"id\":\"e9ee3630-196a-47d2-9840-8a6635e83e8b\",\"type\":\"LinearAxis\"},{\"attributes\":{\"line_alpha\":0.1,\"line_color\":\"#1f77b4\",\"x\":{\"field\":\"epoch\"},\"y\":{\"field\":\"loss\"}},\"id\":\"d83d99ad-ccf4-41b8-a6a6-6ad4adb7ba7c\",\"type\":\"Line\"},{\"attributes\":{},\"id\":\"08fec632-f571-4333-9fa3-0d27be1d8d07\",\"type\":\"BasicTicker\"},{\"attributes\":{\"plot\":null,\"text\":\"Optimal learning rates\"},\"id\":\"c16bdb3e-16bc-480f-b984-879a311a03c9\",\"type\":\"Title\"},{\"attributes\":{\"dimension\":1,\"plot\":{\"id\":\"97676c41-e219-4056-8a70-6f7d6a4c23d4\",\"subtype\":\"Figure\",\"type\":\"Plot\"},\"ticker\":{\"id\":\"08fec632-f571-4333-9fa3-0d27be1d8d07\",\"type\":\"BasicTicker\"}},\"id\":\"97e4872e-1d5f-40ea-a672-d2985d17c8b7\",\"type\":\"Grid\"},{\"attributes\":{\"callback\":null},\"id\":\"54ddb7a9-d390-4938-bee4-4453ab80a3ae\",\"type\":\"DataRange1d\"},{\"attributes\":{\"line_alpha\":0.1,\"line_color\":\"#1f77b4\",\"x\":{\"field\":\"epoch\"},\"y\":{\"field\":\"lr\"}},\"id\":\"79c0fa80-415b-44ef-a1f6-41d705a0a392\",\"type\":\"Line\"},{\"attributes\":{\"active_drag\":\"auto\",\"active_inspect\":\"auto\",\"active_scroll\":\"auto\",\"active_tap\":\"auto\",\"tools\":[{\"id\":\"8a33670c-f761-4d51-82d4-f491cbd0cc56\",\"type\":\"PanTool\"},{\"id\":\"c1a7998b-c5e8-489c-96fc-f7168a940798\",\"type\":\"WheelZoomTool\"},{\"id\":\"30f109ec-4d7a-494b-8f1e-1cf171a3c963\",\"type\":\"BoxZoomTool\"},{\"id\":\"28747c39-9398-42d2-912a-a1fd0d2a1755\",\"type\":\"SaveTool\"},{\"id\":\"56b8296a-7350-4724-afe8-9021d55bc67d\",\"type\":\"ResetTool\"},{\"id\":\"5a2de896-be69-4b1c-9871-5c7fc6dde93d\",\"type\":\"HelpTool\"}]},\"id\":\"30a9629e-ab80-44e8-a7ab-739d8e411694\",\"type\":\"Toolbar\"},{\"attributes\":{},\"id\":\"5f2f3e15-b810-4a83-b84a-c3366abbb917\",\"type\":\"BasicTickFormatter\"},{\"attributes\":{\"below\":[{\"id\":\"d2853c14-a485-4197-81d4-9c59dfc4f675\",\"type\":\"LinearAxis\"}],\"left\":[{\"id\":\"e9ee3630-196a-47d2-9840-8a6635e83e8b\",\"type\":\"LinearAxis\"}],\"min_border\":0,\"plot_height\":430,\"plot_width\":480,\"renderers\":[{\"id\":\"d2853c14-a485-4197-81d4-9c59dfc4f675\",\"type\":\"LinearAxis\"},{\"id\":\"d4c73316-c780-435d-8613-258cc3530775\",\"type\":\"Grid\"},{\"id\":\"e9ee3630-196a-47d2-9840-8a6635e83e8b\",\"type\":\"LinearAxis\"},{\"id\":\"97e4872e-1d5f-40ea-a672-d2985d17c8b7\",\"type\":\"Grid\"},{\"id\":\"82338d7d-2d67-4e67-9799-a111aecf2ae4\",\"type\":\"BoxAnnotation\"},{\"id\":\"41cbf13e-39b7-41d7-8c6a-23ee0bb8ee81\",\"type\":\"GlyphRenderer\"}],\"title\":{\"id\":\"026dc493-9181-43b0-978c-2f9581cc5a71\",\"type\":\"Title\"},\"toolbar\":{\"id\":\"af3ab0e4-62de-47c1-8fba-81c60b5d05df\",\"type\":\"Toolbar\"},\"x_range\":{\"id\":\"47c7fbd0-9911-4914-a354-01d162bbf78a\",\"type\":\"DataRange1d\"},\"x_scale\":{\"id\":\"6d16e556-8dc2-4db2-86f3-29eed5831966\",\"type\":\"LinearScale\"},\"y_range\":{\"id\":\"90457386-cb14-4e4a-896c-f7da577333de\",\"type\":\"DataRange1d\"},\"y_scale\":{\"id\":\"37ca91bf-c6a5-476b-8211-685f12fe1dc2\",\"type\":\"LinearScale\"}},\"id\":\"97676c41-e219-4056-8a70-6f7d6a4c23d4\",\"subtype\":\"Figure\",\"type\":\"Plot\"},{\"attributes\":{\"plot\":{\"id\":\"def8da8e-b8e9-4d75-b99e-739493d5f293\",\"subtype\":\"Figure\",\"type\":\"Plot\"},\"ticker\":{\"id\":\"efcc6540-8ead-469a-9d3d-f0bee58effa2\",\"type\":\"BasicTicker\"}},\"id\":\"6b4cfc14-46c4-44ab-8a6b-350d0ee5e77d\",\"type\":\"Grid\"},{\"attributes\":{\"bottom_units\":\"screen\",\"fill_alpha\":{\"value\":0.5},\"fill_color\":{\"value\":\"lightgrey\"},\"left_units\":\"screen\",\"level\":\"overlay\",\"line_alpha\":{\"value\":1.0},\"line_color\":{\"value\":\"black\"},\"line_dash\":[4,4],\"line_width\":{\"value\":2},\"plot\":null,\"render_mode\":\"css\",\"right_units\":\"screen\",\"top_units\":\"screen\"},\"id\":\"82338d7d-2d67-4e67-9799-a111aecf2ae4\",\"type\":\"BoxAnnotation\"},{\"attributes\":{},\"id\":\"e3fc1577-6420-482e-9c96-922609c5cf57\",\"type\":\"LinearScale\"},{\"attributes\":{},\"id\":\"4af62e32-cae7-4514-b4b2-7a64d33aff8c\",\"type\":\"LinearScale\"},{\"attributes\":{},\"id\":\"db5cf21a-06a6-4e04-b0a5-e181d53c128d\",\"type\":\"PanTool\"},{\"attributes\":{\"axis_label\":\"epoch\",\"formatter\":{\"id\":\"ea0a2c1e-62c7-4762-a121-f8f217969764\",\"type\":\"BasicTickFormatter\"},\"plot\":{\"id\":\"def8da8e-b8e9-4d75-b99e-739493d5f293\",\"subtype\":\"Figure\",\"type\":\"Plot\"},\"ticker\":{\"id\":\"efcc6540-8ead-469a-9d3d-f0bee58effa2\",\"type\":\"BasicTicker\"}},\"id\":\"d8f38e58-da59-45a3-8e77-7be7fac43f68\",\"type\":\"LinearAxis\"},{\"attributes\":{\"data_source\":{\"id\":\"b4b04988-0306-49db-a01d-f24da2599361\",\"type\":\"ColumnDataSource\"},\"glyph\":{\"id\":\"fe629d29-3790-4598-af65-b63040bfd54f\",\"type\":\"Line\"},\"hover_glyph\":null,\"muted_glyph\":null,\"nonselection_glyph\":{\"id\":\"79c0fa80-415b-44ef-a1f6-41d705a0a392\",\"type\":\"Line\"},\"selection_glyph\":null,\"view\":{\"id\":\"179fa341-3dbe-4463-b095-93a06a215d9c\",\"type\":\"CDSView\"}},\"id\":\"41cbf13e-39b7-41d7-8c6a-23ee0bb8ee81\",\"type\":\"GlyphRenderer\"},{\"attributes\":{},\"id\":\"efcc6540-8ead-469a-9d3d-f0bee58effa2\",\"type\":\"BasicTicker\"},{\"attributes\":{},\"id\":\"a95fc5dd-5fbd-4702-9ddc-aabcb7d0925a\",\"type\":\"WheelZoomTool\"},{\"attributes\":{\"axis_label\":\"Loss\",\"formatter\":{\"id\":\"13489ed9-21e6-4a84-bd51-46f1c2ef233b\",\"type\":\"BasicTickFormatter\"},\"plot\":{\"id\":\"def8da8e-b8e9-4d75-b99e-739493d5f293\",\"subtype\":\"Figure\",\"type\":\"Plot\"},\"ticker\":{\"id\":\"ba69ac44-a798-4053-b0a6-80df91689eeb\",\"type\":\"BasicTicker\"}},\"id\":\"7fef0426-6c4d-47e7-819e-e0e77775cd7b\",\"type\":\"LinearAxis\"},{\"attributes\":{\"overlay\":{\"id\":\"82338d7d-2d67-4e67-9799-a111aecf2ae4\",\"type\":\"BoxAnnotation\"}},\"id\":\"85635282-bceb-4b06-be3d-48825cef9fa7\",\"type\":\"BoxZoomTool\"},{\"attributes\":{},\"id\":\"ba69ac44-a798-4053-b0a6-80df91689eeb\",\"type\":\"BasicTicker\"},{\"attributes\":{},\"id\":\"cc2e030e-830e-4531-89c6-4245fe22e63f\",\"type\":\"SaveTool\"},{\"attributes\":{\"dimension\":1,\"plot\":{\"id\":\"def8da8e-b8e9-4d75-b99e-739493d5f293\",\"subtype\":\"Figure\",\"type\":\"Plot\"},\"ticker\":{\"id\":\"ba69ac44-a798-4053-b0a6-80df91689eeb\",\"type\":\"BasicTicker\"}},\"id\":\"301b2b5b-cafe-4dd6-ac68-8f5d8b52fbba\",\"type\":\"Grid\"},{\"attributes\":{},\"id\":\"6f5f528d-c724-4081-bd55-8ec865225e50\",\"type\":\"ResetTool\"},{\"attributes\":{\"line_color\":\"#1f77b4\",\"x\":{\"field\":\"epoch\"},\"y\":{\"field\":\"loss\"}},\"id\":\"c3e9deb8-36af-43ee-85d1-c6f85f34c268\",\"type\":\"Line\"},{\"attributes\":{},\"id\":\"e75ff7cb-16c2-4504-a561-f1cf06900335\",\"type\":\"HelpTool\"},{\"attributes\":{\"plot\":null,\"text\":\"Corresponding Learning rate\"},\"id\":\"026dc493-9181-43b0-978c-2f9581cc5a71\",\"type\":\"Title\"},{\"attributes\":{},\"id\":\"953f6d19-4592-4b7f-b890-596f30d4c9e6\",\"type\":\"BasicTickFormatter\"},{\"attributes\":{\"source\":{\"id\":\"b4b04988-0306-49db-a01d-f24da2599361\",\"type\":\"ColumnDataSource\"}},\"id\":\"179fa341-3dbe-4463-b095-93a06a215d9c\",\"type\":\"CDSView\"},{\"attributes\":{\"callback\":null},\"id\":\"7123555d-5a89-4629-9639-9ae9a3a85aa5\",\"type\":\"DataRange1d\"},{\"attributes\":{\"bottom_units\":\"screen\",\"fill_alpha\":{\"value\":0.5},\"fill_color\":{\"value\":\"lightgrey\"},\"left_units\":\"screen\",\"level\":\"overlay\",\"line_alpha\":{\"value\":1.0},\"line_color\":{\"value\":\"black\"},\"line_dash\":[4,4],\"line_width\":{\"value\":2},\"plot\":null,\"render_mode\":\"css\",\"right_units\":\"screen\",\"top_units\":\"screen\"},\"id\":\"f0f62ebb-c3ec-4ac4-b37a-7ccbbf43eacd\",\"type\":\"BoxAnnotation\"},{\"attributes\":{},\"id\":\"8a33670c-f761-4d51-82d4-f491cbd0cc56\",\"type\":\"PanTool\"},{\"attributes\":{\"data_source\":{\"id\":\"b4b04988-0306-49db-a01d-f24da2599361\",\"type\":\"ColumnDataSource\"},\"glyph\":{\"id\":\"c3e9deb8-36af-43ee-85d1-c6f85f34c268\",\"type\":\"Line\"},\"hover_glyph\":null,\"muted_glyph\":null,\"nonselection_glyph\":{\"id\":\"d83d99ad-ccf4-41b8-a6a6-6ad4adb7ba7c\",\"type\":\"Line\"},\"selection_glyph\":null,\"view\":{\"id\":\"0b2dbca8-f40e-44c7-a8dd-709130e206e1\",\"type\":\"CDSView\"}},\"id\":\"2c925662-b40a-45a0-9f96-f0a26d85c57d\",\"type\":\"GlyphRenderer\"},{\"attributes\":{},\"id\":\"c1a7998b-c5e8-489c-96fc-f7168a940798\",\"type\":\"WheelZoomTool\"},{\"attributes\":{\"overlay\":{\"id\":\"f0f62ebb-c3ec-4ac4-b37a-7ccbbf43eacd\",\"type\":\"BoxAnnotation\"}},\"id\":\"30f109ec-4d7a-494b-8f1e-1cf171a3c963\",\"type\":\"BoxZoomTool\"},{\"attributes\":{},\"id\":\"28747c39-9398-42d2-912a-a1fd0d2a1755\",\"type\":\"SaveTool\"},{\"attributes\":{},\"id\":\"56b8296a-7350-4724-afe8-9021d55bc67d\",\"type\":\"ResetTool\"},{\"attributes\":{},\"id\":\"5a2de896-be69-4b1c-9871-5c7fc6dde93d\",\"type\":\"HelpTool\"},{\"attributes\":{},\"id\":\"ea0a2c1e-62c7-4762-a121-f8f217969764\",\"type\":\"BasicTickFormatter\"},{\"attributes\":{\"source\":{\"id\":\"b4b04988-0306-49db-a01d-f24da2599361\",\"type\":\"ColumnDataSource\"}},\"id\":\"0b2dbca8-f40e-44c7-a8dd-709130e206e1\",\"type\":\"CDSView\"},{\"attributes\":{},\"id\":\"13489ed9-21e6-4a84-bd51-46f1c2ef233b\",\"type\":\"BasicTickFormatter\"},{\"attributes\":{\"callback\":null},\"id\":\"90457386-cb14-4e4a-896c-f7da577333de\",\"type\":\"DataRange1d\"},{\"attributes\":{\"active_drag\":\"auto\",\"active_inspect\":\"auto\",\"active_scroll\":\"auto\",\"active_tap\":\"auto\",\"tools\":[{\"id\":\"db5cf21a-06a6-4e04-b0a5-e181d53c128d\",\"type\":\"PanTool\"},{\"id\":\"a95fc5dd-5fbd-4702-9ddc-aabcb7d0925a\",\"type\":\"WheelZoomTool\"},{\"id\":\"85635282-bceb-4b06-be3d-48825cef9fa7\",\"type\":\"BoxZoomTool\"},{\"id\":\"cc2e030e-830e-4531-89c6-4245fe22e63f\",\"type\":\"SaveTool\"},{\"id\":\"6f5f528d-c724-4081-bd55-8ec865225e50\",\"type\":\"ResetTool\"},{\"id\":\"e75ff7cb-16c2-4504-a561-f1cf06900335\",\"type\":\"HelpTool\"}]},\"id\":\"af3ab0e4-62de-47c1-8fba-81c60b5d05df\",\"type\":\"Toolbar\"}],\"root_ids\":[\"02102eb5-9f22-45db-9e42-7e7e9f8576eb\"]},\"title\":\"Bokeh Application\",\"version\":\"0.12.15\"}};\n",
       "  var render_items = [{\"docid\":\"52adf46c-1a8f-4ab0-963c-3bef630c080a\",\"elementid\":\"a32ac500-0a2c-4a08-8de4-1758d06ac516\",\"modelid\":\"02102eb5-9f22-45db-9e42-7e7e9f8576eb\"}];\n",
       "  root.Bokeh.embed.embed_items_notebook(docs_json, render_items);\n",
       "\n",
       "  }\n",
       "  if (root.Bokeh !== undefined) {\n",
       "    embed_document(root);\n",
       "  } else {\n",
       "    var attempts = 0;\n",
       "    var timer = setInterval(function(root) {\n",
       "      if (root.Bokeh !== undefined) {\n",
       "        embed_document(root);\n",
       "        clearInterval(timer);\n",
       "      }\n",
       "      attempts++;\n",
       "      if (attempts > 100) {\n",
       "        console.log(\"Bokeh: ERROR: Unable to run BokehJS code because BokehJS library is missing\")\n",
       "        clearInterval(timer);\n",
       "      }\n",
       "    }, 10, root)\n",
       "  }\n",
       "})(window);"
      ],
      "application/vnd.bokehjs_exec.v0+json": ""
     },
     "metadata": {
      "application/vnd.bokehjs_exec.v0+json": {
       "id": "02102eb5-9f22-45db-9e42-7e7e9f8576eb"
      }
     },
     "output_type": "display_data"
    },
    {
     "name": "stdout",
     "output_type": "stream",
     "text": [
      "Done\n"
     ]
    }
   ],
   "source": [
    "##Optimal learning rates\n",
    "\n",
    "#Log\n",
    "\n",
    "find_logs = []\n",
    "\n",
    "#Plotting\n",
    "\n",
    "source_find = ColumnDataSource(data=dict(epoch=[], loss=[], lr=[]))\n",
    "settings = dict(plot_width=480, plot_height=430, min_border=0)\n",
    "pf = figure(title=\"Optimal learning rates\", x_axis_label=\"epoch\",y_axis_label=\"Loss\", **settings)\n",
    "pf.line(x='epoch', y='loss', source=source_find)\n",
    "\n",
    "pf2 = figure(title=\"Corresponding Learning rate\", x_axis_label=\"epoch\", y_axis_label=\"Learning rate\", **settings)\n",
    "pf2.line(x='epoch', y='lr', source=source_find, color=\"orange\")\n",
    "\n",
    "tf = show(column(pf,pf2), notebook_handle=True)\n",
    "\n",
    "#Config\n",
    "train = h5py.File('./train.hdf5', 'r')\n",
    "finder.train()\n",
    "finder_x = train_x[:batch_size]\n",
    "batch_num = len(finder_x) // batch_size\n",
    "\n",
    "optimizer_find = optim.Adam(finder.parameters(), lr=calc_lr(50))\n",
    "scheduler = optim.lr_scheduler.ExponentialLR(optimizer_find, 1.3, last_epoch=-1)\n",
    "\n",
    "for epoch in tqdm(range(50,80)):\n",
    "    \n",
    "    #Training\n",
    "    \n",
    "    for batch in tqdm(range(0,batch_num), disable=True):\n",
    "        \n",
    "        start = batch*batch_size\n",
    "        end = batch*batch_size + batch_size\n",
    "        \n",
    "        target = torch.from_numpy(train['initmol'][start:end]).view(-1, N_Max_atom).float()\n",
    "        if use_cuda:\n",
    "            target = target.cuda()\n",
    "        target = torch.log(target)\n",
    "        y_hat, edge = finder(train, start, end)\n",
    "        \n",
    "        loss = criterion(y_hat, target)\n",
    "        loss.backward()\n",
    "        optimizer_find.step()\n",
    "        finder.zero_grad()\n",
    "    \n",
    "    \n",
    "    #Logiging \n",
    "    if use_cuda:\n",
    "        loss = loss.cpu()\n",
    "    new_data_find = {'epoch' : [epoch], 'loss' : [loss.detach().numpy()], 'lr' : [calc_lr(epoch)]}\n",
    "    new_data_find_df = {'epoch' : epoch, 'loss' : loss.detach().numpy(), 'lr' : calc_lr(epoch)}\n",
    "    source_find.stream(new_data_find)\n",
    "    \n",
    "    find_logs.append(new_data_find_df)\n",
    "    df_find = pd.DataFrame(find_logs)\n",
    "    df_find.to_csv(\"./find_logs.csv\", index=False)\n",
    "    \n",
    "    scheduler.step()\n",
    "    \n",
    "    #Show plots\n",
    "    \n",
    "    push_notebook(handle=tf)\n",
    "\n",
    "clear_output()\n",
    "\n",
    "find_logs = pd.read_csv('./find_logs.csv')\n",
    "source_find = ColumnDataSource(find_logs)\n",
    "\n",
    "tf = show(column(pf,pf2))\n",
    "\n",
    "print('Done')"
   ]
  },
  {
   "cell_type": "markdown",
   "metadata": {},
   "source": [
    "Training(below cell)"
   ]
  },
  {
   "cell_type": "code",
   "execution_count": 21,
   "metadata": {},
   "outputs": [
    {
     "data": {
      "text/html": [
       "\n",
       "<div class=\"bk-root\">\n",
       "    <div class=\"bk-plotdiv\" id=\"6d7c817f-a3de-4760-9bc5-05626830ca04\"></div>\n",
       "</div>"
      ]
     },
     "metadata": {},
     "output_type": "display_data"
    },
    {
     "data": {
      "application/javascript": [
       "(function(root) {\n",
       "  function embed_document(root) {\n",
       "    \n",
       "  var docs_json = {\"1575afd2-5232-46de-9f59-d4167597d060\":{\"roots\":{\"references\":[{\"attributes\":{\"bottom_units\":\"screen\",\"fill_alpha\":{\"value\":0.5},\"fill_color\":{\"value\":\"lightgrey\"},\"left_units\":\"screen\",\"level\":\"overlay\",\"line_alpha\":{\"value\":1.0},\"line_color\":{\"value\":\"black\"},\"line_dash\":[4,4],\"line_width\":{\"value\":2},\"plot\":null,\"render_mode\":\"css\",\"right_units\":\"screen\",\"top_units\":\"screen\"},\"id\":\"abbff90c-73a5-4473-b93c-362431069591\",\"type\":\"BoxAnnotation\"},{\"attributes\":{},\"id\":\"b5acde77-c889-4458-8194-bebe35a9d2b5\",\"type\":\"PanTool\"},{\"attributes\":{\"data_source\":{\"id\":\"5e078be5-c1b5-4924-a303-50d752afec3e\",\"type\":\"ColumnDataSource\"},\"glyph\":{\"id\":\"440e4c3d-eb3c-4021-9afd-b8812f2c5cb5\",\"type\":\"Line\"},\"hover_glyph\":null,\"muted_glyph\":null,\"nonselection_glyph\":{\"id\":\"82fc5291-50f1-456d-a453-358854152907\",\"type\":\"Line\"},\"selection_glyph\":null,\"view\":{\"id\":\"b4ac1567-b98a-4c84-bf11-c3ce53995972\",\"type\":\"CDSView\"}},\"id\":\"b3c8ca63-497b-4b64-830e-679063f761fc\",\"type\":\"GlyphRenderer\"},{\"attributes\":{\"below\":[{\"id\":\"1e55c60f-7a44-412b-9a23-96ef828d102c\",\"type\":\"LinearAxis\"}],\"left\":[{\"id\":\"9acc8315-0a31-41f1-a1eb-f9c437241413\",\"type\":\"LinearAxis\"}],\"min_border\":0,\"plot_height\":430,\"plot_width\":480,\"renderers\":[{\"id\":\"1e55c60f-7a44-412b-9a23-96ef828d102c\",\"type\":\"LinearAxis\"},{\"id\":\"c38924e7-74eb-46c8-858d-e6b60580cd3d\",\"type\":\"Grid\"},{\"id\":\"9acc8315-0a31-41f1-a1eb-f9c437241413\",\"type\":\"LinearAxis\"},{\"id\":\"41ac0212-46d7-4b80-b60c-a7a639abf09d\",\"type\":\"Grid\"},{\"id\":\"abbff90c-73a5-4473-b93c-362431069591\",\"type\":\"BoxAnnotation\"},{\"id\":\"b3c8ca63-497b-4b64-830e-679063f761fc\",\"type\":\"GlyphRenderer\"},{\"id\":\"e77b5492-aeb6-4efb-9f33-d069e10670b9\",\"type\":\"GlyphRenderer\"}],\"title\":{\"id\":\"d2e1221a-b922-4cf4-a56c-2ec0086d6be9\",\"type\":\"Title\"},\"toolbar\":{\"id\":\"f1a8c78e-c20b-4030-a9a1-eb2e4140188b\",\"type\":\"Toolbar\"},\"x_range\":{\"id\":\"701607e0-d18d-416f-b44c-b2846def4d60\",\"type\":\"DataRange1d\"},\"x_scale\":{\"id\":\"16db7a09-382f-4d75-bac5-eb9d218bfef8\",\"type\":\"LinearScale\"},\"y_range\":{\"id\":\"c02395cb-8bf6-4a95-a595-2df27d8d9dbe\",\"type\":\"DataRange1d\"},\"y_scale\":{\"id\":\"f5d0823a-0c91-419c-98a0-4244867d3911\",\"type\":\"LinearScale\"}},\"id\":\"e8a7d973-544e-4a92-8010-ee0daca56242\",\"subtype\":\"Figure\",\"type\":\"Plot\"},{\"attributes\":{},\"id\":\"6132758b-107f-47b8-b485-62110acea5ef\",\"type\":\"WheelZoomTool\"},{\"attributes\":{\"overlay\":{\"id\":\"abbff90c-73a5-4473-b93c-362431069591\",\"type\":\"BoxAnnotation\"}},\"id\":\"06c65dfa-2e13-4803-b110-9dbd276401e5\",\"type\":\"BoxZoomTool\"},{\"attributes\":{},\"id\":\"5a6a4a34-6e1d-4585-a99e-5fff9e2530d5\",\"type\":\"SaveTool\"},{\"attributes\":{},\"id\":\"249829e2-ac60-47d9-ae69-f655aa742f9f\",\"type\":\"ResetTool\"},{\"attributes\":{},\"id\":\"f883e5d6-24bd-43c9-a7ba-91ab831dc799\",\"type\":\"HelpTool\"},{\"attributes\":{},\"id\":\"1bbfa0f4-661f-4657-a471-e79279d60e28\",\"type\":\"BasicTickFormatter\"},{\"attributes\":{\"source\":{\"id\":\"5e078be5-c1b5-4924-a303-50d752afec3e\",\"type\":\"ColumnDataSource\"}},\"id\":\"b4ac1567-b98a-4c84-bf11-c3ce53995972\",\"type\":\"CDSView\"},{\"attributes\":{\"line_color\":\"orange\",\"x\":{\"field\":\"epoch\"},\"y\":{\"field\":\"loss\"}},\"id\":\"287d36fb-644f-4a27-912e-4c3c63934dd2\",\"type\":\"Line\"},{\"attributes\":{\"data_source\":{\"id\":\"a869ef3f-d6e9-4022-910d-2953254b23e9\",\"type\":\"ColumnDataSource\"},\"glyph\":{\"id\":\"287d36fb-644f-4a27-912e-4c3c63934dd2\",\"type\":\"Line\"},\"hover_glyph\":null,\"muted_glyph\":null,\"nonselection_glyph\":{\"id\":\"547a7c22-12d7-40c0-a43f-40161dc7cc9c\",\"type\":\"Line\"},\"selection_glyph\":null,\"view\":{\"id\":\"59445cc4-3477-4d16-8dab-4a2e881ce045\",\"type\":\"CDSView\"}},\"id\":\"e77b5492-aeb6-4efb-9f33-d069e10670b9\",\"type\":\"GlyphRenderer\"},{\"attributes\":{\"line_alpha\":0.1,\"line_color\":\"#1f77b4\",\"x\":{\"field\":\"epoch\"},\"y\":{\"field\":\"loss\"}},\"id\":\"547a7c22-12d7-40c0-a43f-40161dc7cc9c\",\"type\":\"Line\"},{\"attributes\":{\"active_drag\":\"auto\",\"active_inspect\":\"auto\",\"active_scroll\":\"auto\",\"active_tap\":\"auto\",\"tools\":[{\"id\":\"b5acde77-c889-4458-8194-bebe35a9d2b5\",\"type\":\"PanTool\"},{\"id\":\"6132758b-107f-47b8-b485-62110acea5ef\",\"type\":\"WheelZoomTool\"},{\"id\":\"06c65dfa-2e13-4803-b110-9dbd276401e5\",\"type\":\"BoxZoomTool\"},{\"id\":\"5a6a4a34-6e1d-4585-a99e-5fff9e2530d5\",\"type\":\"SaveTool\"},{\"id\":\"249829e2-ac60-47d9-ae69-f655aa742f9f\",\"type\":\"ResetTool\"},{\"id\":\"f883e5d6-24bd-43c9-a7ba-91ab831dc799\",\"type\":\"HelpTool\"}]},\"id\":\"f1a8c78e-c20b-4030-a9a1-eb2e4140188b\",\"type\":\"Toolbar\"},{\"attributes\":{\"line_alpha\":0.1,\"line_color\":\"#1f77b4\",\"x\":{\"field\":\"epoch\"},\"y\":{\"field\":\"loss\"}},\"id\":\"82fc5291-50f1-456d-a453-358854152907\",\"type\":\"Line\"},{\"attributes\":{\"callback\":null,\"column_names\":[\"epoch\",\"loss\"],\"data\":{\"epoch\":[],\"loss\":[]},\"selected\":null,\"selection_policy\":null},\"id\":\"5e078be5-c1b5-4924-a303-50d752afec3e\",\"type\":\"ColumnDataSource\"},{\"attributes\":{\"callback\":null,\"column_names\":[\"epoch\",\"loss\"],\"data\":{\"epoch\":[],\"loss\":[]},\"selected\":null,\"selection_policy\":null},\"id\":\"a869ef3f-d6e9-4022-910d-2953254b23e9\",\"type\":\"ColumnDataSource\"},{\"attributes\":{\"source\":{\"id\":\"a869ef3f-d6e9-4022-910d-2953254b23e9\",\"type\":\"ColumnDataSource\"}},\"id\":\"59445cc4-3477-4d16-8dab-4a2e881ce045\",\"type\":\"CDSView\"},{\"attributes\":{},\"id\":\"f5d0823a-0c91-419c-98a0-4244867d3911\",\"type\":\"LinearScale\"},{\"attributes\":{\"plot\":{\"id\":\"e8a7d973-544e-4a92-8010-ee0daca56242\",\"subtype\":\"Figure\",\"type\":\"Plot\"},\"ticker\":{\"id\":\"a1ea7aab-0cbb-424e-80f7-8de45cbbcfaa\",\"type\":\"BasicTicker\"}},\"id\":\"c38924e7-74eb-46c8-858d-e6b60580cd3d\",\"type\":\"Grid\"},{\"attributes\":{\"plot\":null,\"text\":\"KLDiv\"},\"id\":\"d2e1221a-b922-4cf4-a56c-2ec0086d6be9\",\"type\":\"Title\"},{\"attributes\":{\"callback\":null},\"id\":\"701607e0-d18d-416f-b44c-b2846def4d60\",\"type\":\"DataRange1d\"},{\"attributes\":{},\"id\":\"16db7a09-382f-4d75-bac5-eb9d218bfef8\",\"type\":\"LinearScale\"},{\"attributes\":{\"callback\":null},\"id\":\"c02395cb-8bf6-4a95-a595-2df27d8d9dbe\",\"type\":\"DataRange1d\"},{\"attributes\":{\"axis_label\":\"epoch\",\"formatter\":{\"id\":\"1bbfa0f4-661f-4657-a471-e79279d60e28\",\"type\":\"BasicTickFormatter\"},\"plot\":{\"id\":\"e8a7d973-544e-4a92-8010-ee0daca56242\",\"subtype\":\"Figure\",\"type\":\"Plot\"},\"ticker\":{\"id\":\"a1ea7aab-0cbb-424e-80f7-8de45cbbcfaa\",\"type\":\"BasicTicker\"}},\"id\":\"1e55c60f-7a44-412b-9a23-96ef828d102c\",\"type\":\"LinearAxis\"},{\"attributes\":{},\"id\":\"a1ea7aab-0cbb-424e-80f7-8de45cbbcfaa\",\"type\":\"BasicTicker\"},{\"attributes\":{\"axis_label\":\"Loss\",\"formatter\":{\"id\":\"30641d91-d7bd-4732-bcfa-0048468ebe28\",\"type\":\"BasicTickFormatter\"},\"plot\":{\"id\":\"e8a7d973-544e-4a92-8010-ee0daca56242\",\"subtype\":\"Figure\",\"type\":\"Plot\"},\"ticker\":{\"id\":\"4e1d3db1-9e6c-4f26-bd04-83de2f4a1d1d\",\"type\":\"BasicTicker\"}},\"id\":\"9acc8315-0a31-41f1-a1eb-f9c437241413\",\"type\":\"LinearAxis\"},{\"attributes\":{},\"id\":\"4e1d3db1-9e6c-4f26-bd04-83de2f4a1d1d\",\"type\":\"BasicTicker\"},{\"attributes\":{\"dimension\":1,\"plot\":{\"id\":\"e8a7d973-544e-4a92-8010-ee0daca56242\",\"subtype\":\"Figure\",\"type\":\"Plot\"},\"ticker\":{\"id\":\"4e1d3db1-9e6c-4f26-bd04-83de2f4a1d1d\",\"type\":\"BasicTicker\"}},\"id\":\"41ac0212-46d7-4b80-b60c-a7a639abf09d\",\"type\":\"Grid\"},{\"attributes\":{\"line_color\":\"#1f77b4\",\"x\":{\"field\":\"epoch\"},\"y\":{\"field\":\"loss\"}},\"id\":\"440e4c3d-eb3c-4021-9afd-b8812f2c5cb5\",\"type\":\"Line\"},{\"attributes\":{},\"id\":\"30641d91-d7bd-4732-bcfa-0048468ebe28\",\"type\":\"BasicTickFormatter\"}],\"root_ids\":[\"e8a7d973-544e-4a92-8010-ee0daca56242\"]},\"title\":\"Bokeh Application\",\"version\":\"0.12.15\"}};\n",
       "  var render_items = [{\"docid\":\"1575afd2-5232-46de-9f59-d4167597d060\",\"elementid\":\"6d7c817f-a3de-4760-9bc5-05626830ca04\",\"modelid\":\"e8a7d973-544e-4a92-8010-ee0daca56242\",\"notebook_comms_target\":\"9250a112-1bfc-4b0b-b1d0-23f77a4e7399\"}];\n",
       "  root.Bokeh.embed.embed_items_notebook(docs_json, render_items);\n",
       "\n",
       "  }\n",
       "  if (root.Bokeh !== undefined) {\n",
       "    embed_document(root);\n",
       "  } else {\n",
       "    var attempts = 0;\n",
       "    var timer = setInterval(function(root) {\n",
       "      if (root.Bokeh !== undefined) {\n",
       "        embed_document(root);\n",
       "        clearInterval(timer);\n",
       "      }\n",
       "      attempts++;\n",
       "      if (attempts > 100) {\n",
       "        console.log(\"Bokeh: ERROR: Unable to run BokehJS code because BokehJS library is missing\")\n",
       "        clearInterval(timer);\n",
       "      }\n",
       "    }, 10, root)\n",
       "  }\n",
       "})(window);"
      ],
      "application/vnd.bokehjs_exec.v0+json": ""
     },
     "metadata": {
      "application/vnd.bokehjs_exec.v0+json": {
       "id": "e8a7d973-544e-4a92-8010-ee0daca56242"
      }
     },
     "output_type": "display_data"
    },
    {
     "data": {
      "application/vnd.jupyter.widget-view+json": {
       "model_id": "1544949c728343f99c63625cc9a2fc29",
       "version_major": 2,
       "version_minor": 0
      },
      "text/plain": [
       "HBox(children=(IntProgress(value=0), HTML(value='')))"
      ]
     },
     "metadata": {},
     "output_type": "display_data"
    },
    {
     "data": {
      "application/vnd.jupyter.widget-view+json": {
       "model_id": "c2b3c45a656147b09a6e3ad8ad3176ab",
       "version_major": 2,
       "version_minor": 0
      },
      "text/plain": [
       "HBox(children=(IntProgress(value=0, max=86), HTML(value='')))"
      ]
     },
     "metadata": {},
     "output_type": "display_data"
    },
    {
     "data": {
      "application/vnd.jupyter.widget-view+json": {
       "model_id": "50def70aa44940fa9a9b05ab4d4cc5be",
       "version_major": 2,
       "version_minor": 0
      },
      "text/plain": [
       "HBox(children=(IntProgress(value=0, max=86), HTML(value='')))"
      ]
     },
     "metadata": {},
     "output_type": "display_data"
    },
    {
     "data": {
      "application/vnd.jupyter.widget-view+json": {
       "model_id": "9cc2f3ed7c2643b4a15c2c580541984d",
       "version_major": 2,
       "version_minor": 0
      },
      "text/plain": [
       "HBox(children=(IntProgress(value=0, max=86), HTML(value='')))"
      ]
     },
     "metadata": {},
     "output_type": "display_data"
    },
    {
     "data": {
      "application/vnd.jupyter.widget-view+json": {
       "model_id": "044e173031b44da08b6419e17d1da5d7",
       "version_major": 2,
       "version_minor": 0
      },
      "text/plain": [
       "HBox(children=(IntProgress(value=0, max=86), HTML(value='')))"
      ]
     },
     "metadata": {},
     "output_type": "display_data"
    },
    {
     "data": {
      "application/vnd.jupyter.widget-view+json": {
       "model_id": "047e9d07098f423f978ad1ca4fc522eb",
       "version_major": 2,
       "version_minor": 0
      },
      "text/plain": [
       "HBox(children=(IntProgress(value=0, max=86), HTML(value='')))"
      ]
     },
     "metadata": {},
     "output_type": "display_data"
    },
    {
     "data": {
      "application/vnd.jupyter.widget-view+json": {
       "model_id": "9b25777e2be04d1b951435b366c5ea72",
       "version_major": 2,
       "version_minor": 0
      },
      "text/plain": [
       "HBox(children=(IntProgress(value=0, max=86), HTML(value='')))"
      ]
     },
     "metadata": {},
     "output_type": "display_data"
    },
    {
     "ename": "RuntimeError",
     "evalue": "cuda runtime error (59) : device-side assert triggered at /opt/conda/conda-bld/pytorch_1524586445097/work/aten/src/THC/generated/../THCReduceAll.cuh:339",
     "output_type": "error",
     "traceback": [
      "\u001b[0;31m---------------------------------------------------------------------------\u001b[0m",
      "\u001b[0;31mRuntimeError\u001b[0m                              Traceback (most recent call last)",
      "\u001b[0;32m<ipython-input-21-e96843cf3b10>\u001b[0m in \u001b[0;36m<module>\u001b[0;34m()\u001b[0m\n\u001b[1;32m     37\u001b[0m             \u001b[0mtarget\u001b[0m \u001b[0;34m=\u001b[0m \u001b[0mtarget\u001b[0m\u001b[0;34m.\u001b[0m\u001b[0mcuda\u001b[0m\u001b[0;34m(\u001b[0m\u001b[0;34m)\u001b[0m\u001b[0;34m\u001b[0m\u001b[0m\n\u001b[1;32m     38\u001b[0m         \u001b[0mclassifier\u001b[0m\u001b[0;34m.\u001b[0m\u001b[0mtrain\u001b[0m\u001b[0;34m(\u001b[0m\u001b[0;34m)\u001b[0m\u001b[0;34m\u001b[0m\u001b[0m\n\u001b[0;32m---> 39\u001b[0;31m         \u001b[0my_hat\u001b[0m\u001b[0;34m,\u001b[0m \u001b[0medge\u001b[0m \u001b[0;34m=\u001b[0m \u001b[0mclassifier\u001b[0m\u001b[0;34m(\u001b[0m\u001b[0mtrain\u001b[0m\u001b[0;34m,\u001b[0m \u001b[0mstart\u001b[0m\u001b[0;34m,\u001b[0m \u001b[0mend\u001b[0m\u001b[0;34m)\u001b[0m\u001b[0;34m\u001b[0m\u001b[0m\n\u001b[0m\u001b[1;32m     40\u001b[0m \u001b[0;34m\u001b[0m\u001b[0m\n\u001b[1;32m     41\u001b[0m         \u001b[0mloss\u001b[0m \u001b[0;34m=\u001b[0m \u001b[0mcriterion\u001b[0m\u001b[0;34m(\u001b[0m\u001b[0my_hat\u001b[0m\u001b[0;34m,\u001b[0m \u001b[0mtarget\u001b[0m\u001b[0;34m)\u001b[0m\u001b[0;34m\u001b[0m\u001b[0m\n",
      "\u001b[0;32m~/miniconda3/lib/python3.6/site-packages/torch/nn/modules/module.py\u001b[0m in \u001b[0;36m__call__\u001b[0;34m(self, *input, **kwargs)\u001b[0m\n\u001b[1;32m    489\u001b[0m             \u001b[0mresult\u001b[0m \u001b[0;34m=\u001b[0m \u001b[0mself\u001b[0m\u001b[0;34m.\u001b[0m\u001b[0m_slow_forward\u001b[0m\u001b[0;34m(\u001b[0m\u001b[0;34m*\u001b[0m\u001b[0minput\u001b[0m\u001b[0;34m,\u001b[0m \u001b[0;34m**\u001b[0m\u001b[0mkwargs\u001b[0m\u001b[0;34m)\u001b[0m\u001b[0;34m\u001b[0m\u001b[0m\n\u001b[1;32m    490\u001b[0m         \u001b[0;32melse\u001b[0m\u001b[0;34m:\u001b[0m\u001b[0;34m\u001b[0m\u001b[0m\n\u001b[0;32m--> 491\u001b[0;31m             \u001b[0mresult\u001b[0m \u001b[0;34m=\u001b[0m \u001b[0mself\u001b[0m\u001b[0;34m.\u001b[0m\u001b[0mforward\u001b[0m\u001b[0;34m(\u001b[0m\u001b[0;34m*\u001b[0m\u001b[0minput\u001b[0m\u001b[0;34m,\u001b[0m \u001b[0;34m**\u001b[0m\u001b[0mkwargs\u001b[0m\u001b[0;34m)\u001b[0m\u001b[0;34m\u001b[0m\u001b[0m\n\u001b[0m\u001b[1;32m    492\u001b[0m         \u001b[0;32mfor\u001b[0m \u001b[0mhook\u001b[0m \u001b[0;32min\u001b[0m \u001b[0mself\u001b[0m\u001b[0;34m.\u001b[0m\u001b[0m_forward_hooks\u001b[0m\u001b[0;34m.\u001b[0m\u001b[0mvalues\u001b[0m\u001b[0;34m(\u001b[0m\u001b[0;34m)\u001b[0m\u001b[0;34m:\u001b[0m\u001b[0;34m\u001b[0m\u001b[0m\n\u001b[1;32m    493\u001b[0m             \u001b[0mhook_result\u001b[0m \u001b[0;34m=\u001b[0m \u001b[0mhook\u001b[0m\u001b[0;34m(\u001b[0m\u001b[0mself\u001b[0m\u001b[0;34m,\u001b[0m \u001b[0minput\u001b[0m\u001b[0;34m,\u001b[0m \u001b[0mresult\u001b[0m\u001b[0;34m)\u001b[0m\u001b[0;34m\u001b[0m\u001b[0m\n",
      "\u001b[0;32m<ipython-input-17-65a9e99a01ef>\u001b[0m in \u001b[0;36mforward\u001b[0;34m(self, hdf, start, end)\u001b[0m\n\u001b[1;32m     74\u001b[0m \u001b[0;34m\u001b[0m\u001b[0m\n\u001b[1;32m     75\u001b[0m         \u001b[0mposition\u001b[0m \u001b[0;34m=\u001b[0m \u001b[0;36m1\u001b[0m\u001b[0;34m\u001b[0m\u001b[0m\n\u001b[0;32m---> 76\u001b[0;31m         \u001b[0;32mwhile\u001b[0m \u001b[0mtorch\u001b[0m\u001b[0;34m.\u001b[0m\u001b[0msum\u001b[0m\u001b[0;34m(\u001b[0m\u001b[0mcheck_node\u001b[0m\u001b[0;34m)\u001b[0m \u001b[0;34m!=\u001b[0m \u001b[0;36m0\u001b[0m \u001b[0;32mand\u001b[0m \u001b[0mposition\u001b[0m \u001b[0;34m<\u001b[0m \u001b[0mself\u001b[0m\u001b[0;34m.\u001b[0m\u001b[0mN_Max_atom\u001b[0m \u001b[0;34m-\u001b[0m\u001b[0;36m1\u001b[0m\u001b[0;34m:\u001b[0m\u001b[0;34m\u001b[0m\u001b[0m\n\u001b[0m\u001b[1;32m     77\u001b[0m             \u001b[0;31m#print('atom position')\u001b[0m\u001b[0;34m\u001b[0m\u001b[0;34m\u001b[0m\u001b[0m\n\u001b[1;32m     78\u001b[0m             \u001b[0;31m#print(position)\u001b[0m\u001b[0;34m\u001b[0m\u001b[0;34m\u001b[0m\u001b[0m\n",
      "\u001b[0;31mRuntimeError\u001b[0m: cuda runtime error (59) : device-side assert triggered at /opt/conda/conda-bld/pytorch_1524586445097/work/aten/src/THC/generated/../THCReduceAll.cuh:339"
     ]
    }
   ],
   "source": [
    "#Log\n",
    "\n",
    "train_logs = []\n",
    "valid_logs = []\n",
    "\n",
    "#Plotting\n",
    "\n",
    "source_train = ColumnDataSource(data=dict(epoch=[], loss=[]))\n",
    "source_test = ColumnDataSource(data=dict(epoch=[], loss=[]))\n",
    "settings = dict(plot_width=480, plot_height=430, min_border=0)\n",
    "p = figure(title=\"KLDiv\", x_axis_label=\"epoch\",y_axis_label=\"Loss\", **settings)\n",
    "p.line(x='epoch', y='loss', source=source_train)\n",
    "p.line(x='epoch', y='loss', source=source_test, color=\"orange\")\n",
    "\n",
    "t = show(p, notebook_handle=True)\n",
    "\n",
    "#Config\n",
    "train = h5py.File('./train.hdf5', 'r')\n",
    "valid = h5py.File('./valid.hdf5', 'r')\n",
    "\n",
    "\n",
    "batch_num = len(train_x) // batch_size\n",
    "\n",
    "optimizer = optim.Adam(classifier.parameters(), lr=calc_lr(65))\n",
    "\n",
    "for epoch in tqdm(range(0,100)):\n",
    "    \n",
    "    #Training\n",
    "    \n",
    "    for batch in tqdm(range(0,batch_num)):\n",
    "        \n",
    "        start = batch*batch_size\n",
    "        end = batch*batch_size + batch_size\n",
    "        \n",
    "        target = torch.from_numpy(train['initmol'][start:end]).view(-1, N_Max_atom).float()\n",
    "        if use_cuda:\n",
    "            target = target.cuda()\n",
    "        classifier.train()\n",
    "        y_hat, edge = classifier(train, start, end)\n",
    "        \n",
    "        loss = criterion(y_hat, target)\n",
    "        loss.backward()\n",
    "        optimizer.step()\n",
    "        classifier.zero_grad()\n",
    "    \n",
    "    #Train set Evaluation\n",
    "    \n",
    "    if use_cuda:\n",
    "        loss = loss.cpu()\n",
    "    new_data_train = {'epoch' : [epoch], 'loss' : [loss.detach().numpy()]}\n",
    "    new_data_train_df = {'epoch' : epoch, 'loss' : loss.detach().numpy()}\n",
    "    source_train.stream(new_data_train)\n",
    "    \n",
    "    train_logs.append(new_data_train_df)\n",
    "    df_train = pd.DataFrame(train_logs)\n",
    "    df_train.to_csv(\"./train_logs.csv\", index=False)\n",
    "    \n",
    "    #Valid set Evaluation\n",
    "    \n",
    "    classifier.eval()\n",
    "    v_target = torch.from_numpy(valid['initmol'].value).view(-1, N_Max_atom).float()\n",
    "    if use_cuda:\n",
    "        v_target = v_target.cuda()\n",
    "    valid_y_hat, valid_edge = classifier(valid, 0, len(v_target))\n",
    "    valid_loss = criterion(valid_y_hat, v_target)\n",
    "    if use_cuda:\n",
    "        valid_loss = valid_loss.cpu()\n",
    "        \n",
    "    valid_new_data = {'epoch' : [epoch], 'loss' : [valid_loss.detach().numpy()]}\n",
    "    valid_new_data_df = {'epoch' : epoch, 'loss' : valid_loss.detach().numpy()}\n",
    "    source_test.stream(valid_new_data)\n",
    "        \n",
    "    valid_logs.append(valid_new_data_df)\n",
    "    df_test = pd.DataFrame(valid_logs)\n",
    "    df_test.to_csv(\"./valid_logs.csv\", index=False)\n",
    "    \n",
    "    #Show plots\n",
    "    \n",
    "    push_notebook(handle=t)\n",
    "    \n",
    "    #Save model\n",
    "    \n",
    "    torch.save(classifier.state_dict(), 'epoch{0}.pth' .format(epoch))\n",
    "        \n",
    "clear_output()\n",
    "\n",
    "train_logs = pd.read_csv('./train_logs.csv')\n",
    "test_logs = pd.read_csv('./valid_logs.csv')\n",
    "\n",
    "source_train = ColumnDataSource(train_logs)\n",
    "source_test = ColumnDataSource(test_logs)\n",
    "\n",
    "t = show(p, notebook_handle=True)\n",
    "\n",
    "train.flush()\n",
    "train.close()\n",
    "valid.flush()\n",
    "valid.close()\n",
    "print(\"Done\")"
   ]
  },
  {
   "cell_type": "markdown",
   "metadata": {},
   "source": [
    "Show Plot(below cell)"
   ]
  },
  {
   "cell_type": "code",
   "execution_count": 22,
   "metadata": {
    "scrolled": false
   },
   "outputs": [
    {
     "data": {
      "text/html": [
       "\n",
       "<div class=\"bk-root\">\n",
       "    <div class=\"bk-plotdiv\" id=\"c775c5fd-40dc-4bf8-885e-c5bbe953436f\"></div>\n",
       "</div>"
      ]
     },
     "metadata": {},
     "output_type": "display_data"
    },
    {
     "data": {
      "application/javascript": [
       "(function(root) {\n",
       "  function embed_document(root) {\n",
       "    \n",
       "  var docs_json = {\"a45fca36-b4ce-4339-99df-dfb92d1bf9df\":{\"roots\":{\"references\":[{\"attributes\":{\"active_drag\":\"auto\",\"active_inspect\":\"auto\",\"active_scroll\":\"auto\",\"active_tap\":\"auto\",\"tools\":[{\"id\":\"619db72f-8229-460f-a534-3fa4c1e8462b\",\"type\":\"PanTool\"},{\"id\":\"3d0f1dda-c74a-44eb-ad14-9f26508897e1\",\"type\":\"WheelZoomTool\"},{\"id\":\"9d40fb43-5c81-4085-9ce6-7d580d3c6d04\",\"type\":\"BoxZoomTool\"},{\"id\":\"f0669d6f-0404-4b83-915e-416fa0850146\",\"type\":\"SaveTool\"},{\"id\":\"6cf8c0f2-df51-4938-9665-f5bb91a0901c\",\"type\":\"ResetTool\"},{\"id\":\"504a4703-2176-4261-a550-ab44fd2db4ff\",\"type\":\"HelpTool\"}]},\"id\":\"e9769b24-1f23-43a1-a5ec-5572c4888345\",\"type\":\"Toolbar\"},{\"attributes\":{\"plot\":null,\"text\":\"Binary Cross Entropy Loss with Sigmoid Layer\"},\"id\":\"3e4566af-3d59-400e-bd91-98da5c34d7e6\",\"type\":\"Title\"},{\"attributes\":{\"label\":{\"value\":\"Train\"},\"renderers\":[{\"id\":\"4549bfa4-1ebe-418c-b720-52f6f0def41d\",\"type\":\"GlyphRenderer\"}]},\"id\":\"d7957315-d18d-469a-886d-483690e4b347\",\"type\":\"LegendItem\"},{\"attributes\":{\"callback\":null},\"id\":\"c7ba2a0a-fdf6-4823-a24d-f3a18a4018b7\",\"type\":\"DataRange1d\"},{\"attributes\":{\"line_alpha\":0.1,\"line_color\":\"#1f77b4\",\"x\":{\"field\":\"epoch\"},\"y\":{\"field\":\"loss\"}},\"id\":\"a9531cab-2c98-49f6-9c3a-6bab62723673\",\"type\":\"Line\"},{\"attributes\":{},\"id\":\"26911c31-5ddd-4ce4-bad9-2ba6b36d22ea\",\"type\":\"BasicTickFormatter\"},{\"attributes\":{},\"id\":\"3bcd9359-71f7-44e2-8a9a-491a270ece15\",\"type\":\"LinearScale\"},{\"attributes\":{\"callback\":null},\"id\":\"c6acf81d-3417-49ad-987b-45a5890f648b\",\"type\":\"DataRange1d\"},{\"attributes\":{},\"id\":\"93387210-df72-48ee-9cd6-c0b152ac4b38\",\"type\":\"LinearScale\"},{\"attributes\":{\"plot\":{\"id\":\"2cdc00c5-88da-4950-8662-7d14cd33d0e3\",\"subtype\":\"Figure\",\"type\":\"Plot\"},\"ticker\":{\"id\":\"3c438e6a-3aa2-474b-a6aa-134dd9149ab5\",\"type\":\"BasicTicker\"}},\"id\":\"783a8f5e-36fe-4890-bf3f-225a4f875344\",\"type\":\"Grid\"},{\"attributes\":{\"axis_label\":\"epoch\",\"formatter\":{\"id\":\"bdefef38-e8be-4ad8-a6be-f463e9c160a0\",\"type\":\"BasicTickFormatter\"},\"plot\":{\"id\":\"2cdc00c5-88da-4950-8662-7d14cd33d0e3\",\"subtype\":\"Figure\",\"type\":\"Plot\"},\"ticker\":{\"id\":\"3c438e6a-3aa2-474b-a6aa-134dd9149ab5\",\"type\":\"BasicTicker\"}},\"id\":\"9d03f628-33ab-4375-8eb6-381850ea43bf\",\"type\":\"LinearAxis\"},{\"attributes\":{},\"id\":\"3c438e6a-3aa2-474b-a6aa-134dd9149ab5\",\"type\":\"BasicTicker\"},{\"attributes\":{\"axis_label\":\"Loss\",\"formatter\":{\"id\":\"26911c31-5ddd-4ce4-bad9-2ba6b36d22ea\",\"type\":\"BasicTickFormatter\"},\"plot\":{\"id\":\"2cdc00c5-88da-4950-8662-7d14cd33d0e3\",\"subtype\":\"Figure\",\"type\":\"Plot\"},\"ticker\":{\"id\":\"4145bed0-2a3d-4c9c-8ea9-8de29f5ebd11\",\"type\":\"BasicTicker\"}},\"id\":\"27cd2677-2762-477c-86bb-c5b6e9a59082\",\"type\":\"LinearAxis\"},{\"attributes\":{},\"id\":\"4145bed0-2a3d-4c9c-8ea9-8de29f5ebd11\",\"type\":\"BasicTicker\"},{\"attributes\":{\"dimension\":1,\"plot\":{\"id\":\"2cdc00c5-88da-4950-8662-7d14cd33d0e3\",\"subtype\":\"Figure\",\"type\":\"Plot\"},\"ticker\":{\"id\":\"4145bed0-2a3d-4c9c-8ea9-8de29f5ebd11\",\"type\":\"BasicTicker\"}},\"id\":\"ebb57c7c-436e-4ccd-91de-2dd8bf935b6f\",\"type\":\"Grid\"},{\"attributes\":{\"line_color\":\"#1f77b4\",\"x\":{\"field\":\"epoch\"},\"y\":{\"field\":\"loss\"}},\"id\":\"aa4cf5dc-2140-4846-b665-b3e6f629f4bb\",\"type\":\"Line\"},{\"attributes\":{\"bottom_units\":\"screen\",\"fill_alpha\":{\"value\":0.5},\"fill_color\":{\"value\":\"lightgrey\"},\"left_units\":\"screen\",\"level\":\"overlay\",\"line_alpha\":{\"value\":1.0},\"line_color\":{\"value\":\"black\"},\"line_dash\":[4,4],\"line_width\":{\"value\":2},\"plot\":null,\"render_mode\":\"css\",\"right_units\":\"screen\",\"top_units\":\"screen\"},\"id\":\"f52af599-d735-4cc9-81ce-0e017acab607\",\"type\":\"BoxAnnotation\"},{\"attributes\":{},\"id\":\"619db72f-8229-460f-a534-3fa4c1e8462b\",\"type\":\"PanTool\"},{\"attributes\":{\"data_source\":{\"id\":\"be8ed6a6-87ef-41f2-94f7-74ed962e6a1a\",\"type\":\"ColumnDataSource\"},\"glyph\":{\"id\":\"aa4cf5dc-2140-4846-b665-b3e6f629f4bb\",\"type\":\"Line\"},\"hover_glyph\":null,\"muted_glyph\":null,\"nonselection_glyph\":{\"id\":\"a9531cab-2c98-49f6-9c3a-6bab62723673\",\"type\":\"Line\"},\"selection_glyph\":null,\"view\":{\"id\":\"8d2d390a-ea1f-4a60-a142-30a5ae305d03\",\"type\":\"CDSView\"}},\"id\":\"4549bfa4-1ebe-418c-b720-52f6f0def41d\",\"type\":\"GlyphRenderer\"},{\"attributes\":{},\"id\":\"3d0f1dda-c74a-44eb-ad14-9f26508897e1\",\"type\":\"WheelZoomTool\"},{\"attributes\":{\"overlay\":{\"id\":\"f52af599-d735-4cc9-81ce-0e017acab607\",\"type\":\"BoxAnnotation\"}},\"id\":\"9d40fb43-5c81-4085-9ce6-7d580d3c6d04\",\"type\":\"BoxZoomTool\"},{\"attributes\":{},\"id\":\"f0669d6f-0404-4b83-915e-416fa0850146\",\"type\":\"SaveTool\"},{\"attributes\":{\"callback\":null,\"column_names\":[\"epoch\",\"loss\",\"index\"],\"data\":{\"epoch\":[0,1,2,3,4],\"index\":[0,1,2,3,4],\"loss\":{\"__ndarray__\":\"B9LFppWqPUBrn47HDOBAQHqKHCJuXj5AoyB4fHsbQkAcQpWaPahCQA==\",\"dtype\":\"float64\",\"shape\":[5]}},\"selected\":null,\"selection_policy\":null},\"id\":\"be8ed6a6-87ef-41f2-94f7-74ed962e6a1a\",\"type\":\"ColumnDataSource\"},{\"attributes\":{},\"id\":\"6cf8c0f2-df51-4938-9665-f5bb91a0901c\",\"type\":\"ResetTool\"},{\"attributes\":{\"callback\":null,\"column_names\":[\"epoch\",\"loss\",\"index\"],\"data\":{\"epoch\":[0,1,2,3,4],\"index\":[0,1,2,3,4],\"loss\":{\"__ndarray__\":\"L4mzImoKQkDAYDdsWxREQD0s1JrmaUNAwy/186aWR0Am5IOezcZIQA==\",\"dtype\":\"float64\",\"shape\":[5]}},\"selected\":null,\"selection_policy\":null},\"id\":\"ea530cde-ae32-4405-b132-9c576c710f2f\",\"type\":\"ColumnDataSource\"},{\"attributes\":{},\"id\":\"504a4703-2176-4261-a550-ab44fd2db4ff\",\"type\":\"HelpTool\"},{\"attributes\":{},\"id\":\"bdefef38-e8be-4ad8-a6be-f463e9c160a0\",\"type\":\"BasicTickFormatter\"},{\"attributes\":{\"source\":{\"id\":\"be8ed6a6-87ef-41f2-94f7-74ed962e6a1a\",\"type\":\"ColumnDataSource\"}},\"id\":\"8d2d390a-ea1f-4a60-a142-30a5ae305d03\",\"type\":\"CDSView\"},{\"attributes\":{\"label\":{\"value\":\"Valid\"},\"renderers\":[{\"id\":\"361fd0e8-cf44-4822-8c0b-267b810d3b7b\",\"type\":\"GlyphRenderer\"}]},\"id\":\"c4b35cc9-add4-4542-bf2c-cbbd7261287b\",\"type\":\"LegendItem\"},{\"attributes\":{\"below\":[{\"id\":\"9d03f628-33ab-4375-8eb6-381850ea43bf\",\"type\":\"LinearAxis\"}],\"left\":[{\"id\":\"27cd2677-2762-477c-86bb-c5b6e9a59082\",\"type\":\"LinearAxis\"}],\"min_border\":0,\"plot_height\":430,\"plot_width\":480,\"renderers\":[{\"id\":\"9d03f628-33ab-4375-8eb6-381850ea43bf\",\"type\":\"LinearAxis\"},{\"id\":\"783a8f5e-36fe-4890-bf3f-225a4f875344\",\"type\":\"Grid\"},{\"id\":\"27cd2677-2762-477c-86bb-c5b6e9a59082\",\"type\":\"LinearAxis\"},{\"id\":\"ebb57c7c-436e-4ccd-91de-2dd8bf935b6f\",\"type\":\"Grid\"},{\"id\":\"f52af599-d735-4cc9-81ce-0e017acab607\",\"type\":\"BoxAnnotation\"},{\"id\":\"8b0c9160-17ab-4bf6-a3e1-98a87e3c6ead\",\"type\":\"Legend\"},{\"id\":\"4549bfa4-1ebe-418c-b720-52f6f0def41d\",\"type\":\"GlyphRenderer\"},{\"id\":\"361fd0e8-cf44-4822-8c0b-267b810d3b7b\",\"type\":\"GlyphRenderer\"}],\"title\":{\"id\":\"3e4566af-3d59-400e-bd91-98da5c34d7e6\",\"type\":\"Title\"},\"toolbar\":{\"id\":\"e9769b24-1f23-43a1-a5ec-5572c4888345\",\"type\":\"Toolbar\"},\"x_range\":{\"id\":\"c7ba2a0a-fdf6-4823-a24d-f3a18a4018b7\",\"type\":\"DataRange1d\"},\"x_scale\":{\"id\":\"3bcd9359-71f7-44e2-8a9a-491a270ece15\",\"type\":\"LinearScale\"},\"y_range\":{\"id\":\"c6acf81d-3417-49ad-987b-45a5890f648b\",\"type\":\"DataRange1d\"},\"y_scale\":{\"id\":\"93387210-df72-48ee-9cd6-c0b152ac4b38\",\"type\":\"LinearScale\"}},\"id\":\"2cdc00c5-88da-4950-8662-7d14cd33d0e3\",\"subtype\":\"Figure\",\"type\":\"Plot\"},{\"attributes\":{\"data_source\":{\"id\":\"ea530cde-ae32-4405-b132-9c576c710f2f\",\"type\":\"ColumnDataSource\"},\"glyph\":{\"id\":\"47997966-dbed-4d82-81a2-3b4cff0580fa\",\"type\":\"Line\"},\"hover_glyph\":null,\"muted_glyph\":null,\"nonselection_glyph\":{\"id\":\"6dd230c5-a44b-4435-bd68-b38d61065a67\",\"type\":\"Line\"},\"selection_glyph\":null,\"view\":{\"id\":\"db936e14-3150-414a-a4ad-1e06410d2b1f\",\"type\":\"CDSView\"}},\"id\":\"361fd0e8-cf44-4822-8c0b-267b810d3b7b\",\"type\":\"GlyphRenderer\"},{\"attributes\":{\"line_alpha\":0.1,\"line_color\":\"#1f77b4\",\"x\":{\"field\":\"epoch\"},\"y\":{\"field\":\"loss\"}},\"id\":\"6dd230c5-a44b-4435-bd68-b38d61065a67\",\"type\":\"Line\"},{\"attributes\":{\"source\":{\"id\":\"ea530cde-ae32-4405-b132-9c576c710f2f\",\"type\":\"ColumnDataSource\"}},\"id\":\"db936e14-3150-414a-a4ad-1e06410d2b1f\",\"type\":\"CDSView\"},{\"attributes\":{\"items\":[{\"id\":\"d7957315-d18d-469a-886d-483690e4b347\",\"type\":\"LegendItem\"},{\"id\":\"c4b35cc9-add4-4542-bf2c-cbbd7261287b\",\"type\":\"LegendItem\"}],\"plot\":{\"id\":\"2cdc00c5-88da-4950-8662-7d14cd33d0e3\",\"subtype\":\"Figure\",\"type\":\"Plot\"}},\"id\":\"8b0c9160-17ab-4bf6-a3e1-98a87e3c6ead\",\"type\":\"Legend\"},{\"attributes\":{\"line_color\":\"orange\",\"x\":{\"field\":\"epoch\"},\"y\":{\"field\":\"loss\"}},\"id\":\"47997966-dbed-4d82-81a2-3b4cff0580fa\",\"type\":\"Line\"}],\"root_ids\":[\"2cdc00c5-88da-4950-8662-7d14cd33d0e3\"]},\"title\":\"Bokeh Application\",\"version\":\"0.12.15\"}};\n",
       "  var render_items = [{\"docid\":\"a45fca36-b4ce-4339-99df-dfb92d1bf9df\",\"elementid\":\"c775c5fd-40dc-4bf8-885e-c5bbe953436f\",\"modelid\":\"2cdc00c5-88da-4950-8662-7d14cd33d0e3\",\"notebook_comms_target\":\"45b59e78-baa6-4ce8-9954-09625b880949\"}];\n",
       "  root.Bokeh.embed.embed_items_notebook(docs_json, render_items);\n",
       "\n",
       "  }\n",
       "  if (root.Bokeh !== undefined) {\n",
       "    embed_document(root);\n",
       "  } else {\n",
       "    var attempts = 0;\n",
       "    var timer = setInterval(function(root) {\n",
       "      if (root.Bokeh !== undefined) {\n",
       "        embed_document(root);\n",
       "        clearInterval(timer);\n",
       "      }\n",
       "      attempts++;\n",
       "      if (attempts > 100) {\n",
       "        console.log(\"Bokeh: ERROR: Unable to run BokehJS code because BokehJS library is missing\")\n",
       "        clearInterval(timer);\n",
       "      }\n",
       "    }, 10, root)\n",
       "  }\n",
       "})(window);"
      ],
      "application/vnd.bokehjs_exec.v0+json": ""
     },
     "metadata": {
      "application/vnd.bokehjs_exec.v0+json": {
       "id": "2cdc00c5-88da-4950-8662-7d14cd33d0e3"
      }
     },
     "output_type": "display_data"
    }
   ],
   "source": [
    "train_logs = pd.read_csv('./train_logs.csv')\n",
    "test_logs = pd.read_csv('./valid_logs.csv')\n",
    "\n",
    "source_train = ColumnDataSource(train_logs)\n",
    "source_test = ColumnDataSource(test_logs)\n",
    "settings = dict(plot_width=480, plot_height=430, min_border=0)\n",
    "p = figure(title=\"Binary Cross Entropy Loss with Sigmoid Layer\", x_axis_label=\"epoch\",y_axis_label=\"Loss\", **settings)\n",
    "p.line(x='epoch', y='loss', source=source_train, legend=\"Train\")\n",
    "p.line(x='epoch', y='loss', source=source_test, legend=\"Valid\", color=\"orange\")\n",
    "\n",
    "draw = show(p, notebook_handle=True)"
   ]
  },
  {
   "cell_type": "code",
   "execution_count": null,
   "metadata": {},
   "outputs": [],
   "source": []
  }
 ],
 "metadata": {
  "kernelspec": {
   "display_name": "Python 3",
   "language": "python",
   "name": "python3"
  },
  "language_info": {
   "codemirror_mode": {
    "name": "ipython",
    "version": 3
   },
   "file_extension": ".py",
   "mimetype": "text/x-python",
   "name": "python",
   "nbconvert_exporter": "python",
   "pygments_lexer": "ipython3",
   "version": "3.6.5"
  },
  "widgets": {
   "application/vnd.jupyter.widget-state+json": {
    "state": {
     "00340058229747d7be2c8f7bbc56c15c": {
      "model_module": "jupyter-js-widgets",
      "model_module_version": "~2.1.4",
      "model_name": "LayoutModel",
      "state": {
       "_model_module_version": "~2.1.4",
       "_view_module_version": "~2.1.4"
      }
     },
     "0043c69f098744f79fd08c870316561e": {
      "model_module": "jupyter-js-widgets",
      "model_module_version": "~2.1.4",
      "model_name": "HTMLModel",
      "state": {
       "_model_module_version": "~2.1.4",
       "_view_module_version": "~2.1.4",
       "layout": "IPY_MODEL_15793e8f2c104810b289ec9967f6f997",
       "value": "100% 1/1 [00:09&lt;00:00,  9.87s/it]"
      }
     },
     "019e4da2875647bda4c264124177324b": {
      "model_module": "jupyter-js-widgets",
      "model_module_version": "~2.1.4",
      "model_name": "ProgressStyleModel",
      "state": {
       "_model_module_version": "~2.1.4",
       "_view_module_version": "~2.1.4"
      }
     },
     "01e6100c0a994e9195e35d2411346277": {
      "model_module": "jupyter-js-widgets",
      "model_module_version": "~2.1.4",
      "model_name": "HTMLModel",
      "state": {
       "_model_module_version": "~2.1.4",
       "_view_module_version": "~2.1.4",
       "layout": "IPY_MODEL_f1b522b68acd4383845f0761c87d876e",
       "value": "100% 1/1 [00:10&lt;00:00, 10.23s/it]"
      }
     },
     "0260934462e54d3382a016bc2d846a5f": {
      "model_module": "jupyter-js-widgets",
      "model_module_version": "~2.1.4",
      "model_name": "ProgressStyleModel",
      "state": {
       "_model_module_version": "~2.1.4",
       "_view_module_version": "~2.1.4"
      }
     },
     "03d27a7aedf54f688fdb5551b9e69ef2": {
      "model_module": "jupyter-js-widgets",
      "model_module_version": "~2.1.4",
      "model_name": "ProgressStyleModel",
      "state": {
       "_model_module_version": "~2.1.4",
       "_view_module_version": "~2.1.4"
      }
     },
     "046f2c7693d243c9b6806e926b98df93": {
      "model_module": "jupyter-js-widgets",
      "model_module_version": "~2.1.4",
      "model_name": "ProgressModel",
      "state": {
       "_model_module_version": "~2.1.4",
       "_view_module_version": "~2.1.4",
       "bar_style": "success",
       "layout": "IPY_MODEL_7c377b1d7fbc44f58f72c177cf86953d",
       "max": 1,
       "style": "IPY_MODEL_9c56675e4ce44a31867cedb9f74b1407",
       "value": 1
      }
     },
     "053c0dc5a6f6415e912ffaf9b79842dc": {
      "model_module": "jupyter-js-widgets",
      "model_module_version": "~2.1.4",
      "model_name": "LayoutModel",
      "state": {
       "_model_module_version": "~2.1.4",
       "_view_module_version": "~2.1.4"
      }
     },
     "066f6c3554064f3ca7b6901c7e650f18": {
      "model_module": "jupyter-js-widgets",
      "model_module_version": "~2.1.4",
      "model_name": "HBoxModel",
      "state": {
       "_model_module_version": "~2.1.4",
       "_view_module_version": "~2.1.4",
       "children": [
        "IPY_MODEL_e54f38cae21c407a876362e3fa6d760a",
        "IPY_MODEL_7b28d69fba314b9e8c8017b19b38272d"
       ],
       "layout": "IPY_MODEL_32ed6710e4d04d368e3be7d7f5e04e8a"
      }
     },
     "06835dac61e44e93b1f5e8181a948690": {
      "model_module": "jupyter-js-widgets",
      "model_module_version": "~2.1.4",
      "model_name": "ProgressModel",
      "state": {
       "_model_module_version": "~2.1.4",
       "_view_module_version": "~2.1.4",
       "bar_style": "success",
       "layout": "IPY_MODEL_c77a2808c6bb4f559f538f94b0142592",
       "max": 1,
       "style": "IPY_MODEL_1d34ad60728e451f8175ba145d7b917c",
       "value": 1
      }
     },
     "07d784e3ea1a45708ba78b601b742c37": {
      "model_module": "jupyter-js-widgets",
      "model_module_version": "~2.1.4",
      "model_name": "HTMLModel",
      "state": {
       "_model_module_version": "~2.1.4",
       "_view_module_version": "~2.1.4",
       "layout": "IPY_MODEL_9abc26c1ab914340a5dcb063c29ffaf3",
       "value": "100% 1/1 [00:09&lt;00:00,  9.86s/it]"
      }
     },
     "0806d169b71c442390edbf567e80bb7a": {
      "model_module": "jupyter-js-widgets",
      "model_module_version": "~2.1.4",
      "model_name": "LayoutModel",
      "state": {
       "_model_module_version": "~2.1.4",
       "_view_module_version": "~2.1.4"
      }
     },
     "0832f009e18a44e2aae0c20d5a289554": {
      "model_module": "jupyter-js-widgets",
      "model_module_version": "~2.1.4",
      "model_name": "LayoutModel",
      "state": {
       "_model_module_version": "~2.1.4",
       "_view_module_version": "~2.1.4"
      }
     },
     "0884a629b2fd4fdeb7c266db1f429485": {
      "model_module": "jupyter-js-widgets",
      "model_module_version": "~2.1.4",
      "model_name": "LayoutModel",
      "state": {
       "_model_module_version": "~2.1.4",
       "_view_module_version": "~2.1.4"
      }
     },
     "097c4368ecd44ddb83a9b94a1e7bc447": {
      "model_module": "jupyter-js-widgets",
      "model_module_version": "~2.1.4",
      "model_name": "LayoutModel",
      "state": {
       "_model_module_version": "~2.1.4",
       "_view_module_version": "~2.1.4"
      }
     },
     "09a688bef2344eb6a18b8a5481da5236": {
      "model_module": "jupyter-js-widgets",
      "model_module_version": "~2.1.4",
      "model_name": "LayoutModel",
      "state": {
       "_model_module_version": "~2.1.4",
       "_view_module_version": "~2.1.4"
      }
     },
     "0a4e3cef4b5a46bc9c9aaba957e07ef8": {
      "model_module": "jupyter-js-widgets",
      "model_module_version": "~2.1.4",
      "model_name": "ProgressStyleModel",
      "state": {
       "_model_module_version": "~2.1.4",
       "_view_module_version": "~2.1.4"
      }
     },
     "0b75219f16c241b488dd3bea20d2cf33": {
      "model_module": "jupyter-js-widgets",
      "model_module_version": "~2.1.4",
      "model_name": "HTMLModel",
      "state": {
       "_model_module_version": "~2.1.4",
       "_view_module_version": "~2.1.4",
       "layout": "IPY_MODEL_821f10b2ed194e97ae5721526a77135b",
       "value": "100% 1/1 [00:09&lt;00:00,  9.90s/it]"
      }
     },
     "0bd1b4752041495c834b0b66bc006bb7": {
      "model_module": "jupyter-js-widgets",
      "model_module_version": "~2.1.4",
      "model_name": "LayoutModel",
      "state": {
       "_model_module_version": "~2.1.4",
       "_view_module_version": "~2.1.4"
      }
     },
     "0c8c8528b1bb41c38746d5e567a075b6": {
      "model_module": "jupyter-js-widgets",
      "model_module_version": "~2.1.4",
      "model_name": "LayoutModel",
      "state": {
       "_model_module_version": "~2.1.4",
       "_view_module_version": "~2.1.4"
      }
     },
     "0ce7aa5a583042f489213ff4b2dff4ed": {
      "model_module": "jupyter-js-widgets",
      "model_module_version": "~2.1.4",
      "model_name": "LayoutModel",
      "state": {
       "_model_module_version": "~2.1.4",
       "_view_module_version": "~2.1.4"
      }
     },
     "0d2b5746b86a423e856d9915ab9f38eb": {
      "model_module": "jupyter-js-widgets",
      "model_module_version": "~2.1.4",
      "model_name": "ProgressStyleModel",
      "state": {
       "_model_module_version": "~2.1.4",
       "_view_module_version": "~2.1.4"
      }
     },
     "0d5bbd484e1847bdb554233aa127621c": {
      "model_module": "jupyter-js-widgets",
      "model_module_version": "~2.1.4",
      "model_name": "HBoxModel",
      "state": {
       "_model_module_version": "~2.1.4",
       "_view_module_version": "~2.1.4",
       "children": [
        "IPY_MODEL_bf4cae68c0b9427294e5514e701b1662",
        "IPY_MODEL_d0ca0935199246c3b17131e84e1daade"
       ],
       "layout": "IPY_MODEL_1a41b50d27314e45b7ec43a77f838651"
      }
     },
     "0d761360a53e4d8887d71ab45e21755f": {
      "model_module": "jupyter-js-widgets",
      "model_module_version": "~2.1.4",
      "model_name": "ProgressStyleModel",
      "state": {
       "_model_module_version": "~2.1.4",
       "_view_module_version": "~2.1.4"
      }
     },
     "0ec07a053c8846c589e9d928565820b8": {
      "model_module": "jupyter-js-widgets",
      "model_module_version": "~2.1.4",
      "model_name": "LayoutModel",
      "state": {
       "_model_module_version": "~2.1.4",
       "_view_module_version": "~2.1.4"
      }
     },
     "10051bb203bf40f19c11cc7fe7b1dfd0": {
      "model_module": "jupyter-js-widgets",
      "model_module_version": "~2.1.4",
      "model_name": "HBoxModel",
      "state": {
       "_model_module_version": "~2.1.4",
       "_view_module_version": "~2.1.4",
       "children": [
        "IPY_MODEL_637a8fd4ba4d4c78a0e97b3bb7b66dcc",
        "IPY_MODEL_ff8b47444c194116b7e690040697e262"
       ],
       "layout": "IPY_MODEL_8589888056a94117b28a7335c1b7e643"
      }
     },
     "10a1e4f7e57c4f289a5d4efcb98b7e2f": {
      "model_module": "jupyter-js-widgets",
      "model_module_version": "~2.1.4",
      "model_name": "LayoutModel",
      "state": {
       "_model_module_version": "~2.1.4",
       "_view_module_version": "~2.1.4"
      }
     },
     "11382c40cf084759b989495645ab680b": {
      "model_module": "jupyter-js-widgets",
      "model_module_version": "~2.1.4",
      "model_name": "ProgressStyleModel",
      "state": {
       "_model_module_version": "~2.1.4",
       "_view_module_version": "~2.1.4"
      }
     },
     "1159630c8d9341f2bfab67d3ef107fe9": {
      "model_module": "jupyter-js-widgets",
      "model_module_version": "~2.1.4",
      "model_name": "LayoutModel",
      "state": {
       "_model_module_version": "~2.1.4",
       "_view_module_version": "~2.1.4"
      }
     },
     "11cb97e9e5704a5f9cb0e3a0ea388736": {
      "model_module": "jupyter-js-widgets",
      "model_module_version": "~2.1.4",
      "model_name": "LayoutModel",
      "state": {
       "_model_module_version": "~2.1.4",
       "_view_module_version": "~2.1.4"
      }
     },
     "14c5061d80b149d58474f146d6f30f30": {
      "model_module": "jupyter-js-widgets",
      "model_module_version": "~2.1.4",
      "model_name": "ProgressModel",
      "state": {
       "_model_module_version": "~2.1.4",
       "_view_module_version": "~2.1.4",
       "bar_style": "success",
       "layout": "IPY_MODEL_5424fbeddd0f458698dd980c2c47ae77",
       "max": 1,
       "style": "IPY_MODEL_4932e45df2d747dd80d02f1ca5e157a7",
       "value": 1
      }
     },
     "152cb032f3314c60891f43119da8bf22": {
      "model_module": "jupyter-js-widgets",
      "model_module_version": "~2.1.4",
      "model_name": "ProgressModel",
      "state": {
       "_model_module_version": "~2.1.4",
       "_view_module_version": "~2.1.4",
       "bar_style": "success",
       "layout": "IPY_MODEL_567caa0ca8454d58b74ae549a84e406a",
       "max": 1,
       "style": "IPY_MODEL_65b1263a518a4206b76a4017ecee89c6",
       "value": 1
      }
     },
     "15793e8f2c104810b289ec9967f6f997": {
      "model_module": "jupyter-js-widgets",
      "model_module_version": "~2.1.4",
      "model_name": "LayoutModel",
      "state": {
       "_model_module_version": "~2.1.4",
       "_view_module_version": "~2.1.4"
      }
     },
     "16260bf800a3442d9dc2273c8a2d17a3": {
      "model_module": "jupyter-js-widgets",
      "model_module_version": "~2.1.4",
      "model_name": "HBoxModel",
      "state": {
       "_model_module_version": "~2.1.4",
       "_view_module_version": "~2.1.4",
       "children": [
        "IPY_MODEL_f04a2121185b4f018c073fa788c17339",
        "IPY_MODEL_eb132e1e5692446eb5bcfbc08161508f"
       ],
       "layout": "IPY_MODEL_053c0dc5a6f6415e912ffaf9b79842dc"
      }
     },
     "16a170765da54252b8d567a681bb763e": {
      "model_module": "jupyter-js-widgets",
      "model_module_version": "~2.1.4",
      "model_name": "LayoutModel",
      "state": {
       "_model_module_version": "~2.1.4",
       "_view_module_version": "~2.1.4"
      }
     },
     "17fa601aebed4142ade04ae7243562b9": {
      "model_module": "jupyter-js-widgets",
      "model_module_version": "~2.1.4",
      "model_name": "HBoxModel",
      "state": {
       "_model_module_version": "~2.1.4",
       "_view_module_version": "~2.1.4",
       "children": [
        "IPY_MODEL_2adc0b655743435a9bda9089577178db",
        "IPY_MODEL_eb931f7735854462a37a3866c537996a"
       ],
       "layout": "IPY_MODEL_2af6dbbb2f3245909c2dd8628759549c"
      }
     },
     "19ad2ff18b7848b483543a6ffa5e1286": {
      "model_module": "jupyter-js-widgets",
      "model_module_version": "~2.1.4",
      "model_name": "LayoutModel",
      "state": {
       "_model_module_version": "~2.1.4",
       "_view_module_version": "~2.1.4"
      }
     },
     "1a41b50d27314e45b7ec43a77f838651": {
      "model_module": "jupyter-js-widgets",
      "model_module_version": "~2.1.4",
      "model_name": "LayoutModel",
      "state": {
       "_model_module_version": "~2.1.4",
       "_view_module_version": "~2.1.4"
      }
     },
     "1a68119e9fd94dca9798254b78c3cfcc": {
      "model_module": "jupyter-js-widgets",
      "model_module_version": "~2.1.4",
      "model_name": "LayoutModel",
      "state": {
       "_model_module_version": "~2.1.4",
       "_view_module_version": "~2.1.4"
      }
     },
     "1a9346a1b71440a68a26602346cee46f": {
      "model_module": "jupyter-js-widgets",
      "model_module_version": "~2.1.4",
      "model_name": "LayoutModel",
      "state": {
       "_model_module_version": "~2.1.4",
       "_view_module_version": "~2.1.4"
      }
     },
     "1a9c95fe660648fc96da40a58d4c61ea": {
      "model_module": "jupyter-js-widgets",
      "model_module_version": "~2.1.4",
      "model_name": "ProgressStyleModel",
      "state": {
       "_model_module_version": "~2.1.4",
       "_view_module_version": "~2.1.4"
      }
     },
     "1ab2cbd42c2c48f2bbf33aae4d3ca095": {
      "model_module": "jupyter-js-widgets",
      "model_module_version": "~2.1.4",
      "model_name": "ProgressModel",
      "state": {
       "_model_module_version": "~2.1.4",
       "_view_module_version": "~2.1.4",
       "bar_style": "success",
       "layout": "IPY_MODEL_097c4368ecd44ddb83a9b94a1e7bc447",
       "max": 1,
       "style": "IPY_MODEL_7507fe9f9a0a4c31a0724556314c38cd",
       "value": 1
      }
     },
     "1ac2b5071cea4fa8a419da9fe39ad489": {
      "model_module": "jupyter-js-widgets",
      "model_module_version": "~2.1.4",
      "model_name": "LayoutModel",
      "state": {
       "_model_module_version": "~2.1.4",
       "_view_module_version": "~2.1.4"
      }
     },
     "1c34db8be6da4deb83f9ec6877f49ad0": {
      "model_module": "jupyter-js-widgets",
      "model_module_version": "~2.1.4",
      "model_name": "LayoutModel",
      "state": {
       "_model_module_version": "~2.1.4",
       "_view_module_version": "~2.1.4"
      }
     },
     "1d0b398b6c3b49efb0fef6dcaa5cf8df": {
      "model_module": "jupyter-js-widgets",
      "model_module_version": "~2.1.4",
      "model_name": "LayoutModel",
      "state": {
       "_model_module_version": "~2.1.4",
       "_view_module_version": "~2.1.4"
      }
     },
     "1d34ad60728e451f8175ba145d7b917c": {
      "model_module": "jupyter-js-widgets",
      "model_module_version": "~2.1.4",
      "model_name": "ProgressStyleModel",
      "state": {
       "_model_module_version": "~2.1.4",
       "_view_module_version": "~2.1.4"
      }
     },
     "1d53482734544823ad1485781b4d90ef": {
      "model_module": "jupyter-js-widgets",
      "model_module_version": "~2.1.4",
      "model_name": "LayoutModel",
      "state": {
       "_model_module_version": "~2.1.4",
       "_view_module_version": "~2.1.4"
      }
     },
     "1da831876d49455bb4f0bd8fe865b878": {
      "model_module": "jupyter-js-widgets",
      "model_module_version": "~2.1.4",
      "model_name": "HBoxModel",
      "state": {
       "_model_module_version": "~2.1.4",
       "_view_module_version": "~2.1.4",
       "children": [
        "IPY_MODEL_448f97890b7b40efb45ddf3178b1d5b7",
        "IPY_MODEL_3868be67d8274a399a7a0f03810810f9"
       ],
       "layout": "IPY_MODEL_dfc4d96b7bb74a1ba42e545cc98c247a"
      }
     },
     "1e17dd844de8484b8524f4cfde7498d8": {
      "model_module": "jupyter-js-widgets",
      "model_module_version": "~2.1.4",
      "model_name": "ProgressStyleModel",
      "state": {
       "_model_module_version": "~2.1.4",
       "_view_module_version": "~2.1.4"
      }
     },
     "1ee6adcaadb441788de1fe8bdc43d2d1": {
      "model_module": "jupyter-js-widgets",
      "model_module_version": "~2.1.4",
      "model_name": "LayoutModel",
      "state": {
       "_model_module_version": "~2.1.4",
       "_view_module_version": "~2.1.4"
      }
     },
     "1eec9f5cfbe84c3f967de09c5bba86ec": {
      "model_module": "jupyter-js-widgets",
      "model_module_version": "~2.1.4",
      "model_name": "LayoutModel",
      "state": {
       "_model_module_version": "~2.1.4",
       "_view_module_version": "~2.1.4"
      }
     },
     "1fbf71948eef4f59b918e10b92dca9b9": {
      "model_module": "jupyter-js-widgets",
      "model_module_version": "~2.1.4",
      "model_name": "HBoxModel",
      "state": {
       "_model_module_version": "~2.1.4",
       "_view_module_version": "~2.1.4",
       "children": [
        "IPY_MODEL_c567cc6fc0bc45c1a8ff9eda250b94f0",
        "IPY_MODEL_504af28b987d43d181171642bafb1977"
       ],
       "layout": "IPY_MODEL_23350974cc23422c836233be101cf39a"
      }
     },
     "20f814f087134ee6843a4bc35a763c23": {
      "model_module": "jupyter-js-widgets",
      "model_module_version": "~2.1.4",
      "model_name": "LayoutModel",
      "state": {
       "_model_module_version": "~2.1.4",
       "_view_module_version": "~2.1.4"
      }
     },
     "21748dfa835149aab65d6e712f9ef35f": {
      "model_module": "jupyter-js-widgets",
      "model_module_version": "~2.1.4",
      "model_name": "ProgressStyleModel",
      "state": {
       "_model_module_version": "~2.1.4",
       "_view_module_version": "~2.1.4"
      }
     },
     "21b2946bfb604a06bb396d4267f18140": {
      "model_module": "jupyter-js-widgets",
      "model_module_version": "~2.1.4",
      "model_name": "HTMLModel",
      "state": {
       "_model_module_version": "~2.1.4",
       "_view_module_version": "~2.1.4",
       "layout": "IPY_MODEL_9bb24fe95e1b45e482c8031d28106258",
       "value": "100% 1/1 [00:10&lt;00:00, 10.16s/it]"
      }
     },
     "2223d27ba73b4b8cb8dbc1618b3f5057": {
      "model_module": "jupyter-js-widgets",
      "model_module_version": "~2.1.4",
      "model_name": "HBoxModel",
      "state": {
       "_model_module_version": "~2.1.4",
       "_view_module_version": "~2.1.4",
       "children": [
        "IPY_MODEL_f9c6d53c4a144fd3b9d94337fb7902b1",
        "IPY_MODEL_ba5b092b586a40f6a636497671eae79e"
       ],
       "layout": "IPY_MODEL_560913536c284b678608048e7d0e0e49"
      }
     },
     "22749dfa17e541689b15d7a6dfa59260": {
      "model_module": "jupyter-js-widgets",
      "model_module_version": "~2.1.4",
      "model_name": "LayoutModel",
      "state": {
       "_model_module_version": "~2.1.4",
       "_view_module_version": "~2.1.4"
      }
     },
     "23350974cc23422c836233be101cf39a": {
      "model_module": "jupyter-js-widgets",
      "model_module_version": "~2.1.4",
      "model_name": "LayoutModel",
      "state": {
       "_model_module_version": "~2.1.4",
       "_view_module_version": "~2.1.4"
      }
     },
     "255b0859f5cf4a588c2770676124e323": {
      "model_module": "jupyter-js-widgets",
      "model_module_version": "~2.1.4",
      "model_name": "LayoutModel",
      "state": {
       "_model_module_version": "~2.1.4",
       "_view_module_version": "~2.1.4"
      }
     },
     "25ad21516e4047b481d9315a0b6fe5c2": {
      "model_module": "jupyter-js-widgets",
      "model_module_version": "~2.1.4",
      "model_name": "LayoutModel",
      "state": {
       "_model_module_version": "~2.1.4",
       "_view_module_version": "~2.1.4"
      }
     },
     "25de67e857594c1d99f8d7fe06158da8": {
      "model_module": "jupyter-js-widgets",
      "model_module_version": "~2.1.4",
      "model_name": "LayoutModel",
      "state": {
       "_model_module_version": "~2.1.4",
       "_view_module_version": "~2.1.4"
      }
     },
     "25f0f6e643c947088320823a8cfe135b": {
      "model_module": "jupyter-js-widgets",
      "model_module_version": "~2.1.4",
      "model_name": "ProgressStyleModel",
      "state": {
       "_model_module_version": "~2.1.4",
       "_view_module_version": "~2.1.4"
      }
     },
     "26bfedaaf16346dfae396e5837fc84c9": {
      "model_module": "jupyter-js-widgets",
      "model_module_version": "~2.1.4",
      "model_name": "HTMLModel",
      "state": {
       "_model_module_version": "~2.1.4",
       "_view_module_version": "~2.1.4",
       "layout": "IPY_MODEL_849ad717fb884466902bb810c45d592c",
       "value": "100% 1/1 [00:09&lt;00:00,  9.91s/it]"
      }
     },
     "27141dc8b7e3426ba7b81eab542eeab9": {
      "model_module": "jupyter-js-widgets",
      "model_module_version": "~2.1.4",
      "model_name": "ProgressStyleModel",
      "state": {
       "_model_module_version": "~2.1.4",
       "_view_module_version": "~2.1.4"
      }
     },
     "2761ef2991554b0bb10ca104c0455632": {
      "model_module": "jupyter-js-widgets",
      "model_module_version": "~2.1.4",
      "model_name": "LayoutModel",
      "state": {
       "_model_module_version": "~2.1.4",
       "_view_module_version": "~2.1.4"
      }
     },
     "27f93a40709c4543828a722048ae1971": {
      "model_module": "jupyter-js-widgets",
      "model_module_version": "~2.1.4",
      "model_name": "HBoxModel",
      "state": {
       "_model_module_version": "~2.1.4",
       "_view_module_version": "~2.1.4",
       "children": [
        "IPY_MODEL_888db9f6059e491f86846611683e2dfa",
        "IPY_MODEL_07d784e3ea1a45708ba78b601b742c37"
       ],
       "layout": "IPY_MODEL_9b580209009e47c6931584eae5624b40"
      }
     },
     "29867ed12ccd4ab2af6817f843a3162b": {
      "model_module": "jupyter-js-widgets",
      "model_module_version": "~2.1.4",
      "model_name": "ProgressStyleModel",
      "state": {
       "_model_module_version": "~2.1.4",
       "_view_module_version": "~2.1.4"
      }
     },
     "2a740b0273e94cf9a31b0e5341bf1af7": {
      "model_module": "jupyter-js-widgets",
      "model_module_version": "~2.1.4",
      "model_name": "ProgressModel",
      "state": {
       "_model_module_version": "~2.1.4",
       "_view_module_version": "~2.1.4",
       "bar_style": "success",
       "layout": "IPY_MODEL_bd4fc587cec34d1cb1c397ff37ee296f",
       "max": 1,
       "style": "IPY_MODEL_33bfffa44b244f0ab6ef3c97b39b276a",
       "value": 1
      }
     },
     "2a90cf38dc5a485e9b43193de0e02410": {
      "model_module": "jupyter-js-widgets",
      "model_module_version": "~2.1.4",
      "model_name": "ProgressStyleModel",
      "state": {
       "_model_module_version": "~2.1.4",
       "_view_module_version": "~2.1.4"
      }
     },
     "2ac04671dcbf4716b8c538bc9acd095d": {
      "model_module": "jupyter-js-widgets",
      "model_module_version": "~2.1.4",
      "model_name": "LayoutModel",
      "state": {
       "_model_module_version": "~2.1.4",
       "_view_module_version": "~2.1.4"
      }
     },
     "2adc0b655743435a9bda9089577178db": {
      "model_module": "jupyter-js-widgets",
      "model_module_version": "~2.1.4",
      "model_name": "ProgressModel",
      "state": {
       "_model_module_version": "~2.1.4",
       "_view_module_version": "~2.1.4",
       "bar_style": "success",
       "layout": "IPY_MODEL_2b3399dc143f4321bc84f7a0121410d6",
       "max": 1,
       "style": "IPY_MODEL_5fc6e921ac344a068044b16cbde9b75f",
       "value": 1
      }
     },
     "2ae8d13ba2c14998a8c15d09e7a3a890": {
      "model_module": "jupyter-js-widgets",
      "model_module_version": "~2.1.4",
      "model_name": "HBoxModel",
      "state": {
       "_model_module_version": "~2.1.4",
       "_view_module_version": "~2.1.4",
       "children": [
        "IPY_MODEL_2a740b0273e94cf9a31b0e5341bf1af7",
        "IPY_MODEL_871f3ca99bff4b739a55a2bc61f286b0"
       ],
       "layout": "IPY_MODEL_d66df04a56504dd691189eb6c6164d8e"
      }
     },
     "2af6dbbb2f3245909c2dd8628759549c": {
      "model_module": "jupyter-js-widgets",
      "model_module_version": "~2.1.4",
      "model_name": "LayoutModel",
      "state": {
       "_model_module_version": "~2.1.4",
       "_view_module_version": "~2.1.4"
      }
     },
     "2b2d5b9ee6f847c8b5098d3230d3b432": {
      "model_module": "jupyter-js-widgets",
      "model_module_version": "~2.1.4",
      "model_name": "ProgressModel",
      "state": {
       "_model_module_version": "~2.1.4",
       "_view_module_version": "~2.1.4",
       "bar_style": "success",
       "layout": "IPY_MODEL_750dd382323f4dd69dc8cdac5423c655",
       "max": 1,
       "style": "IPY_MODEL_382676d2422341f99e94c03e2c17418a",
       "value": 1
      }
     },
     "2b3399dc143f4321bc84f7a0121410d6": {
      "model_module": "jupyter-js-widgets",
      "model_module_version": "~2.1.4",
      "model_name": "LayoutModel",
      "state": {
       "_model_module_version": "~2.1.4",
       "_view_module_version": "~2.1.4"
      }
     },
     "2c5092f7a67146fd99f044862b8dc533": {
      "model_module": "jupyter-js-widgets",
      "model_module_version": "~2.1.4",
      "model_name": "HBoxModel",
      "state": {
       "_model_module_version": "~2.1.4",
       "_view_module_version": "~2.1.4",
       "children": [
        "IPY_MODEL_3e2742c6b81d43bc8b97bc22317b2dd8",
        "IPY_MODEL_3047da56ed974347bca32c602cf35251"
       ],
       "layout": "IPY_MODEL_ebc47fd78fd94fd28382d3bd722eea63"
      }
     },
     "2f2e891277724c4eab2f1e3a20f9a4ae": {
      "model_module": "jupyter-js-widgets",
      "model_module_version": "~2.1.4",
      "model_name": "ProgressStyleModel",
      "state": {
       "_model_module_version": "~2.1.4",
       "_view_module_version": "~2.1.4"
      }
     },
     "30419bb261034aa59e87ac4a2f72432d": {
      "model_module": "jupyter-js-widgets",
      "model_module_version": "~2.1.4",
      "model_name": "ProgressModel",
      "state": {
       "_model_module_version": "~2.1.4",
       "_view_module_version": "~2.1.4",
       "bar_style": "success",
       "layout": "IPY_MODEL_3d4c64665aee4940b6deb1505032e0dc",
       "max": 1,
       "style": "IPY_MODEL_0d761360a53e4d8887d71ab45e21755f",
       "value": 1
      }
     },
     "3047da56ed974347bca32c602cf35251": {
      "model_module": "jupyter-js-widgets",
      "model_module_version": "~2.1.4",
      "model_name": "HTMLModel",
      "state": {
       "_model_module_version": "~2.1.4",
       "_view_module_version": "~2.1.4",
       "layout": "IPY_MODEL_501e30462bcf4eb7a00881f9df2c1cb2",
       "value": "100% 1/1 [00:09&lt;00:00,  9.89s/it]"
      }
     },
     "30de296ff4b74d85867faa817ae6c15f": {
      "model_module": "jupyter-js-widgets",
      "model_module_version": "~2.1.4",
      "model_name": "HTMLModel",
      "state": {
       "_model_module_version": "~2.1.4",
       "_view_module_version": "~2.1.4",
       "layout": "IPY_MODEL_d5fe1551f91d431ab379e650eb3ea377",
       "value": "100% 1/1 [00:09&lt;00:00,  9.98s/it]"
      }
     },
     "30f206abe9ed42ff8d6398e7562bcc46": {
      "model_module": "jupyter-js-widgets",
      "model_module_version": "~2.1.4",
      "model_name": "LayoutModel",
      "state": {
       "_model_module_version": "~2.1.4",
       "_view_module_version": "~2.1.4"
      }
     },
     "318527be3fad4984b60e050280c7bf4e": {
      "model_module": "jupyter-js-widgets",
      "model_module_version": "~2.1.4",
      "model_name": "LayoutModel",
      "state": {
       "_model_module_version": "~2.1.4",
       "_view_module_version": "~2.1.4"
      }
     },
     "31a79da9a3b44d97ab2afa21d5a42941": {
      "model_module": "jupyter-js-widgets",
      "model_module_version": "~2.1.4",
      "model_name": "ProgressStyleModel",
      "state": {
       "_model_module_version": "~2.1.4",
       "_view_module_version": "~2.1.4"
      }
     },
     "32ed6710e4d04d368e3be7d7f5e04e8a": {
      "model_module": "jupyter-js-widgets",
      "model_module_version": "~2.1.4",
      "model_name": "LayoutModel",
      "state": {
       "_model_module_version": "~2.1.4",
       "_view_module_version": "~2.1.4"
      }
     },
     "33bfffa44b244f0ab6ef3c97b39b276a": {
      "model_module": "jupyter-js-widgets",
      "model_module_version": "~2.1.4",
      "model_name": "ProgressStyleModel",
      "state": {
       "_model_module_version": "~2.1.4",
       "_view_module_version": "~2.1.4"
      }
     },
     "34a4efd9adf34b8885159168e6c3d6bd": {
      "model_module": "jupyter-js-widgets",
      "model_module_version": "~2.1.4",
      "model_name": "HTMLModel",
      "state": {
       "_model_module_version": "~2.1.4",
       "_view_module_version": "~2.1.4",
       "layout": "IPY_MODEL_74ab6ebd2d7a4609b0fe88c4ae05107e",
       "value": "100% 1/1 [00:10&lt;00:00, 10.22s/it]"
      }
     },
     "352e454ca26a4f6dbd38070bc784a2f2": {
      "model_module": "jupyter-js-widgets",
      "model_module_version": "~2.1.4",
      "model_name": "ProgressModel",
      "state": {
       "_model_module_version": "~2.1.4",
       "_view_module_version": "~2.1.4",
       "bar_style": "success",
       "layout": "IPY_MODEL_b36dc827428a484fb99297e9d3072c2c",
       "max": 1,
       "style": "IPY_MODEL_510b98ef8a9b4f448b9db92ae8e3432f",
       "value": 1
      }
     },
     "369003c528434592ac24af9db3815031": {
      "model_module": "jupyter-js-widgets",
      "model_module_version": "~2.1.4",
      "model_name": "LayoutModel",
      "state": {
       "_model_module_version": "~2.1.4",
       "_view_module_version": "~2.1.4"
      }
     },
     "36a21646873d4d729ae9b6f1dbd238ea": {
      "model_module": "jupyter-js-widgets",
      "model_module_version": "~2.1.4",
      "model_name": "ProgressModel",
      "state": {
       "_model_module_version": "~2.1.4",
       "_view_module_version": "~2.1.4",
       "bar_style": "success",
       "layout": "IPY_MODEL_edd50031c9f647a5810b21431970c2ed",
       "max": 1,
       "style": "IPY_MODEL_a4cc3309698b48bbba7647e04946eaa4",
       "value": 1
      }
     },
     "371fca8ec0d64a999904912dd0acde3a": {
      "model_module": "jupyter-js-widgets",
      "model_module_version": "~2.1.4",
      "model_name": "HBoxModel",
      "state": {
       "_model_module_version": "~2.1.4",
       "_view_module_version": "~2.1.4",
       "children": [
        "IPY_MODEL_92b35868546842629f6a1e5521f6da54",
        "IPY_MODEL_30de296ff4b74d85867faa817ae6c15f"
       ],
       "layout": "IPY_MODEL_6ac641cf95274eeab58690c8b4c84539"
      }
     },
     "382676d2422341f99e94c03e2c17418a": {
      "model_module": "jupyter-js-widgets",
      "model_module_version": "~2.1.4",
      "model_name": "ProgressStyleModel",
      "state": {
       "_model_module_version": "~2.1.4",
       "_view_module_version": "~2.1.4"
      }
     },
     "3868be67d8274a399a7a0f03810810f9": {
      "model_module": "jupyter-js-widgets",
      "model_module_version": "~2.1.4",
      "model_name": "HTMLModel",
      "state": {
       "_model_module_version": "~2.1.4",
       "_view_module_version": "~2.1.4",
       "layout": "IPY_MODEL_6d89ffa0c98f4bc48f4a4b8a614f2c4e",
       "value": "100% 1/1 [00:10&lt;00:00, 10.11s/it]"
      }
     },
     "38a2520e42ac470cbcf89238a9b2adbb": {
      "model_module": "jupyter-js-widgets",
      "model_module_version": "~2.1.4",
      "model_name": "LayoutModel",
      "state": {
       "_model_module_version": "~2.1.4",
       "_view_module_version": "~2.1.4"
      }
     },
     "39136a37356a486dbdf16fc8f6feacce": {
      "model_module": "jupyter-js-widgets",
      "model_module_version": "~2.1.4",
      "model_name": "HBoxModel",
      "state": {
       "_model_module_version": "~2.1.4",
       "_view_module_version": "~2.1.4",
       "children": [
        "IPY_MODEL_d7f9afde26804e97b350b155b9a596c7",
        "IPY_MODEL_d7e69034b0b7456392936a86fcd779d1"
       ],
       "layout": "IPY_MODEL_f85bfc9cbec04fc89c45b3d8afa1cd77"
      }
     },
     "39f6918278e94dbd97cf99fa0e5c0574": {
      "model_module": "jupyter-js-widgets",
      "model_module_version": "~2.1.4",
      "model_name": "ProgressModel",
      "state": {
       "_model_module_version": "~2.1.4",
       "_view_module_version": "~2.1.4",
       "bar_style": "success",
       "layout": "IPY_MODEL_a8d368d5c1a64404a7ceea6e0b4ef4b5",
       "max": 1,
       "style": "IPY_MODEL_732412ebcd0e4d1e98a2191076389849",
       "value": 1
      }
     },
     "3af405376407491da5c852d1cb14b99f": {
      "model_module": "jupyter-js-widgets",
      "model_module_version": "~2.1.4",
      "model_name": "LayoutModel",
      "state": {
       "_model_module_version": "~2.1.4",
       "_view_module_version": "~2.1.4"
      }
     },
     "3bf3589d63b44b2abedfb45b4add6f48": {
      "model_module": "jupyter-js-widgets",
      "model_module_version": "~2.1.4",
      "model_name": "LayoutModel",
      "state": {
       "_model_module_version": "~2.1.4",
       "_view_module_version": "~2.1.4"
      }
     },
     "3c8150248dc747ffba114920348e7720": {
      "model_module": "jupyter-js-widgets",
      "model_module_version": "~2.1.4",
      "model_name": "HTMLModel",
      "state": {
       "_model_module_version": "~2.1.4",
       "_view_module_version": "~2.1.4",
       "layout": "IPY_MODEL_16a170765da54252b8d567a681bb763e",
       "value": "100% 1/1 [00:10&lt;00:00, 10.07s/it]"
      }
     },
     "3d4c263ad1ff4c6eb25fe49edfc3589d": {
      "model_module": "jupyter-js-widgets",
      "model_module_version": "~2.1.4",
      "model_name": "LayoutModel",
      "state": {
       "_model_module_version": "~2.1.4",
       "_view_module_version": "~2.1.4"
      }
     },
     "3d4c64665aee4940b6deb1505032e0dc": {
      "model_module": "jupyter-js-widgets",
      "model_module_version": "~2.1.4",
      "model_name": "LayoutModel",
      "state": {
       "_model_module_version": "~2.1.4",
       "_view_module_version": "~2.1.4"
      }
     },
     "3da8c9c131f2401297f5680256a3a073": {
      "model_module": "jupyter-js-widgets",
      "model_module_version": "~2.1.4",
      "model_name": "ProgressModel",
      "state": {
       "_model_module_version": "~2.1.4",
       "_view_module_version": "~2.1.4",
       "bar_style": "success",
       "layout": "IPY_MODEL_e9a8730551f640988eaba5e54cffeaa7",
       "max": 1,
       "style": "IPY_MODEL_cfa0d098014541ea86b567f9b85330bd",
       "value": 1
      }
     },
     "3e2742c6b81d43bc8b97bc22317b2dd8": {
      "model_module": "jupyter-js-widgets",
      "model_module_version": "~2.1.4",
      "model_name": "ProgressModel",
      "state": {
       "_model_module_version": "~2.1.4",
       "_view_module_version": "~2.1.4",
       "bar_style": "success",
       "layout": "IPY_MODEL_615daed83c6b4f95bd1d79fb03a6efed",
       "max": 1,
       "style": "IPY_MODEL_7b58bfeadd8d47ca8d4c241740f1494e",
       "value": 1
      }
     },
     "3fc4363ba6944279b16720380928dd1c": {
      "model_module": "jupyter-js-widgets",
      "model_module_version": "~2.1.4",
      "model_name": "ProgressStyleModel",
      "state": {
       "_model_module_version": "~2.1.4",
       "_view_module_version": "~2.1.4"
      }
     },
     "3fff2544de674f66a30084c32f157f1b": {
      "model_module": "jupyter-js-widgets",
      "model_module_version": "~2.1.4",
      "model_name": "HTMLModel",
      "state": {
       "_model_module_version": "~2.1.4",
       "_view_module_version": "~2.1.4",
       "layout": "IPY_MODEL_aff5399d361d42dca713b2efd2216ad0",
       "value": "100% 1/1 [00:09&lt;00:00,  9.88s/it]"
      }
     },
     "403c6672a72b4db7bff925076c3cfc44": {
      "model_module": "jupyter-js-widgets",
      "model_module_version": "~2.1.4",
      "model_name": "ProgressStyleModel",
      "state": {
       "_model_module_version": "~2.1.4",
       "_view_module_version": "~2.1.4"
      }
     },
     "40fbd573faa747ad8b085c5d90243a7b": {
      "model_module": "jupyter-js-widgets",
      "model_module_version": "~2.1.4",
      "model_name": "ProgressModel",
      "state": {
       "_model_module_version": "~2.1.4",
       "_view_module_version": "~2.1.4",
       "bar_style": "success",
       "layout": "IPY_MODEL_b2031b1e379146b2baca9b66290092c7",
       "max": 1,
       "style": "IPY_MODEL_27141dc8b7e3426ba7b81eab542eeab9",
       "value": 1
      }
     },
     "420c11fbcb3b43459aa0b3c2dfa50165": {
      "model_module": "jupyter-js-widgets",
      "model_module_version": "~2.1.4",
      "model_name": "ProgressModel",
      "state": {
       "_model_module_version": "~2.1.4",
       "_view_module_version": "~2.1.4",
       "bar_style": "success",
       "layout": "IPY_MODEL_0884a629b2fd4fdeb7c266db1f429485",
       "max": 1,
       "style": "IPY_MODEL_2a90cf38dc5a485e9b43193de0e02410",
       "value": 1
      }
     },
     "42482ffe4ea14a2bb43bad567ca1efaf": {
      "model_module": "jupyter-js-widgets",
      "model_module_version": "~2.1.4",
      "model_name": "ProgressStyleModel",
      "state": {
       "_model_module_version": "~2.1.4",
       "_view_module_version": "~2.1.4"
      }
     },
     "4351ac92353b407ea999cdd26e56eda4": {
      "model_module": "jupyter-js-widgets",
      "model_module_version": "~2.1.4",
      "model_name": "HBoxModel",
      "state": {
       "_model_module_version": "~2.1.4",
       "_view_module_version": "~2.1.4",
       "children": [
        "IPY_MODEL_b6bbff110f8e45d8ba2556f8ce226cdb",
        "IPY_MODEL_df8ee12ff6004d4e9be409ddb2ddb798"
       ],
       "layout": "IPY_MODEL_1eec9f5cfbe84c3f967de09c5bba86ec"
      }
     },
     "43d42c8d1ae44eeba9804251180f75e9": {
      "model_module": "jupyter-js-widgets",
      "model_module_version": "~2.1.4",
      "model_name": "LayoutModel",
      "state": {
       "_model_module_version": "~2.1.4",
       "_view_module_version": "~2.1.4"
      }
     },
     "43f3bec571d54e468fd58bbff0f1f5a7": {
      "model_module": "jupyter-js-widgets",
      "model_module_version": "~2.1.4",
      "model_name": "HTMLModel",
      "state": {
       "_model_module_version": "~2.1.4",
       "_view_module_version": "~2.1.4",
       "layout": "IPY_MODEL_0c8c8528b1bb41c38746d5e567a075b6",
       "value": "100% 1/1 [00:09&lt;00:00,  9.99s/it]"
      }
     },
     "448f97890b7b40efb45ddf3178b1d5b7": {
      "model_module": "jupyter-js-widgets",
      "model_module_version": "~2.1.4",
      "model_name": "ProgressModel",
      "state": {
       "_model_module_version": "~2.1.4",
       "_view_module_version": "~2.1.4",
       "bar_style": "success",
       "layout": "IPY_MODEL_54fc6f931f694058aab64d51677df521",
       "max": 1,
       "style": "IPY_MODEL_1a9c95fe660648fc96da40a58d4c61ea",
       "value": 1
      }
     },
     "44f071d8dc7d45d9a3b8ffae363034bd": {
      "model_module": "jupyter-js-widgets",
      "model_module_version": "~2.1.4",
      "model_name": "LayoutModel",
      "state": {
       "_model_module_version": "~2.1.4",
       "_view_module_version": "~2.1.4"
      }
     },
     "46313206792e4efd9fd72ce92e36a31f": {
      "model_module": "jupyter-js-widgets",
      "model_module_version": "~2.1.4",
      "model_name": "LayoutModel",
      "state": {
       "_model_module_version": "~2.1.4",
       "_view_module_version": "~2.1.4"
      }
     },
     "4742405a02a944898edb995ed34f73c4": {
      "model_module": "jupyter-js-widgets",
      "model_module_version": "~2.1.4",
      "model_name": "LayoutModel",
      "state": {
       "_model_module_version": "~2.1.4",
       "_view_module_version": "~2.1.4"
      }
     },
     "47e7de06646c428baf74ca616c15827c": {
      "model_module": "jupyter-js-widgets",
      "model_module_version": "~2.1.4",
      "model_name": "HBoxModel",
      "state": {
       "_model_module_version": "~2.1.4",
       "_view_module_version": "~2.1.4",
       "children": [
        "IPY_MODEL_55a22764271e4bdb9f8594f4656b7006",
        "IPY_MODEL_70b83a66ded54b33a592f2629c493d48"
       ],
       "layout": "IPY_MODEL_eb42153e4e9a4f618fee237eda0f9760"
      }
     },
     "47ea9719ca03421fb4378d689aa72589": {
      "model_module": "jupyter-js-widgets",
      "model_module_version": "~2.1.4",
      "model_name": "HBoxModel",
      "state": {
       "_model_module_version": "~2.1.4",
       "_view_module_version": "~2.1.4",
       "children": [
        "IPY_MODEL_c3fe39ac49c3494ab8269ab689889268",
        "IPY_MODEL_d84cc12b98f9431a8c481aeab1444de5"
       ],
       "layout": "IPY_MODEL_8cbe3ac4da034df6aa3bee1da9b70efe"
      }
     },
     "487fe9ec42b74571a917dc0dd391858d": {
      "model_module": "jupyter-js-widgets",
      "model_module_version": "~2.1.4",
      "model_name": "HTMLModel",
      "state": {
       "_model_module_version": "~2.1.4",
       "_view_module_version": "~2.1.4",
       "layout": "IPY_MODEL_fd263c14fb13490ebb78d9bd0e55f133",
       "value": "100% 1/1 [00:09&lt;00:00,  9.87s/it]"
      }
     },
     "48a1b69c05e44f8a84bc17a3480b291f": {
      "model_module": "jupyter-js-widgets",
      "model_module_version": "~2.1.4",
      "model_name": "HBoxModel",
      "state": {
       "_model_module_version": "~2.1.4",
       "_view_module_version": "~2.1.4",
       "children": [
        "IPY_MODEL_de56b3c17b5d453999670dfb64253268",
        "IPY_MODEL_ffcbb8ff6b3041538ba0554842a149a7"
       ],
       "layout": "IPY_MODEL_46313206792e4efd9fd72ce92e36a31f"
      }
     },
     "48d5a7bc85be41e38a3ea14423cdd061": {
      "model_module": "jupyter-js-widgets",
      "model_module_version": "~2.1.4",
      "model_name": "ProgressModel",
      "state": {
       "_model_module_version": "~2.1.4",
       "_view_module_version": "~2.1.4",
       "bar_style": "success",
       "layout": "IPY_MODEL_abcd1fe0849f4e218f2705b640635eed",
       "max": 1,
       "style": "IPY_MODEL_d0ec89bb631f4efab22ab451a6231108",
       "value": 1
      }
     },
     "4932e45df2d747dd80d02f1ca5e157a7": {
      "model_module": "jupyter-js-widgets",
      "model_module_version": "~2.1.4",
      "model_name": "ProgressStyleModel",
      "state": {
       "_model_module_version": "~2.1.4",
       "_view_module_version": "~2.1.4"
      }
     },
     "499e25abebb6446fa5db1f42c64465ba": {
      "model_module": "jupyter-js-widgets",
      "model_module_version": "~2.1.4",
      "model_name": "HTMLModel",
      "state": {
       "_model_module_version": "~2.1.4",
       "_view_module_version": "~2.1.4",
       "layout": "IPY_MODEL_19ad2ff18b7848b483543a6ffa5e1286",
       "value": "100% 1/1 [00:09&lt;00:00,  9.87s/it]"
      }
     },
     "4a17e21db4804f3f89dce5ecf70b669f": {
      "model_module": "jupyter-js-widgets",
      "model_module_version": "~2.1.4",
      "model_name": "LayoutModel",
      "state": {
       "_model_module_version": "~2.1.4",
       "_view_module_version": "~2.1.4"
      }
     },
     "4a42e03484904a91ae7833595cd1f65b": {
      "model_module": "jupyter-js-widgets",
      "model_module_version": "~2.1.4",
      "model_name": "LayoutModel",
      "state": {
       "_model_module_version": "~2.1.4",
       "_view_module_version": "~2.1.4"
      }
     },
     "4c8f560e017a43f4890377959e31faf7": {
      "model_module": "jupyter-js-widgets",
      "model_module_version": "~2.1.4",
      "model_name": "LayoutModel",
      "state": {
       "_model_module_version": "~2.1.4",
       "_view_module_version": "~2.1.4"
      }
     },
     "4d4c2ae735764810bb760515976befea": {
      "model_module": "jupyter-js-widgets",
      "model_module_version": "~2.1.4",
      "model_name": "ProgressModel",
      "state": {
       "_model_module_version": "~2.1.4",
       "_view_module_version": "~2.1.4",
       "bar_style": "success",
       "layout": "IPY_MODEL_541d6c57bd9a4481af624dffb2e8ad75",
       "max": 1,
       "style": "IPY_MODEL_a9b71f1ab9974e24bd69b0846eac827b",
       "value": 1
      }
     },
     "4dd552437cea46428a43c72c4d637c15": {
      "model_module": "jupyter-js-widgets",
      "model_module_version": "~2.1.4",
      "model_name": "LayoutModel",
      "state": {
       "_model_module_version": "~2.1.4",
       "_view_module_version": "~2.1.4"
      }
     },
     "4e09a65b9e2849d2873c8c8b19eb584f": {
      "model_module": "jupyter-js-widgets",
      "model_module_version": "~2.1.4",
      "model_name": "LayoutModel",
      "state": {
       "_model_module_version": "~2.1.4",
       "_view_module_version": "~2.1.4"
      }
     },
     "4e1e309e66304807a4762b5977ff7c30": {
      "model_module": "jupyter-js-widgets",
      "model_module_version": "~2.1.4",
      "model_name": "ProgressModel",
      "state": {
       "_model_module_version": "~2.1.4",
       "_view_module_version": "~2.1.4",
       "bar_style": "danger",
       "layout": "IPY_MODEL_b6d63fbc84d447ffb82d79360fd67e4e",
       "max": 1,
       "style": "IPY_MODEL_6311e5f0e3c2408a99e3e7ff27ac2431"
      }
     },
     "4e7db87ffaff46a393c52213af017081": {
      "model_module": "jupyter-js-widgets",
      "model_module_version": "~2.1.4",
      "model_name": "HBoxModel",
      "state": {
       "_model_module_version": "~2.1.4",
       "_view_module_version": "~2.1.4",
       "children": [
        "IPY_MODEL_7098c143abd949b488947f079fcbf48a",
        "IPY_MODEL_d078ab96f6a74629b3f4969b463f94d2"
       ],
       "layout": "IPY_MODEL_7a07ea0268584060951a765d607de72c"
      }
     },
     "4ea67cc5b5a6453788bab481d2114d7f": {
      "model_module": "jupyter-js-widgets",
      "model_module_version": "~2.1.4",
      "model_name": "HTMLModel",
      "state": {
       "_model_module_version": "~2.1.4",
       "_view_module_version": "~2.1.4",
       "layout": "IPY_MODEL_d83df1105310412e8b5fac141a0be53b",
       "value": "100% 1/1 [00:09&lt;00:00,  9.92s/it]"
      }
     },
     "4ef514e3b0dc41a0b7bcce1693752bab": {
      "model_module": "jupyter-js-widgets",
      "model_module_version": "~2.1.4",
      "model_name": "ProgressModel",
      "state": {
       "_model_module_version": "~2.1.4",
       "_view_module_version": "~2.1.4",
       "bar_style": "success",
       "layout": "IPY_MODEL_b76ccb4b7cc04d5dbe56852aa366dd9f",
       "max": 1,
       "style": "IPY_MODEL_e7a390520b7c48289c994bffba154ad8",
       "value": 1
      }
     },
     "501e30462bcf4eb7a00881f9df2c1cb2": {
      "model_module": "jupyter-js-widgets",
      "model_module_version": "~2.1.4",
      "model_name": "LayoutModel",
      "state": {
       "_model_module_version": "~2.1.4",
       "_view_module_version": "~2.1.4"
      }
     },
     "504af28b987d43d181171642bafb1977": {
      "model_module": "jupyter-js-widgets",
      "model_module_version": "~2.1.4",
      "model_name": "HTMLModel",
      "state": {
       "_model_module_version": "~2.1.4",
       "_view_module_version": "~2.1.4",
       "layout": "IPY_MODEL_1159630c8d9341f2bfab67d3ef107fe9",
       "value": "100% 1/1 [00:09&lt;00:00,  9.89s/it]"
      }
     },
     "510b98ef8a9b4f448b9db92ae8e3432f": {
      "model_module": "jupyter-js-widgets",
      "model_module_version": "~2.1.4",
      "model_name": "ProgressStyleModel",
      "state": {
       "_model_module_version": "~2.1.4",
       "_view_module_version": "~2.1.4"
      }
     },
     "5131a8c2bceb44fc9c7179d92bdcd1ca": {
      "model_module": "jupyter-js-widgets",
      "model_module_version": "~2.1.4",
      "model_name": "LayoutModel",
      "state": {
       "_model_module_version": "~2.1.4",
       "_view_module_version": "~2.1.4"
      }
     },
     "5237fdde27d241389be8cb6f2d56c618": {
      "model_module": "jupyter-js-widgets",
      "model_module_version": "~2.1.4",
      "model_name": "LayoutModel",
      "state": {
       "_model_module_version": "~2.1.4",
       "_view_module_version": "~2.1.4"
      }
     },
     "530413ec2b0045ee85e3cc88092d9446": {
      "model_module": "jupyter-js-widgets",
      "model_module_version": "~2.1.4",
      "model_name": "LayoutModel",
      "state": {
       "_model_module_version": "~2.1.4",
       "_view_module_version": "~2.1.4"
      }
     },
     "541d6c57bd9a4481af624dffb2e8ad75": {
      "model_module": "jupyter-js-widgets",
      "model_module_version": "~2.1.4",
      "model_name": "LayoutModel",
      "state": {
       "_model_module_version": "~2.1.4",
       "_view_module_version": "~2.1.4"
      }
     },
     "5424fbeddd0f458698dd980c2c47ae77": {
      "model_module": "jupyter-js-widgets",
      "model_module_version": "~2.1.4",
      "model_name": "LayoutModel",
      "state": {
       "_model_module_version": "~2.1.4",
       "_view_module_version": "~2.1.4"
      }
     },
     "546dff5cf9964dc2a53a35dada9631e7": {
      "model_module": "jupyter-js-widgets",
      "model_module_version": "~2.1.4",
      "model_name": "LayoutModel",
      "state": {
       "_model_module_version": "~2.1.4",
       "_view_module_version": "~2.1.4"
      }
     },
     "546ea2c8dbe44a198a2d21ac16084244": {
      "model_module": "jupyter-js-widgets",
      "model_module_version": "~2.1.4",
      "model_name": "ProgressStyleModel",
      "state": {
       "_model_module_version": "~2.1.4",
       "_view_module_version": "~2.1.4"
      }
     },
     "547964fbe6274b5d852f7dada8337abc": {
      "model_module": "jupyter-js-widgets",
      "model_module_version": "~2.1.4",
      "model_name": "ProgressModel",
      "state": {
       "_model_module_version": "~2.1.4",
       "_view_module_version": "~2.1.4",
       "bar_style": "success",
       "layout": "IPY_MODEL_f370c6b98ec84d97ad29da01cae76f58",
       "max": 1,
       "style": "IPY_MODEL_546ea2c8dbe44a198a2d21ac16084244",
       "value": 1
      }
     },
     "54f2dacc7d644df19385ad94e185ffda": {
      "model_module": "jupyter-js-widgets",
      "model_module_version": "~2.1.4",
      "model_name": "HTMLModel",
      "state": {
       "_model_module_version": "~2.1.4",
       "_view_module_version": "~2.1.4",
       "layout": "IPY_MODEL_7871f0a2d63b4f98ad00d4fd98717286",
       "value": "100% 1/1 [00:09&lt;00:00,  9.90s/it]"
      }
     },
     "54fc6f931f694058aab64d51677df521": {
      "model_module": "jupyter-js-widgets",
      "model_module_version": "~2.1.4",
      "model_name": "LayoutModel",
      "state": {
       "_model_module_version": "~2.1.4",
       "_view_module_version": "~2.1.4"
      }
     },
     "55a22764271e4bdb9f8594f4656b7006": {
      "model_module": "jupyter-js-widgets",
      "model_module_version": "~2.1.4",
      "model_name": "ProgressModel",
      "state": {
       "_model_module_version": "~2.1.4",
       "_view_module_version": "~2.1.4",
       "bar_style": "success",
       "layout": "IPY_MODEL_bd9646f919824067811862055bcc8d79",
       "max": 1,
       "style": "IPY_MODEL_0260934462e54d3382a016bc2d846a5f",
       "value": 1
      }
     },
     "560913536c284b678608048e7d0e0e49": {
      "model_module": "jupyter-js-widgets",
      "model_module_version": "~2.1.4",
      "model_name": "LayoutModel",
      "state": {
       "_model_module_version": "~2.1.4",
       "_view_module_version": "~2.1.4"
      }
     },
     "561b991aaad445d895f60db03f5690ad": {
      "model_module": "jupyter-js-widgets",
      "model_module_version": "~2.1.4",
      "model_name": "HBoxModel",
      "state": {
       "_model_module_version": "~2.1.4",
       "_view_module_version": "~2.1.4",
       "children": [
        "IPY_MODEL_b8588f0139804072a03bf8d27f6980a8",
        "IPY_MODEL_6196e004f5454904abbf932952123041"
       ],
       "layout": "IPY_MODEL_7dfb5ffbb5b949b9b2fd4de7bfaf9c24"
      }
     },
     "567caa0ca8454d58b74ae549a84e406a": {
      "model_module": "jupyter-js-widgets",
      "model_module_version": "~2.1.4",
      "model_name": "LayoutModel",
      "state": {
       "_model_module_version": "~2.1.4",
       "_view_module_version": "~2.1.4"
      }
     },
     "574e0344e6b341fc88c286d33a34148b": {
      "model_module": "jupyter-js-widgets",
      "model_module_version": "~2.1.4",
      "model_name": "ProgressModel",
      "state": {
       "_model_module_version": "~2.1.4",
       "_view_module_version": "~2.1.4",
       "bar_style": "success",
       "layout": "IPY_MODEL_79876791fed54bcc9b0731b1e1e0679c",
       "max": 1,
       "style": "IPY_MODEL_42482ffe4ea14a2bb43bad567ca1efaf",
       "value": 1
      }
     },
     "57e969d4d40048119efa89801a408acf": {
      "model_module": "jupyter-js-widgets",
      "model_module_version": "~2.1.4",
      "model_name": "LayoutModel",
      "state": {
       "_model_module_version": "~2.1.4",
       "_view_module_version": "~2.1.4"
      }
     },
     "5819b86c9ba3409ea20ff5dd51f900ce": {
      "model_module": "jupyter-js-widgets",
      "model_module_version": "~2.1.4",
      "model_name": "ProgressModel",
      "state": {
       "_model_module_version": "~2.1.4",
       "_view_module_version": "~2.1.4",
       "bar_style": "success",
       "layout": "IPY_MODEL_5b0c0365d31c47c187bee5e4b96baa88",
       "max": 1,
       "style": "IPY_MODEL_21748dfa835149aab65d6e712f9ef35f",
       "value": 1
      }
     },
     "59c4bc40b96d4868aafce0a84209dffd": {
      "model_module": "jupyter-js-widgets",
      "model_module_version": "~2.1.4",
      "model_name": "LayoutModel",
      "state": {
       "_model_module_version": "~2.1.4",
       "_view_module_version": "~2.1.4"
      }
     },
     "59f51e61265349169d7cfb5e8ef14638": {
      "model_module": "jupyter-js-widgets",
      "model_module_version": "~2.1.4",
      "model_name": "ProgressModel",
      "state": {
       "_model_module_version": "~2.1.4",
       "_view_module_version": "~2.1.4",
       "bar_style": "success",
       "layout": "IPY_MODEL_c5d78a10c03b4dfabeb3e50d69bf6921",
       "max": 1,
       "style": "IPY_MODEL_d1eb8d0526664f87930963813ca7ce1d",
       "value": 1
      }
     },
     "59fe6198a1a94dbbad798bdf20963df7": {
      "model_module": "jupyter-js-widgets",
      "model_module_version": "~2.1.4",
      "model_name": "ProgressStyleModel",
      "state": {
       "_model_module_version": "~2.1.4",
       "_view_module_version": "~2.1.4"
      }
     },
     "5a29ed9fc6ea46d7a39b100b898d5cfe": {
      "model_module": "jupyter-js-widgets",
      "model_module_version": "~2.1.4",
      "model_name": "HBoxModel",
      "state": {
       "_model_module_version": "~2.1.4",
       "_view_module_version": "~2.1.4",
       "children": [
        "IPY_MODEL_f5c76fc2e4424f3cb86476bfa6317762",
        "IPY_MODEL_26bfedaaf16346dfae396e5837fc84c9"
       ],
       "layout": "IPY_MODEL_70f5c80aed3b4bd58eeac07bbd69e572"
      }
     },
     "5b0c0365d31c47c187bee5e4b96baa88": {
      "model_module": "jupyter-js-widgets",
      "model_module_version": "~2.1.4",
      "model_name": "LayoutModel",
      "state": {
       "_model_module_version": "~2.1.4",
       "_view_module_version": "~2.1.4"
      }
     },
     "5b13ab8673cf4fbeb867050e33bb0d15": {
      "model_module": "jupyter-js-widgets",
      "model_module_version": "~2.1.4",
      "model_name": "HTMLModel",
      "state": {
       "_model_module_version": "~2.1.4",
       "_view_module_version": "~2.1.4",
       "layout": "IPY_MODEL_4a17e21db4804f3f89dce5ecf70b669f",
       "value": "100% 1/1 [00:10&lt;00:00, 10.04s/it]"
      }
     },
     "5b4b96835c2b4ab48c6d0de3d95d417e": {
      "model_module": "jupyter-js-widgets",
      "model_module_version": "~2.1.4",
      "model_name": "HTMLModel",
      "state": {
       "_model_module_version": "~2.1.4",
       "_view_module_version": "~2.1.4",
       "layout": "IPY_MODEL_a949046eba4445fd9b2251c7f8c008e4",
       "value": "100% 1/1 [00:09&lt;00:00,  9.90s/it]"
      }
     },
     "5dd11610325146a69339a34002fb2dfc": {
      "model_module": "jupyter-js-widgets",
      "model_module_version": "~2.1.4",
      "model_name": "HTMLModel",
      "state": {
       "_model_module_version": "~2.1.4",
       "_view_module_version": "~2.1.4",
       "layout": "IPY_MODEL_f2c03ac6c1634d2888889e50b850aba3",
       "value": "100% 1/1 [00:09&lt;00:00,  9.87s/it]"
      }
     },
     "5e2b9c32aee8471e840e70d2ed4b3dcc": {
      "model_module": "jupyter-js-widgets",
      "model_module_version": "~2.1.4",
      "model_name": "LayoutModel",
      "state": {
       "_model_module_version": "~2.1.4",
       "_view_module_version": "~2.1.4"
      }
     },
     "5e8bff8625e048c4af0833648b1d1e52": {
      "model_module": "jupyter-js-widgets",
      "model_module_version": "~2.1.4",
      "model_name": "LayoutModel",
      "state": {
       "_model_module_version": "~2.1.4",
       "_view_module_version": "~2.1.4"
      }
     },
     "5fc6e921ac344a068044b16cbde9b75f": {
      "model_module": "jupyter-js-widgets",
      "model_module_version": "~2.1.4",
      "model_name": "ProgressStyleModel",
      "state": {
       "_model_module_version": "~2.1.4",
       "_view_module_version": "~2.1.4"
      }
     },
     "607fdc105442471b8bc0c5081cd82cd9": {
      "model_module": "jupyter-js-widgets",
      "model_module_version": "~2.1.4",
      "model_name": "HBoxModel",
      "state": {
       "_model_module_version": "~2.1.4",
       "_view_module_version": "~2.1.4",
       "children": [
        "IPY_MODEL_40fbd573faa747ad8b085c5d90243a7b",
        "IPY_MODEL_01e6100c0a994e9195e35d2411346277"
       ],
       "layout": "IPY_MODEL_63ebb2c176e54c19aaf19bcbb569dde3"
      }
     },
     "60fa16db62144b26b11dce12a8f3f495": {
      "model_module": "jupyter-js-widgets",
      "model_module_version": "~2.1.4",
      "model_name": "ProgressStyleModel",
      "state": {
       "_model_module_version": "~2.1.4",
       "_view_module_version": "~2.1.4"
      }
     },
     "6125512c5212424191d54a7c97f9d184": {
      "model_module": "jupyter-js-widgets",
      "model_module_version": "~2.1.4",
      "model_name": "LayoutModel",
      "state": {
       "_model_module_version": "~2.1.4",
       "_view_module_version": "~2.1.4"
      }
     },
     "6139de1d0e7b41ef92cfe2e28433aeee": {
      "model_module": "jupyter-js-widgets",
      "model_module_version": "~2.1.4",
      "model_name": "HTMLModel",
      "state": {
       "_model_module_version": "~2.1.4",
       "_view_module_version": "~2.1.4",
       "layout": "IPY_MODEL_a7bbe6594a9541c89e5795261f2e9236",
       "value": "100% 1/1 [00:10&lt;00:00, 10.03s/it]"
      }
     },
     "615daed83c6b4f95bd1d79fb03a6efed": {
      "model_module": "jupyter-js-widgets",
      "model_module_version": "~2.1.4",
      "model_name": "LayoutModel",
      "state": {
       "_model_module_version": "~2.1.4",
       "_view_module_version": "~2.1.4"
      }
     },
     "6169a42682294b09bdaa38d347e6ce35": {
      "model_module": "jupyter-js-widgets",
      "model_module_version": "~2.1.4",
      "model_name": "LayoutModel",
      "state": {
       "_model_module_version": "~2.1.4",
       "_view_module_version": "~2.1.4"
      }
     },
     "6196e004f5454904abbf932952123041": {
      "model_module": "jupyter-js-widgets",
      "model_module_version": "~2.1.4",
      "model_name": "HTMLModel",
      "state": {
       "_model_module_version": "~2.1.4",
       "_view_module_version": "~2.1.4",
       "layout": "IPY_MODEL_3af405376407491da5c852d1cb14b99f",
       "value": "100% 1/1 [00:09&lt;00:00,  9.86s/it]"
      }
     },
     "61d35472081a4491ad6f2a7191a95f1c": {
      "model_module": "jupyter-js-widgets",
      "model_module_version": "~2.1.4",
      "model_name": "LayoutModel",
      "state": {
       "_model_module_version": "~2.1.4",
       "_view_module_version": "~2.1.4"
      }
     },
     "621ffa3cfdfc4302971f38b3689c93b8": {
      "model_module": "jupyter-js-widgets",
      "model_module_version": "~2.1.4",
      "model_name": "HBoxModel",
      "state": {
       "_model_module_version": "~2.1.4",
       "_view_module_version": "~2.1.4",
       "children": [
        "IPY_MODEL_352e454ca26a4f6dbd38070bc784a2f2",
        "IPY_MODEL_96c2aba7c3e24006a32a81827a7dd36f"
       ],
       "layout": "IPY_MODEL_d07bedf1e8a141c3a1a1770b27ca37b2"
      }
     },
     "6311e5f0e3c2408a99e3e7ff27ac2431": {
      "model_module": "jupyter-js-widgets",
      "model_module_version": "~2.1.4",
      "model_name": "ProgressStyleModel",
      "state": {
       "_model_module_version": "~2.1.4",
       "_view_module_version": "~2.1.4"
      }
     },
     "6349e3e30c724021a36ea407a17ae9ae": {
      "model_module": "jupyter-js-widgets",
      "model_module_version": "~2.1.4",
      "model_name": "HTMLModel",
      "state": {
       "_model_module_version": "~2.1.4",
       "_view_module_version": "~2.1.4",
       "layout": "IPY_MODEL_9df2d16bf0064f289964400b380112a8",
       "value": "100% 1/1 [00:09&lt;00:00,  9.88s/it]"
      }
     },
     "637a8fd4ba4d4c78a0e97b3bb7b66dcc": {
      "model_module": "jupyter-js-widgets",
      "model_module_version": "~2.1.4",
      "model_name": "ProgressModel",
      "state": {
       "_model_module_version": "~2.1.4",
       "_view_module_version": "~2.1.4",
       "bar_style": "success",
       "layout": "IPY_MODEL_b5940e13d1e746c6b6b5386627f60bda",
       "max": 1,
       "style": "IPY_MODEL_25f0f6e643c947088320823a8cfe135b",
       "value": 1
      }
     },
     "63e1c9260bb249139efa0913fb580f7e": {
      "model_module": "jupyter-js-widgets",
      "model_module_version": "~2.1.4",
      "model_name": "LayoutModel",
      "state": {
       "_model_module_version": "~2.1.4",
       "_view_module_version": "~2.1.4"
      }
     },
     "63ebb2c176e54c19aaf19bcbb569dde3": {
      "model_module": "jupyter-js-widgets",
      "model_module_version": "~2.1.4",
      "model_name": "LayoutModel",
      "state": {
       "_model_module_version": "~2.1.4",
       "_view_module_version": "~2.1.4"
      }
     },
     "657f4dbfb76043b185e9db0ceea78fd6": {
      "model_module": "jupyter-js-widgets",
      "model_module_version": "~2.1.4",
      "model_name": "HTMLModel",
      "state": {
       "_model_module_version": "~2.1.4",
       "_view_module_version": "~2.1.4",
       "layout": "IPY_MODEL_09a688bef2344eb6a18b8a5481da5236",
       "value": "100% 1/1 [00:09&lt;00:00,  9.90s/it]"
      }
     },
     "65b1263a518a4206b76a4017ecee89c6": {
      "model_module": "jupyter-js-widgets",
      "model_module_version": "~2.1.4",
      "model_name": "ProgressStyleModel",
      "state": {
       "_model_module_version": "~2.1.4",
       "_view_module_version": "~2.1.4"
      }
     },
     "6601e4a221a341b4bf0bd532e512d67c": {
      "model_module": "jupyter-js-widgets",
      "model_module_version": "~2.1.4",
      "model_name": "ProgressModel",
      "state": {
       "_model_module_version": "~2.1.4",
       "_view_module_version": "~2.1.4",
       "bar_style": "success",
       "layout": "IPY_MODEL_98168f4947da4bc1a6fa890cf94e92df",
       "max": 1,
       "style": "IPY_MODEL_ab10b36fff8d4b498c52a8117f69f9e8",
       "value": 1
      }
     },
     "66b9a30dd1654ea98f40a86b6c437e60": {
      "model_module": "jupyter-js-widgets",
      "model_module_version": "~2.1.4",
      "model_name": "LayoutModel",
      "state": {
       "_model_module_version": "~2.1.4",
       "_view_module_version": "~2.1.4"
      }
     },
     "676933e66d74459d8a59512e05174724": {
      "model_module": "jupyter-js-widgets",
      "model_module_version": "~2.1.4",
      "model_name": "HBoxModel",
      "state": {
       "_model_module_version": "~2.1.4",
       "_view_module_version": "~2.1.4",
       "children": [
        "IPY_MODEL_152cb032f3314c60891f43119da8bf22",
        "IPY_MODEL_787f6ae2908d4233822740ffa54763b9"
       ],
       "layout": "IPY_MODEL_ee7e3c94ef694fd59b987132d48e649e"
      }
     },
     "67836ca979c446c99102522601f4821f": {
      "model_module": "jupyter-js-widgets",
      "model_module_version": "~2.1.4",
      "model_name": "HBoxModel",
      "state": {
       "_model_module_version": "~2.1.4",
       "_view_module_version": "~2.1.4",
       "children": [
        "IPY_MODEL_9c073c9094294a93b7241bb9c8e980cf",
        "IPY_MODEL_43f3bec571d54e468fd58bbff0f1f5a7"
       ],
       "layout": "IPY_MODEL_a7c3e81d130844cf873123a041301b26"
      }
     },
     "68e21c5187fa43eca69c901c8a29653a": {
      "model_module": "jupyter-js-widgets",
      "model_module_version": "~2.1.4",
      "model_name": "HBoxModel",
      "state": {
       "_model_module_version": "~2.1.4",
       "_view_module_version": "~2.1.4",
       "children": [
        "IPY_MODEL_30419bb261034aa59e87ac4a2f72432d",
        "IPY_MODEL_87f257e11b414c32a835b01e337b86ce"
       ],
       "layout": "IPY_MODEL_83cde4ad9ace4b20a22043b06e407819"
      }
     },
     "696777d5d14d4dbd96e3e6b94b7a6449": {
      "model_module": "jupyter-js-widgets",
      "model_module_version": "~2.1.4",
      "model_name": "LayoutModel",
      "state": {
       "_model_module_version": "~2.1.4",
       "_view_module_version": "~2.1.4"
      }
     },
     "69d3445d7faf499c9dd15270282fe551": {
      "model_module": "jupyter-js-widgets",
      "model_module_version": "~2.1.4",
      "model_name": "HTMLModel",
      "state": {
       "_model_module_version": "~2.1.4",
       "_view_module_version": "~2.1.4",
       "layout": "IPY_MODEL_b4373b0722c144b3b5a35c4d27fc5e6b",
       "value": "100% 1/1 [00:10&lt;00:00, 10.11s/it]"
      }
     },
     "6a8e9bc025fb402f87386e7da77e5936": {
      "model_module": "jupyter-js-widgets",
      "model_module_version": "~2.1.4",
      "model_name": "HBoxModel",
      "state": {
       "_model_module_version": "~2.1.4",
       "_view_module_version": "~2.1.4",
       "children": [
        "IPY_MODEL_6601e4a221a341b4bf0bd532e512d67c",
        "IPY_MODEL_3fff2544de674f66a30084c32f157f1b"
       ],
       "layout": "IPY_MODEL_255b0859f5cf4a588c2770676124e323"
      }
     },
     "6ac641cf95274eeab58690c8b4c84539": {
      "model_module": "jupyter-js-widgets",
      "model_module_version": "~2.1.4",
      "model_name": "LayoutModel",
      "state": {
       "_model_module_version": "~2.1.4",
       "_view_module_version": "~2.1.4"
      }
     },
     "6b13fe17abb84f59a0c5ddea1c82caf5": {
      "model_module": "jupyter-js-widgets",
      "model_module_version": "~2.1.4",
      "model_name": "HBoxModel",
      "state": {
       "_model_module_version": "~2.1.4",
       "_view_module_version": "~2.1.4",
       "children": [
        "IPY_MODEL_d4164aa4e2ac46aeb7125b565a49a3fc",
        "IPY_MODEL_b49f566b6f014066b88762dda02e3274"
       ],
       "layout": "IPY_MODEL_6cb48f7658a84591b4a96efeecf561e5"
      }
     },
     "6cb48f7658a84591b4a96efeecf561e5": {
      "model_module": "jupyter-js-widgets",
      "model_module_version": "~2.1.4",
      "model_name": "LayoutModel",
      "state": {
       "_model_module_version": "~2.1.4",
       "_view_module_version": "~2.1.4"
      }
     },
     "6cbb568498fe473e90c8fdcf8288c2ad": {
      "model_module": "jupyter-js-widgets",
      "model_module_version": "~2.1.4",
      "model_name": "LayoutModel",
      "state": {
       "_model_module_version": "~2.1.4",
       "_view_module_version": "~2.1.4"
      }
     },
     "6d89ffa0c98f4bc48f4a4b8a614f2c4e": {
      "model_module": "jupyter-js-widgets",
      "model_module_version": "~2.1.4",
      "model_name": "LayoutModel",
      "state": {
       "_model_module_version": "~2.1.4",
       "_view_module_version": "~2.1.4"
      }
     },
     "6e803a632b55480dba20a7bc632718e6": {
      "model_module": "jupyter-js-widgets",
      "model_module_version": "~2.1.4",
      "model_name": "LayoutModel",
      "state": {
       "_model_module_version": "~2.1.4",
       "_view_module_version": "~2.1.4"
      }
     },
     "6f44aab5a7264ec0b460f11d7ac2f408": {
      "model_module": "jupyter-js-widgets",
      "model_module_version": "~2.1.4",
      "model_name": "ProgressModel",
      "state": {
       "_model_module_version": "~2.1.4",
       "_view_module_version": "~2.1.4",
       "bar_style": "success",
       "layout": "IPY_MODEL_80ccab6e228a43d2a71621ff6913e6ae",
       "max": 1,
       "style": "IPY_MODEL_c699321d25a0435e89bc21ae0315e48e",
       "value": 1
      }
     },
     "6fecc62e521a4aeb8b37c9f581acfee6": {
      "model_module": "jupyter-js-widgets",
      "model_module_version": "~2.1.4",
      "model_name": "LayoutModel",
      "state": {
       "_model_module_version": "~2.1.4",
       "_view_module_version": "~2.1.4"
      }
     },
     "703e4399b537447aab18422756a352ac": {
      "model_module": "jupyter-js-widgets",
      "model_module_version": "~2.1.4",
      "model_name": "LayoutModel",
      "state": {
       "_model_module_version": "~2.1.4",
       "_view_module_version": "~2.1.4"
      }
     },
     "7098c143abd949b488947f079fcbf48a": {
      "model_module": "jupyter-js-widgets",
      "model_module_version": "~2.1.4",
      "model_name": "ProgressModel",
      "state": {
       "_model_module_version": "~2.1.4",
       "_view_module_version": "~2.1.4",
       "bar_style": "success",
       "layout": "IPY_MODEL_8dd3939f65ba49d9b076b34502cf2022",
       "max": 1,
       "style": "IPY_MODEL_ca020073633648de878a6de83085e3d8",
       "value": 1
      }
     },
     "70b83a66ded54b33a592f2629c493d48": {
      "model_module": "jupyter-js-widgets",
      "model_module_version": "~2.1.4",
      "model_name": "HTMLModel",
      "state": {
       "_model_module_version": "~2.1.4",
       "_view_module_version": "~2.1.4",
       "layout": "IPY_MODEL_61d35472081a4491ad6f2a7191a95f1c",
       "value": "100% 1/1 [00:09&lt;00:00,  9.86s/it]"
      }
     },
     "70f5c80aed3b4bd58eeac07bbd69e572": {
      "model_module": "jupyter-js-widgets",
      "model_module_version": "~2.1.4",
      "model_name": "LayoutModel",
      "state": {
       "_model_module_version": "~2.1.4",
       "_view_module_version": "~2.1.4"
      }
     },
     "71f7f3884eb24ade926f0e49ae056126": {
      "model_module": "jupyter-js-widgets",
      "model_module_version": "~2.1.4",
      "model_name": "HBoxModel",
      "state": {
       "_model_module_version": "~2.1.4",
       "_view_module_version": "~2.1.4",
       "children": [
        "IPY_MODEL_4ef514e3b0dc41a0b7bcce1693752bab",
        "IPY_MODEL_f6c8ff909354446ca7c9a0134136ca87"
       ],
       "layout": "IPY_MODEL_6fecc62e521a4aeb8b37c9f581acfee6"
      }
     },
     "72fd281341fa4a43ae84e76914b33913": {
      "model_module": "jupyter-js-widgets",
      "model_module_version": "~2.1.4",
      "model_name": "HBoxModel",
      "state": {
       "_model_module_version": "~2.1.4",
       "_view_module_version": "~2.1.4",
       "children": [
        "IPY_MODEL_046f2c7693d243c9b6806e926b98df93",
        "IPY_MODEL_f58f1812381840a1a978a372b391fdc5"
       ],
       "layout": "IPY_MODEL_fb801b21ae59468786b34966f99bf5e6"
      }
     },
     "732412ebcd0e4d1e98a2191076389849": {
      "model_module": "jupyter-js-widgets",
      "model_module_version": "~2.1.4",
      "model_name": "ProgressStyleModel",
      "state": {
       "_model_module_version": "~2.1.4",
       "_view_module_version": "~2.1.4"
      }
     },
     "736338a969a84505b9cf01e8a690ce79": {
      "model_module": "jupyter-js-widgets",
      "model_module_version": "~2.1.4",
      "model_name": "LayoutModel",
      "state": {
       "_model_module_version": "~2.1.4",
       "_view_module_version": "~2.1.4"
      }
     },
     "73adf4c855ba4a3ebd521b12f577e0db": {
      "model_module": "jupyter-js-widgets",
      "model_module_version": "~2.1.4",
      "model_name": "LayoutModel",
      "state": {
       "_model_module_version": "~2.1.4",
       "_view_module_version": "~2.1.4"
      }
     },
     "74ab6ebd2d7a4609b0fe88c4ae05107e": {
      "model_module": "jupyter-js-widgets",
      "model_module_version": "~2.1.4",
      "model_name": "LayoutModel",
      "state": {
       "_model_module_version": "~2.1.4",
       "_view_module_version": "~2.1.4"
      }
     },
     "7507fe9f9a0a4c31a0724556314c38cd": {
      "model_module": "jupyter-js-widgets",
      "model_module_version": "~2.1.4",
      "model_name": "ProgressStyleModel",
      "state": {
       "_model_module_version": "~2.1.4",
       "_view_module_version": "~2.1.4"
      }
     },
     "750dd382323f4dd69dc8cdac5423c655": {
      "model_module": "jupyter-js-widgets",
      "model_module_version": "~2.1.4",
      "model_name": "LayoutModel",
      "state": {
       "_model_module_version": "~2.1.4",
       "_view_module_version": "~2.1.4"
      }
     },
     "75ad0bf546784d65ad87ddb6588eaf34": {
      "model_module": "jupyter-js-widgets",
      "model_module_version": "~2.1.4",
      "model_name": "ProgressStyleModel",
      "state": {
       "_model_module_version": "~2.1.4",
       "_view_module_version": "~2.1.4"
      }
     },
     "77770949e23e41e29f5955db4885bb5c": {
      "model_module": "jupyter-js-widgets",
      "model_module_version": "~2.1.4",
      "model_name": "LayoutModel",
      "state": {
       "_model_module_version": "~2.1.4",
       "_view_module_version": "~2.1.4"
      }
     },
     "782bc4f41a624b97ac8ae20b57421a2f": {
      "model_module": "jupyter-js-widgets",
      "model_module_version": "~2.1.4",
      "model_name": "ProgressStyleModel",
      "state": {
       "_model_module_version": "~2.1.4",
       "_view_module_version": "~2.1.4"
      }
     },
     "7871f0a2d63b4f98ad00d4fd98717286": {
      "model_module": "jupyter-js-widgets",
      "model_module_version": "~2.1.4",
      "model_name": "LayoutModel",
      "state": {
       "_model_module_version": "~2.1.4",
       "_view_module_version": "~2.1.4"
      }
     },
     "787f6ae2908d4233822740ffa54763b9": {
      "model_module": "jupyter-js-widgets",
      "model_module_version": "~2.1.4",
      "model_name": "HTMLModel",
      "state": {
       "_model_module_version": "~2.1.4",
       "_view_module_version": "~2.1.4",
       "layout": "IPY_MODEL_885a28b7aad342e0a8a1fd5196b62020",
       "value": "100% 1/1 [00:10&lt;00:00, 10.06s/it]"
      }
     },
     "78b87b0c2cce4087ba33ad9ee661f5e2": {
      "model_module": "jupyter-js-widgets",
      "model_module_version": "~2.1.4",
      "model_name": "ProgressStyleModel",
      "state": {
       "_model_module_version": "~2.1.4",
       "_view_module_version": "~2.1.4"
      }
     },
     "79876791fed54bcc9b0731b1e1e0679c": {
      "model_module": "jupyter-js-widgets",
      "model_module_version": "~2.1.4",
      "model_name": "LayoutModel",
      "state": {
       "_model_module_version": "~2.1.4",
       "_view_module_version": "~2.1.4"
      }
     },
     "7a07ea0268584060951a765d607de72c": {
      "model_module": "jupyter-js-widgets",
      "model_module_version": "~2.1.4",
      "model_name": "LayoutModel",
      "state": {
       "_model_module_version": "~2.1.4",
       "_view_module_version": "~2.1.4"
      }
     },
     "7ab0181324ae4ba78b0e458a1dadf74b": {
      "model_module": "jupyter-js-widgets",
      "model_module_version": "~2.1.4",
      "model_name": "HTMLModel",
      "state": {
       "_model_module_version": "~2.1.4",
       "_view_module_version": "~2.1.4",
       "layout": "IPY_MODEL_736338a969a84505b9cf01e8a690ce79",
       "value": "100% 1/1 [00:09&lt;00:00,  9.88s/it]"
      }
     },
     "7b28d69fba314b9e8c8017b19b38272d": {
      "model_module": "jupyter-js-widgets",
      "model_module_version": "~2.1.4",
      "model_name": "HTMLModel",
      "state": {
       "_model_module_version": "~2.1.4",
       "_view_module_version": "~2.1.4",
       "layout": "IPY_MODEL_1d0b398b6c3b49efb0fef6dcaa5cf8df",
       "value": "100% 1/1 [00:09&lt;00:00,  9.89s/it]"
      }
     },
     "7b58bfeadd8d47ca8d4c241740f1494e": {
      "model_module": "jupyter-js-widgets",
      "model_module_version": "~2.1.4",
      "model_name": "ProgressStyleModel",
      "state": {
       "_model_module_version": "~2.1.4",
       "_view_module_version": "~2.1.4"
      }
     },
     "7bcc67931c3349cbb0205abdc71ea75d": {
      "model_module": "jupyter-js-widgets",
      "model_module_version": "~2.1.4",
      "model_name": "LayoutModel",
      "state": {
       "_model_module_version": "~2.1.4",
       "_view_module_version": "~2.1.4"
      }
     },
     "7c377b1d7fbc44f58f72c177cf86953d": {
      "model_module": "jupyter-js-widgets",
      "model_module_version": "~2.1.4",
      "model_name": "LayoutModel",
      "state": {
       "_model_module_version": "~2.1.4",
       "_view_module_version": "~2.1.4"
      }
     },
     "7dfb5ffbb5b949b9b2fd4de7bfaf9c24": {
      "model_module": "jupyter-js-widgets",
      "model_module_version": "~2.1.4",
      "model_name": "LayoutModel",
      "state": {
       "_model_module_version": "~2.1.4",
       "_view_module_version": "~2.1.4"
      }
     },
     "7ef6c3aa999347459ce3cc782e0a6ae4": {
      "model_module": "jupyter-js-widgets",
      "model_module_version": "~2.1.4",
      "model_name": "LayoutModel",
      "state": {
       "_model_module_version": "~2.1.4",
       "_view_module_version": "~2.1.4"
      }
     },
     "7f7738d26e9643b9a444342350ce05f0": {
      "model_module": "jupyter-js-widgets",
      "model_module_version": "~2.1.4",
      "model_name": "HBoxModel",
      "state": {
       "_model_module_version": "~2.1.4",
       "_view_module_version": "~2.1.4",
       "children": [
        "IPY_MODEL_39f6918278e94dbd97cf99fa0e5c0574",
        "IPY_MODEL_54f2dacc7d644df19385ad94e185ffda"
       ],
       "layout": "IPY_MODEL_44f071d8dc7d45d9a3b8ffae363034bd"
      }
     },
     "7feb872239c34378ba8b8ca8316b9607": {
      "model_module": "jupyter-js-widgets",
      "model_module_version": "~2.1.4",
      "model_name": "ProgressModel",
      "state": {
       "_model_module_version": "~2.1.4",
       "_view_module_version": "~2.1.4",
       "bar_style": "success",
       "layout": "IPY_MODEL_893055e610724cb38ce222b5c0b7cd41",
       "max": 1,
       "style": "IPY_MODEL_d26237b38f7d4c16b53ae480de1e1850",
       "value": 1
      }
     },
     "805285e2fcab4d138feec7d628d869dc": {
      "model_module": "jupyter-js-widgets",
      "model_module_version": "~2.1.4",
      "model_name": "ProgressModel",
      "state": {
       "_model_module_version": "~2.1.4",
       "_view_module_version": "~2.1.4",
       "bar_style": "success",
       "layout": "IPY_MODEL_1d53482734544823ad1485781b4d90ef",
       "max": 1,
       "style": "IPY_MODEL_60fa16db62144b26b11dce12a8f3f495",
       "value": 1
      }
     },
     "80c7e7d33ab842cfb1e49f10a4173c14": {
      "model_module": "jupyter-js-widgets",
      "model_module_version": "~2.1.4",
      "model_name": "ProgressStyleModel",
      "state": {
       "_model_module_version": "~2.1.4",
       "_view_module_version": "~2.1.4"
      }
     },
     "80ccab6e228a43d2a71621ff6913e6ae": {
      "model_module": "jupyter-js-widgets",
      "model_module_version": "~2.1.4",
      "model_name": "LayoutModel",
      "state": {
       "_model_module_version": "~2.1.4",
       "_view_module_version": "~2.1.4"
      }
     },
     "8166a182eb6142cb95bc4740c2d3b581": {
      "model_module": "jupyter-js-widgets",
      "model_module_version": "~2.1.4",
      "model_name": "HBoxModel",
      "state": {
       "_model_module_version": "~2.1.4",
       "_view_module_version": "~2.1.4",
       "children": [
        "IPY_MODEL_5819b86c9ba3409ea20ff5dd51f900ce",
        "IPY_MODEL_69d3445d7faf499c9dd15270282fe551"
       ],
       "layout": "IPY_MODEL_e92b368d547f42589a2251edec3d0e3f"
      }
     },
     "821f10b2ed194e97ae5721526a77135b": {
      "model_module": "jupyter-js-widgets",
      "model_module_version": "~2.1.4",
      "model_name": "LayoutModel",
      "state": {
       "_model_module_version": "~2.1.4",
       "_view_module_version": "~2.1.4"
      }
     },
     "836f312ccfa64f24bbae607c52692f19": {
      "model_module": "jupyter-js-widgets",
      "model_module_version": "~2.1.4",
      "model_name": "HTMLModel",
      "state": {
       "_model_module_version": "~2.1.4",
       "_view_module_version": "~2.1.4",
       "layout": "IPY_MODEL_f0a4bcb50d9a4f2892cd0b300f555e41",
       "value": "100% 1/1 [00:10&lt;00:00, 10.03s/it]"
      }
     },
     "83cde4ad9ace4b20a22043b06e407819": {
      "model_module": "jupyter-js-widgets",
      "model_module_version": "~2.1.4",
      "model_name": "LayoutModel",
      "state": {
       "_model_module_version": "~2.1.4",
       "_view_module_version": "~2.1.4"
      }
     },
     "849ad717fb884466902bb810c45d592c": {
      "model_module": "jupyter-js-widgets",
      "model_module_version": "~2.1.4",
      "model_name": "LayoutModel",
      "state": {
       "_model_module_version": "~2.1.4",
       "_view_module_version": "~2.1.4"
      }
     },
     "84a85623626745b7b10ed97a493503b3": {
      "model_module": "jupyter-js-widgets",
      "model_module_version": "~2.1.4",
      "model_name": "LayoutModel",
      "state": {
       "_model_module_version": "~2.1.4",
       "_view_module_version": "~2.1.4"
      }
     },
     "8589888056a94117b28a7335c1b7e643": {
      "model_module": "jupyter-js-widgets",
      "model_module_version": "~2.1.4",
      "model_name": "LayoutModel",
      "state": {
       "_model_module_version": "~2.1.4",
       "_view_module_version": "~2.1.4"
      }
     },
     "85bd5b2d5e82475199172479ef2fb2b3": {
      "model_module": "jupyter-js-widgets",
      "model_module_version": "~2.1.4",
      "model_name": "HTMLModel",
      "state": {
       "_model_module_version": "~2.1.4",
       "_view_module_version": "~2.1.4",
       "layout": "IPY_MODEL_703e4399b537447aab18422756a352ac",
       "value": "100% 1/1 [00:10&lt;00:00, 10.26s/it]"
      }
     },
     "8624a79a3b7144f682bdd18e35895243": {
      "model_module": "jupyter-js-widgets",
      "model_module_version": "~2.1.4",
      "model_name": "HBoxModel",
      "state": {
       "_model_module_version": "~2.1.4",
       "_view_module_version": "~2.1.4",
       "children": [
        "IPY_MODEL_4e1e309e66304807a4762b5977ff7c30",
        "IPY_MODEL_9142e5c9b116406abd492147228ca4ad"
       ],
       "layout": "IPY_MODEL_0806d169b71c442390edbf567e80bb7a"
      }
     },
     "869c3c73b07b47b9af0a1889bcf88b80": {
      "model_module": "jupyter-js-widgets",
      "model_module_version": "~2.1.4",
      "model_name": "HTMLModel",
      "state": {
       "_model_module_version": "~2.1.4",
       "_view_module_version": "~2.1.4",
       "layout": "IPY_MODEL_30f206abe9ed42ff8d6398e7562bcc46",
       "value": "100% 1/1 [00:10&lt;00:00, 10.19s/it]"
      }
     },
     "871f3ca99bff4b739a55a2bc61f286b0": {
      "model_module": "jupyter-js-widgets",
      "model_module_version": "~2.1.4",
      "model_name": "HTMLModel",
      "state": {
       "_model_module_version": "~2.1.4",
       "_view_module_version": "~2.1.4",
       "layout": "IPY_MODEL_f08a507ac3734d63b70fdb6b12e7ac71",
       "value": "100% 1/1 [00:10&lt;00:00, 10.04s/it]"
      }
     },
     "87f257e11b414c32a835b01e337b86ce": {
      "model_module": "jupyter-js-widgets",
      "model_module_version": "~2.1.4",
      "model_name": "HTMLModel",
      "state": {
       "_model_module_version": "~2.1.4",
       "_view_module_version": "~2.1.4",
       "layout": "IPY_MODEL_1a9346a1b71440a68a26602346cee46f",
       "value": "100% 1/1 [00:09&lt;00:00,  9.88s/it]"
      }
     },
     "885a28b7aad342e0a8a1fd5196b62020": {
      "model_module": "jupyter-js-widgets",
      "model_module_version": "~2.1.4",
      "model_name": "LayoutModel",
      "state": {
       "_model_module_version": "~2.1.4",
       "_view_module_version": "~2.1.4"
      }
     },
     "887a8600a69a48d396accc8afd5219c3": {
      "model_module": "jupyter-js-widgets",
      "model_module_version": "~2.1.4",
      "model_name": "LayoutModel",
      "state": {
       "_model_module_version": "~2.1.4",
       "_view_module_version": "~2.1.4"
      }
     },
     "888db9f6059e491f86846611683e2dfa": {
      "model_module": "jupyter-js-widgets",
      "model_module_version": "~2.1.4",
      "model_name": "ProgressModel",
      "state": {
       "_model_module_version": "~2.1.4",
       "_view_module_version": "~2.1.4",
       "bar_style": "success",
       "layout": "IPY_MODEL_b895028cdab4477fa63d7c1c5407472e",
       "max": 1,
       "style": "IPY_MODEL_75ad0bf546784d65ad87ddb6588eaf34",
       "value": 1
      }
     },
     "893055e610724cb38ce222b5c0b7cd41": {
      "model_module": "jupyter-js-widgets",
      "model_module_version": "~2.1.4",
      "model_name": "LayoutModel",
      "state": {
       "_model_module_version": "~2.1.4",
       "_view_module_version": "~2.1.4"
      }
     },
     "89f840ad4908463da36327a25e6d31c7": {
      "model_module": "jupyter-js-widgets",
      "model_module_version": "~2.1.4",
      "model_name": "ProgressStyleModel",
      "state": {
       "_model_module_version": "~2.1.4",
       "_view_module_version": "~2.1.4"
      }
     },
     "8a50bdd8a6e04c80afd29f5d8a9503db": {
      "model_module": "jupyter-js-widgets",
      "model_module_version": "~2.1.4",
      "model_name": "LayoutModel",
      "state": {
       "_model_module_version": "~2.1.4",
       "_view_module_version": "~2.1.4"
      }
     },
     "8a64f6aac89d4cf588b870c53862345f": {
      "model_module": "jupyter-js-widgets",
      "model_module_version": "~2.1.4",
      "model_name": "LayoutModel",
      "state": {
       "_model_module_version": "~2.1.4",
       "_view_module_version": "~2.1.4"
      }
     },
     "8b84e2add8d04fbd93c51fcc65f49e80": {
      "model_module": "jupyter-js-widgets",
      "model_module_version": "~2.1.4",
      "model_name": "HTMLModel",
      "state": {
       "_model_module_version": "~2.1.4",
       "_view_module_version": "~2.1.4",
       "layout": "IPY_MODEL_c6586423fe69408d97d9f259411faaf3",
       "value": "100% 1/1 [00:09&lt;00:00,  9.88s/it]"
      }
     },
     "8c87463b1fcd44d38dd1f9c90060e003": {
      "model_module": "jupyter-js-widgets",
      "model_module_version": "~2.1.4",
      "model_name": "HTMLModel",
      "state": {
       "_model_module_version": "~2.1.4",
       "_view_module_version": "~2.1.4",
       "layout": "IPY_MODEL_20f814f087134ee6843a4bc35a763c23",
       "value": "100% 1/1 [00:09&lt;00:00,  9.90s/it]"
      }
     },
     "8cbe3ac4da034df6aa3bee1da9b70efe": {
      "model_module": "jupyter-js-widgets",
      "model_module_version": "~2.1.4",
      "model_name": "LayoutModel",
      "state": {
       "_model_module_version": "~2.1.4",
       "_view_module_version": "~2.1.4"
      }
     },
     "8da63d61d87e4c299ce4ab05190da18d": {
      "model_module": "jupyter-js-widgets",
      "model_module_version": "~2.1.4",
      "model_name": "HBoxModel",
      "state": {
       "_model_module_version": "~2.1.4",
       "_view_module_version": "~2.1.4",
       "children": [
        "IPY_MODEL_2b2d5b9ee6f847c8b5098d3230d3b432",
        "IPY_MODEL_34a4efd9adf34b8885159168e6c3d6bd"
       ],
       "layout": "IPY_MODEL_f654c4ffc8f145b6976f74019d1e9c1d"
      }
     },
     "8dd3939f65ba49d9b076b34502cf2022": {
      "model_module": "jupyter-js-widgets",
      "model_module_version": "~2.1.4",
      "model_name": "LayoutModel",
      "state": {
       "_model_module_version": "~2.1.4",
       "_view_module_version": "~2.1.4"
      }
     },
     "8e459af014a44cbea2d3602b2a9c62c3": {
      "model_module": "jupyter-js-widgets",
      "model_module_version": "~2.1.4",
      "model_name": "LayoutModel",
      "state": {
       "_model_module_version": "~2.1.4",
       "_view_module_version": "~2.1.4"
      }
     },
     "901191621b2648719a15064539f33355": {
      "model_module": "jupyter-js-widgets",
      "model_module_version": "~2.1.4",
      "model_name": "LayoutModel",
      "state": {
       "_model_module_version": "~2.1.4",
       "_view_module_version": "~2.1.4"
      }
     },
     "90e82452a9e24f42807766fd402ebccf": {
      "model_module": "jupyter-js-widgets",
      "model_module_version": "~2.1.4",
      "model_name": "LayoutModel",
      "state": {
       "_model_module_version": "~2.1.4",
       "_view_module_version": "~2.1.4"
      }
     },
     "9142e5c9b116406abd492147228ca4ad": {
      "model_module": "jupyter-js-widgets",
      "model_module_version": "~2.1.4",
      "model_name": "HTMLModel",
      "state": {
       "_model_module_version": "~2.1.4",
       "_view_module_version": "~2.1.4",
       "layout": "IPY_MODEL_84a85623626745b7b10ed97a493503b3",
       "value": "  0% 0/1 [00:00&lt;?, ?it/s]"
      }
     },
     "91a48d4859154ee9944a000219578163": {
      "model_module": "jupyter-js-widgets",
      "model_module_version": "~2.1.4",
      "model_name": "HBoxModel",
      "state": {
       "_model_module_version": "~2.1.4",
       "_view_module_version": "~2.1.4",
       "children": [
        "IPY_MODEL_944755f89de342b28375a7e4c6c79a10",
        "IPY_MODEL_ad511367635745ae89b672afe1e3c43f"
       ],
       "layout": "IPY_MODEL_8a50bdd8a6e04c80afd29f5d8a9503db"
      }
     },
     "924c0ac3c5fc4a4497b2e99359529f01": {
      "model_module": "jupyter-js-widgets",
      "model_module_version": "~2.1.4",
      "model_name": "ProgressStyleModel",
      "state": {
       "_model_module_version": "~2.1.4",
       "_view_module_version": "~2.1.4"
      }
     },
     "92b35868546842629f6a1e5521f6da54": {
      "model_module": "jupyter-js-widgets",
      "model_module_version": "~2.1.4",
      "model_name": "ProgressModel",
      "state": {
       "_model_module_version": "~2.1.4",
       "_view_module_version": "~2.1.4",
       "bar_style": "success",
       "layout": "IPY_MODEL_1c34db8be6da4deb83f9ec6877f49ad0",
       "max": 1,
       "style": "IPY_MODEL_d1b6a256e9d2435fb2ef1b0852c03c73",
       "value": 1
      }
     },
     "939aea1fc35e43d2a0e1b48d61c7e60a": {
      "model_module": "jupyter-js-widgets",
      "model_module_version": "~2.1.4",
      "model_name": "HBoxModel",
      "state": {
       "_model_module_version": "~2.1.4",
       "_view_module_version": "~2.1.4",
       "children": [
        "IPY_MODEL_6f44aab5a7264ec0b460f11d7ac2f408",
        "IPY_MODEL_499e25abebb6446fa5db1f42c64465ba"
       ],
       "layout": "IPY_MODEL_d1c9ba2b250c4961be5dd1288eb51475"
      }
     },
     "944755f89de342b28375a7e4c6c79a10": {
      "model_module": "jupyter-js-widgets",
      "model_module_version": "~2.1.4",
      "model_name": "ProgressModel",
      "state": {
       "_model_module_version": "~2.1.4",
       "_view_module_version": "~2.1.4",
       "bar_style": "success",
       "layout": "IPY_MODEL_11cb97e9e5704a5f9cb0e3a0ea388736",
       "max": 1,
       "style": "IPY_MODEL_2f2e891277724c4eab2f1e3a20f9a4ae",
       "value": 1
      }
     },
     "95155fae6aaf47adb46bcb8b53e6449b": {
      "model_module": "jupyter-js-widgets",
      "model_module_version": "~2.1.4",
      "model_name": "ProgressModel",
      "state": {
       "_model_module_version": "~2.1.4",
       "_view_module_version": "~2.1.4",
       "bar_style": "success",
       "layout": "IPY_MODEL_59c4bc40b96d4868aafce0a84209dffd",
       "max": 1,
       "style": "IPY_MODEL_f16a8efdaf46461eaa171c770ab1cdda",
       "value": 1
      }
     },
     "96b13f9ffc22404b95090e499bad9e4e": {
      "model_module": "jupyter-js-widgets",
      "model_module_version": "~2.1.4",
      "model_name": "HTMLModel",
      "state": {
       "_model_module_version": "~2.1.4",
       "_view_module_version": "~2.1.4",
       "layout": "IPY_MODEL_8e459af014a44cbea2d3602b2a9c62c3",
       "value": "100% 1/1 [00:10&lt;00:00, 10.43s/it]"
      }
     },
     "96c2aba7c3e24006a32a81827a7dd36f": {
      "model_module": "jupyter-js-widgets",
      "model_module_version": "~2.1.4",
      "model_name": "HTMLModel",
      "state": {
       "_model_module_version": "~2.1.4",
       "_view_module_version": "~2.1.4",
       "layout": "IPY_MODEL_0bd1b4752041495c834b0b66bc006bb7",
       "value": "100% 1/1 [00:09&lt;00:00,  9.86s/it]"
      }
     },
     "98168f4947da4bc1a6fa890cf94e92df": {
      "model_module": "jupyter-js-widgets",
      "model_module_version": "~2.1.4",
      "model_name": "LayoutModel",
      "state": {
       "_model_module_version": "~2.1.4",
       "_view_module_version": "~2.1.4"
      }
     },
     "9859491976314fe0a454c775bed78981": {
      "model_module": "jupyter-js-widgets",
      "model_module_version": "~2.1.4",
      "model_name": "HBoxModel",
      "state": {
       "_model_module_version": "~2.1.4",
       "_view_module_version": "~2.1.4",
       "children": [
        "IPY_MODEL_1ab2cbd42c2c48f2bbf33aae4d3ca095",
        "IPY_MODEL_21b2946bfb604a06bb396d4267f18140"
       ],
       "layout": "IPY_MODEL_73adf4c855ba4a3ebd521b12f577e0db"
      }
     },
     "98b5b756a5c4497f9fbda47be700e1fe": {
      "model_module": "jupyter-js-widgets",
      "model_module_version": "~2.1.4",
      "model_name": "LayoutModel",
      "state": {
       "_model_module_version": "~2.1.4",
       "_view_module_version": "~2.1.4"
      }
     },
     "9abc26c1ab914340a5dcb063c29ffaf3": {
      "model_module": "jupyter-js-widgets",
      "model_module_version": "~2.1.4",
      "model_name": "LayoutModel",
      "state": {
       "_model_module_version": "~2.1.4",
       "_view_module_version": "~2.1.4"
      }
     },
     "9b135caed87e45a19c2478fcf47765d3": {
      "model_module": "jupyter-js-widgets",
      "model_module_version": "~2.1.4",
      "model_name": "ProgressStyleModel",
      "state": {
       "_model_module_version": "~2.1.4",
       "_view_module_version": "~2.1.4"
      }
     },
     "9b580209009e47c6931584eae5624b40": {
      "model_module": "jupyter-js-widgets",
      "model_module_version": "~2.1.4",
      "model_name": "LayoutModel",
      "state": {
       "_model_module_version": "~2.1.4",
       "_view_module_version": "~2.1.4"
      }
     },
     "9bb24fe95e1b45e482c8031d28106258": {
      "model_module": "jupyter-js-widgets",
      "model_module_version": "~2.1.4",
      "model_name": "LayoutModel",
      "state": {
       "_model_module_version": "~2.1.4",
       "_view_module_version": "~2.1.4"
      }
     },
     "9c073c9094294a93b7241bb9c8e980cf": {
      "model_module": "jupyter-js-widgets",
      "model_module_version": "~2.1.4",
      "model_name": "ProgressModel",
      "state": {
       "_model_module_version": "~2.1.4",
       "_view_module_version": "~2.1.4",
       "bar_style": "success",
       "layout": "IPY_MODEL_4dd552437cea46428a43c72c4d637c15",
       "max": 1,
       "style": "IPY_MODEL_29867ed12ccd4ab2af6817f843a3162b",
       "value": 1
      }
     },
     "9c56675e4ce44a31867cedb9f74b1407": {
      "model_module": "jupyter-js-widgets",
      "model_module_version": "~2.1.4",
      "model_name": "ProgressStyleModel",
      "state": {
       "_model_module_version": "~2.1.4",
       "_view_module_version": "~2.1.4"
      }
     },
     "9d2d15fa97d747e9b78c750ed48ae608": {
      "model_module": "jupyter-js-widgets",
      "model_module_version": "~2.1.4",
      "model_name": "HBoxModel",
      "state": {
       "_model_module_version": "~2.1.4",
       "_view_module_version": "~2.1.4",
       "children": [
        "IPY_MODEL_c3aa361d45e94301b461abbb94ccf77f",
        "IPY_MODEL_0b75219f16c241b488dd3bea20d2cf33"
       ],
       "layout": "IPY_MODEL_6125512c5212424191d54a7c97f9d184"
      }
     },
     "9db00ef77fce4d8cbfc17261b09d7560": {
      "model_module": "jupyter-js-widgets",
      "model_module_version": "~2.1.4",
      "model_name": "HTMLModel",
      "state": {
       "_model_module_version": "~2.1.4",
       "_view_module_version": "~2.1.4",
       "layout": "IPY_MODEL_38a2520e42ac470cbcf89238a9b2adbb",
       "value": "100% 1/1 [00:09&lt;00:00,  9.85s/it]"
      }
     },
     "9df2d16bf0064f289964400b380112a8": {
      "model_module": "jupyter-js-widgets",
      "model_module_version": "~2.1.4",
      "model_name": "LayoutModel",
      "state": {
       "_model_module_version": "~2.1.4",
       "_view_module_version": "~2.1.4"
      }
     },
     "9f8714d978e747ff9f07c6bf3a9da085": {
      "model_module": "jupyter-js-widgets",
      "model_module_version": "~2.1.4",
      "model_name": "HTMLModel",
      "state": {
       "_model_module_version": "~2.1.4",
       "_view_module_version": "~2.1.4",
       "layout": "IPY_MODEL_a6cb812fbfd74e1f8c57257f7d83dc93",
       "value": "100% 1/1 [00:10&lt;00:00, 10.48s/it]"
      }
     },
     "a0317c9ea89f41b4971d69feb02af801": {
      "model_module": "jupyter-js-widgets",
      "model_module_version": "~2.1.4",
      "model_name": "ProgressModel",
      "state": {
       "_model_module_version": "~2.1.4",
       "_view_module_version": "~2.1.4",
       "bar_style": "success",
       "layout": "IPY_MODEL_c236df553f774748aea0c46ad4e39520",
       "max": 1,
       "style": "IPY_MODEL_9b135caed87e45a19c2478fcf47765d3",
       "value": 1
      }
     },
     "a04446d121624ddea50521e2728e3811": {
      "model_module": "jupyter-js-widgets",
      "model_module_version": "~2.1.4",
      "model_name": "ProgressStyleModel",
      "state": {
       "_model_module_version": "~2.1.4",
       "_view_module_version": "~2.1.4"
      }
     },
     "a0a2bba4ff4c48149d95c63d2eca5ebc": {
      "model_module": "jupyter-js-widgets",
      "model_module_version": "~2.1.4",
      "model_name": "ProgressStyleModel",
      "state": {
       "_model_module_version": "~2.1.4",
       "_view_module_version": "~2.1.4"
      }
     },
     "a3e51aeac22348a797b688aa78688f99": {
      "model_module": "jupyter-js-widgets",
      "model_module_version": "~2.1.4",
      "model_name": "LayoutModel",
      "state": {
       "_model_module_version": "~2.1.4",
       "_view_module_version": "~2.1.4"
      }
     },
     "a4cc3309698b48bbba7647e04946eaa4": {
      "model_module": "jupyter-js-widgets",
      "model_module_version": "~2.1.4",
      "model_name": "ProgressStyleModel",
      "state": {
       "_model_module_version": "~2.1.4",
       "_view_module_version": "~2.1.4"
      }
     },
     "a545db2e5cce42179451ffdf5fae2631": {
      "model_module": "jupyter-js-widgets",
      "model_module_version": "~2.1.4",
      "model_name": "ProgressModel",
      "state": {
       "_model_module_version": "~2.1.4",
       "_view_module_version": "~2.1.4",
       "bar_style": "success",
       "layout": "IPY_MODEL_6e803a632b55480dba20a7bc632718e6",
       "max": 1,
       "style": "IPY_MODEL_924c0ac3c5fc4a4497b2e99359529f01",
       "value": 1
      }
     },
     "a5ddc5004b664c7faa13c0a0f105cce0": {
      "model_module": "jupyter-js-widgets",
      "model_module_version": "~2.1.4",
      "model_name": "ProgressModel",
      "state": {
       "_model_module_version": "~2.1.4",
       "_view_module_version": "~2.1.4",
       "bar_style": "success",
       "layout": "IPY_MODEL_901191621b2648719a15064539f33355",
       "max": 1,
       "style": "IPY_MODEL_3fc4363ba6944279b16720380928dd1c",
       "value": 1
      }
     },
     "a6cb812fbfd74e1f8c57257f7d83dc93": {
      "model_module": "jupyter-js-widgets",
      "model_module_version": "~2.1.4",
      "model_name": "LayoutModel",
      "state": {
       "_model_module_version": "~2.1.4",
       "_view_module_version": "~2.1.4"
      }
     },
     "a746d648792c4116841f2aff176f4dd3": {
      "model_module": "jupyter-js-widgets",
      "model_module_version": "~2.1.4",
      "model_name": "ProgressStyleModel",
      "state": {
       "_model_module_version": "~2.1.4",
       "_view_module_version": "~2.1.4"
      }
     },
     "a78399c413f44643b7db49738fe4f5d9": {
      "model_module": "jupyter-js-widgets",
      "model_module_version": "~2.1.4",
      "model_name": "HBoxModel",
      "state": {
       "_model_module_version": "~2.1.4",
       "_view_module_version": "~2.1.4",
       "children": [
        "IPY_MODEL_bb5e2ee041474d4d96f12b1565498431",
        "IPY_MODEL_8b84e2add8d04fbd93c51fcc65f49e80"
       ],
       "layout": "IPY_MODEL_dddf975ad981443ba103611aa70af7b0"
      }
     },
     "a7aa934a4d0747deb9f05b0569e7bab1": {
      "model_module": "jupyter-js-widgets",
      "model_module_version": "~2.1.4",
      "model_name": "LayoutModel",
      "state": {
       "_model_module_version": "~2.1.4",
       "_view_module_version": "~2.1.4"
      }
     },
     "a7bbe6594a9541c89e5795261f2e9236": {
      "model_module": "jupyter-js-widgets",
      "model_module_version": "~2.1.4",
      "model_name": "LayoutModel",
      "state": {
       "_model_module_version": "~2.1.4",
       "_view_module_version": "~2.1.4"
      }
     },
     "a7c3e81d130844cf873123a041301b26": {
      "model_module": "jupyter-js-widgets",
      "model_module_version": "~2.1.4",
      "model_name": "LayoutModel",
      "state": {
       "_model_module_version": "~2.1.4",
       "_view_module_version": "~2.1.4"
      }
     },
     "a8d368d5c1a64404a7ceea6e0b4ef4b5": {
      "model_module": "jupyter-js-widgets",
      "model_module_version": "~2.1.4",
      "model_name": "LayoutModel",
      "state": {
       "_model_module_version": "~2.1.4",
       "_view_module_version": "~2.1.4"
      }
     },
     "a94795e709f548339d30e1ad33d4122f": {
      "model_module": "jupyter-js-widgets",
      "model_module_version": "~2.1.4",
      "model_name": "HBoxModel",
      "state": {
       "_model_module_version": "~2.1.4",
       "_view_module_version": "~2.1.4",
       "children": [
        "IPY_MODEL_c139231d9cfe4ea38358f4118602b408",
        "IPY_MODEL_5dd11610325146a69339a34002fb2dfc"
       ],
       "layout": "IPY_MODEL_530413ec2b0045ee85e3cc88092d9446"
      }
     },
     "a949046eba4445fd9b2251c7f8c008e4": {
      "model_module": "jupyter-js-widgets",
      "model_module_version": "~2.1.4",
      "model_name": "LayoutModel",
      "state": {
       "_model_module_version": "~2.1.4",
       "_view_module_version": "~2.1.4"
      }
     },
     "a9b71f1ab9974e24bd69b0846eac827b": {
      "model_module": "jupyter-js-widgets",
      "model_module_version": "~2.1.4",
      "model_name": "ProgressStyleModel",
      "state": {
       "_model_module_version": "~2.1.4",
       "_view_module_version": "~2.1.4"
      }
     },
     "aa344441ae8f4abc9161b2626514dcb7": {
      "model_module": "jupyter-js-widgets",
      "model_module_version": "~2.1.4",
      "model_name": "LayoutModel",
      "state": {
       "_model_module_version": "~2.1.4",
       "_view_module_version": "~2.1.4"
      }
     },
     "aa7451093a8e4623a14110e804a1680c": {
      "model_module": "jupyter-js-widgets",
      "model_module_version": "~2.1.4",
      "model_name": "LayoutModel",
      "state": {
       "_model_module_version": "~2.1.4",
       "_view_module_version": "~2.1.4"
      }
     },
     "aab95c45b17e45b3898ae9e01ec3c302": {
      "model_module": "jupyter-js-widgets",
      "model_module_version": "~2.1.4",
      "model_name": "HBoxModel",
      "state": {
       "_model_module_version": "~2.1.4",
       "_view_module_version": "~2.1.4",
       "children": [
        "IPY_MODEL_4d4c2ae735764810bb760515976befea",
        "IPY_MODEL_6349e3e30c724021a36ea407a17ae9ae"
       ],
       "layout": "IPY_MODEL_f3f05bc9421645bb92b4aa8ba37cd063"
      }
     },
     "aaf74735befa48468be277f6842db4f3": {
      "model_module": "jupyter-js-widgets",
      "model_module_version": "~2.1.4",
      "model_name": "ProgressModel",
      "state": {
       "_model_module_version": "~2.1.4",
       "_view_module_version": "~2.1.4",
       "bar_style": "success",
       "layout": "IPY_MODEL_369003c528434592ac24af9db3815031",
       "max": 1,
       "style": "IPY_MODEL_fd9387fe6a0c4ceaa1924d9cf926f40e",
       "value": 1
      }
     },
     "ab10b36fff8d4b498c52a8117f69f9e8": {
      "model_module": "jupyter-js-widgets",
      "model_module_version": "~2.1.4",
      "model_name": "ProgressStyleModel",
      "state": {
       "_model_module_version": "~2.1.4",
       "_view_module_version": "~2.1.4"
      }
     },
     "abcd1fe0849f4e218f2705b640635eed": {
      "model_module": "jupyter-js-widgets",
      "model_module_version": "~2.1.4",
      "model_name": "LayoutModel",
      "state": {
       "_model_module_version": "~2.1.4",
       "_view_module_version": "~2.1.4"
      }
     },
     "ac36d657cc0541b2876ed135bb032e8b": {
      "model_module": "jupyter-js-widgets",
      "model_module_version": "~2.1.4",
      "model_name": "LayoutModel",
      "state": {
       "_model_module_version": "~2.1.4",
       "_view_module_version": "~2.1.4"
      }
     },
     "ac37aff8de83466a874d658b0f3e5dfd": {
      "model_module": "jupyter-js-widgets",
      "model_module_version": "~2.1.4",
      "model_name": "LayoutModel",
      "state": {
       "_model_module_version": "~2.1.4",
       "_view_module_version": "~2.1.4"
      }
     },
     "aca365c4913b440fb2fe3e858bf02dd6": {
      "model_module": "jupyter-js-widgets",
      "model_module_version": "~2.1.4",
      "model_name": "ProgressStyleModel",
      "state": {
       "_model_module_version": "~2.1.4",
       "_view_module_version": "~2.1.4"
      }
     },
     "ad511367635745ae89b672afe1e3c43f": {
      "model_module": "jupyter-js-widgets",
      "model_module_version": "~2.1.4",
      "model_name": "HTMLModel",
      "state": {
       "_model_module_version": "~2.1.4",
       "_view_module_version": "~2.1.4",
       "layout": "IPY_MODEL_0ec07a053c8846c589e9d928565820b8",
       "value": "100% 1/1 [00:10&lt;00:00, 10.02s/it]"
      }
     },
     "aec36e941eab49278f11c432540b11b1": {
      "model_module": "jupyter-js-widgets",
      "model_module_version": "~2.1.4",
      "model_name": "HBoxModel",
      "state": {
       "_model_module_version": "~2.1.4",
       "_view_module_version": "~2.1.4",
       "children": [
        "IPY_MODEL_a0317c9ea89f41b4971d69feb02af801",
        "IPY_MODEL_6139de1d0e7b41ef92cfe2e28433aeee"
       ],
       "layout": "IPY_MODEL_a3e51aeac22348a797b688aa78688f99"
      }
     },
     "aff5399d361d42dca713b2efd2216ad0": {
      "model_module": "jupyter-js-widgets",
      "model_module_version": "~2.1.4",
      "model_name": "LayoutModel",
      "state": {
       "_model_module_version": "~2.1.4",
       "_view_module_version": "~2.1.4"
      }
     },
     "b1b707c612e341b3ac142e8144daae0c": {
      "model_module": "jupyter-js-widgets",
      "model_module_version": "~2.1.4",
      "model_name": "HBoxModel",
      "state": {
       "_model_module_version": "~2.1.4",
       "_view_module_version": "~2.1.4",
       "children": [
        "IPY_MODEL_a545db2e5cce42179451ffdf5fae2631",
        "IPY_MODEL_96b13f9ffc22404b95090e499bad9e4e"
       ],
       "layout": "IPY_MODEL_90e82452a9e24f42807766fd402ebccf"
      }
     },
     "b2031b1e379146b2baca9b66290092c7": {
      "model_module": "jupyter-js-widgets",
      "model_module_version": "~2.1.4",
      "model_name": "LayoutModel",
      "state": {
       "_model_module_version": "~2.1.4",
       "_view_module_version": "~2.1.4"
      }
     },
     "b36dc827428a484fb99297e9d3072c2c": {
      "model_module": "jupyter-js-widgets",
      "model_module_version": "~2.1.4",
      "model_name": "LayoutModel",
      "state": {
       "_model_module_version": "~2.1.4",
       "_view_module_version": "~2.1.4"
      }
     },
     "b4373b0722c144b3b5a35c4d27fc5e6b": {
      "model_module": "jupyter-js-widgets",
      "model_module_version": "~2.1.4",
      "model_name": "LayoutModel",
      "state": {
       "_model_module_version": "~2.1.4",
       "_view_module_version": "~2.1.4"
      }
     },
     "b49f566b6f014066b88762dda02e3274": {
      "model_module": "jupyter-js-widgets",
      "model_module_version": "~2.1.4",
      "model_name": "HTMLModel",
      "state": {
       "_model_module_version": "~2.1.4",
       "_view_module_version": "~2.1.4",
       "layout": "IPY_MODEL_da2d3820f8de44449a6bec51ef5dea84",
       "value": "100% 1/1 [00:10&lt;00:00, 10.03s/it]"
      }
     },
     "b583e6de6388471a8ed49889093dc27e": {
      "model_module": "jupyter-js-widgets",
      "model_module_version": "~2.1.4",
      "model_name": "HTMLModel",
      "state": {
       "_model_module_version": "~2.1.4",
       "_view_module_version": "~2.1.4",
       "layout": "IPY_MODEL_d5241bfceb064ae18c2ef4f834c626e4",
       "value": "100% 1/1 [00:09&lt;00:00,  9.86s/it]"
      }
     },
     "b5940e13d1e746c6b6b5386627f60bda": {
      "model_module": "jupyter-js-widgets",
      "model_module_version": "~2.1.4",
      "model_name": "LayoutModel",
      "state": {
       "_model_module_version": "~2.1.4",
       "_view_module_version": "~2.1.4"
      }
     },
     "b5a538a773a445d3b7c250d5724984bb": {
      "model_module": "jupyter-js-widgets",
      "model_module_version": "~2.1.4",
      "model_name": "HBoxModel",
      "state": {
       "_model_module_version": "~2.1.4",
       "_view_module_version": "~2.1.4",
       "children": [
        "IPY_MODEL_cb7ad6c5eb04437187caa4d94456d808",
        "IPY_MODEL_ed0a56582e074f8fbaa5ee95ac6eaaef"
       ],
       "layout": "IPY_MODEL_cb0f0da0a7c6471f83d6e77b745789a3"
      }
     },
     "b6bbff110f8e45d8ba2556f8ce226cdb": {
      "model_module": "jupyter-js-widgets",
      "model_module_version": "~2.1.4",
      "model_name": "ProgressModel",
      "state": {
       "_model_module_version": "~2.1.4",
       "_view_module_version": "~2.1.4",
       "bar_style": "success",
       "layout": "IPY_MODEL_3d4c263ad1ff4c6eb25fe49edfc3589d",
       "max": 1,
       "style": "IPY_MODEL_aca365c4913b440fb2fe3e858bf02dd6",
       "value": 1
      }
     },
     "b6d63fbc84d447ffb82d79360fd67e4e": {
      "model_module": "jupyter-js-widgets",
      "model_module_version": "~2.1.4",
      "model_name": "LayoutModel",
      "state": {
       "_model_module_version": "~2.1.4",
       "_view_module_version": "~2.1.4"
      }
     },
     "b764ded267544c45987e0f9103ca943d": {
      "model_module": "jupyter-js-widgets",
      "model_module_version": "~2.1.4",
      "model_name": "HBoxModel",
      "state": {
       "_model_module_version": "~2.1.4",
       "_view_module_version": "~2.1.4",
       "children": [
        "IPY_MODEL_ca29f3fd17054a0d808b0f981d555a3e",
        "IPY_MODEL_7ab0181324ae4ba78b0e458a1dadf74b"
       ],
       "layout": "IPY_MODEL_e7f2c10bc4a240c0a54b879a91af863c"
      }
     },
     "b76ccb4b7cc04d5dbe56852aa366dd9f": {
      "model_module": "jupyter-js-widgets",
      "model_module_version": "~2.1.4",
      "model_name": "LayoutModel",
      "state": {
       "_model_module_version": "~2.1.4",
       "_view_module_version": "~2.1.4"
      }
     },
     "b8588f0139804072a03bf8d27f6980a8": {
      "model_module": "jupyter-js-widgets",
      "model_module_version": "~2.1.4",
      "model_name": "ProgressModel",
      "state": {
       "_model_module_version": "~2.1.4",
       "_view_module_version": "~2.1.4",
       "bar_style": "success",
       "layout": "IPY_MODEL_22749dfa17e541689b15d7a6dfa59260",
       "max": 1,
       "style": "IPY_MODEL_a0a2bba4ff4c48149d95c63d2eca5ebc",
       "value": 1
      }
     },
     "b895028cdab4477fa63d7c1c5407472e": {
      "model_module": "jupyter-js-widgets",
      "model_module_version": "~2.1.4",
      "model_name": "LayoutModel",
      "state": {
       "_model_module_version": "~2.1.4",
       "_view_module_version": "~2.1.4"
      }
     },
     "b9b14b01629e4f5a83e2ec32976d7054": {
      "model_module": "jupyter-js-widgets",
      "model_module_version": "~2.1.4",
      "model_name": "LayoutModel",
      "state": {
       "_model_module_version": "~2.1.4",
       "_view_module_version": "~2.1.4"
      }
     },
     "ba5b092b586a40f6a636497671eae79e": {
      "model_module": "jupyter-js-widgets",
      "model_module_version": "~2.1.4",
      "model_name": "HTMLModel",
      "state": {
       "_model_module_version": "~2.1.4",
       "_view_module_version": "~2.1.4",
       "layout": "IPY_MODEL_43d42c8d1ae44eeba9804251180f75e9",
       "value": "100% 1/1 [00:09&lt;00:00,  9.90s/it]"
      }
     },
     "bb5e2ee041474d4d96f12b1565498431": {
      "model_module": "jupyter-js-widgets",
      "model_module_version": "~2.1.4",
      "model_name": "ProgressModel",
      "state": {
       "_model_module_version": "~2.1.4",
       "_view_module_version": "~2.1.4",
       "bar_style": "success",
       "layout": "IPY_MODEL_1a68119e9fd94dca9798254b78c3cfcc",
       "max": 1,
       "style": "IPY_MODEL_89f840ad4908463da36327a25e6d31c7",
       "value": 1
      }
     },
     "bbdb55c1b72b4bc1a68856b866fed63c": {
      "model_module": "jupyter-js-widgets",
      "model_module_version": "~2.1.4",
      "model_name": "HBoxModel",
      "state": {
       "_model_module_version": "~2.1.4",
       "_view_module_version": "~2.1.4",
       "children": [
        "IPY_MODEL_7feb872239c34378ba8b8ca8316b9607",
        "IPY_MODEL_c06b5602e7604a7d9de19c6588aa943f"
       ],
       "layout": "IPY_MODEL_c96b3411d42945d9ade7e2493b0cc492"
      }
     },
     "bd4fc587cec34d1cb1c397ff37ee296f": {
      "model_module": "jupyter-js-widgets",
      "model_module_version": "~2.1.4",
      "model_name": "LayoutModel",
      "state": {
       "_model_module_version": "~2.1.4",
       "_view_module_version": "~2.1.4"
      }
     },
     "bd9646f919824067811862055bcc8d79": {
      "model_module": "jupyter-js-widgets",
      "model_module_version": "~2.1.4",
      "model_name": "LayoutModel",
      "state": {
       "_model_module_version": "~2.1.4",
       "_view_module_version": "~2.1.4"
      }
     },
     "bf4cae68c0b9427294e5514e701b1662": {
      "model_module": "jupyter-js-widgets",
      "model_module_version": "~2.1.4",
      "model_name": "ProgressModel",
      "state": {
       "_model_module_version": "~2.1.4",
       "_view_module_version": "~2.1.4",
       "bar_style": "success",
       "layout": "IPY_MODEL_4e09a65b9e2849d2873c8c8b19eb584f",
       "max": 1,
       "style": "IPY_MODEL_11382c40cf084759b989495645ab680b",
       "value": 1
      }
     },
     "c056eb628040495dbdf762ea68b49fae": {
      "model_module": "jupyter-js-widgets",
      "model_module_version": "~2.1.4",
      "model_name": "HBoxModel",
      "state": {
       "_model_module_version": "~2.1.4",
       "_view_module_version": "~2.1.4",
       "children": [
        "IPY_MODEL_95155fae6aaf47adb46bcb8b53e6449b",
        "IPY_MODEL_dbdf825309c54b9e8890515dd6fd4b57"
       ],
       "layout": "IPY_MODEL_5131a8c2bceb44fc9c7179d92bdcd1ca"
      }
     },
     "c06b5602e7604a7d9de19c6588aa943f": {
      "model_module": "jupyter-js-widgets",
      "model_module_version": "~2.1.4",
      "model_name": "HTMLModel",
      "state": {
       "_model_module_version": "~2.1.4",
       "_view_module_version": "~2.1.4",
       "layout": "IPY_MODEL_1ac2b5071cea4fa8a419da9fe39ad489",
       "value": "100% 1/1 [00:09&lt;00:00,  9.88s/it]"
      }
     },
     "c139231d9cfe4ea38358f4118602b408": {
      "model_module": "jupyter-js-widgets",
      "model_module_version": "~2.1.4",
      "model_name": "ProgressModel",
      "state": {
       "_model_module_version": "~2.1.4",
       "_view_module_version": "~2.1.4",
       "bar_style": "success",
       "layout": "IPY_MODEL_2761ef2991554b0bb10ca104c0455632",
       "max": 1,
       "style": "IPY_MODEL_80c7e7d33ab842cfb1e49f10a4173c14",
       "value": 1
      }
     },
     "c1df12fb720d42c58c0cec9a06daa59e": {
      "model_module": "jupyter-js-widgets",
      "model_module_version": "~2.1.4",
      "model_name": "HTMLModel",
      "state": {
       "_model_module_version": "~2.1.4",
       "_view_module_version": "~2.1.4",
       "layout": "IPY_MODEL_57e969d4d40048119efa89801a408acf",
       "value": "100% 1/1 [00:09&lt;00:00,  9.92s/it]"
      }
     },
     "c236df553f774748aea0c46ad4e39520": {
      "model_module": "jupyter-js-widgets",
      "model_module_version": "~2.1.4",
      "model_name": "LayoutModel",
      "state": {
       "_model_module_version": "~2.1.4",
       "_view_module_version": "~2.1.4"
      }
     },
     "c2f2b3936b8148f2b9396c7cde12965d": {
      "model_module": "jupyter-js-widgets",
      "model_module_version": "~2.1.4",
      "model_name": "HBoxModel",
      "state": {
       "_model_module_version": "~2.1.4",
       "_view_module_version": "~2.1.4",
       "children": [
        "IPY_MODEL_547964fbe6274b5d852f7dada8337abc",
        "IPY_MODEL_3c8150248dc747ffba114920348e7720"
       ],
       "layout": "IPY_MODEL_318527be3fad4984b60e050280c7bf4e"
      }
     },
     "c3aa361d45e94301b461abbb94ccf77f": {
      "model_module": "jupyter-js-widgets",
      "model_module_version": "~2.1.4",
      "model_name": "ProgressModel",
      "state": {
       "_model_module_version": "~2.1.4",
       "_view_module_version": "~2.1.4",
       "bar_style": "success",
       "layout": "IPY_MODEL_4742405a02a944898edb995ed34f73c4",
       "max": 1,
       "style": "IPY_MODEL_019e4da2875647bda4c264124177324b",
       "value": 1
      }
     },
     "c3fe39ac49c3494ab8269ab689889268": {
      "model_module": "jupyter-js-widgets",
      "model_module_version": "~2.1.4",
      "model_name": "ProgressModel",
      "state": {
       "_model_module_version": "~2.1.4",
       "_view_module_version": "~2.1.4",
       "bar_style": "success",
       "layout": "IPY_MODEL_7bcc67931c3349cbb0205abdc71ea75d",
       "max": 1,
       "style": "IPY_MODEL_a746d648792c4116841f2aff176f4dd3",
       "value": 1
      }
     },
     "c567cc6fc0bc45c1a8ff9eda250b94f0": {
      "model_module": "jupyter-js-widgets",
      "model_module_version": "~2.1.4",
      "model_name": "ProgressModel",
      "state": {
       "_model_module_version": "~2.1.4",
       "_view_module_version": "~2.1.4",
       "bar_style": "success",
       "layout": "IPY_MODEL_546dff5cf9964dc2a53a35dada9631e7",
       "max": 1,
       "style": "IPY_MODEL_0a4e3cef4b5a46bc9c9aaba957e07ef8",
       "value": 1
      }
     },
     "c5d78a10c03b4dfabeb3e50d69bf6921": {
      "model_module": "jupyter-js-widgets",
      "model_module_version": "~2.1.4",
      "model_name": "LayoutModel",
      "state": {
       "_model_module_version": "~2.1.4",
       "_view_module_version": "~2.1.4"
      }
     },
     "c6586423fe69408d97d9f259411faaf3": {
      "model_module": "jupyter-js-widgets",
      "model_module_version": "~2.1.4",
      "model_name": "LayoutModel",
      "state": {
       "_model_module_version": "~2.1.4",
       "_view_module_version": "~2.1.4"
      }
     },
     "c699321d25a0435e89bc21ae0315e48e": {
      "model_module": "jupyter-js-widgets",
      "model_module_version": "~2.1.4",
      "model_name": "ProgressStyleModel",
      "state": {
       "_model_module_version": "~2.1.4",
       "_view_module_version": "~2.1.4"
      }
     },
     "c77a2808c6bb4f559f538f94b0142592": {
      "model_module": "jupyter-js-widgets",
      "model_module_version": "~2.1.4",
      "model_name": "LayoutModel",
      "state": {
       "_model_module_version": "~2.1.4",
       "_view_module_version": "~2.1.4"
      }
     },
     "c7cd9f93399a4ccd8292f131fd33e749": {
      "model_module": "jupyter-js-widgets",
      "model_module_version": "~2.1.4",
      "model_name": "LayoutModel",
      "state": {
       "_model_module_version": "~2.1.4",
       "_view_module_version": "~2.1.4"
      }
     },
     "c96b3411d42945d9ade7e2493b0cc492": {
      "model_module": "jupyter-js-widgets",
      "model_module_version": "~2.1.4",
      "model_name": "LayoutModel",
      "state": {
       "_model_module_version": "~2.1.4",
       "_view_module_version": "~2.1.4"
      }
     },
     "ca020073633648de878a6de83085e3d8": {
      "model_module": "jupyter-js-widgets",
      "model_module_version": "~2.1.4",
      "model_name": "ProgressStyleModel",
      "state": {
       "_model_module_version": "~2.1.4",
       "_view_module_version": "~2.1.4"
      }
     },
     "ca29f3fd17054a0d808b0f981d555a3e": {
      "model_module": "jupyter-js-widgets",
      "model_module_version": "~2.1.4",
      "model_name": "ProgressModel",
      "state": {
       "_model_module_version": "~2.1.4",
       "_view_module_version": "~2.1.4",
       "bar_style": "success",
       "layout": "IPY_MODEL_ac36d657cc0541b2876ed135bb032e8b",
       "max": 1,
       "style": "IPY_MODEL_03d27a7aedf54f688fdb5551b9e69ef2",
       "value": 1
      }
     },
     "ca4d38270c1c489097da1747ae65f1a3": {
      "model_module": "jupyter-js-widgets",
      "model_module_version": "~2.1.4",
      "model_name": "ProgressStyleModel",
      "state": {
       "_model_module_version": "~2.1.4",
       "_view_module_version": "~2.1.4"
      }
     },
     "cb0f0da0a7c6471f83d6e77b745789a3": {
      "model_module": "jupyter-js-widgets",
      "model_module_version": "~2.1.4",
      "model_name": "LayoutModel",
      "state": {
       "_model_module_version": "~2.1.4",
       "_view_module_version": "~2.1.4"
      }
     },
     "cb44fee89a1949879beed4a987874c64": {
      "model_module": "jupyter-js-widgets",
      "model_module_version": "~2.1.4",
      "model_name": "HBoxModel",
      "state": {
       "_model_module_version": "~2.1.4",
       "_view_module_version": "~2.1.4",
       "children": [
        "IPY_MODEL_59f51e61265349169d7cfb5e8ef14638",
        "IPY_MODEL_5b4b96835c2b4ab48c6d0de3d95d417e"
       ],
       "layout": "IPY_MODEL_d741c50c35174156941d2e8dfb0f4043"
      }
     },
     "cb7ad6c5eb04437187caa4d94456d808": {
      "model_module": "jupyter-js-widgets",
      "model_module_version": "~2.1.4",
      "model_name": "ProgressModel",
      "state": {
       "_model_module_version": "~2.1.4",
       "_view_module_version": "~2.1.4",
       "bar_style": "success",
       "layout": "IPY_MODEL_f0936cc0750c4df1872274adbd1f7b57",
       "max": 1,
       "style": "IPY_MODEL_ca4d38270c1c489097da1747ae65f1a3",
       "value": 1
      }
     },
     "cc9cd7560887461b86b74e01e3b03a9c": {
      "model_module": "jupyter-js-widgets",
      "model_module_version": "~2.1.4",
      "model_name": "LayoutModel",
      "state": {
       "_model_module_version": "~2.1.4",
       "_view_module_version": "~2.1.4"
      }
     },
     "cdd71925bef34f65abd10a37df0fb5ba": {
      "model_module": "jupyter-js-widgets",
      "model_module_version": "~2.1.4",
      "model_name": "ProgressModel",
      "state": {
       "_model_module_version": "~2.1.4",
       "_view_module_version": "~2.1.4",
       "bar_style": "success",
       "layout": "IPY_MODEL_25de67e857594c1d99f8d7fe06158da8",
       "max": 1,
       "style": "IPY_MODEL_d8a60e7ae5de435e8ba0bf1de1528c2d",
       "value": 1
      }
     },
     "cebd02d4f0744e91ae54b2bfb2504c19": {
      "model_module": "jupyter-js-widgets",
      "model_module_version": "~2.1.4",
      "model_name": "HTMLModel",
      "state": {
       "_model_module_version": "~2.1.4",
       "_view_module_version": "~2.1.4",
       "layout": "IPY_MODEL_3bf3589d63b44b2abedfb45b4add6f48",
       "value": "100% 1/1 [00:10&lt;00:00, 10.62s/it]"
      }
     },
     "cf20ff9ebbff485bae3a0b6136666c42": {
      "model_module": "jupyter-js-widgets",
      "model_module_version": "~2.1.4",
      "model_name": "ProgressModel",
      "state": {
       "_model_module_version": "~2.1.4",
       "_view_module_version": "~2.1.4",
       "bar_style": "success",
       "layout": "IPY_MODEL_0ce7aa5a583042f489213ff4b2dff4ed",
       "max": 1,
       "style": "IPY_MODEL_f8b1a297106345d78b35c823d65ff067",
       "value": 1
      }
     },
     "cfa0d098014541ea86b567f9b85330bd": {
      "model_module": "jupyter-js-widgets",
      "model_module_version": "~2.1.4",
      "model_name": "ProgressStyleModel",
      "state": {
       "_model_module_version": "~2.1.4",
       "_view_module_version": "~2.1.4"
      }
     },
     "d078ab96f6a74629b3f4969b463f94d2": {
      "model_module": "jupyter-js-widgets",
      "model_module_version": "~2.1.4",
      "model_name": "HTMLModel",
      "state": {
       "_model_module_version": "~2.1.4",
       "_view_module_version": "~2.1.4",
       "layout": "IPY_MODEL_7ef6c3aa999347459ce3cc782e0a6ae4",
       "value": "100% 1/1 [00:09&lt;00:00,  9.91s/it]"
      }
     },
     "d07bedf1e8a141c3a1a1770b27ca37b2": {
      "model_module": "jupyter-js-widgets",
      "model_module_version": "~2.1.4",
      "model_name": "LayoutModel",
      "state": {
       "_model_module_version": "~2.1.4",
       "_view_module_version": "~2.1.4"
      }
     },
     "d0ca0935199246c3b17131e84e1daade": {
      "model_module": "jupyter-js-widgets",
      "model_module_version": "~2.1.4",
      "model_name": "HTMLModel",
      "state": {
       "_model_module_version": "~2.1.4",
       "_view_module_version": "~2.1.4",
       "layout": "IPY_MODEL_25ad21516e4047b481d9315a0b6fe5c2",
       "value": "100% 1/1 [00:10&lt;00:00, 10.85s/it]"
      }
     },
     "d0ec89bb631f4efab22ab451a6231108": {
      "model_module": "jupyter-js-widgets",
      "model_module_version": "~2.1.4",
      "model_name": "ProgressStyleModel",
      "state": {
       "_model_module_version": "~2.1.4",
       "_view_module_version": "~2.1.4"
      }
     },
     "d1b6a256e9d2435fb2ef1b0852c03c73": {
      "model_module": "jupyter-js-widgets",
      "model_module_version": "~2.1.4",
      "model_name": "ProgressStyleModel",
      "state": {
       "_model_module_version": "~2.1.4",
       "_view_module_version": "~2.1.4"
      }
     },
     "d1c9ba2b250c4961be5dd1288eb51475": {
      "model_module": "jupyter-js-widgets",
      "model_module_version": "~2.1.4",
      "model_name": "LayoutModel",
      "state": {
       "_model_module_version": "~2.1.4",
       "_view_module_version": "~2.1.4"
      }
     },
     "d1eb8d0526664f87930963813ca7ce1d": {
      "model_module": "jupyter-js-widgets",
      "model_module_version": "~2.1.4",
      "model_name": "ProgressStyleModel",
      "state": {
       "_model_module_version": "~2.1.4",
       "_view_module_version": "~2.1.4"
      }
     },
     "d26237b38f7d4c16b53ae480de1e1850": {
      "model_module": "jupyter-js-widgets",
      "model_module_version": "~2.1.4",
      "model_name": "ProgressStyleModel",
      "state": {
       "_model_module_version": "~2.1.4",
       "_view_module_version": "~2.1.4"
      }
     },
     "d2b630f998f543f581caf1d7de1768d9": {
      "model_module": "jupyter-js-widgets",
      "model_module_version": "~2.1.4",
      "model_name": "LayoutModel",
      "state": {
       "_model_module_version": "~2.1.4",
       "_view_module_version": "~2.1.4"
      }
     },
     "d4164aa4e2ac46aeb7125b565a49a3fc": {
      "model_module": "jupyter-js-widgets",
      "model_module_version": "~2.1.4",
      "model_name": "ProgressModel",
      "state": {
       "_model_module_version": "~2.1.4",
       "_view_module_version": "~2.1.4",
       "bar_style": "success",
       "layout": "IPY_MODEL_77770949e23e41e29f5955db4885bb5c",
       "max": 1,
       "style": "IPY_MODEL_78b87b0c2cce4087ba33ad9ee661f5e2",
       "value": 1
      }
     },
     "d4881c43614c4d659d7551bd8fd09027": {
      "model_module": "jupyter-js-widgets",
      "model_module_version": "~2.1.4",
      "model_name": "LayoutModel",
      "state": {
       "_model_module_version": "~2.1.4",
       "_view_module_version": "~2.1.4"
      }
     },
     "d5241bfceb064ae18c2ef4f834c626e4": {
      "model_module": "jupyter-js-widgets",
      "model_module_version": "~2.1.4",
      "model_name": "LayoutModel",
      "state": {
       "_model_module_version": "~2.1.4",
       "_view_module_version": "~2.1.4"
      }
     },
     "d5fe1551f91d431ab379e650eb3ea377": {
      "model_module": "jupyter-js-widgets",
      "model_module_version": "~2.1.4",
      "model_name": "LayoutModel",
      "state": {
       "_model_module_version": "~2.1.4",
       "_view_module_version": "~2.1.4"
      }
     },
     "d66df04a56504dd691189eb6c6164d8e": {
      "model_module": "jupyter-js-widgets",
      "model_module_version": "~2.1.4",
      "model_name": "LayoutModel",
      "state": {
       "_model_module_version": "~2.1.4",
       "_view_module_version": "~2.1.4"
      }
     },
     "d741c50c35174156941d2e8dfb0f4043": {
      "model_module": "jupyter-js-widgets",
      "model_module_version": "~2.1.4",
      "model_name": "LayoutModel",
      "state": {
       "_model_module_version": "~2.1.4",
       "_view_module_version": "~2.1.4"
      }
     },
     "d7c329cae7bc43789a9e40b52f65d3c7": {
      "model_module": "jupyter-js-widgets",
      "model_module_version": "~2.1.4",
      "model_name": "HBoxModel",
      "state": {
       "_model_module_version": "~2.1.4",
       "_view_module_version": "~2.1.4",
       "children": [
        "IPY_MODEL_da0d84363e804331bd507fedd1d62d89",
        "IPY_MODEL_0043c69f098744f79fd08c870316561e"
       ],
       "layout": "IPY_MODEL_887a8600a69a48d396accc8afd5219c3"
      }
     },
     "d7e69034b0b7456392936a86fcd779d1": {
      "model_module": "jupyter-js-widgets",
      "model_module_version": "~2.1.4",
      "model_name": "HTMLModel",
      "state": {
       "_model_module_version": "~2.1.4",
       "_view_module_version": "~2.1.4",
       "layout": "IPY_MODEL_63e1c9260bb249139efa0913fb580f7e",
       "value": "100% 1/1 [00:09&lt;00:00,  9.80s/it]"
      }
     },
     "d7f9afde26804e97b350b155b9a596c7": {
      "model_module": "jupyter-js-widgets",
      "model_module_version": "~2.1.4",
      "model_name": "ProgressModel",
      "state": {
       "_model_module_version": "~2.1.4",
       "_view_module_version": "~2.1.4",
       "bar_style": "success",
       "layout": "IPY_MODEL_5237fdde27d241389be8cb6f2d56c618",
       "max": 1,
       "style": "IPY_MODEL_1e17dd844de8484b8524f4cfde7498d8",
       "value": 1
      }
     },
     "d83df1105310412e8b5fac141a0be53b": {
      "model_module": "jupyter-js-widgets",
      "model_module_version": "~2.1.4",
      "model_name": "LayoutModel",
      "state": {
       "_model_module_version": "~2.1.4",
       "_view_module_version": "~2.1.4"
      }
     },
     "d84cc12b98f9431a8c481aeab1444de5": {
      "model_module": "jupyter-js-widgets",
      "model_module_version": "~2.1.4",
      "model_name": "HTMLModel",
      "state": {
       "_model_module_version": "~2.1.4",
       "_view_module_version": "~2.1.4",
       "layout": "IPY_MODEL_b9b14b01629e4f5a83e2ec32976d7054",
       "value": "100% 1/1 [00:10&lt;00:00, 10.30s/it]"
      }
     },
     "d87f298d24f14a7da73f5ccc36a5ed97": {
      "model_module": "jupyter-js-widgets",
      "model_module_version": "~2.1.4",
      "model_name": "HBoxModel",
      "state": {
       "_model_module_version": "~2.1.4",
       "_view_module_version": "~2.1.4",
       "children": [
        "IPY_MODEL_f85c57027eed4d2cb2c6e8a5bae19f31",
        "IPY_MODEL_c1df12fb720d42c58c0cec9a06daa59e"
       ],
       "layout": "IPY_MODEL_66b9a30dd1654ea98f40a86b6c437e60"
      }
     },
     "d8a60e7ae5de435e8ba0bf1de1528c2d": {
      "model_module": "jupyter-js-widgets",
      "model_module_version": "~2.1.4",
      "model_name": "ProgressStyleModel",
      "state": {
       "_model_module_version": "~2.1.4",
       "_view_module_version": "~2.1.4"
      }
     },
     "da0d84363e804331bd507fedd1d62d89": {
      "model_module": "jupyter-js-widgets",
      "model_module_version": "~2.1.4",
      "model_name": "ProgressModel",
      "state": {
       "_model_module_version": "~2.1.4",
       "_view_module_version": "~2.1.4",
       "bar_style": "success",
       "layout": "IPY_MODEL_aa344441ae8f4abc9161b2626514dcb7",
       "max": 1,
       "style": "IPY_MODEL_0d2b5746b86a423e856d9915ab9f38eb",
       "value": 1
      }
     },
     "da2d3820f8de44449a6bec51ef5dea84": {
      "model_module": "jupyter-js-widgets",
      "model_module_version": "~2.1.4",
      "model_name": "LayoutModel",
      "state": {
       "_model_module_version": "~2.1.4",
       "_view_module_version": "~2.1.4"
      }
     },
     "da306f9e64054d1a8a68569c895e51ce": {
      "model_module": "jupyter-js-widgets",
      "model_module_version": "~2.1.4",
      "model_name": "ProgressStyleModel",
      "state": {
       "_model_module_version": "~2.1.4",
       "_view_module_version": "~2.1.4"
      }
     },
     "daf85755ffd242b5acee7cb403198f20": {
      "model_module": "jupyter-js-widgets",
      "model_module_version": "~2.1.4",
      "model_name": "HBoxModel",
      "state": {
       "_model_module_version": "~2.1.4",
       "_view_module_version": "~2.1.4",
       "children": [
        "IPY_MODEL_aaf74735befa48468be277f6842db4f3",
        "IPY_MODEL_8c87463b1fcd44d38dd1f9c90060e003"
       ],
       "layout": "IPY_MODEL_1ee6adcaadb441788de1fe8bdc43d2d1"
      }
     },
     "dbdf825309c54b9e8890515dd6fd4b57": {
      "model_module": "jupyter-js-widgets",
      "model_module_version": "~2.1.4",
      "model_name": "HTMLModel",
      "state": {
       "_model_module_version": "~2.1.4",
       "_view_module_version": "~2.1.4",
       "layout": "IPY_MODEL_6cbb568498fe473e90c8fdcf8288c2ad",
       "value": "100% 1/1 [00:09&lt;00:00,  9.88s/it]"
      }
     },
     "dddf975ad981443ba103611aa70af7b0": {
      "model_module": "jupyter-js-widgets",
      "model_module_version": "~2.1.4",
      "model_name": "LayoutModel",
      "state": {
       "_model_module_version": "~2.1.4",
       "_view_module_version": "~2.1.4"
      }
     },
     "de0a3e3b6ab34d1b8131d8840a5d1448": {
      "model_module": "jupyter-js-widgets",
      "model_module_version": "~2.1.4",
      "model_name": "LayoutModel",
      "state": {
       "_model_module_version": "~2.1.4",
       "_view_module_version": "~2.1.4"
      }
     },
     "de457a94d6084681a8ab41481c3e9666": {
      "model_module": "jupyter-js-widgets",
      "model_module_version": "~2.1.4",
      "model_name": "HBoxModel",
      "state": {
       "_model_module_version": "~2.1.4",
       "_view_module_version": "~2.1.4",
       "children": [
        "IPY_MODEL_48d5a7bc85be41e38a3ea14423cdd061",
        "IPY_MODEL_9db00ef77fce4d8cbfc17261b09d7560"
       ],
       "layout": "IPY_MODEL_a7aa934a4d0747deb9f05b0569e7bab1"
      }
     },
     "de56b3c17b5d453999670dfb64253268": {
      "model_module": "jupyter-js-widgets",
      "model_module_version": "~2.1.4",
      "model_name": "ProgressModel",
      "state": {
       "_model_module_version": "~2.1.4",
       "_view_module_version": "~2.1.4",
       "bar_style": "danger",
       "layout": "IPY_MODEL_e8d6fda573d7449cbaa68754457ef71e",
       "max": 80,
       "style": "IPY_MODEL_782bc4f41a624b97ac8ae20b57421a2f",
       "value": 61
      }
     },
     "df8ee12ff6004d4e9be409ddb2ddb798": {
      "model_module": "jupyter-js-widgets",
      "model_module_version": "~2.1.4",
      "model_name": "HTMLModel",
      "state": {
       "_model_module_version": "~2.1.4",
       "_view_module_version": "~2.1.4",
       "layout": "IPY_MODEL_2ac04671dcbf4716b8c538bc9acd095d",
       "value": "100% 1/1 [00:09&lt;00:00,  9.87s/it]"
      }
     },
     "dfc4d96b7bb74a1ba42e545cc98c247a": {
      "model_module": "jupyter-js-widgets",
      "model_module_version": "~2.1.4",
      "model_name": "LayoutModel",
      "state": {
       "_model_module_version": "~2.1.4",
       "_view_module_version": "~2.1.4"
      }
     },
     "e1996cfc76be4362bfb8ac7ee7ef0869": {
      "model_module": "jupyter-js-widgets",
      "model_module_version": "~2.1.4",
      "model_name": "LayoutModel",
      "state": {
       "_model_module_version": "~2.1.4",
       "_view_module_version": "~2.1.4"
      }
     },
     "e27e9c56ae7a486082f113a9f2d443ee": {
      "model_module": "jupyter-js-widgets",
      "model_module_version": "~2.1.4",
      "model_name": "HBoxModel",
      "state": {
       "_model_module_version": "~2.1.4",
       "_view_module_version": "~2.1.4",
       "children": [
        "IPY_MODEL_cf20ff9ebbff485bae3a0b6136666c42",
        "IPY_MODEL_836f312ccfa64f24bbae607c52692f19"
       ],
       "layout": "IPY_MODEL_4c8f560e017a43f4890377959e31faf7"
      }
     },
     "e323b23ac7564a66866b92b194fe739a": {
      "model_module": "jupyter-js-widgets",
      "model_module_version": "~2.1.4",
      "model_name": "HBoxModel",
      "state": {
       "_model_module_version": "~2.1.4",
       "_view_module_version": "~2.1.4",
       "children": [
        "IPY_MODEL_36a21646873d4d729ae9b6f1dbd238ea",
        "IPY_MODEL_487fe9ec42b74571a917dc0dd391858d"
       ],
       "layout": "IPY_MODEL_cc9cd7560887461b86b74e01e3b03a9c"
      }
     },
     "e348437155654754998adea652b5768b": {
      "model_module": "jupyter-js-widgets",
      "model_module_version": "~2.1.4",
      "model_name": "HBoxModel",
      "state": {
       "_model_module_version": "~2.1.4",
       "_view_module_version": "~2.1.4",
       "children": [
        "IPY_MODEL_3da8c9c131f2401297f5680256a3a073",
        "IPY_MODEL_5b13ab8673cf4fbeb867050e33bb0d15"
       ],
       "layout": "IPY_MODEL_d2b630f998f543f581caf1d7de1768d9"
      }
     },
     "e54f38cae21c407a876362e3fa6d760a": {
      "model_module": "jupyter-js-widgets",
      "model_module_version": "~2.1.4",
      "model_name": "ProgressModel",
      "state": {
       "_model_module_version": "~2.1.4",
       "_view_module_version": "~2.1.4",
       "bar_style": "success",
       "layout": "IPY_MODEL_f20fb19de7874888814e4710fcaeb3ee",
       "max": 1,
       "style": "IPY_MODEL_f8db2564bc74491e84c3deee7986d795",
       "value": 1
      }
     },
     "e64080c18e6240cab6743150e1eac4a2": {
      "model_module": "jupyter-js-widgets",
      "model_module_version": "~2.1.4",
      "model_name": "LayoutModel",
      "state": {
       "_model_module_version": "~2.1.4",
       "_view_module_version": "~2.1.4"
      }
     },
     "e7a390520b7c48289c994bffba154ad8": {
      "model_module": "jupyter-js-widgets",
      "model_module_version": "~2.1.4",
      "model_name": "ProgressStyleModel",
      "state": {
       "_model_module_version": "~2.1.4",
       "_view_module_version": "~2.1.4"
      }
     },
     "e7f2c10bc4a240c0a54b879a91af863c": {
      "model_module": "jupyter-js-widgets",
      "model_module_version": "~2.1.4",
      "model_name": "LayoutModel",
      "state": {
       "_model_module_version": "~2.1.4",
       "_view_module_version": "~2.1.4"
      }
     },
     "e81985c19cf34d1f9cde214a253b79c6": {
      "model_module": "jupyter-js-widgets",
      "model_module_version": "~2.1.4",
      "model_name": "HBoxModel",
      "state": {
       "_model_module_version": "~2.1.4",
       "_view_module_version": "~2.1.4",
       "children": [
        "IPY_MODEL_a5ddc5004b664c7faa13c0a0f105cce0",
        "IPY_MODEL_9f8714d978e747ff9f07c6bf3a9da085"
       ],
       "layout": "IPY_MODEL_ac37aff8de83466a874d658b0f3e5dfd"
      }
     },
     "e8d6fda573d7449cbaa68754457ef71e": {
      "model_module": "jupyter-js-widgets",
      "model_module_version": "~2.1.4",
      "model_name": "LayoutModel",
      "state": {
       "_model_module_version": "~2.1.4",
       "_view_module_version": "~2.1.4"
      }
     },
     "e92b368d547f42589a2251edec3d0e3f": {
      "model_module": "jupyter-js-widgets",
      "model_module_version": "~2.1.4",
      "model_name": "LayoutModel",
      "state": {
       "_model_module_version": "~2.1.4",
       "_view_module_version": "~2.1.4"
      }
     },
     "e9a8730551f640988eaba5e54cffeaa7": {
      "model_module": "jupyter-js-widgets",
      "model_module_version": "~2.1.4",
      "model_name": "LayoutModel",
      "state": {
       "_model_module_version": "~2.1.4",
       "_view_module_version": "~2.1.4"
      }
     },
     "eb132e1e5692446eb5bcfbc08161508f": {
      "model_module": "jupyter-js-widgets",
      "model_module_version": "~2.1.4",
      "model_name": "HTMLModel",
      "state": {
       "_model_module_version": "~2.1.4",
       "_view_module_version": "~2.1.4",
       "layout": "IPY_MODEL_e1996cfc76be4362bfb8ac7ee7ef0869",
       "value": "100% 1/1 [00:10&lt;00:00, 10.28s/it]"
      }
     },
     "eb42153e4e9a4f618fee237eda0f9760": {
      "model_module": "jupyter-js-widgets",
      "model_module_version": "~2.1.4",
      "model_name": "LayoutModel",
      "state": {
       "_model_module_version": "~2.1.4",
       "_view_module_version": "~2.1.4"
      }
     },
     "eb931f7735854462a37a3866c537996a": {
      "model_module": "jupyter-js-widgets",
      "model_module_version": "~2.1.4",
      "model_name": "HTMLModel",
      "state": {
       "_model_module_version": "~2.1.4",
       "_view_module_version": "~2.1.4",
       "layout": "IPY_MODEL_00340058229747d7be2c8f7bbc56c15c",
       "value": "100% 1/1 [00:10&lt;00:00, 10.05s/it]"
      }
     },
     "ebc47fd78fd94fd28382d3bd722eea63": {
      "model_module": "jupyter-js-widgets",
      "model_module_version": "~2.1.4",
      "model_name": "LayoutModel",
      "state": {
       "_model_module_version": "~2.1.4",
       "_view_module_version": "~2.1.4"
      }
     },
     "ebc7ebbc95dd4af39989e02ca815db06": {
      "model_module": "jupyter-js-widgets",
      "model_module_version": "~2.1.4",
      "model_name": "HBoxModel",
      "state": {
       "_model_module_version": "~2.1.4",
       "_view_module_version": "~2.1.4",
       "children": [
        "IPY_MODEL_805285e2fcab4d138feec7d628d869dc",
        "IPY_MODEL_657f4dbfb76043b185e9db0ceea78fd6"
       ],
       "layout": "IPY_MODEL_e64080c18e6240cab6743150e1eac4a2"
      }
     },
     "ed0a56582e074f8fbaa5ee95ac6eaaef": {
      "model_module": "jupyter-js-widgets",
      "model_module_version": "~2.1.4",
      "model_name": "HTMLModel",
      "state": {
       "_model_module_version": "~2.1.4",
       "_view_module_version": "~2.1.4",
       "layout": "IPY_MODEL_8a64f6aac89d4cf588b870c53862345f",
       "value": "100% 1/1 [00:09&lt;00:00,  9.88s/it]"
      }
     },
     "ed495466639a46d6a97c14dc46d3d69e": {
      "model_module": "jupyter-js-widgets",
      "model_module_version": "~2.1.4",
      "model_name": "HBoxModel",
      "state": {
       "_model_module_version": "~2.1.4",
       "_view_module_version": "~2.1.4",
       "children": [
        "IPY_MODEL_06835dac61e44e93b1f5e8181a948690",
        "IPY_MODEL_b583e6de6388471a8ed49889093dc27e"
       ],
       "layout": "IPY_MODEL_aa7451093a8e4623a14110e804a1680c"
      }
     },
     "edd50031c9f647a5810b21431970c2ed": {
      "model_module": "jupyter-js-widgets",
      "model_module_version": "~2.1.4",
      "model_name": "LayoutModel",
      "state": {
       "_model_module_version": "~2.1.4",
       "_view_module_version": "~2.1.4"
      }
     },
     "ee7e3c94ef694fd59b987132d48e649e": {
      "model_module": "jupyter-js-widgets",
      "model_module_version": "~2.1.4",
      "model_name": "LayoutModel",
      "state": {
       "_model_module_version": "~2.1.4",
       "_view_module_version": "~2.1.4"
      }
     },
     "f04a2121185b4f018c073fa788c17339": {
      "model_module": "jupyter-js-widgets",
      "model_module_version": "~2.1.4",
      "model_name": "ProgressModel",
      "state": {
       "_model_module_version": "~2.1.4",
       "_view_module_version": "~2.1.4",
       "bar_style": "success",
       "layout": "IPY_MODEL_d4881c43614c4d659d7551bd8fd09027",
       "max": 1,
       "style": "IPY_MODEL_da306f9e64054d1a8a68569c895e51ce",
       "value": 1
      }
     },
     "f08a507ac3734d63b70fdb6b12e7ac71": {
      "model_module": "jupyter-js-widgets",
      "model_module_version": "~2.1.4",
      "model_name": "LayoutModel",
      "state": {
       "_model_module_version": "~2.1.4",
       "_view_module_version": "~2.1.4"
      }
     },
     "f0936cc0750c4df1872274adbd1f7b57": {
      "model_module": "jupyter-js-widgets",
      "model_module_version": "~2.1.4",
      "model_name": "LayoutModel",
      "state": {
       "_model_module_version": "~2.1.4",
       "_view_module_version": "~2.1.4"
      }
     },
     "f0a4bcb50d9a4f2892cd0b300f555e41": {
      "model_module": "jupyter-js-widgets",
      "model_module_version": "~2.1.4",
      "model_name": "LayoutModel",
      "state": {
       "_model_module_version": "~2.1.4",
       "_view_module_version": "~2.1.4"
      }
     },
     "f16a8efdaf46461eaa171c770ab1cdda": {
      "model_module": "jupyter-js-widgets",
      "model_module_version": "~2.1.4",
      "model_name": "ProgressStyleModel",
      "state": {
       "_model_module_version": "~2.1.4",
       "_view_module_version": "~2.1.4"
      }
     },
     "f16ab3c510d642d385d146b73deb15af": {
      "model_module": "jupyter-js-widgets",
      "model_module_version": "~2.1.4",
      "model_name": "ProgressModel",
      "state": {
       "_model_module_version": "~2.1.4",
       "_view_module_version": "~2.1.4",
       "bar_style": "success",
       "layout": "IPY_MODEL_0832f009e18a44e2aae0c20d5a289554",
       "max": 1,
       "style": "IPY_MODEL_59fe6198a1a94dbbad798bdf20963df7",
       "value": 1
      }
     },
     "f1b522b68acd4383845f0761c87d876e": {
      "model_module": "jupyter-js-widgets",
      "model_module_version": "~2.1.4",
      "model_name": "LayoutModel",
      "state": {
       "_model_module_version": "~2.1.4",
       "_view_module_version": "~2.1.4"
      }
     },
     "f20fb19de7874888814e4710fcaeb3ee": {
      "model_module": "jupyter-js-widgets",
      "model_module_version": "~2.1.4",
      "model_name": "LayoutModel",
      "state": {
       "_model_module_version": "~2.1.4",
       "_view_module_version": "~2.1.4"
      }
     },
     "f275be8d00fd4d07b4a938e72fbc0d9f": {
      "model_module": "jupyter-js-widgets",
      "model_module_version": "~2.1.4",
      "model_name": "HTMLModel",
      "state": {
       "_model_module_version": "~2.1.4",
       "_view_module_version": "~2.1.4",
       "layout": "IPY_MODEL_98b5b756a5c4497f9fbda47be700e1fe",
       "value": "100% 1/1 [00:10&lt;00:00, 10.29s/it]"
      }
     },
     "f2c03ac6c1634d2888889e50b850aba3": {
      "model_module": "jupyter-js-widgets",
      "model_module_version": "~2.1.4",
      "model_name": "LayoutModel",
      "state": {
       "_model_module_version": "~2.1.4",
       "_view_module_version": "~2.1.4"
      }
     },
     "f370c6b98ec84d97ad29da01cae76f58": {
      "model_module": "jupyter-js-widgets",
      "model_module_version": "~2.1.4",
      "model_name": "LayoutModel",
      "state": {
       "_model_module_version": "~2.1.4",
       "_view_module_version": "~2.1.4"
      }
     },
     "f3f05bc9421645bb92b4aa8ba37cd063": {
      "model_module": "jupyter-js-widgets",
      "model_module_version": "~2.1.4",
      "model_name": "LayoutModel",
      "state": {
       "_model_module_version": "~2.1.4",
       "_view_module_version": "~2.1.4"
      }
     },
     "f58f1812381840a1a978a372b391fdc5": {
      "model_module": "jupyter-js-widgets",
      "model_module_version": "~2.1.4",
      "model_name": "HTMLModel",
      "state": {
       "_model_module_version": "~2.1.4",
       "_view_module_version": "~2.1.4",
       "layout": "IPY_MODEL_10a1e4f7e57c4f289a5d4efcb98b7e2f",
       "value": "100% 1/1 [00:09&lt;00:00,  9.90s/it]"
      }
     },
     "f59cde3cb08748b7bb5b960f1c781f92": {
      "model_module": "jupyter-js-widgets",
      "model_module_version": "~2.1.4",
      "model_name": "HBoxModel",
      "state": {
       "_model_module_version": "~2.1.4",
       "_view_module_version": "~2.1.4",
       "children": [
        "IPY_MODEL_f16ab3c510d642d385d146b73deb15af",
        "IPY_MODEL_869c3c73b07b47b9af0a1889bcf88b80"
       ],
       "layout": "IPY_MODEL_f9b5e2b2e7d44c0db59f10b32e1c8fd6"
      }
     },
     "f5c76fc2e4424f3cb86476bfa6317762": {
      "model_module": "jupyter-js-widgets",
      "model_module_version": "~2.1.4",
      "model_name": "ProgressModel",
      "state": {
       "_model_module_version": "~2.1.4",
       "_view_module_version": "~2.1.4",
       "bar_style": "success",
       "layout": "IPY_MODEL_696777d5d14d4dbd96e3e6b94b7a6449",
       "max": 1,
       "style": "IPY_MODEL_403c6672a72b4db7bff925076c3cfc44",
       "value": 1
      }
     },
     "f654c4ffc8f145b6976f74019d1e9c1d": {
      "model_module": "jupyter-js-widgets",
      "model_module_version": "~2.1.4",
      "model_name": "LayoutModel",
      "state": {
       "_model_module_version": "~2.1.4",
       "_view_module_version": "~2.1.4"
      }
     },
     "f6c8ff909354446ca7c9a0134136ca87": {
      "model_module": "jupyter-js-widgets",
      "model_module_version": "~2.1.4",
      "model_name": "HTMLModel",
      "state": {
       "_model_module_version": "~2.1.4",
       "_view_module_version": "~2.1.4",
       "layout": "IPY_MODEL_5e2b9c32aee8471e840e70d2ed4b3dcc",
       "value": "100% 1/1 [00:09&lt;00:00,  9.87s/it]"
      }
     },
     "f756613474694b41a7fde51ff3514ada": {
      "model_module": "jupyter-js-widgets",
      "model_module_version": "~2.1.4",
      "model_name": "HBoxModel",
      "state": {
       "_model_module_version": "~2.1.4",
       "_view_module_version": "~2.1.4",
       "children": [
        "IPY_MODEL_574e0344e6b341fc88c286d33a34148b",
        "IPY_MODEL_f275be8d00fd4d07b4a938e72fbc0d9f"
       ],
       "layout": "IPY_MODEL_6169a42682294b09bdaa38d347e6ce35"
      }
     },
     "f7be6631921e480bb6cfdf5de6788d23": {
      "model_module": "jupyter-js-widgets",
      "model_module_version": "~2.1.4",
      "model_name": "LayoutModel",
      "state": {
       "_model_module_version": "~2.1.4",
       "_view_module_version": "~2.1.4"
      }
     },
     "f852f32eef44469f998431f9e1cdb971": {
      "model_module": "jupyter-js-widgets",
      "model_module_version": "~2.1.4",
      "model_name": "LayoutModel",
      "state": {
       "_model_module_version": "~2.1.4",
       "_view_module_version": "~2.1.4"
      }
     },
     "f85bfc9cbec04fc89c45b3d8afa1cd77": {
      "model_module": "jupyter-js-widgets",
      "model_module_version": "~2.1.4",
      "model_name": "LayoutModel",
      "state": {
       "_model_module_version": "~2.1.4",
       "_view_module_version": "~2.1.4"
      }
     },
     "f85c57027eed4d2cb2c6e8a5bae19f31": {
      "model_module": "jupyter-js-widgets",
      "model_module_version": "~2.1.4",
      "model_name": "ProgressModel",
      "state": {
       "_model_module_version": "~2.1.4",
       "_view_module_version": "~2.1.4",
       "bar_style": "success",
       "layout": "IPY_MODEL_f7be6631921e480bb6cfdf5de6788d23",
       "max": 1,
       "style": "IPY_MODEL_a04446d121624ddea50521e2728e3811",
       "value": 1
      }
     },
     "f8b1a297106345d78b35c823d65ff067": {
      "model_module": "jupyter-js-widgets",
      "model_module_version": "~2.1.4",
      "model_name": "ProgressStyleModel",
      "state": {
       "_model_module_version": "~2.1.4",
       "_view_module_version": "~2.1.4"
      }
     },
     "f8db2564bc74491e84c3deee7986d795": {
      "model_module": "jupyter-js-widgets",
      "model_module_version": "~2.1.4",
      "model_name": "ProgressStyleModel",
      "state": {
       "_model_module_version": "~2.1.4",
       "_view_module_version": "~2.1.4"
      }
     },
     "f9b5e2b2e7d44c0db59f10b32e1c8fd6": {
      "model_module": "jupyter-js-widgets",
      "model_module_version": "~2.1.4",
      "model_name": "LayoutModel",
      "state": {
       "_model_module_version": "~2.1.4",
       "_view_module_version": "~2.1.4"
      }
     },
     "f9c6d53c4a144fd3b9d94337fb7902b1": {
      "model_module": "jupyter-js-widgets",
      "model_module_version": "~2.1.4",
      "model_name": "ProgressModel",
      "state": {
       "_model_module_version": "~2.1.4",
       "_view_module_version": "~2.1.4",
       "bar_style": "success",
       "layout": "IPY_MODEL_c7cd9f93399a4ccd8292f131fd33e749",
       "max": 1,
       "style": "IPY_MODEL_31a79da9a3b44d97ab2afa21d5a42941",
       "value": 1
      }
     },
     "fb801b21ae59468786b34966f99bf5e6": {
      "model_module": "jupyter-js-widgets",
      "model_module_version": "~2.1.4",
      "model_name": "LayoutModel",
      "state": {
       "_model_module_version": "~2.1.4",
       "_view_module_version": "~2.1.4"
      }
     },
     "fd263c14fb13490ebb78d9bd0e55f133": {
      "model_module": "jupyter-js-widgets",
      "model_module_version": "~2.1.4",
      "model_name": "LayoutModel",
      "state": {
       "_model_module_version": "~2.1.4",
       "_view_module_version": "~2.1.4"
      }
     },
     "fd9387fe6a0c4ceaa1924d9cf926f40e": {
      "model_module": "jupyter-js-widgets",
      "model_module_version": "~2.1.4",
      "model_name": "ProgressStyleModel",
      "state": {
       "_model_module_version": "~2.1.4",
       "_view_module_version": "~2.1.4"
      }
     },
     "fde923f951fb4030b04410602e94094f": {
      "model_module": "jupyter-js-widgets",
      "model_module_version": "~2.1.4",
      "model_name": "LayoutModel",
      "state": {
       "_model_module_version": "~2.1.4",
       "_view_module_version": "~2.1.4"
      }
     },
     "fe462d5e872846008583a47a6e66e180": {
      "model_module": "jupyter-js-widgets",
      "model_module_version": "~2.1.4",
      "model_name": "HBoxModel",
      "state": {
       "_model_module_version": "~2.1.4",
       "_view_module_version": "~2.1.4",
       "children": [
        "IPY_MODEL_14c5061d80b149d58474f146d6f30f30",
        "IPY_MODEL_4ea67cc5b5a6453788bab481d2114d7f"
       ],
       "layout": "IPY_MODEL_5e8bff8625e048c4af0833648b1d1e52"
      }
     },
     "ff8b47444c194116b7e690040697e262": {
      "model_module": "jupyter-js-widgets",
      "model_module_version": "~2.1.4",
      "model_name": "HTMLModel",
      "state": {
       "_model_module_version": "~2.1.4",
       "_view_module_version": "~2.1.4",
       "layout": "IPY_MODEL_4a42e03484904a91ae7833595cd1f65b",
       "value": "100% 1/1 [00:10&lt;00:00, 10.00s/it]"
      }
     },
     "ff9a9351108f4df899d191be96903693": {
      "model_module": "jupyter-js-widgets",
      "model_module_version": "~2.1.4",
      "model_name": "HBoxModel",
      "state": {
       "_model_module_version": "~2.1.4",
       "_view_module_version": "~2.1.4",
       "children": [
        "IPY_MODEL_420c11fbcb3b43459aa0b3c2dfa50165",
        "IPY_MODEL_cebd02d4f0744e91ae54b2bfb2504c19"
       ],
       "layout": "IPY_MODEL_fde923f951fb4030b04410602e94094f"
      }
     },
     "ff9d1ddb1f634bd0966ca512f38edeb8": {
      "model_module": "jupyter-js-widgets",
      "model_module_version": "~2.1.4",
      "model_name": "HBoxModel",
      "state": {
       "_model_module_version": "~2.1.4",
       "_view_module_version": "~2.1.4",
       "children": [
        "IPY_MODEL_cdd71925bef34f65abd10a37df0fb5ba",
        "IPY_MODEL_85bd5b2d5e82475199172479ef2fb2b3"
       ],
       "layout": "IPY_MODEL_f852f32eef44469f998431f9e1cdb971"
      }
     },
     "ffcbb8ff6b3041538ba0554842a149a7": {
      "model_module": "jupyter-js-widgets",
      "model_module_version": "~2.1.4",
      "model_name": "HTMLModel",
      "state": {
       "_model_module_version": "~2.1.4",
       "_view_module_version": "~2.1.4",
       "layout": "IPY_MODEL_de0a3e3b6ab34d1b8131d8840a5d1448",
       "value": " 76% 61/80 [10:14&lt;03:11, 10.07s/it]"
      }
     }
    },
    "version_major": 1,
    "version_minor": 0
   }
  }
 },
 "nbformat": 4,
 "nbformat_minor": 2
}
