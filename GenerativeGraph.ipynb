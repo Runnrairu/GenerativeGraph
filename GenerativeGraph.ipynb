{
 "cells": [
  {
   "cell_type": "markdown",
   "metadata": {},
   "source": [
    "# Learning Deep Generative Models of Graph\n",
    "    This notebook is implemantion for Pytorch.\n",
    "    You can train dataset with running all below cells in order."
   ]
  },
  {
   "cell_type": "code",
   "execution_count": 1,
   "metadata": {},
   "outputs": [
    {
     "name": "stderr",
     "output_type": "stream",
     "text": [
      "/root/miniconda3/lib/python3.6/site-packages/h5py/__init__.py:36: FutureWarning: Conversion of the second argument of issubdtype from `float` to `np.floating` is deprecated. In future, it will be treated as `np.float64 == np.dtype(float).type`.\n",
      "  from ._conv import register_converters as _register_converters\n"
     ]
    },
    {
     "data": {
      "text/html": [
       "\n",
       "    <div class=\"bk-root\">\n",
       "        <a href=\"https://bokeh.pydata.org\" target=\"_blank\" class=\"bk-logo bk-logo-small bk-logo-notebook\"></a>\n",
       "        <span id=\"a2cc1727-7ddc-4e4d-8a6e-5d1635b10fd2\">Loading BokehJS ...</span>\n",
       "    </div>"
      ]
     },
     "metadata": {},
     "output_type": "display_data"
    },
    {
     "data": {
      "application/javascript": [
       "\n",
       "(function(root) {\n",
       "  function now() {\n",
       "    return new Date();\n",
       "  }\n",
       "\n",
       "  var force = true;\n",
       "\n",
       "  if (typeof (root._bokeh_onload_callbacks) === \"undefined\" || force === true) {\n",
       "    root._bokeh_onload_callbacks = [];\n",
       "    root._bokeh_is_loading = undefined;\n",
       "  }\n",
       "\n",
       "  var JS_MIME_TYPE = 'application/javascript';\n",
       "  var HTML_MIME_TYPE = 'text/html';\n",
       "  var EXEC_MIME_TYPE = 'application/vnd.bokehjs_exec.v0+json';\n",
       "  var CLASS_NAME = 'output_bokeh rendered_html';\n",
       "\n",
       "  /**\n",
       "   * Render data to the DOM node\n",
       "   */\n",
       "  function render(props, node) {\n",
       "    var script = document.createElement(\"script\");\n",
       "    node.appendChild(script);\n",
       "  }\n",
       "\n",
       "  /**\n",
       "   * Handle when an output is cleared or removed\n",
       "   */\n",
       "  function handleClearOutput(event, handle) {\n",
       "    var cell = handle.cell;\n",
       "\n",
       "    var id = cell.output_area._bokeh_element_id;\n",
       "    var server_id = cell.output_area._bokeh_server_id;\n",
       "    // Clean up Bokeh references\n",
       "    if (id !== undefined) {\n",
       "      Bokeh.index[id].model.document.clear();\n",
       "      delete Bokeh.index[id];\n",
       "    }\n",
       "\n",
       "    if (server_id !== undefined) {\n",
       "      // Clean up Bokeh references\n",
       "      var cmd = \"from bokeh.io.state import curstate; print(curstate().uuid_to_server['\" + server_id + \"'].get_sessions()[0].document.roots[0]._id)\";\n",
       "      cell.notebook.kernel.execute(cmd, {\n",
       "        iopub: {\n",
       "          output: function(msg) {\n",
       "            var element_id = msg.content.text.trim();\n",
       "            Bokeh.index[element_id].model.document.clear();\n",
       "            delete Bokeh.index[element_id];\n",
       "          }\n",
       "        }\n",
       "      });\n",
       "      // Destroy server and session\n",
       "      var cmd = \"import bokeh.io.notebook as ion; ion.destroy_server('\" + server_id + \"')\";\n",
       "      cell.notebook.kernel.execute(cmd);\n",
       "    }\n",
       "  }\n",
       "\n",
       "  /**\n",
       "   * Handle when a new output is added\n",
       "   */\n",
       "  function handleAddOutput(event, handle) {\n",
       "    var output_area = handle.output_area;\n",
       "    var output = handle.output;\n",
       "\n",
       "    // limit handleAddOutput to display_data with EXEC_MIME_TYPE content only\n",
       "    if ((output.output_type != \"display_data\") || (!output.data.hasOwnProperty(EXEC_MIME_TYPE))) {\n",
       "      return\n",
       "    }\n",
       "\n",
       "    var toinsert = output_area.element.find(\".\" + CLASS_NAME.split(' ')[0]);\n",
       "\n",
       "    if (output.metadata[EXEC_MIME_TYPE][\"id\"] !== undefined) {\n",
       "      toinsert[toinsert.length - 1].firstChild.textContent = output.data[JS_MIME_TYPE];\n",
       "      // store reference to embed id on output_area\n",
       "      output_area._bokeh_element_id = output.metadata[EXEC_MIME_TYPE][\"id\"];\n",
       "    }\n",
       "    if (output.metadata[EXEC_MIME_TYPE][\"server_id\"] !== undefined) {\n",
       "      var bk_div = document.createElement(\"div\");\n",
       "      bk_div.innerHTML = output.data[HTML_MIME_TYPE];\n",
       "      var script_attrs = bk_div.children[0].attributes;\n",
       "      for (var i = 0; i < script_attrs.length; i++) {\n",
       "        toinsert[toinsert.length - 1].firstChild.setAttribute(script_attrs[i].name, script_attrs[i].value);\n",
       "      }\n",
       "      // store reference to server id on output_area\n",
       "      output_area._bokeh_server_id = output.metadata[EXEC_MIME_TYPE][\"server_id\"];\n",
       "    }\n",
       "  }\n",
       "\n",
       "  function register_renderer(events, OutputArea) {\n",
       "\n",
       "    function append_mime(data, metadata, element) {\n",
       "      // create a DOM node to render to\n",
       "      var toinsert = this.create_output_subarea(\n",
       "        metadata,\n",
       "        CLASS_NAME,\n",
       "        EXEC_MIME_TYPE\n",
       "      );\n",
       "      this.keyboard_manager.register_events(toinsert);\n",
       "      // Render to node\n",
       "      var props = {data: data, metadata: metadata[EXEC_MIME_TYPE]};\n",
       "      render(props, toinsert[toinsert.length - 1]);\n",
       "      element.append(toinsert);\n",
       "      return toinsert\n",
       "    }\n",
       "\n",
       "    /* Handle when an output is cleared or removed */\n",
       "    events.on('clear_output.CodeCell', handleClearOutput);\n",
       "    events.on('delete.Cell', handleClearOutput);\n",
       "\n",
       "    /* Handle when a new output is added */\n",
       "    events.on('output_added.OutputArea', handleAddOutput);\n",
       "\n",
       "    /**\n",
       "     * Register the mime type and append_mime function with output_area\n",
       "     */\n",
       "    OutputArea.prototype.register_mime_type(EXEC_MIME_TYPE, append_mime, {\n",
       "      /* Is output safe? */\n",
       "      safe: true,\n",
       "      /* Index of renderer in `output_area.display_order` */\n",
       "      index: 0\n",
       "    });\n",
       "  }\n",
       "\n",
       "  // register the mime type if in Jupyter Notebook environment and previously unregistered\n",
       "  if (root.Jupyter !== undefined) {\n",
       "    var events = require('base/js/events');\n",
       "    var OutputArea = require('notebook/js/outputarea').OutputArea;\n",
       "\n",
       "    if (OutputArea.prototype.mime_types().indexOf(EXEC_MIME_TYPE) == -1) {\n",
       "      register_renderer(events, OutputArea);\n",
       "    }\n",
       "  }\n",
       "\n",
       "  \n",
       "  if (typeof (root._bokeh_timeout) === \"undefined\" || force === true) {\n",
       "    root._bokeh_timeout = Date.now() + 5000;\n",
       "    root._bokeh_failed_load = false;\n",
       "  }\n",
       "\n",
       "  var NB_LOAD_WARNING = {'data': {'text/html':\n",
       "     \"<div style='background-color: #fdd'>\\n\"+\n",
       "     \"<p>\\n\"+\n",
       "     \"BokehJS does not appear to have successfully loaded. If loading BokehJS from CDN, this \\n\"+\n",
       "     \"may be due to a slow or bad network connection. Possible fixes:\\n\"+\n",
       "     \"</p>\\n\"+\n",
       "     \"<ul>\\n\"+\n",
       "     \"<li>re-rerun `output_notebook()` to attempt to load from CDN again, or</li>\\n\"+\n",
       "     \"<li>use INLINE resources instead, as so:</li>\\n\"+\n",
       "     \"</ul>\\n\"+\n",
       "     \"<code>\\n\"+\n",
       "     \"from bokeh.resources import INLINE\\n\"+\n",
       "     \"output_notebook(resources=INLINE)\\n\"+\n",
       "     \"</code>\\n\"+\n",
       "     \"</div>\"}};\n",
       "\n",
       "  function display_loaded() {\n",
       "    var el = document.getElementById(\"a2cc1727-7ddc-4e4d-8a6e-5d1635b10fd2\");\n",
       "    if (el != null) {\n",
       "      el.textContent = \"BokehJS is loading...\";\n",
       "    }\n",
       "    if (root.Bokeh !== undefined) {\n",
       "      if (el != null) {\n",
       "        el.textContent = \"BokehJS \" + root.Bokeh.version + \" successfully loaded.\";\n",
       "      }\n",
       "    } else if (Date.now() < root._bokeh_timeout) {\n",
       "      setTimeout(display_loaded, 100)\n",
       "    }\n",
       "  }\n",
       "\n",
       "\n",
       "  function run_callbacks() {\n",
       "    try {\n",
       "      root._bokeh_onload_callbacks.forEach(function(callback) { callback() });\n",
       "    }\n",
       "    finally {\n",
       "      delete root._bokeh_onload_callbacks\n",
       "    }\n",
       "    console.info(\"Bokeh: all callbacks have finished\");\n",
       "  }\n",
       "\n",
       "  function load_libs(js_urls, callback) {\n",
       "    root._bokeh_onload_callbacks.push(callback);\n",
       "    if (root._bokeh_is_loading > 0) {\n",
       "      console.log(\"Bokeh: BokehJS is being loaded, scheduling callback at\", now());\n",
       "      return null;\n",
       "    }\n",
       "    if (js_urls == null || js_urls.length === 0) {\n",
       "      run_callbacks();\n",
       "      return null;\n",
       "    }\n",
       "    console.log(\"Bokeh: BokehJS not loaded, scheduling load and callback at\", now());\n",
       "    root._bokeh_is_loading = js_urls.length;\n",
       "    for (var i = 0; i < js_urls.length; i++) {\n",
       "      var url = js_urls[i];\n",
       "      var s = document.createElement('script');\n",
       "      s.src = url;\n",
       "      s.async = false;\n",
       "      s.onreadystatechange = s.onload = function() {\n",
       "        root._bokeh_is_loading--;\n",
       "        if (root._bokeh_is_loading === 0) {\n",
       "          console.log(\"Bokeh: all BokehJS libraries loaded\");\n",
       "          run_callbacks()\n",
       "        }\n",
       "      };\n",
       "      s.onerror = function() {\n",
       "        console.warn(\"failed to load library \" + url);\n",
       "      };\n",
       "      console.log(\"Bokeh: injecting script tag for BokehJS library: \", url);\n",
       "      document.getElementsByTagName(\"head\")[0].appendChild(s);\n",
       "    }\n",
       "  };var element = document.getElementById(\"a2cc1727-7ddc-4e4d-8a6e-5d1635b10fd2\");\n",
       "  if (element == null) {\n",
       "    console.log(\"Bokeh: ERROR: autoload.js configured with elementid 'a2cc1727-7ddc-4e4d-8a6e-5d1635b10fd2' but no matching script tag was found. \")\n",
       "    return false;\n",
       "  }\n",
       "\n",
       "  var js_urls = [\"https://cdn.pydata.org/bokeh/release/bokeh-0.12.15.min.js\", \"https://cdn.pydata.org/bokeh/release/bokeh-widgets-0.12.15.min.js\", \"https://cdn.pydata.org/bokeh/release/bokeh-tables-0.12.15.min.js\", \"https://cdn.pydata.org/bokeh/release/bokeh-gl-0.12.15.min.js\"];\n",
       "\n",
       "  var inline_js = [\n",
       "    function(Bokeh) {\n",
       "      Bokeh.set_log_level(\"info\");\n",
       "    },\n",
       "    \n",
       "    function(Bokeh) {\n",
       "      \n",
       "    },\n",
       "    function(Bokeh) {\n",
       "      console.log(\"Bokeh: injecting CSS: https://cdn.pydata.org/bokeh/release/bokeh-0.12.15.min.css\");\n",
       "      Bokeh.embed.inject_css(\"https://cdn.pydata.org/bokeh/release/bokeh-0.12.15.min.css\");\n",
       "      console.log(\"Bokeh: injecting CSS: https://cdn.pydata.org/bokeh/release/bokeh-widgets-0.12.15.min.css\");\n",
       "      Bokeh.embed.inject_css(\"https://cdn.pydata.org/bokeh/release/bokeh-widgets-0.12.15.min.css\");\n",
       "      console.log(\"Bokeh: injecting CSS: https://cdn.pydata.org/bokeh/release/bokeh-tables-0.12.15.min.css\");\n",
       "      Bokeh.embed.inject_css(\"https://cdn.pydata.org/bokeh/release/bokeh-tables-0.12.15.min.css\");\n",
       "    }\n",
       "  ];\n",
       "\n",
       "  function run_inline_js() {\n",
       "    \n",
       "    if ((root.Bokeh !== undefined) || (force === true)) {\n",
       "      for (var i = 0; i < inline_js.length; i++) {\n",
       "        inline_js[i].call(root, root.Bokeh);\n",
       "      }if (force === true) {\n",
       "        display_loaded();\n",
       "      }} else if (Date.now() < root._bokeh_timeout) {\n",
       "      setTimeout(run_inline_js, 100);\n",
       "    } else if (!root._bokeh_failed_load) {\n",
       "      console.log(\"Bokeh: BokehJS failed to load within specified timeout.\");\n",
       "      root._bokeh_failed_load = true;\n",
       "    } else if (force !== true) {\n",
       "      var cell = $(document.getElementById(\"a2cc1727-7ddc-4e4d-8a6e-5d1635b10fd2\")).parents('.cell').data().cell;\n",
       "      cell.output_area.append_execute_result(NB_LOAD_WARNING)\n",
       "    }\n",
       "\n",
       "  }\n",
       "\n",
       "  if (root._bokeh_is_loading === 0) {\n",
       "    console.log(\"Bokeh: BokehJS loaded, going straight to plotting\");\n",
       "    run_inline_js();\n",
       "  } else {\n",
       "    load_libs(js_urls, function() {\n",
       "      console.log(\"Bokeh: BokehJS plotting callback run at\", now());\n",
       "      run_inline_js();\n",
       "    });\n",
       "  }\n",
       "}(window));"
      ],
      "application/vnd.bokehjs_load.v0+json": "\n(function(root) {\n  function now() {\n    return new Date();\n  }\n\n  var force = true;\n\n  if (typeof (root._bokeh_onload_callbacks) === \"undefined\" || force === true) {\n    root._bokeh_onload_callbacks = [];\n    root._bokeh_is_loading = undefined;\n  }\n\n  \n\n  \n  if (typeof (root._bokeh_timeout) === \"undefined\" || force === true) {\n    root._bokeh_timeout = Date.now() + 5000;\n    root._bokeh_failed_load = false;\n  }\n\n  var NB_LOAD_WARNING = {'data': {'text/html':\n     \"<div style='background-color: #fdd'>\\n\"+\n     \"<p>\\n\"+\n     \"BokehJS does not appear to have successfully loaded. If loading BokehJS from CDN, this \\n\"+\n     \"may be due to a slow or bad network connection. Possible fixes:\\n\"+\n     \"</p>\\n\"+\n     \"<ul>\\n\"+\n     \"<li>re-rerun `output_notebook()` to attempt to load from CDN again, or</li>\\n\"+\n     \"<li>use INLINE resources instead, as so:</li>\\n\"+\n     \"</ul>\\n\"+\n     \"<code>\\n\"+\n     \"from bokeh.resources import INLINE\\n\"+\n     \"output_notebook(resources=INLINE)\\n\"+\n     \"</code>\\n\"+\n     \"</div>\"}};\n\n  function display_loaded() {\n    var el = document.getElementById(\"a2cc1727-7ddc-4e4d-8a6e-5d1635b10fd2\");\n    if (el != null) {\n      el.textContent = \"BokehJS is loading...\";\n    }\n    if (root.Bokeh !== undefined) {\n      if (el != null) {\n        el.textContent = \"BokehJS \" + root.Bokeh.version + \" successfully loaded.\";\n      }\n    } else if (Date.now() < root._bokeh_timeout) {\n      setTimeout(display_loaded, 100)\n    }\n  }\n\n\n  function run_callbacks() {\n    try {\n      root._bokeh_onload_callbacks.forEach(function(callback) { callback() });\n    }\n    finally {\n      delete root._bokeh_onload_callbacks\n    }\n    console.info(\"Bokeh: all callbacks have finished\");\n  }\n\n  function load_libs(js_urls, callback) {\n    root._bokeh_onload_callbacks.push(callback);\n    if (root._bokeh_is_loading > 0) {\n      console.log(\"Bokeh: BokehJS is being loaded, scheduling callback at\", now());\n      return null;\n    }\n    if (js_urls == null || js_urls.length === 0) {\n      run_callbacks();\n      return null;\n    }\n    console.log(\"Bokeh: BokehJS not loaded, scheduling load and callback at\", now());\n    root._bokeh_is_loading = js_urls.length;\n    for (var i = 0; i < js_urls.length; i++) {\n      var url = js_urls[i];\n      var s = document.createElement('script');\n      s.src = url;\n      s.async = false;\n      s.onreadystatechange = s.onload = function() {\n        root._bokeh_is_loading--;\n        if (root._bokeh_is_loading === 0) {\n          console.log(\"Bokeh: all BokehJS libraries loaded\");\n          run_callbacks()\n        }\n      };\n      s.onerror = function() {\n        console.warn(\"failed to load library \" + url);\n      };\n      console.log(\"Bokeh: injecting script tag for BokehJS library: \", url);\n      document.getElementsByTagName(\"head\")[0].appendChild(s);\n    }\n  };var element = document.getElementById(\"a2cc1727-7ddc-4e4d-8a6e-5d1635b10fd2\");\n  if (element == null) {\n    console.log(\"Bokeh: ERROR: autoload.js configured with elementid 'a2cc1727-7ddc-4e4d-8a6e-5d1635b10fd2' but no matching script tag was found. \")\n    return false;\n  }\n\n  var js_urls = [\"https://cdn.pydata.org/bokeh/release/bokeh-0.12.15.min.js\", \"https://cdn.pydata.org/bokeh/release/bokeh-widgets-0.12.15.min.js\", \"https://cdn.pydata.org/bokeh/release/bokeh-tables-0.12.15.min.js\", \"https://cdn.pydata.org/bokeh/release/bokeh-gl-0.12.15.min.js\"];\n\n  var inline_js = [\n    function(Bokeh) {\n      Bokeh.set_log_level(\"info\");\n    },\n    \n    function(Bokeh) {\n      \n    },\n    function(Bokeh) {\n      console.log(\"Bokeh: injecting CSS: https://cdn.pydata.org/bokeh/release/bokeh-0.12.15.min.css\");\n      Bokeh.embed.inject_css(\"https://cdn.pydata.org/bokeh/release/bokeh-0.12.15.min.css\");\n      console.log(\"Bokeh: injecting CSS: https://cdn.pydata.org/bokeh/release/bokeh-widgets-0.12.15.min.css\");\n      Bokeh.embed.inject_css(\"https://cdn.pydata.org/bokeh/release/bokeh-widgets-0.12.15.min.css\");\n      console.log(\"Bokeh: injecting CSS: https://cdn.pydata.org/bokeh/release/bokeh-tables-0.12.15.min.css\");\n      Bokeh.embed.inject_css(\"https://cdn.pydata.org/bokeh/release/bokeh-tables-0.12.15.min.css\");\n    }\n  ];\n\n  function run_inline_js() {\n    \n    if ((root.Bokeh !== undefined) || (force === true)) {\n      for (var i = 0; i < inline_js.length; i++) {\n        inline_js[i].call(root, root.Bokeh);\n      }if (force === true) {\n        display_loaded();\n      }} else if (Date.now() < root._bokeh_timeout) {\n      setTimeout(run_inline_js, 100);\n    } else if (!root._bokeh_failed_load) {\n      console.log(\"Bokeh: BokehJS failed to load within specified timeout.\");\n      root._bokeh_failed_load = true;\n    } else if (force !== true) {\n      var cell = $(document.getElementById(\"a2cc1727-7ddc-4e4d-8a6e-5d1635b10fd2\")).parents('.cell').data().cell;\n      cell.output_area.append_execute_result(NB_LOAD_WARNING)\n    }\n\n  }\n\n  if (root._bokeh_is_loading === 0) {\n    console.log(\"Bokeh: BokehJS loaded, going straight to plotting\");\n    run_inline_js();\n  } else {\n    load_libs(js_urls, function() {\n      console.log(\"Bokeh: BokehJS plotting callback run at\", now());\n      run_inline_js();\n    });\n  }\n}(window));"
     },
     "metadata": {},
     "output_type": "display_data"
    }
   ],
   "source": [
    "from __future__ import print_function\n",
    "from __future__ import division\n",
    "from __future__ import unicode_literals\n",
    "\n",
    "import math\n",
    "\n",
    "import torch\n",
    "from torch import tensor\n",
    "import torch.optim as optim\n",
    "from torch import autograd\n",
    "import torch.utils.data as D\n",
    "from torch.autograd import Variable\n",
    "import torch.nn as nn\n",
    "import torch.nn.functional as F\n",
    "from torch.distributions import Categorical\n",
    "from torch.distributions import Bernoulli\n",
    "\n",
    "import numpy as np\n",
    "import pandas as pd\n",
    "\n",
    "import rdkit\n",
    "from rdkit import Chem\n",
    "\n",
    "import math\n",
    "from tqdm import tqdm_notebook as tqdm\n",
    "from itertools import chain\n",
    "\n",
    "from IPython.display import clear_output\n",
    "from ipywidgets import interact\n",
    "from bokeh.models import ColumnDataSource\n",
    "from bokeh.layouts import column, row\n",
    "from bokeh.io import push_notebook, show, output_notebook\n",
    "from bokeh.plotting import figure\n",
    "\n",
    "import deepchem as dc\n",
    "from deepchem.molnet import load_tox21\n",
    "\n",
    "import h5py\n",
    "import os\n",
    "\n",
    "\n",
    "\n",
    "output_notebook()\n",
    "\n",
    "use_cuda = torch.cuda.is_available()\n",
    "if use_cuda:\n",
    "    torch.set_default_tensor_type('torch.cuda.FloatTensor')\n",
    "torch.manual_seed(123)\n",
    "torch.cuda.manual_seed_all(123)\n",
    "np.random.seed(123)"
   ]
  },
  {
   "cell_type": "code",
   "execution_count": 2,
   "metadata": {
    "scrolled": false
   },
   "outputs": [],
   "source": [
    "class Model(nn.Module):\n",
    "    def __init__(self, feat_size, N_Max_atom, N_Max_bond, N_Max_hand, parts, T):\n",
    "        super(Model, self).__init__()\n",
    "        self.N_Max_atom = N_Max_atom\n",
    "        self.N_Max_bond = N_Max_bond\n",
    "        self.N_Max_hand = N_Max_hand\n",
    "        self.parts = parts\n",
    "        self.T = T\n",
    "        self.feat_size = feat_size\n",
    "        self.E_node = nn.Embedding(1 + len(self.parts[0]), feat_size, padding_idx=0)\n",
    "        self.E_edge = nn.Embedding(len(self.parts[1]), feat_size)\n",
    "        \n",
    "        #f_an\n",
    "        \n",
    "        self.f_e_an = nn.ModuleList([nn.Linear(3*feat_size, 3*feat_size*2) for _ in range(self.T)])\n",
    "        self.f_n_an = nn.ModuleList([nn.GRUCell(3*feat_size*2, feat_size) for _ in range(self.T)])\n",
    "        \n",
    "        self.f_m_an = nn.Linear(feat_size, feat_size*2)\n",
    "        self.g_m_an = nn.Linear(feat_size, 1)\n",
    "        \n",
    "        self.f_an = nn.Linear(feat_size*2, 1+len(self.parts[0]))\n",
    "        \n",
    "        #hv initialize\n",
    "        \n",
    "        self.f_m_init = nn.Linear(feat_size, feat_size*2)\n",
    "        self.g_m_init = nn.Linear(feat_size, 1)\n",
    "        \n",
    "        self.f_init = nn.Linear(feat_size + feat_size*2, feat_size)\n",
    "        \n",
    "        #f_ae\n",
    "        \n",
    "        self.f_e_ae = nn.ModuleList([nn.Linear(3*feat_size, 3*feat_size*2) for _ in range(self.T)])\n",
    "        self.f_n_ae = nn.ModuleList([nn.GRUCell(3*feat_size*2, feat_size) for _ in range(self.T)])\n",
    "        \n",
    "        self.f_m_ae = nn.Linear(feat_size, feat_size*2)\n",
    "        self.g_m_ae = nn.Linear(feat_size, 1)\n",
    "         \n",
    "        self.f_ae = nn.Linear(feat_size*2, 1)\n",
    "        \n",
    "        #f_s\n",
    "        \n",
    "        self.f_e_s = nn.ModuleList([nn.Linear(3*feat_size, 3*feat_size*2) for _ in range(self.T)])\n",
    "        self.f_n_s = nn.ModuleList([nn.GRUCell(3*feat_size*2, feat_size) for _ in range(self.T)])\n",
    "        \n",
    "        self.f_s = nn.Linear(feat_size*2, len(self.parts[1]) )\n",
    "        \n",
    "        #dropout\n",
    "        self.dropout = nn.Dropout(p=0.2)\n",
    "        \n",
    "        \n",
    "    def forward(self):\n",
    "        adj = [[] for _ in range(self.N_Max_atom)]\n",
    "        node = tensor([])\n",
    "        edge = []\n",
    "        y_hat_node = tensor([])\n",
    "        y_hat_add = tensor([])\n",
    "        y_hat_edge = tensor([])\n",
    "        emb_edge = tensor([])\n",
    "\n",
    "        h_V = torch.zeros(1, self.feat_size)\n",
    "        h_G = torch.zeros(1, self.feat_size*2)\n",
    "        p_addnode = F.softmax(self.f_an(self.dropout(h_G)), dim=-1)\n",
    "        \n",
    "        if torch.sum(torch.isnan(p_addnode)) >= 1:\n",
    "                node_type = 0\n",
    "        else:\n",
    "            node_type = Categorical(p_addnode).sample()\n",
    "        \n",
    "        t = 0\n",
    "        while int(node_type) != 0 and t < self.N_Max_atom:\n",
    "            #print(t)\n",
    "            \n",
    "            node = torch.cat((node, node_type.float()), -1)\n",
    "            y_hat_node = torch.cat((y_hat_node, p_addnode), 0)\n",
    "            \n",
    "            \n",
    "            emb_node = self.E_node(node_type.view(-1,1)).view(1,-1)\n",
    "            h_v_new = self.h_v_init(h_V, emb_node, self.f_m_init, self.g_m_init, self.f_init)\n",
    "            \n",
    "            \n",
    "            if t == 0:\n",
    "                h_V = h_v_new\n",
    "            else:\n",
    "                h_V = torch.cat((h_V, h_v_new), 0)\n",
    "\n",
    "                \n",
    "            h_G = self.prop_and_R(h_V, emb_edge, adj, self.f_e_ae, self.f_n_ae, self.f_m_ae, self.g_m_ae)\n",
    "            p_addedge = F.softmax(self.f_ae(self.dropout(h_G)), dim=1)\n",
    "            \n",
    "            \n",
    "            if torch.isnan(p_addedge):\n",
    "                z_t = 0\n",
    "            else:\n",
    "                z_t = Bernoulli(p_addedge).sample()\n",
    "                y_hat_add = torch.cat((y_hat_add, p_addedge.view(1, -1)), 1)\n",
    "            \n",
    "            \n",
    "            emb_edge_sub = tensor([])\n",
    "            emb_edge_candi = tensor([650])\n",
    "            i = 0\n",
    "            \n",
    "            \n",
    "            while int(z_t) == 1 and len(emb_edge_sub) < self.N_Max_hand:\n",
    "                #print(i)\n",
    "                \n",
    "                if i == 0:\n",
    "                    adjust = torch.zeros(1, self.N_Max_hand, self.feat_size)\n",
    "                    emb_edge_candi = torch.cat((emb_edge, adjust), 0)\n",
    "                    h_U = self.prop(h_V, emb_edge_candi, adj, self.f_e_s, self.f_n_s)\n",
    "                else:\n",
    "                    h_U = self.prop(h_V, emb_edge_candi, adj, self.f_e_s, self.f_n_s)\n",
    "                \n",
    "                \n",
    "                p_nodes = self.nodes(h_U, adj, self.f_s)\n",
    "                \n",
    "                \n",
    "                if torch.sum(torch.isnan(p_nodes)) >= 1:\n",
    "                    adjust = torch.zeros(self.N_Max_hand - len(emb_edge_sub), self.feat_size)\n",
    "                    emb_edge_sub_candi = torch.cat((emb_edge_sub, adjust), 0).view(1, self.N_Max_hand, -1)\n",
    "                    emb_edge_candi = torch.cat((emb_edge, emb_edge_sub_candi), 0)    \n",
    "                else:\n",
    "                    position = Categorical(p_nodes).sample()\n",
    "                    \n",
    "                    \n",
    "                    node_edgetype = self.node_edgetype(h_V, position)\n",
    "                    adj[t].append(node_edgetype[0])\n",
    "                    edge.append([t] + node_edgetype)\n",
    "                    \n",
    "                    if p_nodes.size(1) < self.N_Max_atom * len(self.parts[1]):\n",
    "                        adjust = torch.zeros((1, self.N_Max_atom * len(self.parts[1]) - p_nodes.size(1)))\n",
    "                        y_hat_edge_sub = torch.cat((p_nodes, adjust), 1)\n",
    "                    \n",
    "                    y_hat_edge = torch.cat((y_hat_edge, y_hat_edge_sub), 0)\n",
    "                \n",
    "                    emb_edge_sub_sub = self.E_edge(tensor(node_edgetype[1]).long()).view(1, -1)\n",
    "                    emb_edge_sub = torch.cat((emb_edge_sub, emb_edge_sub_sub), 0)\n",
    "                \n",
    "                    if len(emb_edge_sub) < self.N_Max_hand:\n",
    "                        adjust = torch.zeros(self.N_Max_hand - len(emb_edge_sub), self.feat_size)\n",
    "                        emb_edge_sub_candi = torch.cat((emb_edge_sub, adjust), 0).view(1, self.N_Max_hand, -1)\n",
    "            \n",
    "                    emb_edge_candi = torch.cat((emb_edge, emb_edge_sub_candi), 0)\n",
    "                \n",
    "                \n",
    "                h_G = self.prop_and_R(h_V, emb_edge_candi, adj, self.f_e_ae, self.f_n_ae, self.f_m_ae, self.g_m_ae)\n",
    "                \n",
    "                p_addedge = F.softmax(self.f_ae(self.dropout(h_G)), dim=-1)\n",
    "                if torch.isnan(p_addedge):\n",
    "                    z_t = 0\n",
    "                else:\n",
    "                    z_t = Bernoulli(p_addedge).sample()\n",
    "                \n",
    "                i += 1\n",
    "                \n",
    "            if torch.sum(emb_edge_candi) == 650:\n",
    "                adjust = torch.zeros(1, self.N_Max_hand, self.feat_size)\n",
    "                emb_edge = torch.cat((emb_edge, adjust), 0)\n",
    "            else:\n",
    "                emb_edge = emb_edge_candi\n",
    "            \n",
    "            h_G = self.prop_and_R(h_V, emb_edge, adj, self.f_e_ae, self.f_n_ae, self.f_m_ae, self.g_m_ae)\n",
    "            \n",
    "            p_addnode = F.softmax(self.f_an(self.dropout(h_G)), dim=1)\n",
    "            if torch.sum(torch.isnan(p_addnode)) >= 1:\n",
    "                node_type = 0\n",
    "            else:\n",
    "                node_type = Categorical(p_addnode).sample()\n",
    "            \n",
    "            t += 1\n",
    "        \n",
    "        #Adjust for target\n",
    "        \n",
    "        if len(y_hat_node) < self.N_Max_atom:\n",
    "            adjust = torch.zeros(self.N_Max_atom - len(y_hat_node), 1+len(self.parts[0]))\n",
    "            y_hat_node = torch.cat((y_hat_node, adjust) ,0)\n",
    "        \n",
    "        try:\n",
    "            if y_hat_add.size(1) < N_Max_atom:\n",
    "                adjust = torch.zeros(1, self.N_Max_atom - y_hat_add.size(1))\n",
    "                y_hat_add = torch.cat((y_hat_add.view(1, -1), adjust.view(1, -1)), 1)\n",
    "        except:\n",
    "            y_hat_add = torch.zeros(1, self.N_Max_atom)\n",
    "                \n",
    "        if len(y_hat_edge) < self.N_Max_atom*self.N_Max_hand:\n",
    "            adjust = torch.zeros(self.N_Max_atom*self.N_Max_hand - y_hat_edge.size(0), self.N_Max_atom * len(self.parts[1]))\n",
    "            y_hat_edge = torch.cat((y_hat_edge, adjust) ,0)\n",
    "        \n",
    "        return y_hat_node, y_hat_add, y_hat_edge, node, edge   \n",
    "    \n",
    "    def prop_and_R(self, h_V, emb, adj, f_e, f_n, f_m, g_m):\n",
    "        for T in range(self.T):\n",
    "            for t in range(len(h_V)):\n",
    "                if len(adj[t]) != 0:    \n",
    "                    adj_t = tensor(adj[t]).long()\n",
    "                    if t == 0:\n",
    "                        h_u = torch.index_select(h_V, 0, adj_t)\n",
    "                        h_v = torch.cat(([h_V[t].view(1, -1) for _ in range(len(h_u))]), 0)\n",
    "                        x = emb[t, :len(h_u)]\n",
    "                        m_u_v = torch.sum(f_e[T](torch.cat((h_u, h_v, x), 1)), 0, keepdim=True)\n",
    "                        m_v_u = torch.sum(f_e[T](torch.cat((h_u, h_v, x), 1)), 0, keepdim=True)\n",
    "\n",
    "                        a_v = m_u_v + m_v_u\n",
    "                        h_V_new = f_n[T](a_v, h_V[t].view(1, -1))\n",
    "                        \n",
    "                    else:\n",
    "                        h_u = torch.index_select(h_V, 0, adj_t)\n",
    "                        h_v = torch.cat(([h_V[t].view(1, -1) for _ in range(len(h_u))]), 0)\n",
    "                        x = emb[t, :len(h_u)]\n",
    "                        m_u_v = torch.sum(f_e[T](torch.cat((h_u, h_v, x), 1)), 0, keepdim=True)\n",
    "                        m_v_u = torch.sum(f_e[T](torch.cat((h_u, h_v, x), 1)), 0, keepdim=True)\n",
    "\n",
    "                        a_v = m_u_v + m_v_u\n",
    "                    \n",
    "                        h_V_new_sub = f_n[T](a_v, h_V[t].view(1, -1))\n",
    "                        h_V_new = torch.cat((h_V_new, h_V_new_sub), 0)\n",
    "\n",
    "                else:\n",
    "                    if t == 0:\n",
    "                        h_V_new = h_V[t].view(1, -1)\n",
    "                    else:\n",
    "                        h_V_new_sub = h_V[t].view(1, -1)\n",
    "                        h_V_new = torch.cat((h_V_new, h_V_new_sub), 0)\n",
    "                        \n",
    "            h_V = h_V_new\n",
    "        \n",
    "        h_V_g = f_m(h_V)\n",
    "        g_V = F.logsigmoid(g_m(h_V))\n",
    "        h_G = torch.sum(torch.mul(g_V, h_V_g), 0, keepdim=True)\n",
    "        \n",
    "        return h_G\n",
    "\n",
    "    def prop(self, h_V, emb, adj, f_e, f_n):\n",
    "        for T in range(self.T):\n",
    "            for t in range(len(h_V)):\n",
    "                if len(adj[t]) != 0:    \n",
    "                    adj_t = tensor(adj[t]).long()\n",
    "                    if t == 0:\n",
    "                        h_u = torch.index_select(h_V, 0, adj_t)\n",
    "                        h_v = torch.cat(([h_V[t].view(1, -1) for _ in range(len(h_u))]), 0)\n",
    "                        x = emb[t, :len(h_u)]\n",
    "                        m_u_v = torch.sum(f_e[T](torch.cat((h_u, h_v, x), 1)), 0, keepdim=True)\n",
    "                        m_v_u = torch.sum(f_e[T](torch.cat((h_u, h_v, x), 1)), 0, keepdim=True)\n",
    "\n",
    "                        a_v = m_u_v + m_v_u\n",
    "\n",
    "                        h_V_new = f_n[T](a_v, h_V[t].view(1, -1))\n",
    "                        \n",
    "                    else:\n",
    "                        h_u = torch.index_select(h_V, 0, adj_t)\n",
    "                        h_v = torch.cat(([h_V[t].view(1, -1) for _ in range(len(h_u))]), 0)\n",
    "                        x = emb[t, :len(h_u)]\n",
    "                        m_u_v = torch.sum(f_e[T](torch.cat((h_u, h_v, x), 1)), 0, keepdim=True)\n",
    "                        m_v_u = torch.sum(f_e[T](torch.cat((h_u, h_v, x), 1)), 0, keepdim=True)\n",
    "\n",
    "                        a_v = m_u_v + m_v_u\n",
    "                    \n",
    "                        h_V_new_sub = f_n[T](a_v, h_V[t].view(1, -1))\n",
    "                        h_V_new = torch.cat((h_V_new, h_V_new_sub), 0)\n",
    "\n",
    "                else:\n",
    "                    if t == 0:\n",
    "                        h_V_new = h_V[t].view(1, -1)\n",
    "                    else:\n",
    "                        h_V_new_sub = h_V[t].view(1, -1)\n",
    "                        h_V_new = torch.cat((h_V_new, h_V_new_sub), 0)\n",
    "                        \n",
    "            h_V = h_V_new\n",
    "        \n",
    "        return h_V\n",
    "        \n",
    "    def nodes(self, h_U, adj, f_s):\n",
    "        h_V = torch.cat(([h_U[-1].view(1, -1) for _ in range(len(h_U))]), 0)\n",
    "        s_u_j = f_s(self.dropout(torch.cat((h_U, h_V), 1))).view(1, -1)\n",
    "        p_nodes = F.softmax(s_u_j, dim=1)\n",
    "        \n",
    "        return p_nodes\n",
    "    \n",
    "    def node_edgetype(self, h_V, position):\n",
    "        empty = torch.zeros(1, len(h_V) * len(self.parts[1]))\n",
    "        empty[0, position] = 1\n",
    "        node = int(empty.reshape(len(h_V), len(self.parts[1])).nonzero()[0][0])\n",
    "        bondtype = int(empty.reshape(len(h_V), len(self.parts[1])).nonzero()[0][1])\n",
    "\n",
    "        return [node, bondtype]\n",
    "        \n",
    "    def h_v_init(self, h_V, e, f_m, g_m, f_init):\n",
    "        h_v_g_init = f_m(h_V)\n",
    "        g_v_init = F.logsigmoid(g_m(h_V))\n",
    "        h_G_init = torch.sum(torch.mul(g_v_init, h_v_g_init), 0, keepdim=True)\n",
    "        \n",
    "        h_v = f_init(torch.cat((e, h_G_init), 1))\n",
    "        \n",
    "        return h_v"
   ]
  },
  {
   "cell_type": "code",
   "execution_count": 3,
   "metadata": {},
   "outputs": [],
   "source": [
    "class Featurizer(object):\n",
    "    def __init__(self, N_Max_atom, N_Max_bond, N_Max_hand, parts):\n",
    "        super(Featurizer, self).__init__()\n",
    "        self.N_Max_atom = N_Max_atom\n",
    "        self.N_Max_bond = N_Max_bond\n",
    "        self.N_Max_hand = N_Max_hand\n",
    "        self.parts = parts\n",
    "    \n",
    "    def __call__(self, mols, filepass):\n",
    "        print('mol count')\n",
    "        sio = sys.stderr = StringIO()\n",
    "        sio.getvalue()\n",
    "        self.size = mol_num(mols)\n",
    "        \n",
    "        self.f =  h5py.File(filepass, \"w\")\n",
    "        \n",
    "        self.f.create_dataset('atom', shape=(self.size, self.N_Max_atom, 1+len(self.parts[0])))\n",
    "        self.f.create_dataset('add', shape=(self.size, self.N_Max_atom))\n",
    "        self.f.create_dataset('bond', shape=(self.size, self.N_Max_hand*self.N_Max_atom, self.N_Max_atom*len(self.parts[1])))\n",
    "        \n",
    "        print('Featurizing atom_type')\n",
    "        self.atom_type(mols)\n",
    "        print('Featurizing add')\n",
    "        self.add(mols)\n",
    "        print('Featurizing bond_type')\n",
    "        self.bond_type(mols)\n",
    "        \n",
    "        self.f.flush()\n",
    "        self.f.close()\n",
    "        \n",
    "        print('Done')\n",
    "        \n",
    "    def atom_type(self, mols):\n",
    "        ids = self.f['atom']\n",
    "        parts = self.parts[0]\n",
    "        c = -1\n",
    "        for mol in tqdm(mols):\n",
    "            if mol is not None:\n",
    "                mol = Chem.AddHs(mol)\n",
    "                if mol.GetNumAtoms() <= self.N_Max_atom:\n",
    "                    c += 1\n",
    "                    for index_atom , atom in enumerate(mol.GetAtoms()):\n",
    "                        ids[c, index_atom, parts[atom.GetSymbol()]] = 1\n",
    "                else:\n",
    "                    pass\n",
    "                \n",
    "                \n",
    "    def add(self, mols):\n",
    "        ids = self.f['add']\n",
    "        c = -1\n",
    "        for mol in tqdm(mols):\n",
    "            if mol is not None:\n",
    "                mol = Chem.AddHs(mol)\n",
    "                if mol.GetNumAtoms() <= self.N_Max_atom:\n",
    "                    c += 1\n",
    "                    ids[c, :mol.GetNumAtoms()] = 1    \n",
    "                else:\n",
    "                    pass\n",
    "                \n",
    "                \n",
    "    def bond_type(self, mols):\n",
    "        ids = self.f['bond']\n",
    "        parts = self.parts[1]\n",
    "        c = -1\n",
    "        for mol in tqdm(mols):\n",
    "            if mol is not None:\n",
    "                mol = Chem.AddHs(mol)\n",
    "                if mol.GetNumAtoms() <= self.N_Max_atom:\n",
    "                    c += 1\n",
    "                    for index_bond, bond in enumerate(mol.GetBonds()):\n",
    "                        ids[c, index_bond, (parts[str(bond.GetBondType())] * bond.GetEndAtomIdx()) + bond.GetEndAtomIdx() + parts[str(bond.GetBondType())]] = 1"
   ]
  },
  {
   "cell_type": "code",
   "execution_count": 4,
   "metadata": {
    "scrolled": true
   },
   "outputs": [],
   "source": [
    "from io import StringIO\n",
    "import sys\n",
    "Chem.WrapLogs()\n",
    "def write_mol(node_batch, edge_batch, gen_size):\n",
    "    mols_gen = []\n",
    "    smiles_gen = []\n",
    "    failures = []\n",
    "    count = 0\n",
    "    sio = sys.stderr = StringIO()\n",
    "    for c in range(gen_size):\n",
    "        \n",
    "        m = Chem.MolFromSmiles('') \n",
    "        mw = Chem.RWMol(m)\n",
    "        flag = False\n",
    "        for n in range(len(node_batch[c])):\n",
    "            try:\n",
    "                mw.AddAtom(Chem.Atom(int(node_batch[c][n])))\n",
    "            except:\n",
    "                failures.append([c, sio.getvalue()])\n",
    "                sio = sys.stderr = StringIO()\n",
    "                flag = True\n",
    "                break\n",
    "\n",
    "        for e in range(len(edge_batch[c])):\n",
    "            try:\n",
    "                mw.AddBond(edge_batch[c][e][0], edge_batch[c][e][1], num_to_bond[edge_batch[c][e][2]])\n",
    "\n",
    "            except RuntimeError:\n",
    "                failures.append([c, sio.getvalue()])\n",
    "                sio = sys.stderr = StringIO()\n",
    "                flag = True\n",
    "                break\n",
    "        if flag:\n",
    "            break\n",
    "        else:\n",
    "            pass\n",
    "                \n",
    "        try:\n",
    "            Chem.SanitizeMol(mw)\n",
    "            smiles =Chem.MolToSmiles(mw)\n",
    "            smiles_gen.append(smiles)\n",
    "            mols_gen.append(mw)\n",
    "            count += 1\n",
    "        except ValueError:\n",
    "            pass\n",
    "        \n",
    "    valid_rate = count / gen_size\n",
    "    \n",
    "    return mols_gen, smiles_gen, valid_rate, failures"
   ]
  },
  {
   "cell_type": "code",
   "execution_count": 5,
   "metadata": {},
   "outputs": [],
   "source": [
    "from rdkit.Chem.Draw import IPythonConsole\n",
    "from IPython.display import SVG\n",
    "from rdkit.Chem import rdDepictor\n",
    "from rdkit.Chem.Draw import rdMolDraw2D\n",
    "\n",
    "def moltosvg(mol, molSize=(400,400), index=False, kekulize=True):\n",
    "    \n",
    "    mc = Chem.Mol(mol.ToBinary())\n",
    "    \n",
    "    if kekulize:\n",
    "        try:\n",
    "            Chem.Kekulize(mc)\n",
    "        except:\n",
    "            mc = Chem.Mol(mol.ToBinary())\n",
    "            \n",
    "    if not mc.GetNumConformers():\n",
    "        rdDepictor.Compute2DCoords(mc)\n",
    "        \n",
    "    drawer = rdMolDraw2D.MolDraw2DSVG(molSize[0], molSize[1])\n",
    "    opts = drawer.drawOptions()\n",
    "    if index:\n",
    "        for i in range(mc.GetNumAtoms()):\n",
    "            opts.atomLabels[i] = str(i)\n",
    "\n",
    "    drawer.DrawMolecule(mc)\n",
    "    drawer.FinishDrawing()\n",
    "    svg = drawer.GetDrawingText()\n",
    "    \n",
    "    # It seems that the svg renderer used doesn't quite hit the spec.\n",
    "    # Here are some fixes to make it work in the notebook, although I think\n",
    "    # the underlying issue needs to be resolved at the generation step\n",
    "    \n",
    "    return svg.replace('svg:','')"
   ]
  },
  {
   "cell_type": "code",
   "execution_count": 6,
   "metadata": {
    "scrolled": false
   },
   "outputs": [],
   "source": [
    "def calc_lr(epoch_num):\n",
    "    return 0.000000001 * 1.3 ** epoch_num\n",
    "def mol_num(mols):\n",
    "    num = sum([1 for mol in tqdm(mols) if mol is not None and int(Chem.AddHs(mol).GetNumAtoms()) <= N_Max_atom ])\n",
    "    return num"
   ]
  },
  {
   "cell_type": "code",
   "execution_count": 7,
   "metadata": {},
   "outputs": [],
   "source": [
    "atom_to_num = {}\n",
    "num_to_atom ={}\n",
    "for i in range(121):\n",
    "    if i != 0:\n",
    "        sub = {Chem.Atom(i).GetSymbol(): i}\n",
    "        sub2 = {i: Chem.Atom(i).GetSymbol()}\n",
    "        atom_to_num.update(sub)\n",
    "        num_to_atom.update(sub2)\n",
    "bond_to_num = {'AROMATIC': 0, 'SINGLE': 1, 'DOUBLE': 2, 'TRIPLE': 3}\n",
    "num_to_bond = {0: Chem.BondType.AROMATIC, 1: Chem.BondType.SINGLE, 2: Chem.BondType.DOUBLE, 3: Chem.BondType.TRIPLE}\n",
    "parts = (atom_to_num, bond_to_num)"
   ]
  },
  {
   "cell_type": "markdown",
   "metadata": {},
   "source": [
    "# Change settings for training set."
   ]
  },
  {
   "cell_type": "code",
   "execution_count": 8,
   "metadata": {},
   "outputs": [],
   "source": [
    "zinc_mols = Chem.SmilesMolSupplier('250k_rndm_zinc_drugs_clean.smi', delimiter='\\t', titleLine=False)\n",
    "N_Max_atom = 83 # you can change this number. you can collect mol whose number of node is less than set number. \n",
    "                #If you want to use all training data, set 83.\n",
    "N_Max_bond = 87 # you can't change this number.\n",
    "N_Max_hand = 4\n",
    "#N_Max_bond = max([Chem.AddHs(mol).GetNumBonds() for mol in tqdm(zinc_mols) if mol is not None]) # result in 87\n",
    "#N_Max_atom = max([Chem.AddHs(mol).GetNumAtoms() for mol in tqdm(zinc_mols) if mol is not None])# result in 83"
   ]
  },
  {
   "cell_type": "markdown",
   "metadata": {},
   "source": [
    "# Create training data set."
   ]
  },
  {
   "cell_type": "code",
   "execution_count": null,
   "metadata": {
    "scrolled": true
   },
   "outputs": [
    {
     "name": "stdout",
     "output_type": "stream",
     "text": [
      "zinc set\n",
      "mol count\n"
     ]
    },
    {
     "data": {
      "application/vnd.jupyter.widget-view+json": {
       "model_id": "d4badba10956436697aac7af6c9befc2",
       "version_major": 2,
       "version_minor": 0
      },
      "text/plain": [
       "HBox(children=(IntProgress(value=0, max=249456), HTML(value='')))"
      ]
     },
     "metadata": {},
     "output_type": "display_data"
    },
    {
     "name": "stdout",
     "output_type": "stream",
     "text": [
      "\n",
      "Featurizing atom_type\n"
     ]
    },
    {
     "data": {
      "application/vnd.jupyter.widget-view+json": {
       "model_id": "b87fa83944ac41d485905b0520f1ad70",
       "version_major": 2,
       "version_minor": 0
      },
      "text/plain": [
       "HBox(children=(IntProgress(value=0, max=249456), HTML(value='')))"
      ]
     },
     "metadata": {},
     "output_type": "display_data"
    }
   ],
   "source": [
    "featurizer = Featurizer(N_Max_atom, N_Max_bond, N_Max_hand, parts)\n",
    "if not os.path.exists('./zinc.hdf5'):\n",
    "    print('zinc set')\n",
    "    featurizer(zinc_mols,'./zinc.hdf5')"
   ]
  },
  {
   "cell_type": "markdown",
   "metadata": {},
   "source": [
    "# Change settings for Model."
   ]
  },
  {
   "cell_type": "code",
   "execution_count": 17,
   "metadata": {},
   "outputs": [],
   "source": [
    "#Settings\n",
    "\n",
    "batch_size = 1 # you can't chenge batch size.\n",
    "gen_size = 100 # you can change generation times.\n",
    "epoch_num = 1 # you can change epoch times for training\n",
    "\n",
    "#Model - you can change feat_size for node feature and T for propagation times.\n",
    "\n",
    "generator = Model(feat_size=128, N_Max_atom=N_Max_atom, N_Max_bond=N_Max_bond,N_Max_hand=N_Max_hand, parts=parts, T=2)\n",
    "torch.save(generator.state_dict(), './init.pth') \n",
    "finder = Model(feat_size=128, N_Max_atom=N_Max_atom, N_Max_bond=N_Max_bond, N_Max_hand=N_Max_hand, parts=parts, T=2)\n",
    "finder.load_state_dict(torch.load('./init.pth'))\n",
    "\n",
    "#Loss function\n",
    "criterion = nn.BCELoss()\n"
   ]
  },
  {
   "cell_type": "markdown",
   "metadata": {},
   "source": [
    "# Run the below cell for training."
   ]
  },
  {
   "cell_type": "code",
   "execution_count": 20,
   "metadata": {
    "scrolled": false
   },
   "outputs": [
    {
     "data": {
      "text/html": [
       "\n",
       "<div class=\"bk-root\">\n",
       "    <div class=\"bk-plotdiv\" id=\"9dceda37-c3cf-4509-ba10-2fb03d23fac0\"></div>\n",
       "</div>"
      ]
     },
     "metadata": {},
     "output_type": "display_data"
    },
    {
     "data": {
      "application/javascript": [
       "(function(root) {\n",
       "  function embed_document(root) {\n",
       "    \n",
       "  var docs_json = {\"ea342367-09ef-4616-8afe-e2e981c01b70\":{\"roots\":{\"references\":[{\"attributes\":{},\"id\":\"000235ba-a5b3-4b40-8bf2-4fcad8d0badb\",\"type\":\"BasicTicker\"},{\"attributes\":{\"dimension\":1,\"plot\":{\"id\":\"f2c41440-008c-4f27-8d1c-c9924f2179ca\",\"subtype\":\"Figure\",\"type\":\"Plot\"},\"ticker\":{\"id\":\"000235ba-a5b3-4b40-8bf2-4fcad8d0badb\",\"type\":\"BasicTicker\"}},\"id\":\"df57add6-1b1b-4c39-b3b9-8326cb261881\",\"type\":\"Grid\"},{\"attributes\":{\"below\":[{\"id\":\"7a33c0e3-638c-465c-b5bc-7c701400a4b9\",\"type\":\"LinearAxis\"}],\"left\":[{\"id\":\"a19b8ccb-a3b5-4ef1-ab2b-db21d7fc42e8\",\"type\":\"LinearAxis\"}],\"min_border\":0,\"plot_height\":430,\"plot_width\":480,\"renderers\":[{\"id\":\"7a33c0e3-638c-465c-b5bc-7c701400a4b9\",\"type\":\"LinearAxis\"},{\"id\":\"6413afc0-c876-41f1-9044-814a8119c3a8\",\"type\":\"Grid\"},{\"id\":\"a19b8ccb-a3b5-4ef1-ab2b-db21d7fc42e8\",\"type\":\"LinearAxis\"},{\"id\":\"df57add6-1b1b-4c39-b3b9-8326cb261881\",\"type\":\"Grid\"},{\"id\":\"285464ee-ab44-4285-8cb3-edffe09aa8b8\",\"type\":\"BoxAnnotation\"},{\"id\":\"7e3ccee0-e007-469c-b3d9-efe0c99989a1\",\"type\":\"GlyphRenderer\"}],\"title\":{\"id\":\"7c75cf42-3742-4e0a-93b4-45a5af388f61\",\"type\":\"Title\"},\"toolbar\":{\"id\":\"d261d58e-461b-4a47-85a3-b947fb2fd8ff\",\"type\":\"Toolbar\"},\"x_range\":{\"id\":\"c959e245-0b56-4346-ab96-85ef0ba2fd00\",\"type\":\"DataRange1d\"},\"x_scale\":{\"id\":\"e8c166aa-34a6-477e-95f5-b3c124325f2b\",\"type\":\"LinearScale\"},\"y_range\":{\"id\":\"b39ae951-8b18-4830-bd40-5f4064a889b2\",\"type\":\"DataRange1d\"},\"y_scale\":{\"id\":\"96490a11-72c6-4a7b-b478-099727f0de77\",\"type\":\"LinearScale\"}},\"id\":\"f2c41440-008c-4f27-8d1c-c9924f2179ca\",\"subtype\":\"Figure\",\"type\":\"Plot\"},{\"attributes\":{\"line_color\":\"#1f77b4\",\"x\":{\"field\":\"epoch\"},\"y\":{\"field\":\"loss\"}},\"id\":\"056bf192-4c9f-4ea8-a7cf-cbd1ce12a0c5\",\"type\":\"Line\"},{\"attributes\":{\"callback\":null,\"column_names\":[\"epoch\",\"loss\"],\"data\":{\"epoch\":[],\"loss\":[]},\"selected\":null,\"selection_policy\":null},\"id\":\"531d5866-f987-47af-9465-f4d6251be66e\",\"type\":\"ColumnDataSource\"},{\"attributes\":{\"line_alpha\":0.1,\"line_color\":\"#1f77b4\",\"x\":{\"field\":\"epoch\"},\"y\":{\"field\":\"loss\"}},\"id\":\"f6411399-eabe-4e40-bc3e-8507bb3dda3a\",\"type\":\"Line\"},{\"attributes\":{\"bottom_units\":\"screen\",\"fill_alpha\":{\"value\":0.5},\"fill_color\":{\"value\":\"lightgrey\"},\"left_units\":\"screen\",\"level\":\"overlay\",\"line_alpha\":{\"value\":1.0},\"line_color\":{\"value\":\"black\"},\"line_dash\":[4,4],\"line_width\":{\"value\":2},\"plot\":null,\"render_mode\":\"css\",\"right_units\":\"screen\",\"top_units\":\"screen\"},\"id\":\"285464ee-ab44-4285-8cb3-edffe09aa8b8\",\"type\":\"BoxAnnotation\"},{\"attributes\":{\"plot\":null,\"text\":\"Loss\"},\"id\":\"7c75cf42-3742-4e0a-93b4-45a5af388f61\",\"type\":\"Title\"},{\"attributes\":{},\"id\":\"866710c5-78b0-4457-a88f-2e2659527108\",\"type\":\"PanTool\"},{\"attributes\":{},\"id\":\"637e4f0f-9dfc-49a8-aa4f-9cb751041431\",\"type\":\"WheelZoomTool\"},{\"attributes\":{\"data_source\":{\"id\":\"531d5866-f987-47af-9465-f4d6251be66e\",\"type\":\"ColumnDataSource\"},\"glyph\":{\"id\":\"056bf192-4c9f-4ea8-a7cf-cbd1ce12a0c5\",\"type\":\"Line\"},\"hover_glyph\":null,\"muted_glyph\":null,\"nonselection_glyph\":{\"id\":\"f6411399-eabe-4e40-bc3e-8507bb3dda3a\",\"type\":\"Line\"},\"selection_glyph\":null,\"view\":{\"id\":\"b1fedfdc-f9c8-4c13-80e1-b7e105b5f4d3\",\"type\":\"CDSView\"}},\"id\":\"7e3ccee0-e007-469c-b3d9-efe0c99989a1\",\"type\":\"GlyphRenderer\"},{\"attributes\":{\"active_drag\":\"auto\",\"active_inspect\":\"auto\",\"active_scroll\":\"auto\",\"active_tap\":\"auto\",\"tools\":[{\"id\":\"866710c5-78b0-4457-a88f-2e2659527108\",\"type\":\"PanTool\"},{\"id\":\"637e4f0f-9dfc-49a8-aa4f-9cb751041431\",\"type\":\"WheelZoomTool\"},{\"id\":\"6650a349-aa93-4745-8b49-43a990c4d688\",\"type\":\"BoxZoomTool\"},{\"id\":\"30eb9606-b9f5-4e94-9fa2-d397fd07c3a4\",\"type\":\"SaveTool\"},{\"id\":\"f53b614e-86db-4eb7-bfb1-00b2b5c33440\",\"type\":\"ResetTool\"},{\"id\":\"d51ad8fd-ca22-43ef-95a1-2656072ecfdc\",\"type\":\"HelpTool\"}]},\"id\":\"d261d58e-461b-4a47-85a3-b947fb2fd8ff\",\"type\":\"Toolbar\"},{\"attributes\":{},\"id\":\"30eb9606-b9f5-4e94-9fa2-d397fd07c3a4\",\"type\":\"SaveTool\"},{\"attributes\":{},\"id\":\"f53b614e-86db-4eb7-bfb1-00b2b5c33440\",\"type\":\"ResetTool\"},{\"attributes\":{\"overlay\":{\"id\":\"285464ee-ab44-4285-8cb3-edffe09aa8b8\",\"type\":\"BoxAnnotation\"}},\"id\":\"6650a349-aa93-4745-8b49-43a990c4d688\",\"type\":\"BoxZoomTool\"},{\"attributes\":{},\"id\":\"d51ad8fd-ca22-43ef-95a1-2656072ecfdc\",\"type\":\"HelpTool\"},{\"attributes\":{\"callback\":null},\"id\":\"c959e245-0b56-4346-ab96-85ef0ba2fd00\",\"type\":\"DataRange1d\"},{\"attributes\":{},\"id\":\"dd974fe6-ebff-49ff-bf5d-de0fe8ad50c8\",\"type\":\"BasicTickFormatter\"},{\"attributes\":{},\"id\":\"e8c166aa-34a6-477e-95f5-b3c124325f2b\",\"type\":\"LinearScale\"},{\"attributes\":{\"source\":{\"id\":\"531d5866-f987-47af-9465-f4d6251be66e\",\"type\":\"ColumnDataSource\"}},\"id\":\"b1fedfdc-f9c8-4c13-80e1-b7e105b5f4d3\",\"type\":\"CDSView\"},{\"attributes\":{\"callback\":null},\"id\":\"b39ae951-8b18-4830-bd40-5f4064a889b2\",\"type\":\"DataRange1d\"},{\"attributes\":{},\"id\":\"6a3e538b-7752-4f4d-84e5-1b2e40b4a9ef\",\"type\":\"BasicTickFormatter\"},{\"attributes\":{},\"id\":\"96490a11-72c6-4a7b-b478-099727f0de77\",\"type\":\"LinearScale\"},{\"attributes\":{\"plot\":{\"id\":\"f2c41440-008c-4f27-8d1c-c9924f2179ca\",\"subtype\":\"Figure\",\"type\":\"Plot\"},\"ticker\":{\"id\":\"0e7be4ce-8562-4555-9fd8-4c0aaece750b\",\"type\":\"BasicTicker\"}},\"id\":\"6413afc0-c876-41f1-9044-814a8119c3a8\",\"type\":\"Grid\"},{\"attributes\":{\"axis_label\":\"epoch\",\"formatter\":{\"id\":\"dd974fe6-ebff-49ff-bf5d-de0fe8ad50c8\",\"type\":\"BasicTickFormatter\"},\"plot\":{\"id\":\"f2c41440-008c-4f27-8d1c-c9924f2179ca\",\"subtype\":\"Figure\",\"type\":\"Plot\"},\"ticker\":{\"id\":\"0e7be4ce-8562-4555-9fd8-4c0aaece750b\",\"type\":\"BasicTicker\"}},\"id\":\"7a33c0e3-638c-465c-b5bc-7c701400a4b9\",\"type\":\"LinearAxis\"},{\"attributes\":{},\"id\":\"0e7be4ce-8562-4555-9fd8-4c0aaece750b\",\"type\":\"BasicTicker\"},{\"attributes\":{\"axis_label\":\"Loss\",\"formatter\":{\"id\":\"6a3e538b-7752-4f4d-84e5-1b2e40b4a9ef\",\"type\":\"BasicTickFormatter\"},\"plot\":{\"id\":\"f2c41440-008c-4f27-8d1c-c9924f2179ca\",\"subtype\":\"Figure\",\"type\":\"Plot\"},\"ticker\":{\"id\":\"000235ba-a5b3-4b40-8bf2-4fcad8d0badb\",\"type\":\"BasicTicker\"}},\"id\":\"a19b8ccb-a3b5-4ef1-ab2b-db21d7fc42e8\",\"type\":\"LinearAxis\"}],\"root_ids\":[\"f2c41440-008c-4f27-8d1c-c9924f2179ca\"]},\"title\":\"Bokeh Application\",\"version\":\"0.12.15\"}};\n",
       "  var render_items = [{\"docid\":\"ea342367-09ef-4616-8afe-e2e981c01b70\",\"elementid\":\"9dceda37-c3cf-4509-ba10-2fb03d23fac0\",\"modelid\":\"f2c41440-008c-4f27-8d1c-c9924f2179ca\",\"notebook_comms_target\":\"75f87c69-2afc-4aa0-b6a3-25fc07f670bd\"}];\n",
       "  root.Bokeh.embed.embed_items_notebook(docs_json, render_items);\n",
       "\n",
       "  }\n",
       "  if (root.Bokeh !== undefined) {\n",
       "    embed_document(root);\n",
       "  } else {\n",
       "    var attempts = 0;\n",
       "    var timer = setInterval(function(root) {\n",
       "      if (root.Bokeh !== undefined) {\n",
       "        embed_document(root);\n",
       "        clearInterval(timer);\n",
       "      }\n",
       "      attempts++;\n",
       "      if (attempts > 100) {\n",
       "        console.log(\"Bokeh: ERROR: Unable to run BokehJS code because BokehJS library is missing\")\n",
       "        clearInterval(timer);\n",
       "      }\n",
       "    }, 10, root)\n",
       "  }\n",
       "})(window);"
      ],
      "application/vnd.bokehjs_exec.v0+json": ""
     },
     "metadata": {
      "application/vnd.bokehjs_exec.v0+json": {
       "id": "f2c41440-008c-4f27-8d1c-c9924f2179ca"
      }
     },
     "output_type": "display_data"
    },
    {
     "data": {
      "text/html": [
       "\n",
       "<div class=\"bk-root\">\n",
       "    <div class=\"bk-plotdiv\" id=\"707c026f-7641-423e-8580-f65bfb6ad69d\"></div>\n",
       "</div>"
      ]
     },
     "metadata": {},
     "output_type": "display_data"
    },
    {
     "data": {
      "application/javascript": [
       "(function(root) {\n",
       "  function embed_document(root) {\n",
       "    \n",
       "  var docs_json = {\"fadca96e-f416-42cc-845e-ca24fb8df66b\":{\"roots\":{\"references\":[{\"attributes\":{},\"id\":\"2c851cf4-1d91-4024-8b23-05ecc43cda58\",\"type\":\"ResetTool\"},{\"attributes\":{},\"id\":\"f1ec5731-483a-4c12-8291-83db809f3a1c\",\"type\":\"HelpTool\"},{\"attributes\":{},\"id\":\"303084ef-e74f-4961-adf2-728147204733\",\"type\":\"BasicTicker\"},{\"attributes\":{},\"id\":\"51cac443-7346-4710-af57-f07b5e260675\",\"type\":\"BasicTickFormatter\"},{\"attributes\":{},\"id\":\"fda62515-8d77-470c-83db-57b5d5a2d303\",\"type\":\"LinearScale\"},{\"attributes\":{\"source\":{\"id\":\"207cd271-20ee-49d1-92f7-691b77e6aca9\",\"type\":\"ColumnDataSource\"}},\"id\":\"f27f87d0-ce89-4416-9f08-6e0e78ae8762\",\"type\":\"CDSView\"},{\"attributes\":{},\"id\":\"d48d822a-eccf-4203-9cb4-f746933e1c4a\",\"type\":\"LinearScale\"},{\"attributes\":{\"plot\":null,\"text\":\"Generation Valid Rate\"},\"id\":\"301c3d32-e8d4-432f-891f-b3a026e911f3\",\"type\":\"Title\"},{\"attributes\":{\"callback\":null,\"column_names\":[\"epoch\",\"rates\"],\"data\":{\"epoch\":[],\"rates\":[]},\"selected\":null,\"selection_policy\":null},\"id\":\"207cd271-20ee-49d1-92f7-691b77e6aca9\",\"type\":\"ColumnDataSource\"},{\"attributes\":{},\"id\":\"3f36e70b-f961-4aeb-a326-8cddb8650755\",\"type\":\"BasicTickFormatter\"},{\"attributes\":{\"axis_label\":\"Valid rate\",\"formatter\":{\"id\":\"3f36e70b-f961-4aeb-a326-8cddb8650755\",\"type\":\"BasicTickFormatter\"},\"plot\":{\"id\":\"2de2800f-c1ec-43d5-a166-6048fae5eed0\",\"subtype\":\"Figure\",\"type\":\"Plot\"},\"ticker\":{\"id\":\"303084ef-e74f-4961-adf2-728147204733\",\"type\":\"BasicTicker\"}},\"id\":\"e30cec59-7332-4df5-9239-6ee43b7c25a3\",\"type\":\"LinearAxis\"},{\"attributes\":{\"axis_label\":\"epoch\",\"formatter\":{\"id\":\"51cac443-7346-4710-af57-f07b5e260675\",\"type\":\"BasicTickFormatter\"},\"plot\":{\"id\":\"2de2800f-c1ec-43d5-a166-6048fae5eed0\",\"subtype\":\"Figure\",\"type\":\"Plot\"},\"ticker\":{\"id\":\"115e51f5-911f-4c51-9e1c-d995cf17ada0\",\"type\":\"BasicTicker\"}},\"id\":\"d4c02c12-dfa5-45a7-a665-e39d7333bffe\",\"type\":\"LinearAxis\"},{\"attributes\":{},\"id\":\"115e51f5-911f-4c51-9e1c-d995cf17ada0\",\"type\":\"BasicTicker\"},{\"attributes\":{\"line_color\":\"orange\",\"x\":{\"field\":\"epoch\"},\"y\":{\"field\":\"rates\"}},\"id\":\"11704da4-7a00-46ac-aec3-680ae8850308\",\"type\":\"Line\"},{\"attributes\":{\"dimension\":1,\"plot\":{\"id\":\"2de2800f-c1ec-43d5-a166-6048fae5eed0\",\"subtype\":\"Figure\",\"type\":\"Plot\"},\"ticker\":{\"id\":\"303084ef-e74f-4961-adf2-728147204733\",\"type\":\"BasicTicker\"}},\"id\":\"7bc85e56-1f00-438f-b217-1fc9ed6c6342\",\"type\":\"Grid\"},{\"attributes\":{\"below\":[{\"id\":\"d4c02c12-dfa5-45a7-a665-e39d7333bffe\",\"type\":\"LinearAxis\"}],\"left\":[{\"id\":\"e30cec59-7332-4df5-9239-6ee43b7c25a3\",\"type\":\"LinearAxis\"}],\"min_border\":0,\"plot_height\":430,\"plot_width\":480,\"renderers\":[{\"id\":\"d4c02c12-dfa5-45a7-a665-e39d7333bffe\",\"type\":\"LinearAxis\"},{\"id\":\"f0d89fad-f7e0-4dca-a446-0a9eabf1b270\",\"type\":\"Grid\"},{\"id\":\"e30cec59-7332-4df5-9239-6ee43b7c25a3\",\"type\":\"LinearAxis\"},{\"id\":\"7bc85e56-1f00-438f-b217-1fc9ed6c6342\",\"type\":\"Grid\"},{\"id\":\"f265f898-0055-4ab0-8b26-a95d092e67dc\",\"type\":\"BoxAnnotation\"},{\"id\":\"96686739-54da-401d-89ad-6c5648d42e1e\",\"type\":\"GlyphRenderer\"}],\"title\":{\"id\":\"301c3d32-e8d4-432f-891f-b3a026e911f3\",\"type\":\"Title\"},\"toolbar\":{\"id\":\"c66a38e1-c7c9-45e7-af6b-58ef56c87f5a\",\"type\":\"Toolbar\"},\"x_range\":{\"id\":\"0c05b634-f4ab-45fe-b3d8-9f42c9f997a2\",\"type\":\"DataRange1d\"},\"x_scale\":{\"id\":\"fda62515-8d77-470c-83db-57b5d5a2d303\",\"type\":\"LinearScale\"},\"y_range\":{\"id\":\"b8ee8db1-7af8-49cd-a1e3-131ca4ce59eb\",\"type\":\"DataRange1d\"},\"y_scale\":{\"id\":\"d48d822a-eccf-4203-9cb4-f746933e1c4a\",\"type\":\"LinearScale\"}},\"id\":\"2de2800f-c1ec-43d5-a166-6048fae5eed0\",\"subtype\":\"Figure\",\"type\":\"Plot\"},{\"attributes\":{\"plot\":{\"id\":\"2de2800f-c1ec-43d5-a166-6048fae5eed0\",\"subtype\":\"Figure\",\"type\":\"Plot\"},\"ticker\":{\"id\":\"115e51f5-911f-4c51-9e1c-d995cf17ada0\",\"type\":\"BasicTicker\"}},\"id\":\"f0d89fad-f7e0-4dca-a446-0a9eabf1b270\",\"type\":\"Grid\"},{\"attributes\":{\"line_alpha\":0.1,\"line_color\":\"#1f77b4\",\"x\":{\"field\":\"epoch\"},\"y\":{\"field\":\"rates\"}},\"id\":\"96b3aaa4-1864-494d-a70a-ac3c6b927b7b\",\"type\":\"Line\"},{\"attributes\":{\"bottom_units\":\"screen\",\"fill_alpha\":{\"value\":0.5},\"fill_color\":{\"value\":\"lightgrey\"},\"left_units\":\"screen\",\"level\":\"overlay\",\"line_alpha\":{\"value\":1.0},\"line_color\":{\"value\":\"black\"},\"line_dash\":[4,4],\"line_width\":{\"value\":2},\"plot\":null,\"render_mode\":\"css\",\"right_units\":\"screen\",\"top_units\":\"screen\"},\"id\":\"f265f898-0055-4ab0-8b26-a95d092e67dc\",\"type\":\"BoxAnnotation\"},{\"attributes\":{},\"id\":\"91b982ea-918c-4975-a0eb-abaa4581d0bd\",\"type\":\"PanTool\"},{\"attributes\":{\"data_source\":{\"id\":\"207cd271-20ee-49d1-92f7-691b77e6aca9\",\"type\":\"ColumnDataSource\"},\"glyph\":{\"id\":\"11704da4-7a00-46ac-aec3-680ae8850308\",\"type\":\"Line\"},\"hover_glyph\":null,\"muted_glyph\":null,\"nonselection_glyph\":{\"id\":\"96b3aaa4-1864-494d-a70a-ac3c6b927b7b\",\"type\":\"Line\"},\"selection_glyph\":null,\"view\":{\"id\":\"f27f87d0-ce89-4416-9f08-6e0e78ae8762\",\"type\":\"CDSView\"}},\"id\":\"96686739-54da-401d-89ad-6c5648d42e1e\",\"type\":\"GlyphRenderer\"},{\"attributes\":{\"callback\":null},\"id\":\"b8ee8db1-7af8-49cd-a1e3-131ca4ce59eb\",\"type\":\"DataRange1d\"},{\"attributes\":{},\"id\":\"ba9ffb93-1ddc-4aba-a655-c04c7f930f14\",\"type\":\"WheelZoomTool\"},{\"attributes\":{\"active_drag\":\"auto\",\"active_inspect\":\"auto\",\"active_scroll\":\"auto\",\"active_tap\":\"auto\",\"tools\":[{\"id\":\"91b982ea-918c-4975-a0eb-abaa4581d0bd\",\"type\":\"PanTool\"},{\"id\":\"ba9ffb93-1ddc-4aba-a655-c04c7f930f14\",\"type\":\"WheelZoomTool\"},{\"id\":\"ba5a026b-bf5e-4377-9a24-bed41e0abfb0\",\"type\":\"BoxZoomTool\"},{\"id\":\"2ae15e1f-1e0c-48f3-9ff4-5a9286f54780\",\"type\":\"SaveTool\"},{\"id\":\"2c851cf4-1d91-4024-8b23-05ecc43cda58\",\"type\":\"ResetTool\"},{\"id\":\"f1ec5731-483a-4c12-8291-83db809f3a1c\",\"type\":\"HelpTool\"}]},\"id\":\"c66a38e1-c7c9-45e7-af6b-58ef56c87f5a\",\"type\":\"Toolbar\"},{\"attributes\":{\"overlay\":{\"id\":\"f265f898-0055-4ab0-8b26-a95d092e67dc\",\"type\":\"BoxAnnotation\"}},\"id\":\"ba5a026b-bf5e-4377-9a24-bed41e0abfb0\",\"type\":\"BoxZoomTool\"},{\"attributes\":{},\"id\":\"2ae15e1f-1e0c-48f3-9ff4-5a9286f54780\",\"type\":\"SaveTool\"},{\"attributes\":{\"callback\":null},\"id\":\"0c05b634-f4ab-45fe-b3d8-9f42c9f997a2\",\"type\":\"DataRange1d\"}],\"root_ids\":[\"2de2800f-c1ec-43d5-a166-6048fae5eed0\"]},\"title\":\"Bokeh Application\",\"version\":\"0.12.15\"}};\n",
       "  var render_items = [{\"docid\":\"fadca96e-f416-42cc-845e-ca24fb8df66b\",\"elementid\":\"707c026f-7641-423e-8580-f65bfb6ad69d\",\"modelid\":\"2de2800f-c1ec-43d5-a166-6048fae5eed0\",\"notebook_comms_target\":\"21812b2a-dbb8-4d0e-86a6-f96595e9abe6\"}];\n",
       "  root.Bokeh.embed.embed_items_notebook(docs_json, render_items);\n",
       "\n",
       "  }\n",
       "  if (root.Bokeh !== undefined) {\n",
       "    embed_document(root);\n",
       "  } else {\n",
       "    var attempts = 0;\n",
       "    var timer = setInterval(function(root) {\n",
       "      if (root.Bokeh !== undefined) {\n",
       "        embed_document(root);\n",
       "        clearInterval(timer);\n",
       "      }\n",
       "      attempts++;\n",
       "      if (attempts > 100) {\n",
       "        console.log(\"Bokeh: ERROR: Unable to run BokehJS code because BokehJS library is missing\")\n",
       "        clearInterval(timer);\n",
       "      }\n",
       "    }, 10, root)\n",
       "  }\n",
       "})(window);"
      ],
      "application/vnd.bokehjs_exec.v0+json": ""
     },
     "metadata": {
      "application/vnd.bokehjs_exec.v0+json": {
       "id": "2de2800f-c1ec-43d5-a166-6048fae5eed0"
      }
     },
     "output_type": "display_data"
    },
    {
     "name": "stdout",
     "output_type": "stream",
     "text": [
      "Epoch\n"
     ]
    },
    {
     "data": {
      "application/vnd.jupyter.widget-view+json": {
       "model_id": "e6439eccf440468cb1b1aa60f2893648",
       "version_major": 2,
       "version_minor": 0
      },
      "text/plain": [
       "HBox(children=(IntProgress(value=0), HTML(value='')))"
      ]
     },
     "metadata": {},
     "output_type": "display_data"
    },
    {
     "ename": "KeyboardInterrupt",
     "evalue": "",
     "output_type": "error",
     "traceback": [
      "\u001b[0;31m---------------------------------------------------------------------------\u001b[0m",
      "\u001b[0;31mKeyboardInterrupt\u001b[0m                         Traceback (most recent call last)",
      "\u001b[0;32m<ipython-input-20-4d1a5b1dffea>\u001b[0m in \u001b[0;36m<module>\u001b[0;34m()\u001b[0m\n\u001b[1;32m     91\u001b[0m \u001b[0;34m\u001b[0m\u001b[0m\n\u001b[1;32m     92\u001b[0m     \u001b[0;32mfor\u001b[0m \u001b[0m_\u001b[0m \u001b[0;32min\u001b[0m \u001b[0mrange\u001b[0m\u001b[0;34m(\u001b[0m\u001b[0mgen_size\u001b[0m\u001b[0;34m)\u001b[0m\u001b[0;34m:\u001b[0m\u001b[0;34m\u001b[0m\u001b[0m\n\u001b[0;32m---> 93\u001b[0;31m         \u001b[0my_hat_node\u001b[0m\u001b[0;34m,\u001b[0m \u001b[0my_hat_add\u001b[0m\u001b[0;34m,\u001b[0m \u001b[0my_hat_edge\u001b[0m\u001b[0;34m,\u001b[0m \u001b[0mnode\u001b[0m\u001b[0;34m,\u001b[0m \u001b[0medge\u001b[0m \u001b[0;34m=\u001b[0m \u001b[0mgenerator\u001b[0m\u001b[0;34m(\u001b[0m\u001b[0;34m)\u001b[0m\u001b[0;34m\u001b[0m\u001b[0m\n\u001b[0m\u001b[1;32m     94\u001b[0m         \u001b[0my_hat_node_batch\u001b[0m \u001b[0;34m=\u001b[0m \u001b[0mtorch\u001b[0m\u001b[0;34m.\u001b[0m\u001b[0mcat\u001b[0m\u001b[0;34m(\u001b[0m\u001b[0;34m(\u001b[0m\u001b[0my_hat_node_batch\u001b[0m\u001b[0;34m,\u001b[0m \u001b[0my_hat_node\u001b[0m\u001b[0;34m.\u001b[0m\u001b[0mview\u001b[0m\u001b[0;34m(\u001b[0m\u001b[0;36m1\u001b[0m\u001b[0;34m,\u001b[0m \u001b[0mN_Max_atom\u001b[0m\u001b[0;34m,\u001b[0m \u001b[0;34m-\u001b[0m\u001b[0;36m1\u001b[0m\u001b[0;34m)\u001b[0m\u001b[0;34m)\u001b[0m\u001b[0;34m,\u001b[0m \u001b[0;36m0\u001b[0m\u001b[0;34m)\u001b[0m\u001b[0;34m\u001b[0m\u001b[0m\n\u001b[1;32m     95\u001b[0m         \u001b[0my_hat_add_batch\u001b[0m \u001b[0;34m=\u001b[0m \u001b[0mtorch\u001b[0m\u001b[0;34m.\u001b[0m\u001b[0mcat\u001b[0m\u001b[0;34m(\u001b[0m\u001b[0;34m(\u001b[0m\u001b[0my_hat_add_batch\u001b[0m\u001b[0;34m,\u001b[0m \u001b[0my_hat_add\u001b[0m\u001b[0;34m.\u001b[0m\u001b[0mview\u001b[0m\u001b[0;34m(\u001b[0m\u001b[0;36m1\u001b[0m\u001b[0;34m,\u001b[0m \u001b[0;34m-\u001b[0m\u001b[0;36m1\u001b[0m\u001b[0;34m)\u001b[0m\u001b[0;34m)\u001b[0m\u001b[0;34m,\u001b[0m \u001b[0;36m0\u001b[0m\u001b[0;34m)\u001b[0m\u001b[0;34m\u001b[0m\u001b[0m\n",
      "\u001b[0;32m~/miniconda3/lib/python3.6/site-packages/torch/nn/modules/module.py\u001b[0m in \u001b[0;36m__call__\u001b[0;34m(self, *input, **kwargs)\u001b[0m\n\u001b[1;32m    489\u001b[0m             \u001b[0mresult\u001b[0m \u001b[0;34m=\u001b[0m \u001b[0mself\u001b[0m\u001b[0;34m.\u001b[0m\u001b[0m_slow_forward\u001b[0m\u001b[0;34m(\u001b[0m\u001b[0;34m*\u001b[0m\u001b[0minput\u001b[0m\u001b[0;34m,\u001b[0m \u001b[0;34m**\u001b[0m\u001b[0mkwargs\u001b[0m\u001b[0;34m)\u001b[0m\u001b[0;34m\u001b[0m\u001b[0m\n\u001b[1;32m    490\u001b[0m         \u001b[0;32melse\u001b[0m\u001b[0;34m:\u001b[0m\u001b[0;34m\u001b[0m\u001b[0m\n\u001b[0;32m--> 491\u001b[0;31m             \u001b[0mresult\u001b[0m \u001b[0;34m=\u001b[0m \u001b[0mself\u001b[0m\u001b[0;34m.\u001b[0m\u001b[0mforward\u001b[0m\u001b[0;34m(\u001b[0m\u001b[0;34m*\u001b[0m\u001b[0minput\u001b[0m\u001b[0;34m,\u001b[0m \u001b[0;34m**\u001b[0m\u001b[0mkwargs\u001b[0m\u001b[0;34m)\u001b[0m\u001b[0;34m\u001b[0m\u001b[0m\n\u001b[0m\u001b[1;32m    492\u001b[0m         \u001b[0;32mfor\u001b[0m \u001b[0mhook\u001b[0m \u001b[0;32min\u001b[0m \u001b[0mself\u001b[0m\u001b[0;34m.\u001b[0m\u001b[0m_forward_hooks\u001b[0m\u001b[0;34m.\u001b[0m\u001b[0mvalues\u001b[0m\u001b[0;34m(\u001b[0m\u001b[0;34m)\u001b[0m\u001b[0;34m:\u001b[0m\u001b[0;34m\u001b[0m\u001b[0m\n\u001b[1;32m    493\u001b[0m             \u001b[0mhook_result\u001b[0m \u001b[0;34m=\u001b[0m \u001b[0mhook\u001b[0m\u001b[0;34m(\u001b[0m\u001b[0mself\u001b[0m\u001b[0;34m,\u001b[0m \u001b[0minput\u001b[0m\u001b[0;34m,\u001b[0m \u001b[0mresult\u001b[0m\u001b[0;34m)\u001b[0m\u001b[0;34m\u001b[0m\u001b[0m\n",
      "\u001b[0;32m<ipython-input-2-f42225e0dd04>\u001b[0m in \u001b[0;36mforward\u001b[0;34m(self)\u001b[0m\n\u001b[1;32m    143\u001b[0m \u001b[0;34m\u001b[0m\u001b[0m\n\u001b[1;32m    144\u001b[0m \u001b[0;34m\u001b[0m\u001b[0m\n\u001b[0;32m--> 145\u001b[0;31m                 \u001b[0mh_G\u001b[0m \u001b[0;34m=\u001b[0m \u001b[0mself\u001b[0m\u001b[0;34m.\u001b[0m\u001b[0mprop_and_R\u001b[0m\u001b[0;34m(\u001b[0m\u001b[0mh_V\u001b[0m\u001b[0;34m,\u001b[0m \u001b[0memb_edge_candi\u001b[0m\u001b[0;34m,\u001b[0m \u001b[0madj\u001b[0m\u001b[0;34m,\u001b[0m \u001b[0mself\u001b[0m\u001b[0;34m.\u001b[0m\u001b[0mf_e_ae\u001b[0m\u001b[0;34m,\u001b[0m \u001b[0mself\u001b[0m\u001b[0;34m.\u001b[0m\u001b[0mf_n_ae\u001b[0m\u001b[0;34m,\u001b[0m \u001b[0mself\u001b[0m\u001b[0;34m.\u001b[0m\u001b[0mf_m_ae\u001b[0m\u001b[0;34m,\u001b[0m \u001b[0mself\u001b[0m\u001b[0;34m.\u001b[0m\u001b[0mg_m_ae\u001b[0m\u001b[0;34m)\u001b[0m\u001b[0;34m\u001b[0m\u001b[0m\n\u001b[0m\u001b[1;32m    146\u001b[0m \u001b[0;34m\u001b[0m\u001b[0m\n\u001b[1;32m    147\u001b[0m                 \u001b[0mp_addedge\u001b[0m \u001b[0;34m=\u001b[0m \u001b[0mF\u001b[0m\u001b[0;34m.\u001b[0m\u001b[0msoftmax\u001b[0m\u001b[0;34m(\u001b[0m\u001b[0mself\u001b[0m\u001b[0;34m.\u001b[0m\u001b[0mf_ae\u001b[0m\u001b[0;34m(\u001b[0m\u001b[0mself\u001b[0m\u001b[0;34m.\u001b[0m\u001b[0mdropout\u001b[0m\u001b[0;34m(\u001b[0m\u001b[0mh_G\u001b[0m\u001b[0;34m)\u001b[0m\u001b[0;34m)\u001b[0m\u001b[0;34m,\u001b[0m \u001b[0mdim\u001b[0m\u001b[0;34m=\u001b[0m\u001b[0;34m-\u001b[0m\u001b[0;36m1\u001b[0m\u001b[0;34m)\u001b[0m\u001b[0;34m\u001b[0m\u001b[0m\n",
      "\u001b[0;32m<ipython-input-2-f42225e0dd04>\u001b[0m in \u001b[0;36mprop_and_R\u001b[0;34m(self, h_V, emb, adj, f_e, f_n, f_m, g_m)\u001b[0m\n\u001b[1;32m    208\u001b[0m                         \u001b[0mx\u001b[0m \u001b[0;34m=\u001b[0m \u001b[0memb\u001b[0m\u001b[0;34m[\u001b[0m\u001b[0mt\u001b[0m\u001b[0;34m,\u001b[0m \u001b[0;34m:\u001b[0m\u001b[0mlen\u001b[0m\u001b[0;34m(\u001b[0m\u001b[0mh_u\u001b[0m\u001b[0;34m)\u001b[0m\u001b[0;34m]\u001b[0m\u001b[0;34m\u001b[0m\u001b[0m\n\u001b[1;32m    209\u001b[0m                         \u001b[0mm_u_v\u001b[0m \u001b[0;34m=\u001b[0m \u001b[0mtorch\u001b[0m\u001b[0;34m.\u001b[0m\u001b[0msum\u001b[0m\u001b[0;34m(\u001b[0m\u001b[0mf_e\u001b[0m\u001b[0;34m[\u001b[0m\u001b[0mT\u001b[0m\u001b[0;34m]\u001b[0m\u001b[0;34m(\u001b[0m\u001b[0mtorch\u001b[0m\u001b[0;34m.\u001b[0m\u001b[0mcat\u001b[0m\u001b[0;34m(\u001b[0m\u001b[0;34m(\u001b[0m\u001b[0mh_u\u001b[0m\u001b[0;34m,\u001b[0m \u001b[0mh_v\u001b[0m\u001b[0;34m,\u001b[0m \u001b[0mx\u001b[0m\u001b[0;34m)\u001b[0m\u001b[0;34m,\u001b[0m \u001b[0;36m1\u001b[0m\u001b[0;34m)\u001b[0m\u001b[0;34m)\u001b[0m\u001b[0;34m,\u001b[0m \u001b[0;36m0\u001b[0m\u001b[0;34m,\u001b[0m \u001b[0mkeepdim\u001b[0m\u001b[0;34m=\u001b[0m\u001b[0;32mTrue\u001b[0m\u001b[0;34m)\u001b[0m\u001b[0;34m\u001b[0m\u001b[0m\n\u001b[0;32m--> 210\u001b[0;31m                         \u001b[0mm_v_u\u001b[0m \u001b[0;34m=\u001b[0m \u001b[0mtorch\u001b[0m\u001b[0;34m.\u001b[0m\u001b[0msum\u001b[0m\u001b[0;34m(\u001b[0m\u001b[0mf_e\u001b[0m\u001b[0;34m[\u001b[0m\u001b[0mT\u001b[0m\u001b[0;34m]\u001b[0m\u001b[0;34m(\u001b[0m\u001b[0mtorch\u001b[0m\u001b[0;34m.\u001b[0m\u001b[0mcat\u001b[0m\u001b[0;34m(\u001b[0m\u001b[0;34m(\u001b[0m\u001b[0mh_u\u001b[0m\u001b[0;34m,\u001b[0m \u001b[0mh_v\u001b[0m\u001b[0;34m,\u001b[0m \u001b[0mx\u001b[0m\u001b[0;34m)\u001b[0m\u001b[0;34m,\u001b[0m \u001b[0;36m1\u001b[0m\u001b[0;34m)\u001b[0m\u001b[0;34m)\u001b[0m\u001b[0;34m,\u001b[0m \u001b[0;36m0\u001b[0m\u001b[0;34m,\u001b[0m \u001b[0mkeepdim\u001b[0m\u001b[0;34m=\u001b[0m\u001b[0;32mTrue\u001b[0m\u001b[0;34m)\u001b[0m\u001b[0;34m\u001b[0m\u001b[0m\n\u001b[0m\u001b[1;32m    211\u001b[0m \u001b[0;34m\u001b[0m\u001b[0m\n\u001b[1;32m    212\u001b[0m                         \u001b[0ma_v\u001b[0m \u001b[0;34m=\u001b[0m \u001b[0mm_u_v\u001b[0m \u001b[0;34m+\u001b[0m \u001b[0mm_v_u\u001b[0m\u001b[0;34m\u001b[0m\u001b[0m\n",
      "\u001b[0;32m~/miniconda3/lib/python3.6/site-packages/torch/nn/modules/module.py\u001b[0m in \u001b[0;36m__call__\u001b[0;34m(self, *input, **kwargs)\u001b[0m\n\u001b[1;32m    489\u001b[0m             \u001b[0mresult\u001b[0m \u001b[0;34m=\u001b[0m \u001b[0mself\u001b[0m\u001b[0;34m.\u001b[0m\u001b[0m_slow_forward\u001b[0m\u001b[0;34m(\u001b[0m\u001b[0;34m*\u001b[0m\u001b[0minput\u001b[0m\u001b[0;34m,\u001b[0m \u001b[0;34m**\u001b[0m\u001b[0mkwargs\u001b[0m\u001b[0;34m)\u001b[0m\u001b[0;34m\u001b[0m\u001b[0m\n\u001b[1;32m    490\u001b[0m         \u001b[0;32melse\u001b[0m\u001b[0;34m:\u001b[0m\u001b[0;34m\u001b[0m\u001b[0m\n\u001b[0;32m--> 491\u001b[0;31m             \u001b[0mresult\u001b[0m \u001b[0;34m=\u001b[0m \u001b[0mself\u001b[0m\u001b[0;34m.\u001b[0m\u001b[0mforward\u001b[0m\u001b[0;34m(\u001b[0m\u001b[0;34m*\u001b[0m\u001b[0minput\u001b[0m\u001b[0;34m,\u001b[0m \u001b[0;34m**\u001b[0m\u001b[0mkwargs\u001b[0m\u001b[0;34m)\u001b[0m\u001b[0;34m\u001b[0m\u001b[0m\n\u001b[0m\u001b[1;32m    492\u001b[0m         \u001b[0;32mfor\u001b[0m \u001b[0mhook\u001b[0m \u001b[0;32min\u001b[0m \u001b[0mself\u001b[0m\u001b[0;34m.\u001b[0m\u001b[0m_forward_hooks\u001b[0m\u001b[0;34m.\u001b[0m\u001b[0mvalues\u001b[0m\u001b[0;34m(\u001b[0m\u001b[0;34m)\u001b[0m\u001b[0;34m:\u001b[0m\u001b[0;34m\u001b[0m\u001b[0m\n\u001b[1;32m    493\u001b[0m             \u001b[0mhook_result\u001b[0m \u001b[0;34m=\u001b[0m \u001b[0mhook\u001b[0m\u001b[0;34m(\u001b[0m\u001b[0mself\u001b[0m\u001b[0;34m,\u001b[0m \u001b[0minput\u001b[0m\u001b[0;34m,\u001b[0m \u001b[0mresult\u001b[0m\u001b[0;34m)\u001b[0m\u001b[0;34m\u001b[0m\u001b[0m\n",
      "\u001b[0;32m~/miniconda3/lib/python3.6/site-packages/torch/nn/modules/linear.py\u001b[0m in \u001b[0;36mforward\u001b[0;34m(self, input)\u001b[0m\n\u001b[1;32m     53\u001b[0m \u001b[0;34m\u001b[0m\u001b[0m\n\u001b[1;32m     54\u001b[0m     \u001b[0;32mdef\u001b[0m \u001b[0mforward\u001b[0m\u001b[0;34m(\u001b[0m\u001b[0mself\u001b[0m\u001b[0;34m,\u001b[0m \u001b[0minput\u001b[0m\u001b[0;34m)\u001b[0m\u001b[0;34m:\u001b[0m\u001b[0;34m\u001b[0m\u001b[0m\n\u001b[0;32m---> 55\u001b[0;31m         \u001b[0;32mreturn\u001b[0m \u001b[0mF\u001b[0m\u001b[0;34m.\u001b[0m\u001b[0mlinear\u001b[0m\u001b[0;34m(\u001b[0m\u001b[0minput\u001b[0m\u001b[0;34m,\u001b[0m \u001b[0mself\u001b[0m\u001b[0;34m.\u001b[0m\u001b[0mweight\u001b[0m\u001b[0;34m,\u001b[0m \u001b[0mself\u001b[0m\u001b[0;34m.\u001b[0m\u001b[0mbias\u001b[0m\u001b[0;34m)\u001b[0m\u001b[0;34m\u001b[0m\u001b[0m\n\u001b[0m\u001b[1;32m     56\u001b[0m \u001b[0;34m\u001b[0m\u001b[0m\n\u001b[1;32m     57\u001b[0m     \u001b[0;32mdef\u001b[0m \u001b[0mextra_repr\u001b[0m\u001b[0;34m(\u001b[0m\u001b[0mself\u001b[0m\u001b[0;34m)\u001b[0m\u001b[0;34m:\u001b[0m\u001b[0;34m\u001b[0m\u001b[0m\n",
      "\u001b[0;32m~/miniconda3/lib/python3.6/site-packages/torch/nn/functional.py\u001b[0m in \u001b[0;36mlinear\u001b[0;34m(input, weight, bias)\u001b[0m\n\u001b[1;32m    990\u001b[0m     \u001b[0;32mif\u001b[0m \u001b[0minput\u001b[0m\u001b[0;34m.\u001b[0m\u001b[0mdim\u001b[0m\u001b[0;34m(\u001b[0m\u001b[0;34m)\u001b[0m \u001b[0;34m==\u001b[0m \u001b[0;36m2\u001b[0m \u001b[0;32mand\u001b[0m \u001b[0mbias\u001b[0m \u001b[0;32mis\u001b[0m \u001b[0;32mnot\u001b[0m \u001b[0;32mNone\u001b[0m\u001b[0;34m:\u001b[0m\u001b[0;34m\u001b[0m\u001b[0m\n\u001b[1;32m    991\u001b[0m         \u001b[0;31m# fused op is marginally faster\u001b[0m\u001b[0;34m\u001b[0m\u001b[0;34m\u001b[0m\u001b[0m\n\u001b[0;32m--> 992\u001b[0;31m         \u001b[0;32mreturn\u001b[0m \u001b[0mtorch\u001b[0m\u001b[0;34m.\u001b[0m\u001b[0maddmm\u001b[0m\u001b[0;34m(\u001b[0m\u001b[0mbias\u001b[0m\u001b[0;34m,\u001b[0m \u001b[0minput\u001b[0m\u001b[0;34m,\u001b[0m \u001b[0mweight\u001b[0m\u001b[0;34m.\u001b[0m\u001b[0mt\u001b[0m\u001b[0;34m(\u001b[0m\u001b[0;34m)\u001b[0m\u001b[0;34m)\u001b[0m\u001b[0;34m\u001b[0m\u001b[0m\n\u001b[0m\u001b[1;32m    993\u001b[0m \u001b[0;34m\u001b[0m\u001b[0m\n\u001b[1;32m    994\u001b[0m     \u001b[0moutput\u001b[0m \u001b[0;34m=\u001b[0m \u001b[0minput\u001b[0m\u001b[0;34m.\u001b[0m\u001b[0mmatmul\u001b[0m\u001b[0;34m(\u001b[0m\u001b[0mweight\u001b[0m\u001b[0;34m.\u001b[0m\u001b[0mt\u001b[0m\u001b[0;34m(\u001b[0m\u001b[0;34m)\u001b[0m\u001b[0;34m)\u001b[0m\u001b[0;34m\u001b[0m\u001b[0m\n",
      "\u001b[0;31mKeyboardInterrupt\u001b[0m: "
     ]
    }
   ],
   "source": [
    "#Log\n",
    "\n",
    "train_logs = []\n",
    "rates_logs = []\n",
    "#Plotting\n",
    "\n",
    "source_train = ColumnDataSource(data=dict(epoch=[], loss=[]))\n",
    "source_rates = ColumnDataSource(data=dict(epoch=[], rates=[]))\n",
    "settings = dict(plot_width=480, plot_height=430, min_border=0)\n",
    "p = figure(title=\"Loss\", x_axis_label=\"epoch\", y_axis_label=\"Loss\", **settings)\n",
    "p.line(x='epoch', y='loss', source=source_train)\n",
    "p2 = figure(title=\"Generation Valid Rate\", x_axis_label=\"epoch\", y_axis_label=\"Valid rate\", **settings)\n",
    "p2.line(x='epoch', y='rates', source=source_rates, color=\"orange\")\n",
    "\n",
    "t = show(p, notebook_handle=True)\n",
    "t2 = show(p2, notebook_handle=True)\n",
    "#Config\n",
    "\n",
    "train = h5py.File('./zinc.hdf5', 'r')\n",
    "generator.train()\n",
    "train_x = train['atom']\n",
    "batch_num = len(train_x) // batch_size\n",
    "\n",
    "optimizer = optim.Adam(generator.parameters(), lr=0.0001)  # you can change learning rate.\n",
    "print('Epoch')\n",
    "for epoch in tqdm(range(0, epoch_num)): # you can change a number of epoch.\n",
    "    \n",
    "    #Training\n",
    "    for batch in tqdm(range(0, batch_num)):\n",
    "        \n",
    "        start = batch*batch_size\n",
    "        end = batch*batch_size + batch_size\n",
    "        \n",
    "        target_node = torch.from_numpy(train['atom'][start:end]).view(-1, N_Max_atom, 1+len(parts[0])).float()\n",
    "        target_add = torch.from_numpy(train['add'][start:end]).view(-1, N_Max_atom).float()\n",
    "        target_edge = torch.from_numpy(train['bond'][start:end]).view(-1, N_Max_hand*N_Max_atom, N_Max_atom*len(parts[1])).float()\n",
    "        \n",
    "        if use_cuda:\n",
    "            target_node = target_node.cuda()\n",
    "            target_add = target_add.cuda()\n",
    "            target_edge = target_edge.cuda()\n",
    "            \n",
    "        y_hat_node_batch = tensor([])\n",
    "        y_hat_add_batch = tensor([])\n",
    "        y_hat_edge_batch = tensor([])\n",
    "        node_batch = []\n",
    "        edge_batch = []\n",
    "        for _ in range(batch_size):\n",
    "            y_hat_node, y_hat_add, y_hat_edge, node, edge = generator()\n",
    "            y_hat_node_batch = torch.cat((y_hat_node_batch, y_hat_node.view(1, N_Max_atom, -1)), 0)\n",
    "            y_hat_add_batch = torch.cat((y_hat_add_batch, y_hat_add.view(1, -1)), 0)\n",
    "            y_hat_edge_batch = torch.cat((y_hat_edge_batch, y_hat_edge.view(1, N_Max_hand*N_Max_atom, -1)), 0)\n",
    "            node_batch.append(node.tolist())\n",
    "            edge_batch.append(edge)\n",
    "        \n",
    "        loss_node = criterion(y_hat_node_batch, target_node)\n",
    "        loss_add = criterion(y_hat_add_batch, target_add)\n",
    "        loss_edge = criterion(y_hat_edge_batch, target_edge)\n",
    "        \n",
    "        loss = loss_node + loss_add + loss_edge\n",
    "        \n",
    "        try:\n",
    "            loss.backward()\n",
    "            optimizer.step()\n",
    "        except RuntimeError:\n",
    "            pass\n",
    "        \n",
    "        generator.zero_grad()\n",
    "        \n",
    "        if use_cuda:\n",
    "            loss = loss.cpu()\n",
    "        \n",
    "        new_data_train = {'epoch' : [epoch*batch_num + batch], 'loss' : [loss.detach().numpy()]}\n",
    "        new_data_train_df = {'epoch' : epoch*batch_num * batch, 'loss' : loss.detach().numpy()}\n",
    "        \n",
    "        source_train.stream(new_data_train)\n",
    "        \n",
    "        train_logs.append(new_data_train_df)\n",
    "        df_train = pd.DataFrame(train_logs)\n",
    "        df_train.to_csv(\"./train_logs.csv\", index=False)\n",
    "        \n",
    "        push_notebook(handle=t)\n",
    "        \n",
    "    #Generation\n",
    "\n",
    "    y_hat_node_batch = tensor([])\n",
    "    y_hat_add_batch = tensor([])\n",
    "    y_hat_edge_batch = tensor([])\n",
    "    node_batch = []\n",
    "    edge_batch = []\n",
    "    \n",
    "    for _ in range(gen_size):\n",
    "        y_hat_node, y_hat_add, y_hat_edge, node, edge = generator()\n",
    "        y_hat_node_batch = torch.cat((y_hat_node_batch, y_hat_node.view(1, N_Max_atom, -1)), 0)\n",
    "        y_hat_add_batch = torch.cat((y_hat_add_batch, y_hat_add.view(1, -1)), 0)\n",
    "        y_hat_edge_batch = torch.cat((y_hat_edge_batch, y_hat_edge.view(1, N_Max_hand*N_Max_atom, -1)), 0)\n",
    "        node_batch.append(node.tolist())\n",
    "        edge_batch.append(edge)\n",
    "\n",
    "    mols, smiles, valid_rate, failures = write_mol(node_batch, edge_batch, gen_size)\n",
    "        \n",
    "    new_data_rates = {'epoch' : [epoch*batch_num + batch], 'rates' : [valid_rate]}\n",
    "    new_data_rates_df = {'epoch' : epoch*batch_num + batch, 'rates' : valid_rate}\n",
    "        \n",
    "    source_rates.stream(new_data_rates)\n",
    "        \n",
    "    rates_logs.append(new_data_rates_df)\n",
    "    df_rates = pd.DataFrame(rates_logs)\n",
    "    df_rates.to_csv(\"./rates_logs.csv\", index=False)\n",
    "    \n",
    "    push_notebook(handle=t2)\n",
    "    \n",
    "    #Write generated mols per epoch\n",
    "    \n",
    "    ''' To Do\n",
    "    writer = Chem.SDWriter(f'./mols/epoch{epoch}.sdf')\n",
    "    for mol in mols:\n",
    "        writer.write(mol)\n",
    "    writer.close()\n",
    "    '''\n",
    "    \n",
    "    #Save model\n",
    "    \n",
    "    torch.save(generator.state_dict(), f'./models/epoch{0}.pth')\n",
    "        \n",
    "clear_output()\n",
    "\n",
    "train_logs = pd.read_csv('./train_logs.csv')\n",
    "\n",
    "source_train = ColumnDataSource(train_logs)\n",
    "\n",
    "t = show(column(p, p2), notebook_handle=True)\n",
    "\n",
    "train.flush()\n",
    "train.close()\n",
    "\n",
    "print(\"Done\")"
   ]
  },
  {
   "cell_type": "markdown",
   "metadata": {},
   "source": [
    "# Generation Graph\n",
    "    You can change gen_size for the number of generating graph."
   ]
  },
  {
   "cell_type": "code",
   "execution_count": 13,
   "metadata": {},
   "outputs": [
    {
     "name": "stdout",
     "output_type": "stream",
     "text": [
      "Generation\n"
     ]
    },
    {
     "data": {
      "application/vnd.jupyter.widget-view+json": {
       "model_id": "72785f331d9144678334f6022179a275",
       "version_major": 2,
       "version_minor": 0
      },
      "text/plain": [
       "HBox(children=(IntProgress(value=0, max=10), HTML(value='')))"
      ]
     },
     "metadata": {},
     "output_type": "display_data"
    }
   ],
   "source": [
    "gen_size = 10\n",
    "\n",
    "y_hat_node_batch = tensor([])\n",
    "y_hat_add_batch = tensor([])\n",
    "y_hat_edge_batch = tensor([])\n",
    "node_batch = []\n",
    "edge_batch = []\n",
    "print('Generation')\n",
    "for _ in tqdm(range(gen_size)):\n",
    "        y_hat_node, y_hat_add, y_hat_edge, node, edge = generator()\n",
    "        y_hat_node_batch = torch.cat((y_hat_node_batch, y_hat_node.view(1, N_Max_atom, -1)), 0)\n",
    "        y_hat_add_batch = torch.cat((y_hat_add_batch, y_hat_add.view(1, -1)), 0)\n",
    "        y_hat_edge_batch = torch.cat((y_hat_edge_batch, y_hat_edge.view(1, N_Max_hand*N_Max_atom, -1)), 0)\n",
    "        node_batch.append(node.tolist())\n",
    "        edge_batch.append(edge)\n",
    "    \n",
    "mols_gen, smiles_gen, valid_rate_gen, failures = write_mol(node_batch, edge_batch, gen_size)"
   ]
  },
  {
   "cell_type": "markdown",
   "metadata": {},
   "source": [
    "# Show Generated Graph\n",
    "    You can change index number (0 <= index <= len(mols_gen))"
   ]
  },
  {
   "cell_type": "code",
   "execution_count": 14,
   "metadata": {},
   "outputs": [
    {
     "data": {
      "text/plain": [
       "0"
      ]
     },
     "execution_count": 14,
     "metadata": {},
     "output_type": "execute_result"
    }
   ],
   "source": [
    "len(mols_gen)"
   ]
  },
  {
   "cell_type": "code",
   "execution_count": 53,
   "metadata": {
    "scrolled": false
   },
   "outputs": [
    {
     "ename": "IndexError",
     "evalue": "list index out of range",
     "output_type": "error",
     "traceback": [
      "\u001b[0;31m---------------------------------------------------------------------------\u001b[0m",
      "\u001b[0;31mIndexError\u001b[0m                                Traceback (most recent call last)",
      "\u001b[0;32m<ipython-input-53-bca49b409f9b>\u001b[0m in \u001b[0;36m<module>\u001b[0;34m()\u001b[0m\n\u001b[1;32m      1\u001b[0m \u001b[0mindex\u001b[0m \u001b[0;34m=\u001b[0m \u001b[0;36m0\u001b[0m\u001b[0;34m\u001b[0m\u001b[0m\n\u001b[0;32m----> 2\u001b[0;31m \u001b[0mSVG\u001b[0m\u001b[0;34m(\u001b[0m\u001b[0mmoltosvg\u001b[0m\u001b[0;34m(\u001b[0m\u001b[0mmols_gen\u001b[0m\u001b[0;34m[\u001b[0m\u001b[0mindex\u001b[0m\u001b[0;34m]\u001b[0m\u001b[0;34m,\u001b[0m \u001b[0mmolSize\u001b[0m\u001b[0;34m=\u001b[0m\u001b[0;34m(\u001b[0m\u001b[0;36m300\u001b[0m\u001b[0;34m,\u001b[0m\u001b[0;36m300\u001b[0m\u001b[0;34m)\u001b[0m\u001b[0;34m,\u001b[0m \u001b[0mindex\u001b[0m\u001b[0;34m=\u001b[0m\u001b[0;32mFalse\u001b[0m\u001b[0;34m)\u001b[0m\u001b[0;34m)\u001b[0m\u001b[0;34m\u001b[0m\u001b[0m\n\u001b[0m",
      "\u001b[0;31mIndexError\u001b[0m: list index out of range"
     ]
    }
   ],
   "source": [
    "index = 0\n",
    "SVG(moltosvg(mols_gen[index], molSize=(300,300), index=False))"
   ]
  },
  {
   "cell_type": "markdown",
   "metadata": {},
   "source": [
    "# Show Plot"
   ]
  },
  {
   "cell_type": "code",
   "execution_count": 15,
   "metadata": {
    "scrolled": false
   },
   "outputs": [
    {
     "data": {
      "text/html": [
       "\n",
       "<div class=\"bk-root\">\n",
       "    <div class=\"bk-plotdiv\" id=\"3a26d1e3-9b2c-448d-850e-74928f48eccc\"></div>\n",
       "</div>"
      ]
     },
     "metadata": {},
     "output_type": "display_data"
    },
    {
     "data": {
      "application/javascript": [
       "(function(root) {\n",
       "  function embed_document(root) {\n",
       "    \n",
       "  var docs_json = {\"be6f45e7-176c-416e-ba38-51bb6db8551c\":{\"roots\":{\"references\":[{\"attributes\":{},\"id\":\"2a17a2dd-3b71-49b5-a366-8e28152ea8cd\",\"type\":\"BasicTicker\"},{\"attributes\":{\"dimension\":1,\"plot\":{\"id\":\"1c53b81f-e7d8-4881-917b-7c632fe8fc03\",\"subtype\":\"Figure\",\"type\":\"Plot\"},\"ticker\":{\"id\":\"2a17a2dd-3b71-49b5-a366-8e28152ea8cd\",\"type\":\"BasicTicker\"}},\"id\":\"d95d183f-c63e-4299-bce5-650a38fa4e05\",\"type\":\"Grid\"},{\"attributes\":{\"line_color\":\"#1f77b4\",\"x\":{\"field\":\"epoch\"},\"y\":{\"field\":\"loss\"}},\"id\":\"6d53c2c7-254f-44b6-9f73-dc10a79dac32\",\"type\":\"Line\"},{\"attributes\":{\"active_drag\":\"auto\",\"active_inspect\":\"auto\",\"active_scroll\":\"auto\",\"active_tap\":\"auto\",\"tools\":[{\"id\":\"7e8d7be6-7a21-4fda-88de-6d66d222b27e\",\"type\":\"PanTool\"},{\"id\":\"e67ed3b3-49e7-433b-a6f3-fba326bb8a75\",\"type\":\"WheelZoomTool\"},{\"id\":\"8306adcb-67fe-4c02-9cf2-7d1fbd495ac1\",\"type\":\"BoxZoomTool\"},{\"id\":\"6acc557f-2ccf-4822-995b-21ef0153b7a1\",\"type\":\"SaveTool\"},{\"id\":\"900ab9f8-67c9-4b70-90ac-450fc6a19dfc\",\"type\":\"ResetTool\"},{\"id\":\"96daac5e-bb3f-425d-98b0-27a25568f81d\",\"type\":\"HelpTool\"}]},\"id\":\"0ebcf0bc-7daf-431a-b9e5-c38d759e756f\",\"type\":\"Toolbar\"},{\"attributes\":{\"axis_label\":\"epoch\",\"formatter\":{\"id\":\"4149bc73-dd2c-4f51-a781-4e641266f966\",\"type\":\"BasicTickFormatter\"},\"plot\":{\"id\":\"1c53b81f-e7d8-4881-917b-7c632fe8fc03\",\"subtype\":\"Figure\",\"type\":\"Plot\"},\"ticker\":{\"id\":\"0a17b2cc-9527-48cd-9d00-c8312bbd6aa7\",\"type\":\"BasicTicker\"}},\"id\":\"77d2f075-9ad4-4b4e-8017-27d312e7cadf\",\"type\":\"LinearAxis\"},{\"attributes\":{\"callback\":null},\"id\":\"6a278cf4-2994-417d-bad2-7159a4502098\",\"type\":\"DataRange1d\"},{\"attributes\":{},\"id\":\"0a17b2cc-9527-48cd-9d00-c8312bbd6aa7\",\"type\":\"BasicTicker\"},{\"attributes\":{\"bottom_units\":\"screen\",\"fill_alpha\":{\"value\":0.5},\"fill_color\":{\"value\":\"lightgrey\"},\"left_units\":\"screen\",\"level\":\"overlay\",\"line_alpha\":{\"value\":1.0},\"line_color\":{\"value\":\"black\"},\"line_dash\":[4,4],\"line_width\":{\"value\":2},\"plot\":null,\"render_mode\":\"css\",\"right_units\":\"screen\",\"top_units\":\"screen\"},\"id\":\"5c839061-dea4-4d59-9ea6-1c1332af1db0\",\"type\":\"BoxAnnotation\"},{\"attributes\":{\"callback\":null,\"column_names\":[\"epoch\",\"loss\",\"rates\",\"index\"],\"data\":{\"epoch\":[0],\"index\":[0],\"loss\":{\"__ndarray__\":\"GkNK/QZnGUA=\",\"dtype\":\"float64\",\"shape\":[1]},\"rates\":{\"__ndarray__\":\"AAAAAAAAAAA=\",\"dtype\":\"float64\",\"shape\":[1]}},\"selected\":null,\"selection_policy\":null},\"id\":\"dfc372ac-d432-4ccc-9ce4-335133c296d5\",\"type\":\"ColumnDataSource\"},{\"attributes\":{\"source\":{\"id\":\"dfc372ac-d432-4ccc-9ce4-335133c296d5\",\"type\":\"ColumnDataSource\"}},\"id\":\"605399af-9d4a-41d4-9b25-6dfc78a674c9\",\"type\":\"CDSView\"},{\"attributes\":{},\"id\":\"ded348c5-4b2d-43dc-91ed-b7d24b6201c2\",\"type\":\"LinearScale\"},{\"attributes\":{},\"id\":\"583ce5d2-c7ee-4613-bfb6-fd51e6e91861\",\"type\":\"LinearScale\"},{\"attributes\":{},\"id\":\"6acc557f-2ccf-4822-995b-21ef0153b7a1\",\"type\":\"SaveTool\"},{\"attributes\":{\"line_alpha\":0.1,\"line_color\":\"#1f77b4\",\"x\":{\"field\":\"epoch\"},\"y\":{\"field\":\"loss\"}},\"id\":\"327f7a2a-9a12-4d68-adf2-4717806811a6\",\"type\":\"Line\"},{\"attributes\":{},\"id\":\"900ab9f8-67c9-4b70-90ac-450fc6a19dfc\",\"type\":\"ResetTool\"},{\"attributes\":{\"data_source\":{\"id\":\"dfc372ac-d432-4ccc-9ce4-335133c296d5\",\"type\":\"ColumnDataSource\"},\"glyph\":{\"id\":\"6d53c2c7-254f-44b6-9f73-dc10a79dac32\",\"type\":\"Line\"},\"hover_glyph\":null,\"muted_glyph\":null,\"nonselection_glyph\":{\"id\":\"327f7a2a-9a12-4d68-adf2-4717806811a6\",\"type\":\"Line\"},\"selection_glyph\":null,\"view\":{\"id\":\"605399af-9d4a-41d4-9b25-6dfc78a674c9\",\"type\":\"CDSView\"}},\"id\":\"770fb384-0d3b-489e-9dbc-d7ca3624785d\",\"type\":\"GlyphRenderer\"},{\"attributes\":{\"items\":[{\"id\":\"fd1bfaa8-7339-485d-8b43-6658675c93a5\",\"type\":\"LegendItem\"}],\"plot\":{\"id\":\"1c53b81f-e7d8-4881-917b-7c632fe8fc03\",\"subtype\":\"Figure\",\"type\":\"Plot\"}},\"id\":\"bf0aacaa-c447-423d-a0c6-abeb377558e2\",\"type\":\"Legend\"},{\"attributes\":{},\"id\":\"ee00a976-f8e8-4768-8c39-d235eb4340fb\",\"type\":\"BasicTickFormatter\"},{\"attributes\":{},\"id\":\"e67ed3b3-49e7-433b-a6f3-fba326bb8a75\",\"type\":\"WheelZoomTool\"},{\"attributes\":{\"overlay\":{\"id\":\"5c839061-dea4-4d59-9ea6-1c1332af1db0\",\"type\":\"BoxAnnotation\"}},\"id\":\"8306adcb-67fe-4c02-9cf2-7d1fbd495ac1\",\"type\":\"BoxZoomTool\"},{\"attributes\":{\"plot\":{\"id\":\"1c53b81f-e7d8-4881-917b-7c632fe8fc03\",\"subtype\":\"Figure\",\"type\":\"Plot\"},\"ticker\":{\"id\":\"0a17b2cc-9527-48cd-9d00-c8312bbd6aa7\",\"type\":\"BasicTicker\"}},\"id\":\"80d07285-7c7e-427b-82f5-9c185c0fd60b\",\"type\":\"Grid\"},{\"attributes\":{\"below\":[{\"id\":\"77d2f075-9ad4-4b4e-8017-27d312e7cadf\",\"type\":\"LinearAxis\"}],\"left\":[{\"id\":\"12b331fb-060b-493f-af8a-2d0c4bf32768\",\"type\":\"LinearAxis\"}],\"min_border\":0,\"plot_height\":430,\"plot_width\":480,\"renderers\":[{\"id\":\"77d2f075-9ad4-4b4e-8017-27d312e7cadf\",\"type\":\"LinearAxis\"},{\"id\":\"80d07285-7c7e-427b-82f5-9c185c0fd60b\",\"type\":\"Grid\"},{\"id\":\"12b331fb-060b-493f-af8a-2d0c4bf32768\",\"type\":\"LinearAxis\"},{\"id\":\"d95d183f-c63e-4299-bce5-650a38fa4e05\",\"type\":\"Grid\"},{\"id\":\"5c839061-dea4-4d59-9ea6-1c1332af1db0\",\"type\":\"BoxAnnotation\"},{\"id\":\"bf0aacaa-c447-423d-a0c6-abeb377558e2\",\"type\":\"Legend\"},{\"id\":\"770fb384-0d3b-489e-9dbc-d7ca3624785d\",\"type\":\"GlyphRenderer\"}],\"title\":{\"id\":\"8ac3368c-5bff-49a7-8049-ea9123523725\",\"type\":\"Title\"},\"toolbar\":{\"id\":\"0ebcf0bc-7daf-431a-b9e5-c38d759e756f\",\"type\":\"Toolbar\"},\"x_range\":{\"id\":\"15791999-16dd-4f3b-bc32-20a5884c0790\",\"type\":\"DataRange1d\"},\"x_scale\":{\"id\":\"ded348c5-4b2d-43dc-91ed-b7d24b6201c2\",\"type\":\"LinearScale\"},\"y_range\":{\"id\":\"6a278cf4-2994-417d-bad2-7159a4502098\",\"type\":\"DataRange1d\"},\"y_scale\":{\"id\":\"583ce5d2-c7ee-4613-bfb6-fd51e6e91861\",\"type\":\"LinearScale\"}},\"id\":\"1c53b81f-e7d8-4881-917b-7c632fe8fc03\",\"subtype\":\"Figure\",\"type\":\"Plot\"},{\"attributes\":{},\"id\":\"96daac5e-bb3f-425d-98b0-27a25568f81d\",\"type\":\"HelpTool\"},{\"attributes\":{},\"id\":\"7e8d7be6-7a21-4fda-88de-6d66d222b27e\",\"type\":\"PanTool\"},{\"attributes\":{\"label\":{\"value\":\"Train\"},\"renderers\":[{\"id\":\"770fb384-0d3b-489e-9dbc-d7ca3624785d\",\"type\":\"GlyphRenderer\"}]},\"id\":\"fd1bfaa8-7339-485d-8b43-6658675c93a5\",\"type\":\"LegendItem\"},{\"attributes\":{\"plot\":null,\"text\":\"Binary Cross Entropy Loss with Sigmoid Layer\"},\"id\":\"8ac3368c-5bff-49a7-8049-ea9123523725\",\"type\":\"Title\"},{\"attributes\":{},\"id\":\"4149bc73-dd2c-4f51-a781-4e641266f966\",\"type\":\"BasicTickFormatter\"},{\"attributes\":{\"axis_label\":\"Loss\",\"formatter\":{\"id\":\"ee00a976-f8e8-4768-8c39-d235eb4340fb\",\"type\":\"BasicTickFormatter\"},\"plot\":{\"id\":\"1c53b81f-e7d8-4881-917b-7c632fe8fc03\",\"subtype\":\"Figure\",\"type\":\"Plot\"},\"ticker\":{\"id\":\"2a17a2dd-3b71-49b5-a366-8e28152ea8cd\",\"type\":\"BasicTicker\"}},\"id\":\"12b331fb-060b-493f-af8a-2d0c4bf32768\",\"type\":\"LinearAxis\"},{\"attributes\":{\"callback\":null},\"id\":\"15791999-16dd-4f3b-bc32-20a5884c0790\",\"type\":\"DataRange1d\"}],\"root_ids\":[\"1c53b81f-e7d8-4881-917b-7c632fe8fc03\"]},\"title\":\"Bokeh Application\",\"version\":\"0.12.15\"}};\n",
       "  var render_items = [{\"docid\":\"be6f45e7-176c-416e-ba38-51bb6db8551c\",\"elementid\":\"3a26d1e3-9b2c-448d-850e-74928f48eccc\",\"modelid\":\"1c53b81f-e7d8-4881-917b-7c632fe8fc03\",\"notebook_comms_target\":\"afa94242-7f53-496f-a144-80e32035b7a3\"}];\n",
       "  root.Bokeh.embed.embed_items_notebook(docs_json, render_items);\n",
       "\n",
       "  }\n",
       "  if (root.Bokeh !== undefined) {\n",
       "    embed_document(root);\n",
       "  } else {\n",
       "    var attempts = 0;\n",
       "    var timer = setInterval(function(root) {\n",
       "      if (root.Bokeh !== undefined) {\n",
       "        embed_document(root);\n",
       "        clearInterval(timer);\n",
       "      }\n",
       "      attempts++;\n",
       "      if (attempts > 100) {\n",
       "        console.log(\"Bokeh: ERROR: Unable to run BokehJS code because BokehJS library is missing\")\n",
       "        clearInterval(timer);\n",
       "      }\n",
       "    }, 10, root)\n",
       "  }\n",
       "})(window);"
      ],
      "application/vnd.bokehjs_exec.v0+json": ""
     },
     "metadata": {
      "application/vnd.bokehjs_exec.v0+json": {
       "id": "1c53b81f-e7d8-4881-917b-7c632fe8fc03"
      }
     },
     "output_type": "display_data"
    }
   ],
   "source": [
    "train_logs = pd.read_csv('./train_logs.csv')\n",
    "\n",
    "source_train = ColumnDataSource(train_logs)\n",
    "settings = dict(plot_width=480, plot_height=430, min_border=0)\n",
    "p = figure(title=\"Binary Cross Entropy Loss with Sigmoid Layer\", x_axis_label=\"epoch\",y_axis_label=\"Loss\", **settings)\n",
    "p.line(x='epoch', y='loss', source=source_train, legend=\"Train\")\n",
    "\n",
    "draw = show(p, notebook_handle=True)"
   ]
  },
  {
   "cell_type": "markdown",
   "metadata": {},
   "source": [
    "# Find Optim Learning rate. (Option)\n",
    "    Choice the learning rate before increasing loss."
   ]
  },
  {
   "cell_type": "code",
   "execution_count": 23,
   "metadata": {
    "scrolled": false
   },
   "outputs": [
    {
     "data": {
      "text/html": [
       "\n",
       "<div class=\"bk-root\">\n",
       "    <div class=\"bk-plotdiv\" id=\"201cdd69-b8d3-454b-9abd-9c4a73611e0c\"></div>\n",
       "</div>"
      ]
     },
     "metadata": {},
     "output_type": "display_data"
    },
    {
     "data": {
      "application/javascript": [
       "(function(root) {\n",
       "  function embed_document(root) {\n",
       "    \n",
       "  var docs_json = {\"ba56ae42-47c0-416c-884a-25250fc7ebd5\":{\"roots\":{\"references\":[{\"attributes\":{\"callback\":null},\"id\":\"9c2f6a3a-2590-432f-bcad-0ed5ffa968d9\",\"type\":\"DataRange1d\"},{\"attributes\":{},\"id\":\"3c4bb2bd-3643-4d02-a182-ee7c552adf1b\",\"type\":\"LinearScale\"},{\"attributes\":{\"bottom_units\":\"screen\",\"fill_alpha\":{\"value\":0.5},\"fill_color\":{\"value\":\"lightgrey\"},\"left_units\":\"screen\",\"level\":\"overlay\",\"line_alpha\":{\"value\":1.0},\"line_color\":{\"value\":\"black\"},\"line_dash\":[4,4],\"line_width\":{\"value\":2},\"plot\":null,\"render_mode\":\"css\",\"right_units\":\"screen\",\"top_units\":\"screen\"},\"id\":\"e03e800b-0a04-43a4-84e8-a21159fdba15\",\"type\":\"BoxAnnotation\"},{\"attributes\":{\"plot\":{\"id\":\"4e5a2850-7465-46e8-8093-520362c70f2c\",\"subtype\":\"Figure\",\"type\":\"Plot\"},\"ticker\":{\"id\":\"a9b5a184-c3f0-4e65-a154-852ac74c548d\",\"type\":\"BasicTicker\"}},\"id\":\"3045fa0e-3fe4-4335-8223-09cbbd6756a6\",\"type\":\"Grid\"},{\"attributes\":{},\"id\":\"1ef5c48f-d422-47d9-a2b0-fcb9cf2c3e0e\",\"type\":\"PanTool\"},{\"attributes\":{\"axis_label\":\"epoch\",\"formatter\":{\"id\":\"3fc4c854-ef07-4a68-ba21-dafe31dd2db3\",\"type\":\"BasicTickFormatter\"},\"plot\":{\"id\":\"4e5a2850-7465-46e8-8093-520362c70f2c\",\"subtype\":\"Figure\",\"type\":\"Plot\"},\"ticker\":{\"id\":\"a9b5a184-c3f0-4e65-a154-852ac74c548d\",\"type\":\"BasicTicker\"}},\"id\":\"90161580-237e-48e4-afe2-300205d6a8d8\",\"type\":\"LinearAxis\"},{\"attributes\":{\"data_source\":{\"id\":\"fe4f4766-7d56-4421-8bb5-ee4ff0b46ed0\",\"type\":\"ColumnDataSource\"},\"glyph\":{\"id\":\"4ddf9923-c5cf-467a-b311-a27f9abc16af\",\"type\":\"Line\"},\"hover_glyph\":null,\"muted_glyph\":null,\"nonselection_glyph\":{\"id\":\"ea978e90-857c-4858-9fd8-0dca84d13b75\",\"type\":\"Line\"},\"selection_glyph\":null,\"view\":{\"id\":\"c37e3d40-4fd9-4f5a-af32-2029e460fb0c\",\"type\":\"CDSView\"}},\"id\":\"1e2c8d68-2560-4413-b721-b0574866242a\",\"type\":\"GlyphRenderer\"},{\"attributes\":{},\"id\":\"a9b5a184-c3f0-4e65-a154-852ac74c548d\",\"type\":\"BasicTicker\"},{\"attributes\":{},\"id\":\"bad1a16b-93d1-4690-abe7-95e28fc95bfe\",\"type\":\"WheelZoomTool\"},{\"attributes\":{\"axis_label\":\"Loss\",\"formatter\":{\"id\":\"5d89a88f-ab24-42d4-a002-74477152d2b4\",\"type\":\"BasicTickFormatter\"},\"plot\":{\"id\":\"4e5a2850-7465-46e8-8093-520362c70f2c\",\"subtype\":\"Figure\",\"type\":\"Plot\"},\"ticker\":{\"id\":\"e3707f96-e92a-4c2f-9378-0aa13b503efd\",\"type\":\"BasicTicker\"}},\"id\":\"743090b0-48fe-4582-9bb3-fa068462c0cd\",\"type\":\"LinearAxis\"},{\"attributes\":{\"overlay\":{\"id\":\"e03e800b-0a04-43a4-84e8-a21159fdba15\",\"type\":\"BoxAnnotation\"}},\"id\":\"6364ab44-96d5-4dcf-9947-4f4f76528565\",\"type\":\"BoxZoomTool\"},{\"attributes\":{},\"id\":\"e3707f96-e92a-4c2f-9378-0aa13b503efd\",\"type\":\"BasicTicker\"},{\"attributes\":{},\"id\":\"53a208ca-3ce2-4294-90d1-f894cfc5a66c\",\"type\":\"SaveTool\"},{\"attributes\":{\"dimension\":1,\"plot\":{\"id\":\"4e5a2850-7465-46e8-8093-520362c70f2c\",\"subtype\":\"Figure\",\"type\":\"Plot\"},\"ticker\":{\"id\":\"e3707f96-e92a-4c2f-9378-0aa13b503efd\",\"type\":\"BasicTicker\"}},\"id\":\"b5cecb32-d62b-4602-a654-db2a6af82ab2\",\"type\":\"Grid\"},{\"attributes\":{},\"id\":\"f7c95178-4167-4bb5-8a6b-c9c6efb15270\",\"type\":\"ResetTool\"},{\"attributes\":{\"line_color\":\"#1f77b4\",\"x\":{\"field\":\"epoch\"},\"y\":{\"field\":\"loss\"}},\"id\":\"9665c97e-59fa-40dc-918d-842db716520c\",\"type\":\"Line\"},{\"attributes\":{},\"id\":\"ec2f6b9f-ff8b-45b8-bd29-9204628f4fb0\",\"type\":\"HelpTool\"},{\"attributes\":{\"source\":{\"id\":\"fe4f4766-7d56-4421-8bb5-ee4ff0b46ed0\",\"type\":\"ColumnDataSource\"}},\"id\":\"d6ee8069-164d-4efe-8fdd-3acfdd696fac\",\"type\":\"CDSView\"},{\"attributes\":{},\"id\":\"abb2d689-6555-490d-83de-bd02d67b0eaf\",\"type\":\"BasicTickFormatter\"},{\"attributes\":{\"line_color\":\"orange\",\"x\":{\"field\":\"epoch\"},\"y\":{\"field\":\"lr\"}},\"id\":\"4ddf9923-c5cf-467a-b311-a27f9abc16af\",\"type\":\"Line\"},{\"attributes\":{\"source\":{\"id\":\"fe4f4766-7d56-4421-8bb5-ee4ff0b46ed0\",\"type\":\"ColumnDataSource\"}},\"id\":\"c37e3d40-4fd9-4f5a-af32-2029e460fb0c\",\"type\":\"CDSView\"},{\"attributes\":{\"bottom_units\":\"screen\",\"fill_alpha\":{\"value\":0.5},\"fill_color\":{\"value\":\"lightgrey\"},\"left_units\":\"screen\",\"level\":\"overlay\",\"line_alpha\":{\"value\":1.0},\"line_color\":{\"value\":\"black\"},\"line_dash\":[4,4],\"line_width\":{\"value\":2},\"plot\":null,\"render_mode\":\"css\",\"right_units\":\"screen\",\"top_units\":\"screen\"},\"id\":\"130c0642-4cd1-4726-9d86-5d7798c69732\",\"type\":\"BoxAnnotation\"},{\"attributes\":{},\"id\":\"0be1a1b9-dc5e-450c-bac3-dc808ae3e92a\",\"type\":\"BasicTickFormatter\"},{\"attributes\":{\"children\":[{\"id\":\"4e5a2850-7465-46e8-8093-520362c70f2c\",\"subtype\":\"Figure\",\"type\":\"Plot\"},{\"id\":\"e0a836e0-4ec1-4b69-bddb-49e93cb96251\",\"subtype\":\"Figure\",\"type\":\"Plot\"}]},\"id\":\"6bad04c9-de83-408c-bbec-46d31d5ee494\",\"type\":\"Column\"},{\"attributes\":{},\"id\":\"551b6d86-ce3e-4cb6-986b-6fea40002a4a\",\"type\":\"PanTool\"},{\"attributes\":{\"data_source\":{\"id\":\"fe4f4766-7d56-4421-8bb5-ee4ff0b46ed0\",\"type\":\"ColumnDataSource\"},\"glyph\":{\"id\":\"9665c97e-59fa-40dc-918d-842db716520c\",\"type\":\"Line\"},\"hover_glyph\":null,\"muted_glyph\":null,\"nonselection_glyph\":{\"id\":\"c38dd75c-2b36-4e58-bba3-10ffada06359\",\"type\":\"Line\"},\"selection_glyph\":null,\"view\":{\"id\":\"d6ee8069-164d-4efe-8fdd-3acfdd696fac\",\"type\":\"CDSView\"}},\"id\":\"2dc6c22c-32ae-4668-9ee9-41392113f7d6\",\"type\":\"GlyphRenderer\"},{\"attributes\":{},\"id\":\"697a42cd-f21f-430b-aec3-75d2a3895909\",\"type\":\"WheelZoomTool\"},{\"attributes\":{\"overlay\":{\"id\":\"130c0642-4cd1-4726-9d86-5d7798c69732\",\"type\":\"BoxAnnotation\"}},\"id\":\"0eb999e0-2e7b-4a28-8dcf-36eb6cb67344\",\"type\":\"BoxZoomTool\"},{\"attributes\":{},\"id\":\"35415042-6017-4483-8ec7-2ace3e8ac8e5\",\"type\":\"SaveTool\"},{\"attributes\":{},\"id\":\"30e9912a-b27b-4009-b332-c1ae73aafa12\",\"type\":\"ResetTool\"},{\"attributes\":{},\"id\":\"1c957f0e-3d84-4aca-87d3-1e47fd57e9b7\",\"type\":\"HelpTool\"},{\"attributes\":{},\"id\":\"47ad1d06-1656-42cd-bf0d-4900ae876760\",\"type\":\"LinearScale\"},{\"attributes\":{},\"id\":\"5d89a88f-ab24-42d4-a002-74477152d2b4\",\"type\":\"BasicTickFormatter\"},{\"attributes\":{},\"id\":\"3fc4c854-ef07-4a68-ba21-dafe31dd2db3\",\"type\":\"BasicTickFormatter\"},{\"attributes\":{\"callback\":null},\"id\":\"0f19c272-c783-4224-8055-75802ba85559\",\"type\":\"DataRange1d\"},{\"attributes\":{},\"id\":\"333523c7-c52b-4b31-927d-bc4100887943\",\"type\":\"LinearScale\"},{\"attributes\":{\"below\":[{\"id\":\"90161580-237e-48e4-afe2-300205d6a8d8\",\"type\":\"LinearAxis\"}],\"left\":[{\"id\":\"743090b0-48fe-4582-9bb3-fa068462c0cd\",\"type\":\"LinearAxis\"}],\"min_border\":0,\"plot_height\":430,\"plot_width\":480,\"renderers\":[{\"id\":\"90161580-237e-48e4-afe2-300205d6a8d8\",\"type\":\"LinearAxis\"},{\"id\":\"3045fa0e-3fe4-4335-8223-09cbbd6756a6\",\"type\":\"Grid\"},{\"id\":\"743090b0-48fe-4582-9bb3-fa068462c0cd\",\"type\":\"LinearAxis\"},{\"id\":\"b5cecb32-d62b-4602-a654-db2a6af82ab2\",\"type\":\"Grid\"},{\"id\":\"130c0642-4cd1-4726-9d86-5d7798c69732\",\"type\":\"BoxAnnotation\"},{\"id\":\"2dc6c22c-32ae-4668-9ee9-41392113f7d6\",\"type\":\"GlyphRenderer\"}],\"title\":{\"id\":\"5166426c-d7e9-491e-90d7-56c7576d52fe\",\"type\":\"Title\"},\"toolbar\":{\"id\":\"c1871462-e311-42f1-99d1-20aab35c991e\",\"type\":\"Toolbar\"},\"x_range\":{\"id\":\"7f20499b-f94d-4e40-8c1f-f20934892cb2\",\"type\":\"DataRange1d\"},\"x_scale\":{\"id\":\"974fed8d-8a9c-4902-a767-a8be949dcd74\",\"type\":\"LinearScale\"},\"y_range\":{\"id\":\"9c2f6a3a-2590-432f-bcad-0ed5ffa968d9\",\"type\":\"DataRange1d\"},\"y_scale\":{\"id\":\"3c4bb2bd-3643-4d02-a182-ee7c552adf1b\",\"type\":\"LinearScale\"}},\"id\":\"4e5a2850-7465-46e8-8093-520362c70f2c\",\"subtype\":\"Figure\",\"type\":\"Plot\"},{\"attributes\":{\"active_drag\":\"auto\",\"active_inspect\":\"auto\",\"active_scroll\":\"auto\",\"active_tap\":\"auto\",\"tools\":[{\"id\":\"1ef5c48f-d422-47d9-a2b0-fcb9cf2c3e0e\",\"type\":\"PanTool\"},{\"id\":\"bad1a16b-93d1-4690-abe7-95e28fc95bfe\",\"type\":\"WheelZoomTool\"},{\"id\":\"6364ab44-96d5-4dcf-9947-4f4f76528565\",\"type\":\"BoxZoomTool\"},{\"id\":\"53a208ca-3ce2-4294-90d1-f894cfc5a66c\",\"type\":\"SaveTool\"},{\"id\":\"f7c95178-4167-4bb5-8a6b-c9c6efb15270\",\"type\":\"ResetTool\"},{\"id\":\"ec2f6b9f-ff8b-45b8-bd29-9204628f4fb0\",\"type\":\"HelpTool\"}]},\"id\":\"498d012d-d73f-4ab6-9537-47674a2cff53\",\"type\":\"Toolbar\"},{\"attributes\":{\"plot\":{\"id\":\"e0a836e0-4ec1-4b69-bddb-49e93cb96251\",\"subtype\":\"Figure\",\"type\":\"Plot\"},\"ticker\":{\"id\":\"82dc627d-ebe2-4ce8-a6d4-da2875ea9f6a\",\"type\":\"BasicTicker\"}},\"id\":\"0f1aa64a-3c0c-431f-9939-6e4c5aa9be05\",\"type\":\"Grid\"},{\"attributes\":{\"callback\":null},\"id\":\"5c453489-14e8-43f7-8036-a73ad1eed3c1\",\"type\":\"DataRange1d\"},{\"attributes\":{\"callback\":null,\"column_names\":[\"epoch\",\"loss\",\"lr\"],\"data\":{\"epoch\":[50,51,52,53,54,55,56,57,58,59,60,61,62,63,64,65,66,67,68,69,70,71,72,73,74,75,76,77,78,79],\"loss\":[{\"__ndarray__\":\"s/kbQQ==\",\"dtype\":\"float32\",\"shape\":[]},{\"__ndarray__\":\"V/gbQQ==\",\"dtype\":\"float32\",\"shape\":[]},{\"__ndarray__\":\"6PkbQQ==\",\"dtype\":\"float32\",\"shape\":[]},{\"__ndarray__\":\"L/0bQQ==\",\"dtype\":\"float32\",\"shape\":[]},{\"__ndarray__\":\"tfgbQQ==\",\"dtype\":\"float32\",\"shape\":[]},{\"__ndarray__\":\"LgS7Pw==\",\"dtype\":\"float32\",\"shape\":[]},{\"__ndarray__\":\"Af8bQQ==\",\"dtype\":\"float32\",\"shape\":[]},{\"__ndarray__\":\"E/4bQQ==\",\"dtype\":\"float32\",\"shape\":[]},{\"__ndarray__\":\"AfYbQQ==\",\"dtype\":\"float32\",\"shape\":[]},{\"__ndarray__\":\"2fsbQQ==\",\"dtype\":\"float32\",\"shape\":[]},{\"__ndarray__\":\"VvkbQQ==\",\"dtype\":\"float32\",\"shape\":[]},{\"__ndarray__\":\"KP0bQQ==\",\"dtype\":\"float32\",\"shape\":[]},{\"__ndarray__\":\"n/YbQQ==\",\"dtype\":\"float32\",\"shape\":[]},{\"__ndarray__\":\"QQEcQQ==\",\"dtype\":\"float32\",\"shape\":[]},{\"__ndarray__\":\"EvgbQQ==\",\"dtype\":\"float32\",\"shape\":[]},{\"__ndarray__\":\"Rf4bQQ==\",\"dtype\":\"float32\",\"shape\":[]},{\"__ndarray__\":\"NfwbQQ==\",\"dtype\":\"float32\",\"shape\":[]},{\"__ndarray__\":\"BvwbQQ==\",\"dtype\":\"float32\",\"shape\":[]},{\"__ndarray__\":\"YPobQQ==\",\"dtype\":\"float32\",\"shape\":[]},{\"__ndarray__\":\"WVGRQQ==\",\"dtype\":\"float32\",\"shape\":[]},{\"__ndarray__\":\"qf0bQQ==\",\"dtype\":\"float32\",\"shape\":[]},{\"__ndarray__\":\"OJ8GQQ==\",\"dtype\":\"float32\",\"shape\":[]},{\"__ndarray__\":\"dfsbQQ==\",\"dtype\":\"float32\",\"shape\":[]},{\"__ndarray__\":\"dfgbQQ==\",\"dtype\":\"float32\",\"shape\":[]},{\"__ndarray__\":\"APcbQQ==\",\"dtype\":\"float32\",\"shape\":[]},{\"__ndarray__\":\"YEG0QA==\",\"dtype\":\"float32\",\"shape\":[]},{\"__ndarray__\":\"UPsbQQ==\",\"dtype\":\"float32\",\"shape\":[]},{\"__ndarray__\":\"av0bQQ==\",\"dtype\":\"float32\",\"shape\":[]},{\"__ndarray__\":\"jPYbQQ==\",\"dtype\":\"float32\",\"shape\":[]},{\"__ndarray__\":\"L/gbQQ==\",\"dtype\":\"float32\",\"shape\":[]}],\"lr\":[0.000497929222979128,0.0006473079898728664,0.0008415003868347263,0.0010939505028851443,0.0014221356537506874,0.0018487763498758938,0.0024034092548386623,0.0031244320312902607,0.004061761640677339,0.005280290132880541,0.006864377172744704,0.008923690324568115,0.011600797421938551,0.015081036648520117,0.019605347643076153,0.025486951935998998,0.0331330375167987,0.04307294877183831,0.0559948334033898,0.07279328342440675,0.09463126845172878,0.12302064898724742,0.15992684368342164,0.20790489678844815,0.2702763658249826,0.35135927557247737,0.4567670582442206,0.5937971757174868,0.7719363284327329,1.0035172269625527]},\"selected\":null,\"selection_policy\":null},\"id\":\"fe4f4766-7d56-4421-8bb5-ee4ff0b46ed0\",\"type\":\"ColumnDataSource\"},{\"attributes\":{\"axis_label\":\"epoch\",\"formatter\":{\"id\":\"abb2d689-6555-490d-83de-bd02d67b0eaf\",\"type\":\"BasicTickFormatter\"},\"plot\":{\"id\":\"e0a836e0-4ec1-4b69-bddb-49e93cb96251\",\"subtype\":\"Figure\",\"type\":\"Plot\"},\"ticker\":{\"id\":\"82dc627d-ebe2-4ce8-a6d4-da2875ea9f6a\",\"type\":\"BasicTicker\"}},\"id\":\"a0970e1a-585e-424a-86b6-be5ce71f5233\",\"type\":\"LinearAxis\"},{\"attributes\":{\"plot\":null,\"text\":\"Corresponding Learning rate\"},\"id\":\"62db767a-35a4-439f-9f52-0625dfee3ac3\",\"type\":\"Title\"},{\"attributes\":{},\"id\":\"82dc627d-ebe2-4ce8-a6d4-da2875ea9f6a\",\"type\":\"BasicTicker\"},{\"attributes\":{\"plot\":null,\"text\":\"Optimal learning rates\"},\"id\":\"5166426c-d7e9-491e-90d7-56c7576d52fe\",\"type\":\"Title\"},{\"attributes\":{\"axis_label\":\"Learning rate\",\"formatter\":{\"id\":\"0be1a1b9-dc5e-450c-bac3-dc808ae3e92a\",\"type\":\"BasicTickFormatter\"},\"plot\":{\"id\":\"e0a836e0-4ec1-4b69-bddb-49e93cb96251\",\"subtype\":\"Figure\",\"type\":\"Plot\"},\"ticker\":{\"id\":\"0ae0c4ed-8cf2-4679-bffa-0207cb1da941\",\"type\":\"BasicTicker\"}},\"id\":\"8aabf1d5-fac3-4924-b161-bc74dc8b513f\",\"type\":\"LinearAxis\"},{\"attributes\":{\"below\":[{\"id\":\"a0970e1a-585e-424a-86b6-be5ce71f5233\",\"type\":\"LinearAxis\"}],\"left\":[{\"id\":\"8aabf1d5-fac3-4924-b161-bc74dc8b513f\",\"type\":\"LinearAxis\"}],\"min_border\":0,\"plot_height\":430,\"plot_width\":480,\"renderers\":[{\"id\":\"a0970e1a-585e-424a-86b6-be5ce71f5233\",\"type\":\"LinearAxis\"},{\"id\":\"0f1aa64a-3c0c-431f-9939-6e4c5aa9be05\",\"type\":\"Grid\"},{\"id\":\"8aabf1d5-fac3-4924-b161-bc74dc8b513f\",\"type\":\"LinearAxis\"},{\"id\":\"e597c0c1-a0d1-4f52-9d17-5532a41c15b3\",\"type\":\"Grid\"},{\"id\":\"e03e800b-0a04-43a4-84e8-a21159fdba15\",\"type\":\"BoxAnnotation\"},{\"id\":\"1e2c8d68-2560-4413-b721-b0574866242a\",\"type\":\"GlyphRenderer\"}],\"title\":{\"id\":\"62db767a-35a4-439f-9f52-0625dfee3ac3\",\"type\":\"Title\"},\"toolbar\":{\"id\":\"498d012d-d73f-4ab6-9537-47674a2cff53\",\"type\":\"Toolbar\"},\"x_range\":{\"id\":\"0f19c272-c783-4224-8055-75802ba85559\",\"type\":\"DataRange1d\"},\"x_scale\":{\"id\":\"333523c7-c52b-4b31-927d-bc4100887943\",\"type\":\"LinearScale\"},\"y_range\":{\"id\":\"5c453489-14e8-43f7-8036-a73ad1eed3c1\",\"type\":\"DataRange1d\"},\"y_scale\":{\"id\":\"47ad1d06-1656-42cd-bf0d-4900ae876760\",\"type\":\"LinearScale\"}},\"id\":\"e0a836e0-4ec1-4b69-bddb-49e93cb96251\",\"subtype\":\"Figure\",\"type\":\"Plot\"},{\"attributes\":{},\"id\":\"0ae0c4ed-8cf2-4679-bffa-0207cb1da941\",\"type\":\"BasicTicker\"},{\"attributes\":{},\"id\":\"974fed8d-8a9c-4902-a767-a8be949dcd74\",\"type\":\"LinearScale\"},{\"attributes\":{\"dimension\":1,\"plot\":{\"id\":\"e0a836e0-4ec1-4b69-bddb-49e93cb96251\",\"subtype\":\"Figure\",\"type\":\"Plot\"},\"ticker\":{\"id\":\"0ae0c4ed-8cf2-4679-bffa-0207cb1da941\",\"type\":\"BasicTicker\"}},\"id\":\"e597c0c1-a0d1-4f52-9d17-5532a41c15b3\",\"type\":\"Grid\"},{\"attributes\":{\"line_alpha\":0.1,\"line_color\":\"#1f77b4\",\"x\":{\"field\":\"epoch\"},\"y\":{\"field\":\"loss\"}},\"id\":\"c38dd75c-2b36-4e58-bba3-10ffada06359\",\"type\":\"Line\"},{\"attributes\":{\"line_alpha\":0.1,\"line_color\":\"#1f77b4\",\"x\":{\"field\":\"epoch\"},\"y\":{\"field\":\"lr\"}},\"id\":\"ea978e90-857c-4858-9fd8-0dca84d13b75\",\"type\":\"Line\"},{\"attributes\":{\"callback\":null},\"id\":\"7f20499b-f94d-4e40-8c1f-f20934892cb2\",\"type\":\"DataRange1d\"},{\"attributes\":{\"active_drag\":\"auto\",\"active_inspect\":\"auto\",\"active_scroll\":\"auto\",\"active_tap\":\"auto\",\"tools\":[{\"id\":\"551b6d86-ce3e-4cb6-986b-6fea40002a4a\",\"type\":\"PanTool\"},{\"id\":\"697a42cd-f21f-430b-aec3-75d2a3895909\",\"type\":\"WheelZoomTool\"},{\"id\":\"0eb999e0-2e7b-4a28-8dcf-36eb6cb67344\",\"type\":\"BoxZoomTool\"},{\"id\":\"35415042-6017-4483-8ec7-2ace3e8ac8e5\",\"type\":\"SaveTool\"},{\"id\":\"30e9912a-b27b-4009-b332-c1ae73aafa12\",\"type\":\"ResetTool\"},{\"id\":\"1c957f0e-3d84-4aca-87d3-1e47fd57e9b7\",\"type\":\"HelpTool\"}]},\"id\":\"c1871462-e311-42f1-99d1-20aab35c991e\",\"type\":\"Toolbar\"}],\"root_ids\":[\"6bad04c9-de83-408c-bbec-46d31d5ee494\"]},\"title\":\"Bokeh Application\",\"version\":\"0.12.15\"}};\n",
       "  var render_items = [{\"docid\":\"ba56ae42-47c0-416c-884a-25250fc7ebd5\",\"elementid\":\"201cdd69-b8d3-454b-9abd-9c4a73611e0c\",\"modelid\":\"6bad04c9-de83-408c-bbec-46d31d5ee494\"}];\n",
       "  root.Bokeh.embed.embed_items_notebook(docs_json, render_items);\n",
       "\n",
       "  }\n",
       "  if (root.Bokeh !== undefined) {\n",
       "    embed_document(root);\n",
       "  } else {\n",
       "    var attempts = 0;\n",
       "    var timer = setInterval(function(root) {\n",
       "      if (root.Bokeh !== undefined) {\n",
       "        embed_document(root);\n",
       "        clearInterval(timer);\n",
       "      }\n",
       "      attempts++;\n",
       "      if (attempts > 100) {\n",
       "        console.log(\"Bokeh: ERROR: Unable to run BokehJS code because BokehJS library is missing\")\n",
       "        clearInterval(timer);\n",
       "      }\n",
       "    }, 10, root)\n",
       "  }\n",
       "})(window);"
      ],
      "application/vnd.bokehjs_exec.v0+json": ""
     },
     "metadata": {
      "application/vnd.bokehjs_exec.v0+json": {
       "id": "6bad04c9-de83-408c-bbec-46d31d5ee494"
      }
     },
     "output_type": "display_data"
    },
    {
     "name": "stdout",
     "output_type": "stream",
     "text": [
      "Done\n"
     ]
    }
   ],
   "source": [
    "##Optimal learning rates\n",
    "\n",
    "#Log\n",
    "\n",
    "find_logs = []\n",
    "\n",
    "#Plotting\n",
    "\n",
    "source_find = ColumnDataSource(data=dict(epoch=[], loss=[], lr=[]))\n",
    "settings = dict(plot_width=480, plot_height=430, min_border=0)\n",
    "pf = figure(title=\"Optimal learning rates\", x_axis_label=\"epoch\",y_axis_label=\"Loss\", **settings)\n",
    "pf.line(x='epoch', y='loss', source=source_find)\n",
    "\n",
    "pf2 = figure(title=\"Corresponding Learning rate\", x_axis_label=\"epoch\", y_axis_label=\"Learning rate\", **settings)\n",
    "pf2.line(x='epoch', y='lr', source=source_find, color=\"orange\")\n",
    "\n",
    "tf = show(column(pf,pf2), notebook_handle=True)\n",
    "\n",
    "#Config\n",
    "train = h5py.File('./zinc.hdf5', 'r')\n",
    "finder.train()\n",
    "finder_x = train['atom'][:batch_size]\n",
    "batch_num = len(finder_x) // batch_size\n",
    "\n",
    "optimizer_find = optim.Adam(finder.parameters(), lr=calc_lr(40))\n",
    "scheduler = optim.lr_scheduler.ExponentialLR(optimizer_find, 1.3, last_epoch=-1)\n",
    "\n",
    "for epoch in tqdm(range(40,80)):\n",
    "    \n",
    "    #Training\n",
    "    \n",
    "    for batch in tqdm(range(0,batch_num), disable=True):\n",
    "        \n",
    "        start = batch*batch_size\n",
    "        end = batch*batch_size + batch_size\n",
    "        \n",
    "        target_node = torch.from_numpy(train['atom'][start:end]).view(-1, N_Max_atom, 1+len(parts[0])).float()\n",
    "        target_add = torch.from_numpy(train['add'][start:end]).view(-1, N_Max_atom).float()\n",
    "        target_edge = torch.from_numpy(train['bond'][start:end]).view(-1, N_Max_hand*N_Max_atom, N_Max_atom*len(parts[1])).float()\n",
    "        \n",
    "        if use_cuda:\n",
    "            target_node = target_node.cuda()\n",
    "            target_add = target_add.cuda()\n",
    "            target_edge = target_edge.cuda()\n",
    "            \n",
    "        y_hat_node_batch = tensor([])\n",
    "        y_hat_add_batch = tensor([])\n",
    "        y_hat_edge_batch = tensor([])\n",
    "        node_batch = []\n",
    "        edge_batch = []\n",
    "        for _ in range(batch_size):\n",
    "            y_hat_node, y_hat_add, y_hat_edge, node, edge = finder()\n",
    "            y_hat_node_batch = torch.cat((y_hat_node_batch, y_hat_node.view(1, N_Max_atom, -1)), 0)\n",
    "            y_hat_add_batch = torch.cat((y_hat_add_batch, y_hat_add.view(1, -1)), 0)\n",
    "            y_hat_edge_batch = torch.cat((y_hat_edge_batch, y_hat_edge.view(1, N_Max_hand*N_Max_atom, -1)), 0)\n",
    "            node_batch.append(node.tolist())\n",
    "            edge_batch.append(edge)\n",
    "        \n",
    "        loss_node = criterion(y_hat_node_batch, target_node)\n",
    "        loss_add = criterion(y_hat_add_batch, target_add)\n",
    "        loss_edge = criterion(y_hat_edge_batch, target_edge)\n",
    "        \n",
    "        loss = loss_node + loss_add + loss_edge\n",
    "        \n",
    "        try:\n",
    "            loss.backward()\n",
    "            optimizer.step()\n",
    "        except RuntimeError:\n",
    "            pass\n",
    "        \n",
    "        finder.zero_grad()\n",
    "    #Logiging \n",
    "    if use_cuda:\n",
    "        loss = loss.cpu()\n",
    "    new_data_find = {'epoch' : [epoch], 'loss' : [loss.detach().numpy()], 'lr' : [calc_lr(epoch)]}\n",
    "    new_data_find_df = {'epoch' : epoch, 'loss' : loss.detach().numpy(), 'lr' : calc_lr(epoch)}\n",
    "    source_find.stream(new_data_find)\n",
    "    \n",
    "    find_logs.append(new_data_find_df)\n",
    "    df_find = pd.DataFrame(find_logs)\n",
    "    df_find.to_csv(\"./find_logs.csv\", index=False)\n",
    "    \n",
    "    scheduler.step()\n",
    "    \n",
    "    #Show plots\n",
    "    \n",
    "    push_notebook(handle=tf)\n",
    "\n",
    "clear_output()\n",
    "\n",
    "find_logs = pd.read_csv('./find_logs.csv')\n",
    "source_find = ColumnDataSource(find_logs)\n",
    "\n",
    "tf = show(column(pf,pf2))\n",
    "\n",
    "print('Done')"
   ]
  },
  {
   "cell_type": "code",
   "execution_count": null,
   "metadata": {},
   "outputs": [],
   "source": []
  }
 ],
 "metadata": {
  "kernelspec": {
   "display_name": "Python 3",
   "language": "python",
   "name": "python3"
  },
  "language_info": {
   "codemirror_mode": {
    "name": "ipython",
    "version": 3
   },
   "file_extension": ".py",
   "mimetype": "text/x-python",
   "name": "python",
   "nbconvert_exporter": "python",
   "pygments_lexer": "ipython3",
   "version": "3.6.5"
  },
  "widgets": {
   "application/vnd.jupyter.widget-state+json": {
    "state": {
     "00340058229747d7be2c8f7bbc56c15c": {
      "model_module": "jupyter-js-widgets",
      "model_module_version": "~2.1.4",
      "model_name": "LayoutModel",
      "state": {
       "_model_module_version": "~2.1.4",
       "_view_module_version": "~2.1.4"
      }
     },
     "0043c69f098744f79fd08c870316561e": {
      "model_module": "jupyter-js-widgets",
      "model_module_version": "~2.1.4",
      "model_name": "HTMLModel",
      "state": {
       "_model_module_version": "~2.1.4",
       "_view_module_version": "~2.1.4",
       "layout": "IPY_MODEL_15793e8f2c104810b289ec9967f6f997",
       "value": "100% 1/1 [00:09&lt;00:00,  9.87s/it]"
      }
     },
     "019e4da2875647bda4c264124177324b": {
      "model_module": "jupyter-js-widgets",
      "model_module_version": "~2.1.4",
      "model_name": "ProgressStyleModel",
      "state": {
       "_model_module_version": "~2.1.4",
       "_view_module_version": "~2.1.4"
      }
     },
     "01e6100c0a994e9195e35d2411346277": {
      "model_module": "jupyter-js-widgets",
      "model_module_version": "~2.1.4",
      "model_name": "HTMLModel",
      "state": {
       "_model_module_version": "~2.1.4",
       "_view_module_version": "~2.1.4",
       "layout": "IPY_MODEL_f1b522b68acd4383845f0761c87d876e",
       "value": "100% 1/1 [00:10&lt;00:00, 10.23s/it]"
      }
     },
     "0260934462e54d3382a016bc2d846a5f": {
      "model_module": "jupyter-js-widgets",
      "model_module_version": "~2.1.4",
      "model_name": "ProgressStyleModel",
      "state": {
       "_model_module_version": "~2.1.4",
       "_view_module_version": "~2.1.4"
      }
     },
     "03d27a7aedf54f688fdb5551b9e69ef2": {
      "model_module": "jupyter-js-widgets",
      "model_module_version": "~2.1.4",
      "model_name": "ProgressStyleModel",
      "state": {
       "_model_module_version": "~2.1.4",
       "_view_module_version": "~2.1.4"
      }
     },
     "046f2c7693d243c9b6806e926b98df93": {
      "model_module": "jupyter-js-widgets",
      "model_module_version": "~2.1.4",
      "model_name": "ProgressModel",
      "state": {
       "_model_module_version": "~2.1.4",
       "_view_module_version": "~2.1.4",
       "bar_style": "success",
       "layout": "IPY_MODEL_7c377b1d7fbc44f58f72c177cf86953d",
       "max": 1,
       "style": "IPY_MODEL_9c56675e4ce44a31867cedb9f74b1407",
       "value": 1
      }
     },
     "053c0dc5a6f6415e912ffaf9b79842dc": {
      "model_module": "jupyter-js-widgets",
      "model_module_version": "~2.1.4",
      "model_name": "LayoutModel",
      "state": {
       "_model_module_version": "~2.1.4",
       "_view_module_version": "~2.1.4"
      }
     },
     "066f6c3554064f3ca7b6901c7e650f18": {
      "model_module": "jupyter-js-widgets",
      "model_module_version": "~2.1.4",
      "model_name": "HBoxModel",
      "state": {
       "_model_module_version": "~2.1.4",
       "_view_module_version": "~2.1.4",
       "children": [
        "IPY_MODEL_e54f38cae21c407a876362e3fa6d760a",
        "IPY_MODEL_7b28d69fba314b9e8c8017b19b38272d"
       ],
       "layout": "IPY_MODEL_32ed6710e4d04d368e3be7d7f5e04e8a"
      }
     },
     "06835dac61e44e93b1f5e8181a948690": {
      "model_module": "jupyter-js-widgets",
      "model_module_version": "~2.1.4",
      "model_name": "ProgressModel",
      "state": {
       "_model_module_version": "~2.1.4",
       "_view_module_version": "~2.1.4",
       "bar_style": "success",
       "layout": "IPY_MODEL_c77a2808c6bb4f559f538f94b0142592",
       "max": 1,
       "style": "IPY_MODEL_1d34ad60728e451f8175ba145d7b917c",
       "value": 1
      }
     },
     "07d784e3ea1a45708ba78b601b742c37": {
      "model_module": "jupyter-js-widgets",
      "model_module_version": "~2.1.4",
      "model_name": "HTMLModel",
      "state": {
       "_model_module_version": "~2.1.4",
       "_view_module_version": "~2.1.4",
       "layout": "IPY_MODEL_9abc26c1ab914340a5dcb063c29ffaf3",
       "value": "100% 1/1 [00:09&lt;00:00,  9.86s/it]"
      }
     },
     "0806d169b71c442390edbf567e80bb7a": {
      "model_module": "jupyter-js-widgets",
      "model_module_version": "~2.1.4",
      "model_name": "LayoutModel",
      "state": {
       "_model_module_version": "~2.1.4",
       "_view_module_version": "~2.1.4"
      }
     },
     "0832f009e18a44e2aae0c20d5a289554": {
      "model_module": "jupyter-js-widgets",
      "model_module_version": "~2.1.4",
      "model_name": "LayoutModel",
      "state": {
       "_model_module_version": "~2.1.4",
       "_view_module_version": "~2.1.4"
      }
     },
     "0884a629b2fd4fdeb7c266db1f429485": {
      "model_module": "jupyter-js-widgets",
      "model_module_version": "~2.1.4",
      "model_name": "LayoutModel",
      "state": {
       "_model_module_version": "~2.1.4",
       "_view_module_version": "~2.1.4"
      }
     },
     "097c4368ecd44ddb83a9b94a1e7bc447": {
      "model_module": "jupyter-js-widgets",
      "model_module_version": "~2.1.4",
      "model_name": "LayoutModel",
      "state": {
       "_model_module_version": "~2.1.4",
       "_view_module_version": "~2.1.4"
      }
     },
     "09a688bef2344eb6a18b8a5481da5236": {
      "model_module": "jupyter-js-widgets",
      "model_module_version": "~2.1.4",
      "model_name": "LayoutModel",
      "state": {
       "_model_module_version": "~2.1.4",
       "_view_module_version": "~2.1.4"
      }
     },
     "0a4e3cef4b5a46bc9c9aaba957e07ef8": {
      "model_module": "jupyter-js-widgets",
      "model_module_version": "~2.1.4",
      "model_name": "ProgressStyleModel",
      "state": {
       "_model_module_version": "~2.1.4",
       "_view_module_version": "~2.1.4"
      }
     },
     "0b75219f16c241b488dd3bea20d2cf33": {
      "model_module": "jupyter-js-widgets",
      "model_module_version": "~2.1.4",
      "model_name": "HTMLModel",
      "state": {
       "_model_module_version": "~2.1.4",
       "_view_module_version": "~2.1.4",
       "layout": "IPY_MODEL_821f10b2ed194e97ae5721526a77135b",
       "value": "100% 1/1 [00:09&lt;00:00,  9.90s/it]"
      }
     },
     "0bd1b4752041495c834b0b66bc006bb7": {
      "model_module": "jupyter-js-widgets",
      "model_module_version": "~2.1.4",
      "model_name": "LayoutModel",
      "state": {
       "_model_module_version": "~2.1.4",
       "_view_module_version": "~2.1.4"
      }
     },
     "0c8c8528b1bb41c38746d5e567a075b6": {
      "model_module": "jupyter-js-widgets",
      "model_module_version": "~2.1.4",
      "model_name": "LayoutModel",
      "state": {
       "_model_module_version": "~2.1.4",
       "_view_module_version": "~2.1.4"
      }
     },
     "0ce7aa5a583042f489213ff4b2dff4ed": {
      "model_module": "jupyter-js-widgets",
      "model_module_version": "~2.1.4",
      "model_name": "LayoutModel",
      "state": {
       "_model_module_version": "~2.1.4",
       "_view_module_version": "~2.1.4"
      }
     },
     "0d2b5746b86a423e856d9915ab9f38eb": {
      "model_module": "jupyter-js-widgets",
      "model_module_version": "~2.1.4",
      "model_name": "ProgressStyleModel",
      "state": {
       "_model_module_version": "~2.1.4",
       "_view_module_version": "~2.1.4"
      }
     },
     "0d5bbd484e1847bdb554233aa127621c": {
      "model_module": "jupyter-js-widgets",
      "model_module_version": "~2.1.4",
      "model_name": "HBoxModel",
      "state": {
       "_model_module_version": "~2.1.4",
       "_view_module_version": "~2.1.4",
       "children": [
        "IPY_MODEL_bf4cae68c0b9427294e5514e701b1662",
        "IPY_MODEL_d0ca0935199246c3b17131e84e1daade"
       ],
       "layout": "IPY_MODEL_1a41b50d27314e45b7ec43a77f838651"
      }
     },
     "0d761360a53e4d8887d71ab45e21755f": {
      "model_module": "jupyter-js-widgets",
      "model_module_version": "~2.1.4",
      "model_name": "ProgressStyleModel",
      "state": {
       "_model_module_version": "~2.1.4",
       "_view_module_version": "~2.1.4"
      }
     },
     "0ec07a053c8846c589e9d928565820b8": {
      "model_module": "jupyter-js-widgets",
      "model_module_version": "~2.1.4",
      "model_name": "LayoutModel",
      "state": {
       "_model_module_version": "~2.1.4",
       "_view_module_version": "~2.1.4"
      }
     },
     "10051bb203bf40f19c11cc7fe7b1dfd0": {
      "model_module": "jupyter-js-widgets",
      "model_module_version": "~2.1.4",
      "model_name": "HBoxModel",
      "state": {
       "_model_module_version": "~2.1.4",
       "_view_module_version": "~2.1.4",
       "children": [
        "IPY_MODEL_637a8fd4ba4d4c78a0e97b3bb7b66dcc",
        "IPY_MODEL_ff8b47444c194116b7e690040697e262"
       ],
       "layout": "IPY_MODEL_8589888056a94117b28a7335c1b7e643"
      }
     },
     "10a1e4f7e57c4f289a5d4efcb98b7e2f": {
      "model_module": "jupyter-js-widgets",
      "model_module_version": "~2.1.4",
      "model_name": "LayoutModel",
      "state": {
       "_model_module_version": "~2.1.4",
       "_view_module_version": "~2.1.4"
      }
     },
     "11382c40cf084759b989495645ab680b": {
      "model_module": "jupyter-js-widgets",
      "model_module_version": "~2.1.4",
      "model_name": "ProgressStyleModel",
      "state": {
       "_model_module_version": "~2.1.4",
       "_view_module_version": "~2.1.4"
      }
     },
     "1159630c8d9341f2bfab67d3ef107fe9": {
      "model_module": "jupyter-js-widgets",
      "model_module_version": "~2.1.4",
      "model_name": "LayoutModel",
      "state": {
       "_model_module_version": "~2.1.4",
       "_view_module_version": "~2.1.4"
      }
     },
     "11cb97e9e5704a5f9cb0e3a0ea388736": {
      "model_module": "jupyter-js-widgets",
      "model_module_version": "~2.1.4",
      "model_name": "LayoutModel",
      "state": {
       "_model_module_version": "~2.1.4",
       "_view_module_version": "~2.1.4"
      }
     },
     "14c5061d80b149d58474f146d6f30f30": {
      "model_module": "jupyter-js-widgets",
      "model_module_version": "~2.1.4",
      "model_name": "ProgressModel",
      "state": {
       "_model_module_version": "~2.1.4",
       "_view_module_version": "~2.1.4",
       "bar_style": "success",
       "layout": "IPY_MODEL_5424fbeddd0f458698dd980c2c47ae77",
       "max": 1,
       "style": "IPY_MODEL_4932e45df2d747dd80d02f1ca5e157a7",
       "value": 1
      }
     },
     "152cb032f3314c60891f43119da8bf22": {
      "model_module": "jupyter-js-widgets",
      "model_module_version": "~2.1.4",
      "model_name": "ProgressModel",
      "state": {
       "_model_module_version": "~2.1.4",
       "_view_module_version": "~2.1.4",
       "bar_style": "success",
       "layout": "IPY_MODEL_567caa0ca8454d58b74ae549a84e406a",
       "max": 1,
       "style": "IPY_MODEL_65b1263a518a4206b76a4017ecee89c6",
       "value": 1
      }
     },
     "15793e8f2c104810b289ec9967f6f997": {
      "model_module": "jupyter-js-widgets",
      "model_module_version": "~2.1.4",
      "model_name": "LayoutModel",
      "state": {
       "_model_module_version": "~2.1.4",
       "_view_module_version": "~2.1.4"
      }
     },
     "16260bf800a3442d9dc2273c8a2d17a3": {
      "model_module": "jupyter-js-widgets",
      "model_module_version": "~2.1.4",
      "model_name": "HBoxModel",
      "state": {
       "_model_module_version": "~2.1.4",
       "_view_module_version": "~2.1.4",
       "children": [
        "IPY_MODEL_f04a2121185b4f018c073fa788c17339",
        "IPY_MODEL_eb132e1e5692446eb5bcfbc08161508f"
       ],
       "layout": "IPY_MODEL_053c0dc5a6f6415e912ffaf9b79842dc"
      }
     },
     "16a170765da54252b8d567a681bb763e": {
      "model_module": "jupyter-js-widgets",
      "model_module_version": "~2.1.4",
      "model_name": "LayoutModel",
      "state": {
       "_model_module_version": "~2.1.4",
       "_view_module_version": "~2.1.4"
      }
     },
     "17fa601aebed4142ade04ae7243562b9": {
      "model_module": "jupyter-js-widgets",
      "model_module_version": "~2.1.4",
      "model_name": "HBoxModel",
      "state": {
       "_model_module_version": "~2.1.4",
       "_view_module_version": "~2.1.4",
       "children": [
        "IPY_MODEL_2adc0b655743435a9bda9089577178db",
        "IPY_MODEL_eb931f7735854462a37a3866c537996a"
       ],
       "layout": "IPY_MODEL_2af6dbbb2f3245909c2dd8628759549c"
      }
     },
     "19ad2ff18b7848b483543a6ffa5e1286": {
      "model_module": "jupyter-js-widgets",
      "model_module_version": "~2.1.4",
      "model_name": "LayoutModel",
      "state": {
       "_model_module_version": "~2.1.4",
       "_view_module_version": "~2.1.4"
      }
     },
     "1a41b50d27314e45b7ec43a77f838651": {
      "model_module": "jupyter-js-widgets",
      "model_module_version": "~2.1.4",
      "model_name": "LayoutModel",
      "state": {
       "_model_module_version": "~2.1.4",
       "_view_module_version": "~2.1.4"
      }
     },
     "1a68119e9fd94dca9798254b78c3cfcc": {
      "model_module": "jupyter-js-widgets",
      "model_module_version": "~2.1.4",
      "model_name": "LayoutModel",
      "state": {
       "_model_module_version": "~2.1.4",
       "_view_module_version": "~2.1.4"
      }
     },
     "1a9346a1b71440a68a26602346cee46f": {
      "model_module": "jupyter-js-widgets",
      "model_module_version": "~2.1.4",
      "model_name": "LayoutModel",
      "state": {
       "_model_module_version": "~2.1.4",
       "_view_module_version": "~2.1.4"
      }
     },
     "1a9c95fe660648fc96da40a58d4c61ea": {
      "model_module": "jupyter-js-widgets",
      "model_module_version": "~2.1.4",
      "model_name": "ProgressStyleModel",
      "state": {
       "_model_module_version": "~2.1.4",
       "_view_module_version": "~2.1.4"
      }
     },
     "1ab2cbd42c2c48f2bbf33aae4d3ca095": {
      "model_module": "jupyter-js-widgets",
      "model_module_version": "~2.1.4",
      "model_name": "ProgressModel",
      "state": {
       "_model_module_version": "~2.1.4",
       "_view_module_version": "~2.1.4",
       "bar_style": "success",
       "layout": "IPY_MODEL_097c4368ecd44ddb83a9b94a1e7bc447",
       "max": 1,
       "style": "IPY_MODEL_7507fe9f9a0a4c31a0724556314c38cd",
       "value": 1
      }
     },
     "1ac2b5071cea4fa8a419da9fe39ad489": {
      "model_module": "jupyter-js-widgets",
      "model_module_version": "~2.1.4",
      "model_name": "LayoutModel",
      "state": {
       "_model_module_version": "~2.1.4",
       "_view_module_version": "~2.1.4"
      }
     },
     "1c34db8be6da4deb83f9ec6877f49ad0": {
      "model_module": "jupyter-js-widgets",
      "model_module_version": "~2.1.4",
      "model_name": "LayoutModel",
      "state": {
       "_model_module_version": "~2.1.4",
       "_view_module_version": "~2.1.4"
      }
     },
     "1d0b398b6c3b49efb0fef6dcaa5cf8df": {
      "model_module": "jupyter-js-widgets",
      "model_module_version": "~2.1.4",
      "model_name": "LayoutModel",
      "state": {
       "_model_module_version": "~2.1.4",
       "_view_module_version": "~2.1.4"
      }
     },
     "1d34ad60728e451f8175ba145d7b917c": {
      "model_module": "jupyter-js-widgets",
      "model_module_version": "~2.1.4",
      "model_name": "ProgressStyleModel",
      "state": {
       "_model_module_version": "~2.1.4",
       "_view_module_version": "~2.1.4"
      }
     },
     "1d53482734544823ad1485781b4d90ef": {
      "model_module": "jupyter-js-widgets",
      "model_module_version": "~2.1.4",
      "model_name": "LayoutModel",
      "state": {
       "_model_module_version": "~2.1.4",
       "_view_module_version": "~2.1.4"
      }
     },
     "1da831876d49455bb4f0bd8fe865b878": {
      "model_module": "jupyter-js-widgets",
      "model_module_version": "~2.1.4",
      "model_name": "HBoxModel",
      "state": {
       "_model_module_version": "~2.1.4",
       "_view_module_version": "~2.1.4",
       "children": [
        "IPY_MODEL_448f97890b7b40efb45ddf3178b1d5b7",
        "IPY_MODEL_3868be67d8274a399a7a0f03810810f9"
       ],
       "layout": "IPY_MODEL_dfc4d96b7bb74a1ba42e545cc98c247a"
      }
     },
     "1e17dd844de8484b8524f4cfde7498d8": {
      "model_module": "jupyter-js-widgets",
      "model_module_version": "~2.1.4",
      "model_name": "ProgressStyleModel",
      "state": {
       "_model_module_version": "~2.1.4",
       "_view_module_version": "~2.1.4"
      }
     },
     "1ee6adcaadb441788de1fe8bdc43d2d1": {
      "model_module": "jupyter-js-widgets",
      "model_module_version": "~2.1.4",
      "model_name": "LayoutModel",
      "state": {
       "_model_module_version": "~2.1.4",
       "_view_module_version": "~2.1.4"
      }
     },
     "1eec9f5cfbe84c3f967de09c5bba86ec": {
      "model_module": "jupyter-js-widgets",
      "model_module_version": "~2.1.4",
      "model_name": "LayoutModel",
      "state": {
       "_model_module_version": "~2.1.4",
       "_view_module_version": "~2.1.4"
      }
     },
     "1fbf71948eef4f59b918e10b92dca9b9": {
      "model_module": "jupyter-js-widgets",
      "model_module_version": "~2.1.4",
      "model_name": "HBoxModel",
      "state": {
       "_model_module_version": "~2.1.4",
       "_view_module_version": "~2.1.4",
       "children": [
        "IPY_MODEL_c567cc6fc0bc45c1a8ff9eda250b94f0",
        "IPY_MODEL_504af28b987d43d181171642bafb1977"
       ],
       "layout": "IPY_MODEL_23350974cc23422c836233be101cf39a"
      }
     },
     "20f814f087134ee6843a4bc35a763c23": {
      "model_module": "jupyter-js-widgets",
      "model_module_version": "~2.1.4",
      "model_name": "LayoutModel",
      "state": {
       "_model_module_version": "~2.1.4",
       "_view_module_version": "~2.1.4"
      }
     },
     "21748dfa835149aab65d6e712f9ef35f": {
      "model_module": "jupyter-js-widgets",
      "model_module_version": "~2.1.4",
      "model_name": "ProgressStyleModel",
      "state": {
       "_model_module_version": "~2.1.4",
       "_view_module_version": "~2.1.4"
      }
     },
     "21b2946bfb604a06bb396d4267f18140": {
      "model_module": "jupyter-js-widgets",
      "model_module_version": "~2.1.4",
      "model_name": "HTMLModel",
      "state": {
       "_model_module_version": "~2.1.4",
       "_view_module_version": "~2.1.4",
       "layout": "IPY_MODEL_9bb24fe95e1b45e482c8031d28106258",
       "value": "100% 1/1 [00:10&lt;00:00, 10.16s/it]"
      }
     },
     "2223d27ba73b4b8cb8dbc1618b3f5057": {
      "model_module": "jupyter-js-widgets",
      "model_module_version": "~2.1.4",
      "model_name": "HBoxModel",
      "state": {
       "_model_module_version": "~2.1.4",
       "_view_module_version": "~2.1.4",
       "children": [
        "IPY_MODEL_f9c6d53c4a144fd3b9d94337fb7902b1",
        "IPY_MODEL_ba5b092b586a40f6a636497671eae79e"
       ],
       "layout": "IPY_MODEL_560913536c284b678608048e7d0e0e49"
      }
     },
     "22749dfa17e541689b15d7a6dfa59260": {
      "model_module": "jupyter-js-widgets",
      "model_module_version": "~2.1.4",
      "model_name": "LayoutModel",
      "state": {
       "_model_module_version": "~2.1.4",
       "_view_module_version": "~2.1.4"
      }
     },
     "23350974cc23422c836233be101cf39a": {
      "model_module": "jupyter-js-widgets",
      "model_module_version": "~2.1.4",
      "model_name": "LayoutModel",
      "state": {
       "_model_module_version": "~2.1.4",
       "_view_module_version": "~2.1.4"
      }
     },
     "255b0859f5cf4a588c2770676124e323": {
      "model_module": "jupyter-js-widgets",
      "model_module_version": "~2.1.4",
      "model_name": "LayoutModel",
      "state": {
       "_model_module_version": "~2.1.4",
       "_view_module_version": "~2.1.4"
      }
     },
     "25ad21516e4047b481d9315a0b6fe5c2": {
      "model_module": "jupyter-js-widgets",
      "model_module_version": "~2.1.4",
      "model_name": "LayoutModel",
      "state": {
       "_model_module_version": "~2.1.4",
       "_view_module_version": "~2.1.4"
      }
     },
     "25de67e857594c1d99f8d7fe06158da8": {
      "model_module": "jupyter-js-widgets",
      "model_module_version": "~2.1.4",
      "model_name": "LayoutModel",
      "state": {
       "_model_module_version": "~2.1.4",
       "_view_module_version": "~2.1.4"
      }
     },
     "25f0f6e643c947088320823a8cfe135b": {
      "model_module": "jupyter-js-widgets",
      "model_module_version": "~2.1.4",
      "model_name": "ProgressStyleModel",
      "state": {
       "_model_module_version": "~2.1.4",
       "_view_module_version": "~2.1.4"
      }
     },
     "26bfedaaf16346dfae396e5837fc84c9": {
      "model_module": "jupyter-js-widgets",
      "model_module_version": "~2.1.4",
      "model_name": "HTMLModel",
      "state": {
       "_model_module_version": "~2.1.4",
       "_view_module_version": "~2.1.4",
       "layout": "IPY_MODEL_849ad717fb884466902bb810c45d592c",
       "value": "100% 1/1 [00:09&lt;00:00,  9.91s/it]"
      }
     },
     "27141dc8b7e3426ba7b81eab542eeab9": {
      "model_module": "jupyter-js-widgets",
      "model_module_version": "~2.1.4",
      "model_name": "ProgressStyleModel",
      "state": {
       "_model_module_version": "~2.1.4",
       "_view_module_version": "~2.1.4"
      }
     },
     "2761ef2991554b0bb10ca104c0455632": {
      "model_module": "jupyter-js-widgets",
      "model_module_version": "~2.1.4",
      "model_name": "LayoutModel",
      "state": {
       "_model_module_version": "~2.1.4",
       "_view_module_version": "~2.1.4"
      }
     },
     "27f93a40709c4543828a722048ae1971": {
      "model_module": "jupyter-js-widgets",
      "model_module_version": "~2.1.4",
      "model_name": "HBoxModel",
      "state": {
       "_model_module_version": "~2.1.4",
       "_view_module_version": "~2.1.4",
       "children": [
        "IPY_MODEL_888db9f6059e491f86846611683e2dfa",
        "IPY_MODEL_07d784e3ea1a45708ba78b601b742c37"
       ],
       "layout": "IPY_MODEL_9b580209009e47c6931584eae5624b40"
      }
     },
     "29867ed12ccd4ab2af6817f843a3162b": {
      "model_module": "jupyter-js-widgets",
      "model_module_version": "~2.1.4",
      "model_name": "ProgressStyleModel",
      "state": {
       "_model_module_version": "~2.1.4",
       "_view_module_version": "~2.1.4"
      }
     },
     "2a740b0273e94cf9a31b0e5341bf1af7": {
      "model_module": "jupyter-js-widgets",
      "model_module_version": "~2.1.4",
      "model_name": "ProgressModel",
      "state": {
       "_model_module_version": "~2.1.4",
       "_view_module_version": "~2.1.4",
       "bar_style": "success",
       "layout": "IPY_MODEL_bd4fc587cec34d1cb1c397ff37ee296f",
       "max": 1,
       "style": "IPY_MODEL_33bfffa44b244f0ab6ef3c97b39b276a",
       "value": 1
      }
     },
     "2a90cf38dc5a485e9b43193de0e02410": {
      "model_module": "jupyter-js-widgets",
      "model_module_version": "~2.1.4",
      "model_name": "ProgressStyleModel",
      "state": {
       "_model_module_version": "~2.1.4",
       "_view_module_version": "~2.1.4"
      }
     },
     "2ac04671dcbf4716b8c538bc9acd095d": {
      "model_module": "jupyter-js-widgets",
      "model_module_version": "~2.1.4",
      "model_name": "LayoutModel",
      "state": {
       "_model_module_version": "~2.1.4",
       "_view_module_version": "~2.1.4"
      }
     },
     "2adc0b655743435a9bda9089577178db": {
      "model_module": "jupyter-js-widgets",
      "model_module_version": "~2.1.4",
      "model_name": "ProgressModel",
      "state": {
       "_model_module_version": "~2.1.4",
       "_view_module_version": "~2.1.4",
       "bar_style": "success",
       "layout": "IPY_MODEL_2b3399dc143f4321bc84f7a0121410d6",
       "max": 1,
       "style": "IPY_MODEL_5fc6e921ac344a068044b16cbde9b75f",
       "value": 1
      }
     },
     "2ae8d13ba2c14998a8c15d09e7a3a890": {
      "model_module": "jupyter-js-widgets",
      "model_module_version": "~2.1.4",
      "model_name": "HBoxModel",
      "state": {
       "_model_module_version": "~2.1.4",
       "_view_module_version": "~2.1.4",
       "children": [
        "IPY_MODEL_2a740b0273e94cf9a31b0e5341bf1af7",
        "IPY_MODEL_871f3ca99bff4b739a55a2bc61f286b0"
       ],
       "layout": "IPY_MODEL_d66df04a56504dd691189eb6c6164d8e"
      }
     },
     "2af6dbbb2f3245909c2dd8628759549c": {
      "model_module": "jupyter-js-widgets",
      "model_module_version": "~2.1.4",
      "model_name": "LayoutModel",
      "state": {
       "_model_module_version": "~2.1.4",
       "_view_module_version": "~2.1.4"
      }
     },
     "2b2d5b9ee6f847c8b5098d3230d3b432": {
      "model_module": "jupyter-js-widgets",
      "model_module_version": "~2.1.4",
      "model_name": "ProgressModel",
      "state": {
       "_model_module_version": "~2.1.4",
       "_view_module_version": "~2.1.4",
       "bar_style": "success",
       "layout": "IPY_MODEL_750dd382323f4dd69dc8cdac5423c655",
       "max": 1,
       "style": "IPY_MODEL_382676d2422341f99e94c03e2c17418a",
       "value": 1
      }
     },
     "2b3399dc143f4321bc84f7a0121410d6": {
      "model_module": "jupyter-js-widgets",
      "model_module_version": "~2.1.4",
      "model_name": "LayoutModel",
      "state": {
       "_model_module_version": "~2.1.4",
       "_view_module_version": "~2.1.4"
      }
     },
     "2c5092f7a67146fd99f044862b8dc533": {
      "model_module": "jupyter-js-widgets",
      "model_module_version": "~2.1.4",
      "model_name": "HBoxModel",
      "state": {
       "_model_module_version": "~2.1.4",
       "_view_module_version": "~2.1.4",
       "children": [
        "IPY_MODEL_3e2742c6b81d43bc8b97bc22317b2dd8",
        "IPY_MODEL_3047da56ed974347bca32c602cf35251"
       ],
       "layout": "IPY_MODEL_ebc47fd78fd94fd28382d3bd722eea63"
      }
     },
     "2f2e891277724c4eab2f1e3a20f9a4ae": {
      "model_module": "jupyter-js-widgets",
      "model_module_version": "~2.1.4",
      "model_name": "ProgressStyleModel",
      "state": {
       "_model_module_version": "~2.1.4",
       "_view_module_version": "~2.1.4"
      }
     },
     "30419bb261034aa59e87ac4a2f72432d": {
      "model_module": "jupyter-js-widgets",
      "model_module_version": "~2.1.4",
      "model_name": "ProgressModel",
      "state": {
       "_model_module_version": "~2.1.4",
       "_view_module_version": "~2.1.4",
       "bar_style": "success",
       "layout": "IPY_MODEL_3d4c64665aee4940b6deb1505032e0dc",
       "max": 1,
       "style": "IPY_MODEL_0d761360a53e4d8887d71ab45e21755f",
       "value": 1
      }
     },
     "3047da56ed974347bca32c602cf35251": {
      "model_module": "jupyter-js-widgets",
      "model_module_version": "~2.1.4",
      "model_name": "HTMLModel",
      "state": {
       "_model_module_version": "~2.1.4",
       "_view_module_version": "~2.1.4",
       "layout": "IPY_MODEL_501e30462bcf4eb7a00881f9df2c1cb2",
       "value": "100% 1/1 [00:09&lt;00:00,  9.89s/it]"
      }
     },
     "30de296ff4b74d85867faa817ae6c15f": {
      "model_module": "jupyter-js-widgets",
      "model_module_version": "~2.1.4",
      "model_name": "HTMLModel",
      "state": {
       "_model_module_version": "~2.1.4",
       "_view_module_version": "~2.1.4",
       "layout": "IPY_MODEL_d5fe1551f91d431ab379e650eb3ea377",
       "value": "100% 1/1 [00:09&lt;00:00,  9.98s/it]"
      }
     },
     "30f206abe9ed42ff8d6398e7562bcc46": {
      "model_module": "jupyter-js-widgets",
      "model_module_version": "~2.1.4",
      "model_name": "LayoutModel",
      "state": {
       "_model_module_version": "~2.1.4",
       "_view_module_version": "~2.1.4"
      }
     },
     "318527be3fad4984b60e050280c7bf4e": {
      "model_module": "jupyter-js-widgets",
      "model_module_version": "~2.1.4",
      "model_name": "LayoutModel",
      "state": {
       "_model_module_version": "~2.1.4",
       "_view_module_version": "~2.1.4"
      }
     },
     "31a79da9a3b44d97ab2afa21d5a42941": {
      "model_module": "jupyter-js-widgets",
      "model_module_version": "~2.1.4",
      "model_name": "ProgressStyleModel",
      "state": {
       "_model_module_version": "~2.1.4",
       "_view_module_version": "~2.1.4"
      }
     },
     "32ed6710e4d04d368e3be7d7f5e04e8a": {
      "model_module": "jupyter-js-widgets",
      "model_module_version": "~2.1.4",
      "model_name": "LayoutModel",
      "state": {
       "_model_module_version": "~2.1.4",
       "_view_module_version": "~2.1.4"
      }
     },
     "33bfffa44b244f0ab6ef3c97b39b276a": {
      "model_module": "jupyter-js-widgets",
      "model_module_version": "~2.1.4",
      "model_name": "ProgressStyleModel",
      "state": {
       "_model_module_version": "~2.1.4",
       "_view_module_version": "~2.1.4"
      }
     },
     "34a4efd9adf34b8885159168e6c3d6bd": {
      "model_module": "jupyter-js-widgets",
      "model_module_version": "~2.1.4",
      "model_name": "HTMLModel",
      "state": {
       "_model_module_version": "~2.1.4",
       "_view_module_version": "~2.1.4",
       "layout": "IPY_MODEL_74ab6ebd2d7a4609b0fe88c4ae05107e",
       "value": "100% 1/1 [00:10&lt;00:00, 10.22s/it]"
      }
     },
     "352e454ca26a4f6dbd38070bc784a2f2": {
      "model_module": "jupyter-js-widgets",
      "model_module_version": "~2.1.4",
      "model_name": "ProgressModel",
      "state": {
       "_model_module_version": "~2.1.4",
       "_view_module_version": "~2.1.4",
       "bar_style": "success",
       "layout": "IPY_MODEL_b36dc827428a484fb99297e9d3072c2c",
       "max": 1,
       "style": "IPY_MODEL_510b98ef8a9b4f448b9db92ae8e3432f",
       "value": 1
      }
     },
     "369003c528434592ac24af9db3815031": {
      "model_module": "jupyter-js-widgets",
      "model_module_version": "~2.1.4",
      "model_name": "LayoutModel",
      "state": {
       "_model_module_version": "~2.1.4",
       "_view_module_version": "~2.1.4"
      }
     },
     "36a21646873d4d729ae9b6f1dbd238ea": {
      "model_module": "jupyter-js-widgets",
      "model_module_version": "~2.1.4",
      "model_name": "ProgressModel",
      "state": {
       "_model_module_version": "~2.1.4",
       "_view_module_version": "~2.1.4",
       "bar_style": "success",
       "layout": "IPY_MODEL_edd50031c9f647a5810b21431970c2ed",
       "max": 1,
       "style": "IPY_MODEL_a4cc3309698b48bbba7647e04946eaa4",
       "value": 1
      }
     },
     "371fca8ec0d64a999904912dd0acde3a": {
      "model_module": "jupyter-js-widgets",
      "model_module_version": "~2.1.4",
      "model_name": "HBoxModel",
      "state": {
       "_model_module_version": "~2.1.4",
       "_view_module_version": "~2.1.4",
       "children": [
        "IPY_MODEL_92b35868546842629f6a1e5521f6da54",
        "IPY_MODEL_30de296ff4b74d85867faa817ae6c15f"
       ],
       "layout": "IPY_MODEL_6ac641cf95274eeab58690c8b4c84539"
      }
     },
     "382676d2422341f99e94c03e2c17418a": {
      "model_module": "jupyter-js-widgets",
      "model_module_version": "~2.1.4",
      "model_name": "ProgressStyleModel",
      "state": {
       "_model_module_version": "~2.1.4",
       "_view_module_version": "~2.1.4"
      }
     },
     "3868be67d8274a399a7a0f03810810f9": {
      "model_module": "jupyter-js-widgets",
      "model_module_version": "~2.1.4",
      "model_name": "HTMLModel",
      "state": {
       "_model_module_version": "~2.1.4",
       "_view_module_version": "~2.1.4",
       "layout": "IPY_MODEL_6d89ffa0c98f4bc48f4a4b8a614f2c4e",
       "value": "100% 1/1 [00:10&lt;00:00, 10.11s/it]"
      }
     },
     "38a2520e42ac470cbcf89238a9b2adbb": {
      "model_module": "jupyter-js-widgets",
      "model_module_version": "~2.1.4",
      "model_name": "LayoutModel",
      "state": {
       "_model_module_version": "~2.1.4",
       "_view_module_version": "~2.1.4"
      }
     },
     "39136a37356a486dbdf16fc8f6feacce": {
      "model_module": "jupyter-js-widgets",
      "model_module_version": "~2.1.4",
      "model_name": "HBoxModel",
      "state": {
       "_model_module_version": "~2.1.4",
       "_view_module_version": "~2.1.4",
       "children": [
        "IPY_MODEL_d7f9afde26804e97b350b155b9a596c7",
        "IPY_MODEL_d7e69034b0b7456392936a86fcd779d1"
       ],
       "layout": "IPY_MODEL_f85bfc9cbec04fc89c45b3d8afa1cd77"
      }
     },
     "39f6918278e94dbd97cf99fa0e5c0574": {
      "model_module": "jupyter-js-widgets",
      "model_module_version": "~2.1.4",
      "model_name": "ProgressModel",
      "state": {
       "_model_module_version": "~2.1.4",
       "_view_module_version": "~2.1.4",
       "bar_style": "success",
       "layout": "IPY_MODEL_a8d368d5c1a64404a7ceea6e0b4ef4b5",
       "max": 1,
       "style": "IPY_MODEL_732412ebcd0e4d1e98a2191076389849",
       "value": 1
      }
     },
     "3af405376407491da5c852d1cb14b99f": {
      "model_module": "jupyter-js-widgets",
      "model_module_version": "~2.1.4",
      "model_name": "LayoutModel",
      "state": {
       "_model_module_version": "~2.1.4",
       "_view_module_version": "~2.1.4"
      }
     },
     "3bf3589d63b44b2abedfb45b4add6f48": {
      "model_module": "jupyter-js-widgets",
      "model_module_version": "~2.1.4",
      "model_name": "LayoutModel",
      "state": {
       "_model_module_version": "~2.1.4",
       "_view_module_version": "~2.1.4"
      }
     },
     "3c8150248dc747ffba114920348e7720": {
      "model_module": "jupyter-js-widgets",
      "model_module_version": "~2.1.4",
      "model_name": "HTMLModel",
      "state": {
       "_model_module_version": "~2.1.4",
       "_view_module_version": "~2.1.4",
       "layout": "IPY_MODEL_16a170765da54252b8d567a681bb763e",
       "value": "100% 1/1 [00:10&lt;00:00, 10.07s/it]"
      }
     },
     "3d4c263ad1ff4c6eb25fe49edfc3589d": {
      "model_module": "jupyter-js-widgets",
      "model_module_version": "~2.1.4",
      "model_name": "LayoutModel",
      "state": {
       "_model_module_version": "~2.1.4",
       "_view_module_version": "~2.1.4"
      }
     },
     "3d4c64665aee4940b6deb1505032e0dc": {
      "model_module": "jupyter-js-widgets",
      "model_module_version": "~2.1.4",
      "model_name": "LayoutModel",
      "state": {
       "_model_module_version": "~2.1.4",
       "_view_module_version": "~2.1.4"
      }
     },
     "3da8c9c131f2401297f5680256a3a073": {
      "model_module": "jupyter-js-widgets",
      "model_module_version": "~2.1.4",
      "model_name": "ProgressModel",
      "state": {
       "_model_module_version": "~2.1.4",
       "_view_module_version": "~2.1.4",
       "bar_style": "success",
       "layout": "IPY_MODEL_e9a8730551f640988eaba5e54cffeaa7",
       "max": 1,
       "style": "IPY_MODEL_cfa0d098014541ea86b567f9b85330bd",
       "value": 1
      }
     },
     "3e2742c6b81d43bc8b97bc22317b2dd8": {
      "model_module": "jupyter-js-widgets",
      "model_module_version": "~2.1.4",
      "model_name": "ProgressModel",
      "state": {
       "_model_module_version": "~2.1.4",
       "_view_module_version": "~2.1.4",
       "bar_style": "success",
       "layout": "IPY_MODEL_615daed83c6b4f95bd1d79fb03a6efed",
       "max": 1,
       "style": "IPY_MODEL_7b58bfeadd8d47ca8d4c241740f1494e",
       "value": 1
      }
     },
     "3fc4363ba6944279b16720380928dd1c": {
      "model_module": "jupyter-js-widgets",
      "model_module_version": "~2.1.4",
      "model_name": "ProgressStyleModel",
      "state": {
       "_model_module_version": "~2.1.4",
       "_view_module_version": "~2.1.4"
      }
     },
     "3fff2544de674f66a30084c32f157f1b": {
      "model_module": "jupyter-js-widgets",
      "model_module_version": "~2.1.4",
      "model_name": "HTMLModel",
      "state": {
       "_model_module_version": "~2.1.4",
       "_view_module_version": "~2.1.4",
       "layout": "IPY_MODEL_aff5399d361d42dca713b2efd2216ad0",
       "value": "100% 1/1 [00:09&lt;00:00,  9.88s/it]"
      }
     },
     "403c6672a72b4db7bff925076c3cfc44": {
      "model_module": "jupyter-js-widgets",
      "model_module_version": "~2.1.4",
      "model_name": "ProgressStyleModel",
      "state": {
       "_model_module_version": "~2.1.4",
       "_view_module_version": "~2.1.4"
      }
     },
     "40fbd573faa747ad8b085c5d90243a7b": {
      "model_module": "jupyter-js-widgets",
      "model_module_version": "~2.1.4",
      "model_name": "ProgressModel",
      "state": {
       "_model_module_version": "~2.1.4",
       "_view_module_version": "~2.1.4",
       "bar_style": "success",
       "layout": "IPY_MODEL_b2031b1e379146b2baca9b66290092c7",
       "max": 1,
       "style": "IPY_MODEL_27141dc8b7e3426ba7b81eab542eeab9",
       "value": 1
      }
     },
     "420c11fbcb3b43459aa0b3c2dfa50165": {
      "model_module": "jupyter-js-widgets",
      "model_module_version": "~2.1.4",
      "model_name": "ProgressModel",
      "state": {
       "_model_module_version": "~2.1.4",
       "_view_module_version": "~2.1.4",
       "bar_style": "success",
       "layout": "IPY_MODEL_0884a629b2fd4fdeb7c266db1f429485",
       "max": 1,
       "style": "IPY_MODEL_2a90cf38dc5a485e9b43193de0e02410",
       "value": 1
      }
     },
     "42482ffe4ea14a2bb43bad567ca1efaf": {
      "model_module": "jupyter-js-widgets",
      "model_module_version": "~2.1.4",
      "model_name": "ProgressStyleModel",
      "state": {
       "_model_module_version": "~2.1.4",
       "_view_module_version": "~2.1.4"
      }
     },
     "4351ac92353b407ea999cdd26e56eda4": {
      "model_module": "jupyter-js-widgets",
      "model_module_version": "~2.1.4",
      "model_name": "HBoxModel",
      "state": {
       "_model_module_version": "~2.1.4",
       "_view_module_version": "~2.1.4",
       "children": [
        "IPY_MODEL_b6bbff110f8e45d8ba2556f8ce226cdb",
        "IPY_MODEL_df8ee12ff6004d4e9be409ddb2ddb798"
       ],
       "layout": "IPY_MODEL_1eec9f5cfbe84c3f967de09c5bba86ec"
      }
     },
     "43d42c8d1ae44eeba9804251180f75e9": {
      "model_module": "jupyter-js-widgets",
      "model_module_version": "~2.1.4",
      "model_name": "LayoutModel",
      "state": {
       "_model_module_version": "~2.1.4",
       "_view_module_version": "~2.1.4"
      }
     },
     "43f3bec571d54e468fd58bbff0f1f5a7": {
      "model_module": "jupyter-js-widgets",
      "model_module_version": "~2.1.4",
      "model_name": "HTMLModel",
      "state": {
       "_model_module_version": "~2.1.4",
       "_view_module_version": "~2.1.4",
       "layout": "IPY_MODEL_0c8c8528b1bb41c38746d5e567a075b6",
       "value": "100% 1/1 [00:09&lt;00:00,  9.99s/it]"
      }
     },
     "448f97890b7b40efb45ddf3178b1d5b7": {
      "model_module": "jupyter-js-widgets",
      "model_module_version": "~2.1.4",
      "model_name": "ProgressModel",
      "state": {
       "_model_module_version": "~2.1.4",
       "_view_module_version": "~2.1.4",
       "bar_style": "success",
       "layout": "IPY_MODEL_54fc6f931f694058aab64d51677df521",
       "max": 1,
       "style": "IPY_MODEL_1a9c95fe660648fc96da40a58d4c61ea",
       "value": 1
      }
     },
     "44f071d8dc7d45d9a3b8ffae363034bd": {
      "model_module": "jupyter-js-widgets",
      "model_module_version": "~2.1.4",
      "model_name": "LayoutModel",
      "state": {
       "_model_module_version": "~2.1.4",
       "_view_module_version": "~2.1.4"
      }
     },
     "46313206792e4efd9fd72ce92e36a31f": {
      "model_module": "jupyter-js-widgets",
      "model_module_version": "~2.1.4",
      "model_name": "LayoutModel",
      "state": {
       "_model_module_version": "~2.1.4",
       "_view_module_version": "~2.1.4"
      }
     },
     "4742405a02a944898edb995ed34f73c4": {
      "model_module": "jupyter-js-widgets",
      "model_module_version": "~2.1.4",
      "model_name": "LayoutModel",
      "state": {
       "_model_module_version": "~2.1.4",
       "_view_module_version": "~2.1.4"
      }
     },
     "47e7de06646c428baf74ca616c15827c": {
      "model_module": "jupyter-js-widgets",
      "model_module_version": "~2.1.4",
      "model_name": "HBoxModel",
      "state": {
       "_model_module_version": "~2.1.4",
       "_view_module_version": "~2.1.4",
       "children": [
        "IPY_MODEL_55a22764271e4bdb9f8594f4656b7006",
        "IPY_MODEL_70b83a66ded54b33a592f2629c493d48"
       ],
       "layout": "IPY_MODEL_eb42153e4e9a4f618fee237eda0f9760"
      }
     },
     "47ea9719ca03421fb4378d689aa72589": {
      "model_module": "jupyter-js-widgets",
      "model_module_version": "~2.1.4",
      "model_name": "HBoxModel",
      "state": {
       "_model_module_version": "~2.1.4",
       "_view_module_version": "~2.1.4",
       "children": [
        "IPY_MODEL_c3fe39ac49c3494ab8269ab689889268",
        "IPY_MODEL_d84cc12b98f9431a8c481aeab1444de5"
       ],
       "layout": "IPY_MODEL_8cbe3ac4da034df6aa3bee1da9b70efe"
      }
     },
     "487fe9ec42b74571a917dc0dd391858d": {
      "model_module": "jupyter-js-widgets",
      "model_module_version": "~2.1.4",
      "model_name": "HTMLModel",
      "state": {
       "_model_module_version": "~2.1.4",
       "_view_module_version": "~2.1.4",
       "layout": "IPY_MODEL_fd263c14fb13490ebb78d9bd0e55f133",
       "value": "100% 1/1 [00:09&lt;00:00,  9.87s/it]"
      }
     },
     "48a1b69c05e44f8a84bc17a3480b291f": {
      "model_module": "jupyter-js-widgets",
      "model_module_version": "~2.1.4",
      "model_name": "HBoxModel",
      "state": {
       "_model_module_version": "~2.1.4",
       "_view_module_version": "~2.1.4",
       "children": [
        "IPY_MODEL_de56b3c17b5d453999670dfb64253268",
        "IPY_MODEL_ffcbb8ff6b3041538ba0554842a149a7"
       ],
       "layout": "IPY_MODEL_46313206792e4efd9fd72ce92e36a31f"
      }
     },
     "48d5a7bc85be41e38a3ea14423cdd061": {
      "model_module": "jupyter-js-widgets",
      "model_module_version": "~2.1.4",
      "model_name": "ProgressModel",
      "state": {
       "_model_module_version": "~2.1.4",
       "_view_module_version": "~2.1.4",
       "bar_style": "success",
       "layout": "IPY_MODEL_abcd1fe0849f4e218f2705b640635eed",
       "max": 1,
       "style": "IPY_MODEL_d0ec89bb631f4efab22ab451a6231108",
       "value": 1
      }
     },
     "4932e45df2d747dd80d02f1ca5e157a7": {
      "model_module": "jupyter-js-widgets",
      "model_module_version": "~2.1.4",
      "model_name": "ProgressStyleModel",
      "state": {
       "_model_module_version": "~2.1.4",
       "_view_module_version": "~2.1.4"
      }
     },
     "499e25abebb6446fa5db1f42c64465ba": {
      "model_module": "jupyter-js-widgets",
      "model_module_version": "~2.1.4",
      "model_name": "HTMLModel",
      "state": {
       "_model_module_version": "~2.1.4",
       "_view_module_version": "~2.1.4",
       "layout": "IPY_MODEL_19ad2ff18b7848b483543a6ffa5e1286",
       "value": "100% 1/1 [00:09&lt;00:00,  9.87s/it]"
      }
     },
     "4a17e21db4804f3f89dce5ecf70b669f": {
      "model_module": "jupyter-js-widgets",
      "model_module_version": "~2.1.4",
      "model_name": "LayoutModel",
      "state": {
       "_model_module_version": "~2.1.4",
       "_view_module_version": "~2.1.4"
      }
     },
     "4a42e03484904a91ae7833595cd1f65b": {
      "model_module": "jupyter-js-widgets",
      "model_module_version": "~2.1.4",
      "model_name": "LayoutModel",
      "state": {
       "_model_module_version": "~2.1.4",
       "_view_module_version": "~2.1.4"
      }
     },
     "4c8f560e017a43f4890377959e31faf7": {
      "model_module": "jupyter-js-widgets",
      "model_module_version": "~2.1.4",
      "model_name": "LayoutModel",
      "state": {
       "_model_module_version": "~2.1.4",
       "_view_module_version": "~2.1.4"
      }
     },
     "4d4c2ae735764810bb760515976befea": {
      "model_module": "jupyter-js-widgets",
      "model_module_version": "~2.1.4",
      "model_name": "ProgressModel",
      "state": {
       "_model_module_version": "~2.1.4",
       "_view_module_version": "~2.1.4",
       "bar_style": "success",
       "layout": "IPY_MODEL_541d6c57bd9a4481af624dffb2e8ad75",
       "max": 1,
       "style": "IPY_MODEL_a9b71f1ab9974e24bd69b0846eac827b",
       "value": 1
      }
     },
     "4dd552437cea46428a43c72c4d637c15": {
      "model_module": "jupyter-js-widgets",
      "model_module_version": "~2.1.4",
      "model_name": "LayoutModel",
      "state": {
       "_model_module_version": "~2.1.4",
       "_view_module_version": "~2.1.4"
      }
     },
     "4e09a65b9e2849d2873c8c8b19eb584f": {
      "model_module": "jupyter-js-widgets",
      "model_module_version": "~2.1.4",
      "model_name": "LayoutModel",
      "state": {
       "_model_module_version": "~2.1.4",
       "_view_module_version": "~2.1.4"
      }
     },
     "4e1e309e66304807a4762b5977ff7c30": {
      "model_module": "jupyter-js-widgets",
      "model_module_version": "~2.1.4",
      "model_name": "ProgressModel",
      "state": {
       "_model_module_version": "~2.1.4",
       "_view_module_version": "~2.1.4",
       "bar_style": "danger",
       "layout": "IPY_MODEL_b6d63fbc84d447ffb82d79360fd67e4e",
       "max": 1,
       "style": "IPY_MODEL_6311e5f0e3c2408a99e3e7ff27ac2431"
      }
     },
     "4e7db87ffaff46a393c52213af017081": {
      "model_module": "jupyter-js-widgets",
      "model_module_version": "~2.1.4",
      "model_name": "HBoxModel",
      "state": {
       "_model_module_version": "~2.1.4",
       "_view_module_version": "~2.1.4",
       "children": [
        "IPY_MODEL_7098c143abd949b488947f079fcbf48a",
        "IPY_MODEL_d078ab96f6a74629b3f4969b463f94d2"
       ],
       "layout": "IPY_MODEL_7a07ea0268584060951a765d607de72c"
      }
     },
     "4ea67cc5b5a6453788bab481d2114d7f": {
      "model_module": "jupyter-js-widgets",
      "model_module_version": "~2.1.4",
      "model_name": "HTMLModel",
      "state": {
       "_model_module_version": "~2.1.4",
       "_view_module_version": "~2.1.4",
       "layout": "IPY_MODEL_d83df1105310412e8b5fac141a0be53b",
       "value": "100% 1/1 [00:09&lt;00:00,  9.92s/it]"
      }
     },
     "4ef514e3b0dc41a0b7bcce1693752bab": {
      "model_module": "jupyter-js-widgets",
      "model_module_version": "~2.1.4",
      "model_name": "ProgressModel",
      "state": {
       "_model_module_version": "~2.1.4",
       "_view_module_version": "~2.1.4",
       "bar_style": "success",
       "layout": "IPY_MODEL_b76ccb4b7cc04d5dbe56852aa366dd9f",
       "max": 1,
       "style": "IPY_MODEL_e7a390520b7c48289c994bffba154ad8",
       "value": 1
      }
     },
     "501e30462bcf4eb7a00881f9df2c1cb2": {
      "model_module": "jupyter-js-widgets",
      "model_module_version": "~2.1.4",
      "model_name": "LayoutModel",
      "state": {
       "_model_module_version": "~2.1.4",
       "_view_module_version": "~2.1.4"
      }
     },
     "504af28b987d43d181171642bafb1977": {
      "model_module": "jupyter-js-widgets",
      "model_module_version": "~2.1.4",
      "model_name": "HTMLModel",
      "state": {
       "_model_module_version": "~2.1.4",
       "_view_module_version": "~2.1.4",
       "layout": "IPY_MODEL_1159630c8d9341f2bfab67d3ef107fe9",
       "value": "100% 1/1 [00:09&lt;00:00,  9.89s/it]"
      }
     },
     "510b98ef8a9b4f448b9db92ae8e3432f": {
      "model_module": "jupyter-js-widgets",
      "model_module_version": "~2.1.4",
      "model_name": "ProgressStyleModel",
      "state": {
       "_model_module_version": "~2.1.4",
       "_view_module_version": "~2.1.4"
      }
     },
     "5131a8c2bceb44fc9c7179d92bdcd1ca": {
      "model_module": "jupyter-js-widgets",
      "model_module_version": "~2.1.4",
      "model_name": "LayoutModel",
      "state": {
       "_model_module_version": "~2.1.4",
       "_view_module_version": "~2.1.4"
      }
     },
     "5237fdde27d241389be8cb6f2d56c618": {
      "model_module": "jupyter-js-widgets",
      "model_module_version": "~2.1.4",
      "model_name": "LayoutModel",
      "state": {
       "_model_module_version": "~2.1.4",
       "_view_module_version": "~2.1.4"
      }
     },
     "530413ec2b0045ee85e3cc88092d9446": {
      "model_module": "jupyter-js-widgets",
      "model_module_version": "~2.1.4",
      "model_name": "LayoutModel",
      "state": {
       "_model_module_version": "~2.1.4",
       "_view_module_version": "~2.1.4"
      }
     },
     "541d6c57bd9a4481af624dffb2e8ad75": {
      "model_module": "jupyter-js-widgets",
      "model_module_version": "~2.1.4",
      "model_name": "LayoutModel",
      "state": {
       "_model_module_version": "~2.1.4",
       "_view_module_version": "~2.1.4"
      }
     },
     "5424fbeddd0f458698dd980c2c47ae77": {
      "model_module": "jupyter-js-widgets",
      "model_module_version": "~2.1.4",
      "model_name": "LayoutModel",
      "state": {
       "_model_module_version": "~2.1.4",
       "_view_module_version": "~2.1.4"
      }
     },
     "546dff5cf9964dc2a53a35dada9631e7": {
      "model_module": "jupyter-js-widgets",
      "model_module_version": "~2.1.4",
      "model_name": "LayoutModel",
      "state": {
       "_model_module_version": "~2.1.4",
       "_view_module_version": "~2.1.4"
      }
     },
     "546ea2c8dbe44a198a2d21ac16084244": {
      "model_module": "jupyter-js-widgets",
      "model_module_version": "~2.1.4",
      "model_name": "ProgressStyleModel",
      "state": {
       "_model_module_version": "~2.1.4",
       "_view_module_version": "~2.1.4"
      }
     },
     "547964fbe6274b5d852f7dada8337abc": {
      "model_module": "jupyter-js-widgets",
      "model_module_version": "~2.1.4",
      "model_name": "ProgressModel",
      "state": {
       "_model_module_version": "~2.1.4",
       "_view_module_version": "~2.1.4",
       "bar_style": "success",
       "layout": "IPY_MODEL_f370c6b98ec84d97ad29da01cae76f58",
       "max": 1,
       "style": "IPY_MODEL_546ea2c8dbe44a198a2d21ac16084244",
       "value": 1
      }
     },
     "54f2dacc7d644df19385ad94e185ffda": {
      "model_module": "jupyter-js-widgets",
      "model_module_version": "~2.1.4",
      "model_name": "HTMLModel",
      "state": {
       "_model_module_version": "~2.1.4",
       "_view_module_version": "~2.1.4",
       "layout": "IPY_MODEL_7871f0a2d63b4f98ad00d4fd98717286",
       "value": "100% 1/1 [00:09&lt;00:00,  9.90s/it]"
      }
     },
     "54fc6f931f694058aab64d51677df521": {
      "model_module": "jupyter-js-widgets",
      "model_module_version": "~2.1.4",
      "model_name": "LayoutModel",
      "state": {
       "_model_module_version": "~2.1.4",
       "_view_module_version": "~2.1.4"
      }
     },
     "55a22764271e4bdb9f8594f4656b7006": {
      "model_module": "jupyter-js-widgets",
      "model_module_version": "~2.1.4",
      "model_name": "ProgressModel",
      "state": {
       "_model_module_version": "~2.1.4",
       "_view_module_version": "~2.1.4",
       "bar_style": "success",
       "layout": "IPY_MODEL_bd9646f919824067811862055bcc8d79",
       "max": 1,
       "style": "IPY_MODEL_0260934462e54d3382a016bc2d846a5f",
       "value": 1
      }
     },
     "560913536c284b678608048e7d0e0e49": {
      "model_module": "jupyter-js-widgets",
      "model_module_version": "~2.1.4",
      "model_name": "LayoutModel",
      "state": {
       "_model_module_version": "~2.1.4",
       "_view_module_version": "~2.1.4"
      }
     },
     "561b991aaad445d895f60db03f5690ad": {
      "model_module": "jupyter-js-widgets",
      "model_module_version": "~2.1.4",
      "model_name": "HBoxModel",
      "state": {
       "_model_module_version": "~2.1.4",
       "_view_module_version": "~2.1.4",
       "children": [
        "IPY_MODEL_b8588f0139804072a03bf8d27f6980a8",
        "IPY_MODEL_6196e004f5454904abbf932952123041"
       ],
       "layout": "IPY_MODEL_7dfb5ffbb5b949b9b2fd4de7bfaf9c24"
      }
     },
     "567caa0ca8454d58b74ae549a84e406a": {
      "model_module": "jupyter-js-widgets",
      "model_module_version": "~2.1.4",
      "model_name": "LayoutModel",
      "state": {
       "_model_module_version": "~2.1.4",
       "_view_module_version": "~2.1.4"
      }
     },
     "574e0344e6b341fc88c286d33a34148b": {
      "model_module": "jupyter-js-widgets",
      "model_module_version": "~2.1.4",
      "model_name": "ProgressModel",
      "state": {
       "_model_module_version": "~2.1.4",
       "_view_module_version": "~2.1.4",
       "bar_style": "success",
       "layout": "IPY_MODEL_79876791fed54bcc9b0731b1e1e0679c",
       "max": 1,
       "style": "IPY_MODEL_42482ffe4ea14a2bb43bad567ca1efaf",
       "value": 1
      }
     },
     "57e969d4d40048119efa89801a408acf": {
      "model_module": "jupyter-js-widgets",
      "model_module_version": "~2.1.4",
      "model_name": "LayoutModel",
      "state": {
       "_model_module_version": "~2.1.4",
       "_view_module_version": "~2.1.4"
      }
     },
     "5819b86c9ba3409ea20ff5dd51f900ce": {
      "model_module": "jupyter-js-widgets",
      "model_module_version": "~2.1.4",
      "model_name": "ProgressModel",
      "state": {
       "_model_module_version": "~2.1.4",
       "_view_module_version": "~2.1.4",
       "bar_style": "success",
       "layout": "IPY_MODEL_5b0c0365d31c47c187bee5e4b96baa88",
       "max": 1,
       "style": "IPY_MODEL_21748dfa835149aab65d6e712f9ef35f",
       "value": 1
      }
     },
     "59c4bc40b96d4868aafce0a84209dffd": {
      "model_module": "jupyter-js-widgets",
      "model_module_version": "~2.1.4",
      "model_name": "LayoutModel",
      "state": {
       "_model_module_version": "~2.1.4",
       "_view_module_version": "~2.1.4"
      }
     },
     "59f51e61265349169d7cfb5e8ef14638": {
      "model_module": "jupyter-js-widgets",
      "model_module_version": "~2.1.4",
      "model_name": "ProgressModel",
      "state": {
       "_model_module_version": "~2.1.4",
       "_view_module_version": "~2.1.4",
       "bar_style": "success",
       "layout": "IPY_MODEL_c5d78a10c03b4dfabeb3e50d69bf6921",
       "max": 1,
       "style": "IPY_MODEL_d1eb8d0526664f87930963813ca7ce1d",
       "value": 1
      }
     },
     "59fe6198a1a94dbbad798bdf20963df7": {
      "model_module": "jupyter-js-widgets",
      "model_module_version": "~2.1.4",
      "model_name": "ProgressStyleModel",
      "state": {
       "_model_module_version": "~2.1.4",
       "_view_module_version": "~2.1.4"
      }
     },
     "5a29ed9fc6ea46d7a39b100b898d5cfe": {
      "model_module": "jupyter-js-widgets",
      "model_module_version": "~2.1.4",
      "model_name": "HBoxModel",
      "state": {
       "_model_module_version": "~2.1.4",
       "_view_module_version": "~2.1.4",
       "children": [
        "IPY_MODEL_f5c76fc2e4424f3cb86476bfa6317762",
        "IPY_MODEL_26bfedaaf16346dfae396e5837fc84c9"
       ],
       "layout": "IPY_MODEL_70f5c80aed3b4bd58eeac07bbd69e572"
      }
     },
     "5b0c0365d31c47c187bee5e4b96baa88": {
      "model_module": "jupyter-js-widgets",
      "model_module_version": "~2.1.4",
      "model_name": "LayoutModel",
      "state": {
       "_model_module_version": "~2.1.4",
       "_view_module_version": "~2.1.4"
      }
     },
     "5b13ab8673cf4fbeb867050e33bb0d15": {
      "model_module": "jupyter-js-widgets",
      "model_module_version": "~2.1.4",
      "model_name": "HTMLModel",
      "state": {
       "_model_module_version": "~2.1.4",
       "_view_module_version": "~2.1.4",
       "layout": "IPY_MODEL_4a17e21db4804f3f89dce5ecf70b669f",
       "value": "100% 1/1 [00:10&lt;00:00, 10.04s/it]"
      }
     },
     "5b4b96835c2b4ab48c6d0de3d95d417e": {
      "model_module": "jupyter-js-widgets",
      "model_module_version": "~2.1.4",
      "model_name": "HTMLModel",
      "state": {
       "_model_module_version": "~2.1.4",
       "_view_module_version": "~2.1.4",
       "layout": "IPY_MODEL_a949046eba4445fd9b2251c7f8c008e4",
       "value": "100% 1/1 [00:09&lt;00:00,  9.90s/it]"
      }
     },
     "5dd11610325146a69339a34002fb2dfc": {
      "model_module": "jupyter-js-widgets",
      "model_module_version": "~2.1.4",
      "model_name": "HTMLModel",
      "state": {
       "_model_module_version": "~2.1.4",
       "_view_module_version": "~2.1.4",
       "layout": "IPY_MODEL_f2c03ac6c1634d2888889e50b850aba3",
       "value": "100% 1/1 [00:09&lt;00:00,  9.87s/it]"
      }
     },
     "5e2b9c32aee8471e840e70d2ed4b3dcc": {
      "model_module": "jupyter-js-widgets",
      "model_module_version": "~2.1.4",
      "model_name": "LayoutModel",
      "state": {
       "_model_module_version": "~2.1.4",
       "_view_module_version": "~2.1.4"
      }
     },
     "5e8bff8625e048c4af0833648b1d1e52": {
      "model_module": "jupyter-js-widgets",
      "model_module_version": "~2.1.4",
      "model_name": "LayoutModel",
      "state": {
       "_model_module_version": "~2.1.4",
       "_view_module_version": "~2.1.4"
      }
     },
     "5fc6e921ac344a068044b16cbde9b75f": {
      "model_module": "jupyter-js-widgets",
      "model_module_version": "~2.1.4",
      "model_name": "ProgressStyleModel",
      "state": {
       "_model_module_version": "~2.1.4",
       "_view_module_version": "~2.1.4"
      }
     },
     "607fdc105442471b8bc0c5081cd82cd9": {
      "model_module": "jupyter-js-widgets",
      "model_module_version": "~2.1.4",
      "model_name": "HBoxModel",
      "state": {
       "_model_module_version": "~2.1.4",
       "_view_module_version": "~2.1.4",
       "children": [
        "IPY_MODEL_40fbd573faa747ad8b085c5d90243a7b",
        "IPY_MODEL_01e6100c0a994e9195e35d2411346277"
       ],
       "layout": "IPY_MODEL_63ebb2c176e54c19aaf19bcbb569dde3"
      }
     },
     "60fa16db62144b26b11dce12a8f3f495": {
      "model_module": "jupyter-js-widgets",
      "model_module_version": "~2.1.4",
      "model_name": "ProgressStyleModel",
      "state": {
       "_model_module_version": "~2.1.4",
       "_view_module_version": "~2.1.4"
      }
     },
     "6125512c5212424191d54a7c97f9d184": {
      "model_module": "jupyter-js-widgets",
      "model_module_version": "~2.1.4",
      "model_name": "LayoutModel",
      "state": {
       "_model_module_version": "~2.1.4",
       "_view_module_version": "~2.1.4"
      }
     },
     "6139de1d0e7b41ef92cfe2e28433aeee": {
      "model_module": "jupyter-js-widgets",
      "model_module_version": "~2.1.4",
      "model_name": "HTMLModel",
      "state": {
       "_model_module_version": "~2.1.4",
       "_view_module_version": "~2.1.4",
       "layout": "IPY_MODEL_a7bbe6594a9541c89e5795261f2e9236",
       "value": "100% 1/1 [00:10&lt;00:00, 10.03s/it]"
      }
     },
     "615daed83c6b4f95bd1d79fb03a6efed": {
      "model_module": "jupyter-js-widgets",
      "model_module_version": "~2.1.4",
      "model_name": "LayoutModel",
      "state": {
       "_model_module_version": "~2.1.4",
       "_view_module_version": "~2.1.4"
      }
     },
     "6169a42682294b09bdaa38d347e6ce35": {
      "model_module": "jupyter-js-widgets",
      "model_module_version": "~2.1.4",
      "model_name": "LayoutModel",
      "state": {
       "_model_module_version": "~2.1.4",
       "_view_module_version": "~2.1.4"
      }
     },
     "6196e004f5454904abbf932952123041": {
      "model_module": "jupyter-js-widgets",
      "model_module_version": "~2.1.4",
      "model_name": "HTMLModel",
      "state": {
       "_model_module_version": "~2.1.4",
       "_view_module_version": "~2.1.4",
       "layout": "IPY_MODEL_3af405376407491da5c852d1cb14b99f",
       "value": "100% 1/1 [00:09&lt;00:00,  9.86s/it]"
      }
     },
     "61d35472081a4491ad6f2a7191a95f1c": {
      "model_module": "jupyter-js-widgets",
      "model_module_version": "~2.1.4",
      "model_name": "LayoutModel",
      "state": {
       "_model_module_version": "~2.1.4",
       "_view_module_version": "~2.1.4"
      }
     },
     "621ffa3cfdfc4302971f38b3689c93b8": {
      "model_module": "jupyter-js-widgets",
      "model_module_version": "~2.1.4",
      "model_name": "HBoxModel",
      "state": {
       "_model_module_version": "~2.1.4",
       "_view_module_version": "~2.1.4",
       "children": [
        "IPY_MODEL_352e454ca26a4f6dbd38070bc784a2f2",
        "IPY_MODEL_96c2aba7c3e24006a32a81827a7dd36f"
       ],
       "layout": "IPY_MODEL_d07bedf1e8a141c3a1a1770b27ca37b2"
      }
     },
     "6311e5f0e3c2408a99e3e7ff27ac2431": {
      "model_module": "jupyter-js-widgets",
      "model_module_version": "~2.1.4",
      "model_name": "ProgressStyleModel",
      "state": {
       "_model_module_version": "~2.1.4",
       "_view_module_version": "~2.1.4"
      }
     },
     "6349e3e30c724021a36ea407a17ae9ae": {
      "model_module": "jupyter-js-widgets",
      "model_module_version": "~2.1.4",
      "model_name": "HTMLModel",
      "state": {
       "_model_module_version": "~2.1.4",
       "_view_module_version": "~2.1.4",
       "layout": "IPY_MODEL_9df2d16bf0064f289964400b380112a8",
       "value": "100% 1/1 [00:09&lt;00:00,  9.88s/it]"
      }
     },
     "637a8fd4ba4d4c78a0e97b3bb7b66dcc": {
      "model_module": "jupyter-js-widgets",
      "model_module_version": "~2.1.4",
      "model_name": "ProgressModel",
      "state": {
       "_model_module_version": "~2.1.4",
       "_view_module_version": "~2.1.4",
       "bar_style": "success",
       "layout": "IPY_MODEL_b5940e13d1e746c6b6b5386627f60bda",
       "max": 1,
       "style": "IPY_MODEL_25f0f6e643c947088320823a8cfe135b",
       "value": 1
      }
     },
     "63e1c9260bb249139efa0913fb580f7e": {
      "model_module": "jupyter-js-widgets",
      "model_module_version": "~2.1.4",
      "model_name": "LayoutModel",
      "state": {
       "_model_module_version": "~2.1.4",
       "_view_module_version": "~2.1.4"
      }
     },
     "63ebb2c176e54c19aaf19bcbb569dde3": {
      "model_module": "jupyter-js-widgets",
      "model_module_version": "~2.1.4",
      "model_name": "LayoutModel",
      "state": {
       "_model_module_version": "~2.1.4",
       "_view_module_version": "~2.1.4"
      }
     },
     "657f4dbfb76043b185e9db0ceea78fd6": {
      "model_module": "jupyter-js-widgets",
      "model_module_version": "~2.1.4",
      "model_name": "HTMLModel",
      "state": {
       "_model_module_version": "~2.1.4",
       "_view_module_version": "~2.1.4",
       "layout": "IPY_MODEL_09a688bef2344eb6a18b8a5481da5236",
       "value": "100% 1/1 [00:09&lt;00:00,  9.90s/it]"
      }
     },
     "65b1263a518a4206b76a4017ecee89c6": {
      "model_module": "jupyter-js-widgets",
      "model_module_version": "~2.1.4",
      "model_name": "ProgressStyleModel",
      "state": {
       "_model_module_version": "~2.1.4",
       "_view_module_version": "~2.1.4"
      }
     },
     "6601e4a221a341b4bf0bd532e512d67c": {
      "model_module": "jupyter-js-widgets",
      "model_module_version": "~2.1.4",
      "model_name": "ProgressModel",
      "state": {
       "_model_module_version": "~2.1.4",
       "_view_module_version": "~2.1.4",
       "bar_style": "success",
       "layout": "IPY_MODEL_98168f4947da4bc1a6fa890cf94e92df",
       "max": 1,
       "style": "IPY_MODEL_ab10b36fff8d4b498c52a8117f69f9e8",
       "value": 1
      }
     },
     "66b9a30dd1654ea98f40a86b6c437e60": {
      "model_module": "jupyter-js-widgets",
      "model_module_version": "~2.1.4",
      "model_name": "LayoutModel",
      "state": {
       "_model_module_version": "~2.1.4",
       "_view_module_version": "~2.1.4"
      }
     },
     "676933e66d74459d8a59512e05174724": {
      "model_module": "jupyter-js-widgets",
      "model_module_version": "~2.1.4",
      "model_name": "HBoxModel",
      "state": {
       "_model_module_version": "~2.1.4",
       "_view_module_version": "~2.1.4",
       "children": [
        "IPY_MODEL_152cb032f3314c60891f43119da8bf22",
        "IPY_MODEL_787f6ae2908d4233822740ffa54763b9"
       ],
       "layout": "IPY_MODEL_ee7e3c94ef694fd59b987132d48e649e"
      }
     },
     "67836ca979c446c99102522601f4821f": {
      "model_module": "jupyter-js-widgets",
      "model_module_version": "~2.1.4",
      "model_name": "HBoxModel",
      "state": {
       "_model_module_version": "~2.1.4",
       "_view_module_version": "~2.1.4",
       "children": [
        "IPY_MODEL_9c073c9094294a93b7241bb9c8e980cf",
        "IPY_MODEL_43f3bec571d54e468fd58bbff0f1f5a7"
       ],
       "layout": "IPY_MODEL_a7c3e81d130844cf873123a041301b26"
      }
     },
     "68e21c5187fa43eca69c901c8a29653a": {
      "model_module": "jupyter-js-widgets",
      "model_module_version": "~2.1.4",
      "model_name": "HBoxModel",
      "state": {
       "_model_module_version": "~2.1.4",
       "_view_module_version": "~2.1.4",
       "children": [
        "IPY_MODEL_30419bb261034aa59e87ac4a2f72432d",
        "IPY_MODEL_87f257e11b414c32a835b01e337b86ce"
       ],
       "layout": "IPY_MODEL_83cde4ad9ace4b20a22043b06e407819"
      }
     },
     "696777d5d14d4dbd96e3e6b94b7a6449": {
      "model_module": "jupyter-js-widgets",
      "model_module_version": "~2.1.4",
      "model_name": "LayoutModel",
      "state": {
       "_model_module_version": "~2.1.4",
       "_view_module_version": "~2.1.4"
      }
     },
     "69d3445d7faf499c9dd15270282fe551": {
      "model_module": "jupyter-js-widgets",
      "model_module_version": "~2.1.4",
      "model_name": "HTMLModel",
      "state": {
       "_model_module_version": "~2.1.4",
       "_view_module_version": "~2.1.4",
       "layout": "IPY_MODEL_b4373b0722c144b3b5a35c4d27fc5e6b",
       "value": "100% 1/1 [00:10&lt;00:00, 10.11s/it]"
      }
     },
     "6a8e9bc025fb402f87386e7da77e5936": {
      "model_module": "jupyter-js-widgets",
      "model_module_version": "~2.1.4",
      "model_name": "HBoxModel",
      "state": {
       "_model_module_version": "~2.1.4",
       "_view_module_version": "~2.1.4",
       "children": [
        "IPY_MODEL_6601e4a221a341b4bf0bd532e512d67c",
        "IPY_MODEL_3fff2544de674f66a30084c32f157f1b"
       ],
       "layout": "IPY_MODEL_255b0859f5cf4a588c2770676124e323"
      }
     },
     "6ac641cf95274eeab58690c8b4c84539": {
      "model_module": "jupyter-js-widgets",
      "model_module_version": "~2.1.4",
      "model_name": "LayoutModel",
      "state": {
       "_model_module_version": "~2.1.4",
       "_view_module_version": "~2.1.4"
      }
     },
     "6b13fe17abb84f59a0c5ddea1c82caf5": {
      "model_module": "jupyter-js-widgets",
      "model_module_version": "~2.1.4",
      "model_name": "HBoxModel",
      "state": {
       "_model_module_version": "~2.1.4",
       "_view_module_version": "~2.1.4",
       "children": [
        "IPY_MODEL_d4164aa4e2ac46aeb7125b565a49a3fc",
        "IPY_MODEL_b49f566b6f014066b88762dda02e3274"
       ],
       "layout": "IPY_MODEL_6cb48f7658a84591b4a96efeecf561e5"
      }
     },
     "6cb48f7658a84591b4a96efeecf561e5": {
      "model_module": "jupyter-js-widgets",
      "model_module_version": "~2.1.4",
      "model_name": "LayoutModel",
      "state": {
       "_model_module_version": "~2.1.4",
       "_view_module_version": "~2.1.4"
      }
     },
     "6cbb568498fe473e90c8fdcf8288c2ad": {
      "model_module": "jupyter-js-widgets",
      "model_module_version": "~2.1.4",
      "model_name": "LayoutModel",
      "state": {
       "_model_module_version": "~2.1.4",
       "_view_module_version": "~2.1.4"
      }
     },
     "6d89ffa0c98f4bc48f4a4b8a614f2c4e": {
      "model_module": "jupyter-js-widgets",
      "model_module_version": "~2.1.4",
      "model_name": "LayoutModel",
      "state": {
       "_model_module_version": "~2.1.4",
       "_view_module_version": "~2.1.4"
      }
     },
     "6e803a632b55480dba20a7bc632718e6": {
      "model_module": "jupyter-js-widgets",
      "model_module_version": "~2.1.4",
      "model_name": "LayoutModel",
      "state": {
       "_model_module_version": "~2.1.4",
       "_view_module_version": "~2.1.4"
      }
     },
     "6f44aab5a7264ec0b460f11d7ac2f408": {
      "model_module": "jupyter-js-widgets",
      "model_module_version": "~2.1.4",
      "model_name": "ProgressModel",
      "state": {
       "_model_module_version": "~2.1.4",
       "_view_module_version": "~2.1.4",
       "bar_style": "success",
       "layout": "IPY_MODEL_80ccab6e228a43d2a71621ff6913e6ae",
       "max": 1,
       "style": "IPY_MODEL_c699321d25a0435e89bc21ae0315e48e",
       "value": 1
      }
     },
     "6fecc62e521a4aeb8b37c9f581acfee6": {
      "model_module": "jupyter-js-widgets",
      "model_module_version": "~2.1.4",
      "model_name": "LayoutModel",
      "state": {
       "_model_module_version": "~2.1.4",
       "_view_module_version": "~2.1.4"
      }
     },
     "703e4399b537447aab18422756a352ac": {
      "model_module": "jupyter-js-widgets",
      "model_module_version": "~2.1.4",
      "model_name": "LayoutModel",
      "state": {
       "_model_module_version": "~2.1.4",
       "_view_module_version": "~2.1.4"
      }
     },
     "7098c143abd949b488947f079fcbf48a": {
      "model_module": "jupyter-js-widgets",
      "model_module_version": "~2.1.4",
      "model_name": "ProgressModel",
      "state": {
       "_model_module_version": "~2.1.4",
       "_view_module_version": "~2.1.4",
       "bar_style": "success",
       "layout": "IPY_MODEL_8dd3939f65ba49d9b076b34502cf2022",
       "max": 1,
       "style": "IPY_MODEL_ca020073633648de878a6de83085e3d8",
       "value": 1
      }
     },
     "70b83a66ded54b33a592f2629c493d48": {
      "model_module": "jupyter-js-widgets",
      "model_module_version": "~2.1.4",
      "model_name": "HTMLModel",
      "state": {
       "_model_module_version": "~2.1.4",
       "_view_module_version": "~2.1.4",
       "layout": "IPY_MODEL_61d35472081a4491ad6f2a7191a95f1c",
       "value": "100% 1/1 [00:09&lt;00:00,  9.86s/it]"
      }
     },
     "70f5c80aed3b4bd58eeac07bbd69e572": {
      "model_module": "jupyter-js-widgets",
      "model_module_version": "~2.1.4",
      "model_name": "LayoutModel",
      "state": {
       "_model_module_version": "~2.1.4",
       "_view_module_version": "~2.1.4"
      }
     },
     "71f7f3884eb24ade926f0e49ae056126": {
      "model_module": "jupyter-js-widgets",
      "model_module_version": "~2.1.4",
      "model_name": "HBoxModel",
      "state": {
       "_model_module_version": "~2.1.4",
       "_view_module_version": "~2.1.4",
       "children": [
        "IPY_MODEL_4ef514e3b0dc41a0b7bcce1693752bab",
        "IPY_MODEL_f6c8ff909354446ca7c9a0134136ca87"
       ],
       "layout": "IPY_MODEL_6fecc62e521a4aeb8b37c9f581acfee6"
      }
     },
     "72fd281341fa4a43ae84e76914b33913": {
      "model_module": "jupyter-js-widgets",
      "model_module_version": "~2.1.4",
      "model_name": "HBoxModel",
      "state": {
       "_model_module_version": "~2.1.4",
       "_view_module_version": "~2.1.4",
       "children": [
        "IPY_MODEL_046f2c7693d243c9b6806e926b98df93",
        "IPY_MODEL_f58f1812381840a1a978a372b391fdc5"
       ],
       "layout": "IPY_MODEL_fb801b21ae59468786b34966f99bf5e6"
      }
     },
     "732412ebcd0e4d1e98a2191076389849": {
      "model_module": "jupyter-js-widgets",
      "model_module_version": "~2.1.4",
      "model_name": "ProgressStyleModel",
      "state": {
       "_model_module_version": "~2.1.4",
       "_view_module_version": "~2.1.4"
      }
     },
     "736338a969a84505b9cf01e8a690ce79": {
      "model_module": "jupyter-js-widgets",
      "model_module_version": "~2.1.4",
      "model_name": "LayoutModel",
      "state": {
       "_model_module_version": "~2.1.4",
       "_view_module_version": "~2.1.4"
      }
     },
     "73adf4c855ba4a3ebd521b12f577e0db": {
      "model_module": "jupyter-js-widgets",
      "model_module_version": "~2.1.4",
      "model_name": "LayoutModel",
      "state": {
       "_model_module_version": "~2.1.4",
       "_view_module_version": "~2.1.4"
      }
     },
     "74ab6ebd2d7a4609b0fe88c4ae05107e": {
      "model_module": "jupyter-js-widgets",
      "model_module_version": "~2.1.4",
      "model_name": "LayoutModel",
      "state": {
       "_model_module_version": "~2.1.4",
       "_view_module_version": "~2.1.4"
      }
     },
     "7507fe9f9a0a4c31a0724556314c38cd": {
      "model_module": "jupyter-js-widgets",
      "model_module_version": "~2.1.4",
      "model_name": "ProgressStyleModel",
      "state": {
       "_model_module_version": "~2.1.4",
       "_view_module_version": "~2.1.4"
      }
     },
     "750dd382323f4dd69dc8cdac5423c655": {
      "model_module": "jupyter-js-widgets",
      "model_module_version": "~2.1.4",
      "model_name": "LayoutModel",
      "state": {
       "_model_module_version": "~2.1.4",
       "_view_module_version": "~2.1.4"
      }
     },
     "75ad0bf546784d65ad87ddb6588eaf34": {
      "model_module": "jupyter-js-widgets",
      "model_module_version": "~2.1.4",
      "model_name": "ProgressStyleModel",
      "state": {
       "_model_module_version": "~2.1.4",
       "_view_module_version": "~2.1.4"
      }
     },
     "77770949e23e41e29f5955db4885bb5c": {
      "model_module": "jupyter-js-widgets",
      "model_module_version": "~2.1.4",
      "model_name": "LayoutModel",
      "state": {
       "_model_module_version": "~2.1.4",
       "_view_module_version": "~2.1.4"
      }
     },
     "782bc4f41a624b97ac8ae20b57421a2f": {
      "model_module": "jupyter-js-widgets",
      "model_module_version": "~2.1.4",
      "model_name": "ProgressStyleModel",
      "state": {
       "_model_module_version": "~2.1.4",
       "_view_module_version": "~2.1.4"
      }
     },
     "7871f0a2d63b4f98ad00d4fd98717286": {
      "model_module": "jupyter-js-widgets",
      "model_module_version": "~2.1.4",
      "model_name": "LayoutModel",
      "state": {
       "_model_module_version": "~2.1.4",
       "_view_module_version": "~2.1.4"
      }
     },
     "787f6ae2908d4233822740ffa54763b9": {
      "model_module": "jupyter-js-widgets",
      "model_module_version": "~2.1.4",
      "model_name": "HTMLModel",
      "state": {
       "_model_module_version": "~2.1.4",
       "_view_module_version": "~2.1.4",
       "layout": "IPY_MODEL_885a28b7aad342e0a8a1fd5196b62020",
       "value": "100% 1/1 [00:10&lt;00:00, 10.06s/it]"
      }
     },
     "78b87b0c2cce4087ba33ad9ee661f5e2": {
      "model_module": "jupyter-js-widgets",
      "model_module_version": "~2.1.4",
      "model_name": "ProgressStyleModel",
      "state": {
       "_model_module_version": "~2.1.4",
       "_view_module_version": "~2.1.4"
      }
     },
     "79876791fed54bcc9b0731b1e1e0679c": {
      "model_module": "jupyter-js-widgets",
      "model_module_version": "~2.1.4",
      "model_name": "LayoutModel",
      "state": {
       "_model_module_version": "~2.1.4",
       "_view_module_version": "~2.1.4"
      }
     },
     "7a07ea0268584060951a765d607de72c": {
      "model_module": "jupyter-js-widgets",
      "model_module_version": "~2.1.4",
      "model_name": "LayoutModel",
      "state": {
       "_model_module_version": "~2.1.4",
       "_view_module_version": "~2.1.4"
      }
     },
     "7ab0181324ae4ba78b0e458a1dadf74b": {
      "model_module": "jupyter-js-widgets",
      "model_module_version": "~2.1.4",
      "model_name": "HTMLModel",
      "state": {
       "_model_module_version": "~2.1.4",
       "_view_module_version": "~2.1.4",
       "layout": "IPY_MODEL_736338a969a84505b9cf01e8a690ce79",
       "value": "100% 1/1 [00:09&lt;00:00,  9.88s/it]"
      }
     },
     "7b28d69fba314b9e8c8017b19b38272d": {
      "model_module": "jupyter-js-widgets",
      "model_module_version": "~2.1.4",
      "model_name": "HTMLModel",
      "state": {
       "_model_module_version": "~2.1.4",
       "_view_module_version": "~2.1.4",
       "layout": "IPY_MODEL_1d0b398b6c3b49efb0fef6dcaa5cf8df",
       "value": "100% 1/1 [00:09&lt;00:00,  9.89s/it]"
      }
     },
     "7b58bfeadd8d47ca8d4c241740f1494e": {
      "model_module": "jupyter-js-widgets",
      "model_module_version": "~2.1.4",
      "model_name": "ProgressStyleModel",
      "state": {
       "_model_module_version": "~2.1.4",
       "_view_module_version": "~2.1.4"
      }
     },
     "7bcc67931c3349cbb0205abdc71ea75d": {
      "model_module": "jupyter-js-widgets",
      "model_module_version": "~2.1.4",
      "model_name": "LayoutModel",
      "state": {
       "_model_module_version": "~2.1.4",
       "_view_module_version": "~2.1.4"
      }
     },
     "7c377b1d7fbc44f58f72c177cf86953d": {
      "model_module": "jupyter-js-widgets",
      "model_module_version": "~2.1.4",
      "model_name": "LayoutModel",
      "state": {
       "_model_module_version": "~2.1.4",
       "_view_module_version": "~2.1.4"
      }
     },
     "7dfb5ffbb5b949b9b2fd4de7bfaf9c24": {
      "model_module": "jupyter-js-widgets",
      "model_module_version": "~2.1.4",
      "model_name": "LayoutModel",
      "state": {
       "_model_module_version": "~2.1.4",
       "_view_module_version": "~2.1.4"
      }
     },
     "7ef6c3aa999347459ce3cc782e0a6ae4": {
      "model_module": "jupyter-js-widgets",
      "model_module_version": "~2.1.4",
      "model_name": "LayoutModel",
      "state": {
       "_model_module_version": "~2.1.4",
       "_view_module_version": "~2.1.4"
      }
     },
     "7f7738d26e9643b9a444342350ce05f0": {
      "model_module": "jupyter-js-widgets",
      "model_module_version": "~2.1.4",
      "model_name": "HBoxModel",
      "state": {
       "_model_module_version": "~2.1.4",
       "_view_module_version": "~2.1.4",
       "children": [
        "IPY_MODEL_39f6918278e94dbd97cf99fa0e5c0574",
        "IPY_MODEL_54f2dacc7d644df19385ad94e185ffda"
       ],
       "layout": "IPY_MODEL_44f071d8dc7d45d9a3b8ffae363034bd"
      }
     },
     "7feb872239c34378ba8b8ca8316b9607": {
      "model_module": "jupyter-js-widgets",
      "model_module_version": "~2.1.4",
      "model_name": "ProgressModel",
      "state": {
       "_model_module_version": "~2.1.4",
       "_view_module_version": "~2.1.4",
       "bar_style": "success",
       "layout": "IPY_MODEL_893055e610724cb38ce222b5c0b7cd41",
       "max": 1,
       "style": "IPY_MODEL_d26237b38f7d4c16b53ae480de1e1850",
       "value": 1
      }
     },
     "805285e2fcab4d138feec7d628d869dc": {
      "model_module": "jupyter-js-widgets",
      "model_module_version": "~2.1.4",
      "model_name": "ProgressModel",
      "state": {
       "_model_module_version": "~2.1.4",
       "_view_module_version": "~2.1.4",
       "bar_style": "success",
       "layout": "IPY_MODEL_1d53482734544823ad1485781b4d90ef",
       "max": 1,
       "style": "IPY_MODEL_60fa16db62144b26b11dce12a8f3f495",
       "value": 1
      }
     },
     "80c7e7d33ab842cfb1e49f10a4173c14": {
      "model_module": "jupyter-js-widgets",
      "model_module_version": "~2.1.4",
      "model_name": "ProgressStyleModel",
      "state": {
       "_model_module_version": "~2.1.4",
       "_view_module_version": "~2.1.4"
      }
     },
     "80ccab6e228a43d2a71621ff6913e6ae": {
      "model_module": "jupyter-js-widgets",
      "model_module_version": "~2.1.4",
      "model_name": "LayoutModel",
      "state": {
       "_model_module_version": "~2.1.4",
       "_view_module_version": "~2.1.4"
      }
     },
     "8166a182eb6142cb95bc4740c2d3b581": {
      "model_module": "jupyter-js-widgets",
      "model_module_version": "~2.1.4",
      "model_name": "HBoxModel",
      "state": {
       "_model_module_version": "~2.1.4",
       "_view_module_version": "~2.1.4",
       "children": [
        "IPY_MODEL_5819b86c9ba3409ea20ff5dd51f900ce",
        "IPY_MODEL_69d3445d7faf499c9dd15270282fe551"
       ],
       "layout": "IPY_MODEL_e92b368d547f42589a2251edec3d0e3f"
      }
     },
     "821f10b2ed194e97ae5721526a77135b": {
      "model_module": "jupyter-js-widgets",
      "model_module_version": "~2.1.4",
      "model_name": "LayoutModel",
      "state": {
       "_model_module_version": "~2.1.4",
       "_view_module_version": "~2.1.4"
      }
     },
     "836f312ccfa64f24bbae607c52692f19": {
      "model_module": "jupyter-js-widgets",
      "model_module_version": "~2.1.4",
      "model_name": "HTMLModel",
      "state": {
       "_model_module_version": "~2.1.4",
       "_view_module_version": "~2.1.4",
       "layout": "IPY_MODEL_f0a4bcb50d9a4f2892cd0b300f555e41",
       "value": "100% 1/1 [00:10&lt;00:00, 10.03s/it]"
      }
     },
     "83cde4ad9ace4b20a22043b06e407819": {
      "model_module": "jupyter-js-widgets",
      "model_module_version": "~2.1.4",
      "model_name": "LayoutModel",
      "state": {
       "_model_module_version": "~2.1.4",
       "_view_module_version": "~2.1.4"
      }
     },
     "849ad717fb884466902bb810c45d592c": {
      "model_module": "jupyter-js-widgets",
      "model_module_version": "~2.1.4",
      "model_name": "LayoutModel",
      "state": {
       "_model_module_version": "~2.1.4",
       "_view_module_version": "~2.1.4"
      }
     },
     "84a85623626745b7b10ed97a493503b3": {
      "model_module": "jupyter-js-widgets",
      "model_module_version": "~2.1.4",
      "model_name": "LayoutModel",
      "state": {
       "_model_module_version": "~2.1.4",
       "_view_module_version": "~2.1.4"
      }
     },
     "8589888056a94117b28a7335c1b7e643": {
      "model_module": "jupyter-js-widgets",
      "model_module_version": "~2.1.4",
      "model_name": "LayoutModel",
      "state": {
       "_model_module_version": "~2.1.4",
       "_view_module_version": "~2.1.4"
      }
     },
     "85bd5b2d5e82475199172479ef2fb2b3": {
      "model_module": "jupyter-js-widgets",
      "model_module_version": "~2.1.4",
      "model_name": "HTMLModel",
      "state": {
       "_model_module_version": "~2.1.4",
       "_view_module_version": "~2.1.4",
       "layout": "IPY_MODEL_703e4399b537447aab18422756a352ac",
       "value": "100% 1/1 [00:10&lt;00:00, 10.26s/it]"
      }
     },
     "8624a79a3b7144f682bdd18e35895243": {
      "model_module": "jupyter-js-widgets",
      "model_module_version": "~2.1.4",
      "model_name": "HBoxModel",
      "state": {
       "_model_module_version": "~2.1.4",
       "_view_module_version": "~2.1.4",
       "children": [
        "IPY_MODEL_4e1e309e66304807a4762b5977ff7c30",
        "IPY_MODEL_9142e5c9b116406abd492147228ca4ad"
       ],
       "layout": "IPY_MODEL_0806d169b71c442390edbf567e80bb7a"
      }
     },
     "869c3c73b07b47b9af0a1889bcf88b80": {
      "model_module": "jupyter-js-widgets",
      "model_module_version": "~2.1.4",
      "model_name": "HTMLModel",
      "state": {
       "_model_module_version": "~2.1.4",
       "_view_module_version": "~2.1.4",
       "layout": "IPY_MODEL_30f206abe9ed42ff8d6398e7562bcc46",
       "value": "100% 1/1 [00:10&lt;00:00, 10.19s/it]"
      }
     },
     "871f3ca99bff4b739a55a2bc61f286b0": {
      "model_module": "jupyter-js-widgets",
      "model_module_version": "~2.1.4",
      "model_name": "HTMLModel",
      "state": {
       "_model_module_version": "~2.1.4",
       "_view_module_version": "~2.1.4",
       "layout": "IPY_MODEL_f08a507ac3734d63b70fdb6b12e7ac71",
       "value": "100% 1/1 [00:10&lt;00:00, 10.04s/it]"
      }
     },
     "87f257e11b414c32a835b01e337b86ce": {
      "model_module": "jupyter-js-widgets",
      "model_module_version": "~2.1.4",
      "model_name": "HTMLModel",
      "state": {
       "_model_module_version": "~2.1.4",
       "_view_module_version": "~2.1.4",
       "layout": "IPY_MODEL_1a9346a1b71440a68a26602346cee46f",
       "value": "100% 1/1 [00:09&lt;00:00,  9.88s/it]"
      }
     },
     "885a28b7aad342e0a8a1fd5196b62020": {
      "model_module": "jupyter-js-widgets",
      "model_module_version": "~2.1.4",
      "model_name": "LayoutModel",
      "state": {
       "_model_module_version": "~2.1.4",
       "_view_module_version": "~2.1.4"
      }
     },
     "887a8600a69a48d396accc8afd5219c3": {
      "model_module": "jupyter-js-widgets",
      "model_module_version": "~2.1.4",
      "model_name": "LayoutModel",
      "state": {
       "_model_module_version": "~2.1.4",
       "_view_module_version": "~2.1.4"
      }
     },
     "888db9f6059e491f86846611683e2dfa": {
      "model_module": "jupyter-js-widgets",
      "model_module_version": "~2.1.4",
      "model_name": "ProgressModel",
      "state": {
       "_model_module_version": "~2.1.4",
       "_view_module_version": "~2.1.4",
       "bar_style": "success",
       "layout": "IPY_MODEL_b895028cdab4477fa63d7c1c5407472e",
       "max": 1,
       "style": "IPY_MODEL_75ad0bf546784d65ad87ddb6588eaf34",
       "value": 1
      }
     },
     "893055e610724cb38ce222b5c0b7cd41": {
      "model_module": "jupyter-js-widgets",
      "model_module_version": "~2.1.4",
      "model_name": "LayoutModel",
      "state": {
       "_model_module_version": "~2.1.4",
       "_view_module_version": "~2.1.4"
      }
     },
     "89f840ad4908463da36327a25e6d31c7": {
      "model_module": "jupyter-js-widgets",
      "model_module_version": "~2.1.4",
      "model_name": "ProgressStyleModel",
      "state": {
       "_model_module_version": "~2.1.4",
       "_view_module_version": "~2.1.4"
      }
     },
     "8a50bdd8a6e04c80afd29f5d8a9503db": {
      "model_module": "jupyter-js-widgets",
      "model_module_version": "~2.1.4",
      "model_name": "LayoutModel",
      "state": {
       "_model_module_version": "~2.1.4",
       "_view_module_version": "~2.1.4"
      }
     },
     "8a64f6aac89d4cf588b870c53862345f": {
      "model_module": "jupyter-js-widgets",
      "model_module_version": "~2.1.4",
      "model_name": "LayoutModel",
      "state": {
       "_model_module_version": "~2.1.4",
       "_view_module_version": "~2.1.4"
      }
     },
     "8b84e2add8d04fbd93c51fcc65f49e80": {
      "model_module": "jupyter-js-widgets",
      "model_module_version": "~2.1.4",
      "model_name": "HTMLModel",
      "state": {
       "_model_module_version": "~2.1.4",
       "_view_module_version": "~2.1.4",
       "layout": "IPY_MODEL_c6586423fe69408d97d9f259411faaf3",
       "value": "100% 1/1 [00:09&lt;00:00,  9.88s/it]"
      }
     },
     "8c87463b1fcd44d38dd1f9c90060e003": {
      "model_module": "jupyter-js-widgets",
      "model_module_version": "~2.1.4",
      "model_name": "HTMLModel",
      "state": {
       "_model_module_version": "~2.1.4",
       "_view_module_version": "~2.1.4",
       "layout": "IPY_MODEL_20f814f087134ee6843a4bc35a763c23",
       "value": "100% 1/1 [00:09&lt;00:00,  9.90s/it]"
      }
     },
     "8cbe3ac4da034df6aa3bee1da9b70efe": {
      "model_module": "jupyter-js-widgets",
      "model_module_version": "~2.1.4",
      "model_name": "LayoutModel",
      "state": {
       "_model_module_version": "~2.1.4",
       "_view_module_version": "~2.1.4"
      }
     },
     "8da63d61d87e4c299ce4ab05190da18d": {
      "model_module": "jupyter-js-widgets",
      "model_module_version": "~2.1.4",
      "model_name": "HBoxModel",
      "state": {
       "_model_module_version": "~2.1.4",
       "_view_module_version": "~2.1.4",
       "children": [
        "IPY_MODEL_2b2d5b9ee6f847c8b5098d3230d3b432",
        "IPY_MODEL_34a4efd9adf34b8885159168e6c3d6bd"
       ],
       "layout": "IPY_MODEL_f654c4ffc8f145b6976f74019d1e9c1d"
      }
     },
     "8dd3939f65ba49d9b076b34502cf2022": {
      "model_module": "jupyter-js-widgets",
      "model_module_version": "~2.1.4",
      "model_name": "LayoutModel",
      "state": {
       "_model_module_version": "~2.1.4",
       "_view_module_version": "~2.1.4"
      }
     },
     "8e459af014a44cbea2d3602b2a9c62c3": {
      "model_module": "jupyter-js-widgets",
      "model_module_version": "~2.1.4",
      "model_name": "LayoutModel",
      "state": {
       "_model_module_version": "~2.1.4",
       "_view_module_version": "~2.1.4"
      }
     },
     "901191621b2648719a15064539f33355": {
      "model_module": "jupyter-js-widgets",
      "model_module_version": "~2.1.4",
      "model_name": "LayoutModel",
      "state": {
       "_model_module_version": "~2.1.4",
       "_view_module_version": "~2.1.4"
      }
     },
     "90e82452a9e24f42807766fd402ebccf": {
      "model_module": "jupyter-js-widgets",
      "model_module_version": "~2.1.4",
      "model_name": "LayoutModel",
      "state": {
       "_model_module_version": "~2.1.4",
       "_view_module_version": "~2.1.4"
      }
     },
     "9142e5c9b116406abd492147228ca4ad": {
      "model_module": "jupyter-js-widgets",
      "model_module_version": "~2.1.4",
      "model_name": "HTMLModel",
      "state": {
       "_model_module_version": "~2.1.4",
       "_view_module_version": "~2.1.4",
       "layout": "IPY_MODEL_84a85623626745b7b10ed97a493503b3",
       "value": "  0% 0/1 [00:00&lt;?, ?it/s]"
      }
     },
     "91a48d4859154ee9944a000219578163": {
      "model_module": "jupyter-js-widgets",
      "model_module_version": "~2.1.4",
      "model_name": "HBoxModel",
      "state": {
       "_model_module_version": "~2.1.4",
       "_view_module_version": "~2.1.4",
       "children": [
        "IPY_MODEL_944755f89de342b28375a7e4c6c79a10",
        "IPY_MODEL_ad511367635745ae89b672afe1e3c43f"
       ],
       "layout": "IPY_MODEL_8a50bdd8a6e04c80afd29f5d8a9503db"
      }
     },
     "924c0ac3c5fc4a4497b2e99359529f01": {
      "model_module": "jupyter-js-widgets",
      "model_module_version": "~2.1.4",
      "model_name": "ProgressStyleModel",
      "state": {
       "_model_module_version": "~2.1.4",
       "_view_module_version": "~2.1.4"
      }
     },
     "92b35868546842629f6a1e5521f6da54": {
      "model_module": "jupyter-js-widgets",
      "model_module_version": "~2.1.4",
      "model_name": "ProgressModel",
      "state": {
       "_model_module_version": "~2.1.4",
       "_view_module_version": "~2.1.4",
       "bar_style": "success",
       "layout": "IPY_MODEL_1c34db8be6da4deb83f9ec6877f49ad0",
       "max": 1,
       "style": "IPY_MODEL_d1b6a256e9d2435fb2ef1b0852c03c73",
       "value": 1
      }
     },
     "939aea1fc35e43d2a0e1b48d61c7e60a": {
      "model_module": "jupyter-js-widgets",
      "model_module_version": "~2.1.4",
      "model_name": "HBoxModel",
      "state": {
       "_model_module_version": "~2.1.4",
       "_view_module_version": "~2.1.4",
       "children": [
        "IPY_MODEL_6f44aab5a7264ec0b460f11d7ac2f408",
        "IPY_MODEL_499e25abebb6446fa5db1f42c64465ba"
       ],
       "layout": "IPY_MODEL_d1c9ba2b250c4961be5dd1288eb51475"
      }
     },
     "944755f89de342b28375a7e4c6c79a10": {
      "model_module": "jupyter-js-widgets",
      "model_module_version": "~2.1.4",
      "model_name": "ProgressModel",
      "state": {
       "_model_module_version": "~2.1.4",
       "_view_module_version": "~2.1.4",
       "bar_style": "success",
       "layout": "IPY_MODEL_11cb97e9e5704a5f9cb0e3a0ea388736",
       "max": 1,
       "style": "IPY_MODEL_2f2e891277724c4eab2f1e3a20f9a4ae",
       "value": 1
      }
     },
     "95155fae6aaf47adb46bcb8b53e6449b": {
      "model_module": "jupyter-js-widgets",
      "model_module_version": "~2.1.4",
      "model_name": "ProgressModel",
      "state": {
       "_model_module_version": "~2.1.4",
       "_view_module_version": "~2.1.4",
       "bar_style": "success",
       "layout": "IPY_MODEL_59c4bc40b96d4868aafce0a84209dffd",
       "max": 1,
       "style": "IPY_MODEL_f16a8efdaf46461eaa171c770ab1cdda",
       "value": 1
      }
     },
     "96b13f9ffc22404b95090e499bad9e4e": {
      "model_module": "jupyter-js-widgets",
      "model_module_version": "~2.1.4",
      "model_name": "HTMLModel",
      "state": {
       "_model_module_version": "~2.1.4",
       "_view_module_version": "~2.1.4",
       "layout": "IPY_MODEL_8e459af014a44cbea2d3602b2a9c62c3",
       "value": "100% 1/1 [00:10&lt;00:00, 10.43s/it]"
      }
     },
     "96c2aba7c3e24006a32a81827a7dd36f": {
      "model_module": "jupyter-js-widgets",
      "model_module_version": "~2.1.4",
      "model_name": "HTMLModel",
      "state": {
       "_model_module_version": "~2.1.4",
       "_view_module_version": "~2.1.4",
       "layout": "IPY_MODEL_0bd1b4752041495c834b0b66bc006bb7",
       "value": "100% 1/1 [00:09&lt;00:00,  9.86s/it]"
      }
     },
     "98168f4947da4bc1a6fa890cf94e92df": {
      "model_module": "jupyter-js-widgets",
      "model_module_version": "~2.1.4",
      "model_name": "LayoutModel",
      "state": {
       "_model_module_version": "~2.1.4",
       "_view_module_version": "~2.1.4"
      }
     },
     "9859491976314fe0a454c775bed78981": {
      "model_module": "jupyter-js-widgets",
      "model_module_version": "~2.1.4",
      "model_name": "HBoxModel",
      "state": {
       "_model_module_version": "~2.1.4",
       "_view_module_version": "~2.1.4",
       "children": [
        "IPY_MODEL_1ab2cbd42c2c48f2bbf33aae4d3ca095",
        "IPY_MODEL_21b2946bfb604a06bb396d4267f18140"
       ],
       "layout": "IPY_MODEL_73adf4c855ba4a3ebd521b12f577e0db"
      }
     },
     "98b5b756a5c4497f9fbda47be700e1fe": {
      "model_module": "jupyter-js-widgets",
      "model_module_version": "~2.1.4",
      "model_name": "LayoutModel",
      "state": {
       "_model_module_version": "~2.1.4",
       "_view_module_version": "~2.1.4"
      }
     },
     "9abc26c1ab914340a5dcb063c29ffaf3": {
      "model_module": "jupyter-js-widgets",
      "model_module_version": "~2.1.4",
      "model_name": "LayoutModel",
      "state": {
       "_model_module_version": "~2.1.4",
       "_view_module_version": "~2.1.4"
      }
     },
     "9b135caed87e45a19c2478fcf47765d3": {
      "model_module": "jupyter-js-widgets",
      "model_module_version": "~2.1.4",
      "model_name": "ProgressStyleModel",
      "state": {
       "_model_module_version": "~2.1.4",
       "_view_module_version": "~2.1.4"
      }
     },
     "9b580209009e47c6931584eae5624b40": {
      "model_module": "jupyter-js-widgets",
      "model_module_version": "~2.1.4",
      "model_name": "LayoutModel",
      "state": {
       "_model_module_version": "~2.1.4",
       "_view_module_version": "~2.1.4"
      }
     },
     "9bb24fe95e1b45e482c8031d28106258": {
      "model_module": "jupyter-js-widgets",
      "model_module_version": "~2.1.4",
      "model_name": "LayoutModel",
      "state": {
       "_model_module_version": "~2.1.4",
       "_view_module_version": "~2.1.4"
      }
     },
     "9c073c9094294a93b7241bb9c8e980cf": {
      "model_module": "jupyter-js-widgets",
      "model_module_version": "~2.1.4",
      "model_name": "ProgressModel",
      "state": {
       "_model_module_version": "~2.1.4",
       "_view_module_version": "~2.1.4",
       "bar_style": "success",
       "layout": "IPY_MODEL_4dd552437cea46428a43c72c4d637c15",
       "max": 1,
       "style": "IPY_MODEL_29867ed12ccd4ab2af6817f843a3162b",
       "value": 1
      }
     },
     "9c56675e4ce44a31867cedb9f74b1407": {
      "model_module": "jupyter-js-widgets",
      "model_module_version": "~2.1.4",
      "model_name": "ProgressStyleModel",
      "state": {
       "_model_module_version": "~2.1.4",
       "_view_module_version": "~2.1.4"
      }
     },
     "9d2d15fa97d747e9b78c750ed48ae608": {
      "model_module": "jupyter-js-widgets",
      "model_module_version": "~2.1.4",
      "model_name": "HBoxModel",
      "state": {
       "_model_module_version": "~2.1.4",
       "_view_module_version": "~2.1.4",
       "children": [
        "IPY_MODEL_c3aa361d45e94301b461abbb94ccf77f",
        "IPY_MODEL_0b75219f16c241b488dd3bea20d2cf33"
       ],
       "layout": "IPY_MODEL_6125512c5212424191d54a7c97f9d184"
      }
     },
     "9db00ef77fce4d8cbfc17261b09d7560": {
      "model_module": "jupyter-js-widgets",
      "model_module_version": "~2.1.4",
      "model_name": "HTMLModel",
      "state": {
       "_model_module_version": "~2.1.4",
       "_view_module_version": "~2.1.4",
       "layout": "IPY_MODEL_38a2520e42ac470cbcf89238a9b2adbb",
       "value": "100% 1/1 [00:09&lt;00:00,  9.85s/it]"
      }
     },
     "9df2d16bf0064f289964400b380112a8": {
      "model_module": "jupyter-js-widgets",
      "model_module_version": "~2.1.4",
      "model_name": "LayoutModel",
      "state": {
       "_model_module_version": "~2.1.4",
       "_view_module_version": "~2.1.4"
      }
     },
     "9f8714d978e747ff9f07c6bf3a9da085": {
      "model_module": "jupyter-js-widgets",
      "model_module_version": "~2.1.4",
      "model_name": "HTMLModel",
      "state": {
       "_model_module_version": "~2.1.4",
       "_view_module_version": "~2.1.4",
       "layout": "IPY_MODEL_a6cb812fbfd74e1f8c57257f7d83dc93",
       "value": "100% 1/1 [00:10&lt;00:00, 10.48s/it]"
      }
     },
     "a0317c9ea89f41b4971d69feb02af801": {
      "model_module": "jupyter-js-widgets",
      "model_module_version": "~2.1.4",
      "model_name": "ProgressModel",
      "state": {
       "_model_module_version": "~2.1.4",
       "_view_module_version": "~2.1.4",
       "bar_style": "success",
       "layout": "IPY_MODEL_c236df553f774748aea0c46ad4e39520",
       "max": 1,
       "style": "IPY_MODEL_9b135caed87e45a19c2478fcf47765d3",
       "value": 1
      }
     },
     "a04446d121624ddea50521e2728e3811": {
      "model_module": "jupyter-js-widgets",
      "model_module_version": "~2.1.4",
      "model_name": "ProgressStyleModel",
      "state": {
       "_model_module_version": "~2.1.4",
       "_view_module_version": "~2.1.4"
      }
     },
     "a0a2bba4ff4c48149d95c63d2eca5ebc": {
      "model_module": "jupyter-js-widgets",
      "model_module_version": "~2.1.4",
      "model_name": "ProgressStyleModel",
      "state": {
       "_model_module_version": "~2.1.4",
       "_view_module_version": "~2.1.4"
      }
     },
     "a3e51aeac22348a797b688aa78688f99": {
      "model_module": "jupyter-js-widgets",
      "model_module_version": "~2.1.4",
      "model_name": "LayoutModel",
      "state": {
       "_model_module_version": "~2.1.4",
       "_view_module_version": "~2.1.4"
      }
     },
     "a4cc3309698b48bbba7647e04946eaa4": {
      "model_module": "jupyter-js-widgets",
      "model_module_version": "~2.1.4",
      "model_name": "ProgressStyleModel",
      "state": {
       "_model_module_version": "~2.1.4",
       "_view_module_version": "~2.1.4"
      }
     },
     "a545db2e5cce42179451ffdf5fae2631": {
      "model_module": "jupyter-js-widgets",
      "model_module_version": "~2.1.4",
      "model_name": "ProgressModel",
      "state": {
       "_model_module_version": "~2.1.4",
       "_view_module_version": "~2.1.4",
       "bar_style": "success",
       "layout": "IPY_MODEL_6e803a632b55480dba20a7bc632718e6",
       "max": 1,
       "style": "IPY_MODEL_924c0ac3c5fc4a4497b2e99359529f01",
       "value": 1
      }
     },
     "a5ddc5004b664c7faa13c0a0f105cce0": {
      "model_module": "jupyter-js-widgets",
      "model_module_version": "~2.1.4",
      "model_name": "ProgressModel",
      "state": {
       "_model_module_version": "~2.1.4",
       "_view_module_version": "~2.1.4",
       "bar_style": "success",
       "layout": "IPY_MODEL_901191621b2648719a15064539f33355",
       "max": 1,
       "style": "IPY_MODEL_3fc4363ba6944279b16720380928dd1c",
       "value": 1
      }
     },
     "a6cb812fbfd74e1f8c57257f7d83dc93": {
      "model_module": "jupyter-js-widgets",
      "model_module_version": "~2.1.4",
      "model_name": "LayoutModel",
      "state": {
       "_model_module_version": "~2.1.4",
       "_view_module_version": "~2.1.4"
      }
     },
     "a746d648792c4116841f2aff176f4dd3": {
      "model_module": "jupyter-js-widgets",
      "model_module_version": "~2.1.4",
      "model_name": "ProgressStyleModel",
      "state": {
       "_model_module_version": "~2.1.4",
       "_view_module_version": "~2.1.4"
      }
     },
     "a78399c413f44643b7db49738fe4f5d9": {
      "model_module": "jupyter-js-widgets",
      "model_module_version": "~2.1.4",
      "model_name": "HBoxModel",
      "state": {
       "_model_module_version": "~2.1.4",
       "_view_module_version": "~2.1.4",
       "children": [
        "IPY_MODEL_bb5e2ee041474d4d96f12b1565498431",
        "IPY_MODEL_8b84e2add8d04fbd93c51fcc65f49e80"
       ],
       "layout": "IPY_MODEL_dddf975ad981443ba103611aa70af7b0"
      }
     },
     "a7aa934a4d0747deb9f05b0569e7bab1": {
      "model_module": "jupyter-js-widgets",
      "model_module_version": "~2.1.4",
      "model_name": "LayoutModel",
      "state": {
       "_model_module_version": "~2.1.4",
       "_view_module_version": "~2.1.4"
      }
     },
     "a7bbe6594a9541c89e5795261f2e9236": {
      "model_module": "jupyter-js-widgets",
      "model_module_version": "~2.1.4",
      "model_name": "LayoutModel",
      "state": {
       "_model_module_version": "~2.1.4",
       "_view_module_version": "~2.1.4"
      }
     },
     "a7c3e81d130844cf873123a041301b26": {
      "model_module": "jupyter-js-widgets",
      "model_module_version": "~2.1.4",
      "model_name": "LayoutModel",
      "state": {
       "_model_module_version": "~2.1.4",
       "_view_module_version": "~2.1.4"
      }
     },
     "a8d368d5c1a64404a7ceea6e0b4ef4b5": {
      "model_module": "jupyter-js-widgets",
      "model_module_version": "~2.1.4",
      "model_name": "LayoutModel",
      "state": {
       "_model_module_version": "~2.1.4",
       "_view_module_version": "~2.1.4"
      }
     },
     "a94795e709f548339d30e1ad33d4122f": {
      "model_module": "jupyter-js-widgets",
      "model_module_version": "~2.1.4",
      "model_name": "HBoxModel",
      "state": {
       "_model_module_version": "~2.1.4",
       "_view_module_version": "~2.1.4",
       "children": [
        "IPY_MODEL_c139231d9cfe4ea38358f4118602b408",
        "IPY_MODEL_5dd11610325146a69339a34002fb2dfc"
       ],
       "layout": "IPY_MODEL_530413ec2b0045ee85e3cc88092d9446"
      }
     },
     "a949046eba4445fd9b2251c7f8c008e4": {
      "model_module": "jupyter-js-widgets",
      "model_module_version": "~2.1.4",
      "model_name": "LayoutModel",
      "state": {
       "_model_module_version": "~2.1.4",
       "_view_module_version": "~2.1.4"
      }
     },
     "a9b71f1ab9974e24bd69b0846eac827b": {
      "model_module": "jupyter-js-widgets",
      "model_module_version": "~2.1.4",
      "model_name": "ProgressStyleModel",
      "state": {
       "_model_module_version": "~2.1.4",
       "_view_module_version": "~2.1.4"
      }
     },
     "aa344441ae8f4abc9161b2626514dcb7": {
      "model_module": "jupyter-js-widgets",
      "model_module_version": "~2.1.4",
      "model_name": "LayoutModel",
      "state": {
       "_model_module_version": "~2.1.4",
       "_view_module_version": "~2.1.4"
      }
     },
     "aa7451093a8e4623a14110e804a1680c": {
      "model_module": "jupyter-js-widgets",
      "model_module_version": "~2.1.4",
      "model_name": "LayoutModel",
      "state": {
       "_model_module_version": "~2.1.4",
       "_view_module_version": "~2.1.4"
      }
     },
     "aab95c45b17e45b3898ae9e01ec3c302": {
      "model_module": "jupyter-js-widgets",
      "model_module_version": "~2.1.4",
      "model_name": "HBoxModel",
      "state": {
       "_model_module_version": "~2.1.4",
       "_view_module_version": "~2.1.4",
       "children": [
        "IPY_MODEL_4d4c2ae735764810bb760515976befea",
        "IPY_MODEL_6349e3e30c724021a36ea407a17ae9ae"
       ],
       "layout": "IPY_MODEL_f3f05bc9421645bb92b4aa8ba37cd063"
      }
     },
     "aaf74735befa48468be277f6842db4f3": {
      "model_module": "jupyter-js-widgets",
      "model_module_version": "~2.1.4",
      "model_name": "ProgressModel",
      "state": {
       "_model_module_version": "~2.1.4",
       "_view_module_version": "~2.1.4",
       "bar_style": "success",
       "layout": "IPY_MODEL_369003c528434592ac24af9db3815031",
       "max": 1,
       "style": "IPY_MODEL_fd9387fe6a0c4ceaa1924d9cf926f40e",
       "value": 1
      }
     },
     "ab10b36fff8d4b498c52a8117f69f9e8": {
      "model_module": "jupyter-js-widgets",
      "model_module_version": "~2.1.4",
      "model_name": "ProgressStyleModel",
      "state": {
       "_model_module_version": "~2.1.4",
       "_view_module_version": "~2.1.4"
      }
     },
     "abcd1fe0849f4e218f2705b640635eed": {
      "model_module": "jupyter-js-widgets",
      "model_module_version": "~2.1.4",
      "model_name": "LayoutModel",
      "state": {
       "_model_module_version": "~2.1.4",
       "_view_module_version": "~2.1.4"
      }
     },
     "ac36d657cc0541b2876ed135bb032e8b": {
      "model_module": "jupyter-js-widgets",
      "model_module_version": "~2.1.4",
      "model_name": "LayoutModel",
      "state": {
       "_model_module_version": "~2.1.4",
       "_view_module_version": "~2.1.4"
      }
     },
     "ac37aff8de83466a874d658b0f3e5dfd": {
      "model_module": "jupyter-js-widgets",
      "model_module_version": "~2.1.4",
      "model_name": "LayoutModel",
      "state": {
       "_model_module_version": "~2.1.4",
       "_view_module_version": "~2.1.4"
      }
     },
     "aca365c4913b440fb2fe3e858bf02dd6": {
      "model_module": "jupyter-js-widgets",
      "model_module_version": "~2.1.4",
      "model_name": "ProgressStyleModel",
      "state": {
       "_model_module_version": "~2.1.4",
       "_view_module_version": "~2.1.4"
      }
     },
     "ad511367635745ae89b672afe1e3c43f": {
      "model_module": "jupyter-js-widgets",
      "model_module_version": "~2.1.4",
      "model_name": "HTMLModel",
      "state": {
       "_model_module_version": "~2.1.4",
       "_view_module_version": "~2.1.4",
       "layout": "IPY_MODEL_0ec07a053c8846c589e9d928565820b8",
       "value": "100% 1/1 [00:10&lt;00:00, 10.02s/it]"
      }
     },
     "aec36e941eab49278f11c432540b11b1": {
      "model_module": "jupyter-js-widgets",
      "model_module_version": "~2.1.4",
      "model_name": "HBoxModel",
      "state": {
       "_model_module_version": "~2.1.4",
       "_view_module_version": "~2.1.4",
       "children": [
        "IPY_MODEL_a0317c9ea89f41b4971d69feb02af801",
        "IPY_MODEL_6139de1d0e7b41ef92cfe2e28433aeee"
       ],
       "layout": "IPY_MODEL_a3e51aeac22348a797b688aa78688f99"
      }
     },
     "aff5399d361d42dca713b2efd2216ad0": {
      "model_module": "jupyter-js-widgets",
      "model_module_version": "~2.1.4",
      "model_name": "LayoutModel",
      "state": {
       "_model_module_version": "~2.1.4",
       "_view_module_version": "~2.1.4"
      }
     },
     "b1b707c612e341b3ac142e8144daae0c": {
      "model_module": "jupyter-js-widgets",
      "model_module_version": "~2.1.4",
      "model_name": "HBoxModel",
      "state": {
       "_model_module_version": "~2.1.4",
       "_view_module_version": "~2.1.4",
       "children": [
        "IPY_MODEL_a545db2e5cce42179451ffdf5fae2631",
        "IPY_MODEL_96b13f9ffc22404b95090e499bad9e4e"
       ],
       "layout": "IPY_MODEL_90e82452a9e24f42807766fd402ebccf"
      }
     },
     "b2031b1e379146b2baca9b66290092c7": {
      "model_module": "jupyter-js-widgets",
      "model_module_version": "~2.1.4",
      "model_name": "LayoutModel",
      "state": {
       "_model_module_version": "~2.1.4",
       "_view_module_version": "~2.1.4"
      }
     },
     "b36dc827428a484fb99297e9d3072c2c": {
      "model_module": "jupyter-js-widgets",
      "model_module_version": "~2.1.4",
      "model_name": "LayoutModel",
      "state": {
       "_model_module_version": "~2.1.4",
       "_view_module_version": "~2.1.4"
      }
     },
     "b4373b0722c144b3b5a35c4d27fc5e6b": {
      "model_module": "jupyter-js-widgets",
      "model_module_version": "~2.1.4",
      "model_name": "LayoutModel",
      "state": {
       "_model_module_version": "~2.1.4",
       "_view_module_version": "~2.1.4"
      }
     },
     "b49f566b6f014066b88762dda02e3274": {
      "model_module": "jupyter-js-widgets",
      "model_module_version": "~2.1.4",
      "model_name": "HTMLModel",
      "state": {
       "_model_module_version": "~2.1.4",
       "_view_module_version": "~2.1.4",
       "layout": "IPY_MODEL_da2d3820f8de44449a6bec51ef5dea84",
       "value": "100% 1/1 [00:10&lt;00:00, 10.03s/it]"
      }
     },
     "b583e6de6388471a8ed49889093dc27e": {
      "model_module": "jupyter-js-widgets",
      "model_module_version": "~2.1.4",
      "model_name": "HTMLModel",
      "state": {
       "_model_module_version": "~2.1.4",
       "_view_module_version": "~2.1.4",
       "layout": "IPY_MODEL_d5241bfceb064ae18c2ef4f834c626e4",
       "value": "100% 1/1 [00:09&lt;00:00,  9.86s/it]"
      }
     },
     "b5940e13d1e746c6b6b5386627f60bda": {
      "model_module": "jupyter-js-widgets",
      "model_module_version": "~2.1.4",
      "model_name": "LayoutModel",
      "state": {
       "_model_module_version": "~2.1.4",
       "_view_module_version": "~2.1.4"
      }
     },
     "b5a538a773a445d3b7c250d5724984bb": {
      "model_module": "jupyter-js-widgets",
      "model_module_version": "~2.1.4",
      "model_name": "HBoxModel",
      "state": {
       "_model_module_version": "~2.1.4",
       "_view_module_version": "~2.1.4",
       "children": [
        "IPY_MODEL_cb7ad6c5eb04437187caa4d94456d808",
        "IPY_MODEL_ed0a56582e074f8fbaa5ee95ac6eaaef"
       ],
       "layout": "IPY_MODEL_cb0f0da0a7c6471f83d6e77b745789a3"
      }
     },
     "b6bbff110f8e45d8ba2556f8ce226cdb": {
      "model_module": "jupyter-js-widgets",
      "model_module_version": "~2.1.4",
      "model_name": "ProgressModel",
      "state": {
       "_model_module_version": "~2.1.4",
       "_view_module_version": "~2.1.4",
       "bar_style": "success",
       "layout": "IPY_MODEL_3d4c263ad1ff4c6eb25fe49edfc3589d",
       "max": 1,
       "style": "IPY_MODEL_aca365c4913b440fb2fe3e858bf02dd6",
       "value": 1
      }
     },
     "b6d63fbc84d447ffb82d79360fd67e4e": {
      "model_module": "jupyter-js-widgets",
      "model_module_version": "~2.1.4",
      "model_name": "LayoutModel",
      "state": {
       "_model_module_version": "~2.1.4",
       "_view_module_version": "~2.1.4"
      }
     },
     "b764ded267544c45987e0f9103ca943d": {
      "model_module": "jupyter-js-widgets",
      "model_module_version": "~2.1.4",
      "model_name": "HBoxModel",
      "state": {
       "_model_module_version": "~2.1.4",
       "_view_module_version": "~2.1.4",
       "children": [
        "IPY_MODEL_ca29f3fd17054a0d808b0f981d555a3e",
        "IPY_MODEL_7ab0181324ae4ba78b0e458a1dadf74b"
       ],
       "layout": "IPY_MODEL_e7f2c10bc4a240c0a54b879a91af863c"
      }
     },
     "b76ccb4b7cc04d5dbe56852aa366dd9f": {
      "model_module": "jupyter-js-widgets",
      "model_module_version": "~2.1.4",
      "model_name": "LayoutModel",
      "state": {
       "_model_module_version": "~2.1.4",
       "_view_module_version": "~2.1.4"
      }
     },
     "b8588f0139804072a03bf8d27f6980a8": {
      "model_module": "jupyter-js-widgets",
      "model_module_version": "~2.1.4",
      "model_name": "ProgressModel",
      "state": {
       "_model_module_version": "~2.1.4",
       "_view_module_version": "~2.1.4",
       "bar_style": "success",
       "layout": "IPY_MODEL_22749dfa17e541689b15d7a6dfa59260",
       "max": 1,
       "style": "IPY_MODEL_a0a2bba4ff4c48149d95c63d2eca5ebc",
       "value": 1
      }
     },
     "b895028cdab4477fa63d7c1c5407472e": {
      "model_module": "jupyter-js-widgets",
      "model_module_version": "~2.1.4",
      "model_name": "LayoutModel",
      "state": {
       "_model_module_version": "~2.1.4",
       "_view_module_version": "~2.1.4"
      }
     },
     "b9b14b01629e4f5a83e2ec32976d7054": {
      "model_module": "jupyter-js-widgets",
      "model_module_version": "~2.1.4",
      "model_name": "LayoutModel",
      "state": {
       "_model_module_version": "~2.1.4",
       "_view_module_version": "~2.1.4"
      }
     },
     "ba5b092b586a40f6a636497671eae79e": {
      "model_module": "jupyter-js-widgets",
      "model_module_version": "~2.1.4",
      "model_name": "HTMLModel",
      "state": {
       "_model_module_version": "~2.1.4",
       "_view_module_version": "~2.1.4",
       "layout": "IPY_MODEL_43d42c8d1ae44eeba9804251180f75e9",
       "value": "100% 1/1 [00:09&lt;00:00,  9.90s/it]"
      }
     },
     "bb5e2ee041474d4d96f12b1565498431": {
      "model_module": "jupyter-js-widgets",
      "model_module_version": "~2.1.4",
      "model_name": "ProgressModel",
      "state": {
       "_model_module_version": "~2.1.4",
       "_view_module_version": "~2.1.4",
       "bar_style": "success",
       "layout": "IPY_MODEL_1a68119e9fd94dca9798254b78c3cfcc",
       "max": 1,
       "style": "IPY_MODEL_89f840ad4908463da36327a25e6d31c7",
       "value": 1
      }
     },
     "bbdb55c1b72b4bc1a68856b866fed63c": {
      "model_module": "jupyter-js-widgets",
      "model_module_version": "~2.1.4",
      "model_name": "HBoxModel",
      "state": {
       "_model_module_version": "~2.1.4",
       "_view_module_version": "~2.1.4",
       "children": [
        "IPY_MODEL_7feb872239c34378ba8b8ca8316b9607",
        "IPY_MODEL_c06b5602e7604a7d9de19c6588aa943f"
       ],
       "layout": "IPY_MODEL_c96b3411d42945d9ade7e2493b0cc492"
      }
     },
     "bd4fc587cec34d1cb1c397ff37ee296f": {
      "model_module": "jupyter-js-widgets",
      "model_module_version": "~2.1.4",
      "model_name": "LayoutModel",
      "state": {
       "_model_module_version": "~2.1.4",
       "_view_module_version": "~2.1.4"
      }
     },
     "bd9646f919824067811862055bcc8d79": {
      "model_module": "jupyter-js-widgets",
      "model_module_version": "~2.1.4",
      "model_name": "LayoutModel",
      "state": {
       "_model_module_version": "~2.1.4",
       "_view_module_version": "~2.1.4"
      }
     },
     "bf4cae68c0b9427294e5514e701b1662": {
      "model_module": "jupyter-js-widgets",
      "model_module_version": "~2.1.4",
      "model_name": "ProgressModel",
      "state": {
       "_model_module_version": "~2.1.4",
       "_view_module_version": "~2.1.4",
       "bar_style": "success",
       "layout": "IPY_MODEL_4e09a65b9e2849d2873c8c8b19eb584f",
       "max": 1,
       "style": "IPY_MODEL_11382c40cf084759b989495645ab680b",
       "value": 1
      }
     },
     "c056eb628040495dbdf762ea68b49fae": {
      "model_module": "jupyter-js-widgets",
      "model_module_version": "~2.1.4",
      "model_name": "HBoxModel",
      "state": {
       "_model_module_version": "~2.1.4",
       "_view_module_version": "~2.1.4",
       "children": [
        "IPY_MODEL_95155fae6aaf47adb46bcb8b53e6449b",
        "IPY_MODEL_dbdf825309c54b9e8890515dd6fd4b57"
       ],
       "layout": "IPY_MODEL_5131a8c2bceb44fc9c7179d92bdcd1ca"
      }
     },
     "c06b5602e7604a7d9de19c6588aa943f": {
      "model_module": "jupyter-js-widgets",
      "model_module_version": "~2.1.4",
      "model_name": "HTMLModel",
      "state": {
       "_model_module_version": "~2.1.4",
       "_view_module_version": "~2.1.4",
       "layout": "IPY_MODEL_1ac2b5071cea4fa8a419da9fe39ad489",
       "value": "100% 1/1 [00:09&lt;00:00,  9.88s/it]"
      }
     },
     "c139231d9cfe4ea38358f4118602b408": {
      "model_module": "jupyter-js-widgets",
      "model_module_version": "~2.1.4",
      "model_name": "ProgressModel",
      "state": {
       "_model_module_version": "~2.1.4",
       "_view_module_version": "~2.1.4",
       "bar_style": "success",
       "layout": "IPY_MODEL_2761ef2991554b0bb10ca104c0455632",
       "max": 1,
       "style": "IPY_MODEL_80c7e7d33ab842cfb1e49f10a4173c14",
       "value": 1
      }
     },
     "c1df12fb720d42c58c0cec9a06daa59e": {
      "model_module": "jupyter-js-widgets",
      "model_module_version": "~2.1.4",
      "model_name": "HTMLModel",
      "state": {
       "_model_module_version": "~2.1.4",
       "_view_module_version": "~2.1.4",
       "layout": "IPY_MODEL_57e969d4d40048119efa89801a408acf",
       "value": "100% 1/1 [00:09&lt;00:00,  9.92s/it]"
      }
     },
     "c236df553f774748aea0c46ad4e39520": {
      "model_module": "jupyter-js-widgets",
      "model_module_version": "~2.1.4",
      "model_name": "LayoutModel",
      "state": {
       "_model_module_version": "~2.1.4",
       "_view_module_version": "~2.1.4"
      }
     },
     "c2f2b3936b8148f2b9396c7cde12965d": {
      "model_module": "jupyter-js-widgets",
      "model_module_version": "~2.1.4",
      "model_name": "HBoxModel",
      "state": {
       "_model_module_version": "~2.1.4",
       "_view_module_version": "~2.1.4",
       "children": [
        "IPY_MODEL_547964fbe6274b5d852f7dada8337abc",
        "IPY_MODEL_3c8150248dc747ffba114920348e7720"
       ],
       "layout": "IPY_MODEL_318527be3fad4984b60e050280c7bf4e"
      }
     },
     "c3aa361d45e94301b461abbb94ccf77f": {
      "model_module": "jupyter-js-widgets",
      "model_module_version": "~2.1.4",
      "model_name": "ProgressModel",
      "state": {
       "_model_module_version": "~2.1.4",
       "_view_module_version": "~2.1.4",
       "bar_style": "success",
       "layout": "IPY_MODEL_4742405a02a944898edb995ed34f73c4",
       "max": 1,
       "style": "IPY_MODEL_019e4da2875647bda4c264124177324b",
       "value": 1
      }
     },
     "c3fe39ac49c3494ab8269ab689889268": {
      "model_module": "jupyter-js-widgets",
      "model_module_version": "~2.1.4",
      "model_name": "ProgressModel",
      "state": {
       "_model_module_version": "~2.1.4",
       "_view_module_version": "~2.1.4",
       "bar_style": "success",
       "layout": "IPY_MODEL_7bcc67931c3349cbb0205abdc71ea75d",
       "max": 1,
       "style": "IPY_MODEL_a746d648792c4116841f2aff176f4dd3",
       "value": 1
      }
     },
     "c567cc6fc0bc45c1a8ff9eda250b94f0": {
      "model_module": "jupyter-js-widgets",
      "model_module_version": "~2.1.4",
      "model_name": "ProgressModel",
      "state": {
       "_model_module_version": "~2.1.4",
       "_view_module_version": "~2.1.4",
       "bar_style": "success",
       "layout": "IPY_MODEL_546dff5cf9964dc2a53a35dada9631e7",
       "max": 1,
       "style": "IPY_MODEL_0a4e3cef4b5a46bc9c9aaba957e07ef8",
       "value": 1
      }
     },
     "c5d78a10c03b4dfabeb3e50d69bf6921": {
      "model_module": "jupyter-js-widgets",
      "model_module_version": "~2.1.4",
      "model_name": "LayoutModel",
      "state": {
       "_model_module_version": "~2.1.4",
       "_view_module_version": "~2.1.4"
      }
     },
     "c6586423fe69408d97d9f259411faaf3": {
      "model_module": "jupyter-js-widgets",
      "model_module_version": "~2.1.4",
      "model_name": "LayoutModel",
      "state": {
       "_model_module_version": "~2.1.4",
       "_view_module_version": "~2.1.4"
      }
     },
     "c699321d25a0435e89bc21ae0315e48e": {
      "model_module": "jupyter-js-widgets",
      "model_module_version": "~2.1.4",
      "model_name": "ProgressStyleModel",
      "state": {
       "_model_module_version": "~2.1.4",
       "_view_module_version": "~2.1.4"
      }
     },
     "c77a2808c6bb4f559f538f94b0142592": {
      "model_module": "jupyter-js-widgets",
      "model_module_version": "~2.1.4",
      "model_name": "LayoutModel",
      "state": {
       "_model_module_version": "~2.1.4",
       "_view_module_version": "~2.1.4"
      }
     },
     "c7cd9f93399a4ccd8292f131fd33e749": {
      "model_module": "jupyter-js-widgets",
      "model_module_version": "~2.1.4",
      "model_name": "LayoutModel",
      "state": {
       "_model_module_version": "~2.1.4",
       "_view_module_version": "~2.1.4"
      }
     },
     "c96b3411d42945d9ade7e2493b0cc492": {
      "model_module": "jupyter-js-widgets",
      "model_module_version": "~2.1.4",
      "model_name": "LayoutModel",
      "state": {
       "_model_module_version": "~2.1.4",
       "_view_module_version": "~2.1.4"
      }
     },
     "ca020073633648de878a6de83085e3d8": {
      "model_module": "jupyter-js-widgets",
      "model_module_version": "~2.1.4",
      "model_name": "ProgressStyleModel",
      "state": {
       "_model_module_version": "~2.1.4",
       "_view_module_version": "~2.1.4"
      }
     },
     "ca29f3fd17054a0d808b0f981d555a3e": {
      "model_module": "jupyter-js-widgets",
      "model_module_version": "~2.1.4",
      "model_name": "ProgressModel",
      "state": {
       "_model_module_version": "~2.1.4",
       "_view_module_version": "~2.1.4",
       "bar_style": "success",
       "layout": "IPY_MODEL_ac36d657cc0541b2876ed135bb032e8b",
       "max": 1,
       "style": "IPY_MODEL_03d27a7aedf54f688fdb5551b9e69ef2",
       "value": 1
      }
     },
     "ca4d38270c1c489097da1747ae65f1a3": {
      "model_module": "jupyter-js-widgets",
      "model_module_version": "~2.1.4",
      "model_name": "ProgressStyleModel",
      "state": {
       "_model_module_version": "~2.1.4",
       "_view_module_version": "~2.1.4"
      }
     },
     "cb0f0da0a7c6471f83d6e77b745789a3": {
      "model_module": "jupyter-js-widgets",
      "model_module_version": "~2.1.4",
      "model_name": "LayoutModel",
      "state": {
       "_model_module_version": "~2.1.4",
       "_view_module_version": "~2.1.4"
      }
     },
     "cb44fee89a1949879beed4a987874c64": {
      "model_module": "jupyter-js-widgets",
      "model_module_version": "~2.1.4",
      "model_name": "HBoxModel",
      "state": {
       "_model_module_version": "~2.1.4",
       "_view_module_version": "~2.1.4",
       "children": [
        "IPY_MODEL_59f51e61265349169d7cfb5e8ef14638",
        "IPY_MODEL_5b4b96835c2b4ab48c6d0de3d95d417e"
       ],
       "layout": "IPY_MODEL_d741c50c35174156941d2e8dfb0f4043"
      }
     },
     "cb7ad6c5eb04437187caa4d94456d808": {
      "model_module": "jupyter-js-widgets",
      "model_module_version": "~2.1.4",
      "model_name": "ProgressModel",
      "state": {
       "_model_module_version": "~2.1.4",
       "_view_module_version": "~2.1.4",
       "bar_style": "success",
       "layout": "IPY_MODEL_f0936cc0750c4df1872274adbd1f7b57",
       "max": 1,
       "style": "IPY_MODEL_ca4d38270c1c489097da1747ae65f1a3",
       "value": 1
      }
     },
     "cc9cd7560887461b86b74e01e3b03a9c": {
      "model_module": "jupyter-js-widgets",
      "model_module_version": "~2.1.4",
      "model_name": "LayoutModel",
      "state": {
       "_model_module_version": "~2.1.4",
       "_view_module_version": "~2.1.4"
      }
     },
     "cdd71925bef34f65abd10a37df0fb5ba": {
      "model_module": "jupyter-js-widgets",
      "model_module_version": "~2.1.4",
      "model_name": "ProgressModel",
      "state": {
       "_model_module_version": "~2.1.4",
       "_view_module_version": "~2.1.4",
       "bar_style": "success",
       "layout": "IPY_MODEL_25de67e857594c1d99f8d7fe06158da8",
       "max": 1,
       "style": "IPY_MODEL_d8a60e7ae5de435e8ba0bf1de1528c2d",
       "value": 1
      }
     },
     "cebd02d4f0744e91ae54b2bfb2504c19": {
      "model_module": "jupyter-js-widgets",
      "model_module_version": "~2.1.4",
      "model_name": "HTMLModel",
      "state": {
       "_model_module_version": "~2.1.4",
       "_view_module_version": "~2.1.4",
       "layout": "IPY_MODEL_3bf3589d63b44b2abedfb45b4add6f48",
       "value": "100% 1/1 [00:10&lt;00:00, 10.62s/it]"
      }
     },
     "cf20ff9ebbff485bae3a0b6136666c42": {
      "model_module": "jupyter-js-widgets",
      "model_module_version": "~2.1.4",
      "model_name": "ProgressModel",
      "state": {
       "_model_module_version": "~2.1.4",
       "_view_module_version": "~2.1.4",
       "bar_style": "success",
       "layout": "IPY_MODEL_0ce7aa5a583042f489213ff4b2dff4ed",
       "max": 1,
       "style": "IPY_MODEL_f8b1a297106345d78b35c823d65ff067",
       "value": 1
      }
     },
     "cfa0d098014541ea86b567f9b85330bd": {
      "model_module": "jupyter-js-widgets",
      "model_module_version": "~2.1.4",
      "model_name": "ProgressStyleModel",
      "state": {
       "_model_module_version": "~2.1.4",
       "_view_module_version": "~2.1.4"
      }
     },
     "d078ab96f6a74629b3f4969b463f94d2": {
      "model_module": "jupyter-js-widgets",
      "model_module_version": "~2.1.4",
      "model_name": "HTMLModel",
      "state": {
       "_model_module_version": "~2.1.4",
       "_view_module_version": "~2.1.4",
       "layout": "IPY_MODEL_7ef6c3aa999347459ce3cc782e0a6ae4",
       "value": "100% 1/1 [00:09&lt;00:00,  9.91s/it]"
      }
     },
     "d07bedf1e8a141c3a1a1770b27ca37b2": {
      "model_module": "jupyter-js-widgets",
      "model_module_version": "~2.1.4",
      "model_name": "LayoutModel",
      "state": {
       "_model_module_version": "~2.1.4",
       "_view_module_version": "~2.1.4"
      }
     },
     "d0ca0935199246c3b17131e84e1daade": {
      "model_module": "jupyter-js-widgets",
      "model_module_version": "~2.1.4",
      "model_name": "HTMLModel",
      "state": {
       "_model_module_version": "~2.1.4",
       "_view_module_version": "~2.1.4",
       "layout": "IPY_MODEL_25ad21516e4047b481d9315a0b6fe5c2",
       "value": "100% 1/1 [00:10&lt;00:00, 10.85s/it]"
      }
     },
     "d0ec89bb631f4efab22ab451a6231108": {
      "model_module": "jupyter-js-widgets",
      "model_module_version": "~2.1.4",
      "model_name": "ProgressStyleModel",
      "state": {
       "_model_module_version": "~2.1.4",
       "_view_module_version": "~2.1.4"
      }
     },
     "d1b6a256e9d2435fb2ef1b0852c03c73": {
      "model_module": "jupyter-js-widgets",
      "model_module_version": "~2.1.4",
      "model_name": "ProgressStyleModel",
      "state": {
       "_model_module_version": "~2.1.4",
       "_view_module_version": "~2.1.4"
      }
     },
     "d1c9ba2b250c4961be5dd1288eb51475": {
      "model_module": "jupyter-js-widgets",
      "model_module_version": "~2.1.4",
      "model_name": "LayoutModel",
      "state": {
       "_model_module_version": "~2.1.4",
       "_view_module_version": "~2.1.4"
      }
     },
     "d1eb8d0526664f87930963813ca7ce1d": {
      "model_module": "jupyter-js-widgets",
      "model_module_version": "~2.1.4",
      "model_name": "ProgressStyleModel",
      "state": {
       "_model_module_version": "~2.1.4",
       "_view_module_version": "~2.1.4"
      }
     },
     "d26237b38f7d4c16b53ae480de1e1850": {
      "model_module": "jupyter-js-widgets",
      "model_module_version": "~2.1.4",
      "model_name": "ProgressStyleModel",
      "state": {
       "_model_module_version": "~2.1.4",
       "_view_module_version": "~2.1.4"
      }
     },
     "d2b630f998f543f581caf1d7de1768d9": {
      "model_module": "jupyter-js-widgets",
      "model_module_version": "~2.1.4",
      "model_name": "LayoutModel",
      "state": {
       "_model_module_version": "~2.1.4",
       "_view_module_version": "~2.1.4"
      }
     },
     "d4164aa4e2ac46aeb7125b565a49a3fc": {
      "model_module": "jupyter-js-widgets",
      "model_module_version": "~2.1.4",
      "model_name": "ProgressModel",
      "state": {
       "_model_module_version": "~2.1.4",
       "_view_module_version": "~2.1.4",
       "bar_style": "success",
       "layout": "IPY_MODEL_77770949e23e41e29f5955db4885bb5c",
       "max": 1,
       "style": "IPY_MODEL_78b87b0c2cce4087ba33ad9ee661f5e2",
       "value": 1
      }
     },
     "d4881c43614c4d659d7551bd8fd09027": {
      "model_module": "jupyter-js-widgets",
      "model_module_version": "~2.1.4",
      "model_name": "LayoutModel",
      "state": {
       "_model_module_version": "~2.1.4",
       "_view_module_version": "~2.1.4"
      }
     },
     "d5241bfceb064ae18c2ef4f834c626e4": {
      "model_module": "jupyter-js-widgets",
      "model_module_version": "~2.1.4",
      "model_name": "LayoutModel",
      "state": {
       "_model_module_version": "~2.1.4",
       "_view_module_version": "~2.1.4"
      }
     },
     "d5fe1551f91d431ab379e650eb3ea377": {
      "model_module": "jupyter-js-widgets",
      "model_module_version": "~2.1.4",
      "model_name": "LayoutModel",
      "state": {
       "_model_module_version": "~2.1.4",
       "_view_module_version": "~2.1.4"
      }
     },
     "d66df04a56504dd691189eb6c6164d8e": {
      "model_module": "jupyter-js-widgets",
      "model_module_version": "~2.1.4",
      "model_name": "LayoutModel",
      "state": {
       "_model_module_version": "~2.1.4",
       "_view_module_version": "~2.1.4"
      }
     },
     "d741c50c35174156941d2e8dfb0f4043": {
      "model_module": "jupyter-js-widgets",
      "model_module_version": "~2.1.4",
      "model_name": "LayoutModel",
      "state": {
       "_model_module_version": "~2.1.4",
       "_view_module_version": "~2.1.4"
      }
     },
     "d7c329cae7bc43789a9e40b52f65d3c7": {
      "model_module": "jupyter-js-widgets",
      "model_module_version": "~2.1.4",
      "model_name": "HBoxModel",
      "state": {
       "_model_module_version": "~2.1.4",
       "_view_module_version": "~2.1.4",
       "children": [
        "IPY_MODEL_da0d84363e804331bd507fedd1d62d89",
        "IPY_MODEL_0043c69f098744f79fd08c870316561e"
       ],
       "layout": "IPY_MODEL_887a8600a69a48d396accc8afd5219c3"
      }
     },
     "d7e69034b0b7456392936a86fcd779d1": {
      "model_module": "jupyter-js-widgets",
      "model_module_version": "~2.1.4",
      "model_name": "HTMLModel",
      "state": {
       "_model_module_version": "~2.1.4",
       "_view_module_version": "~2.1.4",
       "layout": "IPY_MODEL_63e1c9260bb249139efa0913fb580f7e",
       "value": "100% 1/1 [00:09&lt;00:00,  9.80s/it]"
      }
     },
     "d7f9afde26804e97b350b155b9a596c7": {
      "model_module": "jupyter-js-widgets",
      "model_module_version": "~2.1.4",
      "model_name": "ProgressModel",
      "state": {
       "_model_module_version": "~2.1.4",
       "_view_module_version": "~2.1.4",
       "bar_style": "success",
       "layout": "IPY_MODEL_5237fdde27d241389be8cb6f2d56c618",
       "max": 1,
       "style": "IPY_MODEL_1e17dd844de8484b8524f4cfde7498d8",
       "value": 1
      }
     },
     "d83df1105310412e8b5fac141a0be53b": {
      "model_module": "jupyter-js-widgets",
      "model_module_version": "~2.1.4",
      "model_name": "LayoutModel",
      "state": {
       "_model_module_version": "~2.1.4",
       "_view_module_version": "~2.1.4"
      }
     },
     "d84cc12b98f9431a8c481aeab1444de5": {
      "model_module": "jupyter-js-widgets",
      "model_module_version": "~2.1.4",
      "model_name": "HTMLModel",
      "state": {
       "_model_module_version": "~2.1.4",
       "_view_module_version": "~2.1.4",
       "layout": "IPY_MODEL_b9b14b01629e4f5a83e2ec32976d7054",
       "value": "100% 1/1 [00:10&lt;00:00, 10.30s/it]"
      }
     },
     "d87f298d24f14a7da73f5ccc36a5ed97": {
      "model_module": "jupyter-js-widgets",
      "model_module_version": "~2.1.4",
      "model_name": "HBoxModel",
      "state": {
       "_model_module_version": "~2.1.4",
       "_view_module_version": "~2.1.4",
       "children": [
        "IPY_MODEL_f85c57027eed4d2cb2c6e8a5bae19f31",
        "IPY_MODEL_c1df12fb720d42c58c0cec9a06daa59e"
       ],
       "layout": "IPY_MODEL_66b9a30dd1654ea98f40a86b6c437e60"
      }
     },
     "d8a60e7ae5de435e8ba0bf1de1528c2d": {
      "model_module": "jupyter-js-widgets",
      "model_module_version": "~2.1.4",
      "model_name": "ProgressStyleModel",
      "state": {
       "_model_module_version": "~2.1.4",
       "_view_module_version": "~2.1.4"
      }
     },
     "da0d84363e804331bd507fedd1d62d89": {
      "model_module": "jupyter-js-widgets",
      "model_module_version": "~2.1.4",
      "model_name": "ProgressModel",
      "state": {
       "_model_module_version": "~2.1.4",
       "_view_module_version": "~2.1.4",
       "bar_style": "success",
       "layout": "IPY_MODEL_aa344441ae8f4abc9161b2626514dcb7",
       "max": 1,
       "style": "IPY_MODEL_0d2b5746b86a423e856d9915ab9f38eb",
       "value": 1
      }
     },
     "da2d3820f8de44449a6bec51ef5dea84": {
      "model_module": "jupyter-js-widgets",
      "model_module_version": "~2.1.4",
      "model_name": "LayoutModel",
      "state": {
       "_model_module_version": "~2.1.4",
       "_view_module_version": "~2.1.4"
      }
     },
     "da306f9e64054d1a8a68569c895e51ce": {
      "model_module": "jupyter-js-widgets",
      "model_module_version": "~2.1.4",
      "model_name": "ProgressStyleModel",
      "state": {
       "_model_module_version": "~2.1.4",
       "_view_module_version": "~2.1.4"
      }
     },
     "daf85755ffd242b5acee7cb403198f20": {
      "model_module": "jupyter-js-widgets",
      "model_module_version": "~2.1.4",
      "model_name": "HBoxModel",
      "state": {
       "_model_module_version": "~2.1.4",
       "_view_module_version": "~2.1.4",
       "children": [
        "IPY_MODEL_aaf74735befa48468be277f6842db4f3",
        "IPY_MODEL_8c87463b1fcd44d38dd1f9c90060e003"
       ],
       "layout": "IPY_MODEL_1ee6adcaadb441788de1fe8bdc43d2d1"
      }
     },
     "dbdf825309c54b9e8890515dd6fd4b57": {
      "model_module": "jupyter-js-widgets",
      "model_module_version": "~2.1.4",
      "model_name": "HTMLModel",
      "state": {
       "_model_module_version": "~2.1.4",
       "_view_module_version": "~2.1.4",
       "layout": "IPY_MODEL_6cbb568498fe473e90c8fdcf8288c2ad",
       "value": "100% 1/1 [00:09&lt;00:00,  9.88s/it]"
      }
     },
     "dddf975ad981443ba103611aa70af7b0": {
      "model_module": "jupyter-js-widgets",
      "model_module_version": "~2.1.4",
      "model_name": "LayoutModel",
      "state": {
       "_model_module_version": "~2.1.4",
       "_view_module_version": "~2.1.4"
      }
     },
     "de0a3e3b6ab34d1b8131d8840a5d1448": {
      "model_module": "jupyter-js-widgets",
      "model_module_version": "~2.1.4",
      "model_name": "LayoutModel",
      "state": {
       "_model_module_version": "~2.1.4",
       "_view_module_version": "~2.1.4"
      }
     },
     "de457a94d6084681a8ab41481c3e9666": {
      "model_module": "jupyter-js-widgets",
      "model_module_version": "~2.1.4",
      "model_name": "HBoxModel",
      "state": {
       "_model_module_version": "~2.1.4",
       "_view_module_version": "~2.1.4",
       "children": [
        "IPY_MODEL_48d5a7bc85be41e38a3ea14423cdd061",
        "IPY_MODEL_9db00ef77fce4d8cbfc17261b09d7560"
       ],
       "layout": "IPY_MODEL_a7aa934a4d0747deb9f05b0569e7bab1"
      }
     },
     "de56b3c17b5d453999670dfb64253268": {
      "model_module": "jupyter-js-widgets",
      "model_module_version": "~2.1.4",
      "model_name": "ProgressModel",
      "state": {
       "_model_module_version": "~2.1.4",
       "_view_module_version": "~2.1.4",
       "bar_style": "danger",
       "layout": "IPY_MODEL_e8d6fda573d7449cbaa68754457ef71e",
       "max": 80,
       "style": "IPY_MODEL_782bc4f41a624b97ac8ae20b57421a2f",
       "value": 61
      }
     },
     "df8ee12ff6004d4e9be409ddb2ddb798": {
      "model_module": "jupyter-js-widgets",
      "model_module_version": "~2.1.4",
      "model_name": "HTMLModel",
      "state": {
       "_model_module_version": "~2.1.4",
       "_view_module_version": "~2.1.4",
       "layout": "IPY_MODEL_2ac04671dcbf4716b8c538bc9acd095d",
       "value": "100% 1/1 [00:09&lt;00:00,  9.87s/it]"
      }
     },
     "dfc4d96b7bb74a1ba42e545cc98c247a": {
      "model_module": "jupyter-js-widgets",
      "model_module_version": "~2.1.4",
      "model_name": "LayoutModel",
      "state": {
       "_model_module_version": "~2.1.4",
       "_view_module_version": "~2.1.4"
      }
     },
     "e1996cfc76be4362bfb8ac7ee7ef0869": {
      "model_module": "jupyter-js-widgets",
      "model_module_version": "~2.1.4",
      "model_name": "LayoutModel",
      "state": {
       "_model_module_version": "~2.1.4",
       "_view_module_version": "~2.1.4"
      }
     },
     "e27e9c56ae7a486082f113a9f2d443ee": {
      "model_module": "jupyter-js-widgets",
      "model_module_version": "~2.1.4",
      "model_name": "HBoxModel",
      "state": {
       "_model_module_version": "~2.1.4",
       "_view_module_version": "~2.1.4",
       "children": [
        "IPY_MODEL_cf20ff9ebbff485bae3a0b6136666c42",
        "IPY_MODEL_836f312ccfa64f24bbae607c52692f19"
       ],
       "layout": "IPY_MODEL_4c8f560e017a43f4890377959e31faf7"
      }
     },
     "e323b23ac7564a66866b92b194fe739a": {
      "model_module": "jupyter-js-widgets",
      "model_module_version": "~2.1.4",
      "model_name": "HBoxModel",
      "state": {
       "_model_module_version": "~2.1.4",
       "_view_module_version": "~2.1.4",
       "children": [
        "IPY_MODEL_36a21646873d4d729ae9b6f1dbd238ea",
        "IPY_MODEL_487fe9ec42b74571a917dc0dd391858d"
       ],
       "layout": "IPY_MODEL_cc9cd7560887461b86b74e01e3b03a9c"
      }
     },
     "e348437155654754998adea652b5768b": {
      "model_module": "jupyter-js-widgets",
      "model_module_version": "~2.1.4",
      "model_name": "HBoxModel",
      "state": {
       "_model_module_version": "~2.1.4",
       "_view_module_version": "~2.1.4",
       "children": [
        "IPY_MODEL_3da8c9c131f2401297f5680256a3a073",
        "IPY_MODEL_5b13ab8673cf4fbeb867050e33bb0d15"
       ],
       "layout": "IPY_MODEL_d2b630f998f543f581caf1d7de1768d9"
      }
     },
     "e54f38cae21c407a876362e3fa6d760a": {
      "model_module": "jupyter-js-widgets",
      "model_module_version": "~2.1.4",
      "model_name": "ProgressModel",
      "state": {
       "_model_module_version": "~2.1.4",
       "_view_module_version": "~2.1.4",
       "bar_style": "success",
       "layout": "IPY_MODEL_f20fb19de7874888814e4710fcaeb3ee",
       "max": 1,
       "style": "IPY_MODEL_f8db2564bc74491e84c3deee7986d795",
       "value": 1
      }
     },
     "e64080c18e6240cab6743150e1eac4a2": {
      "model_module": "jupyter-js-widgets",
      "model_module_version": "~2.1.4",
      "model_name": "LayoutModel",
      "state": {
       "_model_module_version": "~2.1.4",
       "_view_module_version": "~2.1.4"
      }
     },
     "e7a390520b7c48289c994bffba154ad8": {
      "model_module": "jupyter-js-widgets",
      "model_module_version": "~2.1.4",
      "model_name": "ProgressStyleModel",
      "state": {
       "_model_module_version": "~2.1.4",
       "_view_module_version": "~2.1.4"
      }
     },
     "e7f2c10bc4a240c0a54b879a91af863c": {
      "model_module": "jupyter-js-widgets",
      "model_module_version": "~2.1.4",
      "model_name": "LayoutModel",
      "state": {
       "_model_module_version": "~2.1.4",
       "_view_module_version": "~2.1.4"
      }
     },
     "e81985c19cf34d1f9cde214a253b79c6": {
      "model_module": "jupyter-js-widgets",
      "model_module_version": "~2.1.4",
      "model_name": "HBoxModel",
      "state": {
       "_model_module_version": "~2.1.4",
       "_view_module_version": "~2.1.4",
       "children": [
        "IPY_MODEL_a5ddc5004b664c7faa13c0a0f105cce0",
        "IPY_MODEL_9f8714d978e747ff9f07c6bf3a9da085"
       ],
       "layout": "IPY_MODEL_ac37aff8de83466a874d658b0f3e5dfd"
      }
     },
     "e8d6fda573d7449cbaa68754457ef71e": {
      "model_module": "jupyter-js-widgets",
      "model_module_version": "~2.1.4",
      "model_name": "LayoutModel",
      "state": {
       "_model_module_version": "~2.1.4",
       "_view_module_version": "~2.1.4"
      }
     },
     "e92b368d547f42589a2251edec3d0e3f": {
      "model_module": "jupyter-js-widgets",
      "model_module_version": "~2.1.4",
      "model_name": "LayoutModel",
      "state": {
       "_model_module_version": "~2.1.4",
       "_view_module_version": "~2.1.4"
      }
     },
     "e9a8730551f640988eaba5e54cffeaa7": {
      "model_module": "jupyter-js-widgets",
      "model_module_version": "~2.1.4",
      "model_name": "LayoutModel",
      "state": {
       "_model_module_version": "~2.1.4",
       "_view_module_version": "~2.1.4"
      }
     },
     "eb132e1e5692446eb5bcfbc08161508f": {
      "model_module": "jupyter-js-widgets",
      "model_module_version": "~2.1.4",
      "model_name": "HTMLModel",
      "state": {
       "_model_module_version": "~2.1.4",
       "_view_module_version": "~2.1.4",
       "layout": "IPY_MODEL_e1996cfc76be4362bfb8ac7ee7ef0869",
       "value": "100% 1/1 [00:10&lt;00:00, 10.28s/it]"
      }
     },
     "eb42153e4e9a4f618fee237eda0f9760": {
      "model_module": "jupyter-js-widgets",
      "model_module_version": "~2.1.4",
      "model_name": "LayoutModel",
      "state": {
       "_model_module_version": "~2.1.4",
       "_view_module_version": "~2.1.4"
      }
     },
     "eb931f7735854462a37a3866c537996a": {
      "model_module": "jupyter-js-widgets",
      "model_module_version": "~2.1.4",
      "model_name": "HTMLModel",
      "state": {
       "_model_module_version": "~2.1.4",
       "_view_module_version": "~2.1.4",
       "layout": "IPY_MODEL_00340058229747d7be2c8f7bbc56c15c",
       "value": "100% 1/1 [00:10&lt;00:00, 10.05s/it]"
      }
     },
     "ebc47fd78fd94fd28382d3bd722eea63": {
      "model_module": "jupyter-js-widgets",
      "model_module_version": "~2.1.4",
      "model_name": "LayoutModel",
      "state": {
       "_model_module_version": "~2.1.4",
       "_view_module_version": "~2.1.4"
      }
     },
     "ebc7ebbc95dd4af39989e02ca815db06": {
      "model_module": "jupyter-js-widgets",
      "model_module_version": "~2.1.4",
      "model_name": "HBoxModel",
      "state": {
       "_model_module_version": "~2.1.4",
       "_view_module_version": "~2.1.4",
       "children": [
        "IPY_MODEL_805285e2fcab4d138feec7d628d869dc",
        "IPY_MODEL_657f4dbfb76043b185e9db0ceea78fd6"
       ],
       "layout": "IPY_MODEL_e64080c18e6240cab6743150e1eac4a2"
      }
     },
     "ed0a56582e074f8fbaa5ee95ac6eaaef": {
      "model_module": "jupyter-js-widgets",
      "model_module_version": "~2.1.4",
      "model_name": "HTMLModel",
      "state": {
       "_model_module_version": "~2.1.4",
       "_view_module_version": "~2.1.4",
       "layout": "IPY_MODEL_8a64f6aac89d4cf588b870c53862345f",
       "value": "100% 1/1 [00:09&lt;00:00,  9.88s/it]"
      }
     },
     "ed495466639a46d6a97c14dc46d3d69e": {
      "model_module": "jupyter-js-widgets",
      "model_module_version": "~2.1.4",
      "model_name": "HBoxModel",
      "state": {
       "_model_module_version": "~2.1.4",
       "_view_module_version": "~2.1.4",
       "children": [
        "IPY_MODEL_06835dac61e44e93b1f5e8181a948690",
        "IPY_MODEL_b583e6de6388471a8ed49889093dc27e"
       ],
       "layout": "IPY_MODEL_aa7451093a8e4623a14110e804a1680c"
      }
     },
     "edd50031c9f647a5810b21431970c2ed": {
      "model_module": "jupyter-js-widgets",
      "model_module_version": "~2.1.4",
      "model_name": "LayoutModel",
      "state": {
       "_model_module_version": "~2.1.4",
       "_view_module_version": "~2.1.4"
      }
     },
     "ee7e3c94ef694fd59b987132d48e649e": {
      "model_module": "jupyter-js-widgets",
      "model_module_version": "~2.1.4",
      "model_name": "LayoutModel",
      "state": {
       "_model_module_version": "~2.1.4",
       "_view_module_version": "~2.1.4"
      }
     },
     "f04a2121185b4f018c073fa788c17339": {
      "model_module": "jupyter-js-widgets",
      "model_module_version": "~2.1.4",
      "model_name": "ProgressModel",
      "state": {
       "_model_module_version": "~2.1.4",
       "_view_module_version": "~2.1.4",
       "bar_style": "success",
       "layout": "IPY_MODEL_d4881c43614c4d659d7551bd8fd09027",
       "max": 1,
       "style": "IPY_MODEL_da306f9e64054d1a8a68569c895e51ce",
       "value": 1
      }
     },
     "f08a507ac3734d63b70fdb6b12e7ac71": {
      "model_module": "jupyter-js-widgets",
      "model_module_version": "~2.1.4",
      "model_name": "LayoutModel",
      "state": {
       "_model_module_version": "~2.1.4",
       "_view_module_version": "~2.1.4"
      }
     },
     "f0936cc0750c4df1872274adbd1f7b57": {
      "model_module": "jupyter-js-widgets",
      "model_module_version": "~2.1.4",
      "model_name": "LayoutModel",
      "state": {
       "_model_module_version": "~2.1.4",
       "_view_module_version": "~2.1.4"
      }
     },
     "f0a4bcb50d9a4f2892cd0b300f555e41": {
      "model_module": "jupyter-js-widgets",
      "model_module_version": "~2.1.4",
      "model_name": "LayoutModel",
      "state": {
       "_model_module_version": "~2.1.4",
       "_view_module_version": "~2.1.4"
      }
     },
     "f16a8efdaf46461eaa171c770ab1cdda": {
      "model_module": "jupyter-js-widgets",
      "model_module_version": "~2.1.4",
      "model_name": "ProgressStyleModel",
      "state": {
       "_model_module_version": "~2.1.4",
       "_view_module_version": "~2.1.4"
      }
     },
     "f16ab3c510d642d385d146b73deb15af": {
      "model_module": "jupyter-js-widgets",
      "model_module_version": "~2.1.4",
      "model_name": "ProgressModel",
      "state": {
       "_model_module_version": "~2.1.4",
       "_view_module_version": "~2.1.4",
       "bar_style": "success",
       "layout": "IPY_MODEL_0832f009e18a44e2aae0c20d5a289554",
       "max": 1,
       "style": "IPY_MODEL_59fe6198a1a94dbbad798bdf20963df7",
       "value": 1
      }
     },
     "f1b522b68acd4383845f0761c87d876e": {
      "model_module": "jupyter-js-widgets",
      "model_module_version": "~2.1.4",
      "model_name": "LayoutModel",
      "state": {
       "_model_module_version": "~2.1.4",
       "_view_module_version": "~2.1.4"
      }
     },
     "f20fb19de7874888814e4710fcaeb3ee": {
      "model_module": "jupyter-js-widgets",
      "model_module_version": "~2.1.4",
      "model_name": "LayoutModel",
      "state": {
       "_model_module_version": "~2.1.4",
       "_view_module_version": "~2.1.4"
      }
     },
     "f275be8d00fd4d07b4a938e72fbc0d9f": {
      "model_module": "jupyter-js-widgets",
      "model_module_version": "~2.1.4",
      "model_name": "HTMLModel",
      "state": {
       "_model_module_version": "~2.1.4",
       "_view_module_version": "~2.1.4",
       "layout": "IPY_MODEL_98b5b756a5c4497f9fbda47be700e1fe",
       "value": "100% 1/1 [00:10&lt;00:00, 10.29s/it]"
      }
     },
     "f2c03ac6c1634d2888889e50b850aba3": {
      "model_module": "jupyter-js-widgets",
      "model_module_version": "~2.1.4",
      "model_name": "LayoutModel",
      "state": {
       "_model_module_version": "~2.1.4",
       "_view_module_version": "~2.1.4"
      }
     },
     "f370c6b98ec84d97ad29da01cae76f58": {
      "model_module": "jupyter-js-widgets",
      "model_module_version": "~2.1.4",
      "model_name": "LayoutModel",
      "state": {
       "_model_module_version": "~2.1.4",
       "_view_module_version": "~2.1.4"
      }
     },
     "f3f05bc9421645bb92b4aa8ba37cd063": {
      "model_module": "jupyter-js-widgets",
      "model_module_version": "~2.1.4",
      "model_name": "LayoutModel",
      "state": {
       "_model_module_version": "~2.1.4",
       "_view_module_version": "~2.1.4"
      }
     },
     "f58f1812381840a1a978a372b391fdc5": {
      "model_module": "jupyter-js-widgets",
      "model_module_version": "~2.1.4",
      "model_name": "HTMLModel",
      "state": {
       "_model_module_version": "~2.1.4",
       "_view_module_version": "~2.1.4",
       "layout": "IPY_MODEL_10a1e4f7e57c4f289a5d4efcb98b7e2f",
       "value": "100% 1/1 [00:09&lt;00:00,  9.90s/it]"
      }
     },
     "f59cde3cb08748b7bb5b960f1c781f92": {
      "model_module": "jupyter-js-widgets",
      "model_module_version": "~2.1.4",
      "model_name": "HBoxModel",
      "state": {
       "_model_module_version": "~2.1.4",
       "_view_module_version": "~2.1.4",
       "children": [
        "IPY_MODEL_f16ab3c510d642d385d146b73deb15af",
        "IPY_MODEL_869c3c73b07b47b9af0a1889bcf88b80"
       ],
       "layout": "IPY_MODEL_f9b5e2b2e7d44c0db59f10b32e1c8fd6"
      }
     },
     "f5c76fc2e4424f3cb86476bfa6317762": {
      "model_module": "jupyter-js-widgets",
      "model_module_version": "~2.1.4",
      "model_name": "ProgressModel",
      "state": {
       "_model_module_version": "~2.1.4",
       "_view_module_version": "~2.1.4",
       "bar_style": "success",
       "layout": "IPY_MODEL_696777d5d14d4dbd96e3e6b94b7a6449",
       "max": 1,
       "style": "IPY_MODEL_403c6672a72b4db7bff925076c3cfc44",
       "value": 1
      }
     },
     "f654c4ffc8f145b6976f74019d1e9c1d": {
      "model_module": "jupyter-js-widgets",
      "model_module_version": "~2.1.4",
      "model_name": "LayoutModel",
      "state": {
       "_model_module_version": "~2.1.4",
       "_view_module_version": "~2.1.4"
      }
     },
     "f6c8ff909354446ca7c9a0134136ca87": {
      "model_module": "jupyter-js-widgets",
      "model_module_version": "~2.1.4",
      "model_name": "HTMLModel",
      "state": {
       "_model_module_version": "~2.1.4",
       "_view_module_version": "~2.1.4",
       "layout": "IPY_MODEL_5e2b9c32aee8471e840e70d2ed4b3dcc",
       "value": "100% 1/1 [00:09&lt;00:00,  9.87s/it]"
      }
     },
     "f756613474694b41a7fde51ff3514ada": {
      "model_module": "jupyter-js-widgets",
      "model_module_version": "~2.1.4",
      "model_name": "HBoxModel",
      "state": {
       "_model_module_version": "~2.1.4",
       "_view_module_version": "~2.1.4",
       "children": [
        "IPY_MODEL_574e0344e6b341fc88c286d33a34148b",
        "IPY_MODEL_f275be8d00fd4d07b4a938e72fbc0d9f"
       ],
       "layout": "IPY_MODEL_6169a42682294b09bdaa38d347e6ce35"
      }
     },
     "f7be6631921e480bb6cfdf5de6788d23": {
      "model_module": "jupyter-js-widgets",
      "model_module_version": "~2.1.4",
      "model_name": "LayoutModel",
      "state": {
       "_model_module_version": "~2.1.4",
       "_view_module_version": "~2.1.4"
      }
     },
     "f852f32eef44469f998431f9e1cdb971": {
      "model_module": "jupyter-js-widgets",
      "model_module_version": "~2.1.4",
      "model_name": "LayoutModel",
      "state": {
       "_model_module_version": "~2.1.4",
       "_view_module_version": "~2.1.4"
      }
     },
     "f85bfc9cbec04fc89c45b3d8afa1cd77": {
      "model_module": "jupyter-js-widgets",
      "model_module_version": "~2.1.4",
      "model_name": "LayoutModel",
      "state": {
       "_model_module_version": "~2.1.4",
       "_view_module_version": "~2.1.4"
      }
     },
     "f85c57027eed4d2cb2c6e8a5bae19f31": {
      "model_module": "jupyter-js-widgets",
      "model_module_version": "~2.1.4",
      "model_name": "ProgressModel",
      "state": {
       "_model_module_version": "~2.1.4",
       "_view_module_version": "~2.1.4",
       "bar_style": "success",
       "layout": "IPY_MODEL_f7be6631921e480bb6cfdf5de6788d23",
       "max": 1,
       "style": "IPY_MODEL_a04446d121624ddea50521e2728e3811",
       "value": 1
      }
     },
     "f8b1a297106345d78b35c823d65ff067": {
      "model_module": "jupyter-js-widgets",
      "model_module_version": "~2.1.4",
      "model_name": "ProgressStyleModel",
      "state": {
       "_model_module_version": "~2.1.4",
       "_view_module_version": "~2.1.4"
      }
     },
     "f8db2564bc74491e84c3deee7986d795": {
      "model_module": "jupyter-js-widgets",
      "model_module_version": "~2.1.4",
      "model_name": "ProgressStyleModel",
      "state": {
       "_model_module_version": "~2.1.4",
       "_view_module_version": "~2.1.4"
      }
     },
     "f9b5e2b2e7d44c0db59f10b32e1c8fd6": {
      "model_module": "jupyter-js-widgets",
      "model_module_version": "~2.1.4",
      "model_name": "LayoutModel",
      "state": {
       "_model_module_version": "~2.1.4",
       "_view_module_version": "~2.1.4"
      }
     },
     "f9c6d53c4a144fd3b9d94337fb7902b1": {
      "model_module": "jupyter-js-widgets",
      "model_module_version": "~2.1.4",
      "model_name": "ProgressModel",
      "state": {
       "_model_module_version": "~2.1.4",
       "_view_module_version": "~2.1.4",
       "bar_style": "success",
       "layout": "IPY_MODEL_c7cd9f93399a4ccd8292f131fd33e749",
       "max": 1,
       "style": "IPY_MODEL_31a79da9a3b44d97ab2afa21d5a42941",
       "value": 1
      }
     },
     "fb801b21ae59468786b34966f99bf5e6": {
      "model_module": "jupyter-js-widgets",
      "model_module_version": "~2.1.4",
      "model_name": "LayoutModel",
      "state": {
       "_model_module_version": "~2.1.4",
       "_view_module_version": "~2.1.4"
      }
     },
     "fd263c14fb13490ebb78d9bd0e55f133": {
      "model_module": "jupyter-js-widgets",
      "model_module_version": "~2.1.4",
      "model_name": "LayoutModel",
      "state": {
       "_model_module_version": "~2.1.4",
       "_view_module_version": "~2.1.4"
      }
     },
     "fd9387fe6a0c4ceaa1924d9cf926f40e": {
      "model_module": "jupyter-js-widgets",
      "model_module_version": "~2.1.4",
      "model_name": "ProgressStyleModel",
      "state": {
       "_model_module_version": "~2.1.4",
       "_view_module_version": "~2.1.4"
      }
     },
     "fde923f951fb4030b04410602e94094f": {
      "model_module": "jupyter-js-widgets",
      "model_module_version": "~2.1.4",
      "model_name": "LayoutModel",
      "state": {
       "_model_module_version": "~2.1.4",
       "_view_module_version": "~2.1.4"
      }
     },
     "fe462d5e872846008583a47a6e66e180": {
      "model_module": "jupyter-js-widgets",
      "model_module_version": "~2.1.4",
      "model_name": "HBoxModel",
      "state": {
       "_model_module_version": "~2.1.4",
       "_view_module_version": "~2.1.4",
       "children": [
        "IPY_MODEL_14c5061d80b149d58474f146d6f30f30",
        "IPY_MODEL_4ea67cc5b5a6453788bab481d2114d7f"
       ],
       "layout": "IPY_MODEL_5e8bff8625e048c4af0833648b1d1e52"
      }
     },
     "ff8b47444c194116b7e690040697e262": {
      "model_module": "jupyter-js-widgets",
      "model_module_version": "~2.1.4",
      "model_name": "HTMLModel",
      "state": {
       "_model_module_version": "~2.1.4",
       "_view_module_version": "~2.1.4",
       "layout": "IPY_MODEL_4a42e03484904a91ae7833595cd1f65b",
       "value": "100% 1/1 [00:10&lt;00:00, 10.00s/it]"
      }
     },
     "ff9a9351108f4df899d191be96903693": {
      "model_module": "jupyter-js-widgets",
      "model_module_version": "~2.1.4",
      "model_name": "HBoxModel",
      "state": {
       "_model_module_version": "~2.1.4",
       "_view_module_version": "~2.1.4",
       "children": [
        "IPY_MODEL_420c11fbcb3b43459aa0b3c2dfa50165",
        "IPY_MODEL_cebd02d4f0744e91ae54b2bfb2504c19"
       ],
       "layout": "IPY_MODEL_fde923f951fb4030b04410602e94094f"
      }
     },
     "ff9d1ddb1f634bd0966ca512f38edeb8": {
      "model_module": "jupyter-js-widgets",
      "model_module_version": "~2.1.4",
      "model_name": "HBoxModel",
      "state": {
       "_model_module_version": "~2.1.4",
       "_view_module_version": "~2.1.4",
       "children": [
        "IPY_MODEL_cdd71925bef34f65abd10a37df0fb5ba",
        "IPY_MODEL_85bd5b2d5e82475199172479ef2fb2b3"
       ],
       "layout": "IPY_MODEL_f852f32eef44469f998431f9e1cdb971"
      }
     },
     "ffcbb8ff6b3041538ba0554842a149a7": {
      "model_module": "jupyter-js-widgets",
      "model_module_version": "~2.1.4",
      "model_name": "HTMLModel",
      "state": {
       "_model_module_version": "~2.1.4",
       "_view_module_version": "~2.1.4",
       "layout": "IPY_MODEL_de0a3e3b6ab34d1b8131d8840a5d1448",
       "value": " 76% 61/80 [10:14&lt;03:11, 10.07s/it]"
      }
     }
    },
    "version_major": 1,
    "version_minor": 0
   }
  }
 },
 "nbformat": 4,
 "nbformat_minor": 2
}
