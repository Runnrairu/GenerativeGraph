{
 "cells": [
  {
   "cell_type": "markdown",
   "metadata": {},
   "source": [
    "# Learning Deep Generative Models of Graph\n",
    "    This notebook is implemantion for Pytorch.\n",
    "    You can train dataset with running all below cells in order."
   ]
  },
  {
   "cell_type": "code",
   "execution_count": null,
   "metadata": {},
   "outputs": [],
   "source": [
    "from __future__ import print_function\n",
    "from __future__ import division\n",
    "from __future__ import unicode_literals\n",
    "\n",
    "import math\n",
    "\n",
    "import torch\n",
    "from torch import tensor\n",
    "import torch.optim as optim\n",
    "from torch import autograd\n",
    "import torch.utils.data as D\n",
    "from torch.autograd import Variable\n",
    "import torch.nn as nn\n",
    "import torch.nn.functional as F\n",
    "from torch.distributions import Categorical\n",
    "from torch.distributions import Bernoulli\n",
    "\n",
    "import numpy as np\n",
    "import pandas as pd\n",
    "\n",
    "import rdkit\n",
    "from rdkit import Chem\n",
    "\n",
    "import math\n",
    "from tqdm import tqdm_notebook as tqdm\n",
    "from itertools import chain\n",
    "\n",
    "from IPython.display import clear_output\n",
    "from ipywidgets import interact\n",
    "from bokeh.models import ColumnDataSource\n",
    "from bokeh.layouts import column, row\n",
    "from bokeh.io import push_notebook, show, output_notebook\n",
    "from bokeh.plotting import figure\n",
    "\n",
    "import deepchem as dc\n",
    "from deepchem.molnet import load_tox21\n",
    "\n",
    "import h5py\n",
    "import os\n",
    "\n",
    "\n",
    "\n",
    "output_notebook()\n",
    "\n",
    "use_cuda = torch.cuda.is_available()\n",
    "if use_cuda:\n",
    "    torch.set_default_tensor_type('torch.cuda.FloatTensor')\n",
    "torch.manual_seed(123)\n",
    "torch.cuda.manual_seed_all(123)\n",
    "np.random.seed(123)"
   ]
  },
  {
   "cell_type": "code",
   "execution_count": null,
   "metadata": {
    "scrolled": false
   },
   "outputs": [],
   "source": [
    "class Model(nn.Module):\n",
    "    def __init__(self, feat_size, N_Max_atom, N_Max_bond, N_Max_hand, parts, T):\n",
    "        super(Model, self).__init__()\n",
    "        self.N_Max_atom = N_Max_atom\n",
    "        self.N_Max_bond = N_Max_bond\n",
    "        self.N_Max_hand = N_Max_hand\n",
    "        self.parts = parts\n",
    "        self.T = T\n",
    "        self.feat_size = feat_size\n",
    "        self.E_node = nn.Embedding(1 + len(self.parts[0]), feat_size, padding_idx=0)\n",
    "        self.E_edge = nn.Embedding(len(self.parts[1]), feat_size)\n",
    "        \n",
    "        #f_an\n",
    "        \n",
    "        self.f_e_an = nn.ModuleList([nn.Linear(3*feat_size, 3*feat_size*2) for _ in range(self.T)])\n",
    "        self.f_n_an = nn.ModuleList([nn.GRUCell(3*feat_size*2, feat_size) for _ in range(self.T)])\n",
    "        \n",
    "        self.f_m_an = nn.Linear(feat_size, feat_size*2)\n",
    "        self.g_m_an = nn.Linear(feat_size, 1)\n",
    "        \n",
    "        self.f_an = nn.Linear(feat_size*2, 1+len(self.parts[0]))\n",
    "        \n",
    "        #hv initialize\n",
    "        \n",
    "        self.f_m_init = nn.Linear(feat_size, feat_size*2)\n",
    "        self.g_m_init = nn.Linear(feat_size, 1)\n",
    "        \n",
    "        self.f_init = nn.Linear(feat_size + feat_size*2, feat_size)\n",
    "        \n",
    "        #f_ae\n",
    "        \n",
    "        self.f_e_ae = nn.ModuleList([nn.Linear(3*feat_size, 3*feat_size*2) for _ in range(self.T)])\n",
    "        self.f_n_ae = nn.ModuleList([nn.GRUCell(3*feat_size*2, feat_size) for _ in range(self.T)])\n",
    "        \n",
    "        self.f_m_ae = nn.Linear(feat_size, feat_size*2)\n",
    "        self.g_m_ae = nn.Linear(feat_size, 1)\n",
    "         \n",
    "        self.f_ae = nn.Linear(feat_size*2, 1)\n",
    "        \n",
    "        #f_s\n",
    "        \n",
    "        self.f_e_s = nn.ModuleList([nn.Linear(3*feat_size, 3*feat_size*2) for _ in range(self.T)])\n",
    "        self.f_n_s = nn.ModuleList([nn.GRUCell(3*feat_size*2, feat_size) for _ in range(self.T)])\n",
    "        \n",
    "        self.f_s = nn.Linear(feat_size*2, len(self.parts[1]) )\n",
    "        \n",
    "        #dropout\n",
    "        self.dropout = nn.Dropout(p=0.2)\n",
    "        \n",
    "        \n",
    "    def forward(self):\n",
    "        adj = [[] for _ in range(self.N_Max_atom)]\n",
    "        node = tensor([])\n",
    "        edge = []\n",
    "        y_hat_node = tensor([])\n",
    "        y_hat_add = tensor([])\n",
    "        y_hat_edge = tensor([])\n",
    "        emb_edge = tensor([])\n",
    "\n",
    "        h_V = torch.zeros(1, self.feat_size)\n",
    "        h_G = torch.zeros(1, self.feat_size*2)\n",
    "        p_addnode = F.log_softmax(self.f_an(self.dropout(h_G)), dim=-1)\n",
    "        \n",
    "        if torch.sum(torch.isnan(p_addnode)) >= 1:\n",
    "                node_type = 0\n",
    "        else:\n",
    "            node_type = Categorical(logits=p_addnode).sample()\n",
    "        \n",
    "        t = 0\n",
    "        while int(node_type) != 0 and t < self.N_Max_atom:\n",
    "            #print(t)\n",
    "            \n",
    "            node = torch.cat((node, node_type.float()), -1)\n",
    "            y_hat_node = torch.cat((y_hat_node, p_addnode), 0)\n",
    "            \n",
    "            \n",
    "            emb_node = self.E_node(node_type.view(-1,1)).view(1,-1)\n",
    "            h_v_new = self.h_v_init(h_V, emb_node, self.f_m_init, self.g_m_init, self.f_init)\n",
    "            \n",
    "            \n",
    "            if t == 0:\n",
    "                h_V = h_v_new\n",
    "            else:\n",
    "                h_V = torch.cat((h_V, h_v_new), 0)\n",
    "\n",
    "                \n",
    "            h_G = self.prop_and_R(h_V, emb_edge, adj, self.f_e_ae, self.f_n_ae, self.f_m_ae, self.g_m_ae)\n",
    "            s_addedge = self.f_ae(self.dropout(h_G))\n",
    "            p_addedge = F.softmax(s_addedge, dim=1)\n",
    "            \n",
    "            \n",
    "            if torch.isnan(p_addedge):\n",
    "                z_t = 0\n",
    "            else:\n",
    "                z_t = Bernoulli(p_addedge).sample()\n",
    "                y_hat_add = torch.cat((y_hat_add, s_addedge.view(1, -1)), 1)\n",
    "            \n",
    "            \n",
    "            emb_edge_sub = tensor([])\n",
    "            emb_edge_candi = tensor([650])\n",
    "            i = 0\n",
    "            \n",
    "            \n",
    "            while int(z_t) == 1 and len(emb_edge_sub) < self.N_Max_hand:\n",
    "                #print(i)\n",
    "                \n",
    "                if i == 0:\n",
    "                    adjust = torch.zeros(1, self.N_Max_hand, self.feat_size)\n",
    "                    emb_edge_candi = torch.cat((emb_edge, adjust), 0)\n",
    "                    h_U = self.prop(h_V, emb_edge_candi, adj, self.f_e_s, self.f_n_s)\n",
    "                else:\n",
    "                    h_U = self.prop(h_V, emb_edge_candi, adj, self.f_e_s, self.f_n_s)\n",
    "                \n",
    "                \n",
    "                p_nodes = self.nodes(h_U, adj, self.f_s)\n",
    "                \n",
    "                \n",
    "                if torch.sum(torch.isnan(p_nodes)) >= 1:\n",
    "                    adjust = torch.zeros(self.N_Max_hand - len(emb_edge_sub), self.feat_size).fill_(1e-43)\n",
    "                    adjust = torch.log(adjust)\n",
    "                    emb_edge_sub_candi = torch.cat((emb_edge_sub, adjust), 0).view(1, self.N_Max_hand, -1)\n",
    "                    emb_edge_candi = torch.cat((emb_edge, emb_edge_sub_candi), 0)    \n",
    "                else:\n",
    "                    position = Categorical(logits=p_nodes).sample()\n",
    "                    \n",
    "                    \n",
    "                    node_edgetype = self.node_edgetype(h_V, position)\n",
    "                    adj[t].append(node_edgetype[0])\n",
    "                    edge.append([t] + node_edgetype)\n",
    "                    \n",
    "                    if p_nodes.size(1) < self.N_Max_atom * len(self.parts[1]):\n",
    "                        adjust = torch.zeros((1, self.N_Max_atom * len(self.parts[1]) - p_nodes.size(1))).fill_(1e-43)\n",
    "                        adjust = torch.log(adjust)\n",
    "                        y_hat_edge_sub = torch.cat((p_nodes, adjust), 1)\n",
    "                    \n",
    "                    y_hat_edge = torch.cat((y_hat_edge, y_hat_edge_sub), 0)\n",
    "                \n",
    "                    emb_edge_sub_sub = self.E_edge(tensor(node_edgetype[1]).long()).view(1, -1)\n",
    "                    emb_edge_sub = torch.cat((emb_edge_sub, emb_edge_sub_sub), 0)\n",
    "                \n",
    "                    if len(emb_edge_sub) < self.N_Max_hand:\n",
    "                        adjust = torch.zeros(self.N_Max_hand - len(emb_edge_sub), self.feat_size)\n",
    "                        emb_edge_sub_candi = torch.cat((emb_edge_sub, adjust), 0).view(1, self.N_Max_hand, -1)\n",
    "            \n",
    "                    emb_edge_candi = torch.cat((emb_edge, emb_edge_sub_candi), 0)\n",
    "                \n",
    "                \n",
    "                h_G = self.prop_and_R(h_V, emb_edge_candi, adj, self.f_e_ae, self.f_n_ae, self.f_m_ae, self.g_m_ae)\n",
    "                \n",
    "                s_addedge = self.f_ae(self.dropout(h_G))\n",
    "                p_addedge = F.softmax(s_addedge, dim=1)\n",
    "            \n",
    "                if torch.isnan(p_addedge):\n",
    "                    z_t = 0\n",
    "                else:\n",
    "                    z_t = Bernoulli(p_addedge).sample()\n",
    "                    y_hat_add = torch.cat((y_hat_add, s_addedge.view(1, -1)), 1)\n",
    "                \n",
    "                i += 1\n",
    "                \n",
    "            if torch.sum(emb_edge_candi) == 650:\n",
    "                adjust = torch.zeros(1, self.N_Max_hand, self.feat_size)\n",
    "                emb_edge = torch.cat((emb_edge, adjust), 0)\n",
    "            else:\n",
    "                emb_edge = emb_edge_candi\n",
    "            \n",
    "            h_G = self.prop_and_R(h_V, emb_edge, adj, self.f_e_ae, self.f_n_ae, self.f_m_ae, self.g_m_ae)\n",
    "            \n",
    "            p_addnode = F.log_softmax(self.f_an(self.dropout(h_G)), dim=1)\n",
    "            if torch.sum(torch.isnan(p_addnode)) >= 1:\n",
    "                node_type = 0\n",
    "            else:\n",
    "                node_type = Categorical(logits=p_addnode).sample()\n",
    "            \n",
    "            t += 1\n",
    "        \n",
    "        #Adjust for target\n",
    "        \n",
    "        if len(y_hat_node) < self.N_Max_atom:\n",
    "            adjust = torch.zeros(self.N_Max_atom - len(y_hat_node), 1+len(self.parts[0]))\n",
    "            y_hat_node = torch.cat((y_hat_node, adjust) ,0)\n",
    "        \n",
    "        try:\n",
    "            if y_hat_add.size(1) < N_Max_atom:\n",
    "                adjust = torch.zeros(1, self.N_Max_atom - y_hat_add.size(1))\n",
    "                y_hat_add = torch.cat((y_hat_add.view(1, -1), adjust.view(1, -1)), 1)\n",
    "        except:\n",
    "            y_hat_add = torch.zeros(1, self.N_Max_atom)\n",
    "                \n",
    "        if len(y_hat_edge) < self.N_Max_atom*self.N_Max_hand:\n",
    "            adjust = torch.zeros(self.N_Max_atom*self.N_Max_hand - y_hat_edge.size(0), self.N_Max_atom * len(self.parts[1]))\n",
    "            y_hat_edge = torch.cat((y_hat_edge, adjust) ,0)\n",
    "        \n",
    "        return y_hat_node, y_hat_add, y_hat_edge, node, edge   \n",
    "    \n",
    "    def prop_and_R(self, h_V, emb, adj, f_e, f_n, f_m, g_m):\n",
    "        for T in range(self.T):\n",
    "            for t in range(len(h_V)):\n",
    "                if len(adj[t]) != 0:    \n",
    "                    adj_t = tensor(adj[t]).long()\n",
    "                    if t == 0:\n",
    "                        h_u = torch.index_select(h_V, 0, adj_t)\n",
    "                        h_v = torch.cat(([h_V[t].view(1, -1) for _ in range(len(h_u))]), 0)\n",
    "                        x = emb[t, :len(h_u)]\n",
    "                        m_u_v = torch.sum(f_e[T](torch.cat((h_u, h_v, x), 1)), 0, keepdim=True)\n",
    "                        m_v_u = torch.sum(f_e[T](torch.cat((h_u, h_v, x), 1)), 0, keepdim=True)\n",
    "\n",
    "                        a_v = m_u_v + m_v_u\n",
    "                        h_V_new = f_n[T](a_v, h_V[t].view(1, -1))\n",
    "                        \n",
    "                    else:\n",
    "                        h_u = torch.index_select(h_V, 0, adj_t)\n",
    "                        h_v = torch.cat(([h_V[t].view(1, -1) for _ in range(len(h_u))]), 0)\n",
    "                        x = emb[t, :len(h_u)]\n",
    "                        m_u_v = torch.sum(f_e[T](torch.cat((h_u, h_v, x), 1)), 0, keepdim=True)\n",
    "                        m_v_u = torch.sum(f_e[T](torch.cat((h_u, h_v, x), 1)), 0, keepdim=True)\n",
    "\n",
    "                        a_v = m_u_v + m_v_u\n",
    "                    \n",
    "                        h_V_new_sub = f_n[T](a_v, h_V[t].view(1, -1))\n",
    "                        h_V_new = torch.cat((h_V_new, h_V_new_sub), 0)\n",
    "\n",
    "                else:\n",
    "                    if t == 0:\n",
    "                        h_V_new = h_V[t].view(1, -1)\n",
    "                    else:\n",
    "                        h_V_new_sub = h_V[t].view(1, -1)\n",
    "                        h_V_new = torch.cat((h_V_new, h_V_new_sub), 0)\n",
    "                        \n",
    "            h_V = h_V_new\n",
    "        \n",
    "        h_V_g = f_m(h_V)\n",
    "        g_V = F.logsigmoid(g_m(h_V))\n",
    "        h_G = torch.sum(torch.mul(g_V, h_V_g), 0, keepdim=True)\n",
    "        \n",
    "        return h_G\n",
    "\n",
    "    def prop(self, h_V, emb, adj, f_e, f_n):\n",
    "        for T in range(self.T):\n",
    "            for t in range(len(h_V)):\n",
    "                if len(adj[t]) != 0:    \n",
    "                    adj_t = tensor(adj[t]).long()\n",
    "                    if t == 0:\n",
    "                        h_u = torch.index_select(h_V, 0, adj_t)\n",
    "                        h_v = torch.cat(([h_V[t].view(1, -1) for _ in range(len(h_u))]), 0)\n",
    "                        x = emb[t, :len(h_u)]\n",
    "                        m_u_v = torch.sum(f_e[T](torch.cat((h_u, h_v, x), 1)), 0, keepdim=True)\n",
    "                        m_v_u = torch.sum(f_e[T](torch.cat((h_u, h_v, x), 1)), 0, keepdim=True)\n",
    "\n",
    "                        a_v = m_u_v + m_v_u\n",
    "\n",
    "                        h_V_new = f_n[T](a_v, h_V[t].view(1, -1))\n",
    "                        \n",
    "                    else:\n",
    "                        h_u = torch.index_select(h_V, 0, adj_t)\n",
    "                        h_v = torch.cat(([h_V[t].view(1, -1) for _ in range(len(h_u))]), 0)\n",
    "                        x = emb[t, :len(h_u)]\n",
    "                        m_u_v = torch.sum(f_e[T](torch.cat((h_u, h_v, x), 1)), 0, keepdim=True)\n",
    "                        m_v_u = torch.sum(f_e[T](torch.cat((h_u, h_v, x), 1)), 0, keepdim=True)\n",
    "\n",
    "                        a_v = m_u_v + m_v_u\n",
    "                    \n",
    "                        h_V_new_sub = f_n[T](a_v, h_V[t].view(1, -1))\n",
    "                        h_V_new = torch.cat((h_V_new, h_V_new_sub), 0)\n",
    "\n",
    "                else:\n",
    "                    if t == 0:\n",
    "                        h_V_new = h_V[t].view(1, -1)\n",
    "                    else:\n",
    "                        h_V_new_sub = h_V[t].view(1, -1)\n",
    "                        h_V_new = torch.cat((h_V_new, h_V_new_sub), 0)\n",
    "                        \n",
    "            h_V = h_V_new\n",
    "        \n",
    "        return h_V\n",
    "        \n",
    "    def nodes(self, h_U, adj, f_s):\n",
    "        h_V = torch.cat(([h_U[-1].view(1, -1) for _ in range(len(h_U))]), 0)\n",
    "        s_u_j = f_s(self.dropout(torch.cat((h_U, h_V), 1))).view(1, -1)\n",
    "        p_nodes = F.log_softmax(s_u_j, dim=1)\n",
    "        \n",
    "        return p_nodes\n",
    "    \n",
    "    def node_edgetype(self, h_V, position):\n",
    "        empty = torch.zeros(1, len(h_V) * len(self.parts[1]))\n",
    "        empty[0, position] = 1\n",
    "        node = int(empty.reshape(len(h_V), len(self.parts[1])).nonzero()[0][0])\n",
    "        bondtype = int(empty.reshape(len(h_V), len(self.parts[1])).nonzero()[0][1])\n",
    "\n",
    "        return [node, bondtype]\n",
    "        \n",
    "    def h_v_init(self, h_V, e, f_m, g_m, f_init):\n",
    "        h_v_g_init = f_m(h_V)\n",
    "        g_v_init = F.logsigmoid(g_m(h_V))\n",
    "        h_G_init = torch.sum(torch.mul(g_v_init, h_v_g_init), 0, keepdim=True)\n",
    "        \n",
    "        h_v = f_init(torch.cat((e, h_G_init), 1))\n",
    "        \n",
    "        return h_v"
   ]
  },
  {
   "cell_type": "code",
   "execution_count": null,
   "metadata": {},
   "outputs": [],
   "source": [
    "class Featurizer(object):\n",
    "    def __init__(self, N_Max_atom, N_Max_bond, N_Max_hand, parts):\n",
    "        super(Featurizer, self).__init__()\n",
    "        self.N_Max_atom = N_Max_atom\n",
    "        self.N_Max_bond = N_Max_bond\n",
    "        self.N_Max_hand = N_Max_hand\n",
    "        self.parts = parts\n",
    "    \n",
    "    def __call__(self, mols, filepass):\n",
    "        print('mol count')\n",
    "        sio = sys.stderr = StringIO()\n",
    "        sio.getvalue()\n",
    "        self.size = mol_num(mols)\n",
    "        \n",
    "        self.f =  h5py.File(filepass, \"w\")\n",
    "        \n",
    "        self.f.create_dataset('atom', shape=(self.size, 1,  self.N_Max_atom))\n",
    "        self.f.create_dataset('add', shape=(self.size, self.N_Max_atom))\n",
    "        self.f.create_dataset('bond', shape=(self.size, 1, self.N_Max_hand*self.N_Max_atom))\n",
    "        \n",
    "        print('Featurizing atom_type')\n",
    "        self.atom_type(mols)\n",
    "        print('Featurizing add')\n",
    "        self.add(mols)\n",
    "        print('Featurizing bond_type')\n",
    "        self.bond_type(mols)\n",
    "        \n",
    "        self.f.flush()\n",
    "        self.f.close()\n",
    "        \n",
    "        print('Done')\n",
    "        \n",
    "    def atom_type(self, mols):\n",
    "        ids = self.f['atom']\n",
    "        parts = self.parts[0]\n",
    "        c = -1\n",
    "        for mol in tqdm(mols):\n",
    "            if mol is not None:\n",
    "                mol = Chem.AddHs(mol)\n",
    "                if mol.GetNumAtoms() <= self.N_Max_atom:\n",
    "                    c += 1\n",
    "                    for index_atom , atom in enumerate(mol.GetAtoms()):\n",
    "                        ids[c, 0, index_atom] = parts[atom.GetSymbol()]\n",
    "                else:\n",
    "                    pass\n",
    "                \n",
    "                \n",
    "    def add(self, mols):\n",
    "        ids = self.f['add']\n",
    "        c = -1\n",
    "        for mol in tqdm(mols):\n",
    "            if mol is not None:\n",
    "                mol = Chem.AddHs(mol)\n",
    "                if mol.GetNumAtoms() <= self.N_Max_atom:\n",
    "                    c += 1\n",
    "                    ids[c, :mol.GetNumAtoms()] = 1    \n",
    "                else:\n",
    "                    pass\n",
    "                \n",
    "    def bond_type(self, mols):\n",
    "        ids = self.f['bond']\n",
    "        parts = self.parts[1]\n",
    "        c = -1\n",
    "        for mol in tqdm(mols):\n",
    "            if mol is not None:\n",
    "                mol = Chem.AddHs(mol)\n",
    "                if mol.GetNumAtoms() <= self.N_Max_atom:\n",
    "                    c += 1\n",
    "                    for index_bond, bond in enumerate(mol.GetBonds()):\n",
    "                        ids[c, 0, index_bond] = (parts[str(bond.GetBondType())] * bond.GetEndAtomIdx()) + bond.GetEndAtomIdx() + parts[str(bond.GetBondType())]"
   ]
  },
  {
   "cell_type": "code",
   "execution_count": null,
   "metadata": {
    "scrolled": true
   },
   "outputs": [],
   "source": [
    "from io import StringIO\n",
    "import sys\n",
    "Chem.WrapLogs()\n",
    "def write_mol(node_batch, edge_batch, gen_size):\n",
    "    mols_gen = []\n",
    "    smiles_gen = []\n",
    "    failures = []\n",
    "    count = 0\n",
    "    sio = sys.stderr = StringIO()\n",
    "    for c in range(gen_size):\n",
    "        \n",
    "        m = Chem.MolFromSmiles('') \n",
    "        mw = Chem.RWMol(m)\n",
    "        flag = False\n",
    "        for n in range(len(node_batch[c])):\n",
    "            try:\n",
    "                mw.AddAtom(Chem.Atom(int(node_batch[c][n])))\n",
    "            except:\n",
    "                failures.append([c, sio.getvalue()])\n",
    "                sio = sys.stderr = StringIO()\n",
    "                flag = True\n",
    "                break\n",
    "\n",
    "        for e in range(len(edge_batch[c])):\n",
    "            try:\n",
    "                mw.AddBond(edge_batch[c][e][0], edge_batch[c][e][1], num_to_bond[edge_batch[c][e][2]])\n",
    "\n",
    "            except RuntimeError:\n",
    "                failures.append([c, sio.getvalue()])\n",
    "                sio = sys.stderr = StringIO()\n",
    "                flag = True\n",
    "                break\n",
    "        if flag:\n",
    "            break\n",
    "        else:\n",
    "            pass\n",
    "                \n",
    "        try:\n",
    "            Chem.SanitizeMol(mw)\n",
    "            smiles =Chem.MolToSmiles(mw)\n",
    "            smiles_gen.append(smiles)\n",
    "            mols_gen.append(mw)\n",
    "            count += 1\n",
    "        except ValueError:\n",
    "            pass\n",
    "        \n",
    "    valid_rate = count / gen_size\n",
    "    \n",
    "    return mols_gen, smiles_gen, valid_rate, failures"
   ]
  },
  {
   "cell_type": "code",
   "execution_count": null,
   "metadata": {},
   "outputs": [],
   "source": [
    "from rdkit.Chem.Draw import IPythonConsole\n",
    "from IPython.display import SVG\n",
    "from rdkit.Chem import rdDepictor\n",
    "from rdkit.Chem.Draw import rdMolDraw2D\n",
    "\n",
    "def moltosvg(mol, molSize=(400,400), index=False, kekulize=True):\n",
    "    \n",
    "    mc = Chem.Mol(mol.ToBinary())\n",
    "    \n",
    "    if kekulize:\n",
    "        try:\n",
    "            Chem.Kekulize(mc)\n",
    "        except:\n",
    "            mc = Chem.Mol(mol.ToBinary())\n",
    "            \n",
    "    if not mc.GetNumConformers():\n",
    "        rdDepictor.Compute2DCoords(mc)\n",
    "        \n",
    "    drawer = rdMolDraw2D.MolDraw2DSVG(molSize[0], molSize[1])\n",
    "    opts = drawer.drawOptions()\n",
    "    if index:\n",
    "        for i in range(mc.GetNumAtoms()):\n",
    "            opts.atomLabels[i] = str(i)\n",
    "\n",
    "    drawer.DrawMolecule(mc)\n",
    "    drawer.FinishDrawing()\n",
    "    svg = drawer.GetDrawingText()\n",
    "    \n",
    "    # It seems that the svg renderer used doesn't quite hit the spec.\n",
    "    # Here are some fixes to make it work in the notebook, although I think\n",
    "    # the underlying issue needs to be resolved at the generation step\n",
    "    \n",
    "    return svg.replace('svg:','')"
   ]
  },
  {
   "cell_type": "code",
   "execution_count": null,
   "metadata": {
    "scrolled": false
   },
   "outputs": [],
   "source": [
    "def calc_lr(epoch_num):\n",
    "    return 0.000000001 * 1.3 ** epoch_num\n",
    "def mol_num(mols):\n",
    "    num = sum([1 for mol in tqdm(mols) if mol is not None and int(Chem.AddHs(mol).GetNumAtoms()) <= N_Max_atom ])\n",
    "    return num"
   ]
  },
  {
   "cell_type": "code",
   "execution_count": null,
   "metadata": {},
   "outputs": [],
   "source": [
    "atom_to_num = {}\n",
    "num_to_atom ={}\n",
    "for i in range(121):\n",
    "    if i != 0:\n",
    "        sub = {Chem.Atom(i).GetSymbol(): i}\n",
    "        sub2 = {i: Chem.Atom(i).GetSymbol()}\n",
    "        atom_to_num.update(sub)\n",
    "        num_to_atom.update(sub2)\n",
    "bond_to_num = {'AROMATIC': 0, 'SINGLE': 1, 'DOUBLE': 2, 'TRIPLE': 3}\n",
    "num_to_bond = {0: Chem.BondType.AROMATIC, 1: Chem.BondType.SINGLE, 2: Chem.BondType.DOUBLE, 3: Chem.BondType.TRIPLE}\n",
    "parts = (atom_to_num, bond_to_num)"
   ]
  },
  {
   "cell_type": "markdown",
   "metadata": {},
   "source": [
    "# Change settings for training set."
   ]
  },
  {
   "cell_type": "code",
   "execution_count": null,
   "metadata": {},
   "outputs": [],
   "source": [
    "zinc_mols = Chem.SmilesMolSupplier('250k_rndm_zinc_drugs_clean.smi', delimiter='\\t', titleLine=False)\n",
    "N_Max_atom = 20 # you can change this number. you can collect mol whose number of node is less than set number. \n",
    "                #If you want to use all training data, set 83.\n",
    "N_Max_bond = 87 # you can't change this number.\n",
    "N_Max_hand = 4\n",
    "#N_Max_bond = max([Chem.AddHs(mol).GetNumBonds() for mol in tqdm(zinc_mols) if mol is not None]) # result in 87\n",
    "#N_Max_atom = max([Chem.AddHs(mol).GetNumAtoms() for mol in tqdm(zinc_mols) if mol is not None])# result in 83"
   ]
  },
  {
   "cell_type": "markdown",
   "metadata": {},
   "source": [
    "# Create training data set."
   ]
  },
  {
   "cell_type": "code",
   "execution_count": null,
   "metadata": {
    "scrolled": true
   },
   "outputs": [],
   "source": [
    "featurizer = Featurizer(N_Max_atom, N_Max_bond, N_Max_hand, parts)\n",
    "if not os.path.exists('./zinc.hdf5'):\n",
    "    print('zinc set')\n",
    "    featurizer(zinc_mols,'./zinc.hdf5')"
   ]
  },
  {
   "cell_type": "markdown",
   "metadata": {},
   "source": [
    "# Change settings for Model."
   ]
  },
  {
   "cell_type": "code",
   "execution_count": null,
   "metadata": {},
   "outputs": [],
   "source": [
    "#Settings\n",
    "\n",
    "batch_size = 1 # you can't chenge batch size.\n",
    "gen_size = 100 # you can change generation times.\n",
    "epoch_num = 1 # you can change epoch times for training\n",
    "\n",
    "#Model - you can change feat_size for node feature and T for propagation times.\n",
    "\n",
    "generator = Model(feat_size=128, N_Max_atom=N_Max_atom, N_Max_bond=N_Max_bond,N_Max_hand=N_Max_hand, parts=parts, T=2)\n",
    "torch.save(generator.state_dict(), './init.pth') \n",
    "finder = Model(feat_size=128, N_Max_atom=N_Max_atom, N_Max_bond=N_Max_bond, N_Max_hand=N_Max_hand, parts=parts, T=2)\n",
    "finder.load_state_dict(torch.load('./init.pth'))\n",
    "\n",
    "#Loss function\n",
    "criterion = nn.NLLLoss()\n",
    "criterion_add = nn.BCEWithLogitsLoss()\n"
   ]
  },
  {
   "cell_type": "markdown",
   "metadata": {},
   "source": [
    "# Run the below cell for training."
   ]
  },
  {
   "cell_type": "code",
   "execution_count": null,
   "metadata": {
    "scrolled": false
   },
   "outputs": [],
   "source": [
    "#Log\n",
    "\n",
    "train_logs = []\n",
    "rates_logs = []\n",
    "#Plotting\n",
    "\n",
    "source_train = ColumnDataSource(data=dict(epoch=[], loss=[]))\n",
    "source_rates = ColumnDataSource(data=dict(epoch=[], rates=[]))\n",
    "settings = dict(plot_width=480, plot_height=430, min_border=0)\n",
    "p = figure(title=\"Loss\", x_axis_label=\"epoch\", y_axis_label=\"Loss\", **settings)\n",
    "p.line(x='epoch', y='loss', source=source_train)\n",
    "p2 = figure(title=\"Generation Valid Rate\", x_axis_label=\"epoch\", y_axis_label=\"Valid rate\", **settings)\n",
    "p2.line(x='epoch', y='rates', source=source_rates, color=\"orange\")\n",
    "\n",
    "t = show(p, notebook_handle=True)\n",
    "t2 = show(p2, notebook_handle=True)\n",
    "#Config\n",
    "\n",
    "train = h5py.File('./zinc.hdf5', 'r')\n",
    "generator.train()\n",
    "train_x = train['atom']\n",
    "batch_num = len(train_x) // batch_size\n",
    "\n",
    "optimizer = optim.Adam(generator.parameters(), lr=0.0001)  # you can change learning rate.\n",
    "print('Epoch')\n",
    "for epoch in tqdm(range(0, epoch_num)): # you can change a number of epoch.\n",
    "    \n",
    "    #Training\n",
    "    for batch in tqdm(range(0, batch_num)):\n",
    "        \n",
    "        start = batch*batch_size\n",
    "        end = batch*batch_size + batch_size\n",
    "        \n",
    "        target_node = torch.from_numpy(train['atom'][start:end]).view(-1, 1, N_Max_atom).long()\n",
    "        target_add = torch.from_numpy(train['add'][start:end]).view(-1, N_Max_atom).float()\n",
    "        target_edge = torch.from_numpy(train['bond'][start:end]).view(-1, 1, N_Max_hand*N_Max_atom).long()\n",
    "        \n",
    "        if use_cuda:\n",
    "            target_node = target_node.cuda()\n",
    "            target_add = target_add.cuda()\n",
    "            target_edge = target_edge.cuda()\n",
    "            \n",
    "        y_hat_node_batch = tensor([])\n",
    "        y_hat_add_batch = tensor([])\n",
    "        y_hat_edge_batch = tensor([])\n",
    "        node_batch = []\n",
    "        edge_batch = []\n",
    "        for _ in range(batch_size):\n",
    "            y_hat_node, y_hat_add, y_hat_edge, node, edge = generator()\n",
    "            y_hat_node_batch = torch.cat((y_hat_node_batch, y_hat_node.view(1, N_Max_atom, -1)), 0)\n",
    "            y_hat_add_batch = torch.cat((y_hat_add_batch, y_hat_add.view(1, -1)), 0)\n",
    "            y_hat_edge_batch = torch.cat((y_hat_edge_batch, y_hat_edge.view(1, N_Max_hand*N_Max_atom, -1)), 0)\n",
    "            node_batch.append(node.tolist())\n",
    "            edge_batch.append(edge)\n",
    "        \n",
    "        loss_node = criterion(y_hat_node_batch.view(-1, 1 + len(parts[0])), target_node.view(-1))\n",
    "        #loss_add = criterion_add(y_hat_add_batch, target_add)\n",
    "        loss_edge = criterion(y_hat_edge_batch.view(-1, N_Max_atom * len(parts[1])), target_edge.view(-1))\n",
    "        \n",
    "        loss = loss_node + loss_edge\n",
    "        \n",
    "        try:\n",
    "            loss.backward()\n",
    "            optimizer.step()\n",
    "        except RuntimeError:\n",
    "            pass\n",
    "        \n",
    "        generator.zero_grad()\n",
    "        \n",
    "        if use_cuda:\n",
    "            loss = loss.cpu()\n",
    "        \n",
    "        new_data_train = {'epoch' : [epoch*batch_num + batch], 'loss' : [loss.detach().numpy()]}\n",
    "        new_data_train_df = {'epoch' : epoch*batch_num * batch, 'loss' : loss.detach().numpy()}\n",
    "        \n",
    "        source_train.stream(new_data_train)\n",
    "        \n",
    "        train_logs.append(new_data_train_df)\n",
    "        df_train = pd.DataFrame(train_logs)\n",
    "        df_train.to_csv(\"./train_logs.csv\", index=False)\n",
    "        \n",
    "        push_notebook(handle=t)\n",
    "        \n",
    "    #Generation\n",
    "    \n",
    "        if (epoch*batch_num + batch) % 100 == 0:\n",
    "            y_hat_node_batch = tensor([])\n",
    "            y_hat_add_batch = tensor([])\n",
    "            y_hat_edge_batch = tensor([])\n",
    "            node_batch = []\n",
    "            edge_batch = []\n",
    "            for _ in range(batch_size):\n",
    "                y_hat_node, y_hat_add, y_hat_edge, node, edge = generator()\n",
    "                y_hat_node_batch = torch.cat((y_hat_node_batch, y_hat_node.view(1, N_Max_atom, -1)), 0)\n",
    "                #y_hat_add_batch = torch.cat((y_hat_add_batch, y_hat_add.view(1, -1)), 0)\n",
    "                y_hat_edge_batch = torch.cat((y_hat_edge_batch, y_hat_edge.view(1, N_Max_hand*N_Max_atom, -1)), 0)\n",
    "                node_batch.append(node.tolist())\n",
    "                edge_batch.append(edge)\n",
    "    \n",
    "            mols, smiles, valid_rate, failures = write_mol(node_batch, edge_batch, gen_size)\n",
    "\n",
    "            new_data_rates = {'epoch' : [epoch*batch_num + batch], 'rates' : [valid_rate]}\n",
    "            new_data_rates_df = {'epoch' : epoch*batch_num + batch, 'rates' : valid_rate}\n",
    "\n",
    "            source_rates.stream(new_data_rates)\n",
    "\n",
    "            rates_logs.append(new_data_rates_df)\n",
    "            df_rates = pd.DataFrame(rates_logs)\n",
    "            df_rates.to_csv(\"./rates_logs.csv\", index=False)\n",
    "\n",
    "            push_notebook(handle=t2)\n",
    "    \n",
    "    #Write generated mols per epoch\n",
    "    \n",
    "    ''' To Do\n",
    "    writer = Chem.SDWriter(f'./mols/epoch{epoch}.sdf')\n",
    "    for mol in mols:\n",
    "        writer.write(mol)\n",
    "    writer.close()\n",
    "    '''\n",
    "    \n",
    "    #Save model\n",
    "    \n",
    "    torch.save(generator.state_dict(), f'./models/epoch{0}.pth')\n",
    "        \n",
    "clear_output()\n",
    "\n",
    "train_logs = pd.read_csv('./train_logs.csv')\n",
    "\n",
    "source_train = ColumnDataSource(train_logs)\n",
    "\n",
    "t = show(column(p, p2), notebook_handle=True)\n",
    "\n",
    "train.flush()\n",
    "train.close()\n",
    "\n",
    "print(\"Done\")"
   ]
  },
  {
   "cell_type": "markdown",
   "metadata": {},
   "source": [
    "# Generation Graph\n",
    "    You can change gen_size for the number of generating graph."
   ]
  },
  {
   "cell_type": "code",
   "execution_count": null,
   "metadata": {},
   "outputs": [],
   "source": [
    "gen_size = 10\n",
    "\n",
    "y_hat_node_batch = tensor([])\n",
    "y_hat_add_batch = tensor([])\n",
    "y_hat_edge_batch = tensor([])\n",
    "node_batch = []\n",
    "edge_batch = []\n",
    "for _ in tqdm(range(gen_size)):\n",
    "    y_hat_node, y_hat_add, y_hat_edge, node, edge = generator()\n",
    "    y_hat_node_batch = torch.cat((y_hat_node_batch, y_hat_node.view(1, N_Max_atom, -1)), 0)\n",
    "    #y_hat_add_batch = torch.cat((y_hat_add_batch, y_hat_add.view(1, -1)), 0)\n",
    "    y_hat_edge_batch = torch.cat((y_hat_edge_batch, y_hat_edge.view(1, N_Max_hand*N_Max_atom, -1)), 0)\n",
    "    node_batch.append(node.tolist())\n",
    "    edge_batch.append(edge)\n",
    "    \n",
    "mols_gen, smiles_gen, valid_rate_gen, failures_gen = write_mol(node_batch, edge_batch, gen_size)"
   ]
  },
  {
   "cell_type": "markdown",
   "metadata": {},
   "source": [
    "# Show Generated Graph\n",
    "    You can change index number (0 < index < len(mols_gen))"
   ]
  },
  {
   "cell_type": "code",
   "execution_count": null,
   "metadata": {},
   "outputs": [],
   "source": [
    "len(mols_gen)"
   ]
  },
  {
   "cell_type": "code",
   "execution_count": null,
   "metadata": {
    "scrolled": false
   },
   "outputs": [],
   "source": [
    "index = 0\n",
    "SVG(moltosvg(mols_gen[index], molSize=(300,300), index=False))"
   ]
  },
  {
   "cell_type": "markdown",
   "metadata": {},
   "source": [
    "# Show Plot"
   ]
  },
  {
   "cell_type": "code",
   "execution_count": null,
   "metadata": {
    "scrolled": false
   },
   "outputs": [],
   "source": [
    "train_logs = pd.read_csv('./train_logs.csv')\n",
    "\n",
    "source_train = ColumnDataSource(train_logs)\n",
    "settings = dict(plot_width=480, plot_height=430, min_border=0)\n",
    "p = figure(title=\"Binary Cross Entropy Loss with Sigmoid Layer\", x_axis_label=\"epoch\",y_axis_label=\"Loss\", **settings)\n",
    "p.line(x='epoch', y='loss', source=source_train, legend=\"Train\")\n",
    "\n",
    "draw = show(p, notebook_handle=True)"
   ]
  },
  {
   "cell_type": "markdown",
   "metadata": {},
   "source": [
    "# Find Optim Learning rate. (Option)\n",
    "    Choice the learning rate before increasing loss."
   ]
  },
  {
   "cell_type": "code",
   "execution_count": null,
   "metadata": {
    "scrolled": false
   },
   "outputs": [],
   "source": [
    "##Optimal learning rates\n",
    "\n",
    "#Log\n",
    "\n",
    "find_logs = []\n",
    "\n",
    "#Plotting\n",
    "\n",
    "source_find = ColumnDataSource(data=dict(epoch=[], loss=[], lr=[]))\n",
    "settings = dict(plot_width=480, plot_height=430, min_border=0)\n",
    "pf = figure(title=\"Optimal learning rates\", x_axis_label=\"epoch\",y_axis_label=\"Loss\", **settings)\n",
    "pf.line(x='epoch', y='loss', source=source_find)\n",
    "\n",
    "pf2 = figure(title=\"Corresponding Learning rate\", x_axis_label=\"epoch\", y_axis_label=\"Learning rate\", **settings)\n",
    "pf2.line(x='epoch', y='lr', source=source_find, color=\"orange\")\n",
    "\n",
    "tf = show(column(pf,pf2), notebook_handle=True)\n",
    "\n",
    "#Config\n",
    "train = h5py.File('./zinc.hdf5', 'r')\n",
    "finder.train()\n",
    "finder_x = train['atom'][:batch_size]\n",
    "batch_num = len(finder_x) // batch_size\n",
    "\n",
    "optimizer_find = optim.Adam(finder.parameters(), lr=calc_lr(40))\n",
    "scheduler = optim.lr_scheduler.ExponentialLR(optimizer_find, 1.3, last_epoch=-1)\n",
    "\n",
    "for epoch in tqdm(range(40,80)):\n",
    "    \n",
    "    #Training\n",
    "    \n",
    "    for batch in tqdm(range(0,batch_num), disable=True):\n",
    "        \n",
    "        start = batch*batch_size\n",
    "        end = batch*batch_size + batch_size\n",
    "        \n",
    "        target_node = torch.from_numpy(train['atom'][start:end]).view(-1, 1, N_Max_atom).long()\n",
    "        target_add = torch.from_numpy(train['add'][start:end]).view(-1, N_Max_atom).float()\n",
    "        target_edge = torch.from_numpy(train['bond'][start:end]).view(-1, 1, N_Max_hand*N_Max_atom).long()\n",
    "        \n",
    "        if use_cuda:\n",
    "            target_node = target_node.cuda()\n",
    "            target_add = target_add.cuda()\n",
    "            target_edge = target_edge.cuda()\n",
    "            \n",
    "        y_hat_node_batch = tensor([])\n",
    "        y_hat_add_batch = tensor([])\n",
    "        y_hat_edge_batch = tensor([])\n",
    "        node_batch = []\n",
    "        edge_batch = []\n",
    "        for _ in range(batch_size):\n",
    "            y_hat_node, y_hat_add, y_hat_edge, node, edge = finder()\n",
    "            y_hat_node_batch = torch.cat((y_hat_node_batch, y_hat_node.view(1, N_Max_atom, -1)), 0)\n",
    "            #y_hat_add_batch = torch.cat((y_hat_add_batch, y_hat_add.view(1, -1)), 0)\n",
    "            y_hat_edge_batch = torch.cat((y_hat_edge_batch, y_hat_edge.view(1, N_Max_hand*N_Max_atom, -1)), 0)\n",
    "            node_batch.append(node.tolist())\n",
    "            edge_batch.append(edge)\n",
    "        \n",
    "        loss_node = criterion(y_hat_node_batch.view(-1, 1 + len(parts[0])), target_node.view(-1))\n",
    "        #loss_add = criterion_add(y_hat_add_batch, target_add)\n",
    "        loss_edge = criterion(y_hat_edge_batch.view(-1, N_Max_atom * len(parts[1])), target_edge.view(-1))\n",
    "        \n",
    "        loss = loss_node + loss_edge\n",
    "        \n",
    "        try:\n",
    "            loss.backward()\n",
    "            optimizer.step()\n",
    "        except RuntimeError:\n",
    "            pass\n",
    "        \n",
    "        finder.zero_grad()\n",
    "    #Logiging \n",
    "    if use_cuda:\n",
    "        loss = loss.cpu()\n",
    "    new_data_find = {'epoch' : [epoch], 'loss' : [loss.detach().numpy()], 'lr' : [calc_lr(epoch)]}\n",
    "    new_data_find_df = {'epoch' : epoch, 'loss' : loss.detach().numpy(), 'lr' : calc_lr(epoch)}\n",
    "    source_find.stream(new_data_find)\n",
    "    \n",
    "    find_logs.append(new_data_find_df)\n",
    "    df_find = pd.DataFrame(find_logs)\n",
    "    df_find.to_csv(\"./find_logs.csv\", index=False)\n",
    "    \n",
    "    scheduler.step()\n",
    "    \n",
    "    #Show plots\n",
    "    \n",
    "    push_notebook(handle=tf)\n",
    "\n",
    "clear_output()\n",
    "\n",
    "find_logs = pd.read_csv('./find_logs.csv')\n",
    "source_find = ColumnDataSource(find_logs)\n",
    "\n",
    "tf = show(column(pf,pf2))\n",
    "\n",
    "print('Done')"
   ]
  },
  {
   "cell_type": "code",
   "execution_count": null,
   "metadata": {},
   "outputs": [],
   "source": []
  }
 ],
 "metadata": {
  "kernelspec": {
   "display_name": "Python 3",
   "language": "python",
   "name": "python3"
  },
  "language_info": {
   "codemirror_mode": {
    "name": "ipython",
    "version": 3
   },
   "file_extension": ".py",
   "mimetype": "text/x-python",
   "name": "python",
   "nbconvert_exporter": "python",
   "pygments_lexer": "ipython3",
   "version": "3.6.5"
  },
  "widgets": {
   "application/vnd.jupyter.widget-state+json": {
    "state": {
     "00340058229747d7be2c8f7bbc56c15c": {
      "model_module": "jupyter-js-widgets",
      "model_module_version": "~2.1.4",
      "model_name": "LayoutModel",
      "state": {
       "_model_module_version": "~2.1.4",
       "_view_module_version": "~2.1.4"
      }
     },
     "0043c69f098744f79fd08c870316561e": {
      "model_module": "jupyter-js-widgets",
      "model_module_version": "~2.1.4",
      "model_name": "HTMLModel",
      "state": {
       "_model_module_version": "~2.1.4",
       "_view_module_version": "~2.1.4",
       "layout": "IPY_MODEL_15793e8f2c104810b289ec9967f6f997",
       "value": "100% 1/1 [00:09&lt;00:00,  9.87s/it]"
      }
     },
     "019e4da2875647bda4c264124177324b": {
      "model_module": "jupyter-js-widgets",
      "model_module_version": "~2.1.4",
      "model_name": "ProgressStyleModel",
      "state": {
       "_model_module_version": "~2.1.4",
       "_view_module_version": "~2.1.4"
      }
     },
     "01e6100c0a994e9195e35d2411346277": {
      "model_module": "jupyter-js-widgets",
      "model_module_version": "~2.1.4",
      "model_name": "HTMLModel",
      "state": {
       "_model_module_version": "~2.1.4",
       "_view_module_version": "~2.1.4",
       "layout": "IPY_MODEL_f1b522b68acd4383845f0761c87d876e",
       "value": "100% 1/1 [00:10&lt;00:00, 10.23s/it]"
      }
     },
     "0260934462e54d3382a016bc2d846a5f": {
      "model_module": "jupyter-js-widgets",
      "model_module_version": "~2.1.4",
      "model_name": "ProgressStyleModel",
      "state": {
       "_model_module_version": "~2.1.4",
       "_view_module_version": "~2.1.4"
      }
     },
     "03d27a7aedf54f688fdb5551b9e69ef2": {
      "model_module": "jupyter-js-widgets",
      "model_module_version": "~2.1.4",
      "model_name": "ProgressStyleModel",
      "state": {
       "_model_module_version": "~2.1.4",
       "_view_module_version": "~2.1.4"
      }
     },
     "046f2c7693d243c9b6806e926b98df93": {
      "model_module": "jupyter-js-widgets",
      "model_module_version": "~2.1.4",
      "model_name": "ProgressModel",
      "state": {
       "_model_module_version": "~2.1.4",
       "_view_module_version": "~2.1.4",
       "bar_style": "success",
       "layout": "IPY_MODEL_7c377b1d7fbc44f58f72c177cf86953d",
       "max": 1,
       "style": "IPY_MODEL_9c56675e4ce44a31867cedb9f74b1407",
       "value": 1
      }
     },
     "053c0dc5a6f6415e912ffaf9b79842dc": {
      "model_module": "jupyter-js-widgets",
      "model_module_version": "~2.1.4",
      "model_name": "LayoutModel",
      "state": {
       "_model_module_version": "~2.1.4",
       "_view_module_version": "~2.1.4"
      }
     },
     "066f6c3554064f3ca7b6901c7e650f18": {
      "model_module": "jupyter-js-widgets",
      "model_module_version": "~2.1.4",
      "model_name": "HBoxModel",
      "state": {
       "_model_module_version": "~2.1.4",
       "_view_module_version": "~2.1.4",
       "children": [
        "IPY_MODEL_e54f38cae21c407a876362e3fa6d760a",
        "IPY_MODEL_7b28d69fba314b9e8c8017b19b38272d"
       ],
       "layout": "IPY_MODEL_32ed6710e4d04d368e3be7d7f5e04e8a"
      }
     },
     "06835dac61e44e93b1f5e8181a948690": {
      "model_module": "jupyter-js-widgets",
      "model_module_version": "~2.1.4",
      "model_name": "ProgressModel",
      "state": {
       "_model_module_version": "~2.1.4",
       "_view_module_version": "~2.1.4",
       "bar_style": "success",
       "layout": "IPY_MODEL_c77a2808c6bb4f559f538f94b0142592",
       "max": 1,
       "style": "IPY_MODEL_1d34ad60728e451f8175ba145d7b917c",
       "value": 1
      }
     },
     "07d784e3ea1a45708ba78b601b742c37": {
      "model_module": "jupyter-js-widgets",
      "model_module_version": "~2.1.4",
      "model_name": "HTMLModel",
      "state": {
       "_model_module_version": "~2.1.4",
       "_view_module_version": "~2.1.4",
       "layout": "IPY_MODEL_9abc26c1ab914340a5dcb063c29ffaf3",
       "value": "100% 1/1 [00:09&lt;00:00,  9.86s/it]"
      }
     },
     "0806d169b71c442390edbf567e80bb7a": {
      "model_module": "jupyter-js-widgets",
      "model_module_version": "~2.1.4",
      "model_name": "LayoutModel",
      "state": {
       "_model_module_version": "~2.1.4",
       "_view_module_version": "~2.1.4"
      }
     },
     "0832f009e18a44e2aae0c20d5a289554": {
      "model_module": "jupyter-js-widgets",
      "model_module_version": "~2.1.4",
      "model_name": "LayoutModel",
      "state": {
       "_model_module_version": "~2.1.4",
       "_view_module_version": "~2.1.4"
      }
     },
     "0884a629b2fd4fdeb7c266db1f429485": {
      "model_module": "jupyter-js-widgets",
      "model_module_version": "~2.1.4",
      "model_name": "LayoutModel",
      "state": {
       "_model_module_version": "~2.1.4",
       "_view_module_version": "~2.1.4"
      }
     },
     "097c4368ecd44ddb83a9b94a1e7bc447": {
      "model_module": "jupyter-js-widgets",
      "model_module_version": "~2.1.4",
      "model_name": "LayoutModel",
      "state": {
       "_model_module_version": "~2.1.4",
       "_view_module_version": "~2.1.4"
      }
     },
     "09a688bef2344eb6a18b8a5481da5236": {
      "model_module": "jupyter-js-widgets",
      "model_module_version": "~2.1.4",
      "model_name": "LayoutModel",
      "state": {
       "_model_module_version": "~2.1.4",
       "_view_module_version": "~2.1.4"
      }
     },
     "0a4e3cef4b5a46bc9c9aaba957e07ef8": {
      "model_module": "jupyter-js-widgets",
      "model_module_version": "~2.1.4",
      "model_name": "ProgressStyleModel",
      "state": {
       "_model_module_version": "~2.1.4",
       "_view_module_version": "~2.1.4"
      }
     },
     "0b75219f16c241b488dd3bea20d2cf33": {
      "model_module": "jupyter-js-widgets",
      "model_module_version": "~2.1.4",
      "model_name": "HTMLModel",
      "state": {
       "_model_module_version": "~2.1.4",
       "_view_module_version": "~2.1.4",
       "layout": "IPY_MODEL_821f10b2ed194e97ae5721526a77135b",
       "value": "100% 1/1 [00:09&lt;00:00,  9.90s/it]"
      }
     },
     "0bd1b4752041495c834b0b66bc006bb7": {
      "model_module": "jupyter-js-widgets",
      "model_module_version": "~2.1.4",
      "model_name": "LayoutModel",
      "state": {
       "_model_module_version": "~2.1.4",
       "_view_module_version": "~2.1.4"
      }
     },
     "0c8c8528b1bb41c38746d5e567a075b6": {
      "model_module": "jupyter-js-widgets",
      "model_module_version": "~2.1.4",
      "model_name": "LayoutModel",
      "state": {
       "_model_module_version": "~2.1.4",
       "_view_module_version": "~2.1.4"
      }
     },
     "0ce7aa5a583042f489213ff4b2dff4ed": {
      "model_module": "jupyter-js-widgets",
      "model_module_version": "~2.1.4",
      "model_name": "LayoutModel",
      "state": {
       "_model_module_version": "~2.1.4",
       "_view_module_version": "~2.1.4"
      }
     },
     "0d2b5746b86a423e856d9915ab9f38eb": {
      "model_module": "jupyter-js-widgets",
      "model_module_version": "~2.1.4",
      "model_name": "ProgressStyleModel",
      "state": {
       "_model_module_version": "~2.1.4",
       "_view_module_version": "~2.1.4"
      }
     },
     "0d5bbd484e1847bdb554233aa127621c": {
      "model_module": "jupyter-js-widgets",
      "model_module_version": "~2.1.4",
      "model_name": "HBoxModel",
      "state": {
       "_model_module_version": "~2.1.4",
       "_view_module_version": "~2.1.4",
       "children": [
        "IPY_MODEL_bf4cae68c0b9427294e5514e701b1662",
        "IPY_MODEL_d0ca0935199246c3b17131e84e1daade"
       ],
       "layout": "IPY_MODEL_1a41b50d27314e45b7ec43a77f838651"
      }
     },
     "0d761360a53e4d8887d71ab45e21755f": {
      "model_module": "jupyter-js-widgets",
      "model_module_version": "~2.1.4",
      "model_name": "ProgressStyleModel",
      "state": {
       "_model_module_version": "~2.1.4",
       "_view_module_version": "~2.1.4"
      }
     },
     "0ec07a053c8846c589e9d928565820b8": {
      "model_module": "jupyter-js-widgets",
      "model_module_version": "~2.1.4",
      "model_name": "LayoutModel",
      "state": {
       "_model_module_version": "~2.1.4",
       "_view_module_version": "~2.1.4"
      }
     },
     "10051bb203bf40f19c11cc7fe7b1dfd0": {
      "model_module": "jupyter-js-widgets",
      "model_module_version": "~2.1.4",
      "model_name": "HBoxModel",
      "state": {
       "_model_module_version": "~2.1.4",
       "_view_module_version": "~2.1.4",
       "children": [
        "IPY_MODEL_637a8fd4ba4d4c78a0e97b3bb7b66dcc",
        "IPY_MODEL_ff8b47444c194116b7e690040697e262"
       ],
       "layout": "IPY_MODEL_8589888056a94117b28a7335c1b7e643"
      }
     },
     "10a1e4f7e57c4f289a5d4efcb98b7e2f": {
      "model_module": "jupyter-js-widgets",
      "model_module_version": "~2.1.4",
      "model_name": "LayoutModel",
      "state": {
       "_model_module_version": "~2.1.4",
       "_view_module_version": "~2.1.4"
      }
     },
     "11382c40cf084759b989495645ab680b": {
      "model_module": "jupyter-js-widgets",
      "model_module_version": "~2.1.4",
      "model_name": "ProgressStyleModel",
      "state": {
       "_model_module_version": "~2.1.4",
       "_view_module_version": "~2.1.4"
      }
     },
     "1159630c8d9341f2bfab67d3ef107fe9": {
      "model_module": "jupyter-js-widgets",
      "model_module_version": "~2.1.4",
      "model_name": "LayoutModel",
      "state": {
       "_model_module_version": "~2.1.4",
       "_view_module_version": "~2.1.4"
      }
     },
     "11cb97e9e5704a5f9cb0e3a0ea388736": {
      "model_module": "jupyter-js-widgets",
      "model_module_version": "~2.1.4",
      "model_name": "LayoutModel",
      "state": {
       "_model_module_version": "~2.1.4",
       "_view_module_version": "~2.1.4"
      }
     },
     "14c5061d80b149d58474f146d6f30f30": {
      "model_module": "jupyter-js-widgets",
      "model_module_version": "~2.1.4",
      "model_name": "ProgressModel",
      "state": {
       "_model_module_version": "~2.1.4",
       "_view_module_version": "~2.1.4",
       "bar_style": "success",
       "layout": "IPY_MODEL_5424fbeddd0f458698dd980c2c47ae77",
       "max": 1,
       "style": "IPY_MODEL_4932e45df2d747dd80d02f1ca5e157a7",
       "value": 1
      }
     },
     "152cb032f3314c60891f43119da8bf22": {
      "model_module": "jupyter-js-widgets",
      "model_module_version": "~2.1.4",
      "model_name": "ProgressModel",
      "state": {
       "_model_module_version": "~2.1.4",
       "_view_module_version": "~2.1.4",
       "bar_style": "success",
       "layout": "IPY_MODEL_567caa0ca8454d58b74ae549a84e406a",
       "max": 1,
       "style": "IPY_MODEL_65b1263a518a4206b76a4017ecee89c6",
       "value": 1
      }
     },
     "15793e8f2c104810b289ec9967f6f997": {
      "model_module": "jupyter-js-widgets",
      "model_module_version": "~2.1.4",
      "model_name": "LayoutModel",
      "state": {
       "_model_module_version": "~2.1.4",
       "_view_module_version": "~2.1.4"
      }
     },
     "16260bf800a3442d9dc2273c8a2d17a3": {
      "model_module": "jupyter-js-widgets",
      "model_module_version": "~2.1.4",
      "model_name": "HBoxModel",
      "state": {
       "_model_module_version": "~2.1.4",
       "_view_module_version": "~2.1.4",
       "children": [
        "IPY_MODEL_f04a2121185b4f018c073fa788c17339",
        "IPY_MODEL_eb132e1e5692446eb5bcfbc08161508f"
       ],
       "layout": "IPY_MODEL_053c0dc5a6f6415e912ffaf9b79842dc"
      }
     },
     "16a170765da54252b8d567a681bb763e": {
      "model_module": "jupyter-js-widgets",
      "model_module_version": "~2.1.4",
      "model_name": "LayoutModel",
      "state": {
       "_model_module_version": "~2.1.4",
       "_view_module_version": "~2.1.4"
      }
     },
     "17fa601aebed4142ade04ae7243562b9": {
      "model_module": "jupyter-js-widgets",
      "model_module_version": "~2.1.4",
      "model_name": "HBoxModel",
      "state": {
       "_model_module_version": "~2.1.4",
       "_view_module_version": "~2.1.4",
       "children": [
        "IPY_MODEL_2adc0b655743435a9bda9089577178db",
        "IPY_MODEL_eb931f7735854462a37a3866c537996a"
       ],
       "layout": "IPY_MODEL_2af6dbbb2f3245909c2dd8628759549c"
      }
     },
     "19ad2ff18b7848b483543a6ffa5e1286": {
      "model_module": "jupyter-js-widgets",
      "model_module_version": "~2.1.4",
      "model_name": "LayoutModel",
      "state": {
       "_model_module_version": "~2.1.4",
       "_view_module_version": "~2.1.4"
      }
     },
     "1a41b50d27314e45b7ec43a77f838651": {
      "model_module": "jupyter-js-widgets",
      "model_module_version": "~2.1.4",
      "model_name": "LayoutModel",
      "state": {
       "_model_module_version": "~2.1.4",
       "_view_module_version": "~2.1.4"
      }
     },
     "1a68119e9fd94dca9798254b78c3cfcc": {
      "model_module": "jupyter-js-widgets",
      "model_module_version": "~2.1.4",
      "model_name": "LayoutModel",
      "state": {
       "_model_module_version": "~2.1.4",
       "_view_module_version": "~2.1.4"
      }
     },
     "1a9346a1b71440a68a26602346cee46f": {
      "model_module": "jupyter-js-widgets",
      "model_module_version": "~2.1.4",
      "model_name": "LayoutModel",
      "state": {
       "_model_module_version": "~2.1.4",
       "_view_module_version": "~2.1.4"
      }
     },
     "1a9c95fe660648fc96da40a58d4c61ea": {
      "model_module": "jupyter-js-widgets",
      "model_module_version": "~2.1.4",
      "model_name": "ProgressStyleModel",
      "state": {
       "_model_module_version": "~2.1.4",
       "_view_module_version": "~2.1.4"
      }
     },
     "1ab2cbd42c2c48f2bbf33aae4d3ca095": {
      "model_module": "jupyter-js-widgets",
      "model_module_version": "~2.1.4",
      "model_name": "ProgressModel",
      "state": {
       "_model_module_version": "~2.1.4",
       "_view_module_version": "~2.1.4",
       "bar_style": "success",
       "layout": "IPY_MODEL_097c4368ecd44ddb83a9b94a1e7bc447",
       "max": 1,
       "style": "IPY_MODEL_7507fe9f9a0a4c31a0724556314c38cd",
       "value": 1
      }
     },
     "1ac2b5071cea4fa8a419da9fe39ad489": {
      "model_module": "jupyter-js-widgets",
      "model_module_version": "~2.1.4",
      "model_name": "LayoutModel",
      "state": {
       "_model_module_version": "~2.1.4",
       "_view_module_version": "~2.1.4"
      }
     },
     "1c34db8be6da4deb83f9ec6877f49ad0": {
      "model_module": "jupyter-js-widgets",
      "model_module_version": "~2.1.4",
      "model_name": "LayoutModel",
      "state": {
       "_model_module_version": "~2.1.4",
       "_view_module_version": "~2.1.4"
      }
     },
     "1d0b398b6c3b49efb0fef6dcaa5cf8df": {
      "model_module": "jupyter-js-widgets",
      "model_module_version": "~2.1.4",
      "model_name": "LayoutModel",
      "state": {
       "_model_module_version": "~2.1.4",
       "_view_module_version": "~2.1.4"
      }
     },
     "1d34ad60728e451f8175ba145d7b917c": {
      "model_module": "jupyter-js-widgets",
      "model_module_version": "~2.1.4",
      "model_name": "ProgressStyleModel",
      "state": {
       "_model_module_version": "~2.1.4",
       "_view_module_version": "~2.1.4"
      }
     },
     "1d53482734544823ad1485781b4d90ef": {
      "model_module": "jupyter-js-widgets",
      "model_module_version": "~2.1.4",
      "model_name": "LayoutModel",
      "state": {
       "_model_module_version": "~2.1.4",
       "_view_module_version": "~2.1.4"
      }
     },
     "1da831876d49455bb4f0bd8fe865b878": {
      "model_module": "jupyter-js-widgets",
      "model_module_version": "~2.1.4",
      "model_name": "HBoxModel",
      "state": {
       "_model_module_version": "~2.1.4",
       "_view_module_version": "~2.1.4",
       "children": [
        "IPY_MODEL_448f97890b7b40efb45ddf3178b1d5b7",
        "IPY_MODEL_3868be67d8274a399a7a0f03810810f9"
       ],
       "layout": "IPY_MODEL_dfc4d96b7bb74a1ba42e545cc98c247a"
      }
     },
     "1e17dd844de8484b8524f4cfde7498d8": {
      "model_module": "jupyter-js-widgets",
      "model_module_version": "~2.1.4",
      "model_name": "ProgressStyleModel",
      "state": {
       "_model_module_version": "~2.1.4",
       "_view_module_version": "~2.1.4"
      }
     },
     "1ee6adcaadb441788de1fe8bdc43d2d1": {
      "model_module": "jupyter-js-widgets",
      "model_module_version": "~2.1.4",
      "model_name": "LayoutModel",
      "state": {
       "_model_module_version": "~2.1.4",
       "_view_module_version": "~2.1.4"
      }
     },
     "1eec9f5cfbe84c3f967de09c5bba86ec": {
      "model_module": "jupyter-js-widgets",
      "model_module_version": "~2.1.4",
      "model_name": "LayoutModel",
      "state": {
       "_model_module_version": "~2.1.4",
       "_view_module_version": "~2.1.4"
      }
     },
     "1fbf71948eef4f59b918e10b92dca9b9": {
      "model_module": "jupyter-js-widgets",
      "model_module_version": "~2.1.4",
      "model_name": "HBoxModel",
      "state": {
       "_model_module_version": "~2.1.4",
       "_view_module_version": "~2.1.4",
       "children": [
        "IPY_MODEL_c567cc6fc0bc45c1a8ff9eda250b94f0",
        "IPY_MODEL_504af28b987d43d181171642bafb1977"
       ],
       "layout": "IPY_MODEL_23350974cc23422c836233be101cf39a"
      }
     },
     "20f814f087134ee6843a4bc35a763c23": {
      "model_module": "jupyter-js-widgets",
      "model_module_version": "~2.1.4",
      "model_name": "LayoutModel",
      "state": {
       "_model_module_version": "~2.1.4",
       "_view_module_version": "~2.1.4"
      }
     },
     "21748dfa835149aab65d6e712f9ef35f": {
      "model_module": "jupyter-js-widgets",
      "model_module_version": "~2.1.4",
      "model_name": "ProgressStyleModel",
      "state": {
       "_model_module_version": "~2.1.4",
       "_view_module_version": "~2.1.4"
      }
     },
     "21b2946bfb604a06bb396d4267f18140": {
      "model_module": "jupyter-js-widgets",
      "model_module_version": "~2.1.4",
      "model_name": "HTMLModel",
      "state": {
       "_model_module_version": "~2.1.4",
       "_view_module_version": "~2.1.4",
       "layout": "IPY_MODEL_9bb24fe95e1b45e482c8031d28106258",
       "value": "100% 1/1 [00:10&lt;00:00, 10.16s/it]"
      }
     },
     "2223d27ba73b4b8cb8dbc1618b3f5057": {
      "model_module": "jupyter-js-widgets",
      "model_module_version": "~2.1.4",
      "model_name": "HBoxModel",
      "state": {
       "_model_module_version": "~2.1.4",
       "_view_module_version": "~2.1.4",
       "children": [
        "IPY_MODEL_f9c6d53c4a144fd3b9d94337fb7902b1",
        "IPY_MODEL_ba5b092b586a40f6a636497671eae79e"
       ],
       "layout": "IPY_MODEL_560913536c284b678608048e7d0e0e49"
      }
     },
     "22749dfa17e541689b15d7a6dfa59260": {
      "model_module": "jupyter-js-widgets",
      "model_module_version": "~2.1.4",
      "model_name": "LayoutModel",
      "state": {
       "_model_module_version": "~2.1.4",
       "_view_module_version": "~2.1.4"
      }
     },
     "23350974cc23422c836233be101cf39a": {
      "model_module": "jupyter-js-widgets",
      "model_module_version": "~2.1.4",
      "model_name": "LayoutModel",
      "state": {
       "_model_module_version": "~2.1.4",
       "_view_module_version": "~2.1.4"
      }
     },
     "255b0859f5cf4a588c2770676124e323": {
      "model_module": "jupyter-js-widgets",
      "model_module_version": "~2.1.4",
      "model_name": "LayoutModel",
      "state": {
       "_model_module_version": "~2.1.4",
       "_view_module_version": "~2.1.4"
      }
     },
     "25ad21516e4047b481d9315a0b6fe5c2": {
      "model_module": "jupyter-js-widgets",
      "model_module_version": "~2.1.4",
      "model_name": "LayoutModel",
      "state": {
       "_model_module_version": "~2.1.4",
       "_view_module_version": "~2.1.4"
      }
     },
     "25de67e857594c1d99f8d7fe06158da8": {
      "model_module": "jupyter-js-widgets",
      "model_module_version": "~2.1.4",
      "model_name": "LayoutModel",
      "state": {
       "_model_module_version": "~2.1.4",
       "_view_module_version": "~2.1.4"
      }
     },
     "25f0f6e643c947088320823a8cfe135b": {
      "model_module": "jupyter-js-widgets",
      "model_module_version": "~2.1.4",
      "model_name": "ProgressStyleModel",
      "state": {
       "_model_module_version": "~2.1.4",
       "_view_module_version": "~2.1.4"
      }
     },
     "26bfedaaf16346dfae396e5837fc84c9": {
      "model_module": "jupyter-js-widgets",
      "model_module_version": "~2.1.4",
      "model_name": "HTMLModel",
      "state": {
       "_model_module_version": "~2.1.4",
       "_view_module_version": "~2.1.4",
       "layout": "IPY_MODEL_849ad717fb884466902bb810c45d592c",
       "value": "100% 1/1 [00:09&lt;00:00,  9.91s/it]"
      }
     },
     "27141dc8b7e3426ba7b81eab542eeab9": {
      "model_module": "jupyter-js-widgets",
      "model_module_version": "~2.1.4",
      "model_name": "ProgressStyleModel",
      "state": {
       "_model_module_version": "~2.1.4",
       "_view_module_version": "~2.1.4"
      }
     },
     "2761ef2991554b0bb10ca104c0455632": {
      "model_module": "jupyter-js-widgets",
      "model_module_version": "~2.1.4",
      "model_name": "LayoutModel",
      "state": {
       "_model_module_version": "~2.1.4",
       "_view_module_version": "~2.1.4"
      }
     },
     "27f93a40709c4543828a722048ae1971": {
      "model_module": "jupyter-js-widgets",
      "model_module_version": "~2.1.4",
      "model_name": "HBoxModel",
      "state": {
       "_model_module_version": "~2.1.4",
       "_view_module_version": "~2.1.4",
       "children": [
        "IPY_MODEL_888db9f6059e491f86846611683e2dfa",
        "IPY_MODEL_07d784e3ea1a45708ba78b601b742c37"
       ],
       "layout": "IPY_MODEL_9b580209009e47c6931584eae5624b40"
      }
     },
     "29867ed12ccd4ab2af6817f843a3162b": {
      "model_module": "jupyter-js-widgets",
      "model_module_version": "~2.1.4",
      "model_name": "ProgressStyleModel",
      "state": {
       "_model_module_version": "~2.1.4",
       "_view_module_version": "~2.1.4"
      }
     },
     "2a740b0273e94cf9a31b0e5341bf1af7": {
      "model_module": "jupyter-js-widgets",
      "model_module_version": "~2.1.4",
      "model_name": "ProgressModel",
      "state": {
       "_model_module_version": "~2.1.4",
       "_view_module_version": "~2.1.4",
       "bar_style": "success",
       "layout": "IPY_MODEL_bd4fc587cec34d1cb1c397ff37ee296f",
       "max": 1,
       "style": "IPY_MODEL_33bfffa44b244f0ab6ef3c97b39b276a",
       "value": 1
      }
     },
     "2a90cf38dc5a485e9b43193de0e02410": {
      "model_module": "jupyter-js-widgets",
      "model_module_version": "~2.1.4",
      "model_name": "ProgressStyleModel",
      "state": {
       "_model_module_version": "~2.1.4",
       "_view_module_version": "~2.1.4"
      }
     },
     "2ac04671dcbf4716b8c538bc9acd095d": {
      "model_module": "jupyter-js-widgets",
      "model_module_version": "~2.1.4",
      "model_name": "LayoutModel",
      "state": {
       "_model_module_version": "~2.1.4",
       "_view_module_version": "~2.1.4"
      }
     },
     "2adc0b655743435a9bda9089577178db": {
      "model_module": "jupyter-js-widgets",
      "model_module_version": "~2.1.4",
      "model_name": "ProgressModel",
      "state": {
       "_model_module_version": "~2.1.4",
       "_view_module_version": "~2.1.4",
       "bar_style": "success",
       "layout": "IPY_MODEL_2b3399dc143f4321bc84f7a0121410d6",
       "max": 1,
       "style": "IPY_MODEL_5fc6e921ac344a068044b16cbde9b75f",
       "value": 1
      }
     },
     "2ae8d13ba2c14998a8c15d09e7a3a890": {
      "model_module": "jupyter-js-widgets",
      "model_module_version": "~2.1.4",
      "model_name": "HBoxModel",
      "state": {
       "_model_module_version": "~2.1.4",
       "_view_module_version": "~2.1.4",
       "children": [
        "IPY_MODEL_2a740b0273e94cf9a31b0e5341bf1af7",
        "IPY_MODEL_871f3ca99bff4b739a55a2bc61f286b0"
       ],
       "layout": "IPY_MODEL_d66df04a56504dd691189eb6c6164d8e"
      }
     },
     "2af6dbbb2f3245909c2dd8628759549c": {
      "model_module": "jupyter-js-widgets",
      "model_module_version": "~2.1.4",
      "model_name": "LayoutModel",
      "state": {
       "_model_module_version": "~2.1.4",
       "_view_module_version": "~2.1.4"
      }
     },
     "2b2d5b9ee6f847c8b5098d3230d3b432": {
      "model_module": "jupyter-js-widgets",
      "model_module_version": "~2.1.4",
      "model_name": "ProgressModel",
      "state": {
       "_model_module_version": "~2.1.4",
       "_view_module_version": "~2.1.4",
       "bar_style": "success",
       "layout": "IPY_MODEL_750dd382323f4dd69dc8cdac5423c655",
       "max": 1,
       "style": "IPY_MODEL_382676d2422341f99e94c03e2c17418a",
       "value": 1
      }
     },
     "2b3399dc143f4321bc84f7a0121410d6": {
      "model_module": "jupyter-js-widgets",
      "model_module_version": "~2.1.4",
      "model_name": "LayoutModel",
      "state": {
       "_model_module_version": "~2.1.4",
       "_view_module_version": "~2.1.4"
      }
     },
     "2c5092f7a67146fd99f044862b8dc533": {
      "model_module": "jupyter-js-widgets",
      "model_module_version": "~2.1.4",
      "model_name": "HBoxModel",
      "state": {
       "_model_module_version": "~2.1.4",
       "_view_module_version": "~2.1.4",
       "children": [
        "IPY_MODEL_3e2742c6b81d43bc8b97bc22317b2dd8",
        "IPY_MODEL_3047da56ed974347bca32c602cf35251"
       ],
       "layout": "IPY_MODEL_ebc47fd78fd94fd28382d3bd722eea63"
      }
     },
     "2f2e891277724c4eab2f1e3a20f9a4ae": {
      "model_module": "jupyter-js-widgets",
      "model_module_version": "~2.1.4",
      "model_name": "ProgressStyleModel",
      "state": {
       "_model_module_version": "~2.1.4",
       "_view_module_version": "~2.1.4"
      }
     },
     "30419bb261034aa59e87ac4a2f72432d": {
      "model_module": "jupyter-js-widgets",
      "model_module_version": "~2.1.4",
      "model_name": "ProgressModel",
      "state": {
       "_model_module_version": "~2.1.4",
       "_view_module_version": "~2.1.4",
       "bar_style": "success",
       "layout": "IPY_MODEL_3d4c64665aee4940b6deb1505032e0dc",
       "max": 1,
       "style": "IPY_MODEL_0d761360a53e4d8887d71ab45e21755f",
       "value": 1
      }
     },
     "3047da56ed974347bca32c602cf35251": {
      "model_module": "jupyter-js-widgets",
      "model_module_version": "~2.1.4",
      "model_name": "HTMLModel",
      "state": {
       "_model_module_version": "~2.1.4",
       "_view_module_version": "~2.1.4",
       "layout": "IPY_MODEL_501e30462bcf4eb7a00881f9df2c1cb2",
       "value": "100% 1/1 [00:09&lt;00:00,  9.89s/it]"
      }
     },
     "30de296ff4b74d85867faa817ae6c15f": {
      "model_module": "jupyter-js-widgets",
      "model_module_version": "~2.1.4",
      "model_name": "HTMLModel",
      "state": {
       "_model_module_version": "~2.1.4",
       "_view_module_version": "~2.1.4",
       "layout": "IPY_MODEL_d5fe1551f91d431ab379e650eb3ea377",
       "value": "100% 1/1 [00:09&lt;00:00,  9.98s/it]"
      }
     },
     "30f206abe9ed42ff8d6398e7562bcc46": {
      "model_module": "jupyter-js-widgets",
      "model_module_version": "~2.1.4",
      "model_name": "LayoutModel",
      "state": {
       "_model_module_version": "~2.1.4",
       "_view_module_version": "~2.1.4"
      }
     },
     "318527be3fad4984b60e050280c7bf4e": {
      "model_module": "jupyter-js-widgets",
      "model_module_version": "~2.1.4",
      "model_name": "LayoutModel",
      "state": {
       "_model_module_version": "~2.1.4",
       "_view_module_version": "~2.1.4"
      }
     },
     "31a79da9a3b44d97ab2afa21d5a42941": {
      "model_module": "jupyter-js-widgets",
      "model_module_version": "~2.1.4",
      "model_name": "ProgressStyleModel",
      "state": {
       "_model_module_version": "~2.1.4",
       "_view_module_version": "~2.1.4"
      }
     },
     "32ed6710e4d04d368e3be7d7f5e04e8a": {
      "model_module": "jupyter-js-widgets",
      "model_module_version": "~2.1.4",
      "model_name": "LayoutModel",
      "state": {
       "_model_module_version": "~2.1.4",
       "_view_module_version": "~2.1.4"
      }
     },
     "33bfffa44b244f0ab6ef3c97b39b276a": {
      "model_module": "jupyter-js-widgets",
      "model_module_version": "~2.1.4",
      "model_name": "ProgressStyleModel",
      "state": {
       "_model_module_version": "~2.1.4",
       "_view_module_version": "~2.1.4"
      }
     },
     "34a4efd9adf34b8885159168e6c3d6bd": {
      "model_module": "jupyter-js-widgets",
      "model_module_version": "~2.1.4",
      "model_name": "HTMLModel",
      "state": {
       "_model_module_version": "~2.1.4",
       "_view_module_version": "~2.1.4",
       "layout": "IPY_MODEL_74ab6ebd2d7a4609b0fe88c4ae05107e",
       "value": "100% 1/1 [00:10&lt;00:00, 10.22s/it]"
      }
     },
     "352e454ca26a4f6dbd38070bc784a2f2": {
      "model_module": "jupyter-js-widgets",
      "model_module_version": "~2.1.4",
      "model_name": "ProgressModel",
      "state": {
       "_model_module_version": "~2.1.4",
       "_view_module_version": "~2.1.4",
       "bar_style": "success",
       "layout": "IPY_MODEL_b36dc827428a484fb99297e9d3072c2c",
       "max": 1,
       "style": "IPY_MODEL_510b98ef8a9b4f448b9db92ae8e3432f",
       "value": 1
      }
     },
     "369003c528434592ac24af9db3815031": {
      "model_module": "jupyter-js-widgets",
      "model_module_version": "~2.1.4",
      "model_name": "LayoutModel",
      "state": {
       "_model_module_version": "~2.1.4",
       "_view_module_version": "~2.1.4"
      }
     },
     "36a21646873d4d729ae9b6f1dbd238ea": {
      "model_module": "jupyter-js-widgets",
      "model_module_version": "~2.1.4",
      "model_name": "ProgressModel",
      "state": {
       "_model_module_version": "~2.1.4",
       "_view_module_version": "~2.1.4",
       "bar_style": "success",
       "layout": "IPY_MODEL_edd50031c9f647a5810b21431970c2ed",
       "max": 1,
       "style": "IPY_MODEL_a4cc3309698b48bbba7647e04946eaa4",
       "value": 1
      }
     },
     "371fca8ec0d64a999904912dd0acde3a": {
      "model_module": "jupyter-js-widgets",
      "model_module_version": "~2.1.4",
      "model_name": "HBoxModel",
      "state": {
       "_model_module_version": "~2.1.4",
       "_view_module_version": "~2.1.4",
       "children": [
        "IPY_MODEL_92b35868546842629f6a1e5521f6da54",
        "IPY_MODEL_30de296ff4b74d85867faa817ae6c15f"
       ],
       "layout": "IPY_MODEL_6ac641cf95274eeab58690c8b4c84539"
      }
     },
     "382676d2422341f99e94c03e2c17418a": {
      "model_module": "jupyter-js-widgets",
      "model_module_version": "~2.1.4",
      "model_name": "ProgressStyleModel",
      "state": {
       "_model_module_version": "~2.1.4",
       "_view_module_version": "~2.1.4"
      }
     },
     "3868be67d8274a399a7a0f03810810f9": {
      "model_module": "jupyter-js-widgets",
      "model_module_version": "~2.1.4",
      "model_name": "HTMLModel",
      "state": {
       "_model_module_version": "~2.1.4",
       "_view_module_version": "~2.1.4",
       "layout": "IPY_MODEL_6d89ffa0c98f4bc48f4a4b8a614f2c4e",
       "value": "100% 1/1 [00:10&lt;00:00, 10.11s/it]"
      }
     },
     "38a2520e42ac470cbcf89238a9b2adbb": {
      "model_module": "jupyter-js-widgets",
      "model_module_version": "~2.1.4",
      "model_name": "LayoutModel",
      "state": {
       "_model_module_version": "~2.1.4",
       "_view_module_version": "~2.1.4"
      }
     },
     "39136a37356a486dbdf16fc8f6feacce": {
      "model_module": "jupyter-js-widgets",
      "model_module_version": "~2.1.4",
      "model_name": "HBoxModel",
      "state": {
       "_model_module_version": "~2.1.4",
       "_view_module_version": "~2.1.4",
       "children": [
        "IPY_MODEL_d7f9afde26804e97b350b155b9a596c7",
        "IPY_MODEL_d7e69034b0b7456392936a86fcd779d1"
       ],
       "layout": "IPY_MODEL_f85bfc9cbec04fc89c45b3d8afa1cd77"
      }
     },
     "39f6918278e94dbd97cf99fa0e5c0574": {
      "model_module": "jupyter-js-widgets",
      "model_module_version": "~2.1.4",
      "model_name": "ProgressModel",
      "state": {
       "_model_module_version": "~2.1.4",
       "_view_module_version": "~2.1.4",
       "bar_style": "success",
       "layout": "IPY_MODEL_a8d368d5c1a64404a7ceea6e0b4ef4b5",
       "max": 1,
       "style": "IPY_MODEL_732412ebcd0e4d1e98a2191076389849",
       "value": 1
      }
     },
     "3af405376407491da5c852d1cb14b99f": {
      "model_module": "jupyter-js-widgets",
      "model_module_version": "~2.1.4",
      "model_name": "LayoutModel",
      "state": {
       "_model_module_version": "~2.1.4",
       "_view_module_version": "~2.1.4"
      }
     },
     "3bf3589d63b44b2abedfb45b4add6f48": {
      "model_module": "jupyter-js-widgets",
      "model_module_version": "~2.1.4",
      "model_name": "LayoutModel",
      "state": {
       "_model_module_version": "~2.1.4",
       "_view_module_version": "~2.1.4"
      }
     },
     "3c8150248dc747ffba114920348e7720": {
      "model_module": "jupyter-js-widgets",
      "model_module_version": "~2.1.4",
      "model_name": "HTMLModel",
      "state": {
       "_model_module_version": "~2.1.4",
       "_view_module_version": "~2.1.4",
       "layout": "IPY_MODEL_16a170765da54252b8d567a681bb763e",
       "value": "100% 1/1 [00:10&lt;00:00, 10.07s/it]"
      }
     },
     "3d4c263ad1ff4c6eb25fe49edfc3589d": {
      "model_module": "jupyter-js-widgets",
      "model_module_version": "~2.1.4",
      "model_name": "LayoutModel",
      "state": {
       "_model_module_version": "~2.1.4",
       "_view_module_version": "~2.1.4"
      }
     },
     "3d4c64665aee4940b6deb1505032e0dc": {
      "model_module": "jupyter-js-widgets",
      "model_module_version": "~2.1.4",
      "model_name": "LayoutModel",
      "state": {
       "_model_module_version": "~2.1.4",
       "_view_module_version": "~2.1.4"
      }
     },
     "3da8c9c131f2401297f5680256a3a073": {
      "model_module": "jupyter-js-widgets",
      "model_module_version": "~2.1.4",
      "model_name": "ProgressModel",
      "state": {
       "_model_module_version": "~2.1.4",
       "_view_module_version": "~2.1.4",
       "bar_style": "success",
       "layout": "IPY_MODEL_e9a8730551f640988eaba5e54cffeaa7",
       "max": 1,
       "style": "IPY_MODEL_cfa0d098014541ea86b567f9b85330bd",
       "value": 1
      }
     },
     "3e2742c6b81d43bc8b97bc22317b2dd8": {
      "model_module": "jupyter-js-widgets",
      "model_module_version": "~2.1.4",
      "model_name": "ProgressModel",
      "state": {
       "_model_module_version": "~2.1.4",
       "_view_module_version": "~2.1.4",
       "bar_style": "success",
       "layout": "IPY_MODEL_615daed83c6b4f95bd1d79fb03a6efed",
       "max": 1,
       "style": "IPY_MODEL_7b58bfeadd8d47ca8d4c241740f1494e",
       "value": 1
      }
     },
     "3fc4363ba6944279b16720380928dd1c": {
      "model_module": "jupyter-js-widgets",
      "model_module_version": "~2.1.4",
      "model_name": "ProgressStyleModel",
      "state": {
       "_model_module_version": "~2.1.4",
       "_view_module_version": "~2.1.4"
      }
     },
     "3fff2544de674f66a30084c32f157f1b": {
      "model_module": "jupyter-js-widgets",
      "model_module_version": "~2.1.4",
      "model_name": "HTMLModel",
      "state": {
       "_model_module_version": "~2.1.4",
       "_view_module_version": "~2.1.4",
       "layout": "IPY_MODEL_aff5399d361d42dca713b2efd2216ad0",
       "value": "100% 1/1 [00:09&lt;00:00,  9.88s/it]"
      }
     },
     "403c6672a72b4db7bff925076c3cfc44": {
      "model_module": "jupyter-js-widgets",
      "model_module_version": "~2.1.4",
      "model_name": "ProgressStyleModel",
      "state": {
       "_model_module_version": "~2.1.4",
       "_view_module_version": "~2.1.4"
      }
     },
     "40fbd573faa747ad8b085c5d90243a7b": {
      "model_module": "jupyter-js-widgets",
      "model_module_version": "~2.1.4",
      "model_name": "ProgressModel",
      "state": {
       "_model_module_version": "~2.1.4",
       "_view_module_version": "~2.1.4",
       "bar_style": "success",
       "layout": "IPY_MODEL_b2031b1e379146b2baca9b66290092c7",
       "max": 1,
       "style": "IPY_MODEL_27141dc8b7e3426ba7b81eab542eeab9",
       "value": 1
      }
     },
     "420c11fbcb3b43459aa0b3c2dfa50165": {
      "model_module": "jupyter-js-widgets",
      "model_module_version": "~2.1.4",
      "model_name": "ProgressModel",
      "state": {
       "_model_module_version": "~2.1.4",
       "_view_module_version": "~2.1.4",
       "bar_style": "success",
       "layout": "IPY_MODEL_0884a629b2fd4fdeb7c266db1f429485",
       "max": 1,
       "style": "IPY_MODEL_2a90cf38dc5a485e9b43193de0e02410",
       "value": 1
      }
     },
     "42482ffe4ea14a2bb43bad567ca1efaf": {
      "model_module": "jupyter-js-widgets",
      "model_module_version": "~2.1.4",
      "model_name": "ProgressStyleModel",
      "state": {
       "_model_module_version": "~2.1.4",
       "_view_module_version": "~2.1.4"
      }
     },
     "4351ac92353b407ea999cdd26e56eda4": {
      "model_module": "jupyter-js-widgets",
      "model_module_version": "~2.1.4",
      "model_name": "HBoxModel",
      "state": {
       "_model_module_version": "~2.1.4",
       "_view_module_version": "~2.1.4",
       "children": [
        "IPY_MODEL_b6bbff110f8e45d8ba2556f8ce226cdb",
        "IPY_MODEL_df8ee12ff6004d4e9be409ddb2ddb798"
       ],
       "layout": "IPY_MODEL_1eec9f5cfbe84c3f967de09c5bba86ec"
      }
     },
     "43d42c8d1ae44eeba9804251180f75e9": {
      "model_module": "jupyter-js-widgets",
      "model_module_version": "~2.1.4",
      "model_name": "LayoutModel",
      "state": {
       "_model_module_version": "~2.1.4",
       "_view_module_version": "~2.1.4"
      }
     },
     "43f3bec571d54e468fd58bbff0f1f5a7": {
      "model_module": "jupyter-js-widgets",
      "model_module_version": "~2.1.4",
      "model_name": "HTMLModel",
      "state": {
       "_model_module_version": "~2.1.4",
       "_view_module_version": "~2.1.4",
       "layout": "IPY_MODEL_0c8c8528b1bb41c38746d5e567a075b6",
       "value": "100% 1/1 [00:09&lt;00:00,  9.99s/it]"
      }
     },
     "448f97890b7b40efb45ddf3178b1d5b7": {
      "model_module": "jupyter-js-widgets",
      "model_module_version": "~2.1.4",
      "model_name": "ProgressModel",
      "state": {
       "_model_module_version": "~2.1.4",
       "_view_module_version": "~2.1.4",
       "bar_style": "success",
       "layout": "IPY_MODEL_54fc6f931f694058aab64d51677df521",
       "max": 1,
       "style": "IPY_MODEL_1a9c95fe660648fc96da40a58d4c61ea",
       "value": 1
      }
     },
     "44f071d8dc7d45d9a3b8ffae363034bd": {
      "model_module": "jupyter-js-widgets",
      "model_module_version": "~2.1.4",
      "model_name": "LayoutModel",
      "state": {
       "_model_module_version": "~2.1.4",
       "_view_module_version": "~2.1.4"
      }
     },
     "46313206792e4efd9fd72ce92e36a31f": {
      "model_module": "jupyter-js-widgets",
      "model_module_version": "~2.1.4",
      "model_name": "LayoutModel",
      "state": {
       "_model_module_version": "~2.1.4",
       "_view_module_version": "~2.1.4"
      }
     },
     "4742405a02a944898edb995ed34f73c4": {
      "model_module": "jupyter-js-widgets",
      "model_module_version": "~2.1.4",
      "model_name": "LayoutModel",
      "state": {
       "_model_module_version": "~2.1.4",
       "_view_module_version": "~2.1.4"
      }
     },
     "47e7de06646c428baf74ca616c15827c": {
      "model_module": "jupyter-js-widgets",
      "model_module_version": "~2.1.4",
      "model_name": "HBoxModel",
      "state": {
       "_model_module_version": "~2.1.4",
       "_view_module_version": "~2.1.4",
       "children": [
        "IPY_MODEL_55a22764271e4bdb9f8594f4656b7006",
        "IPY_MODEL_70b83a66ded54b33a592f2629c493d48"
       ],
       "layout": "IPY_MODEL_eb42153e4e9a4f618fee237eda0f9760"
      }
     },
     "47ea9719ca03421fb4378d689aa72589": {
      "model_module": "jupyter-js-widgets",
      "model_module_version": "~2.1.4",
      "model_name": "HBoxModel",
      "state": {
       "_model_module_version": "~2.1.4",
       "_view_module_version": "~2.1.4",
       "children": [
        "IPY_MODEL_c3fe39ac49c3494ab8269ab689889268",
        "IPY_MODEL_d84cc12b98f9431a8c481aeab1444de5"
       ],
       "layout": "IPY_MODEL_8cbe3ac4da034df6aa3bee1da9b70efe"
      }
     },
     "487fe9ec42b74571a917dc0dd391858d": {
      "model_module": "jupyter-js-widgets",
      "model_module_version": "~2.1.4",
      "model_name": "HTMLModel",
      "state": {
       "_model_module_version": "~2.1.4",
       "_view_module_version": "~2.1.4",
       "layout": "IPY_MODEL_fd263c14fb13490ebb78d9bd0e55f133",
       "value": "100% 1/1 [00:09&lt;00:00,  9.87s/it]"
      }
     },
     "48a1b69c05e44f8a84bc17a3480b291f": {
      "model_module": "jupyter-js-widgets",
      "model_module_version": "~2.1.4",
      "model_name": "HBoxModel",
      "state": {
       "_model_module_version": "~2.1.4",
       "_view_module_version": "~2.1.4",
       "children": [
        "IPY_MODEL_de56b3c17b5d453999670dfb64253268",
        "IPY_MODEL_ffcbb8ff6b3041538ba0554842a149a7"
       ],
       "layout": "IPY_MODEL_46313206792e4efd9fd72ce92e36a31f"
      }
     },
     "48d5a7bc85be41e38a3ea14423cdd061": {
      "model_module": "jupyter-js-widgets",
      "model_module_version": "~2.1.4",
      "model_name": "ProgressModel",
      "state": {
       "_model_module_version": "~2.1.4",
       "_view_module_version": "~2.1.4",
       "bar_style": "success",
       "layout": "IPY_MODEL_abcd1fe0849f4e218f2705b640635eed",
       "max": 1,
       "style": "IPY_MODEL_d0ec89bb631f4efab22ab451a6231108",
       "value": 1
      }
     },
     "4932e45df2d747dd80d02f1ca5e157a7": {
      "model_module": "jupyter-js-widgets",
      "model_module_version": "~2.1.4",
      "model_name": "ProgressStyleModel",
      "state": {
       "_model_module_version": "~2.1.4",
       "_view_module_version": "~2.1.4"
      }
     },
     "499e25abebb6446fa5db1f42c64465ba": {
      "model_module": "jupyter-js-widgets",
      "model_module_version": "~2.1.4",
      "model_name": "HTMLModel",
      "state": {
       "_model_module_version": "~2.1.4",
       "_view_module_version": "~2.1.4",
       "layout": "IPY_MODEL_19ad2ff18b7848b483543a6ffa5e1286",
       "value": "100% 1/1 [00:09&lt;00:00,  9.87s/it]"
      }
     },
     "4a17e21db4804f3f89dce5ecf70b669f": {
      "model_module": "jupyter-js-widgets",
      "model_module_version": "~2.1.4",
      "model_name": "LayoutModel",
      "state": {
       "_model_module_version": "~2.1.4",
       "_view_module_version": "~2.1.4"
      }
     },
     "4a42e03484904a91ae7833595cd1f65b": {
      "model_module": "jupyter-js-widgets",
      "model_module_version": "~2.1.4",
      "model_name": "LayoutModel",
      "state": {
       "_model_module_version": "~2.1.4",
       "_view_module_version": "~2.1.4"
      }
     },
     "4c8f560e017a43f4890377959e31faf7": {
      "model_module": "jupyter-js-widgets",
      "model_module_version": "~2.1.4",
      "model_name": "LayoutModel",
      "state": {
       "_model_module_version": "~2.1.4",
       "_view_module_version": "~2.1.4"
      }
     },
     "4d4c2ae735764810bb760515976befea": {
      "model_module": "jupyter-js-widgets",
      "model_module_version": "~2.1.4",
      "model_name": "ProgressModel",
      "state": {
       "_model_module_version": "~2.1.4",
       "_view_module_version": "~2.1.4",
       "bar_style": "success",
       "layout": "IPY_MODEL_541d6c57bd9a4481af624dffb2e8ad75",
       "max": 1,
       "style": "IPY_MODEL_a9b71f1ab9974e24bd69b0846eac827b",
       "value": 1
      }
     },
     "4dd552437cea46428a43c72c4d637c15": {
      "model_module": "jupyter-js-widgets",
      "model_module_version": "~2.1.4",
      "model_name": "LayoutModel",
      "state": {
       "_model_module_version": "~2.1.4",
       "_view_module_version": "~2.1.4"
      }
     },
     "4e09a65b9e2849d2873c8c8b19eb584f": {
      "model_module": "jupyter-js-widgets",
      "model_module_version": "~2.1.4",
      "model_name": "LayoutModel",
      "state": {
       "_model_module_version": "~2.1.4",
       "_view_module_version": "~2.1.4"
      }
     },
     "4e1e309e66304807a4762b5977ff7c30": {
      "model_module": "jupyter-js-widgets",
      "model_module_version": "~2.1.4",
      "model_name": "ProgressModel",
      "state": {
       "_model_module_version": "~2.1.4",
       "_view_module_version": "~2.1.4",
       "bar_style": "danger",
       "layout": "IPY_MODEL_b6d63fbc84d447ffb82d79360fd67e4e",
       "max": 1,
       "style": "IPY_MODEL_6311e5f0e3c2408a99e3e7ff27ac2431"
      }
     },
     "4e7db87ffaff46a393c52213af017081": {
      "model_module": "jupyter-js-widgets",
      "model_module_version": "~2.1.4",
      "model_name": "HBoxModel",
      "state": {
       "_model_module_version": "~2.1.4",
       "_view_module_version": "~2.1.4",
       "children": [
        "IPY_MODEL_7098c143abd949b488947f079fcbf48a",
        "IPY_MODEL_d078ab96f6a74629b3f4969b463f94d2"
       ],
       "layout": "IPY_MODEL_7a07ea0268584060951a765d607de72c"
      }
     },
     "4ea67cc5b5a6453788bab481d2114d7f": {
      "model_module": "jupyter-js-widgets",
      "model_module_version": "~2.1.4",
      "model_name": "HTMLModel",
      "state": {
       "_model_module_version": "~2.1.4",
       "_view_module_version": "~2.1.4",
       "layout": "IPY_MODEL_d83df1105310412e8b5fac141a0be53b",
       "value": "100% 1/1 [00:09&lt;00:00,  9.92s/it]"
      }
     },
     "4ef514e3b0dc41a0b7bcce1693752bab": {
      "model_module": "jupyter-js-widgets",
      "model_module_version": "~2.1.4",
      "model_name": "ProgressModel",
      "state": {
       "_model_module_version": "~2.1.4",
       "_view_module_version": "~2.1.4",
       "bar_style": "success",
       "layout": "IPY_MODEL_b76ccb4b7cc04d5dbe56852aa366dd9f",
       "max": 1,
       "style": "IPY_MODEL_e7a390520b7c48289c994bffba154ad8",
       "value": 1
      }
     },
     "501e30462bcf4eb7a00881f9df2c1cb2": {
      "model_module": "jupyter-js-widgets",
      "model_module_version": "~2.1.4",
      "model_name": "LayoutModel",
      "state": {
       "_model_module_version": "~2.1.4",
       "_view_module_version": "~2.1.4"
      }
     },
     "504af28b987d43d181171642bafb1977": {
      "model_module": "jupyter-js-widgets",
      "model_module_version": "~2.1.4",
      "model_name": "HTMLModel",
      "state": {
       "_model_module_version": "~2.1.4",
       "_view_module_version": "~2.1.4",
       "layout": "IPY_MODEL_1159630c8d9341f2bfab67d3ef107fe9",
       "value": "100% 1/1 [00:09&lt;00:00,  9.89s/it]"
      }
     },
     "510b98ef8a9b4f448b9db92ae8e3432f": {
      "model_module": "jupyter-js-widgets",
      "model_module_version": "~2.1.4",
      "model_name": "ProgressStyleModel",
      "state": {
       "_model_module_version": "~2.1.4",
       "_view_module_version": "~2.1.4"
      }
     },
     "5131a8c2bceb44fc9c7179d92bdcd1ca": {
      "model_module": "jupyter-js-widgets",
      "model_module_version": "~2.1.4",
      "model_name": "LayoutModel",
      "state": {
       "_model_module_version": "~2.1.4",
       "_view_module_version": "~2.1.4"
      }
     },
     "5237fdde27d241389be8cb6f2d56c618": {
      "model_module": "jupyter-js-widgets",
      "model_module_version": "~2.1.4",
      "model_name": "LayoutModel",
      "state": {
       "_model_module_version": "~2.1.4",
       "_view_module_version": "~2.1.4"
      }
     },
     "530413ec2b0045ee85e3cc88092d9446": {
      "model_module": "jupyter-js-widgets",
      "model_module_version": "~2.1.4",
      "model_name": "LayoutModel",
      "state": {
       "_model_module_version": "~2.1.4",
       "_view_module_version": "~2.1.4"
      }
     },
     "541d6c57bd9a4481af624dffb2e8ad75": {
      "model_module": "jupyter-js-widgets",
      "model_module_version": "~2.1.4",
      "model_name": "LayoutModel",
      "state": {
       "_model_module_version": "~2.1.4",
       "_view_module_version": "~2.1.4"
      }
     },
     "5424fbeddd0f458698dd980c2c47ae77": {
      "model_module": "jupyter-js-widgets",
      "model_module_version": "~2.1.4",
      "model_name": "LayoutModel",
      "state": {
       "_model_module_version": "~2.1.4",
       "_view_module_version": "~2.1.4"
      }
     },
     "546dff5cf9964dc2a53a35dada9631e7": {
      "model_module": "jupyter-js-widgets",
      "model_module_version": "~2.1.4",
      "model_name": "LayoutModel",
      "state": {
       "_model_module_version": "~2.1.4",
       "_view_module_version": "~2.1.4"
      }
     },
     "546ea2c8dbe44a198a2d21ac16084244": {
      "model_module": "jupyter-js-widgets",
      "model_module_version": "~2.1.4",
      "model_name": "ProgressStyleModel",
      "state": {
       "_model_module_version": "~2.1.4",
       "_view_module_version": "~2.1.4"
      }
     },
     "547964fbe6274b5d852f7dada8337abc": {
      "model_module": "jupyter-js-widgets",
      "model_module_version": "~2.1.4",
      "model_name": "ProgressModel",
      "state": {
       "_model_module_version": "~2.1.4",
       "_view_module_version": "~2.1.4",
       "bar_style": "success",
       "layout": "IPY_MODEL_f370c6b98ec84d97ad29da01cae76f58",
       "max": 1,
       "style": "IPY_MODEL_546ea2c8dbe44a198a2d21ac16084244",
       "value": 1
      }
     },
     "54f2dacc7d644df19385ad94e185ffda": {
      "model_module": "jupyter-js-widgets",
      "model_module_version": "~2.1.4",
      "model_name": "HTMLModel",
      "state": {
       "_model_module_version": "~2.1.4",
       "_view_module_version": "~2.1.4",
       "layout": "IPY_MODEL_7871f0a2d63b4f98ad00d4fd98717286",
       "value": "100% 1/1 [00:09&lt;00:00,  9.90s/it]"
      }
     },
     "54fc6f931f694058aab64d51677df521": {
      "model_module": "jupyter-js-widgets",
      "model_module_version": "~2.1.4",
      "model_name": "LayoutModel",
      "state": {
       "_model_module_version": "~2.1.4",
       "_view_module_version": "~2.1.4"
      }
     },
     "55a22764271e4bdb9f8594f4656b7006": {
      "model_module": "jupyter-js-widgets",
      "model_module_version": "~2.1.4",
      "model_name": "ProgressModel",
      "state": {
       "_model_module_version": "~2.1.4",
       "_view_module_version": "~2.1.4",
       "bar_style": "success",
       "layout": "IPY_MODEL_bd9646f919824067811862055bcc8d79",
       "max": 1,
       "style": "IPY_MODEL_0260934462e54d3382a016bc2d846a5f",
       "value": 1
      }
     },
     "560913536c284b678608048e7d0e0e49": {
      "model_module": "jupyter-js-widgets",
      "model_module_version": "~2.1.4",
      "model_name": "LayoutModel",
      "state": {
       "_model_module_version": "~2.1.4",
       "_view_module_version": "~2.1.4"
      }
     },
     "561b991aaad445d895f60db03f5690ad": {
      "model_module": "jupyter-js-widgets",
      "model_module_version": "~2.1.4",
      "model_name": "HBoxModel",
      "state": {
       "_model_module_version": "~2.1.4",
       "_view_module_version": "~2.1.4",
       "children": [
        "IPY_MODEL_b8588f0139804072a03bf8d27f6980a8",
        "IPY_MODEL_6196e004f5454904abbf932952123041"
       ],
       "layout": "IPY_MODEL_7dfb5ffbb5b949b9b2fd4de7bfaf9c24"
      }
     },
     "567caa0ca8454d58b74ae549a84e406a": {
      "model_module": "jupyter-js-widgets",
      "model_module_version": "~2.1.4",
      "model_name": "LayoutModel",
      "state": {
       "_model_module_version": "~2.1.4",
       "_view_module_version": "~2.1.4"
      }
     },
     "574e0344e6b341fc88c286d33a34148b": {
      "model_module": "jupyter-js-widgets",
      "model_module_version": "~2.1.4",
      "model_name": "ProgressModel",
      "state": {
       "_model_module_version": "~2.1.4",
       "_view_module_version": "~2.1.4",
       "bar_style": "success",
       "layout": "IPY_MODEL_79876791fed54bcc9b0731b1e1e0679c",
       "max": 1,
       "style": "IPY_MODEL_42482ffe4ea14a2bb43bad567ca1efaf",
       "value": 1
      }
     },
     "57e969d4d40048119efa89801a408acf": {
      "model_module": "jupyter-js-widgets",
      "model_module_version": "~2.1.4",
      "model_name": "LayoutModel",
      "state": {
       "_model_module_version": "~2.1.4",
       "_view_module_version": "~2.1.4"
      }
     },
     "5819b86c9ba3409ea20ff5dd51f900ce": {
      "model_module": "jupyter-js-widgets",
      "model_module_version": "~2.1.4",
      "model_name": "ProgressModel",
      "state": {
       "_model_module_version": "~2.1.4",
       "_view_module_version": "~2.1.4",
       "bar_style": "success",
       "layout": "IPY_MODEL_5b0c0365d31c47c187bee5e4b96baa88",
       "max": 1,
       "style": "IPY_MODEL_21748dfa835149aab65d6e712f9ef35f",
       "value": 1
      }
     },
     "59c4bc40b96d4868aafce0a84209dffd": {
      "model_module": "jupyter-js-widgets",
      "model_module_version": "~2.1.4",
      "model_name": "LayoutModel",
      "state": {
       "_model_module_version": "~2.1.4",
       "_view_module_version": "~2.1.4"
      }
     },
     "59f51e61265349169d7cfb5e8ef14638": {
      "model_module": "jupyter-js-widgets",
      "model_module_version": "~2.1.4",
      "model_name": "ProgressModel",
      "state": {
       "_model_module_version": "~2.1.4",
       "_view_module_version": "~2.1.4",
       "bar_style": "success",
       "layout": "IPY_MODEL_c5d78a10c03b4dfabeb3e50d69bf6921",
       "max": 1,
       "style": "IPY_MODEL_d1eb8d0526664f87930963813ca7ce1d",
       "value": 1
      }
     },
     "59fe6198a1a94dbbad798bdf20963df7": {
      "model_module": "jupyter-js-widgets",
      "model_module_version": "~2.1.4",
      "model_name": "ProgressStyleModel",
      "state": {
       "_model_module_version": "~2.1.4",
       "_view_module_version": "~2.1.4"
      }
     },
     "5a29ed9fc6ea46d7a39b100b898d5cfe": {
      "model_module": "jupyter-js-widgets",
      "model_module_version": "~2.1.4",
      "model_name": "HBoxModel",
      "state": {
       "_model_module_version": "~2.1.4",
       "_view_module_version": "~2.1.4",
       "children": [
        "IPY_MODEL_f5c76fc2e4424f3cb86476bfa6317762",
        "IPY_MODEL_26bfedaaf16346dfae396e5837fc84c9"
       ],
       "layout": "IPY_MODEL_70f5c80aed3b4bd58eeac07bbd69e572"
      }
     },
     "5b0c0365d31c47c187bee5e4b96baa88": {
      "model_module": "jupyter-js-widgets",
      "model_module_version": "~2.1.4",
      "model_name": "LayoutModel",
      "state": {
       "_model_module_version": "~2.1.4",
       "_view_module_version": "~2.1.4"
      }
     },
     "5b13ab8673cf4fbeb867050e33bb0d15": {
      "model_module": "jupyter-js-widgets",
      "model_module_version": "~2.1.4",
      "model_name": "HTMLModel",
      "state": {
       "_model_module_version": "~2.1.4",
       "_view_module_version": "~2.1.4",
       "layout": "IPY_MODEL_4a17e21db4804f3f89dce5ecf70b669f",
       "value": "100% 1/1 [00:10&lt;00:00, 10.04s/it]"
      }
     },
     "5b4b96835c2b4ab48c6d0de3d95d417e": {
      "model_module": "jupyter-js-widgets",
      "model_module_version": "~2.1.4",
      "model_name": "HTMLModel",
      "state": {
       "_model_module_version": "~2.1.4",
       "_view_module_version": "~2.1.4",
       "layout": "IPY_MODEL_a949046eba4445fd9b2251c7f8c008e4",
       "value": "100% 1/1 [00:09&lt;00:00,  9.90s/it]"
      }
     },
     "5dd11610325146a69339a34002fb2dfc": {
      "model_module": "jupyter-js-widgets",
      "model_module_version": "~2.1.4",
      "model_name": "HTMLModel",
      "state": {
       "_model_module_version": "~2.1.4",
       "_view_module_version": "~2.1.4",
       "layout": "IPY_MODEL_f2c03ac6c1634d2888889e50b850aba3",
       "value": "100% 1/1 [00:09&lt;00:00,  9.87s/it]"
      }
     },
     "5e2b9c32aee8471e840e70d2ed4b3dcc": {
      "model_module": "jupyter-js-widgets",
      "model_module_version": "~2.1.4",
      "model_name": "LayoutModel",
      "state": {
       "_model_module_version": "~2.1.4",
       "_view_module_version": "~2.1.4"
      }
     },
     "5e8bff8625e048c4af0833648b1d1e52": {
      "model_module": "jupyter-js-widgets",
      "model_module_version": "~2.1.4",
      "model_name": "LayoutModel",
      "state": {
       "_model_module_version": "~2.1.4",
       "_view_module_version": "~2.1.4"
      }
     },
     "5fc6e921ac344a068044b16cbde9b75f": {
      "model_module": "jupyter-js-widgets",
      "model_module_version": "~2.1.4",
      "model_name": "ProgressStyleModel",
      "state": {
       "_model_module_version": "~2.1.4",
       "_view_module_version": "~2.1.4"
      }
     },
     "607fdc105442471b8bc0c5081cd82cd9": {
      "model_module": "jupyter-js-widgets",
      "model_module_version": "~2.1.4",
      "model_name": "HBoxModel",
      "state": {
       "_model_module_version": "~2.1.4",
       "_view_module_version": "~2.1.4",
       "children": [
        "IPY_MODEL_40fbd573faa747ad8b085c5d90243a7b",
        "IPY_MODEL_01e6100c0a994e9195e35d2411346277"
       ],
       "layout": "IPY_MODEL_63ebb2c176e54c19aaf19bcbb569dde3"
      }
     },
     "60fa16db62144b26b11dce12a8f3f495": {
      "model_module": "jupyter-js-widgets",
      "model_module_version": "~2.1.4",
      "model_name": "ProgressStyleModel",
      "state": {
       "_model_module_version": "~2.1.4",
       "_view_module_version": "~2.1.4"
      }
     },
     "6125512c5212424191d54a7c97f9d184": {
      "model_module": "jupyter-js-widgets",
      "model_module_version": "~2.1.4",
      "model_name": "LayoutModel",
      "state": {
       "_model_module_version": "~2.1.4",
       "_view_module_version": "~2.1.4"
      }
     },
     "6139de1d0e7b41ef92cfe2e28433aeee": {
      "model_module": "jupyter-js-widgets",
      "model_module_version": "~2.1.4",
      "model_name": "HTMLModel",
      "state": {
       "_model_module_version": "~2.1.4",
       "_view_module_version": "~2.1.4",
       "layout": "IPY_MODEL_a7bbe6594a9541c89e5795261f2e9236",
       "value": "100% 1/1 [00:10&lt;00:00, 10.03s/it]"
      }
     },
     "615daed83c6b4f95bd1d79fb03a6efed": {
      "model_module": "jupyter-js-widgets",
      "model_module_version": "~2.1.4",
      "model_name": "LayoutModel",
      "state": {
       "_model_module_version": "~2.1.4",
       "_view_module_version": "~2.1.4"
      }
     },
     "6169a42682294b09bdaa38d347e6ce35": {
      "model_module": "jupyter-js-widgets",
      "model_module_version": "~2.1.4",
      "model_name": "LayoutModel",
      "state": {
       "_model_module_version": "~2.1.4",
       "_view_module_version": "~2.1.4"
      }
     },
     "6196e004f5454904abbf932952123041": {
      "model_module": "jupyter-js-widgets",
      "model_module_version": "~2.1.4",
      "model_name": "HTMLModel",
      "state": {
       "_model_module_version": "~2.1.4",
       "_view_module_version": "~2.1.4",
       "layout": "IPY_MODEL_3af405376407491da5c852d1cb14b99f",
       "value": "100% 1/1 [00:09&lt;00:00,  9.86s/it]"
      }
     },
     "61d35472081a4491ad6f2a7191a95f1c": {
      "model_module": "jupyter-js-widgets",
      "model_module_version": "~2.1.4",
      "model_name": "LayoutModel",
      "state": {
       "_model_module_version": "~2.1.4",
       "_view_module_version": "~2.1.4"
      }
     },
     "621ffa3cfdfc4302971f38b3689c93b8": {
      "model_module": "jupyter-js-widgets",
      "model_module_version": "~2.1.4",
      "model_name": "HBoxModel",
      "state": {
       "_model_module_version": "~2.1.4",
       "_view_module_version": "~2.1.4",
       "children": [
        "IPY_MODEL_352e454ca26a4f6dbd38070bc784a2f2",
        "IPY_MODEL_96c2aba7c3e24006a32a81827a7dd36f"
       ],
       "layout": "IPY_MODEL_d07bedf1e8a141c3a1a1770b27ca37b2"
      }
     },
     "6311e5f0e3c2408a99e3e7ff27ac2431": {
      "model_module": "jupyter-js-widgets",
      "model_module_version": "~2.1.4",
      "model_name": "ProgressStyleModel",
      "state": {
       "_model_module_version": "~2.1.4",
       "_view_module_version": "~2.1.4"
      }
     },
     "6349e3e30c724021a36ea407a17ae9ae": {
      "model_module": "jupyter-js-widgets",
      "model_module_version": "~2.1.4",
      "model_name": "HTMLModel",
      "state": {
       "_model_module_version": "~2.1.4",
       "_view_module_version": "~2.1.4",
       "layout": "IPY_MODEL_9df2d16bf0064f289964400b380112a8",
       "value": "100% 1/1 [00:09&lt;00:00,  9.88s/it]"
      }
     },
     "637a8fd4ba4d4c78a0e97b3bb7b66dcc": {
      "model_module": "jupyter-js-widgets",
      "model_module_version": "~2.1.4",
      "model_name": "ProgressModel",
      "state": {
       "_model_module_version": "~2.1.4",
       "_view_module_version": "~2.1.4",
       "bar_style": "success",
       "layout": "IPY_MODEL_b5940e13d1e746c6b6b5386627f60bda",
       "max": 1,
       "style": "IPY_MODEL_25f0f6e643c947088320823a8cfe135b",
       "value": 1
      }
     },
     "63e1c9260bb249139efa0913fb580f7e": {
      "model_module": "jupyter-js-widgets",
      "model_module_version": "~2.1.4",
      "model_name": "LayoutModel",
      "state": {
       "_model_module_version": "~2.1.4",
       "_view_module_version": "~2.1.4"
      }
     },
     "63ebb2c176e54c19aaf19bcbb569dde3": {
      "model_module": "jupyter-js-widgets",
      "model_module_version": "~2.1.4",
      "model_name": "LayoutModel",
      "state": {
       "_model_module_version": "~2.1.4",
       "_view_module_version": "~2.1.4"
      }
     },
     "657f4dbfb76043b185e9db0ceea78fd6": {
      "model_module": "jupyter-js-widgets",
      "model_module_version": "~2.1.4",
      "model_name": "HTMLModel",
      "state": {
       "_model_module_version": "~2.1.4",
       "_view_module_version": "~2.1.4",
       "layout": "IPY_MODEL_09a688bef2344eb6a18b8a5481da5236",
       "value": "100% 1/1 [00:09&lt;00:00,  9.90s/it]"
      }
     },
     "65b1263a518a4206b76a4017ecee89c6": {
      "model_module": "jupyter-js-widgets",
      "model_module_version": "~2.1.4",
      "model_name": "ProgressStyleModel",
      "state": {
       "_model_module_version": "~2.1.4",
       "_view_module_version": "~2.1.4"
      }
     },
     "6601e4a221a341b4bf0bd532e512d67c": {
      "model_module": "jupyter-js-widgets",
      "model_module_version": "~2.1.4",
      "model_name": "ProgressModel",
      "state": {
       "_model_module_version": "~2.1.4",
       "_view_module_version": "~2.1.4",
       "bar_style": "success",
       "layout": "IPY_MODEL_98168f4947da4bc1a6fa890cf94e92df",
       "max": 1,
       "style": "IPY_MODEL_ab10b36fff8d4b498c52a8117f69f9e8",
       "value": 1
      }
     },
     "66b9a30dd1654ea98f40a86b6c437e60": {
      "model_module": "jupyter-js-widgets",
      "model_module_version": "~2.1.4",
      "model_name": "LayoutModel",
      "state": {
       "_model_module_version": "~2.1.4",
       "_view_module_version": "~2.1.4"
      }
     },
     "676933e66d74459d8a59512e05174724": {
      "model_module": "jupyter-js-widgets",
      "model_module_version": "~2.1.4",
      "model_name": "HBoxModel",
      "state": {
       "_model_module_version": "~2.1.4",
       "_view_module_version": "~2.1.4",
       "children": [
        "IPY_MODEL_152cb032f3314c60891f43119da8bf22",
        "IPY_MODEL_787f6ae2908d4233822740ffa54763b9"
       ],
       "layout": "IPY_MODEL_ee7e3c94ef694fd59b987132d48e649e"
      }
     },
     "67836ca979c446c99102522601f4821f": {
      "model_module": "jupyter-js-widgets",
      "model_module_version": "~2.1.4",
      "model_name": "HBoxModel",
      "state": {
       "_model_module_version": "~2.1.4",
       "_view_module_version": "~2.1.4",
       "children": [
        "IPY_MODEL_9c073c9094294a93b7241bb9c8e980cf",
        "IPY_MODEL_43f3bec571d54e468fd58bbff0f1f5a7"
       ],
       "layout": "IPY_MODEL_a7c3e81d130844cf873123a041301b26"
      }
     },
     "68e21c5187fa43eca69c901c8a29653a": {
      "model_module": "jupyter-js-widgets",
      "model_module_version": "~2.1.4",
      "model_name": "HBoxModel",
      "state": {
       "_model_module_version": "~2.1.4",
       "_view_module_version": "~2.1.4",
       "children": [
        "IPY_MODEL_30419bb261034aa59e87ac4a2f72432d",
        "IPY_MODEL_87f257e11b414c32a835b01e337b86ce"
       ],
       "layout": "IPY_MODEL_83cde4ad9ace4b20a22043b06e407819"
      }
     },
     "696777d5d14d4dbd96e3e6b94b7a6449": {
      "model_module": "jupyter-js-widgets",
      "model_module_version": "~2.1.4",
      "model_name": "LayoutModel",
      "state": {
       "_model_module_version": "~2.1.4",
       "_view_module_version": "~2.1.4"
      }
     },
     "69d3445d7faf499c9dd15270282fe551": {
      "model_module": "jupyter-js-widgets",
      "model_module_version": "~2.1.4",
      "model_name": "HTMLModel",
      "state": {
       "_model_module_version": "~2.1.4",
       "_view_module_version": "~2.1.4",
       "layout": "IPY_MODEL_b4373b0722c144b3b5a35c4d27fc5e6b",
       "value": "100% 1/1 [00:10&lt;00:00, 10.11s/it]"
      }
     },
     "6a8e9bc025fb402f87386e7da77e5936": {
      "model_module": "jupyter-js-widgets",
      "model_module_version": "~2.1.4",
      "model_name": "HBoxModel",
      "state": {
       "_model_module_version": "~2.1.4",
       "_view_module_version": "~2.1.4",
       "children": [
        "IPY_MODEL_6601e4a221a341b4bf0bd532e512d67c",
        "IPY_MODEL_3fff2544de674f66a30084c32f157f1b"
       ],
       "layout": "IPY_MODEL_255b0859f5cf4a588c2770676124e323"
      }
     },
     "6ac641cf95274eeab58690c8b4c84539": {
      "model_module": "jupyter-js-widgets",
      "model_module_version": "~2.1.4",
      "model_name": "LayoutModel",
      "state": {
       "_model_module_version": "~2.1.4",
       "_view_module_version": "~2.1.4"
      }
     },
     "6b13fe17abb84f59a0c5ddea1c82caf5": {
      "model_module": "jupyter-js-widgets",
      "model_module_version": "~2.1.4",
      "model_name": "HBoxModel",
      "state": {
       "_model_module_version": "~2.1.4",
       "_view_module_version": "~2.1.4",
       "children": [
        "IPY_MODEL_d4164aa4e2ac46aeb7125b565a49a3fc",
        "IPY_MODEL_b49f566b6f014066b88762dda02e3274"
       ],
       "layout": "IPY_MODEL_6cb48f7658a84591b4a96efeecf561e5"
      }
     },
     "6cb48f7658a84591b4a96efeecf561e5": {
      "model_module": "jupyter-js-widgets",
      "model_module_version": "~2.1.4",
      "model_name": "LayoutModel",
      "state": {
       "_model_module_version": "~2.1.4",
       "_view_module_version": "~2.1.4"
      }
     },
     "6cbb568498fe473e90c8fdcf8288c2ad": {
      "model_module": "jupyter-js-widgets",
      "model_module_version": "~2.1.4",
      "model_name": "LayoutModel",
      "state": {
       "_model_module_version": "~2.1.4",
       "_view_module_version": "~2.1.4"
      }
     },
     "6d89ffa0c98f4bc48f4a4b8a614f2c4e": {
      "model_module": "jupyter-js-widgets",
      "model_module_version": "~2.1.4",
      "model_name": "LayoutModel",
      "state": {
       "_model_module_version": "~2.1.4",
       "_view_module_version": "~2.1.4"
      }
     },
     "6e803a632b55480dba20a7bc632718e6": {
      "model_module": "jupyter-js-widgets",
      "model_module_version": "~2.1.4",
      "model_name": "LayoutModel",
      "state": {
       "_model_module_version": "~2.1.4",
       "_view_module_version": "~2.1.4"
      }
     },
     "6f44aab5a7264ec0b460f11d7ac2f408": {
      "model_module": "jupyter-js-widgets",
      "model_module_version": "~2.1.4",
      "model_name": "ProgressModel",
      "state": {
       "_model_module_version": "~2.1.4",
       "_view_module_version": "~2.1.4",
       "bar_style": "success",
       "layout": "IPY_MODEL_80ccab6e228a43d2a71621ff6913e6ae",
       "max": 1,
       "style": "IPY_MODEL_c699321d25a0435e89bc21ae0315e48e",
       "value": 1
      }
     },
     "6fecc62e521a4aeb8b37c9f581acfee6": {
      "model_module": "jupyter-js-widgets",
      "model_module_version": "~2.1.4",
      "model_name": "LayoutModel",
      "state": {
       "_model_module_version": "~2.1.4",
       "_view_module_version": "~2.1.4"
      }
     },
     "703e4399b537447aab18422756a352ac": {
      "model_module": "jupyter-js-widgets",
      "model_module_version": "~2.1.4",
      "model_name": "LayoutModel",
      "state": {
       "_model_module_version": "~2.1.4",
       "_view_module_version": "~2.1.4"
      }
     },
     "7098c143abd949b488947f079fcbf48a": {
      "model_module": "jupyter-js-widgets",
      "model_module_version": "~2.1.4",
      "model_name": "ProgressModel",
      "state": {
       "_model_module_version": "~2.1.4",
       "_view_module_version": "~2.1.4",
       "bar_style": "success",
       "layout": "IPY_MODEL_8dd3939f65ba49d9b076b34502cf2022",
       "max": 1,
       "style": "IPY_MODEL_ca020073633648de878a6de83085e3d8",
       "value": 1
      }
     },
     "70b83a66ded54b33a592f2629c493d48": {
      "model_module": "jupyter-js-widgets",
      "model_module_version": "~2.1.4",
      "model_name": "HTMLModel",
      "state": {
       "_model_module_version": "~2.1.4",
       "_view_module_version": "~2.1.4",
       "layout": "IPY_MODEL_61d35472081a4491ad6f2a7191a95f1c",
       "value": "100% 1/1 [00:09&lt;00:00,  9.86s/it]"
      }
     },
     "70f5c80aed3b4bd58eeac07bbd69e572": {
      "model_module": "jupyter-js-widgets",
      "model_module_version": "~2.1.4",
      "model_name": "LayoutModel",
      "state": {
       "_model_module_version": "~2.1.4",
       "_view_module_version": "~2.1.4"
      }
     },
     "71f7f3884eb24ade926f0e49ae056126": {
      "model_module": "jupyter-js-widgets",
      "model_module_version": "~2.1.4",
      "model_name": "HBoxModel",
      "state": {
       "_model_module_version": "~2.1.4",
       "_view_module_version": "~2.1.4",
       "children": [
        "IPY_MODEL_4ef514e3b0dc41a0b7bcce1693752bab",
        "IPY_MODEL_f6c8ff909354446ca7c9a0134136ca87"
       ],
       "layout": "IPY_MODEL_6fecc62e521a4aeb8b37c9f581acfee6"
      }
     },
     "72fd281341fa4a43ae84e76914b33913": {
      "model_module": "jupyter-js-widgets",
      "model_module_version": "~2.1.4",
      "model_name": "HBoxModel",
      "state": {
       "_model_module_version": "~2.1.4",
       "_view_module_version": "~2.1.4",
       "children": [
        "IPY_MODEL_046f2c7693d243c9b6806e926b98df93",
        "IPY_MODEL_f58f1812381840a1a978a372b391fdc5"
       ],
       "layout": "IPY_MODEL_fb801b21ae59468786b34966f99bf5e6"
      }
     },
     "732412ebcd0e4d1e98a2191076389849": {
      "model_module": "jupyter-js-widgets",
      "model_module_version": "~2.1.4",
      "model_name": "ProgressStyleModel",
      "state": {
       "_model_module_version": "~2.1.4",
       "_view_module_version": "~2.1.4"
      }
     },
     "736338a969a84505b9cf01e8a690ce79": {
      "model_module": "jupyter-js-widgets",
      "model_module_version": "~2.1.4",
      "model_name": "LayoutModel",
      "state": {
       "_model_module_version": "~2.1.4",
       "_view_module_version": "~2.1.4"
      }
     },
     "73adf4c855ba4a3ebd521b12f577e0db": {
      "model_module": "jupyter-js-widgets",
      "model_module_version": "~2.1.4",
      "model_name": "LayoutModel",
      "state": {
       "_model_module_version": "~2.1.4",
       "_view_module_version": "~2.1.4"
      }
     },
     "74ab6ebd2d7a4609b0fe88c4ae05107e": {
      "model_module": "jupyter-js-widgets",
      "model_module_version": "~2.1.4",
      "model_name": "LayoutModel",
      "state": {
       "_model_module_version": "~2.1.4",
       "_view_module_version": "~2.1.4"
      }
     },
     "7507fe9f9a0a4c31a0724556314c38cd": {
      "model_module": "jupyter-js-widgets",
      "model_module_version": "~2.1.4",
      "model_name": "ProgressStyleModel",
      "state": {
       "_model_module_version": "~2.1.4",
       "_view_module_version": "~2.1.4"
      }
     },
     "750dd382323f4dd69dc8cdac5423c655": {
      "model_module": "jupyter-js-widgets",
      "model_module_version": "~2.1.4",
      "model_name": "LayoutModel",
      "state": {
       "_model_module_version": "~2.1.4",
       "_view_module_version": "~2.1.4"
      }
     },
     "75ad0bf546784d65ad87ddb6588eaf34": {
      "model_module": "jupyter-js-widgets",
      "model_module_version": "~2.1.4",
      "model_name": "ProgressStyleModel",
      "state": {
       "_model_module_version": "~2.1.4",
       "_view_module_version": "~2.1.4"
      }
     },
     "77770949e23e41e29f5955db4885bb5c": {
      "model_module": "jupyter-js-widgets",
      "model_module_version": "~2.1.4",
      "model_name": "LayoutModel",
      "state": {
       "_model_module_version": "~2.1.4",
       "_view_module_version": "~2.1.4"
      }
     },
     "782bc4f41a624b97ac8ae20b57421a2f": {
      "model_module": "jupyter-js-widgets",
      "model_module_version": "~2.1.4",
      "model_name": "ProgressStyleModel",
      "state": {
       "_model_module_version": "~2.1.4",
       "_view_module_version": "~2.1.4"
      }
     },
     "7871f0a2d63b4f98ad00d4fd98717286": {
      "model_module": "jupyter-js-widgets",
      "model_module_version": "~2.1.4",
      "model_name": "LayoutModel",
      "state": {
       "_model_module_version": "~2.1.4",
       "_view_module_version": "~2.1.4"
      }
     },
     "787f6ae2908d4233822740ffa54763b9": {
      "model_module": "jupyter-js-widgets",
      "model_module_version": "~2.1.4",
      "model_name": "HTMLModel",
      "state": {
       "_model_module_version": "~2.1.4",
       "_view_module_version": "~2.1.4",
       "layout": "IPY_MODEL_885a28b7aad342e0a8a1fd5196b62020",
       "value": "100% 1/1 [00:10&lt;00:00, 10.06s/it]"
      }
     },
     "78b87b0c2cce4087ba33ad9ee661f5e2": {
      "model_module": "jupyter-js-widgets",
      "model_module_version": "~2.1.4",
      "model_name": "ProgressStyleModel",
      "state": {
       "_model_module_version": "~2.1.4",
       "_view_module_version": "~2.1.4"
      }
     },
     "79876791fed54bcc9b0731b1e1e0679c": {
      "model_module": "jupyter-js-widgets",
      "model_module_version": "~2.1.4",
      "model_name": "LayoutModel",
      "state": {
       "_model_module_version": "~2.1.4",
       "_view_module_version": "~2.1.4"
      }
     },
     "7a07ea0268584060951a765d607de72c": {
      "model_module": "jupyter-js-widgets",
      "model_module_version": "~2.1.4",
      "model_name": "LayoutModel",
      "state": {
       "_model_module_version": "~2.1.4",
       "_view_module_version": "~2.1.4"
      }
     },
     "7ab0181324ae4ba78b0e458a1dadf74b": {
      "model_module": "jupyter-js-widgets",
      "model_module_version": "~2.1.4",
      "model_name": "HTMLModel",
      "state": {
       "_model_module_version": "~2.1.4",
       "_view_module_version": "~2.1.4",
       "layout": "IPY_MODEL_736338a969a84505b9cf01e8a690ce79",
       "value": "100% 1/1 [00:09&lt;00:00,  9.88s/it]"
      }
     },
     "7b28d69fba314b9e8c8017b19b38272d": {
      "model_module": "jupyter-js-widgets",
      "model_module_version": "~2.1.4",
      "model_name": "HTMLModel",
      "state": {
       "_model_module_version": "~2.1.4",
       "_view_module_version": "~2.1.4",
       "layout": "IPY_MODEL_1d0b398b6c3b49efb0fef6dcaa5cf8df",
       "value": "100% 1/1 [00:09&lt;00:00,  9.89s/it]"
      }
     },
     "7b58bfeadd8d47ca8d4c241740f1494e": {
      "model_module": "jupyter-js-widgets",
      "model_module_version": "~2.1.4",
      "model_name": "ProgressStyleModel",
      "state": {
       "_model_module_version": "~2.1.4",
       "_view_module_version": "~2.1.4"
      }
     },
     "7bcc67931c3349cbb0205abdc71ea75d": {
      "model_module": "jupyter-js-widgets",
      "model_module_version": "~2.1.4",
      "model_name": "LayoutModel",
      "state": {
       "_model_module_version": "~2.1.4",
       "_view_module_version": "~2.1.4"
      }
     },
     "7c377b1d7fbc44f58f72c177cf86953d": {
      "model_module": "jupyter-js-widgets",
      "model_module_version": "~2.1.4",
      "model_name": "LayoutModel",
      "state": {
       "_model_module_version": "~2.1.4",
       "_view_module_version": "~2.1.4"
      }
     },
     "7dfb5ffbb5b949b9b2fd4de7bfaf9c24": {
      "model_module": "jupyter-js-widgets",
      "model_module_version": "~2.1.4",
      "model_name": "LayoutModel",
      "state": {
       "_model_module_version": "~2.1.4",
       "_view_module_version": "~2.1.4"
      }
     },
     "7ef6c3aa999347459ce3cc782e0a6ae4": {
      "model_module": "jupyter-js-widgets",
      "model_module_version": "~2.1.4",
      "model_name": "LayoutModel",
      "state": {
       "_model_module_version": "~2.1.4",
       "_view_module_version": "~2.1.4"
      }
     },
     "7f7738d26e9643b9a444342350ce05f0": {
      "model_module": "jupyter-js-widgets",
      "model_module_version": "~2.1.4",
      "model_name": "HBoxModel",
      "state": {
       "_model_module_version": "~2.1.4",
       "_view_module_version": "~2.1.4",
       "children": [
        "IPY_MODEL_39f6918278e94dbd97cf99fa0e5c0574",
        "IPY_MODEL_54f2dacc7d644df19385ad94e185ffda"
       ],
       "layout": "IPY_MODEL_44f071d8dc7d45d9a3b8ffae363034bd"
      }
     },
     "7feb872239c34378ba8b8ca8316b9607": {
      "model_module": "jupyter-js-widgets",
      "model_module_version": "~2.1.4",
      "model_name": "ProgressModel",
      "state": {
       "_model_module_version": "~2.1.4",
       "_view_module_version": "~2.1.4",
       "bar_style": "success",
       "layout": "IPY_MODEL_893055e610724cb38ce222b5c0b7cd41",
       "max": 1,
       "style": "IPY_MODEL_d26237b38f7d4c16b53ae480de1e1850",
       "value": 1
      }
     },
     "805285e2fcab4d138feec7d628d869dc": {
      "model_module": "jupyter-js-widgets",
      "model_module_version": "~2.1.4",
      "model_name": "ProgressModel",
      "state": {
       "_model_module_version": "~2.1.4",
       "_view_module_version": "~2.1.4",
       "bar_style": "success",
       "layout": "IPY_MODEL_1d53482734544823ad1485781b4d90ef",
       "max": 1,
       "style": "IPY_MODEL_60fa16db62144b26b11dce12a8f3f495",
       "value": 1
      }
     },
     "80c7e7d33ab842cfb1e49f10a4173c14": {
      "model_module": "jupyter-js-widgets",
      "model_module_version": "~2.1.4",
      "model_name": "ProgressStyleModel",
      "state": {
       "_model_module_version": "~2.1.4",
       "_view_module_version": "~2.1.4"
      }
     },
     "80ccab6e228a43d2a71621ff6913e6ae": {
      "model_module": "jupyter-js-widgets",
      "model_module_version": "~2.1.4",
      "model_name": "LayoutModel",
      "state": {
       "_model_module_version": "~2.1.4",
       "_view_module_version": "~2.1.4"
      }
     },
     "8166a182eb6142cb95bc4740c2d3b581": {
      "model_module": "jupyter-js-widgets",
      "model_module_version": "~2.1.4",
      "model_name": "HBoxModel",
      "state": {
       "_model_module_version": "~2.1.4",
       "_view_module_version": "~2.1.4",
       "children": [
        "IPY_MODEL_5819b86c9ba3409ea20ff5dd51f900ce",
        "IPY_MODEL_69d3445d7faf499c9dd15270282fe551"
       ],
       "layout": "IPY_MODEL_e92b368d547f42589a2251edec3d0e3f"
      }
     },
     "821f10b2ed194e97ae5721526a77135b": {
      "model_module": "jupyter-js-widgets",
      "model_module_version": "~2.1.4",
      "model_name": "LayoutModel",
      "state": {
       "_model_module_version": "~2.1.4",
       "_view_module_version": "~2.1.4"
      }
     },
     "836f312ccfa64f24bbae607c52692f19": {
      "model_module": "jupyter-js-widgets",
      "model_module_version": "~2.1.4",
      "model_name": "HTMLModel",
      "state": {
       "_model_module_version": "~2.1.4",
       "_view_module_version": "~2.1.4",
       "layout": "IPY_MODEL_f0a4bcb50d9a4f2892cd0b300f555e41",
       "value": "100% 1/1 [00:10&lt;00:00, 10.03s/it]"
      }
     },
     "83cde4ad9ace4b20a22043b06e407819": {
      "model_module": "jupyter-js-widgets",
      "model_module_version": "~2.1.4",
      "model_name": "LayoutModel",
      "state": {
       "_model_module_version": "~2.1.4",
       "_view_module_version": "~2.1.4"
      }
     },
     "849ad717fb884466902bb810c45d592c": {
      "model_module": "jupyter-js-widgets",
      "model_module_version": "~2.1.4",
      "model_name": "LayoutModel",
      "state": {
       "_model_module_version": "~2.1.4",
       "_view_module_version": "~2.1.4"
      }
     },
     "84a85623626745b7b10ed97a493503b3": {
      "model_module": "jupyter-js-widgets",
      "model_module_version": "~2.1.4",
      "model_name": "LayoutModel",
      "state": {
       "_model_module_version": "~2.1.4",
       "_view_module_version": "~2.1.4"
      }
     },
     "8589888056a94117b28a7335c1b7e643": {
      "model_module": "jupyter-js-widgets",
      "model_module_version": "~2.1.4",
      "model_name": "LayoutModel",
      "state": {
       "_model_module_version": "~2.1.4",
       "_view_module_version": "~2.1.4"
      }
     },
     "85bd5b2d5e82475199172479ef2fb2b3": {
      "model_module": "jupyter-js-widgets",
      "model_module_version": "~2.1.4",
      "model_name": "HTMLModel",
      "state": {
       "_model_module_version": "~2.1.4",
       "_view_module_version": "~2.1.4",
       "layout": "IPY_MODEL_703e4399b537447aab18422756a352ac",
       "value": "100% 1/1 [00:10&lt;00:00, 10.26s/it]"
      }
     },
     "8624a79a3b7144f682bdd18e35895243": {
      "model_module": "jupyter-js-widgets",
      "model_module_version": "~2.1.4",
      "model_name": "HBoxModel",
      "state": {
       "_model_module_version": "~2.1.4",
       "_view_module_version": "~2.1.4",
       "children": [
        "IPY_MODEL_4e1e309e66304807a4762b5977ff7c30",
        "IPY_MODEL_9142e5c9b116406abd492147228ca4ad"
       ],
       "layout": "IPY_MODEL_0806d169b71c442390edbf567e80bb7a"
      }
     },
     "869c3c73b07b47b9af0a1889bcf88b80": {
      "model_module": "jupyter-js-widgets",
      "model_module_version": "~2.1.4",
      "model_name": "HTMLModel",
      "state": {
       "_model_module_version": "~2.1.4",
       "_view_module_version": "~2.1.4",
       "layout": "IPY_MODEL_30f206abe9ed42ff8d6398e7562bcc46",
       "value": "100% 1/1 [00:10&lt;00:00, 10.19s/it]"
      }
     },
     "871f3ca99bff4b739a55a2bc61f286b0": {
      "model_module": "jupyter-js-widgets",
      "model_module_version": "~2.1.4",
      "model_name": "HTMLModel",
      "state": {
       "_model_module_version": "~2.1.4",
       "_view_module_version": "~2.1.4",
       "layout": "IPY_MODEL_f08a507ac3734d63b70fdb6b12e7ac71",
       "value": "100% 1/1 [00:10&lt;00:00, 10.04s/it]"
      }
     },
     "87f257e11b414c32a835b01e337b86ce": {
      "model_module": "jupyter-js-widgets",
      "model_module_version": "~2.1.4",
      "model_name": "HTMLModel",
      "state": {
       "_model_module_version": "~2.1.4",
       "_view_module_version": "~2.1.4",
       "layout": "IPY_MODEL_1a9346a1b71440a68a26602346cee46f",
       "value": "100% 1/1 [00:09&lt;00:00,  9.88s/it]"
      }
     },
     "885a28b7aad342e0a8a1fd5196b62020": {
      "model_module": "jupyter-js-widgets",
      "model_module_version": "~2.1.4",
      "model_name": "LayoutModel",
      "state": {
       "_model_module_version": "~2.1.4",
       "_view_module_version": "~2.1.4"
      }
     },
     "887a8600a69a48d396accc8afd5219c3": {
      "model_module": "jupyter-js-widgets",
      "model_module_version": "~2.1.4",
      "model_name": "LayoutModel",
      "state": {
       "_model_module_version": "~2.1.4",
       "_view_module_version": "~2.1.4"
      }
     },
     "888db9f6059e491f86846611683e2dfa": {
      "model_module": "jupyter-js-widgets",
      "model_module_version": "~2.1.4",
      "model_name": "ProgressModel",
      "state": {
       "_model_module_version": "~2.1.4",
       "_view_module_version": "~2.1.4",
       "bar_style": "success",
       "layout": "IPY_MODEL_b895028cdab4477fa63d7c1c5407472e",
       "max": 1,
       "style": "IPY_MODEL_75ad0bf546784d65ad87ddb6588eaf34",
       "value": 1
      }
     },
     "893055e610724cb38ce222b5c0b7cd41": {
      "model_module": "jupyter-js-widgets",
      "model_module_version": "~2.1.4",
      "model_name": "LayoutModel",
      "state": {
       "_model_module_version": "~2.1.4",
       "_view_module_version": "~2.1.4"
      }
     },
     "89f840ad4908463da36327a25e6d31c7": {
      "model_module": "jupyter-js-widgets",
      "model_module_version": "~2.1.4",
      "model_name": "ProgressStyleModel",
      "state": {
       "_model_module_version": "~2.1.4",
       "_view_module_version": "~2.1.4"
      }
     },
     "8a50bdd8a6e04c80afd29f5d8a9503db": {
      "model_module": "jupyter-js-widgets",
      "model_module_version": "~2.1.4",
      "model_name": "LayoutModel",
      "state": {
       "_model_module_version": "~2.1.4",
       "_view_module_version": "~2.1.4"
      }
     },
     "8a64f6aac89d4cf588b870c53862345f": {
      "model_module": "jupyter-js-widgets",
      "model_module_version": "~2.1.4",
      "model_name": "LayoutModel",
      "state": {
       "_model_module_version": "~2.1.4",
       "_view_module_version": "~2.1.4"
      }
     },
     "8b84e2add8d04fbd93c51fcc65f49e80": {
      "model_module": "jupyter-js-widgets",
      "model_module_version": "~2.1.4",
      "model_name": "HTMLModel",
      "state": {
       "_model_module_version": "~2.1.4",
       "_view_module_version": "~2.1.4",
       "layout": "IPY_MODEL_c6586423fe69408d97d9f259411faaf3",
       "value": "100% 1/1 [00:09&lt;00:00,  9.88s/it]"
      }
     },
     "8c87463b1fcd44d38dd1f9c90060e003": {
      "model_module": "jupyter-js-widgets",
      "model_module_version": "~2.1.4",
      "model_name": "HTMLModel",
      "state": {
       "_model_module_version": "~2.1.4",
       "_view_module_version": "~2.1.4",
       "layout": "IPY_MODEL_20f814f087134ee6843a4bc35a763c23",
       "value": "100% 1/1 [00:09&lt;00:00,  9.90s/it]"
      }
     },
     "8cbe3ac4da034df6aa3bee1da9b70efe": {
      "model_module": "jupyter-js-widgets",
      "model_module_version": "~2.1.4",
      "model_name": "LayoutModel",
      "state": {
       "_model_module_version": "~2.1.4",
       "_view_module_version": "~2.1.4"
      }
     },
     "8da63d61d87e4c299ce4ab05190da18d": {
      "model_module": "jupyter-js-widgets",
      "model_module_version": "~2.1.4",
      "model_name": "HBoxModel",
      "state": {
       "_model_module_version": "~2.1.4",
       "_view_module_version": "~2.1.4",
       "children": [
        "IPY_MODEL_2b2d5b9ee6f847c8b5098d3230d3b432",
        "IPY_MODEL_34a4efd9adf34b8885159168e6c3d6bd"
       ],
       "layout": "IPY_MODEL_f654c4ffc8f145b6976f74019d1e9c1d"
      }
     },
     "8dd3939f65ba49d9b076b34502cf2022": {
      "model_module": "jupyter-js-widgets",
      "model_module_version": "~2.1.4",
      "model_name": "LayoutModel",
      "state": {
       "_model_module_version": "~2.1.4",
       "_view_module_version": "~2.1.4"
      }
     },
     "8e459af014a44cbea2d3602b2a9c62c3": {
      "model_module": "jupyter-js-widgets",
      "model_module_version": "~2.1.4",
      "model_name": "LayoutModel",
      "state": {
       "_model_module_version": "~2.1.4",
       "_view_module_version": "~2.1.4"
      }
     },
     "901191621b2648719a15064539f33355": {
      "model_module": "jupyter-js-widgets",
      "model_module_version": "~2.1.4",
      "model_name": "LayoutModel",
      "state": {
       "_model_module_version": "~2.1.4",
       "_view_module_version": "~2.1.4"
      }
     },
     "90e82452a9e24f42807766fd402ebccf": {
      "model_module": "jupyter-js-widgets",
      "model_module_version": "~2.1.4",
      "model_name": "LayoutModel",
      "state": {
       "_model_module_version": "~2.1.4",
       "_view_module_version": "~2.1.4"
      }
     },
     "9142e5c9b116406abd492147228ca4ad": {
      "model_module": "jupyter-js-widgets",
      "model_module_version": "~2.1.4",
      "model_name": "HTMLModel",
      "state": {
       "_model_module_version": "~2.1.4",
       "_view_module_version": "~2.1.4",
       "layout": "IPY_MODEL_84a85623626745b7b10ed97a493503b3",
       "value": "  0% 0/1 [00:00&lt;?, ?it/s]"
      }
     },
     "91a48d4859154ee9944a000219578163": {
      "model_module": "jupyter-js-widgets",
      "model_module_version": "~2.1.4",
      "model_name": "HBoxModel",
      "state": {
       "_model_module_version": "~2.1.4",
       "_view_module_version": "~2.1.4",
       "children": [
        "IPY_MODEL_944755f89de342b28375a7e4c6c79a10",
        "IPY_MODEL_ad511367635745ae89b672afe1e3c43f"
       ],
       "layout": "IPY_MODEL_8a50bdd8a6e04c80afd29f5d8a9503db"
      }
     },
     "924c0ac3c5fc4a4497b2e99359529f01": {
      "model_module": "jupyter-js-widgets",
      "model_module_version": "~2.1.4",
      "model_name": "ProgressStyleModel",
      "state": {
       "_model_module_version": "~2.1.4",
       "_view_module_version": "~2.1.4"
      }
     },
     "92b35868546842629f6a1e5521f6da54": {
      "model_module": "jupyter-js-widgets",
      "model_module_version": "~2.1.4",
      "model_name": "ProgressModel",
      "state": {
       "_model_module_version": "~2.1.4",
       "_view_module_version": "~2.1.4",
       "bar_style": "success",
       "layout": "IPY_MODEL_1c34db8be6da4deb83f9ec6877f49ad0",
       "max": 1,
       "style": "IPY_MODEL_d1b6a256e9d2435fb2ef1b0852c03c73",
       "value": 1
      }
     },
     "939aea1fc35e43d2a0e1b48d61c7e60a": {
      "model_module": "jupyter-js-widgets",
      "model_module_version": "~2.1.4",
      "model_name": "HBoxModel",
      "state": {
       "_model_module_version": "~2.1.4",
       "_view_module_version": "~2.1.4",
       "children": [
        "IPY_MODEL_6f44aab5a7264ec0b460f11d7ac2f408",
        "IPY_MODEL_499e25abebb6446fa5db1f42c64465ba"
       ],
       "layout": "IPY_MODEL_d1c9ba2b250c4961be5dd1288eb51475"
      }
     },
     "944755f89de342b28375a7e4c6c79a10": {
      "model_module": "jupyter-js-widgets",
      "model_module_version": "~2.1.4",
      "model_name": "ProgressModel",
      "state": {
       "_model_module_version": "~2.1.4",
       "_view_module_version": "~2.1.4",
       "bar_style": "success",
       "layout": "IPY_MODEL_11cb97e9e5704a5f9cb0e3a0ea388736",
       "max": 1,
       "style": "IPY_MODEL_2f2e891277724c4eab2f1e3a20f9a4ae",
       "value": 1
      }
     },
     "95155fae6aaf47adb46bcb8b53e6449b": {
      "model_module": "jupyter-js-widgets",
      "model_module_version": "~2.1.4",
      "model_name": "ProgressModel",
      "state": {
       "_model_module_version": "~2.1.4",
       "_view_module_version": "~2.1.4",
       "bar_style": "success",
       "layout": "IPY_MODEL_59c4bc40b96d4868aafce0a84209dffd",
       "max": 1,
       "style": "IPY_MODEL_f16a8efdaf46461eaa171c770ab1cdda",
       "value": 1
      }
     },
     "96b13f9ffc22404b95090e499bad9e4e": {
      "model_module": "jupyter-js-widgets",
      "model_module_version": "~2.1.4",
      "model_name": "HTMLModel",
      "state": {
       "_model_module_version": "~2.1.4",
       "_view_module_version": "~2.1.4",
       "layout": "IPY_MODEL_8e459af014a44cbea2d3602b2a9c62c3",
       "value": "100% 1/1 [00:10&lt;00:00, 10.43s/it]"
      }
     },
     "96c2aba7c3e24006a32a81827a7dd36f": {
      "model_module": "jupyter-js-widgets",
      "model_module_version": "~2.1.4",
      "model_name": "HTMLModel",
      "state": {
       "_model_module_version": "~2.1.4",
       "_view_module_version": "~2.1.4",
       "layout": "IPY_MODEL_0bd1b4752041495c834b0b66bc006bb7",
       "value": "100% 1/1 [00:09&lt;00:00,  9.86s/it]"
      }
     },
     "98168f4947da4bc1a6fa890cf94e92df": {
      "model_module": "jupyter-js-widgets",
      "model_module_version": "~2.1.4",
      "model_name": "LayoutModel",
      "state": {
       "_model_module_version": "~2.1.4",
       "_view_module_version": "~2.1.4"
      }
     },
     "9859491976314fe0a454c775bed78981": {
      "model_module": "jupyter-js-widgets",
      "model_module_version": "~2.1.4",
      "model_name": "HBoxModel",
      "state": {
       "_model_module_version": "~2.1.4",
       "_view_module_version": "~2.1.4",
       "children": [
        "IPY_MODEL_1ab2cbd42c2c48f2bbf33aae4d3ca095",
        "IPY_MODEL_21b2946bfb604a06bb396d4267f18140"
       ],
       "layout": "IPY_MODEL_73adf4c855ba4a3ebd521b12f577e0db"
      }
     },
     "98b5b756a5c4497f9fbda47be700e1fe": {
      "model_module": "jupyter-js-widgets",
      "model_module_version": "~2.1.4",
      "model_name": "LayoutModel",
      "state": {
       "_model_module_version": "~2.1.4",
       "_view_module_version": "~2.1.4"
      }
     },
     "9abc26c1ab914340a5dcb063c29ffaf3": {
      "model_module": "jupyter-js-widgets",
      "model_module_version": "~2.1.4",
      "model_name": "LayoutModel",
      "state": {
       "_model_module_version": "~2.1.4",
       "_view_module_version": "~2.1.4"
      }
     },
     "9b135caed87e45a19c2478fcf47765d3": {
      "model_module": "jupyter-js-widgets",
      "model_module_version": "~2.1.4",
      "model_name": "ProgressStyleModel",
      "state": {
       "_model_module_version": "~2.1.4",
       "_view_module_version": "~2.1.4"
      }
     },
     "9b580209009e47c6931584eae5624b40": {
      "model_module": "jupyter-js-widgets",
      "model_module_version": "~2.1.4",
      "model_name": "LayoutModel",
      "state": {
       "_model_module_version": "~2.1.4",
       "_view_module_version": "~2.1.4"
      }
     },
     "9bb24fe95e1b45e482c8031d28106258": {
      "model_module": "jupyter-js-widgets",
      "model_module_version": "~2.1.4",
      "model_name": "LayoutModel",
      "state": {
       "_model_module_version": "~2.1.4",
       "_view_module_version": "~2.1.4"
      }
     },
     "9c073c9094294a93b7241bb9c8e980cf": {
      "model_module": "jupyter-js-widgets",
      "model_module_version": "~2.1.4",
      "model_name": "ProgressModel",
      "state": {
       "_model_module_version": "~2.1.4",
       "_view_module_version": "~2.1.4",
       "bar_style": "success",
       "layout": "IPY_MODEL_4dd552437cea46428a43c72c4d637c15",
       "max": 1,
       "style": "IPY_MODEL_29867ed12ccd4ab2af6817f843a3162b",
       "value": 1
      }
     },
     "9c56675e4ce44a31867cedb9f74b1407": {
      "model_module": "jupyter-js-widgets",
      "model_module_version": "~2.1.4",
      "model_name": "ProgressStyleModel",
      "state": {
       "_model_module_version": "~2.1.4",
       "_view_module_version": "~2.1.4"
      }
     },
     "9d2d15fa97d747e9b78c750ed48ae608": {
      "model_module": "jupyter-js-widgets",
      "model_module_version": "~2.1.4",
      "model_name": "HBoxModel",
      "state": {
       "_model_module_version": "~2.1.4",
       "_view_module_version": "~2.1.4",
       "children": [
        "IPY_MODEL_c3aa361d45e94301b461abbb94ccf77f",
        "IPY_MODEL_0b75219f16c241b488dd3bea20d2cf33"
       ],
       "layout": "IPY_MODEL_6125512c5212424191d54a7c97f9d184"
      }
     },
     "9db00ef77fce4d8cbfc17261b09d7560": {
      "model_module": "jupyter-js-widgets",
      "model_module_version": "~2.1.4",
      "model_name": "HTMLModel",
      "state": {
       "_model_module_version": "~2.1.4",
       "_view_module_version": "~2.1.4",
       "layout": "IPY_MODEL_38a2520e42ac470cbcf89238a9b2adbb",
       "value": "100% 1/1 [00:09&lt;00:00,  9.85s/it]"
      }
     },
     "9df2d16bf0064f289964400b380112a8": {
      "model_module": "jupyter-js-widgets",
      "model_module_version": "~2.1.4",
      "model_name": "LayoutModel",
      "state": {
       "_model_module_version": "~2.1.4",
       "_view_module_version": "~2.1.4"
      }
     },
     "9f8714d978e747ff9f07c6bf3a9da085": {
      "model_module": "jupyter-js-widgets",
      "model_module_version": "~2.1.4",
      "model_name": "HTMLModel",
      "state": {
       "_model_module_version": "~2.1.4",
       "_view_module_version": "~2.1.4",
       "layout": "IPY_MODEL_a6cb812fbfd74e1f8c57257f7d83dc93",
       "value": "100% 1/1 [00:10&lt;00:00, 10.48s/it]"
      }
     },
     "a0317c9ea89f41b4971d69feb02af801": {
      "model_module": "jupyter-js-widgets",
      "model_module_version": "~2.1.4",
      "model_name": "ProgressModel",
      "state": {
       "_model_module_version": "~2.1.4",
       "_view_module_version": "~2.1.4",
       "bar_style": "success",
       "layout": "IPY_MODEL_c236df553f774748aea0c46ad4e39520",
       "max": 1,
       "style": "IPY_MODEL_9b135caed87e45a19c2478fcf47765d3",
       "value": 1
      }
     },
     "a04446d121624ddea50521e2728e3811": {
      "model_module": "jupyter-js-widgets",
      "model_module_version": "~2.1.4",
      "model_name": "ProgressStyleModel",
      "state": {
       "_model_module_version": "~2.1.4",
       "_view_module_version": "~2.1.4"
      }
     },
     "a0a2bba4ff4c48149d95c63d2eca5ebc": {
      "model_module": "jupyter-js-widgets",
      "model_module_version": "~2.1.4",
      "model_name": "ProgressStyleModel",
      "state": {
       "_model_module_version": "~2.1.4",
       "_view_module_version": "~2.1.4"
      }
     },
     "a3e51aeac22348a797b688aa78688f99": {
      "model_module": "jupyter-js-widgets",
      "model_module_version": "~2.1.4",
      "model_name": "LayoutModel",
      "state": {
       "_model_module_version": "~2.1.4",
       "_view_module_version": "~2.1.4"
      }
     },
     "a4cc3309698b48bbba7647e04946eaa4": {
      "model_module": "jupyter-js-widgets",
      "model_module_version": "~2.1.4",
      "model_name": "ProgressStyleModel",
      "state": {
       "_model_module_version": "~2.1.4",
       "_view_module_version": "~2.1.4"
      }
     },
     "a545db2e5cce42179451ffdf5fae2631": {
      "model_module": "jupyter-js-widgets",
      "model_module_version": "~2.1.4",
      "model_name": "ProgressModel",
      "state": {
       "_model_module_version": "~2.1.4",
       "_view_module_version": "~2.1.4",
       "bar_style": "success",
       "layout": "IPY_MODEL_6e803a632b55480dba20a7bc632718e6",
       "max": 1,
       "style": "IPY_MODEL_924c0ac3c5fc4a4497b2e99359529f01",
       "value": 1
      }
     },
     "a5ddc5004b664c7faa13c0a0f105cce0": {
      "model_module": "jupyter-js-widgets",
      "model_module_version": "~2.1.4",
      "model_name": "ProgressModel",
      "state": {
       "_model_module_version": "~2.1.4",
       "_view_module_version": "~2.1.4",
       "bar_style": "success",
       "layout": "IPY_MODEL_901191621b2648719a15064539f33355",
       "max": 1,
       "style": "IPY_MODEL_3fc4363ba6944279b16720380928dd1c",
       "value": 1
      }
     },
     "a6cb812fbfd74e1f8c57257f7d83dc93": {
      "model_module": "jupyter-js-widgets",
      "model_module_version": "~2.1.4",
      "model_name": "LayoutModel",
      "state": {
       "_model_module_version": "~2.1.4",
       "_view_module_version": "~2.1.4"
      }
     },
     "a746d648792c4116841f2aff176f4dd3": {
      "model_module": "jupyter-js-widgets",
      "model_module_version": "~2.1.4",
      "model_name": "ProgressStyleModel",
      "state": {
       "_model_module_version": "~2.1.4",
       "_view_module_version": "~2.1.4"
      }
     },
     "a78399c413f44643b7db49738fe4f5d9": {
      "model_module": "jupyter-js-widgets",
      "model_module_version": "~2.1.4",
      "model_name": "HBoxModel",
      "state": {
       "_model_module_version": "~2.1.4",
       "_view_module_version": "~2.1.4",
       "children": [
        "IPY_MODEL_bb5e2ee041474d4d96f12b1565498431",
        "IPY_MODEL_8b84e2add8d04fbd93c51fcc65f49e80"
       ],
       "layout": "IPY_MODEL_dddf975ad981443ba103611aa70af7b0"
      }
     },
     "a7aa934a4d0747deb9f05b0569e7bab1": {
      "model_module": "jupyter-js-widgets",
      "model_module_version": "~2.1.4",
      "model_name": "LayoutModel",
      "state": {
       "_model_module_version": "~2.1.4",
       "_view_module_version": "~2.1.4"
      }
     },
     "a7bbe6594a9541c89e5795261f2e9236": {
      "model_module": "jupyter-js-widgets",
      "model_module_version": "~2.1.4",
      "model_name": "LayoutModel",
      "state": {
       "_model_module_version": "~2.1.4",
       "_view_module_version": "~2.1.4"
      }
     },
     "a7c3e81d130844cf873123a041301b26": {
      "model_module": "jupyter-js-widgets",
      "model_module_version": "~2.1.4",
      "model_name": "LayoutModel",
      "state": {
       "_model_module_version": "~2.1.4",
       "_view_module_version": "~2.1.4"
      }
     },
     "a8d368d5c1a64404a7ceea6e0b4ef4b5": {
      "model_module": "jupyter-js-widgets",
      "model_module_version": "~2.1.4",
      "model_name": "LayoutModel",
      "state": {
       "_model_module_version": "~2.1.4",
       "_view_module_version": "~2.1.4"
      }
     },
     "a94795e709f548339d30e1ad33d4122f": {
      "model_module": "jupyter-js-widgets",
      "model_module_version": "~2.1.4",
      "model_name": "HBoxModel",
      "state": {
       "_model_module_version": "~2.1.4",
       "_view_module_version": "~2.1.4",
       "children": [
        "IPY_MODEL_c139231d9cfe4ea38358f4118602b408",
        "IPY_MODEL_5dd11610325146a69339a34002fb2dfc"
       ],
       "layout": "IPY_MODEL_530413ec2b0045ee85e3cc88092d9446"
      }
     },
     "a949046eba4445fd9b2251c7f8c008e4": {
      "model_module": "jupyter-js-widgets",
      "model_module_version": "~2.1.4",
      "model_name": "LayoutModel",
      "state": {
       "_model_module_version": "~2.1.4",
       "_view_module_version": "~2.1.4"
      }
     },
     "a9b71f1ab9974e24bd69b0846eac827b": {
      "model_module": "jupyter-js-widgets",
      "model_module_version": "~2.1.4",
      "model_name": "ProgressStyleModel",
      "state": {
       "_model_module_version": "~2.1.4",
       "_view_module_version": "~2.1.4"
      }
     },
     "aa344441ae8f4abc9161b2626514dcb7": {
      "model_module": "jupyter-js-widgets",
      "model_module_version": "~2.1.4",
      "model_name": "LayoutModel",
      "state": {
       "_model_module_version": "~2.1.4",
       "_view_module_version": "~2.1.4"
      }
     },
     "aa7451093a8e4623a14110e804a1680c": {
      "model_module": "jupyter-js-widgets",
      "model_module_version": "~2.1.4",
      "model_name": "LayoutModel",
      "state": {
       "_model_module_version": "~2.1.4",
       "_view_module_version": "~2.1.4"
      }
     },
     "aab95c45b17e45b3898ae9e01ec3c302": {
      "model_module": "jupyter-js-widgets",
      "model_module_version": "~2.1.4",
      "model_name": "HBoxModel",
      "state": {
       "_model_module_version": "~2.1.4",
       "_view_module_version": "~2.1.4",
       "children": [
        "IPY_MODEL_4d4c2ae735764810bb760515976befea",
        "IPY_MODEL_6349e3e30c724021a36ea407a17ae9ae"
       ],
       "layout": "IPY_MODEL_f3f05bc9421645bb92b4aa8ba37cd063"
      }
     },
     "aaf74735befa48468be277f6842db4f3": {
      "model_module": "jupyter-js-widgets",
      "model_module_version": "~2.1.4",
      "model_name": "ProgressModel",
      "state": {
       "_model_module_version": "~2.1.4",
       "_view_module_version": "~2.1.4",
       "bar_style": "success",
       "layout": "IPY_MODEL_369003c528434592ac24af9db3815031",
       "max": 1,
       "style": "IPY_MODEL_fd9387fe6a0c4ceaa1924d9cf926f40e",
       "value": 1
      }
     },
     "ab10b36fff8d4b498c52a8117f69f9e8": {
      "model_module": "jupyter-js-widgets",
      "model_module_version": "~2.1.4",
      "model_name": "ProgressStyleModel",
      "state": {
       "_model_module_version": "~2.1.4",
       "_view_module_version": "~2.1.4"
      }
     },
     "abcd1fe0849f4e218f2705b640635eed": {
      "model_module": "jupyter-js-widgets",
      "model_module_version": "~2.1.4",
      "model_name": "LayoutModel",
      "state": {
       "_model_module_version": "~2.1.4",
       "_view_module_version": "~2.1.4"
      }
     },
     "ac36d657cc0541b2876ed135bb032e8b": {
      "model_module": "jupyter-js-widgets",
      "model_module_version": "~2.1.4",
      "model_name": "LayoutModel",
      "state": {
       "_model_module_version": "~2.1.4",
       "_view_module_version": "~2.1.4"
      }
     },
     "ac37aff8de83466a874d658b0f3e5dfd": {
      "model_module": "jupyter-js-widgets",
      "model_module_version": "~2.1.4",
      "model_name": "LayoutModel",
      "state": {
       "_model_module_version": "~2.1.4",
       "_view_module_version": "~2.1.4"
      }
     },
     "aca365c4913b440fb2fe3e858bf02dd6": {
      "model_module": "jupyter-js-widgets",
      "model_module_version": "~2.1.4",
      "model_name": "ProgressStyleModel",
      "state": {
       "_model_module_version": "~2.1.4",
       "_view_module_version": "~2.1.4"
      }
     },
     "ad511367635745ae89b672afe1e3c43f": {
      "model_module": "jupyter-js-widgets",
      "model_module_version": "~2.1.4",
      "model_name": "HTMLModel",
      "state": {
       "_model_module_version": "~2.1.4",
       "_view_module_version": "~2.1.4",
       "layout": "IPY_MODEL_0ec07a053c8846c589e9d928565820b8",
       "value": "100% 1/1 [00:10&lt;00:00, 10.02s/it]"
      }
     },
     "aec36e941eab49278f11c432540b11b1": {
      "model_module": "jupyter-js-widgets",
      "model_module_version": "~2.1.4",
      "model_name": "HBoxModel",
      "state": {
       "_model_module_version": "~2.1.4",
       "_view_module_version": "~2.1.4",
       "children": [
        "IPY_MODEL_a0317c9ea89f41b4971d69feb02af801",
        "IPY_MODEL_6139de1d0e7b41ef92cfe2e28433aeee"
       ],
       "layout": "IPY_MODEL_a3e51aeac22348a797b688aa78688f99"
      }
     },
     "aff5399d361d42dca713b2efd2216ad0": {
      "model_module": "jupyter-js-widgets",
      "model_module_version": "~2.1.4",
      "model_name": "LayoutModel",
      "state": {
       "_model_module_version": "~2.1.4",
       "_view_module_version": "~2.1.4"
      }
     },
     "b1b707c612e341b3ac142e8144daae0c": {
      "model_module": "jupyter-js-widgets",
      "model_module_version": "~2.1.4",
      "model_name": "HBoxModel",
      "state": {
       "_model_module_version": "~2.1.4",
       "_view_module_version": "~2.1.4",
       "children": [
        "IPY_MODEL_a545db2e5cce42179451ffdf5fae2631",
        "IPY_MODEL_96b13f9ffc22404b95090e499bad9e4e"
       ],
       "layout": "IPY_MODEL_90e82452a9e24f42807766fd402ebccf"
      }
     },
     "b2031b1e379146b2baca9b66290092c7": {
      "model_module": "jupyter-js-widgets",
      "model_module_version": "~2.1.4",
      "model_name": "LayoutModel",
      "state": {
       "_model_module_version": "~2.1.4",
       "_view_module_version": "~2.1.4"
      }
     },
     "b36dc827428a484fb99297e9d3072c2c": {
      "model_module": "jupyter-js-widgets",
      "model_module_version": "~2.1.4",
      "model_name": "LayoutModel",
      "state": {
       "_model_module_version": "~2.1.4",
       "_view_module_version": "~2.1.4"
      }
     },
     "b4373b0722c144b3b5a35c4d27fc5e6b": {
      "model_module": "jupyter-js-widgets",
      "model_module_version": "~2.1.4",
      "model_name": "LayoutModel",
      "state": {
       "_model_module_version": "~2.1.4",
       "_view_module_version": "~2.1.4"
      }
     },
     "b49f566b6f014066b88762dda02e3274": {
      "model_module": "jupyter-js-widgets",
      "model_module_version": "~2.1.4",
      "model_name": "HTMLModel",
      "state": {
       "_model_module_version": "~2.1.4",
       "_view_module_version": "~2.1.4",
       "layout": "IPY_MODEL_da2d3820f8de44449a6bec51ef5dea84",
       "value": "100% 1/1 [00:10&lt;00:00, 10.03s/it]"
      }
     },
     "b583e6de6388471a8ed49889093dc27e": {
      "model_module": "jupyter-js-widgets",
      "model_module_version": "~2.1.4",
      "model_name": "HTMLModel",
      "state": {
       "_model_module_version": "~2.1.4",
       "_view_module_version": "~2.1.4",
       "layout": "IPY_MODEL_d5241bfceb064ae18c2ef4f834c626e4",
       "value": "100% 1/1 [00:09&lt;00:00,  9.86s/it]"
      }
     },
     "b5940e13d1e746c6b6b5386627f60bda": {
      "model_module": "jupyter-js-widgets",
      "model_module_version": "~2.1.4",
      "model_name": "LayoutModel",
      "state": {
       "_model_module_version": "~2.1.4",
       "_view_module_version": "~2.1.4"
      }
     },
     "b5a538a773a445d3b7c250d5724984bb": {
      "model_module": "jupyter-js-widgets",
      "model_module_version": "~2.1.4",
      "model_name": "HBoxModel",
      "state": {
       "_model_module_version": "~2.1.4",
       "_view_module_version": "~2.1.4",
       "children": [
        "IPY_MODEL_cb7ad6c5eb04437187caa4d94456d808",
        "IPY_MODEL_ed0a56582e074f8fbaa5ee95ac6eaaef"
       ],
       "layout": "IPY_MODEL_cb0f0da0a7c6471f83d6e77b745789a3"
      }
     },
     "b6bbff110f8e45d8ba2556f8ce226cdb": {
      "model_module": "jupyter-js-widgets",
      "model_module_version": "~2.1.4",
      "model_name": "ProgressModel",
      "state": {
       "_model_module_version": "~2.1.4",
       "_view_module_version": "~2.1.4",
       "bar_style": "success",
       "layout": "IPY_MODEL_3d4c263ad1ff4c6eb25fe49edfc3589d",
       "max": 1,
       "style": "IPY_MODEL_aca365c4913b440fb2fe3e858bf02dd6",
       "value": 1
      }
     },
     "b6d63fbc84d447ffb82d79360fd67e4e": {
      "model_module": "jupyter-js-widgets",
      "model_module_version": "~2.1.4",
      "model_name": "LayoutModel",
      "state": {
       "_model_module_version": "~2.1.4",
       "_view_module_version": "~2.1.4"
      }
     },
     "b764ded267544c45987e0f9103ca943d": {
      "model_module": "jupyter-js-widgets",
      "model_module_version": "~2.1.4",
      "model_name": "HBoxModel",
      "state": {
       "_model_module_version": "~2.1.4",
       "_view_module_version": "~2.1.4",
       "children": [
        "IPY_MODEL_ca29f3fd17054a0d808b0f981d555a3e",
        "IPY_MODEL_7ab0181324ae4ba78b0e458a1dadf74b"
       ],
       "layout": "IPY_MODEL_e7f2c10bc4a240c0a54b879a91af863c"
      }
     },
     "b76ccb4b7cc04d5dbe56852aa366dd9f": {
      "model_module": "jupyter-js-widgets",
      "model_module_version": "~2.1.4",
      "model_name": "LayoutModel",
      "state": {
       "_model_module_version": "~2.1.4",
       "_view_module_version": "~2.1.4"
      }
     },
     "b8588f0139804072a03bf8d27f6980a8": {
      "model_module": "jupyter-js-widgets",
      "model_module_version": "~2.1.4",
      "model_name": "ProgressModel",
      "state": {
       "_model_module_version": "~2.1.4",
       "_view_module_version": "~2.1.4",
       "bar_style": "success",
       "layout": "IPY_MODEL_22749dfa17e541689b15d7a6dfa59260",
       "max": 1,
       "style": "IPY_MODEL_a0a2bba4ff4c48149d95c63d2eca5ebc",
       "value": 1
      }
     },
     "b895028cdab4477fa63d7c1c5407472e": {
      "model_module": "jupyter-js-widgets",
      "model_module_version": "~2.1.4",
      "model_name": "LayoutModel",
      "state": {
       "_model_module_version": "~2.1.4",
       "_view_module_version": "~2.1.4"
      }
     },
     "b9b14b01629e4f5a83e2ec32976d7054": {
      "model_module": "jupyter-js-widgets",
      "model_module_version": "~2.1.4",
      "model_name": "LayoutModel",
      "state": {
       "_model_module_version": "~2.1.4",
       "_view_module_version": "~2.1.4"
      }
     },
     "ba5b092b586a40f6a636497671eae79e": {
      "model_module": "jupyter-js-widgets",
      "model_module_version": "~2.1.4",
      "model_name": "HTMLModel",
      "state": {
       "_model_module_version": "~2.1.4",
       "_view_module_version": "~2.1.4",
       "layout": "IPY_MODEL_43d42c8d1ae44eeba9804251180f75e9",
       "value": "100% 1/1 [00:09&lt;00:00,  9.90s/it]"
      }
     },
     "bb5e2ee041474d4d96f12b1565498431": {
      "model_module": "jupyter-js-widgets",
      "model_module_version": "~2.1.4",
      "model_name": "ProgressModel",
      "state": {
       "_model_module_version": "~2.1.4",
       "_view_module_version": "~2.1.4",
       "bar_style": "success",
       "layout": "IPY_MODEL_1a68119e9fd94dca9798254b78c3cfcc",
       "max": 1,
       "style": "IPY_MODEL_89f840ad4908463da36327a25e6d31c7",
       "value": 1
      }
     },
     "bbdb55c1b72b4bc1a68856b866fed63c": {
      "model_module": "jupyter-js-widgets",
      "model_module_version": "~2.1.4",
      "model_name": "HBoxModel",
      "state": {
       "_model_module_version": "~2.1.4",
       "_view_module_version": "~2.1.4",
       "children": [
        "IPY_MODEL_7feb872239c34378ba8b8ca8316b9607",
        "IPY_MODEL_c06b5602e7604a7d9de19c6588aa943f"
       ],
       "layout": "IPY_MODEL_c96b3411d42945d9ade7e2493b0cc492"
      }
     },
     "bd4fc587cec34d1cb1c397ff37ee296f": {
      "model_module": "jupyter-js-widgets",
      "model_module_version": "~2.1.4",
      "model_name": "LayoutModel",
      "state": {
       "_model_module_version": "~2.1.4",
       "_view_module_version": "~2.1.4"
      }
     },
     "bd9646f919824067811862055bcc8d79": {
      "model_module": "jupyter-js-widgets",
      "model_module_version": "~2.1.4",
      "model_name": "LayoutModel",
      "state": {
       "_model_module_version": "~2.1.4",
       "_view_module_version": "~2.1.4"
      }
     },
     "bf4cae68c0b9427294e5514e701b1662": {
      "model_module": "jupyter-js-widgets",
      "model_module_version": "~2.1.4",
      "model_name": "ProgressModel",
      "state": {
       "_model_module_version": "~2.1.4",
       "_view_module_version": "~2.1.4",
       "bar_style": "success",
       "layout": "IPY_MODEL_4e09a65b9e2849d2873c8c8b19eb584f",
       "max": 1,
       "style": "IPY_MODEL_11382c40cf084759b989495645ab680b",
       "value": 1
      }
     },
     "c056eb628040495dbdf762ea68b49fae": {
      "model_module": "jupyter-js-widgets",
      "model_module_version": "~2.1.4",
      "model_name": "HBoxModel",
      "state": {
       "_model_module_version": "~2.1.4",
       "_view_module_version": "~2.1.4",
       "children": [
        "IPY_MODEL_95155fae6aaf47adb46bcb8b53e6449b",
        "IPY_MODEL_dbdf825309c54b9e8890515dd6fd4b57"
       ],
       "layout": "IPY_MODEL_5131a8c2bceb44fc9c7179d92bdcd1ca"
      }
     },
     "c06b5602e7604a7d9de19c6588aa943f": {
      "model_module": "jupyter-js-widgets",
      "model_module_version": "~2.1.4",
      "model_name": "HTMLModel",
      "state": {
       "_model_module_version": "~2.1.4",
       "_view_module_version": "~2.1.4",
       "layout": "IPY_MODEL_1ac2b5071cea4fa8a419da9fe39ad489",
       "value": "100% 1/1 [00:09&lt;00:00,  9.88s/it]"
      }
     },
     "c139231d9cfe4ea38358f4118602b408": {
      "model_module": "jupyter-js-widgets",
      "model_module_version": "~2.1.4",
      "model_name": "ProgressModel",
      "state": {
       "_model_module_version": "~2.1.4",
       "_view_module_version": "~2.1.4",
       "bar_style": "success",
       "layout": "IPY_MODEL_2761ef2991554b0bb10ca104c0455632",
       "max": 1,
       "style": "IPY_MODEL_80c7e7d33ab842cfb1e49f10a4173c14",
       "value": 1
      }
     },
     "c1df12fb720d42c58c0cec9a06daa59e": {
      "model_module": "jupyter-js-widgets",
      "model_module_version": "~2.1.4",
      "model_name": "HTMLModel",
      "state": {
       "_model_module_version": "~2.1.4",
       "_view_module_version": "~2.1.4",
       "layout": "IPY_MODEL_57e969d4d40048119efa89801a408acf",
       "value": "100% 1/1 [00:09&lt;00:00,  9.92s/it]"
      }
     },
     "c236df553f774748aea0c46ad4e39520": {
      "model_module": "jupyter-js-widgets",
      "model_module_version": "~2.1.4",
      "model_name": "LayoutModel",
      "state": {
       "_model_module_version": "~2.1.4",
       "_view_module_version": "~2.1.4"
      }
     },
     "c2f2b3936b8148f2b9396c7cde12965d": {
      "model_module": "jupyter-js-widgets",
      "model_module_version": "~2.1.4",
      "model_name": "HBoxModel",
      "state": {
       "_model_module_version": "~2.1.4",
       "_view_module_version": "~2.1.4",
       "children": [
        "IPY_MODEL_547964fbe6274b5d852f7dada8337abc",
        "IPY_MODEL_3c8150248dc747ffba114920348e7720"
       ],
       "layout": "IPY_MODEL_318527be3fad4984b60e050280c7bf4e"
      }
     },
     "c3aa361d45e94301b461abbb94ccf77f": {
      "model_module": "jupyter-js-widgets",
      "model_module_version": "~2.1.4",
      "model_name": "ProgressModel",
      "state": {
       "_model_module_version": "~2.1.4",
       "_view_module_version": "~2.1.4",
       "bar_style": "success",
       "layout": "IPY_MODEL_4742405a02a944898edb995ed34f73c4",
       "max": 1,
       "style": "IPY_MODEL_019e4da2875647bda4c264124177324b",
       "value": 1
      }
     },
     "c3fe39ac49c3494ab8269ab689889268": {
      "model_module": "jupyter-js-widgets",
      "model_module_version": "~2.1.4",
      "model_name": "ProgressModel",
      "state": {
       "_model_module_version": "~2.1.4",
       "_view_module_version": "~2.1.4",
       "bar_style": "success",
       "layout": "IPY_MODEL_7bcc67931c3349cbb0205abdc71ea75d",
       "max": 1,
       "style": "IPY_MODEL_a746d648792c4116841f2aff176f4dd3",
       "value": 1
      }
     },
     "c567cc6fc0bc45c1a8ff9eda250b94f0": {
      "model_module": "jupyter-js-widgets",
      "model_module_version": "~2.1.4",
      "model_name": "ProgressModel",
      "state": {
       "_model_module_version": "~2.1.4",
       "_view_module_version": "~2.1.4",
       "bar_style": "success",
       "layout": "IPY_MODEL_546dff5cf9964dc2a53a35dada9631e7",
       "max": 1,
       "style": "IPY_MODEL_0a4e3cef4b5a46bc9c9aaba957e07ef8",
       "value": 1
      }
     },
     "c5d78a10c03b4dfabeb3e50d69bf6921": {
      "model_module": "jupyter-js-widgets",
      "model_module_version": "~2.1.4",
      "model_name": "LayoutModel",
      "state": {
       "_model_module_version": "~2.1.4",
       "_view_module_version": "~2.1.4"
      }
     },
     "c6586423fe69408d97d9f259411faaf3": {
      "model_module": "jupyter-js-widgets",
      "model_module_version": "~2.1.4",
      "model_name": "LayoutModel",
      "state": {
       "_model_module_version": "~2.1.4",
       "_view_module_version": "~2.1.4"
      }
     },
     "c699321d25a0435e89bc21ae0315e48e": {
      "model_module": "jupyter-js-widgets",
      "model_module_version": "~2.1.4",
      "model_name": "ProgressStyleModel",
      "state": {
       "_model_module_version": "~2.1.4",
       "_view_module_version": "~2.1.4"
      }
     },
     "c77a2808c6bb4f559f538f94b0142592": {
      "model_module": "jupyter-js-widgets",
      "model_module_version": "~2.1.4",
      "model_name": "LayoutModel",
      "state": {
       "_model_module_version": "~2.1.4",
       "_view_module_version": "~2.1.4"
      }
     },
     "c7cd9f93399a4ccd8292f131fd33e749": {
      "model_module": "jupyter-js-widgets",
      "model_module_version": "~2.1.4",
      "model_name": "LayoutModel",
      "state": {
       "_model_module_version": "~2.1.4",
       "_view_module_version": "~2.1.4"
      }
     },
     "c96b3411d42945d9ade7e2493b0cc492": {
      "model_module": "jupyter-js-widgets",
      "model_module_version": "~2.1.4",
      "model_name": "LayoutModel",
      "state": {
       "_model_module_version": "~2.1.4",
       "_view_module_version": "~2.1.4"
      }
     },
     "ca020073633648de878a6de83085e3d8": {
      "model_module": "jupyter-js-widgets",
      "model_module_version": "~2.1.4",
      "model_name": "ProgressStyleModel",
      "state": {
       "_model_module_version": "~2.1.4",
       "_view_module_version": "~2.1.4"
      }
     },
     "ca29f3fd17054a0d808b0f981d555a3e": {
      "model_module": "jupyter-js-widgets",
      "model_module_version": "~2.1.4",
      "model_name": "ProgressModel",
      "state": {
       "_model_module_version": "~2.1.4",
       "_view_module_version": "~2.1.4",
       "bar_style": "success",
       "layout": "IPY_MODEL_ac36d657cc0541b2876ed135bb032e8b",
       "max": 1,
       "style": "IPY_MODEL_03d27a7aedf54f688fdb5551b9e69ef2",
       "value": 1
      }
     },
     "ca4d38270c1c489097da1747ae65f1a3": {
      "model_module": "jupyter-js-widgets",
      "model_module_version": "~2.1.4",
      "model_name": "ProgressStyleModel",
      "state": {
       "_model_module_version": "~2.1.4",
       "_view_module_version": "~2.1.4"
      }
     },
     "cb0f0da0a7c6471f83d6e77b745789a3": {
      "model_module": "jupyter-js-widgets",
      "model_module_version": "~2.1.4",
      "model_name": "LayoutModel",
      "state": {
       "_model_module_version": "~2.1.4",
       "_view_module_version": "~2.1.4"
      }
     },
     "cb44fee89a1949879beed4a987874c64": {
      "model_module": "jupyter-js-widgets",
      "model_module_version": "~2.1.4",
      "model_name": "HBoxModel",
      "state": {
       "_model_module_version": "~2.1.4",
       "_view_module_version": "~2.1.4",
       "children": [
        "IPY_MODEL_59f51e61265349169d7cfb5e8ef14638",
        "IPY_MODEL_5b4b96835c2b4ab48c6d0de3d95d417e"
       ],
       "layout": "IPY_MODEL_d741c50c35174156941d2e8dfb0f4043"
      }
     },
     "cb7ad6c5eb04437187caa4d94456d808": {
      "model_module": "jupyter-js-widgets",
      "model_module_version": "~2.1.4",
      "model_name": "ProgressModel",
      "state": {
       "_model_module_version": "~2.1.4",
       "_view_module_version": "~2.1.4",
       "bar_style": "success",
       "layout": "IPY_MODEL_f0936cc0750c4df1872274adbd1f7b57",
       "max": 1,
       "style": "IPY_MODEL_ca4d38270c1c489097da1747ae65f1a3",
       "value": 1
      }
     },
     "cc9cd7560887461b86b74e01e3b03a9c": {
      "model_module": "jupyter-js-widgets",
      "model_module_version": "~2.1.4",
      "model_name": "LayoutModel",
      "state": {
       "_model_module_version": "~2.1.4",
       "_view_module_version": "~2.1.4"
      }
     },
     "cdd71925bef34f65abd10a37df0fb5ba": {
      "model_module": "jupyter-js-widgets",
      "model_module_version": "~2.1.4",
      "model_name": "ProgressModel",
      "state": {
       "_model_module_version": "~2.1.4",
       "_view_module_version": "~2.1.4",
       "bar_style": "success",
       "layout": "IPY_MODEL_25de67e857594c1d99f8d7fe06158da8",
       "max": 1,
       "style": "IPY_MODEL_d8a60e7ae5de435e8ba0bf1de1528c2d",
       "value": 1
      }
     },
     "cebd02d4f0744e91ae54b2bfb2504c19": {
      "model_module": "jupyter-js-widgets",
      "model_module_version": "~2.1.4",
      "model_name": "HTMLModel",
      "state": {
       "_model_module_version": "~2.1.4",
       "_view_module_version": "~2.1.4",
       "layout": "IPY_MODEL_3bf3589d63b44b2abedfb45b4add6f48",
       "value": "100% 1/1 [00:10&lt;00:00, 10.62s/it]"
      }
     },
     "cf20ff9ebbff485bae3a0b6136666c42": {
      "model_module": "jupyter-js-widgets",
      "model_module_version": "~2.1.4",
      "model_name": "ProgressModel",
      "state": {
       "_model_module_version": "~2.1.4",
       "_view_module_version": "~2.1.4",
       "bar_style": "success",
       "layout": "IPY_MODEL_0ce7aa5a583042f489213ff4b2dff4ed",
       "max": 1,
       "style": "IPY_MODEL_f8b1a297106345d78b35c823d65ff067",
       "value": 1
      }
     },
     "cfa0d098014541ea86b567f9b85330bd": {
      "model_module": "jupyter-js-widgets",
      "model_module_version": "~2.1.4",
      "model_name": "ProgressStyleModel",
      "state": {
       "_model_module_version": "~2.1.4",
       "_view_module_version": "~2.1.4"
      }
     },
     "d078ab96f6a74629b3f4969b463f94d2": {
      "model_module": "jupyter-js-widgets",
      "model_module_version": "~2.1.4",
      "model_name": "HTMLModel",
      "state": {
       "_model_module_version": "~2.1.4",
       "_view_module_version": "~2.1.4",
       "layout": "IPY_MODEL_7ef6c3aa999347459ce3cc782e0a6ae4",
       "value": "100% 1/1 [00:09&lt;00:00,  9.91s/it]"
      }
     },
     "d07bedf1e8a141c3a1a1770b27ca37b2": {
      "model_module": "jupyter-js-widgets",
      "model_module_version": "~2.1.4",
      "model_name": "LayoutModel",
      "state": {
       "_model_module_version": "~2.1.4",
       "_view_module_version": "~2.1.4"
      }
     },
     "d0ca0935199246c3b17131e84e1daade": {
      "model_module": "jupyter-js-widgets",
      "model_module_version": "~2.1.4",
      "model_name": "HTMLModel",
      "state": {
       "_model_module_version": "~2.1.4",
       "_view_module_version": "~2.1.4",
       "layout": "IPY_MODEL_25ad21516e4047b481d9315a0b6fe5c2",
       "value": "100% 1/1 [00:10&lt;00:00, 10.85s/it]"
      }
     },
     "d0ec89bb631f4efab22ab451a6231108": {
      "model_module": "jupyter-js-widgets",
      "model_module_version": "~2.1.4",
      "model_name": "ProgressStyleModel",
      "state": {
       "_model_module_version": "~2.1.4",
       "_view_module_version": "~2.1.4"
      }
     },
     "d1b6a256e9d2435fb2ef1b0852c03c73": {
      "model_module": "jupyter-js-widgets",
      "model_module_version": "~2.1.4",
      "model_name": "ProgressStyleModel",
      "state": {
       "_model_module_version": "~2.1.4",
       "_view_module_version": "~2.1.4"
      }
     },
     "d1c9ba2b250c4961be5dd1288eb51475": {
      "model_module": "jupyter-js-widgets",
      "model_module_version": "~2.1.4",
      "model_name": "LayoutModel",
      "state": {
       "_model_module_version": "~2.1.4",
       "_view_module_version": "~2.1.4"
      }
     },
     "d1eb8d0526664f87930963813ca7ce1d": {
      "model_module": "jupyter-js-widgets",
      "model_module_version": "~2.1.4",
      "model_name": "ProgressStyleModel",
      "state": {
       "_model_module_version": "~2.1.4",
       "_view_module_version": "~2.1.4"
      }
     },
     "d26237b38f7d4c16b53ae480de1e1850": {
      "model_module": "jupyter-js-widgets",
      "model_module_version": "~2.1.4",
      "model_name": "ProgressStyleModel",
      "state": {
       "_model_module_version": "~2.1.4",
       "_view_module_version": "~2.1.4"
      }
     },
     "d2b630f998f543f581caf1d7de1768d9": {
      "model_module": "jupyter-js-widgets",
      "model_module_version": "~2.1.4",
      "model_name": "LayoutModel",
      "state": {
       "_model_module_version": "~2.1.4",
       "_view_module_version": "~2.1.4"
      }
     },
     "d4164aa4e2ac46aeb7125b565a49a3fc": {
      "model_module": "jupyter-js-widgets",
      "model_module_version": "~2.1.4",
      "model_name": "ProgressModel",
      "state": {
       "_model_module_version": "~2.1.4",
       "_view_module_version": "~2.1.4",
       "bar_style": "success",
       "layout": "IPY_MODEL_77770949e23e41e29f5955db4885bb5c",
       "max": 1,
       "style": "IPY_MODEL_78b87b0c2cce4087ba33ad9ee661f5e2",
       "value": 1
      }
     },
     "d4881c43614c4d659d7551bd8fd09027": {
      "model_module": "jupyter-js-widgets",
      "model_module_version": "~2.1.4",
      "model_name": "LayoutModel",
      "state": {
       "_model_module_version": "~2.1.4",
       "_view_module_version": "~2.1.4"
      }
     },
     "d5241bfceb064ae18c2ef4f834c626e4": {
      "model_module": "jupyter-js-widgets",
      "model_module_version": "~2.1.4",
      "model_name": "LayoutModel",
      "state": {
       "_model_module_version": "~2.1.4",
       "_view_module_version": "~2.1.4"
      }
     },
     "d5fe1551f91d431ab379e650eb3ea377": {
      "model_module": "jupyter-js-widgets",
      "model_module_version": "~2.1.4",
      "model_name": "LayoutModel",
      "state": {
       "_model_module_version": "~2.1.4",
       "_view_module_version": "~2.1.4"
      }
     },
     "d66df04a56504dd691189eb6c6164d8e": {
      "model_module": "jupyter-js-widgets",
      "model_module_version": "~2.1.4",
      "model_name": "LayoutModel",
      "state": {
       "_model_module_version": "~2.1.4",
       "_view_module_version": "~2.1.4"
      }
     },
     "d741c50c35174156941d2e8dfb0f4043": {
      "model_module": "jupyter-js-widgets",
      "model_module_version": "~2.1.4",
      "model_name": "LayoutModel",
      "state": {
       "_model_module_version": "~2.1.4",
       "_view_module_version": "~2.1.4"
      }
     },
     "d7c329cae7bc43789a9e40b52f65d3c7": {
      "model_module": "jupyter-js-widgets",
      "model_module_version": "~2.1.4",
      "model_name": "HBoxModel",
      "state": {
       "_model_module_version": "~2.1.4",
       "_view_module_version": "~2.1.4",
       "children": [
        "IPY_MODEL_da0d84363e804331bd507fedd1d62d89",
        "IPY_MODEL_0043c69f098744f79fd08c870316561e"
       ],
       "layout": "IPY_MODEL_887a8600a69a48d396accc8afd5219c3"
      }
     },
     "d7e69034b0b7456392936a86fcd779d1": {
      "model_module": "jupyter-js-widgets",
      "model_module_version": "~2.1.4",
      "model_name": "HTMLModel",
      "state": {
       "_model_module_version": "~2.1.4",
       "_view_module_version": "~2.1.4",
       "layout": "IPY_MODEL_63e1c9260bb249139efa0913fb580f7e",
       "value": "100% 1/1 [00:09&lt;00:00,  9.80s/it]"
      }
     },
     "d7f9afde26804e97b350b155b9a596c7": {
      "model_module": "jupyter-js-widgets",
      "model_module_version": "~2.1.4",
      "model_name": "ProgressModel",
      "state": {
       "_model_module_version": "~2.1.4",
       "_view_module_version": "~2.1.4",
       "bar_style": "success",
       "layout": "IPY_MODEL_5237fdde27d241389be8cb6f2d56c618",
       "max": 1,
       "style": "IPY_MODEL_1e17dd844de8484b8524f4cfde7498d8",
       "value": 1
      }
     },
     "d83df1105310412e8b5fac141a0be53b": {
      "model_module": "jupyter-js-widgets",
      "model_module_version": "~2.1.4",
      "model_name": "LayoutModel",
      "state": {
       "_model_module_version": "~2.1.4",
       "_view_module_version": "~2.1.4"
      }
     },
     "d84cc12b98f9431a8c481aeab1444de5": {
      "model_module": "jupyter-js-widgets",
      "model_module_version": "~2.1.4",
      "model_name": "HTMLModel",
      "state": {
       "_model_module_version": "~2.1.4",
       "_view_module_version": "~2.1.4",
       "layout": "IPY_MODEL_b9b14b01629e4f5a83e2ec32976d7054",
       "value": "100% 1/1 [00:10&lt;00:00, 10.30s/it]"
      }
     },
     "d87f298d24f14a7da73f5ccc36a5ed97": {
      "model_module": "jupyter-js-widgets",
      "model_module_version": "~2.1.4",
      "model_name": "HBoxModel",
      "state": {
       "_model_module_version": "~2.1.4",
       "_view_module_version": "~2.1.4",
       "children": [
        "IPY_MODEL_f85c57027eed4d2cb2c6e8a5bae19f31",
        "IPY_MODEL_c1df12fb720d42c58c0cec9a06daa59e"
       ],
       "layout": "IPY_MODEL_66b9a30dd1654ea98f40a86b6c437e60"
      }
     },
     "d8a60e7ae5de435e8ba0bf1de1528c2d": {
      "model_module": "jupyter-js-widgets",
      "model_module_version": "~2.1.4",
      "model_name": "ProgressStyleModel",
      "state": {
       "_model_module_version": "~2.1.4",
       "_view_module_version": "~2.1.4"
      }
     },
     "da0d84363e804331bd507fedd1d62d89": {
      "model_module": "jupyter-js-widgets",
      "model_module_version": "~2.1.4",
      "model_name": "ProgressModel",
      "state": {
       "_model_module_version": "~2.1.4",
       "_view_module_version": "~2.1.4",
       "bar_style": "success",
       "layout": "IPY_MODEL_aa344441ae8f4abc9161b2626514dcb7",
       "max": 1,
       "style": "IPY_MODEL_0d2b5746b86a423e856d9915ab9f38eb",
       "value": 1
      }
     },
     "da2d3820f8de44449a6bec51ef5dea84": {
      "model_module": "jupyter-js-widgets",
      "model_module_version": "~2.1.4",
      "model_name": "LayoutModel",
      "state": {
       "_model_module_version": "~2.1.4",
       "_view_module_version": "~2.1.4"
      }
     },
     "da306f9e64054d1a8a68569c895e51ce": {
      "model_module": "jupyter-js-widgets",
      "model_module_version": "~2.1.4",
      "model_name": "ProgressStyleModel",
      "state": {
       "_model_module_version": "~2.1.4",
       "_view_module_version": "~2.1.4"
      }
     },
     "daf85755ffd242b5acee7cb403198f20": {
      "model_module": "jupyter-js-widgets",
      "model_module_version": "~2.1.4",
      "model_name": "HBoxModel",
      "state": {
       "_model_module_version": "~2.1.4",
       "_view_module_version": "~2.1.4",
       "children": [
        "IPY_MODEL_aaf74735befa48468be277f6842db4f3",
        "IPY_MODEL_8c87463b1fcd44d38dd1f9c90060e003"
       ],
       "layout": "IPY_MODEL_1ee6adcaadb441788de1fe8bdc43d2d1"
      }
     },
     "dbdf825309c54b9e8890515dd6fd4b57": {
      "model_module": "jupyter-js-widgets",
      "model_module_version": "~2.1.4",
      "model_name": "HTMLModel",
      "state": {
       "_model_module_version": "~2.1.4",
       "_view_module_version": "~2.1.4",
       "layout": "IPY_MODEL_6cbb568498fe473e90c8fdcf8288c2ad",
       "value": "100% 1/1 [00:09&lt;00:00,  9.88s/it]"
      }
     },
     "dddf975ad981443ba103611aa70af7b0": {
      "model_module": "jupyter-js-widgets",
      "model_module_version": "~2.1.4",
      "model_name": "LayoutModel",
      "state": {
       "_model_module_version": "~2.1.4",
       "_view_module_version": "~2.1.4"
      }
     },
     "de0a3e3b6ab34d1b8131d8840a5d1448": {
      "model_module": "jupyter-js-widgets",
      "model_module_version": "~2.1.4",
      "model_name": "LayoutModel",
      "state": {
       "_model_module_version": "~2.1.4",
       "_view_module_version": "~2.1.4"
      }
     },
     "de457a94d6084681a8ab41481c3e9666": {
      "model_module": "jupyter-js-widgets",
      "model_module_version": "~2.1.4",
      "model_name": "HBoxModel",
      "state": {
       "_model_module_version": "~2.1.4",
       "_view_module_version": "~2.1.4",
       "children": [
        "IPY_MODEL_48d5a7bc85be41e38a3ea14423cdd061",
        "IPY_MODEL_9db00ef77fce4d8cbfc17261b09d7560"
       ],
       "layout": "IPY_MODEL_a7aa934a4d0747deb9f05b0569e7bab1"
      }
     },
     "de56b3c17b5d453999670dfb64253268": {
      "model_module": "jupyter-js-widgets",
      "model_module_version": "~2.1.4",
      "model_name": "ProgressModel",
      "state": {
       "_model_module_version": "~2.1.4",
       "_view_module_version": "~2.1.4",
       "bar_style": "danger",
       "layout": "IPY_MODEL_e8d6fda573d7449cbaa68754457ef71e",
       "max": 80,
       "style": "IPY_MODEL_782bc4f41a624b97ac8ae20b57421a2f",
       "value": 61
      }
     },
     "df8ee12ff6004d4e9be409ddb2ddb798": {
      "model_module": "jupyter-js-widgets",
      "model_module_version": "~2.1.4",
      "model_name": "HTMLModel",
      "state": {
       "_model_module_version": "~2.1.4",
       "_view_module_version": "~2.1.4",
       "layout": "IPY_MODEL_2ac04671dcbf4716b8c538bc9acd095d",
       "value": "100% 1/1 [00:09&lt;00:00,  9.87s/it]"
      }
     },
     "dfc4d96b7bb74a1ba42e545cc98c247a": {
      "model_module": "jupyter-js-widgets",
      "model_module_version": "~2.1.4",
      "model_name": "LayoutModel",
      "state": {
       "_model_module_version": "~2.1.4",
       "_view_module_version": "~2.1.4"
      }
     },
     "e1996cfc76be4362bfb8ac7ee7ef0869": {
      "model_module": "jupyter-js-widgets",
      "model_module_version": "~2.1.4",
      "model_name": "LayoutModel",
      "state": {
       "_model_module_version": "~2.1.4",
       "_view_module_version": "~2.1.4"
      }
     },
     "e27e9c56ae7a486082f113a9f2d443ee": {
      "model_module": "jupyter-js-widgets",
      "model_module_version": "~2.1.4",
      "model_name": "HBoxModel",
      "state": {
       "_model_module_version": "~2.1.4",
       "_view_module_version": "~2.1.4",
       "children": [
        "IPY_MODEL_cf20ff9ebbff485bae3a0b6136666c42",
        "IPY_MODEL_836f312ccfa64f24bbae607c52692f19"
       ],
       "layout": "IPY_MODEL_4c8f560e017a43f4890377959e31faf7"
      }
     },
     "e323b23ac7564a66866b92b194fe739a": {
      "model_module": "jupyter-js-widgets",
      "model_module_version": "~2.1.4",
      "model_name": "HBoxModel",
      "state": {
       "_model_module_version": "~2.1.4",
       "_view_module_version": "~2.1.4",
       "children": [
        "IPY_MODEL_36a21646873d4d729ae9b6f1dbd238ea",
        "IPY_MODEL_487fe9ec42b74571a917dc0dd391858d"
       ],
       "layout": "IPY_MODEL_cc9cd7560887461b86b74e01e3b03a9c"
      }
     },
     "e348437155654754998adea652b5768b": {
      "model_module": "jupyter-js-widgets",
      "model_module_version": "~2.1.4",
      "model_name": "HBoxModel",
      "state": {
       "_model_module_version": "~2.1.4",
       "_view_module_version": "~2.1.4",
       "children": [
        "IPY_MODEL_3da8c9c131f2401297f5680256a3a073",
        "IPY_MODEL_5b13ab8673cf4fbeb867050e33bb0d15"
       ],
       "layout": "IPY_MODEL_d2b630f998f543f581caf1d7de1768d9"
      }
     },
     "e54f38cae21c407a876362e3fa6d760a": {
      "model_module": "jupyter-js-widgets",
      "model_module_version": "~2.1.4",
      "model_name": "ProgressModel",
      "state": {
       "_model_module_version": "~2.1.4",
       "_view_module_version": "~2.1.4",
       "bar_style": "success",
       "layout": "IPY_MODEL_f20fb19de7874888814e4710fcaeb3ee",
       "max": 1,
       "style": "IPY_MODEL_f8db2564bc74491e84c3deee7986d795",
       "value": 1
      }
     },
     "e64080c18e6240cab6743150e1eac4a2": {
      "model_module": "jupyter-js-widgets",
      "model_module_version": "~2.1.4",
      "model_name": "LayoutModel",
      "state": {
       "_model_module_version": "~2.1.4",
       "_view_module_version": "~2.1.4"
      }
     },
     "e7a390520b7c48289c994bffba154ad8": {
      "model_module": "jupyter-js-widgets",
      "model_module_version": "~2.1.4",
      "model_name": "ProgressStyleModel",
      "state": {
       "_model_module_version": "~2.1.4",
       "_view_module_version": "~2.1.4"
      }
     },
     "e7f2c10bc4a240c0a54b879a91af863c": {
      "model_module": "jupyter-js-widgets",
      "model_module_version": "~2.1.4",
      "model_name": "LayoutModel",
      "state": {
       "_model_module_version": "~2.1.4",
       "_view_module_version": "~2.1.4"
      }
     },
     "e81985c19cf34d1f9cde214a253b79c6": {
      "model_module": "jupyter-js-widgets",
      "model_module_version": "~2.1.4",
      "model_name": "HBoxModel",
      "state": {
       "_model_module_version": "~2.1.4",
       "_view_module_version": "~2.1.4",
       "children": [
        "IPY_MODEL_a5ddc5004b664c7faa13c0a0f105cce0",
        "IPY_MODEL_9f8714d978e747ff9f07c6bf3a9da085"
       ],
       "layout": "IPY_MODEL_ac37aff8de83466a874d658b0f3e5dfd"
      }
     },
     "e8d6fda573d7449cbaa68754457ef71e": {
      "model_module": "jupyter-js-widgets",
      "model_module_version": "~2.1.4",
      "model_name": "LayoutModel",
      "state": {
       "_model_module_version": "~2.1.4",
       "_view_module_version": "~2.1.4"
      }
     },
     "e92b368d547f42589a2251edec3d0e3f": {
      "model_module": "jupyter-js-widgets",
      "model_module_version": "~2.1.4",
      "model_name": "LayoutModel",
      "state": {
       "_model_module_version": "~2.1.4",
       "_view_module_version": "~2.1.4"
      }
     },
     "e9a8730551f640988eaba5e54cffeaa7": {
      "model_module": "jupyter-js-widgets",
      "model_module_version": "~2.1.4",
      "model_name": "LayoutModel",
      "state": {
       "_model_module_version": "~2.1.4",
       "_view_module_version": "~2.1.4"
      }
     },
     "eb132e1e5692446eb5bcfbc08161508f": {
      "model_module": "jupyter-js-widgets",
      "model_module_version": "~2.1.4",
      "model_name": "HTMLModel",
      "state": {
       "_model_module_version": "~2.1.4",
       "_view_module_version": "~2.1.4",
       "layout": "IPY_MODEL_e1996cfc76be4362bfb8ac7ee7ef0869",
       "value": "100% 1/1 [00:10&lt;00:00, 10.28s/it]"
      }
     },
     "eb42153e4e9a4f618fee237eda0f9760": {
      "model_module": "jupyter-js-widgets",
      "model_module_version": "~2.1.4",
      "model_name": "LayoutModel",
      "state": {
       "_model_module_version": "~2.1.4",
       "_view_module_version": "~2.1.4"
      }
     },
     "eb931f7735854462a37a3866c537996a": {
      "model_module": "jupyter-js-widgets",
      "model_module_version": "~2.1.4",
      "model_name": "HTMLModel",
      "state": {
       "_model_module_version": "~2.1.4",
       "_view_module_version": "~2.1.4",
       "layout": "IPY_MODEL_00340058229747d7be2c8f7bbc56c15c",
       "value": "100% 1/1 [00:10&lt;00:00, 10.05s/it]"
      }
     },
     "ebc47fd78fd94fd28382d3bd722eea63": {
      "model_module": "jupyter-js-widgets",
      "model_module_version": "~2.1.4",
      "model_name": "LayoutModel",
      "state": {
       "_model_module_version": "~2.1.4",
       "_view_module_version": "~2.1.4"
      }
     },
     "ebc7ebbc95dd4af39989e02ca815db06": {
      "model_module": "jupyter-js-widgets",
      "model_module_version": "~2.1.4",
      "model_name": "HBoxModel",
      "state": {
       "_model_module_version": "~2.1.4",
       "_view_module_version": "~2.1.4",
       "children": [
        "IPY_MODEL_805285e2fcab4d138feec7d628d869dc",
        "IPY_MODEL_657f4dbfb76043b185e9db0ceea78fd6"
       ],
       "layout": "IPY_MODEL_e64080c18e6240cab6743150e1eac4a2"
      }
     },
     "ed0a56582e074f8fbaa5ee95ac6eaaef": {
      "model_module": "jupyter-js-widgets",
      "model_module_version": "~2.1.4",
      "model_name": "HTMLModel",
      "state": {
       "_model_module_version": "~2.1.4",
       "_view_module_version": "~2.1.4",
       "layout": "IPY_MODEL_8a64f6aac89d4cf588b870c53862345f",
       "value": "100% 1/1 [00:09&lt;00:00,  9.88s/it]"
      }
     },
     "ed495466639a46d6a97c14dc46d3d69e": {
      "model_module": "jupyter-js-widgets",
      "model_module_version": "~2.1.4",
      "model_name": "HBoxModel",
      "state": {
       "_model_module_version": "~2.1.4",
       "_view_module_version": "~2.1.4",
       "children": [
        "IPY_MODEL_06835dac61e44e93b1f5e8181a948690",
        "IPY_MODEL_b583e6de6388471a8ed49889093dc27e"
       ],
       "layout": "IPY_MODEL_aa7451093a8e4623a14110e804a1680c"
      }
     },
     "edd50031c9f647a5810b21431970c2ed": {
      "model_module": "jupyter-js-widgets",
      "model_module_version": "~2.1.4",
      "model_name": "LayoutModel",
      "state": {
       "_model_module_version": "~2.1.4",
       "_view_module_version": "~2.1.4"
      }
     },
     "ee7e3c94ef694fd59b987132d48e649e": {
      "model_module": "jupyter-js-widgets",
      "model_module_version": "~2.1.4",
      "model_name": "LayoutModel",
      "state": {
       "_model_module_version": "~2.1.4",
       "_view_module_version": "~2.1.4"
      }
     },
     "f04a2121185b4f018c073fa788c17339": {
      "model_module": "jupyter-js-widgets",
      "model_module_version": "~2.1.4",
      "model_name": "ProgressModel",
      "state": {
       "_model_module_version": "~2.1.4",
       "_view_module_version": "~2.1.4",
       "bar_style": "success",
       "layout": "IPY_MODEL_d4881c43614c4d659d7551bd8fd09027",
       "max": 1,
       "style": "IPY_MODEL_da306f9e64054d1a8a68569c895e51ce",
       "value": 1
      }
     },
     "f08a507ac3734d63b70fdb6b12e7ac71": {
      "model_module": "jupyter-js-widgets",
      "model_module_version": "~2.1.4",
      "model_name": "LayoutModel",
      "state": {
       "_model_module_version": "~2.1.4",
       "_view_module_version": "~2.1.4"
      }
     },
     "f0936cc0750c4df1872274adbd1f7b57": {
      "model_module": "jupyter-js-widgets",
      "model_module_version": "~2.1.4",
      "model_name": "LayoutModel",
      "state": {
       "_model_module_version": "~2.1.4",
       "_view_module_version": "~2.1.4"
      }
     },
     "f0a4bcb50d9a4f2892cd0b300f555e41": {
      "model_module": "jupyter-js-widgets",
      "model_module_version": "~2.1.4",
      "model_name": "LayoutModel",
      "state": {
       "_model_module_version": "~2.1.4",
       "_view_module_version": "~2.1.4"
      }
     },
     "f16a8efdaf46461eaa171c770ab1cdda": {
      "model_module": "jupyter-js-widgets",
      "model_module_version": "~2.1.4",
      "model_name": "ProgressStyleModel",
      "state": {
       "_model_module_version": "~2.1.4",
       "_view_module_version": "~2.1.4"
      }
     },
     "f16ab3c510d642d385d146b73deb15af": {
      "model_module": "jupyter-js-widgets",
      "model_module_version": "~2.1.4",
      "model_name": "ProgressModel",
      "state": {
       "_model_module_version": "~2.1.4",
       "_view_module_version": "~2.1.4",
       "bar_style": "success",
       "layout": "IPY_MODEL_0832f009e18a44e2aae0c20d5a289554",
       "max": 1,
       "style": "IPY_MODEL_59fe6198a1a94dbbad798bdf20963df7",
       "value": 1
      }
     },
     "f1b522b68acd4383845f0761c87d876e": {
      "model_module": "jupyter-js-widgets",
      "model_module_version": "~2.1.4",
      "model_name": "LayoutModel",
      "state": {
       "_model_module_version": "~2.1.4",
       "_view_module_version": "~2.1.4"
      }
     },
     "f20fb19de7874888814e4710fcaeb3ee": {
      "model_module": "jupyter-js-widgets",
      "model_module_version": "~2.1.4",
      "model_name": "LayoutModel",
      "state": {
       "_model_module_version": "~2.1.4",
       "_view_module_version": "~2.1.4"
      }
     },
     "f275be8d00fd4d07b4a938e72fbc0d9f": {
      "model_module": "jupyter-js-widgets",
      "model_module_version": "~2.1.4",
      "model_name": "HTMLModel",
      "state": {
       "_model_module_version": "~2.1.4",
       "_view_module_version": "~2.1.4",
       "layout": "IPY_MODEL_98b5b756a5c4497f9fbda47be700e1fe",
       "value": "100% 1/1 [00:10&lt;00:00, 10.29s/it]"
      }
     },
     "f2c03ac6c1634d2888889e50b850aba3": {
      "model_module": "jupyter-js-widgets",
      "model_module_version": "~2.1.4",
      "model_name": "LayoutModel",
      "state": {
       "_model_module_version": "~2.1.4",
       "_view_module_version": "~2.1.4"
      }
     },
     "f370c6b98ec84d97ad29da01cae76f58": {
      "model_module": "jupyter-js-widgets",
      "model_module_version": "~2.1.4",
      "model_name": "LayoutModel",
      "state": {
       "_model_module_version": "~2.1.4",
       "_view_module_version": "~2.1.4"
      }
     },
     "f3f05bc9421645bb92b4aa8ba37cd063": {
      "model_module": "jupyter-js-widgets",
      "model_module_version": "~2.1.4",
      "model_name": "LayoutModel",
      "state": {
       "_model_module_version": "~2.1.4",
       "_view_module_version": "~2.1.4"
      }
     },
     "f58f1812381840a1a978a372b391fdc5": {
      "model_module": "jupyter-js-widgets",
      "model_module_version": "~2.1.4",
      "model_name": "HTMLModel",
      "state": {
       "_model_module_version": "~2.1.4",
       "_view_module_version": "~2.1.4",
       "layout": "IPY_MODEL_10a1e4f7e57c4f289a5d4efcb98b7e2f",
       "value": "100% 1/1 [00:09&lt;00:00,  9.90s/it]"
      }
     },
     "f59cde3cb08748b7bb5b960f1c781f92": {
      "model_module": "jupyter-js-widgets",
      "model_module_version": "~2.1.4",
      "model_name": "HBoxModel",
      "state": {
       "_model_module_version": "~2.1.4",
       "_view_module_version": "~2.1.4",
       "children": [
        "IPY_MODEL_f16ab3c510d642d385d146b73deb15af",
        "IPY_MODEL_869c3c73b07b47b9af0a1889bcf88b80"
       ],
       "layout": "IPY_MODEL_f9b5e2b2e7d44c0db59f10b32e1c8fd6"
      }
     },
     "f5c76fc2e4424f3cb86476bfa6317762": {
      "model_module": "jupyter-js-widgets",
      "model_module_version": "~2.1.4",
      "model_name": "ProgressModel",
      "state": {
       "_model_module_version": "~2.1.4",
       "_view_module_version": "~2.1.4",
       "bar_style": "success",
       "layout": "IPY_MODEL_696777d5d14d4dbd96e3e6b94b7a6449",
       "max": 1,
       "style": "IPY_MODEL_403c6672a72b4db7bff925076c3cfc44",
       "value": 1
      }
     },
     "f654c4ffc8f145b6976f74019d1e9c1d": {
      "model_module": "jupyter-js-widgets",
      "model_module_version": "~2.1.4",
      "model_name": "LayoutModel",
      "state": {
       "_model_module_version": "~2.1.4",
       "_view_module_version": "~2.1.4"
      }
     },
     "f6c8ff909354446ca7c9a0134136ca87": {
      "model_module": "jupyter-js-widgets",
      "model_module_version": "~2.1.4",
      "model_name": "HTMLModel",
      "state": {
       "_model_module_version": "~2.1.4",
       "_view_module_version": "~2.1.4",
       "layout": "IPY_MODEL_5e2b9c32aee8471e840e70d2ed4b3dcc",
       "value": "100% 1/1 [00:09&lt;00:00,  9.87s/it]"
      }
     },
     "f756613474694b41a7fde51ff3514ada": {
      "model_module": "jupyter-js-widgets",
      "model_module_version": "~2.1.4",
      "model_name": "HBoxModel",
      "state": {
       "_model_module_version": "~2.1.4",
       "_view_module_version": "~2.1.4",
       "children": [
        "IPY_MODEL_574e0344e6b341fc88c286d33a34148b",
        "IPY_MODEL_f275be8d00fd4d07b4a938e72fbc0d9f"
       ],
       "layout": "IPY_MODEL_6169a42682294b09bdaa38d347e6ce35"
      }
     },
     "f7be6631921e480bb6cfdf5de6788d23": {
      "model_module": "jupyter-js-widgets",
      "model_module_version": "~2.1.4",
      "model_name": "LayoutModel",
      "state": {
       "_model_module_version": "~2.1.4",
       "_view_module_version": "~2.1.4"
      }
     },
     "f852f32eef44469f998431f9e1cdb971": {
      "model_module": "jupyter-js-widgets",
      "model_module_version": "~2.1.4",
      "model_name": "LayoutModel",
      "state": {
       "_model_module_version": "~2.1.4",
       "_view_module_version": "~2.1.4"
      }
     },
     "f85bfc9cbec04fc89c45b3d8afa1cd77": {
      "model_module": "jupyter-js-widgets",
      "model_module_version": "~2.1.4",
      "model_name": "LayoutModel",
      "state": {
       "_model_module_version": "~2.1.4",
       "_view_module_version": "~2.1.4"
      }
     },
     "f85c57027eed4d2cb2c6e8a5bae19f31": {
      "model_module": "jupyter-js-widgets",
      "model_module_version": "~2.1.4",
      "model_name": "ProgressModel",
      "state": {
       "_model_module_version": "~2.1.4",
       "_view_module_version": "~2.1.4",
       "bar_style": "success",
       "layout": "IPY_MODEL_f7be6631921e480bb6cfdf5de6788d23",
       "max": 1,
       "style": "IPY_MODEL_a04446d121624ddea50521e2728e3811",
       "value": 1
      }
     },
     "f8b1a297106345d78b35c823d65ff067": {
      "model_module": "jupyter-js-widgets",
      "model_module_version": "~2.1.4",
      "model_name": "ProgressStyleModel",
      "state": {
       "_model_module_version": "~2.1.4",
       "_view_module_version": "~2.1.4"
      }
     },
     "f8db2564bc74491e84c3deee7986d795": {
      "model_module": "jupyter-js-widgets",
      "model_module_version": "~2.1.4",
      "model_name": "ProgressStyleModel",
      "state": {
       "_model_module_version": "~2.1.4",
       "_view_module_version": "~2.1.4"
      }
     },
     "f9b5e2b2e7d44c0db59f10b32e1c8fd6": {
      "model_module": "jupyter-js-widgets",
      "model_module_version": "~2.1.4",
      "model_name": "LayoutModel",
      "state": {
       "_model_module_version": "~2.1.4",
       "_view_module_version": "~2.1.4"
      }
     },
     "f9c6d53c4a144fd3b9d94337fb7902b1": {
      "model_module": "jupyter-js-widgets",
      "model_module_version": "~2.1.4",
      "model_name": "ProgressModel",
      "state": {
       "_model_module_version": "~2.1.4",
       "_view_module_version": "~2.1.4",
       "bar_style": "success",
       "layout": "IPY_MODEL_c7cd9f93399a4ccd8292f131fd33e749",
       "max": 1,
       "style": "IPY_MODEL_31a79da9a3b44d97ab2afa21d5a42941",
       "value": 1
      }
     },
     "fb801b21ae59468786b34966f99bf5e6": {
      "model_module": "jupyter-js-widgets",
      "model_module_version": "~2.1.4",
      "model_name": "LayoutModel",
      "state": {
       "_model_module_version": "~2.1.4",
       "_view_module_version": "~2.1.4"
      }
     },
     "fd263c14fb13490ebb78d9bd0e55f133": {
      "model_module": "jupyter-js-widgets",
      "model_module_version": "~2.1.4",
      "model_name": "LayoutModel",
      "state": {
       "_model_module_version": "~2.1.4",
       "_view_module_version": "~2.1.4"
      }
     },
     "fd9387fe6a0c4ceaa1924d9cf926f40e": {
      "model_module": "jupyter-js-widgets",
      "model_module_version": "~2.1.4",
      "model_name": "ProgressStyleModel",
      "state": {
       "_model_module_version": "~2.1.4",
       "_view_module_version": "~2.1.4"
      }
     },
     "fde923f951fb4030b04410602e94094f": {
      "model_module": "jupyter-js-widgets",
      "model_module_version": "~2.1.4",
      "model_name": "LayoutModel",
      "state": {
       "_model_module_version": "~2.1.4",
       "_view_module_version": "~2.1.4"
      }
     },
     "fe462d5e872846008583a47a6e66e180": {
      "model_module": "jupyter-js-widgets",
      "model_module_version": "~2.1.4",
      "model_name": "HBoxModel",
      "state": {
       "_model_module_version": "~2.1.4",
       "_view_module_version": "~2.1.4",
       "children": [
        "IPY_MODEL_14c5061d80b149d58474f146d6f30f30",
        "IPY_MODEL_4ea67cc5b5a6453788bab481d2114d7f"
       ],
       "layout": "IPY_MODEL_5e8bff8625e048c4af0833648b1d1e52"
      }
     },
     "ff8b47444c194116b7e690040697e262": {
      "model_module": "jupyter-js-widgets",
      "model_module_version": "~2.1.4",
      "model_name": "HTMLModel",
      "state": {
       "_model_module_version": "~2.1.4",
       "_view_module_version": "~2.1.4",
       "layout": "IPY_MODEL_4a42e03484904a91ae7833595cd1f65b",
       "value": "100% 1/1 [00:10&lt;00:00, 10.00s/it]"
      }
     },
     "ff9a9351108f4df899d191be96903693": {
      "model_module": "jupyter-js-widgets",
      "model_module_version": "~2.1.4",
      "model_name": "HBoxModel",
      "state": {
       "_model_module_version": "~2.1.4",
       "_view_module_version": "~2.1.4",
       "children": [
        "IPY_MODEL_420c11fbcb3b43459aa0b3c2dfa50165",
        "IPY_MODEL_cebd02d4f0744e91ae54b2bfb2504c19"
       ],
       "layout": "IPY_MODEL_fde923f951fb4030b04410602e94094f"
      }
     },
     "ff9d1ddb1f634bd0966ca512f38edeb8": {
      "model_module": "jupyter-js-widgets",
      "model_module_version": "~2.1.4",
      "model_name": "HBoxModel",
      "state": {
       "_model_module_version": "~2.1.4",
       "_view_module_version": "~2.1.4",
       "children": [
        "IPY_MODEL_cdd71925bef34f65abd10a37df0fb5ba",
        "IPY_MODEL_85bd5b2d5e82475199172479ef2fb2b3"
       ],
       "layout": "IPY_MODEL_f852f32eef44469f998431f9e1cdb971"
      }
     },
     "ffcbb8ff6b3041538ba0554842a149a7": {
      "model_module": "jupyter-js-widgets",
      "model_module_version": "~2.1.4",
      "model_name": "HTMLModel",
      "state": {
       "_model_module_version": "~2.1.4",
       "_view_module_version": "~2.1.4",
       "layout": "IPY_MODEL_de0a3e3b6ab34d1b8131d8840a5d1448",
       "value": " 76% 61/80 [10:14&lt;03:11, 10.07s/it]"
      }
     }
    },
    "version_major": 1,
    "version_minor": 0
   }
  }
 },
 "nbformat": 4,
 "nbformat_minor": 2
}
